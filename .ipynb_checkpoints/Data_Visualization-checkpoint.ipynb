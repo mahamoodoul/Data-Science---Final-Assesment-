{
 "cells": [
  {
   "cell_type": "code",
   "execution_count": 109,
   "metadata": {},
   "outputs": [],
   "source": [
    "import pandas as pd #pd is the alias\n",
    "import numpy as np \n",
    "import datetime\n",
    "from os import listdir \n",
    "from os.path import isfile, join\n",
    "import glob \n",
    "import re\n",
    "import plotly.graph_objects as go\n",
    "import matplotlib.pyplot as plt # Use for plotting. \"plt\" is an alias for calling matplotlib.pyplot\n",
    "from matplotlib import style # to set the grid style \n",
    "import matplotlib.animation as animation\n",
    "%matplotlib inline"
   ]
  },
  {
   "cell_type": "code",
   "execution_count": 110,
   "metadata": {},
   "outputs": [
    {
     "data": {
      "text/html": [
       "<div>\n",
       "<style scoped>\n",
       "    .dataframe tbody tr th:only-of-type {\n",
       "        vertical-align: middle;\n",
       "    }\n",
       "\n",
       "    .dataframe tbody tr th {\n",
       "        vertical-align: top;\n",
       "    }\n",
       "\n",
       "    .dataframe thead th {\n",
       "        text-align: right;\n",
       "    }\n",
       "</style>\n",
       "<table border=\"1\" class=\"dataframe\">\n",
       "  <thead>\n",
       "    <tr style=\"text-align: right;\">\n",
       "      <th></th>\n",
       "      <th>Unnamed: 0</th>\n",
       "      <th>Timestamp</th>\n",
       "      <th>Name</th>\n",
       "      <th>Contact</th>\n",
       "      <th>Email</th>\n",
       "      <th>College</th>\n",
       "      <th>Department</th>\n",
       "      <th>HasLaptop</th>\n",
       "      <th>Source</th>\n",
       "      <th>Country</th>\n",
       "    </tr>\n",
       "  </thead>\n",
       "  <tbody>\n",
       "    <tr>\n",
       "      <th>0</th>\n",
       "      <td>0</td>\n",
       "      <td>8/24/2020 17:01:39</td>\n",
       "      <td>A.S.M. Raquibul Hasan</td>\n",
       "      <td>01722577922</td>\n",
       "      <td>raquibul.nsu@gmail.com</td>\n",
       "      <td>United International University</td>\n",
       "      <td>others</td>\n",
       "      <td>Yes</td>\n",
       "      <td>Facebook</td>\n",
       "      <td>Bangladesh</td>\n",
       "    </tr>\n",
       "    <tr>\n",
       "      <th>1</th>\n",
       "      <td>1</td>\n",
       "      <td>8/24/2020 10:08:54</td>\n",
       "      <td>Abdullah</td>\n",
       "      <td>NaN</td>\n",
       "      <td>sharif3abdullah@gmail.com</td>\n",
       "      <td>IIT</td>\n",
       "      <td>Engineering</td>\n",
       "      <td>NaN</td>\n",
       "      <td>NaN</td>\n",
       "      <td>Bangladesh</td>\n",
       "    </tr>\n",
       "    <tr>\n",
       "      <th>2</th>\n",
       "      <td>2</td>\n",
       "      <td>8/24/2020 9:20:28</td>\n",
       "      <td>Abdullah Bin Murad</td>\n",
       "      <td>01552443554</td>\n",
       "      <td>abmrifat54@gmail.com</td>\n",
       "      <td>Shahjalal University of Science and Technology</td>\n",
       "      <td>Engineering</td>\n",
       "      <td>Yes</td>\n",
       "      <td>NaN</td>\n",
       "      <td>Bangladesh</td>\n",
       "    </tr>\n",
       "    <tr>\n",
       "      <th>3</th>\n",
       "      <td>3</td>\n",
       "      <td>7/28/2020 12:16:30</td>\n",
       "      <td>Abhijoy Mukherjee</td>\n",
       "      <td>7003206060</td>\n",
       "      <td>abhijoymukherjee01@gmail.com</td>\n",
       "      <td>Asutosh College</td>\n",
       "      <td>Statistics</td>\n",
       "      <td>Yes</td>\n",
       "      <td>Friend</td>\n",
       "      <td>India</td>\n",
       "    </tr>\n",
       "    <tr>\n",
       "      <th>4</th>\n",
       "      <td>4</td>\n",
       "      <td>7/10/2020 13:56:14</td>\n",
       "      <td>Abhipreeti Acharjee</td>\n",
       "      <td>8274839744</td>\n",
       "      <td>deepamandal007@gmail.com</td>\n",
       "      <td>DEPARTMENT OF PURE MATHEMATICS, UNIVERSITY OF ...</td>\n",
       "      <td>PURE MATHEMATICS</td>\n",
       "      <td>Yes</td>\n",
       "      <td>NaN</td>\n",
       "      <td>India</td>\n",
       "    </tr>\n",
       "    <tr>\n",
       "      <th>...</th>\n",
       "      <td>...</td>\n",
       "      <td>...</td>\n",
       "      <td>...</td>\n",
       "      <td>...</td>\n",
       "      <td>...</td>\n",
       "      <td>...</td>\n",
       "      <td>...</td>\n",
       "      <td>...</td>\n",
       "      <td>...</td>\n",
       "      <td>...</td>\n",
       "    </tr>\n",
       "    <tr>\n",
       "      <th>963</th>\n",
       "      <td>963</td>\n",
       "      <td>1/22/2021 22:06:24</td>\n",
       "      <td>Ramanish Banerjee</td>\n",
       "      <td>8017179702</td>\n",
       "      <td>banerjeeramanish@gmail.com</td>\n",
       "      <td>MAULANA AZAD COLLEGE</td>\n",
       "      <td>Honors (BSC/MSC)</td>\n",
       "      <td>Yes</td>\n",
       "      <td>NaN</td>\n",
       "      <td>NaN</td>\n",
       "    </tr>\n",
       "    <tr>\n",
       "      <th>964</th>\n",
       "      <td>964</td>\n",
       "      <td>1/22/2021 22:46:21</td>\n",
       "      <td>Jinia Banerjee</td>\n",
       "      <td>6289719175</td>\n",
       "      <td>jiniabanerjee9727@gmail.com</td>\n",
       "      <td>Maulona Azad College</td>\n",
       "      <td>Honors (BSC/MSC)</td>\n",
       "      <td>No</td>\n",
       "      <td>NaN</td>\n",
       "      <td>NaN</td>\n",
       "    </tr>\n",
       "    <tr>\n",
       "      <th>965</th>\n",
       "      <td>965</td>\n",
       "      <td>1/23/2021 10:57:08</td>\n",
       "      <td>Md Safiqul Islam</td>\n",
       "      <td>8250955315</td>\n",
       "      <td>safiqulislam6006@gmail.com</td>\n",
       "      <td>Maulana Azad College</td>\n",
       "      <td>Honors (BSC/MSC)</td>\n",
       "      <td>Yes</td>\n",
       "      <td>NaN</td>\n",
       "      <td>NaN</td>\n",
       "    </tr>\n",
       "    <tr>\n",
       "      <th>966</th>\n",
       "      <td>966</td>\n",
       "      <td>1/23/2021 12:27:32</td>\n",
       "      <td>Soumojit Chatterjee</td>\n",
       "      <td>8101726672</td>\n",
       "      <td>imsoumojit@yahoo.com</td>\n",
       "      <td>Maulana Azad College</td>\n",
       "      <td>Honors (BSC/MSC)</td>\n",
       "      <td>Yes</td>\n",
       "      <td>NaN</td>\n",
       "      <td>NaN</td>\n",
       "    </tr>\n",
       "    <tr>\n",
       "      <th>967</th>\n",
       "      <td>967</td>\n",
       "      <td>1/23/2021 17:37:35</td>\n",
       "      <td>Debanjan Bhattacharjee</td>\n",
       "      <td>6290909245</td>\n",
       "      <td>debanjanbhattacharjee2002@gmail.com</td>\n",
       "      <td>Maulana Azad College</td>\n",
       "      <td>Honors (BSC/MSC)</td>\n",
       "      <td>Yes</td>\n",
       "      <td>NaN</td>\n",
       "      <td>NaN</td>\n",
       "    </tr>\n",
       "  </tbody>\n",
       "</table>\n",
       "<p>968 rows × 10 columns</p>\n",
       "</div>"
      ],
      "text/plain": [
       "     Unnamed: 0           Timestamp                    Name      Contact  \\\n",
       "0             0  8/24/2020 17:01:39  A.S.M. Raquibul Hasan   01722577922   \n",
       "1             1  8/24/2020 10:08:54                Abdullah          NaN   \n",
       "2             2   8/24/2020 9:20:28    Abdullah Bin Murad    01552443554   \n",
       "3             3  7/28/2020 12:16:30       Abhijoy Mukherjee   7003206060   \n",
       "4             4  7/10/2020 13:56:14     Abhipreeti Acharjee   8274839744   \n",
       "..          ...                 ...                     ...          ...   \n",
       "963         963  1/22/2021 22:06:24       Ramanish Banerjee   8017179702   \n",
       "964         964  1/22/2021 22:46:21          Jinia Banerjee   6289719175   \n",
       "965         965  1/23/2021 10:57:08        Md Safiqul Islam   8250955315   \n",
       "966         966  1/23/2021 12:27:32     Soumojit Chatterjee   8101726672   \n",
       "967         967  1/23/2021 17:37:35  Debanjan Bhattacharjee   6290909245   \n",
       "\n",
       "                                   Email  \\\n",
       "0                 raquibul.nsu@gmail.com   \n",
       "1              sharif3abdullah@gmail.com   \n",
       "2                   abmrifat54@gmail.com   \n",
       "3           abhijoymukherjee01@gmail.com   \n",
       "4               deepamandal007@gmail.com   \n",
       "..                                   ...   \n",
       "963           banerjeeramanish@gmail.com   \n",
       "964          jiniabanerjee9727@gmail.com   \n",
       "965           safiqulislam6006@gmail.com   \n",
       "966                 imsoumojit@yahoo.com   \n",
       "967  debanjanbhattacharjee2002@gmail.com   \n",
       "\n",
       "                                               College        Department  \\\n",
       "0                     United International University             others   \n",
       "1                                                  IIT       Engineering   \n",
       "2       Shahjalal University of Science and Technology       Engineering   \n",
       "3                                      Asutosh College        Statistics   \n",
       "4    DEPARTMENT OF PURE MATHEMATICS, UNIVERSITY OF ...  PURE MATHEMATICS   \n",
       "..                                                 ...               ...   \n",
       "963                               MAULANA AZAD COLLEGE  Honors (BSC/MSC)   \n",
       "964                               Maulona Azad College  Honors (BSC/MSC)   \n",
       "965                               Maulana Azad College  Honors (BSC/MSC)   \n",
       "966                               Maulana Azad College  Honors (BSC/MSC)   \n",
       "967                               Maulana Azad College  Honors (BSC/MSC)   \n",
       "\n",
       "    HasLaptop     Source     Country  \n",
       "0         Yes  Facebook   Bangladesh  \n",
       "1         NaN        NaN  Bangladesh  \n",
       "2         Yes        NaN  Bangladesh  \n",
       "3         Yes     Friend       India  \n",
       "4         Yes        NaN       India  \n",
       "..        ...        ...         ...  \n",
       "963       Yes        NaN         NaN  \n",
       "964        No        NaN         NaN  \n",
       "965       Yes        NaN         NaN  \n",
       "966       Yes        NaN         NaN  \n",
       "967       Yes        NaN         NaN  \n",
       "\n",
       "[968 rows x 10 columns]"
      ]
     },
     "execution_count": 110,
     "metadata": {},
     "output_type": "execute_result"
    }
   ],
   "source": [
    "df = pd.read_csv(\"free_session_information.csv\")\n",
    "df"
   ]
  },
  {
   "cell_type": "code",
   "execution_count": 111,
   "metadata": {},
   "outputs": [],
   "source": [
    "#remove the Unnamed 0 column\n",
    "df.drop(['Unnamed: 0'], axis = 1, inplace = True)"
   ]
  },
  {
   "cell_type": "code",
   "execution_count": 112,
   "metadata": {},
   "outputs": [
    {
     "data": {
      "text/html": [
       "<div>\n",
       "<style scoped>\n",
       "    .dataframe tbody tr th:only-of-type {\n",
       "        vertical-align: middle;\n",
       "    }\n",
       "\n",
       "    .dataframe tbody tr th {\n",
       "        vertical-align: top;\n",
       "    }\n",
       "\n",
       "    .dataframe thead th {\n",
       "        text-align: right;\n",
       "    }\n",
       "</style>\n",
       "<table border=\"1\" class=\"dataframe\">\n",
       "  <thead>\n",
       "    <tr style=\"text-align: right;\">\n",
       "      <th></th>\n",
       "      <th>Timestamp</th>\n",
       "      <th>Name</th>\n",
       "      <th>Contact</th>\n",
       "      <th>Email</th>\n",
       "      <th>College</th>\n",
       "      <th>Department</th>\n",
       "      <th>HasLaptop</th>\n",
       "      <th>Source</th>\n",
       "      <th>Country</th>\n",
       "    </tr>\n",
       "  </thead>\n",
       "  <tbody>\n",
       "    <tr>\n",
       "      <th>0</th>\n",
       "      <td>8/24/2020 17:01:39</td>\n",
       "      <td>A.S.M. Raquibul Hasan</td>\n",
       "      <td>01722577922</td>\n",
       "      <td>raquibul.nsu@gmail.com</td>\n",
       "      <td>United International University</td>\n",
       "      <td>others</td>\n",
       "      <td>Yes</td>\n",
       "      <td>Facebook</td>\n",
       "      <td>Bangladesh</td>\n",
       "    </tr>\n",
       "    <tr>\n",
       "      <th>1</th>\n",
       "      <td>8/24/2020 10:08:54</td>\n",
       "      <td>Abdullah</td>\n",
       "      <td>NaN</td>\n",
       "      <td>sharif3abdullah@gmail.com</td>\n",
       "      <td>IIT</td>\n",
       "      <td>Engineering</td>\n",
       "      <td>NaN</td>\n",
       "      <td>NaN</td>\n",
       "      <td>Bangladesh</td>\n",
       "    </tr>\n",
       "    <tr>\n",
       "      <th>2</th>\n",
       "      <td>8/24/2020 9:20:28</td>\n",
       "      <td>Abdullah Bin Murad</td>\n",
       "      <td>01552443554</td>\n",
       "      <td>abmrifat54@gmail.com</td>\n",
       "      <td>Shahjalal University of Science and Technology</td>\n",
       "      <td>Engineering</td>\n",
       "      <td>Yes</td>\n",
       "      <td>NaN</td>\n",
       "      <td>Bangladesh</td>\n",
       "    </tr>\n",
       "    <tr>\n",
       "      <th>3</th>\n",
       "      <td>7/28/2020 12:16:30</td>\n",
       "      <td>Abhijoy Mukherjee</td>\n",
       "      <td>7003206060</td>\n",
       "      <td>abhijoymukherjee01@gmail.com</td>\n",
       "      <td>Asutosh College</td>\n",
       "      <td>Statistics</td>\n",
       "      <td>Yes</td>\n",
       "      <td>Friend</td>\n",
       "      <td>India</td>\n",
       "    </tr>\n",
       "    <tr>\n",
       "      <th>4</th>\n",
       "      <td>7/10/2020 13:56:14</td>\n",
       "      <td>Abhipreeti Acharjee</td>\n",
       "      <td>8274839744</td>\n",
       "      <td>deepamandal007@gmail.com</td>\n",
       "      <td>DEPARTMENT OF PURE MATHEMATICS, UNIVERSITY OF ...</td>\n",
       "      <td>PURE MATHEMATICS</td>\n",
       "      <td>Yes</td>\n",
       "      <td>NaN</td>\n",
       "      <td>India</td>\n",
       "    </tr>\n",
       "    <tr>\n",
       "      <th>...</th>\n",
       "      <td>...</td>\n",
       "      <td>...</td>\n",
       "      <td>...</td>\n",
       "      <td>...</td>\n",
       "      <td>...</td>\n",
       "      <td>...</td>\n",
       "      <td>...</td>\n",
       "      <td>...</td>\n",
       "      <td>...</td>\n",
       "    </tr>\n",
       "    <tr>\n",
       "      <th>963</th>\n",
       "      <td>1/22/2021 22:06:24</td>\n",
       "      <td>Ramanish Banerjee</td>\n",
       "      <td>8017179702</td>\n",
       "      <td>banerjeeramanish@gmail.com</td>\n",
       "      <td>MAULANA AZAD COLLEGE</td>\n",
       "      <td>Honors (BSC/MSC)</td>\n",
       "      <td>Yes</td>\n",
       "      <td>NaN</td>\n",
       "      <td>NaN</td>\n",
       "    </tr>\n",
       "    <tr>\n",
       "      <th>964</th>\n",
       "      <td>1/22/2021 22:46:21</td>\n",
       "      <td>Jinia Banerjee</td>\n",
       "      <td>6289719175</td>\n",
       "      <td>jiniabanerjee9727@gmail.com</td>\n",
       "      <td>Maulona Azad College</td>\n",
       "      <td>Honors (BSC/MSC)</td>\n",
       "      <td>No</td>\n",
       "      <td>NaN</td>\n",
       "      <td>NaN</td>\n",
       "    </tr>\n",
       "    <tr>\n",
       "      <th>965</th>\n",
       "      <td>1/23/2021 10:57:08</td>\n",
       "      <td>Md Safiqul Islam</td>\n",
       "      <td>8250955315</td>\n",
       "      <td>safiqulislam6006@gmail.com</td>\n",
       "      <td>Maulana Azad College</td>\n",
       "      <td>Honors (BSC/MSC)</td>\n",
       "      <td>Yes</td>\n",
       "      <td>NaN</td>\n",
       "      <td>NaN</td>\n",
       "    </tr>\n",
       "    <tr>\n",
       "      <th>966</th>\n",
       "      <td>1/23/2021 12:27:32</td>\n",
       "      <td>Soumojit Chatterjee</td>\n",
       "      <td>8101726672</td>\n",
       "      <td>imsoumojit@yahoo.com</td>\n",
       "      <td>Maulana Azad College</td>\n",
       "      <td>Honors (BSC/MSC)</td>\n",
       "      <td>Yes</td>\n",
       "      <td>NaN</td>\n",
       "      <td>NaN</td>\n",
       "    </tr>\n",
       "    <tr>\n",
       "      <th>967</th>\n",
       "      <td>1/23/2021 17:37:35</td>\n",
       "      <td>Debanjan Bhattacharjee</td>\n",
       "      <td>6290909245</td>\n",
       "      <td>debanjanbhattacharjee2002@gmail.com</td>\n",
       "      <td>Maulana Azad College</td>\n",
       "      <td>Honors (BSC/MSC)</td>\n",
       "      <td>Yes</td>\n",
       "      <td>NaN</td>\n",
       "      <td>NaN</td>\n",
       "    </tr>\n",
       "  </tbody>\n",
       "</table>\n",
       "<p>968 rows × 9 columns</p>\n",
       "</div>"
      ],
      "text/plain": [
       "              Timestamp                    Name      Contact  \\\n",
       "0    8/24/2020 17:01:39  A.S.M. Raquibul Hasan   01722577922   \n",
       "1    8/24/2020 10:08:54                Abdullah          NaN   \n",
       "2     8/24/2020 9:20:28    Abdullah Bin Murad    01552443554   \n",
       "3    7/28/2020 12:16:30       Abhijoy Mukherjee   7003206060   \n",
       "4    7/10/2020 13:56:14     Abhipreeti Acharjee   8274839744   \n",
       "..                  ...                     ...          ...   \n",
       "963  1/22/2021 22:06:24       Ramanish Banerjee   8017179702   \n",
       "964  1/22/2021 22:46:21          Jinia Banerjee   6289719175   \n",
       "965  1/23/2021 10:57:08        Md Safiqul Islam   8250955315   \n",
       "966  1/23/2021 12:27:32     Soumojit Chatterjee   8101726672   \n",
       "967  1/23/2021 17:37:35  Debanjan Bhattacharjee   6290909245   \n",
       "\n",
       "                                   Email  \\\n",
       "0                 raquibul.nsu@gmail.com   \n",
       "1              sharif3abdullah@gmail.com   \n",
       "2                   abmrifat54@gmail.com   \n",
       "3           abhijoymukherjee01@gmail.com   \n",
       "4               deepamandal007@gmail.com   \n",
       "..                                   ...   \n",
       "963           banerjeeramanish@gmail.com   \n",
       "964          jiniabanerjee9727@gmail.com   \n",
       "965           safiqulislam6006@gmail.com   \n",
       "966                 imsoumojit@yahoo.com   \n",
       "967  debanjanbhattacharjee2002@gmail.com   \n",
       "\n",
       "                                               College        Department  \\\n",
       "0                     United International University             others   \n",
       "1                                                  IIT       Engineering   \n",
       "2       Shahjalal University of Science and Technology       Engineering   \n",
       "3                                      Asutosh College        Statistics   \n",
       "4    DEPARTMENT OF PURE MATHEMATICS, UNIVERSITY OF ...  PURE MATHEMATICS   \n",
       "..                                                 ...               ...   \n",
       "963                               MAULANA AZAD COLLEGE  Honors (BSC/MSC)   \n",
       "964                               Maulona Azad College  Honors (BSC/MSC)   \n",
       "965                               Maulana Azad College  Honors (BSC/MSC)   \n",
       "966                               Maulana Azad College  Honors (BSC/MSC)   \n",
       "967                               Maulana Azad College  Honors (BSC/MSC)   \n",
       "\n",
       "    HasLaptop     Source     Country  \n",
       "0         Yes  Facebook   Bangladesh  \n",
       "1         NaN        NaN  Bangladesh  \n",
       "2         Yes        NaN  Bangladesh  \n",
       "3         Yes     Friend       India  \n",
       "4         Yes        NaN       India  \n",
       "..        ...        ...         ...  \n",
       "963       Yes        NaN         NaN  \n",
       "964        No        NaN         NaN  \n",
       "965       Yes        NaN         NaN  \n",
       "966       Yes        NaN         NaN  \n",
       "967       Yes        NaN         NaN  \n",
       "\n",
       "[968 rows x 9 columns]"
      ]
     },
     "execution_count": 112,
     "metadata": {},
     "output_type": "execute_result"
    }
   ],
   "source": [
    "#reset the index\n",
    "df.reset_index(drop=True)"
   ]
  },
  {
   "cell_type": "code",
   "execution_count": 114,
   "metadata": {},
   "outputs": [
    {
     "data": {
      "text/plain": [
       "Timestamp      20\n",
       "Name           21\n",
       "Contact        59\n",
       "Email          22\n",
       "College        28\n",
       "Department     35\n",
       "HasLaptop      28\n",
       "Source        536\n",
       "Country       492\n",
       "dtype: int64"
      ]
     },
     "execution_count": 114,
     "metadata": {},
     "output_type": "execute_result"
    }
   ],
   "source": [
    "#total null values sum\n",
    "df.isna().sum()"
   ]
  },
  {
   "cell_type": "code",
   "execution_count": 115,
   "metadata": {},
   "outputs": [
    {
     "data": {
      "text/plain": [
       "Index(['Timestamp', 'Name', 'Contact', 'Email', 'College', 'Department',\n",
       "       'HasLaptop', 'Source', 'Country'],\n",
       "      dtype='object')"
      ]
     },
     "execution_count": 115,
     "metadata": {},
     "output_type": "execute_result"
    }
   ],
   "source": [
    "#total columns\n",
    "df.columns"
   ]
  },
  {
   "cell_type": "code",
   "execution_count": 116,
   "metadata": {},
   "outputs": [
    {
     "data": {
      "text/plain": [
       "(968, 9)"
      ]
     },
     "execution_count": 116,
     "metadata": {},
     "output_type": "execute_result"
    }
   ],
   "source": [
    "df.shape"
   ]
  },
  {
   "cell_type": "markdown",
   "metadata": {},
   "source": [
    "# drop all the rows where all of the columns values are NaN"
   ]
  },
  {
   "cell_type": "code",
   "execution_count": 117,
   "metadata": {},
   "outputs": [],
   "source": [
    "# using dropna() function    \n",
    "df1 = df.dropna(how = 'all')"
   ]
  },
  {
   "cell_type": "code",
   "execution_count": 118,
   "metadata": {},
   "outputs": [
    {
     "data": {
      "text/plain": [
       "(948, 9)"
      ]
     },
     "execution_count": 118,
     "metadata": {},
     "output_type": "execute_result"
    }
   ],
   "source": [
    "df1.shape"
   ]
  },
  {
   "cell_type": "code",
   "execution_count": 119,
   "metadata": {},
   "outputs": [
    {
     "data": {
      "text/html": [
       "<div>\n",
       "<style scoped>\n",
       "    .dataframe tbody tr th:only-of-type {\n",
       "        vertical-align: middle;\n",
       "    }\n",
       "\n",
       "    .dataframe tbody tr th {\n",
       "        vertical-align: top;\n",
       "    }\n",
       "\n",
       "    .dataframe thead th {\n",
       "        text-align: right;\n",
       "    }\n",
       "</style>\n",
       "<table border=\"1\" class=\"dataframe\">\n",
       "  <thead>\n",
       "    <tr style=\"text-align: right;\">\n",
       "      <th></th>\n",
       "      <th>Timestamp</th>\n",
       "      <th>Name</th>\n",
       "      <th>Contact</th>\n",
       "      <th>Email</th>\n",
       "      <th>College</th>\n",
       "      <th>Department</th>\n",
       "      <th>HasLaptop</th>\n",
       "      <th>Source</th>\n",
       "      <th>Country</th>\n",
       "    </tr>\n",
       "  </thead>\n",
       "  <tbody>\n",
       "    <tr>\n",
       "      <th>0</th>\n",
       "      <td>8/24/2020 17:01:39</td>\n",
       "      <td>A.S.M. Raquibul Hasan</td>\n",
       "      <td>01722577922</td>\n",
       "      <td>raquibul.nsu@gmail.com</td>\n",
       "      <td>United International University</td>\n",
       "      <td>others</td>\n",
       "      <td>Yes</td>\n",
       "      <td>Facebook</td>\n",
       "      <td>Bangladesh</td>\n",
       "    </tr>\n",
       "    <tr>\n",
       "      <th>1</th>\n",
       "      <td>8/24/2020 10:08:54</td>\n",
       "      <td>Abdullah</td>\n",
       "      <td>NaN</td>\n",
       "      <td>sharif3abdullah@gmail.com</td>\n",
       "      <td>IIT</td>\n",
       "      <td>Engineering</td>\n",
       "      <td>NaN</td>\n",
       "      <td>NaN</td>\n",
       "      <td>Bangladesh</td>\n",
       "    </tr>\n",
       "    <tr>\n",
       "      <th>2</th>\n",
       "      <td>8/24/2020 9:20:28</td>\n",
       "      <td>Abdullah Bin Murad</td>\n",
       "      <td>01552443554</td>\n",
       "      <td>abmrifat54@gmail.com</td>\n",
       "      <td>Shahjalal University of Science and Technology</td>\n",
       "      <td>Engineering</td>\n",
       "      <td>Yes</td>\n",
       "      <td>NaN</td>\n",
       "      <td>Bangladesh</td>\n",
       "    </tr>\n",
       "    <tr>\n",
       "      <th>3</th>\n",
       "      <td>7/28/2020 12:16:30</td>\n",
       "      <td>Abhijoy Mukherjee</td>\n",
       "      <td>7003206060</td>\n",
       "      <td>abhijoymukherjee01@gmail.com</td>\n",
       "      <td>Asutosh College</td>\n",
       "      <td>Statistics</td>\n",
       "      <td>Yes</td>\n",
       "      <td>Friend</td>\n",
       "      <td>India</td>\n",
       "    </tr>\n",
       "    <tr>\n",
       "      <th>4</th>\n",
       "      <td>7/10/2020 13:56:14</td>\n",
       "      <td>Abhipreeti Acharjee</td>\n",
       "      <td>8274839744</td>\n",
       "      <td>deepamandal007@gmail.com</td>\n",
       "      <td>DEPARTMENT OF PURE MATHEMATICS, UNIVERSITY OF ...</td>\n",
       "      <td>PURE MATHEMATICS</td>\n",
       "      <td>Yes</td>\n",
       "      <td>NaN</td>\n",
       "      <td>India</td>\n",
       "    </tr>\n",
       "    <tr>\n",
       "      <th>...</th>\n",
       "      <td>...</td>\n",
       "      <td>...</td>\n",
       "      <td>...</td>\n",
       "      <td>...</td>\n",
       "      <td>...</td>\n",
       "      <td>...</td>\n",
       "      <td>...</td>\n",
       "      <td>...</td>\n",
       "      <td>...</td>\n",
       "    </tr>\n",
       "    <tr>\n",
       "      <th>943</th>\n",
       "      <td>1/22/2021 22:06:24</td>\n",
       "      <td>Ramanish Banerjee</td>\n",
       "      <td>8017179702</td>\n",
       "      <td>banerjeeramanish@gmail.com</td>\n",
       "      <td>MAULANA AZAD COLLEGE</td>\n",
       "      <td>Honors (BSC/MSC)</td>\n",
       "      <td>Yes</td>\n",
       "      <td>NaN</td>\n",
       "      <td>NaN</td>\n",
       "    </tr>\n",
       "    <tr>\n",
       "      <th>944</th>\n",
       "      <td>1/22/2021 22:46:21</td>\n",
       "      <td>Jinia Banerjee</td>\n",
       "      <td>6289719175</td>\n",
       "      <td>jiniabanerjee9727@gmail.com</td>\n",
       "      <td>Maulona Azad College</td>\n",
       "      <td>Honors (BSC/MSC)</td>\n",
       "      <td>No</td>\n",
       "      <td>NaN</td>\n",
       "      <td>NaN</td>\n",
       "    </tr>\n",
       "    <tr>\n",
       "      <th>945</th>\n",
       "      <td>1/23/2021 10:57:08</td>\n",
       "      <td>Md Safiqul Islam</td>\n",
       "      <td>8250955315</td>\n",
       "      <td>safiqulislam6006@gmail.com</td>\n",
       "      <td>Maulana Azad College</td>\n",
       "      <td>Honors (BSC/MSC)</td>\n",
       "      <td>Yes</td>\n",
       "      <td>NaN</td>\n",
       "      <td>NaN</td>\n",
       "    </tr>\n",
       "    <tr>\n",
       "      <th>946</th>\n",
       "      <td>1/23/2021 12:27:32</td>\n",
       "      <td>Soumojit Chatterjee</td>\n",
       "      <td>8101726672</td>\n",
       "      <td>imsoumojit@yahoo.com</td>\n",
       "      <td>Maulana Azad College</td>\n",
       "      <td>Honors (BSC/MSC)</td>\n",
       "      <td>Yes</td>\n",
       "      <td>NaN</td>\n",
       "      <td>NaN</td>\n",
       "    </tr>\n",
       "    <tr>\n",
       "      <th>947</th>\n",
       "      <td>1/23/2021 17:37:35</td>\n",
       "      <td>Debanjan Bhattacharjee</td>\n",
       "      <td>6290909245</td>\n",
       "      <td>debanjanbhattacharjee2002@gmail.com</td>\n",
       "      <td>Maulana Azad College</td>\n",
       "      <td>Honors (BSC/MSC)</td>\n",
       "      <td>Yes</td>\n",
       "      <td>NaN</td>\n",
       "      <td>NaN</td>\n",
       "    </tr>\n",
       "  </tbody>\n",
       "</table>\n",
       "<p>948 rows × 9 columns</p>\n",
       "</div>"
      ],
      "text/plain": [
       "              Timestamp                    Name      Contact  \\\n",
       "0    8/24/2020 17:01:39  A.S.M. Raquibul Hasan   01722577922   \n",
       "1    8/24/2020 10:08:54                Abdullah          NaN   \n",
       "2     8/24/2020 9:20:28    Abdullah Bin Murad    01552443554   \n",
       "3    7/28/2020 12:16:30       Abhijoy Mukherjee   7003206060   \n",
       "4    7/10/2020 13:56:14     Abhipreeti Acharjee   8274839744   \n",
       "..                  ...                     ...          ...   \n",
       "943  1/22/2021 22:06:24       Ramanish Banerjee   8017179702   \n",
       "944  1/22/2021 22:46:21          Jinia Banerjee   6289719175   \n",
       "945  1/23/2021 10:57:08        Md Safiqul Islam   8250955315   \n",
       "946  1/23/2021 12:27:32     Soumojit Chatterjee   8101726672   \n",
       "947  1/23/2021 17:37:35  Debanjan Bhattacharjee   6290909245   \n",
       "\n",
       "                                   Email  \\\n",
       "0                 raquibul.nsu@gmail.com   \n",
       "1              sharif3abdullah@gmail.com   \n",
       "2                   abmrifat54@gmail.com   \n",
       "3           abhijoymukherjee01@gmail.com   \n",
       "4               deepamandal007@gmail.com   \n",
       "..                                   ...   \n",
       "943           banerjeeramanish@gmail.com   \n",
       "944          jiniabanerjee9727@gmail.com   \n",
       "945           safiqulislam6006@gmail.com   \n",
       "946                 imsoumojit@yahoo.com   \n",
       "947  debanjanbhattacharjee2002@gmail.com   \n",
       "\n",
       "                                               College        Department  \\\n",
       "0                     United International University             others   \n",
       "1                                                  IIT       Engineering   \n",
       "2       Shahjalal University of Science and Technology       Engineering   \n",
       "3                                      Asutosh College        Statistics   \n",
       "4    DEPARTMENT OF PURE MATHEMATICS, UNIVERSITY OF ...  PURE MATHEMATICS   \n",
       "..                                                 ...               ...   \n",
       "943                               MAULANA AZAD COLLEGE  Honors (BSC/MSC)   \n",
       "944                               Maulona Azad College  Honors (BSC/MSC)   \n",
       "945                               Maulana Azad College  Honors (BSC/MSC)   \n",
       "946                               Maulana Azad College  Honors (BSC/MSC)   \n",
       "947                               Maulana Azad College  Honors (BSC/MSC)   \n",
       "\n",
       "    HasLaptop     Source     Country  \n",
       "0         Yes  Facebook   Bangladesh  \n",
       "1         NaN        NaN  Bangladesh  \n",
       "2         Yes        NaN  Bangladesh  \n",
       "3         Yes     Friend       India  \n",
       "4         Yes        NaN       India  \n",
       "..        ...        ...         ...  \n",
       "943       Yes        NaN         NaN  \n",
       "944        No        NaN         NaN  \n",
       "945       Yes        NaN         NaN  \n",
       "946       Yes        NaN         NaN  \n",
       "947       Yes        NaN         NaN  \n",
       "\n",
       "[948 rows x 9 columns]"
      ]
     },
     "execution_count": 119,
     "metadata": {},
     "output_type": "execute_result"
    }
   ],
   "source": [
    "df2 = df1.reset_index(drop=True)\n",
    "df2"
   ]
  },
  {
   "cell_type": "code",
   "execution_count": 120,
   "metadata": {},
   "outputs": [
    {
     "data": {
      "text/html": [
       "<div>\n",
       "<style scoped>\n",
       "    .dataframe tbody tr th:only-of-type {\n",
       "        vertical-align: middle;\n",
       "    }\n",
       "\n",
       "    .dataframe tbody tr th {\n",
       "        vertical-align: top;\n",
       "    }\n",
       "\n",
       "    .dataframe thead th {\n",
       "        text-align: right;\n",
       "    }\n",
       "</style>\n",
       "<table border=\"1\" class=\"dataframe\">\n",
       "  <thead>\n",
       "    <tr style=\"text-align: right;\">\n",
       "      <th></th>\n",
       "      <th>Timestamp</th>\n",
       "      <th>Name</th>\n",
       "      <th>Contact</th>\n",
       "      <th>Email</th>\n",
       "      <th>College</th>\n",
       "      <th>Department</th>\n",
       "      <th>HasLaptop</th>\n",
       "      <th>Source</th>\n",
       "      <th>Country</th>\n",
       "    </tr>\n",
       "  </thead>\n",
       "  <tbody>\n",
       "    <tr>\n",
       "      <th>850</th>\n",
       "      <td>Maulana Azad boot camp form 23th of jan onwars</td>\n",
       "      <td>NaN</td>\n",
       "      <td>NaN</td>\n",
       "      <td>NaN</td>\n",
       "      <td>NaN</td>\n",
       "      <td>NaN</td>\n",
       "      <td>NaN</td>\n",
       "      <td>NaN</td>\n",
       "      <td>NaN</td>\n",
       "    </tr>\n",
       "  </tbody>\n",
       "</table>\n",
       "</div>"
      ],
      "text/plain": [
       "                                           Timestamp Name Contact Email  \\\n",
       "850  Maulana Azad boot camp form 23th of jan onwars   NaN     NaN   NaN   \n",
       "\n",
       "    College Department HasLaptop Source Country  \n",
       "850     NaN        NaN       NaN    NaN     NaN  "
      ]
     },
     "execution_count": 120,
     "metadata": {},
     "output_type": "execute_result"
    }
   ],
   "source": [
    "df2[df2['Name'].isnull()]\n",
    "#this rows will not be usefull for use as here all of them are NaN values except Timestamp.\n",
    "#Another thing timestamp value also are not well formatted"
   ]
  },
  {
   "cell_type": "code",
   "execution_count": 121,
   "metadata": {},
   "outputs": [
    {
     "data": {
      "text/html": [
       "<div>\n",
       "<style scoped>\n",
       "    .dataframe tbody tr th:only-of-type {\n",
       "        vertical-align: middle;\n",
       "    }\n",
       "\n",
       "    .dataframe tbody tr th {\n",
       "        vertical-align: top;\n",
       "    }\n",
       "\n",
       "    .dataframe thead th {\n",
       "        text-align: right;\n",
       "    }\n",
       "</style>\n",
       "<table border=\"1\" class=\"dataframe\">\n",
       "  <thead>\n",
       "    <tr style=\"text-align: right;\">\n",
       "      <th></th>\n",
       "      <th>Timestamp</th>\n",
       "      <th>Name</th>\n",
       "      <th>Contact</th>\n",
       "      <th>Email</th>\n",
       "      <th>College</th>\n",
       "      <th>Department</th>\n",
       "      <th>HasLaptop</th>\n",
       "      <th>Source</th>\n",
       "      <th>Country</th>\n",
       "    </tr>\n",
       "  </thead>\n",
       "  <tbody>\n",
       "    <tr>\n",
       "      <th>0</th>\n",
       "      <td>8/24/2020 17:01:39</td>\n",
       "      <td>A.S.M. Raquibul Hasan</td>\n",
       "      <td>01722577922</td>\n",
       "      <td>raquibul.nsu@gmail.com</td>\n",
       "      <td>United International University</td>\n",
       "      <td>others</td>\n",
       "      <td>Yes</td>\n",
       "      <td>Facebook</td>\n",
       "      <td>Bangladesh</td>\n",
       "    </tr>\n",
       "    <tr>\n",
       "      <th>1</th>\n",
       "      <td>8/24/2020 10:08:54</td>\n",
       "      <td>Abdullah</td>\n",
       "      <td>NaN</td>\n",
       "      <td>sharif3abdullah@gmail.com</td>\n",
       "      <td>IIT</td>\n",
       "      <td>Engineering</td>\n",
       "      <td>NaN</td>\n",
       "      <td>NaN</td>\n",
       "      <td>Bangladesh</td>\n",
       "    </tr>\n",
       "    <tr>\n",
       "      <th>2</th>\n",
       "      <td>8/24/2020 9:20:28</td>\n",
       "      <td>Abdullah Bin Murad</td>\n",
       "      <td>01552443554</td>\n",
       "      <td>abmrifat54@gmail.com</td>\n",
       "      <td>Shahjalal University of Science and Technology</td>\n",
       "      <td>Engineering</td>\n",
       "      <td>Yes</td>\n",
       "      <td>NaN</td>\n",
       "      <td>Bangladesh</td>\n",
       "    </tr>\n",
       "    <tr>\n",
       "      <th>3</th>\n",
       "      <td>7/28/2020 12:16:30</td>\n",
       "      <td>Abhijoy Mukherjee</td>\n",
       "      <td>7003206060</td>\n",
       "      <td>abhijoymukherjee01@gmail.com</td>\n",
       "      <td>Asutosh College</td>\n",
       "      <td>Statistics</td>\n",
       "      <td>Yes</td>\n",
       "      <td>Friend</td>\n",
       "      <td>India</td>\n",
       "    </tr>\n",
       "    <tr>\n",
       "      <th>4</th>\n",
       "      <td>7/10/2020 13:56:14</td>\n",
       "      <td>Abhipreeti Acharjee</td>\n",
       "      <td>8274839744</td>\n",
       "      <td>deepamandal007@gmail.com</td>\n",
       "      <td>DEPARTMENT OF PURE MATHEMATICS, UNIVERSITY OF ...</td>\n",
       "      <td>PURE MATHEMATICS</td>\n",
       "      <td>Yes</td>\n",
       "      <td>NaN</td>\n",
       "      <td>India</td>\n",
       "    </tr>\n",
       "    <tr>\n",
       "      <th>...</th>\n",
       "      <td>...</td>\n",
       "      <td>...</td>\n",
       "      <td>...</td>\n",
       "      <td>...</td>\n",
       "      <td>...</td>\n",
       "      <td>...</td>\n",
       "      <td>...</td>\n",
       "      <td>...</td>\n",
       "      <td>...</td>\n",
       "    </tr>\n",
       "    <tr>\n",
       "      <th>943</th>\n",
       "      <td>1/22/2021 22:06:24</td>\n",
       "      <td>Ramanish Banerjee</td>\n",
       "      <td>8017179702</td>\n",
       "      <td>banerjeeramanish@gmail.com</td>\n",
       "      <td>MAULANA AZAD COLLEGE</td>\n",
       "      <td>Honors (BSC/MSC)</td>\n",
       "      <td>Yes</td>\n",
       "      <td>NaN</td>\n",
       "      <td>NaN</td>\n",
       "    </tr>\n",
       "    <tr>\n",
       "      <th>944</th>\n",
       "      <td>1/22/2021 22:46:21</td>\n",
       "      <td>Jinia Banerjee</td>\n",
       "      <td>6289719175</td>\n",
       "      <td>jiniabanerjee9727@gmail.com</td>\n",
       "      <td>Maulona Azad College</td>\n",
       "      <td>Honors (BSC/MSC)</td>\n",
       "      <td>No</td>\n",
       "      <td>NaN</td>\n",
       "      <td>NaN</td>\n",
       "    </tr>\n",
       "    <tr>\n",
       "      <th>945</th>\n",
       "      <td>1/23/2021 10:57:08</td>\n",
       "      <td>Md Safiqul Islam</td>\n",
       "      <td>8250955315</td>\n",
       "      <td>safiqulislam6006@gmail.com</td>\n",
       "      <td>Maulana Azad College</td>\n",
       "      <td>Honors (BSC/MSC)</td>\n",
       "      <td>Yes</td>\n",
       "      <td>NaN</td>\n",
       "      <td>NaN</td>\n",
       "    </tr>\n",
       "    <tr>\n",
       "      <th>946</th>\n",
       "      <td>1/23/2021 12:27:32</td>\n",
       "      <td>Soumojit Chatterjee</td>\n",
       "      <td>8101726672</td>\n",
       "      <td>imsoumojit@yahoo.com</td>\n",
       "      <td>Maulana Azad College</td>\n",
       "      <td>Honors (BSC/MSC)</td>\n",
       "      <td>Yes</td>\n",
       "      <td>NaN</td>\n",
       "      <td>NaN</td>\n",
       "    </tr>\n",
       "    <tr>\n",
       "      <th>947</th>\n",
       "      <td>1/23/2021 17:37:35</td>\n",
       "      <td>Debanjan Bhattacharjee</td>\n",
       "      <td>6290909245</td>\n",
       "      <td>debanjanbhattacharjee2002@gmail.com</td>\n",
       "      <td>Maulana Azad College</td>\n",
       "      <td>Honors (BSC/MSC)</td>\n",
       "      <td>Yes</td>\n",
       "      <td>NaN</td>\n",
       "      <td>NaN</td>\n",
       "    </tr>\n",
       "  </tbody>\n",
       "</table>\n",
       "<p>947 rows × 9 columns</p>\n",
       "</div>"
      ],
      "text/plain": [
       "              Timestamp                    Name      Contact  \\\n",
       "0    8/24/2020 17:01:39  A.S.M. Raquibul Hasan   01722577922   \n",
       "1    8/24/2020 10:08:54                Abdullah          NaN   \n",
       "2     8/24/2020 9:20:28    Abdullah Bin Murad    01552443554   \n",
       "3    7/28/2020 12:16:30       Abhijoy Mukherjee   7003206060   \n",
       "4    7/10/2020 13:56:14     Abhipreeti Acharjee   8274839744   \n",
       "..                  ...                     ...          ...   \n",
       "943  1/22/2021 22:06:24       Ramanish Banerjee   8017179702   \n",
       "944  1/22/2021 22:46:21          Jinia Banerjee   6289719175   \n",
       "945  1/23/2021 10:57:08        Md Safiqul Islam   8250955315   \n",
       "946  1/23/2021 12:27:32     Soumojit Chatterjee   8101726672   \n",
       "947  1/23/2021 17:37:35  Debanjan Bhattacharjee   6290909245   \n",
       "\n",
       "                                   Email  \\\n",
       "0                 raquibul.nsu@gmail.com   \n",
       "1              sharif3abdullah@gmail.com   \n",
       "2                   abmrifat54@gmail.com   \n",
       "3           abhijoymukherjee01@gmail.com   \n",
       "4               deepamandal007@gmail.com   \n",
       "..                                   ...   \n",
       "943           banerjeeramanish@gmail.com   \n",
       "944          jiniabanerjee9727@gmail.com   \n",
       "945           safiqulislam6006@gmail.com   \n",
       "946                 imsoumojit@yahoo.com   \n",
       "947  debanjanbhattacharjee2002@gmail.com   \n",
       "\n",
       "                                               College        Department  \\\n",
       "0                     United International University             others   \n",
       "1                                                  IIT       Engineering   \n",
       "2       Shahjalal University of Science and Technology       Engineering   \n",
       "3                                      Asutosh College        Statistics   \n",
       "4    DEPARTMENT OF PURE MATHEMATICS, UNIVERSITY OF ...  PURE MATHEMATICS   \n",
       "..                                                 ...               ...   \n",
       "943                               MAULANA AZAD COLLEGE  Honors (BSC/MSC)   \n",
       "944                               Maulona Azad College  Honors (BSC/MSC)   \n",
       "945                               Maulana Azad College  Honors (BSC/MSC)   \n",
       "946                               Maulana Azad College  Honors (BSC/MSC)   \n",
       "947                               Maulana Azad College  Honors (BSC/MSC)   \n",
       "\n",
       "    HasLaptop     Source     Country  \n",
       "0         Yes  Facebook   Bangladesh  \n",
       "1         NaN        NaN  Bangladesh  \n",
       "2         Yes        NaN  Bangladesh  \n",
       "3         Yes     Friend       India  \n",
       "4         Yes        NaN       India  \n",
       "..        ...        ...         ...  \n",
       "943       Yes        NaN         NaN  \n",
       "944        No        NaN         NaN  \n",
       "945       Yes        NaN         NaN  \n",
       "946       Yes        NaN         NaN  \n",
       "947       Yes        NaN         NaN  \n",
       "\n",
       "[947 rows x 9 columns]"
      ]
     },
     "execution_count": 121,
     "metadata": {},
     "output_type": "execute_result"
    }
   ],
   "source": [
    "#removing this specifc rows\n",
    "df3 = df2.dropna(subset=['Name'])\n",
    "df3"
   ]
  },
  {
   "cell_type": "code",
   "execution_count": 122,
   "metadata": {},
   "outputs": [
    {
     "data": {
      "text/html": [
       "<div>\n",
       "<style scoped>\n",
       "    .dataframe tbody tr th:only-of-type {\n",
       "        vertical-align: middle;\n",
       "    }\n",
       "\n",
       "    .dataframe tbody tr th {\n",
       "        vertical-align: top;\n",
       "    }\n",
       "\n",
       "    .dataframe thead th {\n",
       "        text-align: right;\n",
       "    }\n",
       "</style>\n",
       "<table border=\"1\" class=\"dataframe\">\n",
       "  <thead>\n",
       "    <tr style=\"text-align: right;\">\n",
       "      <th></th>\n",
       "      <th>Timestamp</th>\n",
       "      <th>Name</th>\n",
       "      <th>Contact</th>\n",
       "      <th>Email</th>\n",
       "      <th>College</th>\n",
       "      <th>Department</th>\n",
       "      <th>HasLaptop</th>\n",
       "      <th>Source</th>\n",
       "      <th>Country</th>\n",
       "    </tr>\n",
       "  </thead>\n",
       "  <tbody>\n",
       "  </tbody>\n",
       "</table>\n",
       "</div>"
      ],
      "text/plain": [
       "Empty DataFrame\n",
       "Columns: [Timestamp, Name, Contact, Email, College, Department, HasLaptop, Source, Country]\n",
       "Index: []"
      ]
     },
     "execution_count": 122,
     "metadata": {},
     "output_type": "execute_result"
    }
   ],
   "source": [
    "#now it is not available in the dataframe | empty dataframe\n",
    "df3[df3['Name'].isnull()]"
   ]
  },
  {
   "cell_type": "code",
   "execution_count": 123,
   "metadata": {},
   "outputs": [],
   "source": [
    "# df3[df3['Contact'].isnull()]"
   ]
  },
  {
   "cell_type": "code",
   "execution_count": 124,
   "metadata": {},
   "outputs": [],
   "source": [
    "# df3[df3['Email'].isnull()]"
   ]
  },
  {
   "cell_type": "code",
   "execution_count": 125,
   "metadata": {},
   "outputs": [],
   "source": [
    "# df3[df3['College'].isnull()]"
   ]
  },
  {
   "cell_type": "code",
   "execution_count": 126,
   "metadata": {},
   "outputs": [],
   "source": [
    "# df3[df3['Department'].isnull()]"
   ]
  },
  {
   "cell_type": "code",
   "execution_count": 127,
   "metadata": {},
   "outputs": [],
   "source": [
    "# df3[df3['HasLaptop'].isnull()]"
   ]
  },
  {
   "cell_type": "code",
   "execution_count": 128,
   "metadata": {},
   "outputs": [],
   "source": [
    "# df3[df3['Source'].isnull()]"
   ]
  },
  {
   "cell_type": "code",
   "execution_count": 129,
   "metadata": {},
   "outputs": [],
   "source": [
    "# df3[df3['Country'].isnull()]"
   ]
  },
  {
   "cell_type": "code",
   "execution_count": 130,
   "metadata": {},
   "outputs": [
    {
     "data": {
      "text/html": [
       "<div>\n",
       "<style scoped>\n",
       "    .dataframe tbody tr th:only-of-type {\n",
       "        vertical-align: middle;\n",
       "    }\n",
       "\n",
       "    .dataframe tbody tr th {\n",
       "        vertical-align: top;\n",
       "    }\n",
       "\n",
       "    .dataframe thead th {\n",
       "        text-align: right;\n",
       "    }\n",
       "</style>\n",
       "<table border=\"1\" class=\"dataframe\">\n",
       "  <thead>\n",
       "    <tr style=\"text-align: right;\">\n",
       "      <th></th>\n",
       "      <th>Timestamp</th>\n",
       "      <th>Name</th>\n",
       "      <th>Contact</th>\n",
       "      <th>Email</th>\n",
       "      <th>College</th>\n",
       "      <th>Department</th>\n",
       "      <th>HasLaptop</th>\n",
       "      <th>Source</th>\n",
       "      <th>Country</th>\n",
       "    </tr>\n",
       "  </thead>\n",
       "  <tbody>\n",
       "    <tr>\n",
       "      <th>0</th>\n",
       "      <td>8/24/2020 17:01:39</td>\n",
       "      <td>A.S.M. Raquibul Hasan</td>\n",
       "      <td>01722577922</td>\n",
       "      <td>raquibul.nsu@gmail.com</td>\n",
       "      <td>United International University</td>\n",
       "      <td>others</td>\n",
       "      <td>Yes</td>\n",
       "      <td>Facebook</td>\n",
       "      <td>Bangladesh</td>\n",
       "    </tr>\n",
       "    <tr>\n",
       "      <th>1</th>\n",
       "      <td>8/24/2020 10:08:54</td>\n",
       "      <td>Abdullah</td>\n",
       "      <td>NaN</td>\n",
       "      <td>sharif3abdullah@gmail.com</td>\n",
       "      <td>IIT</td>\n",
       "      <td>Engineering</td>\n",
       "      <td>NaN</td>\n",
       "      <td>NaN</td>\n",
       "      <td>Bangladesh</td>\n",
       "    </tr>\n",
       "    <tr>\n",
       "      <th>2</th>\n",
       "      <td>8/24/2020 9:20:28</td>\n",
       "      <td>Abdullah Bin Murad</td>\n",
       "      <td>01552443554</td>\n",
       "      <td>abmrifat54@gmail.com</td>\n",
       "      <td>Shahjalal University of Science and Technology</td>\n",
       "      <td>Engineering</td>\n",
       "      <td>Yes</td>\n",
       "      <td>NaN</td>\n",
       "      <td>Bangladesh</td>\n",
       "    </tr>\n",
       "    <tr>\n",
       "      <th>3</th>\n",
       "      <td>7/28/2020 12:16:30</td>\n",
       "      <td>Abhijoy Mukherjee</td>\n",
       "      <td>7003206060</td>\n",
       "      <td>abhijoymukherjee01@gmail.com</td>\n",
       "      <td>Asutosh College</td>\n",
       "      <td>Statistics</td>\n",
       "      <td>Yes</td>\n",
       "      <td>Friend</td>\n",
       "      <td>India</td>\n",
       "    </tr>\n",
       "    <tr>\n",
       "      <th>4</th>\n",
       "      <td>7/10/2020 13:56:14</td>\n",
       "      <td>Abhipreeti Acharjee</td>\n",
       "      <td>8274839744</td>\n",
       "      <td>deepamandal007@gmail.com</td>\n",
       "      <td>DEPARTMENT OF PURE MATHEMATICS, UNIVERSITY OF ...</td>\n",
       "      <td>PURE MATHEMATICS</td>\n",
       "      <td>Yes</td>\n",
       "      <td>NaN</td>\n",
       "      <td>India</td>\n",
       "    </tr>\n",
       "    <tr>\n",
       "      <th>...</th>\n",
       "      <td>...</td>\n",
       "      <td>...</td>\n",
       "      <td>...</td>\n",
       "      <td>...</td>\n",
       "      <td>...</td>\n",
       "      <td>...</td>\n",
       "      <td>...</td>\n",
       "      <td>...</td>\n",
       "      <td>...</td>\n",
       "    </tr>\n",
       "    <tr>\n",
       "      <th>943</th>\n",
       "      <td>1/22/2021 22:06:24</td>\n",
       "      <td>Ramanish Banerjee</td>\n",
       "      <td>8017179702</td>\n",
       "      <td>banerjeeramanish@gmail.com</td>\n",
       "      <td>MAULANA AZAD COLLEGE</td>\n",
       "      <td>Honors (BSC/MSC)</td>\n",
       "      <td>Yes</td>\n",
       "      <td>NaN</td>\n",
       "      <td>NaN</td>\n",
       "    </tr>\n",
       "    <tr>\n",
       "      <th>944</th>\n",
       "      <td>1/22/2021 22:46:21</td>\n",
       "      <td>Jinia Banerjee</td>\n",
       "      <td>6289719175</td>\n",
       "      <td>jiniabanerjee9727@gmail.com</td>\n",
       "      <td>Maulona Azad College</td>\n",
       "      <td>Honors (BSC/MSC)</td>\n",
       "      <td>No</td>\n",
       "      <td>NaN</td>\n",
       "      <td>NaN</td>\n",
       "    </tr>\n",
       "    <tr>\n",
       "      <th>945</th>\n",
       "      <td>1/23/2021 10:57:08</td>\n",
       "      <td>Md Safiqul Islam</td>\n",
       "      <td>8250955315</td>\n",
       "      <td>safiqulislam6006@gmail.com</td>\n",
       "      <td>Maulana Azad College</td>\n",
       "      <td>Honors (BSC/MSC)</td>\n",
       "      <td>Yes</td>\n",
       "      <td>NaN</td>\n",
       "      <td>NaN</td>\n",
       "    </tr>\n",
       "    <tr>\n",
       "      <th>946</th>\n",
       "      <td>1/23/2021 12:27:32</td>\n",
       "      <td>Soumojit Chatterjee</td>\n",
       "      <td>8101726672</td>\n",
       "      <td>imsoumojit@yahoo.com</td>\n",
       "      <td>Maulana Azad College</td>\n",
       "      <td>Honors (BSC/MSC)</td>\n",
       "      <td>Yes</td>\n",
       "      <td>NaN</td>\n",
       "      <td>NaN</td>\n",
       "    </tr>\n",
       "    <tr>\n",
       "      <th>947</th>\n",
       "      <td>1/23/2021 17:37:35</td>\n",
       "      <td>Debanjan Bhattacharjee</td>\n",
       "      <td>6290909245</td>\n",
       "      <td>debanjanbhattacharjee2002@gmail.com</td>\n",
       "      <td>Maulana Azad College</td>\n",
       "      <td>Honors (BSC/MSC)</td>\n",
       "      <td>Yes</td>\n",
       "      <td>NaN</td>\n",
       "      <td>NaN</td>\n",
       "    </tr>\n",
       "  </tbody>\n",
       "</table>\n",
       "<p>947 rows × 9 columns</p>\n",
       "</div>"
      ],
      "text/plain": [
       "              Timestamp                    Name      Contact  \\\n",
       "0    8/24/2020 17:01:39  A.S.M. Raquibul Hasan   01722577922   \n",
       "1    8/24/2020 10:08:54                Abdullah          NaN   \n",
       "2     8/24/2020 9:20:28    Abdullah Bin Murad    01552443554   \n",
       "3    7/28/2020 12:16:30       Abhijoy Mukherjee   7003206060   \n",
       "4    7/10/2020 13:56:14     Abhipreeti Acharjee   8274839744   \n",
       "..                  ...                     ...          ...   \n",
       "943  1/22/2021 22:06:24       Ramanish Banerjee   8017179702   \n",
       "944  1/22/2021 22:46:21          Jinia Banerjee   6289719175   \n",
       "945  1/23/2021 10:57:08        Md Safiqul Islam   8250955315   \n",
       "946  1/23/2021 12:27:32     Soumojit Chatterjee   8101726672   \n",
       "947  1/23/2021 17:37:35  Debanjan Bhattacharjee   6290909245   \n",
       "\n",
       "                                   Email  \\\n",
       "0                 raquibul.nsu@gmail.com   \n",
       "1              sharif3abdullah@gmail.com   \n",
       "2                   abmrifat54@gmail.com   \n",
       "3           abhijoymukherjee01@gmail.com   \n",
       "4               deepamandal007@gmail.com   \n",
       "..                                   ...   \n",
       "943           banerjeeramanish@gmail.com   \n",
       "944          jiniabanerjee9727@gmail.com   \n",
       "945           safiqulislam6006@gmail.com   \n",
       "946                 imsoumojit@yahoo.com   \n",
       "947  debanjanbhattacharjee2002@gmail.com   \n",
       "\n",
       "                                               College        Department  \\\n",
       "0                     United International University             others   \n",
       "1                                                  IIT       Engineering   \n",
       "2       Shahjalal University of Science and Technology       Engineering   \n",
       "3                                      Asutosh College        Statistics   \n",
       "4    DEPARTMENT OF PURE MATHEMATICS, UNIVERSITY OF ...  PURE MATHEMATICS   \n",
       "..                                                 ...               ...   \n",
       "943                               MAULANA AZAD COLLEGE  Honors (BSC/MSC)   \n",
       "944                               Maulona Azad College  Honors (BSC/MSC)   \n",
       "945                               Maulana Azad College  Honors (BSC/MSC)   \n",
       "946                               Maulana Azad College  Honors (BSC/MSC)   \n",
       "947                               Maulana Azad College  Honors (BSC/MSC)   \n",
       "\n",
       "    HasLaptop     Source     Country  \n",
       "0         Yes  Facebook   Bangladesh  \n",
       "1         NaN        NaN  Bangladesh  \n",
       "2         Yes        NaN  Bangladesh  \n",
       "3         Yes     Friend       India  \n",
       "4         Yes        NaN       India  \n",
       "..        ...        ...         ...  \n",
       "943       Yes        NaN         NaN  \n",
       "944        No        NaN         NaN  \n",
       "945       Yes        NaN         NaN  \n",
       "946       Yes        NaN         NaN  \n",
       "947       Yes        NaN         NaN  \n",
       "\n",
       "[947 rows x 9 columns]"
      ]
     },
     "execution_count": 130,
     "metadata": {},
     "output_type": "execute_result"
    }
   ],
   "source": [
    "df3"
   ]
  },
  {
   "cell_type": "markdown",
   "metadata": {},
   "source": [
    "# We are taking the University data and Department data from which University students attends the most"
   ]
  },
  {
   "cell_type": "code",
   "execution_count": 131,
   "metadata": {},
   "outputs": [
    {
     "data": {
      "text/html": [
       "<div>\n",
       "<style scoped>\n",
       "    .dataframe tbody tr th:only-of-type {\n",
       "        vertical-align: middle;\n",
       "    }\n",
       "\n",
       "    .dataframe tbody tr th {\n",
       "        vertical-align: top;\n",
       "    }\n",
       "\n",
       "    .dataframe thead th {\n",
       "        text-align: right;\n",
       "    }\n",
       "</style>\n",
       "<table border=\"1\" class=\"dataframe\">\n",
       "  <thead>\n",
       "    <tr style=\"text-align: right;\">\n",
       "      <th></th>\n",
       "      <th>College</th>\n",
       "    </tr>\n",
       "    <tr>\n",
       "      <th>College</th>\n",
       "      <th></th>\n",
       "    </tr>\n",
       "  </thead>\n",
       "  <tbody>\n",
       "    <tr>\n",
       "      <th>B.P. Poddar Institute Of Management And Technology</th>\n",
       "      <td>1</td>\n",
       "    </tr>\n",
       "    <tr>\n",
       "      <th>Uttarpara Amarendra Vidyapith</th>\n",
       "      <td>1</td>\n",
       "    </tr>\n",
       "    <tr>\n",
       "      <th>1998</th>\n",
       "      <td>1</td>\n",
       "    </tr>\n",
       "    <tr>\n",
       "      <th>AIUB</th>\n",
       "      <td>11</td>\n",
       "    </tr>\n",
       "    <tr>\n",
       "      <th>AKPC MAHAVIDYALAYA</th>\n",
       "      <td>1</td>\n",
       "    </tr>\n",
       "    <tr>\n",
       "      <th>...</th>\n",
       "      <td>...</td>\n",
       "    </tr>\n",
       "    <tr>\n",
       "      <th>maulana azad college</th>\n",
       "      <td>1</td>\n",
       "    </tr>\n",
       "    <tr>\n",
       "      <th>national institute of science and technology</th>\n",
       "      <td>1</td>\n",
       "    </tr>\n",
       "    <tr>\n",
       "      <th>regent education and research foundarion group of institute</th>\n",
       "      <td>1</td>\n",
       "    </tr>\n",
       "    <tr>\n",
       "      <th>regent education and research foundation</th>\n",
       "      <td>1</td>\n",
       "    </tr>\n",
       "    <tr>\n",
       "      <th>st Xavier's College</th>\n",
       "      <td>1</td>\n",
       "    </tr>\n",
       "  </tbody>\n",
       "</table>\n",
       "<p>431 rows × 1 columns</p>\n",
       "</div>"
      ],
      "text/plain": [
       "                                                    College\n",
       "College                                                    \n",
       " B.P. Poddar Institute Of Management And Techno...        1\n",
       " Uttarpara Amarendra Vidyapith                            1\n",
       "1998                                                      1\n",
       "AIUB                                                     11\n",
       "AKPC MAHAVIDYALAYA                                        1\n",
       "...                                                     ...\n",
       "maulana azad college                                      1\n",
       "national institute of science and technology              1\n",
       "regent education and research foundarion group ...        1\n",
       "regent education and research foundation                  1\n",
       "st Xavier's College                                       1\n",
       "\n",
       "[431 rows x 1 columns]"
      ]
     },
     "execution_count": 131,
     "metadata": {},
     "output_type": "execute_result"
    }
   ],
   "source": [
    "#collega data counting all college\n",
    "df4 = df3.groupby('College')['College'].agg('count')\n",
    "college= pd.DataFrame(df4)\n",
    "college"
   ]
  },
  {
   "cell_type": "code",
   "execution_count": 132,
   "metadata": {},
   "outputs": [
    {
     "data": {
      "text/html": [
       "<div>\n",
       "<style scoped>\n",
       "    .dataframe tbody tr th:only-of-type {\n",
       "        vertical-align: middle;\n",
       "    }\n",
       "\n",
       "    .dataframe tbody tr th {\n",
       "        vertical-align: top;\n",
       "    }\n",
       "\n",
       "    .dataframe thead th {\n",
       "        text-align: right;\n",
       "    }\n",
       "</style>\n",
       "<table border=\"1\" class=\"dataframe\">\n",
       "  <thead>\n",
       "    <tr style=\"text-align: right;\">\n",
       "      <th></th>\n",
       "      <th>Department</th>\n",
       "    </tr>\n",
       "    <tr>\n",
       "      <th>Department</th>\n",
       "      <th></th>\n",
       "    </tr>\n",
       "  </thead>\n",
       "  <tbody>\n",
       "    <tr>\n",
       "      <th>LINEAR ALGEBRA IN MATHEMATICS</th>\n",
       "      <td>1</td>\n",
       "    </tr>\n",
       "    <tr>\n",
       "      <th>3rd year Statistics honours</th>\n",
       "      <td>1</td>\n",
       "    </tr>\n",
       "    <tr>\n",
       "      <th>3rd year mathematics honours</th>\n",
       "      <td>1</td>\n",
       "    </tr>\n",
       "    <tr>\n",
       "      <th>APPLIES MATHEMATICS</th>\n",
       "      <td>1</td>\n",
       "    </tr>\n",
       "    <tr>\n",
       "      <th>Aplied mathematics with oceanology and computer programming</th>\n",
       "      <td>1</td>\n",
       "    </tr>\n",
       "    <tr>\n",
       "      <th>...</th>\n",
       "      <td>...</td>\n",
       "    </tr>\n",
       "    <tr>\n",
       "      <th>Thermal Power Plant Engineering</th>\n",
       "      <td>1</td>\n",
       "    </tr>\n",
       "    <tr>\n",
       "      <th>YES</th>\n",
       "      <td>1</td>\n",
       "    </tr>\n",
       "    <tr>\n",
       "      <th>electrical engineering</th>\n",
       "      <td>1</td>\n",
       "    </tr>\n",
       "    <tr>\n",
       "      <th>engineering</th>\n",
       "      <td>1</td>\n",
       "    </tr>\n",
       "    <tr>\n",
       "      <th>others</th>\n",
       "      <td>92</td>\n",
       "    </tr>\n",
       "  </tbody>\n",
       "</table>\n",
       "<p>200 rows × 1 columns</p>\n",
       "</div>"
      ],
      "text/plain": [
       "                                                    Department\n",
       "Department                                                    \n",
       " LINEAR ALGEBRA IN MATHEMATICS                               1\n",
       "3rd year Statistics honours                                  1\n",
       "3rd year mathematics honours                                 1\n",
       "APPLIES MATHEMATICS                                          1\n",
       "Aplied mathematics with oceanology and computer...           1\n",
       "...                                                        ...\n",
       "Thermal Power Plant Engineering                              1\n",
       "YES                                                          1\n",
       "electrical engineering                                       1\n",
       "engineering                                                  1\n",
       "others                                                      92\n",
       "\n",
       "[200 rows x 1 columns]"
      ]
     },
     "execution_count": 132,
     "metadata": {},
     "output_type": "execute_result"
    }
   ],
   "source": [
    "# department data counting from all department\n",
    "df4 = df3.groupby('Department')['Department'].agg('count')\n",
    "department= pd.DataFrame(df4)\n",
    "department"
   ]
  },
  {
   "cell_type": "code",
   "execution_count": 133,
   "metadata": {},
   "outputs": [
    {
     "data": {
      "text/html": [
       "<div>\n",
       "<style scoped>\n",
       "    .dataframe tbody tr th:only-of-type {\n",
       "        vertical-align: middle;\n",
       "    }\n",
       "\n",
       "    .dataframe tbody tr th {\n",
       "        vertical-align: top;\n",
       "    }\n",
       "\n",
       "    .dataframe thead th {\n",
       "        text-align: right;\n",
       "    }\n",
       "</style>\n",
       "<table border=\"1\" class=\"dataframe\">\n",
       "  <thead>\n",
       "    <tr style=\"text-align: right;\">\n",
       "      <th></th>\n",
       "      <th>dep_counts</th>\n",
       "    </tr>\n",
       "    <tr>\n",
       "      <th>Department</th>\n",
       "      <th></th>\n",
       "    </tr>\n",
       "  </thead>\n",
       "  <tbody>\n",
       "    <tr>\n",
       "      <th>LINEAR ALGEBRA IN MATHEMATICS</th>\n",
       "      <td>1</td>\n",
       "    </tr>\n",
       "    <tr>\n",
       "      <th>3rd year Statistics honours</th>\n",
       "      <td>1</td>\n",
       "    </tr>\n",
       "    <tr>\n",
       "      <th>3rd year mathematics honours</th>\n",
       "      <td>1</td>\n",
       "    </tr>\n",
       "    <tr>\n",
       "      <th>APPLIES MATHEMATICS</th>\n",
       "      <td>1</td>\n",
       "    </tr>\n",
       "    <tr>\n",
       "      <th>Aplied mathematics with oceanology and computer programming</th>\n",
       "      <td>1</td>\n",
       "    </tr>\n",
       "    <tr>\n",
       "      <th>...</th>\n",
       "      <td>...</td>\n",
       "    </tr>\n",
       "    <tr>\n",
       "      <th>Thermal Power Plant Engineering</th>\n",
       "      <td>1</td>\n",
       "    </tr>\n",
       "    <tr>\n",
       "      <th>YES</th>\n",
       "      <td>1</td>\n",
       "    </tr>\n",
       "    <tr>\n",
       "      <th>electrical engineering</th>\n",
       "      <td>1</td>\n",
       "    </tr>\n",
       "    <tr>\n",
       "      <th>engineering</th>\n",
       "      <td>1</td>\n",
       "    </tr>\n",
       "    <tr>\n",
       "      <th>others</th>\n",
       "      <td>92</td>\n",
       "    </tr>\n",
       "  </tbody>\n",
       "</table>\n",
       "<p>200 rows × 1 columns</p>\n",
       "</div>"
      ],
      "text/plain": [
       "                                                    dep_counts\n",
       "Department                                                    \n",
       " LINEAR ALGEBRA IN MATHEMATICS                               1\n",
       "3rd year Statistics honours                                  1\n",
       "3rd year mathematics honours                                 1\n",
       "APPLIES MATHEMATICS                                          1\n",
       "Aplied mathematics with oceanology and computer...           1\n",
       "...                                                        ...\n",
       "Thermal Power Plant Engineering                              1\n",
       "YES                                                          1\n",
       "electrical engineering                                       1\n",
       "engineering                                                  1\n",
       "others                                                      92\n",
       "\n",
       "[200 rows x 1 columns]"
      ]
     },
     "execution_count": 133,
     "metadata": {},
     "output_type": "execute_result"
    }
   ],
   "source": [
    "#renameing to total_counts of department data\n",
    "department.rename(columns={\"Department\": \"dep_counts\"},inplace=True)\n",
    "department"
   ]
  },
  {
   "cell_type": "code",
   "execution_count": 134,
   "metadata": {},
   "outputs": [
    {
     "data": {
      "text/html": [
       "<div>\n",
       "<style scoped>\n",
       "    .dataframe tbody tr th:only-of-type {\n",
       "        vertical-align: middle;\n",
       "    }\n",
       "\n",
       "    .dataframe tbody tr th {\n",
       "        vertical-align: top;\n",
       "    }\n",
       "\n",
       "    .dataframe thead th {\n",
       "        text-align: right;\n",
       "    }\n",
       "</style>\n",
       "<table border=\"1\" class=\"dataframe\">\n",
       "  <thead>\n",
       "    <tr style=\"text-align: right;\">\n",
       "      <th></th>\n",
       "      <th>Department</th>\n",
       "      <th>dep_counts</th>\n",
       "    </tr>\n",
       "  </thead>\n",
       "  <tbody>\n",
       "    <tr>\n",
       "      <th>0</th>\n",
       "      <td>LINEAR ALGEBRA IN MATHEMATICS</td>\n",
       "      <td>1</td>\n",
       "    </tr>\n",
       "    <tr>\n",
       "      <th>1</th>\n",
       "      <td>3rd year Statistics honours</td>\n",
       "      <td>1</td>\n",
       "    </tr>\n",
       "    <tr>\n",
       "      <th>2</th>\n",
       "      <td>3rd year mathematics honours</td>\n",
       "      <td>1</td>\n",
       "    </tr>\n",
       "    <tr>\n",
       "      <th>3</th>\n",
       "      <td>APPLIES MATHEMATICS</td>\n",
       "      <td>1</td>\n",
       "    </tr>\n",
       "    <tr>\n",
       "      <th>4</th>\n",
       "      <td>Aplied mathematics with oceanology and compute...</td>\n",
       "      <td>1</td>\n",
       "    </tr>\n",
       "    <tr>\n",
       "      <th>...</th>\n",
       "      <td>...</td>\n",
       "      <td>...</td>\n",
       "    </tr>\n",
       "    <tr>\n",
       "      <th>195</th>\n",
       "      <td>Thermal Power Plant Engineering</td>\n",
       "      <td>1</td>\n",
       "    </tr>\n",
       "    <tr>\n",
       "      <th>196</th>\n",
       "      <td>YES</td>\n",
       "      <td>1</td>\n",
       "    </tr>\n",
       "    <tr>\n",
       "      <th>197</th>\n",
       "      <td>electrical engineering</td>\n",
       "      <td>1</td>\n",
       "    </tr>\n",
       "    <tr>\n",
       "      <th>198</th>\n",
       "      <td>engineering</td>\n",
       "      <td>1</td>\n",
       "    </tr>\n",
       "    <tr>\n",
       "      <th>199</th>\n",
       "      <td>others</td>\n",
       "      <td>92</td>\n",
       "    </tr>\n",
       "  </tbody>\n",
       "</table>\n",
       "<p>200 rows × 2 columns</p>\n",
       "</div>"
      ],
      "text/plain": [
       "                                            Department  dep_counts\n",
       "0                        LINEAR ALGEBRA IN MATHEMATICS           1\n",
       "1                         3rd year Statistics honours            1\n",
       "2                         3rd year mathematics honours           1\n",
       "3                                  APPLIES MATHEMATICS           1\n",
       "4    Aplied mathematics with oceanology and compute...           1\n",
       "..                                                 ...         ...\n",
       "195                    Thermal Power Plant Engineering           1\n",
       "196                                                YES           1\n",
       "197                             electrical engineering           1\n",
       "198                                        engineering           1\n",
       "199                                             others          92\n",
       "\n",
       "[200 rows x 2 columns]"
      ]
     },
     "execution_count": 134,
     "metadata": {},
     "output_type": "execute_result"
    }
   ],
   "source": [
    "#convert Department index to columns\n",
    "department.reset_index(inplace= True)\n",
    "department"
   ]
  },
  {
   "cell_type": "code",
   "execution_count": 135,
   "metadata": {},
   "outputs": [
    {
     "name": "stdout",
     "output_type": "stream",
     "text": [
      "Lady Brabourne College                      69\n",
      "Maulana Azad College                        59\n",
      "Lady Brabourne College                      31\n",
      "Regent Education and Research Foundation    31\n",
      "Presidency University                       19\n",
      "                                            ..\n",
      "PRESIDENCY UNIVERSITY                        1\n",
      "Vivekananda college , CU                     1\n",
      "Techno International New Town                1\n",
      "Islamic University, Kushtia                  1\n",
      "Notre dame UniversityBangladesh              1\n",
      "Name: College, Length: 431, dtype: int64\n"
     ]
    }
   ],
   "source": [
    "#counting university wise present\n",
    "counts = df3.College.value_counts()\n",
    "print(counts)"
   ]
  },
  {
   "cell_type": "code",
   "execution_count": 136,
   "metadata": {},
   "outputs": [
    {
     "name": "stdout",
     "output_type": "stream",
     "text": [
      "Total University:432\n"
     ]
    },
    {
     "data": {
      "text/plain": [
       "array(['United International University ', 'IIT',\n",
       "       'Shahjalal University of Science and Technology',\n",
       "       'Asutosh College',\n",
       "       'DEPARTMENT OF PURE MATHEMATICS, UNIVERSITY OF CALCUTTA',\n",
       "       'Vivekananda College',\n",
       "       'Future institute of engineering and management', 'J.K College',\n",
       "       'Narasinha dutt college', 'J.k.clg purulia',\n",
       "       'NARASINHA DUTT COLLEGE ',\n",
       "       'Global Nature Care Sangathan Group Of Institutions', 'AIUB',\n",
       "       'Maulana Azad College', 'Purulia zilla school ',\n",
       "       'Cummins college of Engineering for women ',\n",
       "       'Daffodil  International  University ', 'St.Xaviers college',\n",
       "       'Aiub', 'Asutosh College ', 'DIATM', 'Purulia jk college',\n",
       "       'Narasinha Dutt college under Calcutta university ',\n",
       "       'Sister Nibedita Govt General Degree College for Girls ',\n",
       "       'ND College', 'Ramakrishna Mission Shilpapitha',\n",
       "       'Viswass school & college of nursing',\n",
       "       'Narasinha Dutt college afflicted by Calcutta University',\n",
       "       'Maulana Azad College ',\n",
       "       'Durgapur institute of advanced technology and management',\n",
       "       'Durgapur Institute of Advanced Technology and Management',\n",
       "       'Insitiution of engineering and managment', \"St. Xavier's College\",\n",
       "       'Asutosh college',\n",
       "       'Sister Nibedita Govt. General Degree College For Girls',\n",
       "       'Manipal hospital',\n",
       "       'Durgapur Institute Of Advance Technology and Management',\n",
       "       'West Bengal State University ', \"St. Xavier's College , Kolkata \",\n",
       "       \"St. Xavier's College, Kolkata\",\n",
       "       'SKS Power Generation Chhattisgarh Ltd.',\n",
       "       'Lady Brabourne College, University of Calcutta',\n",
       "       'Kalyani Mahavidyalaya', 'University of Calcutta',\n",
       "       \"St. Xavier's college\",\n",
       "       'University College Of Science & Technology, University Of Calcutta',\n",
       "       'Lady Brabourne College',\n",
       "       'Vivekananda college, Calcutta University',\n",
       "       'Jagannath Kishore college,Purulia',\n",
       "       'Hooghly Engineering and Technology College', 'J.K.College ',\n",
       "       'Islamic University, Kushtia', 'Narasinha dutt college ',\n",
       "       'West Bengal University of Health Sciences',\n",
       "       'Institute of Engineering and Management (IEM)',\n",
       "       'Kalyani mahavidyalaya',\n",
       "       'Acharya institute of management and sciences',\n",
       "       'Techno International Newtown', 'Bethune College ',\n",
       "       'ISRT , University of Dhaka ', 'Vivekananda college , CU', 'NSU',\n",
       "       \"st Xavier's College \", \"St xavier's College, kolkata\",\n",
       "       'Narasinha Dutta College', 'NARASINHA DUTT COLLEGE',\n",
       "       'American International University Bangladesh ',\n",
       "       'Jagannath Kishore College',\n",
       "       'NARASINHA DUTT COLLEGE, UNIVERSITY OF CALCUTTA',\n",
       "       'Narasingha Dutt College ',\n",
       "       'Durgapur Institute of Advanced Technology and Management ', nan,\n",
       "       'Comilla University', 'Techno India Saltlake',\n",
       "       \"St. Xavier's College (Autonomous) , Kolkata\",\n",
       "       'Narasinha Dutt College', 'Academy Of Technology',\n",
       "       'Thakurpukur Vivekananda College ', 'Ramsaday College',\n",
       "       'J.K college',\n",
       "       'Calcutta University ( Ballygaunge Science College) ',\n",
       "       'RKMVERI BELUR MATH', 'JJ Glastronics', 'Kalyani Mahabidyalaya',\n",
       "       'Gauhati University', 'Maulana azad college',\n",
       "       'Jadavpur University', 'Basanti Devi College',\n",
       "       'The International University of Scholars',\n",
       "       'London  South  Bank  University ', 'North South University ',\n",
       "       'Bangladesh Institute of Governance and Management (BIGM)       ',\n",
       "       'Guru NANAK INSTITUTE OF PHARMACEUTICAL SCIENCE AND TECHNOLOGY',\n",
       "       'Bethune college', 'National Power Training Institute Durgapur',\n",
       "       'Maulana Azad college', 'Jk college', 'Kerala University ',\n",
       "       'NPTI (ER)', 'Institute of Engineering and Management',\n",
       "       'Bethune College,  Kolkata', 'Professional', 'University of Dhaka',\n",
       "       'Bharat University, Chennai', 'Jadavpur University ',\n",
       "       'Comilla University  ', 'North-south university',\n",
       "       'Future Institute of Engineering and Management',\n",
       "       'PRESIDENCY UNIVERSITY ',\n",
       "       'American International University-Bangladesh',\n",
       "       'Vidyasagar college for women', 'JADAVPUR UNIVERSITY ',\n",
       "       'Presidency University', 'Gl bajaj',\n",
       "       'American International University-Bangladesh ',\n",
       "       'National power training institute Nagpur',\n",
       "       'North South University', 'Kalyani mahavidyalay', 'Bethune',\n",
       "       'Bethune College', 'Future Institute of Technology',\n",
       "       'Dr. B. C. Roy Engineering college',\n",
       "       'Durgapur Institute of advance technology and managment',\n",
       "       'Government College of Engineering and Leather Technology',\n",
       "       'Kalyani Mahavidya', 'N.P.T.I(E.R.)',\n",
       "       \"St. Xavier's College, Kolkata \",\n",
       "       'Indira Gandhi National University', 'Vidyasaagar university',\n",
       "       'Mugberia gangadhar mahavidyalaya ',\n",
       "       'Dr.b.c.roy engineering college', ' Uttarpara Amarendra Vidyapith',\n",
       "       'Techno International New Town',\n",
       "       'Durgapur institute of advanced and technology management',\n",
       "       'NPTI, NAGPUR', 'Jagannath Kishore College, Purulia',\n",
       "       'Basantidevi College', 'IIT,University of Dhaka',\n",
       "       'Makaut(Formely wbut)',\n",
       "       'American International University- Bangladesh',\n",
       "       'American International University Bangladesh',\n",
       "       'Shahjalal University of Science & Technology   ',\n",
       "       'Bangabandhu Sheikh Mujibur Rahman Science & Technology ',\n",
       "       'Bangabandhu Sheikh Mujibur Rahman Science & Technology University       ',\n",
       "       'Jahangirnagar University  ', 'Jahangirnagar University ', 'BUET',\n",
       "       'SBPGC', 'American international university Bangladesh ',\n",
       "       'North South University (NSU)',\n",
       "       'American international university of Bangladesh',\n",
       "       'North South University   ', 'Public Administration ',\n",
       "       'American International University - Bangladesh',\n",
       "       'University Of Dhaka', 'LADY BRABOURNE COLLEGE',\n",
       "       'Netaji Subhas Open University',\n",
       "       'Maulana Abul Kalam Azad University of Technology',\n",
       "       'Vidyasagar University',\n",
       "       'National Institute Of Technology Warangal',\n",
       "       'Ramakrishna Mission Vidyamandira ',\n",
       "       'Notre dame UniversityBangladesh  ', 'Vidyasagar collage ',\n",
       "       'JADAVPUR UNIVERSITY',\n",
       "       'Indian Institute of Engineering Science And Technology Shibpur',\n",
       "       'Ahsanullah University of Science and Technology ',\n",
       "       'Chittaranjan College, Kolkata ', 'Bangalore university',\n",
       "       'Maulana Abul Kalam Azad University of Technology ',\n",
       "       'Institution / Organization / College name ',\n",
       "       'University of Liberal Arts ',\n",
       "       'University of Liberal Arts Bangladesh',\n",
       "       'Dyal Singh College (day) ', 'DIATM DURGAPUR ',\n",
       "       'Vivekananda  College',\n",
       "       'Maulana Abul Kalam Azad University of Technology, W.B',\n",
       "       'Christ  University', 'Durgapur institute of advanced technology',\n",
       "       'American International University of Bangladesh (AIUB)',\n",
       "       'RCC institute of information technology', 'Belda College',\n",
       "       'FUTURETECH PRIVATE ITI ', 'J.k. college', 'BRABU',\n",
       "       'Burdwan University',\n",
       "       'Durgapur institute of advance technology and managment',\n",
       "       'Global engineering college', 'Prabhat Kumar College',\n",
       "       'Calcutta university ', \"St.Xavier's College,Kolkata\",\n",
       "       'Shibpur Dinobondhoo Institution (College) ',\n",
       "       'Durgapur institute of advanced technology and management ',\n",
       "       'Durgapur institute of advanced technology and managemant rajbandh',\n",
       "       'MAULANA ABUL KALAM AZAD UNIVERSITY OF TECHNOLOGY ',\n",
       "       'Vivekananda College Thakurpukur', \"St. Xavier's College Kolkata\",\n",
       "       'University of Dhaka   ',\n",
       "       'Durgapur Institute of advanced technology and management ',\n",
       "       'UNIVERSITY OF MUMBAI', 'Lady Brabourne College ',\n",
       "       'Durgapur Institute of Advancedpur Technology and Management',\n",
       "       'Surendranath college', 'ASUTOSH COLLEGE',\n",
       "       \"St. Xavier's College (Autonomous), Kolkata. \",\n",
       "       'OmDayal Group Of Institutions', \"St.Xavier's College Kolkata\",\n",
       "       'Vivekananda college', 'Amta Ramsaday College', 'DIATM, Durgapur',\n",
       "       'Basanti devi College', 'BETHUNE COLLEGE',\n",
       "       'Ahsanullah University of Science and Technology',\n",
       "       'Asansol engineering college', 'MAULANA AZAD COLLEGE',\n",
       "       'Presidency university ', 'Vivekananda College,Thakurpukur',\n",
       "       'Durgapur Institute of Advanced Technology & Management',\n",
       "       'Future Institute of Technology ', 'Victoria Institution',\n",
       "       'Lady brabourne college', 'Corporate Institute Of Pharmacy',\n",
       "       'Amity University Kolkata',\n",
       "       'National power training institute (E.R) Durgapur',\n",
       "       \"St Xavier's College Kolkata\", \"At. Xavier's College\",\n",
       "       'Ramakrishna Mission Vidyamandira', 'Bethune colege', 'Hffc',\n",
       "       'Corporate Institute of Pharmacy ',\n",
       "       'Maulana Azad College, Kolkata', 'Lalbaba college ',\n",
       "       'Aliah University ', 'NIST', 'Green University of Bangladesh',\n",
       "       '1998', 'Raja Peary Mohan college',\n",
       "       'National institute of science and technology,berhampur',\n",
       "       'American International University - Bangladesh ',\n",
       "       'International University of Scholarsh', 'BRAC University',\n",
       "       'Central University of Jharkhand',\n",
       "       'VIDYASAGAR UNIVERSITY, MEDINIPUR', 'UITS',\n",
       "       'Independent University, Bangladesh',\n",
       "       'The New Horizons Institute of Technology',\n",
       "       'Jogomaya Devi college ', 'Raja Peary Mohan College',\n",
       "       'Sister Nibedita Govt. General Degree College for girls', 'RGPV',\n",
       "       'Surendranath College', 'FUTURE INSTITUTE OF TECHNOLOGY',\n",
       "       'Future Institute Of Technology', 'Asutosh College, Kolkata   ',\n",
       "       'Raja Peary Mohan College, Uttarpara',\n",
       "       'Future Institute of technology', 'North south University  ',\n",
       "       'Seacom engineering college ', 'Zoom international',\n",
       "       'Vivekananda College ', 'Narula Institute of Technology',\n",
       "       'FUTURE INSTITUTE OF TECHNOLOGY ',\n",
       "       \"St. Xavier's College , Kolkata\", 'Aot',\n",
       "       'National power training institute', 'RKMVERI (BELUR CAMPUS)',\n",
       "       'Vivekananda college ', 'Academy of Technology',\n",
       "       'Durgapur Instute Of Advance Technology And Management',\n",
       "       'Dr.B.C.ROY ENGINEERING COLLEGE', \"St Xavier's College\",\n",
       "       'Ramakrishna Mission Vivekananda Educational and Research Institute ',\n",
       "       \"St. Xavier's College (Autonomous),Kolkata\",\n",
       "       'Ashutosh College    ', 'College of engineering Roorkee',\n",
       "       'Bethune College, Kolkata',\n",
       "       'National Power Training Institute ( E.R ) ',\n",
       "       'Lady Brabourne college', 'Future institute of technology ',\n",
       "       'Narula institute of technology', 'RKMVERI, BELUR MATH',\n",
       "       'Techno India salt lake', 'Islamic University of Technology (IUT)',\n",
       "       'Bangladesh Agricultural Research Institute    ',\n",
       "       'Ramakrishna Mission Vivekananda Educational And Research Institute',\n",
       "       'BRAC University ', 'Bidhannagar college', 'Bidhannagar College',\n",
       "       'Sir Gurudas Mahavidyalaya',\n",
       "       'DURGAPUR INSTITUTE OF ADVANCED TECHNOLOGY AND MANEGEMENT',\n",
       "       'American International University of Bangladesh',\n",
       "       'JadavpurUniversity  ', 'Narula Institute of technology',\n",
       "       'Vidyasagar College',\n",
       "       'national institute of science and technology',\n",
       "       'Visvabharati university', 'International University of Scholars',\n",
       "       'New Alipore College',\n",
       "       'American International University-Bangladesh     ',\n",
       "       'UNIVERSITY OF CHITTAGONG', 'Bidhannagar college ',\n",
       "       'Shibpur Dinobundhoo institution',\n",
       "       'Durgapur Institute Of Advanced Technology and Management',\n",
       "       'DIATM durgapur', 'Iub', 'Uttara University',\n",
       "       'B. P. Poddar Institute of Management and Technology',\n",
       "       'B. P. Poddar Institute of Management And Technology',\n",
       "       'B. P. Poddar Institute of Technology and Management',\n",
       "       'B.P. PODDAR INSTITUTE OF MANAGEMENT AND TECHNOLOGY',\n",
       "       'B.P.Poddar Institution of Management & Technology',\n",
       "       'B.P.PODDAR INSTITUTE OF MANAGEMENT AND TECHNOLOGY',\n",
       "       'B P Poddar Institute Of Management And Technology',\n",
       "       'B.P. Poddar Institute Of Management And Technology',\n",
       "       'B.P. Poddar Institute of Management and Technology',\n",
       "       'B. P. Poddar Institute of Management and technology',\n",
       "       'B.P.Podder Institute of Management and Technology',\n",
       "       'B. P. Poddar Institute Of Management & Technology', 'Home',\n",
       "       'BPPIMT', 'B.P.Poddar Institute Of Management And Technology ',\n",
       "       'Dr. B.C.Roy engineering college',\n",
       "       'B.P Poddar institute of management and technology',\n",
       "       'B P poddar institute of Management & Technology ',\n",
       "       'B.P Poddar Institute of Management and Technology',\n",
       "       'B.P PODDAR INSTITUTE OF MANAGEMENT AND TECHNOLOGY',\n",
       "       'B.P poddar Institute of Management & Technology',\n",
       "       'B.p.Poddar Institute of Management and Technology',\n",
       "       'BP poddar institute of management and technology',\n",
       "       'B.p.poddar institute of management and technology',\n",
       "       'B.P.Poddar Institute of Management & Technology',\n",
       "       'B.p.podder institute', 'Bppimt',\n",
       "       'B P Poddar Institute of Management and Technology ',\n",
       "       ' B.P. Poddar Institute Of Management And Technology',\n",
       "       'Bp Poddar Institute of management and technology',\n",
       "       'B P Podder Institute of Management and Technology',\n",
       "       'B P PODDAR INSTITUTE OF MANAGEMENT AND TECHNOLOGY', 'B.P.P.I.M.T',\n",
       "       \"Durgapur Women's College\", \"Duragpur Women's college\",\n",
       "       \"Aasansol Girls' College\", \"Durgapur women's college\",\n",
       "       'Durgapur Womens College ', 'Durgapur government college',\n",
       "       \"Durgapur Women's College \", \"Durgapur women's collage \",\n",
       "       \"Durgapur Women's College   Kazi Nazrul University\",\n",
       "       'Burdwan university ', \"DURGAPUR WOMEN'S COLLEGE\",\n",
       "       \"Durgapur women's college \", 'Durgapur government college ',\n",
       "       'College name - Durgapur Womens college',\n",
       "       \"Raniganj Girls' College \", \"DURGAPUR WOMEN'S COLLEGE \",\n",
       "       'KAJI najrul invercity', \"Durgapur woman's college \",\n",
       "       \"Durgapur women's College\", 'AKPC MAHAVIDYALAYA',\n",
       "       \"Durgapur Women's college\", 'UNIVERSITY OF BURDWAN',\n",
       "       'DURGAPUR GOVERNMENT COLLEGE', 'Durgapur women college',\n",
       "       \"Women's collage\", \"Durgapur WOMEN'S college \",\n",
       "       'DR BC ROY ENGINEERING & MANAGEMENT COLLEGE , DURGAPUR',\n",
       "       'Regent Education and Research Foundation',\n",
       "       'Regent education and research foundation',\n",
       "       'REGENT education&research foundation ',\n",
       "       'Regent Education & Research Foundation',\n",
       "       'Regent Education And Research Foundation',\n",
       "       'Regent education & research foundation barrackpore',\n",
       "       'Regent Education and Research Foundation ', 'RERF', 'Rerf',\n",
       "       'Regent Education & Research Foundation ',\n",
       "       'Regent Education and Reseach Foundation',\n",
       "       'Regent Education and Research Foundation    ',\n",
       "       'REGENT EDUCATION AND RESEARCH FOUNDATION ',\n",
       "       'Regent Education & Research Foundation Group of Institutions',\n",
       "       'Regent Education and Research foundation ',\n",
       "       'Regent Education and Research Foundation Group of Institutions',\n",
       "       'Regent Education Research and Foundation',\n",
       "       'Regent Education And Research Foundation Institution',\n",
       "       'Regent education and research Foundation',\n",
       "       'REGENT EDUCATION AND RESEARCH FOUNDATION',\n",
       "       'Regent Education and Research Foundation(group of institution)',\n",
       "       'Regent Education &Research Foundation',\n",
       "       'Regent Education and Research foundation',\n",
       "       'Regent Education &Research Foundation group of Institutions ',\n",
       "       'regent education and research foundarion group of institute ',\n",
       "       'REGENT EDUCATION & RESEARCH FOUNDATION',\n",
       "       'Regent education and research foundation group of institution',\n",
       "       'Regent education and research foundation ',\n",
       "       'regent education and research foundation ', 'RRERF',\n",
       "       'Presidency University ', 'Presidency University, Kolkata',\n",
       "       'PRESIDENCY UNIVERSITY', 'Presidency university',\n",
       "       'Lady Braborne college', 'Hyderabad Central University',\n",
       "       'Indian Institute of Foreign Trade,Kolkata',\n",
       "       'Lady Brabourne College, Kolkata', 'Calcutta University ',\n",
       "       'LADY BRABOURNE COLLEGE, CALCUTTA UNIVERSITY',\n",
       "       'Lady braboune college', 'Lady brabourne college ',\n",
       "       'LADY BRABOURNE COLLEGE, C.U.', 'Lady brabourne college, kolkata',\n",
       "       'Lady Brabourne college ',\n",
       "       \"St.Xavier's College (Autonomous), Kolkata \",\n",
       "       \"St. Xavier's University \",\n",
       "       'Indira gandhi institute of development research ', 'IGIDR',\n",
       "       'Gokhale Institute of Politics and Economics', 'Lady Brabourne ',\n",
       "       'Ladybrabourne college',\n",
       "       'Lady Brabourne College, University of Calcutta ',\n",
       "       'Lady Braboune Collage', 'Moulana azad college',\n",
       "       'Moulana Azad College', 'MAULANA AZAD COLLEGE ',\n",
       "       'Maulana Azad College Kolkata', 'maulana azad college',\n",
       "       'Moulana Azad Collage',\n",
       "       'Maulana Azad College, University Of Calcutta', 'MAC',\n",
       "       'Maulana Azad college ', 'Maulana Azad Collehe',\n",
       "       'Maulana azad college ', 'Seth Anandram Jaipuria College',\n",
       "       'Maulona Azad College'], dtype=object)"
      ]
     },
     "execution_count": 136,
     "metadata": {},
     "output_type": "execute_result"
    }
   ],
   "source": [
    "#total participate university\n",
    "unique = df3.College.unique()\n",
    "print(f\"Total University:{len(unique)}\")\n",
    "unique"
   ]
  },
  {
   "cell_type": "code",
   "execution_count": 137,
   "metadata": {},
   "outputs": [
    {
     "name": "stdout",
     "output_type": "stream",
     "text": [
      "University: United International University : \n",
      "Department: ['others']\n",
      "\n",
      "University: IIT: \n",
      "Department: ['Engineering']\n",
      "\n",
      "University: Shahjalal University of Science and Technology: \n",
      "Department: ['Engineering']\n",
      "\n",
      "University: Asutosh College: \n",
      "Department: ['Statistics', 'Statistics Honours Student', 'Bsc. Statistics Honours Student(Final Year)', 'Statistics', 'Statistics', 'Statistics', 'Statistics', 'Statistics honours', 'Statistics honours', 'Statistics', 'R', 'Statistics Honours', 'Statistics Hons', 'Honors (BSC/MSC)']\n",
      "\n",
      "University: DEPARTMENT OF PURE MATHEMATICS, UNIVERSITY OF CALCUTTA: \n",
      "Department: ['PURE MATHEMATICS']\n",
      "\n",
      "University: Vivekananda College: \n",
      "Department: ['B.Sc statistics', 'Honors (BSC/MSC)', 'Honors (BSC/MSC)', 'Honors (BSC/MSC)', 'Honors (BSC/MSC)', 'Bsc.Stat ', 'Statistics', 'Honors (BSC/MSC)']\n",
      "\n",
      "University: Future institute of engineering and management: \n",
      "Department: ['Engineering']\n",
      "\n",
      "University: J.K College: \n",
      "Department: ['B.Com (H)']\n",
      "\n",
      "University: Narasinha dutt college: \n",
      "Department: ['M.sc ', 'Mathematics', 'Math (H) ']\n",
      "\n",
      "University: J.k.clg purulia: \n",
      "Department: ['Commerce']\n",
      "\n",
      "University: NARASINHA DUTT COLLEGE : \n",
      "Department: ['M.Sc. in Applied Mathematics ']\n",
      "\n",
      "University: Global Nature Care Sangathan Group Of Institutions: \n",
      "Department: ['Civil Engineering']\n",
      "\n",
      "University: AIUB: \n",
      "Department: ['Engineering', 'Engineering', 'Engineering', 'Engineering', 'Honors (BSC/MSC)', 'Engineering', 'Honors (BSC/MSC)', 'Honors (BSC/MSC)', 'Engineering', 'Honors (BSC/MSC)', 'Engineering']\n",
      "\n",
      "University: Maulana Azad College: \n",
      "Department: ['Statistics Honours', 'Statistics honours', 'Graduation', 'Statistics', 'Statistics honours', 'Statistics ', 'Statistics', 'Honors (BSC/MSC)', 'Honors (BSC/MSC)', 'Honors (BSC/MSC)', 'Honors (BSC/MSC)', 'Honors (BSC/MSC)', 'Honors (BSC/MSC)', 'Honors (BSC/MSC)', 'Honors (BSC/MSC)', 'Honors (BSC/MSC)', 'Honors (BSC/MSC)', 'Honors (BSC/MSC)', 'Honors (BSC/MSC)', 'Honors (BSC/MSC)', 'Honors (BSC/MSC)', 'Honors (BSC/MSC)', 'Honors (BSC/MSC)', 'Honors (BSC/MSC)', 'Honors (BSC/MSC)', 'Honors (BSC/MSC)', 'Honors (BSC/MSC)', 'Honors (BSC/MSC)', 'Honors (BSC/MSC)', 'Honors (BSC/MSC)', 'Honors (BSC/MSC)', 'Honors (BSC/MSC)', 'Honors (BSC/MSC)', 'Honors (BSC/MSC)', 'Honors (BSC/MSC)', 'Honors (BSC/MSC)', 'Honors (BSC/MSC)', 'Honors (BSC/MSC)', 'Honors (BSC/MSC)', 'Honors (BSC/MSC)', 'Honors (BSC/MSC)', 'Honors (BSC/MSC)', 'Honors (BSC/MSC)', 'Honors (BSC/MSC)', 'Honors (BSC/MSC)', 'Honors (BSC/MSC)', 'Honors (BSC/MSC)', 'Honors (BSC/MSC)', 'Honors (BSC/MSC)', 'Honors (BSC/MSC)', 'Honors (BSC/MSC)', 'Honors (BSC/MSC)', 'Honors (BSC/MSC)', 'Honors (BSC/MSC)', 'Honors (BSC/MSC)', 'Honors (BSC/MSC)', 'Honors (BSC/MSC)', 'Honors (BSC/MSC)', 'Honors (BSC/MSC)']\n",
      "\n",
      "University: Purulia zilla school : \n",
      "Department: ['Atrs']\n",
      "\n",
      "University: Cummins college of Engineering for women : \n",
      "Department: ['Engineering']\n",
      "\n",
      "University: Daffodil  International  University : \n",
      "Department: ['Honors (BSC/MSC)']\n",
      "\n",
      "University: St.Xaviers college: \n",
      "Department: ['Statistics', 'Mathematics']\n",
      "\n",
      "University: Aiub: \n",
      "Department: ['Engineering']\n",
      "\n",
      "University: Asutosh College : \n",
      "Department: ['Statistics honours ', 'Statistics ']\n",
      "\n",
      "University: DIATM: \n",
      "Department: ['CSE', 'B. Tech in chemical engineering', 'ECE', 'Computer Science And Engineering', 'CSE']\n",
      "\n",
      "University: Purulia jk college: \n",
      "Department: ['Commerce', 'B.com']\n",
      "\n",
      "University: Narasinha Dutt college under Calcutta university : \n",
      "Department: ['Msc Mathematics ']\n",
      "\n",
      "University: Sister Nibedita Govt General Degree College for Girls : \n",
      "Department: ['Statistics Hons']\n",
      "\n",
      "University: ND College: \n",
      "Department: ['M. Sc (applied math) ']\n",
      "\n",
      "University: Ramakrishna Mission Shilpapitha: \n",
      "Department: ['Electronics and telecommunication']\n",
      "\n",
      "University: Viswass school & college of nursing: \n",
      "Department: ['B.sc nursing']\n",
      "\n",
      "University: Narasinha Dutt college afflicted by Calcutta University: \n",
      "Department: ['MSc in applied mathematics']\n",
      "\n",
      "University: Maulana Azad College : \n",
      "Department: ['Statistics (H)', 'Honors (BSC/MSC)', 'Honors (BSC/MSC)', 'Honors (BSC/MSC)', 'Honors (BSC/MSC)', 'Honors (BSC/MSC)', 'Honors (BSC/MSC)', 'Honors (BSC/MSC)', 'Honors (BSC/MSC)', 'Honors (BSC/MSC)', 'Honors (BSC/MSC)', 'Honors (BSC/MSC)', 'Honors (BSC/MSC)']\n",
      "\n",
      "University: Durgapur institute of advanced technology and management: \n",
      "Department: ['Engineering', 'Engineering', 'Electronics and communication engineering', 'Btech ']\n",
      "\n",
      "University: Durgapur Institute of Advanced Technology and Management: \n",
      "Department: ['B.Tech', 'Information Technology', 'B.tech in Electronic and Communication Engineering']\n",
      "\n",
      "University: Insitiution of engineering and managment: \n",
      "Department: ['B. Tech (Cse) ']\n",
      "\n",
      "University: St. Xavier's College: \n",
      "Department: ['Statistics', 'Statistics', 'Statistics', 'Statistics', 'Honors (BSC/MSC)', 'Statistics', 'Honors (BSC/MSC)']\n",
      "\n",
      "University: Asutosh college: \n",
      "Department: ['Bsc statistics', 'R', 'Economics', 'Statistics honours', 'Statistics hons']\n",
      "\n",
      "University: Sister Nibedita Govt. General Degree College For Girls: \n",
      "Department: ['Statistics Honours ']\n",
      "\n",
      "University: Manipal hospital: \n",
      "Department: ['Electrical engineering']\n",
      "\n",
      "University: Durgapur Institute Of Advance Technology and Management: \n",
      "Department: ['Btech 4th year on ECE department']\n",
      "\n",
      "University: West Bengal State University : \n",
      "Department: ['Mathematics ']\n",
      "\n",
      "University: St. Xavier's College , Kolkata : \n",
      "Department: ['BSc Statistics ']\n",
      "\n",
      "University: St. Xavier's College, Kolkata: \n",
      "Department: ['B. Sc. Statistics Hons.', 'Bsc. Statistics', 'Bsc. Statistics', 'B.Sc Statistics Honours', 'B. Sc. Statistics Hons. ']\n",
      "\n",
      "University: SKS Power Generation Chhattisgarh Ltd.: \n",
      "Department: ['Thermal Power Plant Engineering']\n",
      "\n",
      "University: Lady Brabourne College, University of Calcutta: \n",
      "Department: ['Statistics']\n",
      "\n",
      "University: Kalyani Mahavidyalaya: \n",
      "Department: [nan, 'B.Sc Statistics honours', 'Statistics Honours (B.Sc.)', 'Statistics honours', 'Statistics ', 'Statistics 2nd semester', 'Bsc.  in statistics']\n",
      "\n",
      "University: University of Calcutta: \n",
      "Department: ['M.sc', 'Pure mathematics', 'Applied Mathematics', 'Honors (BSC/MSC)']\n",
      "\n",
      "University: St. Xavier's college: \n",
      "Department: ['Statistics', 'Statistics honours']\n",
      "\n",
      "University: University College Of Science & Technology, University Of Calcutta: \n",
      "Department: ['M.Sc in Applied Mathematics']\n",
      "\n",
      "University: Lady Brabourne College: \n",
      "Department: [nan, 'Honors (BSC/MSC)', '3rd year Statistics honours ', 'Honors (BSC/MSC)', 'others', 'Honors (BSC/MSC)', 'Statistics (Honours)', 'Statistics', 'B.Sc (hons.) In statistics', 'Statistics Honours', 'Honors (BSC/MSC)', 'Honors (BSC/MSC)', 'Honors (BSC/MSC)', 'Honors (BSC/MSC)', 'Honors (BSC/MSC)', 'Honors (BSC/MSC)', 'Honors (BSC/MSC)', 'Honors (BSC/MSC)', 'Honors (BSC/MSC)', 'Honors (BSC/MSC)', 'Honors (BSC/MSC)', 'Honors (BSC/MSC)', 'Honors (BSC/MSC)', 'Honors (BSC/MSC)', 'Honors (BSC/MSC)', 'Honors (BSC/MSC)', 'Honors (BSC/MSC)', 'Honors (BSC/MSC)', 'Honors (BSC/MSC)', 'Honors (BSC/MSC)', 'Honors (BSC/MSC)', 'Honors (BSC/MSC)', 'Honors (BSC/MSC)', 'Honors (BSC/MSC)', 'Honors (BSC/MSC)', 'Honors (BSC/MSC)', 'Honors (BSC/MSC)', 'Honors (BSC/MSC)', 'Honors (BSC/MSC)', 'Honors (BSC/MSC)', 'Honors (BSC/MSC)', 'Honors (BSC/MSC)', 'Honors (BSC/MSC)', 'Honors (BSC/MSC)', 'Honors (BSC/MSC)', 'Honors (BSC/MSC)', 'Honors (BSC/MSC)', 'Honors (BSC/MSC)', 'Honors (BSC/MSC)', 'Honors (BSC/MSC)', 'Honors (BSC/MSC)', 'Honors (BSC/MSC)', 'Honors (BSC/MSC)', 'Honors (BSC/MSC)', 'Honors (BSC/MSC)', 'Honors (BSC/MSC)', 'Honors (BSC/MSC)', 'Honors (BSC/MSC)', 'Honors (BSC/MSC)', 'Honors (BSC/MSC)', 'Honors (BSC/MSC)', 'Honors (BSC/MSC)', 'Honors (BSC/MSC)', 'Honors (BSC/MSC)', 'Honors (BSC/MSC)', 'Honors (BSC/MSC)', 'Honors (BSC/MSC)', 'Honors (BSC/MSC)', 'Honors (BSC/MSC)']\n",
      "\n",
      "University: Vivekananda college, Calcutta University: \n",
      "Department: ['Honors (BSC/MSC)']\n",
      "\n",
      "University: Jagannath Kishore college,Purulia: \n",
      "Department: ['Computer Science']\n",
      "\n",
      "University: Hooghly Engineering and Technology College: \n",
      "Department: ['B.tech in Electronics and communication engineering']\n",
      "\n",
      "University: J.K.College : \n",
      "Department: ['Computer Science']\n",
      "\n",
      "University: Islamic University, Kushtia: \n",
      "Department: ['Honors (BSC/MSC)']\n",
      "\n",
      "University: Narasinha dutt college : \n",
      "Department: ['M.sc in applied mathematics. ']\n",
      "\n",
      "University: West Bengal University of Health Sciences: \n",
      "Department: ['Dental Surgery']\n",
      "\n",
      "University: Institute of Engineering and Management (IEM): \n",
      "Department: ['Engineering']\n",
      "\n",
      "University: Kalyani mahavidyalaya: \n",
      "Department: ['Statistics ', 'B.sc statistics', 'Statistics']\n",
      "\n",
      "University: Acharya institute of management and sciences: \n",
      "Department: ['BCA']\n",
      "\n",
      "University: Techno International Newtown: \n",
      "Department: ['Engineering', 'Engineering']\n",
      "\n",
      "University: Bethune College : \n",
      "Department: ['Statistics ', 'Honors (BSC/MSC)', 'Honors (BSC/MSC)']\n",
      "\n",
      "University: ISRT , University of Dhaka : \n",
      "Department: ['Honors (BSC/MSC)']\n",
      "\n",
      "University: Vivekananda college , CU: \n",
      "Department: ['Honors (BSC/MSC)']\n",
      "\n",
      "University: NSU: \n",
      "Department: ['Honors (BSC/MSC)', 'Honors (BSC/MSC)']\n",
      "\n",
      "University: st Xavier's College : \n",
      "Department: ['Honors (BSC/MSC)']\n",
      "\n",
      "University: St xavier's College, kolkata: \n",
      "Department: ['Statistics ']\n",
      "\n",
      "University: Narasinha Dutta College: \n",
      "Department: ['Msc in applied mathematics', 'APPLIES MATHEMATICS']\n",
      "\n",
      "University: NARASINHA DUTT COLLEGE: \n",
      "Department: ['Master of science in applied Mathematics', 'M.SC. MATHEMATICS']\n",
      "\n",
      "University: American International University Bangladesh : \n",
      "Department: ['Honors (BSC/MSC)']\n",
      "\n",
      "University: Jagannath Kishore College: \n",
      "Department: ['Computer science']\n",
      "\n",
      "University: NARASINHA DUTT COLLEGE, UNIVERSITY OF CALCUTTA: \n",
      "Department: ['M.SC. IN APPLIED MATHEMATICS']\n",
      "\n",
      "University: Narasingha Dutt College : \n",
      "Department: ['MSc Mathematics']\n",
      "\n",
      "University: Durgapur Institute of Advanced Technology and Management : \n",
      "Department: ['Computer Science and Engineering ', 'Engineering']\n",
      "\n",
      "University: nan: \n",
      "Department: []\n",
      "\n",
      "University: Comilla University: \n",
      "Department: ['BBA']\n",
      "\n",
      "University: Techno India Saltlake: \n",
      "Department: ['BCA']\n",
      "\n",
      "University: St. Xavier's College (Autonomous) , Kolkata: \n",
      "Department: ['B.Sc Statistics Hons. ']\n",
      "\n",
      "University: Narasinha Dutt College: \n",
      "Department: ['Msc mathematics', 'M. Sc', 'Mathematics', nan]\n",
      "\n",
      "University: Academy Of Technology: \n",
      "Department: ['Mechanical Engineer', 'Mechanical engineering', 'Mechanical Engineering']\n",
      "\n",
      "University: Thakurpukur Vivekananda College : \n",
      "Department: ['Honors (BSC/MSC)']\n",
      "\n",
      "University: Ramsaday College: \n",
      "Department: [nan]\n",
      "\n",
      "University: J.K college: \n",
      "Department: ['B.Com Honours']\n",
      "\n",
      "University: Calcutta University ( Ballygaunge Science College) : \n",
      "Department: ['M.SC in pure mathematics']\n",
      "\n",
      "University: RKMVERI BELUR MATH: \n",
      "Department: ['MSC IN MATHEMATICS']\n",
      "\n",
      "University: JJ Glastronics: \n",
      "Department: ['Mechanical Engineering']\n",
      "\n",
      "University: Kalyani Mahabidyalaya: \n",
      "Department: [nan]\n",
      "\n",
      "University: Gauhati University: \n",
      "Department: ['Library and Information Science']\n",
      "\n",
      "University: Maulana azad college: \n",
      "Department: ['Statistics (H)']\n",
      "\n",
      "University: Jadavpur University: \n",
      "Department: ['Post Graduate (Mathematics) ', 'Mathematics ', nan, 'M.sc in Mathematics', 'Mathematics', 'Mathematics', 'Mathematics', 'Mathematics', 'Msc in Mathematics', 'MSc', 'Mathematics', 'Studying M.sc in mathematics', 'M.sc Mathematics']\n",
      "\n",
      "University: Basanti Devi College: \n",
      "Department: ['Statistics Honours']\n",
      "\n",
      "University: The International University of Scholars: \n",
      "Department: ['Engineering']\n",
      "\n",
      "University: London  South  Bank  University : \n",
      "Department: ['Honors (BSC/MSC)']\n",
      "\n",
      "University: North South University : \n",
      "Department: ['Honors (BSC/MSC)', 'Engineering', 'BBA', 'BBA']\n",
      "\n",
      "University: Bangladesh Institute of Governance and Management (BIGM)       : \n",
      "Department: ['Honors (BSC/MSC)']\n",
      "\n",
      "University: Guru NANAK INSTITUTE OF PHARMACEUTICAL SCIENCE AND TECHNOLOGY: \n",
      "Department: ['Microbiology']\n",
      "\n",
      "University: Bethune college: \n",
      "Department: ['Honors (BSC/MSC)', 'Honors (BSC/MSC)', 'Honors (BSC/MSC)', 'Msc in pure maths', 'Honors (BSC/MSC)']\n",
      "\n",
      "University: National Power Training Institute Durgapur: \n",
      "Department: ['Engineering']\n",
      "\n",
      "University: Maulana Azad college: \n",
      "Department: ['Bsc statistics hons', 'English honours', 'Honors (BSC/MSC)', 'Honors (BSC/MSC)', 'Honors (BSC/MSC)', 'Honors (BSC/MSC)', 'Honors (BSC/MSC)', 'Honors (BSC/MSC)', 'Honors (BSC/MSC)', 'Honors (BSC/MSC)', 'Honors (BSC/MSC)', 'Honors (BSC/MSC)', 'Honors (BSC/MSC)', 'Honors (BSC/MSC)']\n",
      "\n",
      "University: Jk college: \n",
      "Department: ['Computer science']\n",
      "\n",
      "University: Kerala University : \n",
      "Department: ['others']\n",
      "\n",
      "University: NPTI (ER): \n",
      "Department: ['Engineering']\n",
      "\n",
      "University: Institute of Engineering and Management: \n",
      "Department: ['Electrical Engineering']\n",
      "\n",
      "University: Bethune College,  Kolkata: \n",
      "Department: ['Honors (BSC/MSC)']\n",
      "\n",
      "University: Professional: \n",
      "Department: ['Computer Science']\n",
      "\n",
      "University: University of Dhaka: \n",
      "Department: ['Engineering', 'Engineering', 'Honors (BSC/MSC)']\n",
      "\n",
      "University: Bharat University, Chennai: \n",
      "Department: ['Btech']\n",
      "\n",
      "University: Jadavpur University : \n",
      "Department: ['Mathematics Honours (MSc)']\n",
      "\n",
      "University: Comilla University  : \n",
      "Department: ['BBA']\n",
      "\n",
      "University: North-south university: \n",
      "Department: ['Engineering', 'Engineering']\n",
      "\n",
      "University: Future Institute of Engineering and Management: \n",
      "Department: ['Electrical Engineering']\n",
      "\n",
      "University: PRESIDENCY UNIVERSITY : \n",
      "Department: ['Honors (BSC/MSC)']\n",
      "\n",
      "University: American International University-Bangladesh: \n",
      "Department: ['Engineering', 'Honors (BSC/MSC)']\n",
      "\n",
      "University: Vidyasagar college for women: \n",
      "Department: ['Mathematics']\n",
      "\n",
      "University: JADAVPUR UNIVERSITY : \n",
      "Department: [' LINEAR ALGEBRA IN MATHEMATICS', 'MATHEMATICS ']\n",
      "\n",
      "University: Presidency University: \n",
      "Department: ['Honors (BSC/MSC)', 'Honors (BSC/MSC)', 'Statistics', 'Honors (BSC/MSC)', 'Honors (BSC/MSC)', 'Honors (BSC/MSC)', 'Honors (BSC/MSC)', 'Honors (BSC/MSC)', 'Honors (BSC/MSC)', 'Honors (BSC/MSC)', 'Honors (BSC/MSC)', 'Honors (BSC/MSC)', 'Honors (BSC/MSC)', 'Honors (BSC/MSC)', 'Honors (BSC/MSC)', 'Honors (BSC/MSC)', 'Honors (BSC/MSC)', 'Honors (BSC/MSC)', 'Honors (BSC/MSC)']\n",
      "\n",
      "University: Gl bajaj: \n",
      "Department: ['Mca']\n",
      "\n",
      "University: American International University-Bangladesh : \n",
      "Department: ['BBA', 'Engineering', 'Engineering']\n",
      "\n",
      "University: National power training institute Nagpur: \n",
      "Department: ['Power']\n",
      "\n",
      "University: North South University: \n",
      "Department: ['BBA', 'Honors (BSC/MSC)']\n",
      "\n",
      "University: Kalyani mahavidyalay: \n",
      "Department: ['Statistics']\n",
      "\n",
      "University: Bethune: \n",
      "Department: ['Honors (BSC/MSC)']\n",
      "\n",
      "University: Bethune College: \n",
      "Department: ['B.Sc.(honours) in Statistics', nan, 'Honors (BSC/MSC)', 'Statistics', 'Mathematics', 'Honors (BSC/MSC)']\n",
      "\n",
      "University: Future Institute of Technology: \n",
      "Department: ['B.tech', 'ECE', 'B.tech']\n",
      "\n",
      "University: Dr. B. C. Roy Engineering college: \n",
      "Department: ['Engineering']\n",
      "\n",
      "University: Durgapur Institute of advance technology and managment: \n",
      "Department: ['Engineering']\n",
      "\n",
      "University: Government College of Engineering and Leather Technology: \n",
      "Department: ['Leather Technology', 'Leather Technology']\n",
      "\n",
      "University: Kalyani Mahavidya: \n",
      "Department: [nan]\n",
      "\n",
      "University: N.P.T.I(E.R.): \n",
      "Department: ['Engineering']\n",
      "\n",
      "University: St. Xavier's College, Kolkata : \n",
      "Department: ['Statistics ']\n",
      "\n",
      "University: Indira Gandhi National University: \n",
      "Department: ['BCA']\n",
      "\n",
      "University: Vidyasaagar university: \n",
      "Department: ['Applied mathematics in  Oceanology &computer application']\n",
      "\n",
      "University: Mugberia gangadhar mahavidyalaya : \n",
      "Department: ['Mathematics']\n",
      "\n",
      "University: Dr.b.c.roy engineering college: \n",
      "Department: ['Engineering']\n",
      "\n",
      "University:  Uttarpara Amarendra Vidyapith: \n",
      "Department: ['H.S passed']\n",
      "\n",
      "University: Techno International New Town: \n",
      "Department: ['Engineering']\n",
      "\n",
      "University: Durgapur institute of advanced and technology management: \n",
      "Department: ['Byech']\n",
      "\n",
      "University: NPTI, NAGPUR: \n",
      "Department: ['Power engineering']\n",
      "\n",
      "University: Jagannath Kishore College, Purulia: \n",
      "Department: ['Bsc Computer science']\n",
      "\n",
      "University: Basantidevi College: \n",
      "Department: ['Statistics']\n",
      "\n",
      "University: IIT,University of Dhaka: \n",
      "Department: ['Engineering']\n",
      "\n",
      "University: Makaut(Formely wbut): \n",
      "Department: ['EE']\n",
      "\n",
      "University: American International University- Bangladesh: \n",
      "Department: ['Engineering']\n",
      "\n",
      "University: American International University Bangladesh: \n",
      "Department: ['Engineering', 'Engineering']\n",
      "\n",
      "University: Shahjalal University of Science & Technology   : \n",
      "Department: ['Engineering']\n",
      "\n",
      "University: Bangabandhu Sheikh Mujibur Rahman Science & Technology : \n",
      "Department: ['others']\n",
      "\n",
      "University: Bangabandhu Sheikh Mujibur Rahman Science & Technology University       : \n",
      "Department: ['Engineering']\n",
      "\n",
      "University: Jahangirnagar University  : \n",
      "Department: ['Honors (BSC/MSC)']\n",
      "\n",
      "University: Jahangirnagar University : \n",
      "Department: ['others']\n",
      "\n",
      "University: BUET: \n",
      "Department: ['Engineering']\n",
      "\n",
      "University: SBPGC: \n",
      "Department: ['Engineering']\n",
      "\n",
      "University: American international university Bangladesh : \n",
      "Department: ['Engineering']\n",
      "\n",
      "University: North South University (NSU): \n",
      "Department: ['BBA', 'BBA']\n",
      "\n",
      "University: American international university of Bangladesh: \n",
      "Department: ['Engineering']\n",
      "\n",
      "University: North South University   : \n",
      "Department: ['Engineering', 'Engineering']\n",
      "\n",
      "University: Public Administration : \n",
      "Department: ['Honors (BSC/MSC)']\n",
      "\n",
      "University: American International University - Bangladesh: \n",
      "Department: ['Engineering', 'Engineering', 'Engineering']\n",
      "\n",
      "University: University Of Dhaka: \n",
      "Department: ['Honors (BSC/MSC)']\n",
      "\n",
      "University: LADY BRABOURNE COLLEGE: \n",
      "Department: ['Honors (BSC/MSC)', 'Honors (BSC/MSC)', 'Honors (BSC/MSC)']\n",
      "\n",
      "University: Netaji Subhas Open University: \n",
      "Department: ['M.Sc Mathematics']\n",
      "\n",
      "University: Maulana Abul Kalam Azad University of Technology: \n",
      "Department: ['B.Tech(CSE)', 'B.tech ( CSE )', 'B.Tech CSE', 'B.tech(IT)', 'B.tech (IT)']\n",
      "\n",
      "University: Vidyasagar University: \n",
      "Department: ['MSc in Applied Mathematics', 'Mathematics (MSC)', 'Aplied mathematics with oceanology and computer programming', 'Mathematics', 'M.Sc in Mathematics', 'Mathematics']\n",
      "\n",
      "University: National Institute Of Technology Warangal: \n",
      "Department: ['Applied Mathematics']\n",
      "\n",
      "University: Ramakrishna Mission Vidyamandira : \n",
      "Department: ['Diploma on Travel and Tourism Management']\n",
      "\n",
      "University: Notre dame UniversityBangladesh  : \n",
      "Department: ['Engineering']\n",
      "\n",
      "University: Vidyasagar collage : \n",
      "Department: [nan]\n",
      "\n",
      "University: JADAVPUR UNIVERSITY: \n",
      "Department: ['MATHEMATICS', 'M.Sc  in mathematics', 'MATHEMATICS']\n",
      "\n",
      "University: Indian Institute of Engineering Science And Technology Shibpur: \n",
      "Department: ['Engineering']\n",
      "\n",
      "University: Ahsanullah University of Science and Technology : \n",
      "Department: ['Engineering']\n",
      "\n",
      "University: Chittaranjan College, Kolkata : \n",
      "Department: ['Mathematics ']\n",
      "\n",
      "University: Bangalore university: \n",
      "Department: ['Mathematics']\n",
      "\n",
      "University: Maulana Abul Kalam Azad University of Technology : \n",
      "Department: ['B. Tech CSE', 'Computer Science and engineering ']\n",
      "\n",
      "University: Institution / Organization / College name : \n",
      "Department: ['Filed of study ']\n",
      "\n",
      "University: University of Liberal Arts : \n",
      "Department: ['Engineering']\n",
      "\n",
      "University: University of Liberal Arts Bangladesh: \n",
      "Department: ['Engineering']\n",
      "\n",
      "University: Dyal Singh College (day) : \n",
      "Department: ['others']\n",
      "\n",
      "University: DIATM DURGAPUR : \n",
      "Department: ['ECE']\n",
      "\n",
      "University: Vivekananda  College: \n",
      "Department: ['Honors (BSC/MSC)']\n",
      "\n",
      "University: Maulana Abul Kalam Azad University of Technology, W.B: \n",
      "Department: ['B.Tech in CSE']\n",
      "\n",
      "University: Christ  University: \n",
      "Department: ['Msc Data science']\n",
      "\n",
      "University: Durgapur institute of advanced technology: \n",
      "Department: ['Btech electronics and communication']\n",
      "\n",
      "University: American International University of Bangladesh (AIUB): \n",
      "Department: ['Engineering']\n",
      "\n",
      "University: RCC institute of information technology: \n",
      "Department: ['Electrical engineering']\n",
      "\n",
      "University: Belda College: \n",
      "Department: ['M.sc in Applied Mathematics (2nd Sem)']\n",
      "\n",
      "University: FUTURETECH PRIVATE ITI : \n",
      "Department: ['ELECTRICIAN ']\n",
      "\n",
      "University: J.k. college: \n",
      "Department: ['Comp sc.']\n",
      "\n",
      "University: BRABU: \n",
      "Department: ['M.SC(Electronics)']\n",
      "\n",
      "University: Burdwan University: \n",
      "Department: ['Economics', 'others']\n",
      "\n",
      "University: Durgapur institute of advance technology and managment: \n",
      "Department: ['B-tech in ece']\n",
      "\n",
      "University: Global engineering college: \n",
      "Department: ['B tech']\n",
      "\n",
      "University: Prabhat Kumar College: \n",
      "Department: ['B.Sc honours (Computer Science)']\n",
      "\n",
      "University: Calcutta university : \n",
      "Department: ['Bsc(state )']\n",
      "\n",
      "University: St.Xavier's College,Kolkata: \n",
      "Department: ['Statistics']\n",
      "\n",
      "University: Shibpur Dinobondhoo Institution (College) : \n",
      "Department: ['B.Sc , honours in Maths']\n",
      "\n",
      "University: Durgapur institute of advanced technology and management : \n",
      "Department: ['B.tech']\n",
      "\n",
      "University: Durgapur institute of advanced technology and managemant rajbandh: \n",
      "Department: [\"B-tech (ECE 2'nd year)\"]\n",
      "\n",
      "University: MAULANA ABUL KALAM AZAD UNIVERSITY OF TECHNOLOGY : \n",
      "Department: ['YES']\n",
      "\n",
      "University: Vivekananda College Thakurpukur: \n",
      "Department: ['Bsc statistics honours']\n",
      "\n",
      "University: St. Xavier's College Kolkata: \n",
      "Department: ['Statistics']\n",
      "\n",
      "University: University of Dhaka   : \n",
      "Department: ['Honors (BSC/MSC)', 'Honors (BSC/MSC)']\n",
      "\n",
      "University: Durgapur Institute of advanced technology and management : \n",
      "Department: ['Mechanical engineering ']\n",
      "\n",
      "University: UNIVERSITY OF MUMBAI: \n",
      "Department: ['Engineering']\n",
      "\n",
      "University: Lady Brabourne College : \n",
      "Department: ['Honors (BSC/MSC)', 'B.Sc. in Statistics', 'Sem 3', 'Statistics (hons) ', 'Honors (BSC/MSC)', 'Honors (BSC/MSC)', 'Honors (BSC/MSC)', 'Honors (BSC/MSC)', 'Honors (BSC/MSC)', 'Honors (BSC/MSC)', 'Honors (BSC/MSC)', 'Honors (BSC/MSC)', 'Honors (BSC/MSC)', 'Honors (BSC/MSC)', 'Honors (BSC/MSC)', 'Honors (BSC/MSC)', 'Honors (BSC/MSC)', 'Honors (BSC/MSC)', 'Honors (BSC/MSC)', 'Honors (BSC/MSC)', 'Honors (BSC/MSC)', 'Honors (BSC/MSC)', 'Honors (BSC/MSC)', 'Honors (BSC/MSC)', 'Honors (BSC/MSC)', 'Honors (BSC/MSC)', 'Honors (BSC/MSC)', 'Honors (BSC/MSC)', 'Honors (BSC/MSC)', 'Honors (BSC/MSC)', 'Honors (BSC/MSC)']\n",
      "\n",
      "University: Durgapur Institute of Advancedpur Technology and Management: \n",
      "Department: ['Engineering']\n",
      "\n",
      "University: Surendranath college: \n",
      "Department: [nan]\n",
      "\n",
      "University: ASUTOSH COLLEGE: \n",
      "Department: ['Statistics Hons']\n",
      "\n",
      "University: St. Xavier's College (Autonomous), Kolkata. : \n",
      "Department: ['Bsc. Statistics Hons.']\n",
      "\n",
      "University: OmDayal Group Of Institutions: \n",
      "Department: ['Computer Science and Engineering']\n",
      "\n",
      "University: St.Xavier's College Kolkata: \n",
      "Department: ['Honors (BSC/MSC)']\n",
      "\n",
      "University: Vivekananda college: \n",
      "Department: ['Statistics ( Hons.)', nan]\n",
      "\n",
      "University: Amta Ramsaday College: \n",
      "Department: ['Bsc. Hons']\n",
      "\n",
      "University: DIATM, Durgapur: \n",
      "Department: ['Mechanical']\n",
      "\n",
      "University: Basanti devi College: \n",
      "Department: ['Statistics Hons.']\n",
      "\n",
      "University: BETHUNE COLLEGE: \n",
      "Department: ['MATHEMATICS ']\n",
      "\n",
      "University: Ahsanullah University of Science and Technology: \n",
      "Department: ['Engineering']\n",
      "\n",
      "University: Asansol engineering college: \n",
      "Department: ['Electrical engineering']\n",
      "\n",
      "University: MAULANA AZAD COLLEGE: \n",
      "Department: ['STATISTICS', 'B.sc in Statistics', 'Honors (BSC/MSC)', 'Honors (BSC/MSC)', 'Honors (BSC/MSC)', 'Honors (BSC/MSC)', 'Honors (BSC/MSC)', 'Honors (BSC/MSC)']\n",
      "\n",
      "University: Presidency university : \n",
      "Department: ['Honors (BSC/MSC)', 'Honors (BSC/MSC)']\n",
      "\n",
      "University: Vivekananda College,Thakurpukur: \n",
      "Department: ['Bsc statistics hons', 'B.Sc Statistics honours']\n",
      "\n",
      "University: Durgapur Institute of Advanced Technology & Management: \n",
      "Department: ['B.tech (ECE)']\n",
      "\n",
      "University: Future Institute of Technology : \n",
      "Department: ['B.Tech(CSE)', 'Electronics and communications engineering (B.Tech)']\n",
      "\n",
      "University: Victoria Institution: \n",
      "Department: ['Bsc physics honours ']\n",
      "\n",
      "University: Lady brabourne college: \n",
      "Department: ['Honors (BSC/MSC)', 'Statistics hons', 'Honors (BSC/MSC)', 'Honors (BSC/MSC)', 'Honors (BSC/MSC)', 'Honors (BSC/MSC)', 'Honors (BSC/MSC)', 'Honors (BSC/MSC)', 'others']\n",
      "\n",
      "University: Corporate Institute Of Pharmacy: \n",
      "Department: ['B. Pharmacy']\n",
      "\n",
      "University: Amity University Kolkata: \n",
      "Department: ['Computer Science Engineering']\n",
      "\n",
      "University: National power training institute (E.R) Durgapur: \n",
      "Department: ['Power engineering']\n",
      "\n",
      "University: St Xavier's College Kolkata: \n",
      "Department: ['Statistics']\n",
      "\n",
      "University: At. Xavier's College: \n",
      "Department: ['Statistics ']\n",
      "\n",
      "University: Ramakrishna Mission Vidyamandira: \n",
      "Department: ['MSc - Mathematics']\n",
      "\n",
      "University: Bethune colege: \n",
      "Department: ['Honors (BSC/MSC)']\n",
      "\n",
      "University: Hffc: \n",
      "Department: ['engineering']\n",
      "\n",
      "University: Corporate Institute of Pharmacy : \n",
      "Department: ['B. Pharmacy']\n",
      "\n",
      "University: Maulana Azad College, Kolkata: \n",
      "Department: ['B.Sc Statistics honours', 'STATISTICS', 'Honors (BSC/MSC)', 'Honors (BSC/MSC)']\n",
      "\n",
      "University: Lalbaba college : \n",
      "Department: ['B.Sc']\n",
      "\n",
      "University: Aliah University : \n",
      "Department: ['Honors (BSC/MSC)']\n",
      "\n",
      "University: NIST: \n",
      "Department: ['IT']\n",
      "\n",
      "University: Green University of Bangladesh: \n",
      "Department: ['Engineering']\n",
      "\n",
      "University: 1998: \n",
      "Department: ['Statistics']\n",
      "\n",
      "University: Raja Peary Mohan college: \n",
      "Department: ['Did my graduation on mathematics']\n",
      "\n",
      "University: National institute of science and technology,berhampur: \n",
      "Department: ['Electrical and electronics engineering ', 'EEE ']\n",
      "\n",
      "University: American International University - Bangladesh : \n",
      "Department: ['Engineering']\n",
      "\n",
      "University: International University of Scholarsh: \n",
      "Department: ['Engineering']\n",
      "\n",
      "University: BRAC University: \n",
      "Department: ['Engineering', 'Honors (BSC/MSC)']\n",
      "\n",
      "University: Central University of Jharkhand: \n",
      "Department: ['Energy Engineering']\n",
      "\n",
      "University: VIDYASAGAR UNIVERSITY, MEDINIPUR: \n",
      "Department: ['Msc in applied mathematics']\n",
      "\n",
      "University: UITS: \n",
      "Department: ['Honors (BSC/MSC)']\n",
      "\n",
      "University: Independent University, Bangladesh: \n",
      "Department: ['Engineering']\n",
      "\n",
      "University: The New Horizons Institute of Technology: \n",
      "Department: ['Engineering']\n",
      "\n",
      "University: Jogomaya Devi college : \n",
      "Department: ['Mathematics honours ']\n",
      "\n",
      "University: Raja Peary Mohan College: \n",
      "Department: ['Bsc math honours']\n",
      "\n",
      "University: Sister Nibedita Govt. General Degree College for girls: \n",
      "Department: ['Statistics']\n",
      "\n",
      "University: RGPV: \n",
      "Department: ['Computer science']\n",
      "\n",
      "University: Surendranath College: \n",
      "Department: ['R']\n",
      "\n",
      "University: FUTURE INSTITUTE OF TECHNOLOGY: \n",
      "Department: ['Computer science engineering']\n",
      "\n",
      "University: Future Institute Of Technology: \n",
      "Department: ['CSE', 'Electrical Engineering', 'Electrical Engineering']\n",
      "\n",
      "University: Asutosh College, Kolkata   : \n",
      "Department: ['Statistics ']\n",
      "\n",
      "University: Raja Peary Mohan College, Uttarpara: \n",
      "Department: ['Mathematics']\n",
      "\n",
      "University: Future Institute of technology: \n",
      "Department: ['B. Tech']\n",
      "\n",
      "University: North south University  : \n",
      "Department: ['Honors (BSC/MSC)']\n",
      "\n",
      "University: Seacom engineering college : \n",
      "Department: ['Computer science engineering ']\n",
      "\n",
      "University: Zoom international: \n",
      "Department: ['others']\n",
      "\n",
      "University: Vivekananda College : \n",
      "Department: ['Honors (BSC/MSC)']\n",
      "\n",
      "University: Narula Institute of Technology: \n",
      "Department: ['Engineering']\n",
      "\n",
      "University: FUTURE INSTITUTE OF TECHNOLOGY : \n",
      "Department: ['ELECTRONICS AND COMMUNICATION ENGINEERING (B.TECH))']\n",
      "\n",
      "University: St. Xavier's College , Kolkata: \n",
      "Department: ['Statistics']\n",
      "\n",
      "University: Aot: \n",
      "Department: ['Mca']\n",
      "\n",
      "University: National power training institute: \n",
      "Department: ['Power plant engineering', 'Instrumentation engineer']\n",
      "\n",
      "University: RKMVERI (BELUR CAMPUS): \n",
      "Department: ['Mathematics ']\n",
      "\n",
      "University: Vivekananda college : \n",
      "Department: ['Statistics hons.']\n",
      "\n",
      "University: Academy of Technology: \n",
      "Department: ['ME']\n",
      "\n",
      "University: Durgapur Instute Of Advance Technology And Management: \n",
      "Department: ['Engineering']\n",
      "\n",
      "University: Dr.B.C.ROY ENGINEERING COLLEGE: \n",
      "Department: ['Engineering']\n",
      "\n",
      "University: St Xavier's College: \n",
      "Department: ['Statistics', 'Bsc Statistics Hons']\n",
      "\n",
      "University: Ramakrishna Mission Vivekananda Educational and Research Institute : \n",
      "Department: ['M.Sc in Mathematics ']\n",
      "\n",
      "University: St. Xavier's College (Autonomous),Kolkata: \n",
      "Department: ['Honors (BSC/MSC)']\n",
      "\n",
      "University: Ashutosh College    : \n",
      "Department: ['R']\n",
      "\n",
      "University: College of engineering Roorkee: \n",
      "Department: [\"Bachelor's of Computer applications\"]\n",
      "\n",
      "University: Bethune College, Kolkata: \n",
      "Department: ['Mathematics']\n",
      "\n",
      "University: National Power Training Institute ( E.R ) : \n",
      "Department: ['Power Engineering ']\n",
      "\n",
      "University: Lady Brabourne college: \n",
      "Department: ['Graduate', 'Honors (BSC/MSC)', 'Honors (BSC/MSC)', 'others', 'Honors (BSC/MSC)', 'Honors (BSC/MSC)', 'Honors (BSC/MSC)', 'Honors (BSC/MSC)', 'Honors (BSC/MSC)']\n",
      "\n",
      "University: Future institute of technology : \n",
      "Department: ['Electronics and communication Engineering (B.Tech)']\n",
      "\n",
      "University: Narula institute of technology: \n",
      "Department: ['Engineering']\n",
      "\n",
      "University: RKMVERI, BELUR MATH: \n",
      "Department: ['Msc. Mathematics']\n",
      "\n",
      "University: Techno India salt lake: \n",
      "Department: ['BCA ']\n",
      "\n",
      "University: Islamic University of Technology (IUT): \n",
      "Department: ['Engineering']\n",
      "\n",
      "University: Bangladesh Agricultural Research Institute    : \n",
      "Department: ['Honors (BSC/MSC)']\n",
      "\n",
      "University: Ramakrishna Mission Vivekananda Educational And Research Institute: \n",
      "Department: ['Mathematics MSc.']\n",
      "\n",
      "University: BRAC University : \n",
      "Department: ['Engineering']\n",
      "\n",
      "University: Bidhannagar college: \n",
      "Department: ['Statistics']\n",
      "\n",
      "University: Bidhannagar College: \n",
      "Department: ['Statistics Honours']\n",
      "\n",
      "University: Sir Gurudas Mahavidyalaya: \n",
      "Department: ['B.Sc.']\n",
      "\n",
      "University: DURGAPUR INSTITUTE OF ADVANCED TECHNOLOGY AND MANEGEMENT: \n",
      "Department: ['Engineering']\n",
      "\n",
      "University: American International University of Bangladesh: \n",
      "Department: ['Honors (BSC/MSC)']\n",
      "\n",
      "University: JadavpurUniversity  : \n",
      "Department: ['Msc Mathematics ']\n",
      "\n",
      "University: Narula Institute of technology: \n",
      "Department: ['Engineering']\n",
      "\n",
      "University: Vidyasagar College: \n",
      "Department: ['3rd year mathematics honours']\n",
      "\n",
      "University: national institute of science and technology: \n",
      "Department: ['electrical engineering']\n",
      "\n",
      "University: Visvabharati university: \n",
      "Department: ['Msc statistics']\n",
      "\n",
      "University: International University of Scholars: \n",
      "Department: ['Honors (BSC/MSC)']\n",
      "\n",
      "University: New Alipore College: \n",
      "Department: ['Independent Cyber Security Researcher']\n",
      "\n",
      "University: American International University-Bangladesh     : \n",
      "Department: ['Honors (BSC/MSC)']\n",
      "\n",
      "University: UNIVERSITY OF CHITTAGONG: \n",
      "Department: ['others']\n",
      "\n",
      "University: Bidhannagar college : \n",
      "Department: ['Physics']\n",
      "\n",
      "University: Shibpur Dinobundhoo institution: \n",
      "Department: ['Honors (BSC/MSC)']\n",
      "\n",
      "University: Durgapur Institute Of Advanced Technology and Management: \n",
      "Department: ['B.tech in ECE']\n",
      "\n",
      "University: DIATM durgapur: \n",
      "Department: ['Computer science and engineering']\n",
      "\n",
      "University: Iub: \n",
      "Department: ['BBA']\n",
      "\n",
      "University: Uttara University: \n",
      "Department: ['Engineering']\n",
      "\n",
      "University: B. P. Poddar Institute of Management and Technology: \n",
      "Department: ['others', 'others']\n",
      "\n",
      "University: B. P. Poddar Institute of Management And Technology: \n",
      "Department: ['others']\n",
      "\n",
      "University: B. P. Poddar Institute of Technology and Management: \n",
      "Department: ['others']\n",
      "\n",
      "University: B.P. PODDAR INSTITUTE OF MANAGEMENT AND TECHNOLOGY: \n",
      "Department: ['others', 'others', 'others']\n",
      "\n",
      "University: B.P.Poddar Institution of Management & Technology: \n",
      "Department: ['others']\n",
      "\n",
      "University: B.P.PODDAR INSTITUTE OF MANAGEMENT AND TECHNOLOGY: \n",
      "Department: ['others', 'others', 'others', 'others']\n",
      "\n",
      "University: B P Poddar Institute Of Management And Technology: \n",
      "Department: ['others', 'others']\n",
      "\n",
      "University: B.P. Poddar Institute Of Management And Technology: \n",
      "Department: ['others', 'others', 'others', 'others']\n",
      "\n",
      "University: B.P. Poddar Institute of Management and Technology: \n",
      "Department: ['others', 'others']\n",
      "\n",
      "University: B. P. Poddar Institute of Management and technology: \n",
      "Department: ['others']\n",
      "\n",
      "University: B.P.Podder Institute of Management and Technology: \n",
      "Department: ['others']\n",
      "\n",
      "University: B. P. Poddar Institute Of Management & Technology: \n",
      "Department: ['others']\n",
      "\n",
      "University: Home: \n",
      "Department: ['others']\n",
      "\n",
      "University: BPPIMT: \n",
      "Department: ['others', 'others']\n",
      "\n",
      "University: B.P.Poddar Institute Of Management And Technology : \n",
      "Department: ['others']\n",
      "\n",
      "University: Dr. B.C.Roy engineering college: \n",
      "Department: ['Engineering']\n",
      "\n",
      "University: B.P Poddar institute of management and technology: \n",
      "Department: ['others']\n",
      "\n",
      "University: B P poddar institute of Management & Technology : \n",
      "Department: ['others']\n",
      "\n",
      "University: B.P Poddar Institute of Management and Technology: \n",
      "Department: ['BCA', 'others', 'others']\n",
      "\n",
      "University: B.P PODDAR INSTITUTE OF MANAGEMENT AND TECHNOLOGY: \n",
      "Department: ['others']\n",
      "\n",
      "University: B.P poddar Institute of Management & Technology: \n",
      "Department: ['others']\n",
      "\n",
      "University: B.p.Poddar Institute of Management and Technology: \n",
      "Department: ['others']\n",
      "\n",
      "University: BP poddar institute of management and technology: \n",
      "Department: ['others']\n",
      "\n",
      "University: B.p.poddar institute of management and technology: \n",
      "Department: ['others']\n",
      "\n",
      "University: B.P.Poddar Institute of Management & Technology: \n",
      "Department: ['others']\n",
      "\n",
      "University: B.p.podder institute: \n",
      "Department: ['others']\n",
      "\n",
      "University: Bppimt: \n",
      "Department: ['others']\n",
      "\n",
      "University: B P Poddar Institute of Management and Technology : \n",
      "Department: ['others']\n",
      "\n",
      "University:  B.P. Poddar Institute Of Management And Technology: \n",
      "Department: ['others']\n",
      "\n",
      "University: Bp Poddar Institute of management and technology: \n",
      "Department: ['others']\n",
      "\n",
      "University: B P Podder Institute of Management and Technology: \n",
      "Department: ['others']\n",
      "\n",
      "University: B P PODDAR INSTITUTE OF MANAGEMENT AND TECHNOLOGY: \n",
      "Department: ['others']\n",
      "\n",
      "University: B.P.P.I.M.T: \n",
      "Department: ['others']\n",
      "\n",
      "University: Durgapur Women's College: \n",
      "Department: ['Honors (BSC/MSC)', 'Honors (BSC/MSC)', 'Honors (BSC/MSC)', 'Honors (BSC/MSC)', 'others', 'others', 'others']\n",
      "\n",
      "University: Duragpur Women's college: \n",
      "Department: ['others']\n",
      "\n",
      "University: Aasansol Girls' College: \n",
      "Department: ['others']\n",
      "\n",
      "University: Durgapur women's college: \n",
      "Department: ['others', 'others', 'others', 'others', 'others', 'others', 'others', 'others', 'others', 'others', 'Honors (BSC/MSC)']\n",
      "\n",
      "University: Durgapur Womens College : \n",
      "Department: ['Honors (BSC/MSC)']\n",
      "\n",
      "University: Durgapur government college: \n",
      "Department: ['others', 'Honors (BSC/MSC)', 'others']\n",
      "\n",
      "University: Durgapur Women's College : \n",
      "Department: [nan, 'Honors (BSC/MSC)']\n",
      "\n",
      "University: Durgapur women's collage : \n",
      "Department: ['others']\n",
      "\n",
      "University: Durgapur Women's College   Kazi Nazrul University: \n",
      "Department: ['others']\n",
      "\n",
      "University: Burdwan university : \n",
      "Department: ['others']\n",
      "\n",
      "University: DURGAPUR WOMEN'S COLLEGE: \n",
      "Department: ['Honors (BSC/MSC)', 'others']\n",
      "\n",
      "University: Durgapur women's college : \n",
      "Department: ['others', 'others', 'Honors (BSC/MSC)', 'Honors (BSC/MSC)']\n",
      "\n",
      "University: Durgapur government college : \n",
      "Department: ['others']\n",
      "\n",
      "University: College name - Durgapur Womens college: \n",
      "Department: ['others']\n",
      "\n",
      "University: Raniganj Girls' College : \n",
      "Department: ['Honors (BSC/MSC)']\n",
      "\n",
      "University: DURGAPUR WOMEN'S COLLEGE : \n",
      "Department: ['BBA']\n",
      "\n",
      "University: KAJI najrul invercity: \n",
      "Department: ['BCA']\n",
      "\n",
      "University: Durgapur woman's college : \n",
      "Department: ['others']\n",
      "\n",
      "University: Durgapur women's College: \n",
      "Department: ['Honors (BSC/MSC)']\n",
      "\n",
      "University: AKPC MAHAVIDYALAYA: \n",
      "Department: ['others']\n",
      "\n",
      "University: Durgapur Women's college: \n",
      "Department: ['Honors (BSC/MSC)', 'others']\n",
      "\n",
      "University: UNIVERSITY OF BURDWAN: \n",
      "Department: ['others']\n",
      "\n",
      "University: DURGAPUR GOVERNMENT COLLEGE: \n",
      "Department: ['others', 'others']\n",
      "\n",
      "University: Durgapur women college: \n",
      "Department: ['Engineering']\n",
      "\n",
      "University: Women's collage: \n",
      "Department: ['others']\n",
      "\n",
      "University: Durgapur WOMEN'S college : \n",
      "Department: ['others']\n",
      "\n",
      "University: DR BC ROY ENGINEERING & MANAGEMENT COLLEGE , DURGAPUR: \n",
      "Department: ['BBA']\n",
      "\n",
      "University: Regent Education and Research Foundation: \n",
      "Department: ['Engineering', 'Engineering', 'Engineering', 'Engineering', 'Engineering', 'Engineering', 'Engineering', 'Engineering', 'Engineering', 'Engineering', 'Engineering', 'Engineering', 'Engineering', 'Engineering', 'Engineering', 'Engineering', 'Engineering', 'Engineering', 'Engineering', 'Engineering', 'Engineering', 'Engineering', 'Engineering', 'Engineering', 'Engineering', 'Engineering', 'Engineering', 'Engineering', 'Engineering', 'Engineering', 'Engineering']\n",
      "\n",
      "University: Regent education and research foundation: \n",
      "Department: ['Engineering', 'Engineering', 'Engineering', 'Engineering', 'Engineering', 'Engineering', 'Engineering', 'Engineering', 'Engineering', 'Engineering', 'Engineering', 'Engineering']\n",
      "\n",
      "University: REGENT education&research foundation : \n",
      "Department: ['Engineering', 'Engineering']\n",
      "\n",
      "University: Regent Education & Research Foundation: \n",
      "Department: ['Engineering', 'Engineering', 'Engineering', 'Engineering', 'Engineering', 'Engineering', 'Engineering', 'Engineering', 'Engineering', 'Engineering', nan]\n",
      "\n",
      "University: Regent Education And Research Foundation: \n",
      "Department: ['Engineering', 'Engineering', 'Engineering', 'Engineering', 'Engineering', 'Engineering', 'Engineering', 'Engineering', 'Engineering', 'Engineering', 'Engineering', 'Engineering']\n",
      "\n",
      "University: Regent education & research foundation barrackpore: \n",
      "Department: ['Engineering']\n",
      "\n",
      "University: Regent Education and Research Foundation : \n",
      "Department: ['Engineering', 'Engineering', 'Engineering', 'Engineering', 'Engineering']\n",
      "\n",
      "University: RERF: \n",
      "Department: ['Engineering', 'Engineering', 'Engineering', 'Engineering', 'Engineering', 'Engineering']\n",
      "\n",
      "University: Rerf: \n",
      "Department: ['Engineering', 'Engineering']\n",
      "\n",
      "University: Regent Education & Research Foundation : \n",
      "Department: ['Engineering']\n",
      "\n",
      "University: Regent Education and Reseach Foundation: \n",
      "Department: ['Engineering']\n",
      "\n",
      "University: Regent Education and Research Foundation    : \n",
      "Department: ['Engineering']\n",
      "\n",
      "University: REGENT EDUCATION AND RESEARCH FOUNDATION : \n",
      "Department: ['Engineering']\n",
      "\n",
      "University: Regent Education & Research Foundation Group of Institutions: \n",
      "Department: ['Engineering', 'Engineering']\n",
      "\n",
      "University: Regent Education and Research foundation : \n",
      "Department: ['Engineering', 'Engineering']\n",
      "\n",
      "University: Regent Education and Research Foundation Group of Institutions: \n",
      "Department: ['Engineering', 'Engineering', 'Engineering']\n",
      "\n",
      "University: Regent Education Research and Foundation: \n",
      "Department: ['Engineering']\n",
      "\n",
      "University: Regent Education And Research Foundation Institution: \n",
      "Department: ['Engineering']\n",
      "\n",
      "University: Regent education and research Foundation: \n",
      "Department: ['Engineering']\n",
      "\n",
      "University: REGENT EDUCATION AND RESEARCH FOUNDATION: \n",
      "Department: ['Engineering']\n",
      "\n",
      "University: Regent Education and Research Foundation(group of institution): \n",
      "Department: ['Engineering']\n",
      "\n",
      "University: Regent Education &Research Foundation: \n",
      "Department: ['Engineering']\n",
      "\n",
      "University: Regent Education and Research foundation: \n",
      "Department: ['Engineering', 'Engineering']\n",
      "\n",
      "University: Regent Education &Research Foundation group of Institutions : \n",
      "Department: ['Engineering', 'Engineering']\n",
      "\n",
      "University: regent education and research foundarion group of institute : \n",
      "Department: ['Engineering']\n",
      "\n",
      "University: REGENT EDUCATION & RESEARCH FOUNDATION: \n",
      "Department: ['Engineering', 'Engineering']\n",
      "\n",
      "University: Regent education and research foundation group of institution: \n",
      "Department: ['Engineering']\n",
      "\n",
      "University: Regent education and research foundation : \n",
      "Department: ['Engineering', 'Engineering']\n",
      "\n",
      "University: regent education and research foundation : \n",
      "Department: ['Engineering']\n",
      "\n",
      "University: RRERF: \n",
      "Department: ['Engineering']\n",
      "\n",
      "University: Presidency University : \n",
      "Department: ['Honors (BSC/MSC)', 'Honors (BSC/MSC)', 'Honors (BSC/MSC)', 'Honors (BSC/MSC)', 'Honors (BSC/MSC)', 'Honors (BSC/MSC)', 'Honors (BSC/MSC)']\n",
      "\n",
      "University: Presidency University, Kolkata: \n",
      "Department: ['Honors (BSC/MSC)', 'Honors (BSC/MSC)', 'Honors (BSC/MSC)']\n",
      "\n",
      "University: PRESIDENCY UNIVERSITY: \n",
      "Department: ['Honors (BSC/MSC)']\n",
      "\n",
      "University: Presidency university: \n",
      "Department: ['Honors (BSC/MSC)']\n",
      "\n",
      "University: Lady Braborne college: \n",
      "Department: ['Honors (BSC/MSC)']\n",
      "\n",
      "University: Hyderabad Central University: \n",
      "Department: ['Honors (BSC/MSC)']\n",
      "\n",
      "University: Indian Institute of Foreign Trade,Kolkata: \n",
      "Department: ['Honors (BSC/MSC)']\n",
      "\n",
      "University: Lady Brabourne College, Kolkata: \n",
      "Department: ['Honors (BSC/MSC)', 'Honors (BSC/MSC)', 'Honors (BSC/MSC)']\n",
      "\n",
      "University: Calcutta University : \n",
      "Department: ['Honors (BSC/MSC)']\n",
      "\n",
      "University: LADY BRABOURNE COLLEGE, CALCUTTA UNIVERSITY: \n",
      "Department: ['Honors (BSC/MSC)']\n",
      "\n",
      "University: Lady braboune college: \n",
      "Department: ['Honors (BSC/MSC)']\n",
      "\n",
      "University: Lady brabourne college : \n",
      "Department: ['Honors (BSC/MSC)', 'Honors (BSC/MSC)', 'Honors (BSC/MSC)', 'Honors (BSC/MSC)']\n",
      "\n",
      "University: LADY BRABOURNE COLLEGE, C.U.: \n",
      "Department: ['others']\n",
      "\n",
      "University: Lady brabourne college, kolkata: \n",
      "Department: ['Honors (BSC/MSC)']\n",
      "\n",
      "University: Lady Brabourne college : \n",
      "Department: ['Honors (BSC/MSC)', 'Honors (BSC/MSC)']\n",
      "\n",
      "University: St.Xavier's College (Autonomous), Kolkata : \n",
      "Department: ['Honors (BSC/MSC)']\n",
      "\n",
      "University: St. Xavier's University : \n",
      "Department: ['Honors (BSC/MSC)']\n",
      "\n",
      "University: Indira gandhi institute of development research : \n",
      "Department: ['others']\n",
      "\n",
      "University: IGIDR: \n",
      "Department: ['Honors (BSC/MSC)']\n",
      "\n",
      "University: Gokhale Institute of Politics and Economics: \n",
      "Department: ['Honors (BSC/MSC)', 'Honors (BSC/MSC)']\n",
      "\n",
      "University: Lady Brabourne : \n",
      "Department: ['Honors (BSC/MSC)']\n",
      "\n",
      "University: Ladybrabourne college: \n",
      "Department: ['Honors (BSC/MSC)']\n",
      "\n",
      "University: Lady Brabourne College, University of Calcutta : \n",
      "Department: ['Honors (BSC/MSC)']\n",
      "\n",
      "University: Lady Braboune Collage: \n",
      "Department: ['Honors (BSC/MSC)']\n",
      "\n",
      "University: Moulana azad college: \n",
      "Department: ['Honors (BSC/MSC)']\n",
      "\n",
      "University: Moulana Azad College: \n",
      "Department: ['Honors (BSC/MSC)']\n",
      "\n",
      "University: MAULANA AZAD COLLEGE : \n",
      "Department: ['Honors (BSC/MSC)', 'Honors (BSC/MSC)']\n",
      "\n",
      "University: Maulana Azad College Kolkata: \n",
      "Department: ['Honors (BSC/MSC)']\n",
      "\n",
      "University: maulana azad college: \n",
      "Department: ['Honors (BSC/MSC)']\n",
      "\n",
      "University: Moulana Azad Collage: \n",
      "Department: ['Honors (BSC/MSC)']\n",
      "\n",
      "University: Maulana Azad College, University Of Calcutta: \n",
      "Department: ['Honors (BSC/MSC)']\n",
      "\n",
      "University: MAC: \n",
      "Department: ['Honors (BSC/MSC)']\n",
      "\n",
      "University: Maulana Azad college : \n",
      "Department: ['Honors (BSC/MSC)']\n",
      "\n",
      "University: Maulana Azad Collehe: \n",
      "Department: ['Honors (BSC/MSC)']\n",
      "\n",
      "University: Maulana azad college : \n",
      "Department: ['Honors (BSC/MSC)']\n",
      "\n",
      "University: Seth Anandram Jaipuria College: \n",
      "Department: ['Honors (BSC/MSC)']\n",
      "\n",
      "University: Maulona Azad College: \n",
      "Department: ['Honors (BSC/MSC)']\n",
      "\n"
     ]
    }
   ],
   "source": [
    "#Total department under a university \n",
    "for v in unique:\n",
    "    departments = df3.loc[df3.College == v, 'Department'].values\n",
    "    print(f\"University: {v}: \\nDepartment: {list(departments)}\\n\")"
   ]
  },
  {
   "cell_type": "code",
   "execution_count": 138,
   "metadata": {},
   "outputs": [
    {
     "data": {
      "text/html": [
       "<div>\n",
       "<style scoped>\n",
       "    .dataframe tbody tr th:only-of-type {\n",
       "        vertical-align: middle;\n",
       "    }\n",
       "\n",
       "    .dataframe tbody tr th {\n",
       "        vertical-align: top;\n",
       "    }\n",
       "\n",
       "    .dataframe thead th {\n",
       "        text-align: right;\n",
       "    }\n",
       "</style>\n",
       "<table border=\"1\" class=\"dataframe\">\n",
       "  <thead>\n",
       "    <tr style=\"text-align: right;\">\n",
       "      <th></th>\n",
       "      <th>counts</th>\n",
       "    </tr>\n",
       "    <tr>\n",
       "      <th>College</th>\n",
       "      <th></th>\n",
       "    </tr>\n",
       "  </thead>\n",
       "  <tbody>\n",
       "    <tr>\n",
       "      <th>B.P. Poddar Institute Of Management And Technology</th>\n",
       "      <td>1</td>\n",
       "    </tr>\n",
       "    <tr>\n",
       "      <th>Uttarpara Amarendra Vidyapith</th>\n",
       "      <td>1</td>\n",
       "    </tr>\n",
       "    <tr>\n",
       "      <th>1998</th>\n",
       "      <td>1</td>\n",
       "    </tr>\n",
       "    <tr>\n",
       "      <th>AIUB</th>\n",
       "      <td>11</td>\n",
       "    </tr>\n",
       "    <tr>\n",
       "      <th>AKPC MAHAVIDYALAYA</th>\n",
       "      <td>1</td>\n",
       "    </tr>\n",
       "    <tr>\n",
       "      <th>...</th>\n",
       "      <td>...</td>\n",
       "    </tr>\n",
       "    <tr>\n",
       "      <th>maulana azad college</th>\n",
       "      <td>1</td>\n",
       "    </tr>\n",
       "    <tr>\n",
       "      <th>national institute of science and technology</th>\n",
       "      <td>1</td>\n",
       "    </tr>\n",
       "    <tr>\n",
       "      <th>regent education and research foundarion group of institute</th>\n",
       "      <td>1</td>\n",
       "    </tr>\n",
       "    <tr>\n",
       "      <th>regent education and research foundation</th>\n",
       "      <td>1</td>\n",
       "    </tr>\n",
       "    <tr>\n",
       "      <th>st Xavier's College</th>\n",
       "      <td>1</td>\n",
       "    </tr>\n",
       "  </tbody>\n",
       "</table>\n",
       "<p>431 rows × 1 columns</p>\n",
       "</div>"
      ],
      "text/plain": [
       "                                                    counts\n",
       "College                                                   \n",
       " B.P. Poddar Institute Of Management And Techno...       1\n",
       " Uttarpara Amarendra Vidyapith                           1\n",
       "1998                                                     1\n",
       "AIUB                                                    11\n",
       "AKPC MAHAVIDYALAYA                                       1\n",
       "...                                                    ...\n",
       "maulana azad college                                     1\n",
       "national institute of science and technology             1\n",
       "regent education and research foundarion group ...       1\n",
       "regent education and research foundation                 1\n",
       "st Xavier's College                                      1\n",
       "\n",
       "[431 rows x 1 columns]"
      ]
     },
     "execution_count": 138,
     "metadata": {},
     "output_type": "execute_result"
    }
   ],
   "source": [
    "# total college counts attend free session \n",
    "college.rename(columns={\"College\": \"counts\"},inplace=True)\n",
    "college"
   ]
  },
  {
   "cell_type": "code",
   "execution_count": 139,
   "metadata": {},
   "outputs": [
    {
     "data": {
      "text/html": [
       "<div>\n",
       "<style scoped>\n",
       "    .dataframe tbody tr th:only-of-type {\n",
       "        vertical-align: middle;\n",
       "    }\n",
       "\n",
       "    .dataframe tbody tr th {\n",
       "        vertical-align: top;\n",
       "    }\n",
       "\n",
       "    .dataframe thead th {\n",
       "        text-align: right;\n",
       "    }\n",
       "</style>\n",
       "<table border=\"1\" class=\"dataframe\">\n",
       "  <thead>\n",
       "    <tr style=\"text-align: right;\">\n",
       "      <th></th>\n",
       "      <th>College</th>\n",
       "      <th>counts</th>\n",
       "    </tr>\n",
       "  </thead>\n",
       "  <tbody>\n",
       "    <tr>\n",
       "      <th>0</th>\n",
       "      <td>B.P. Poddar Institute Of Management And Techn...</td>\n",
       "      <td>1</td>\n",
       "    </tr>\n",
       "    <tr>\n",
       "      <th>1</th>\n",
       "      <td>Uttarpara Amarendra Vidyapith</td>\n",
       "      <td>1</td>\n",
       "    </tr>\n",
       "    <tr>\n",
       "      <th>2</th>\n",
       "      <td>1998</td>\n",
       "      <td>1</td>\n",
       "    </tr>\n",
       "    <tr>\n",
       "      <th>3</th>\n",
       "      <td>AIUB</td>\n",
       "      <td>11</td>\n",
       "    </tr>\n",
       "    <tr>\n",
       "      <th>4</th>\n",
       "      <td>AKPC MAHAVIDYALAYA</td>\n",
       "      <td>1</td>\n",
       "    </tr>\n",
       "    <tr>\n",
       "      <th>...</th>\n",
       "      <td>...</td>\n",
       "      <td>...</td>\n",
       "    </tr>\n",
       "    <tr>\n",
       "      <th>426</th>\n",
       "      <td>maulana azad college</td>\n",
       "      <td>1</td>\n",
       "    </tr>\n",
       "    <tr>\n",
       "      <th>427</th>\n",
       "      <td>national institute of science and technology</td>\n",
       "      <td>1</td>\n",
       "    </tr>\n",
       "    <tr>\n",
       "      <th>428</th>\n",
       "      <td>regent education and research foundarion group...</td>\n",
       "      <td>1</td>\n",
       "    </tr>\n",
       "    <tr>\n",
       "      <th>429</th>\n",
       "      <td>regent education and research foundation</td>\n",
       "      <td>1</td>\n",
       "    </tr>\n",
       "    <tr>\n",
       "      <th>430</th>\n",
       "      <td>st Xavier's College</td>\n",
       "      <td>1</td>\n",
       "    </tr>\n",
       "  </tbody>\n",
       "</table>\n",
       "<p>431 rows × 2 columns</p>\n",
       "</div>"
      ],
      "text/plain": [
       "                                               College  counts\n",
       "0     B.P. Poddar Institute Of Management And Techn...       1\n",
       "1                        Uttarpara Amarendra Vidyapith       1\n",
       "2                                                 1998       1\n",
       "3                                                 AIUB      11\n",
       "4                                   AKPC MAHAVIDYALAYA       1\n",
       "..                                                 ...     ...\n",
       "426                               maulana azad college       1\n",
       "427       national institute of science and technology       1\n",
       "428  regent education and research foundarion group...       1\n",
       "429          regent education and research foundation        1\n",
       "430                               st Xavier's College        1\n",
       "\n",
       "[431 rows x 2 columns]"
      ]
     },
     "execution_count": 139,
     "metadata": {},
     "output_type": "execute_result"
    }
   ],
   "source": [
    "# college index converted to dataframe columns\n",
    "college.reset_index(inplace= True)\n",
    "college"
   ]
  },
  {
   "cell_type": "markdown",
   "metadata": {},
   "source": [
    "# Here is a problem we can see that most of the college name are repating. For Example Lady Brabourne College are present 4 times also has the individual counts. "
   ]
  },
  {
   "cell_type": "code",
   "execution_count": 140,
   "metadata": {},
   "outputs": [
    {
     "data": {
      "text/html": [
       "<div>\n",
       "<style scoped>\n",
       "    .dataframe tbody tr th:only-of-type {\n",
       "        vertical-align: middle;\n",
       "    }\n",
       "\n",
       "    .dataframe tbody tr th {\n",
       "        vertical-align: top;\n",
       "    }\n",
       "\n",
       "    .dataframe thead th {\n",
       "        text-align: right;\n",
       "    }\n",
       "</style>\n",
       "<table border=\"1\" class=\"dataframe\">\n",
       "  <thead>\n",
       "    <tr style=\"text-align: right;\">\n",
       "      <th></th>\n",
       "      <th>College</th>\n",
       "      <th>counts</th>\n",
       "    </tr>\n",
       "  </thead>\n",
       "  <tbody>\n",
       "    <tr>\n",
       "      <th>3</th>\n",
       "      <td>AIUB</td>\n",
       "      <td>11</td>\n",
       "    </tr>\n",
       "    <tr>\n",
       "      <th>7</th>\n",
       "      <td>Academy Of Technology</td>\n",
       "      <td>3</td>\n",
       "    </tr>\n",
       "    <tr>\n",
       "      <th>14</th>\n",
       "      <td>American International University - Bangladesh</td>\n",
       "      <td>3</td>\n",
       "    </tr>\n",
       "    <tr>\n",
       "      <th>22</th>\n",
       "      <td>American International University-Bangladesh</td>\n",
       "      <td>3</td>\n",
       "    </tr>\n",
       "    <tr>\n",
       "      <th>31</th>\n",
       "      <td>Asutosh College</td>\n",
       "      <td>14</td>\n",
       "    </tr>\n",
       "    <tr>\n",
       "      <th>34</th>\n",
       "      <td>Asutosh college</td>\n",
       "      <td>5</td>\n",
       "    </tr>\n",
       "    <tr>\n",
       "      <th>47</th>\n",
       "      <td>B.P Poddar Institute of Management and Technology</td>\n",
       "      <td>3</td>\n",
       "    </tr>\n",
       "    <tr>\n",
       "      <th>50</th>\n",
       "      <td>B.P. PODDAR INSTITUTE OF MANAGEMENT AND TECHNO...</td>\n",
       "      <td>3</td>\n",
       "    </tr>\n",
       "    <tr>\n",
       "      <th>51</th>\n",
       "      <td>B.P. Poddar Institute Of Management And Techno...</td>\n",
       "      <td>4</td>\n",
       "    </tr>\n",
       "    <tr>\n",
       "      <th>54</th>\n",
       "      <td>B.P.PODDAR INSTITUTE OF MANAGEMENT AND TECHNOLOGY</td>\n",
       "      <td>4</td>\n",
       "    </tr>\n",
       "    <tr>\n",
       "      <th>79</th>\n",
       "      <td>Bethune College</td>\n",
       "      <td>6</td>\n",
       "    </tr>\n",
       "    <tr>\n",
       "      <th>80</th>\n",
       "      <td>Bethune College</td>\n",
       "      <td>3</td>\n",
       "    </tr>\n",
       "    <tr>\n",
       "      <th>84</th>\n",
       "      <td>Bethune college</td>\n",
       "      <td>5</td>\n",
       "    </tr>\n",
       "    <tr>\n",
       "      <th>107</th>\n",
       "      <td>DIATM</td>\n",
       "      <td>5</td>\n",
       "    </tr>\n",
       "    <tr>\n",
       "      <th>125</th>\n",
       "      <td>Durgapur Institute of Advanced Technology and ...</td>\n",
       "      <td>3</td>\n",
       "    </tr>\n",
       "    <tr>\n",
       "      <th>132</th>\n",
       "      <td>Durgapur Women's College</td>\n",
       "      <td>7</td>\n",
       "    </tr>\n",
       "    <tr>\n",
       "      <th>137</th>\n",
       "      <td>Durgapur government college</td>\n",
       "      <td>3</td>\n",
       "    </tr>\n",
       "    <tr>\n",
       "      <th>143</th>\n",
       "      <td>Durgapur institute of advanced technology and ...</td>\n",
       "      <td>4</td>\n",
       "    </tr>\n",
       "    <tr>\n",
       "      <th>149</th>\n",
       "      <td>Durgapur women's college</td>\n",
       "      <td>11</td>\n",
       "    </tr>\n",
       "    <tr>\n",
       "      <th>150</th>\n",
       "      <td>Durgapur women's college</td>\n",
       "      <td>4</td>\n",
       "    </tr>\n",
       "    <tr>\n",
       "      <th>155</th>\n",
       "      <td>Future Institute Of Technology</td>\n",
       "      <td>3</td>\n",
       "    </tr>\n",
       "    <tr>\n",
       "      <th>157</th>\n",
       "      <td>Future Institute of Technology</td>\n",
       "      <td>3</td>\n",
       "    </tr>\n",
       "    <tr>\n",
       "      <th>197</th>\n",
       "      <td>JADAVPUR UNIVERSITY</td>\n",
       "      <td>3</td>\n",
       "    </tr>\n",
       "    <tr>\n",
       "      <th>200</th>\n",
       "      <td>Jadavpur University</td>\n",
       "      <td>13</td>\n",
       "    </tr>\n",
       "    <tr>\n",
       "      <th>213</th>\n",
       "      <td>Kalyani Mahavidyalaya</td>\n",
       "      <td>7</td>\n",
       "    </tr>\n",
       "    <tr>\n",
       "      <th>215</th>\n",
       "      <td>Kalyani mahavidyalaya</td>\n",
       "      <td>3</td>\n",
       "    </tr>\n",
       "    <tr>\n",
       "      <th>217</th>\n",
       "      <td>LADY BRABOURNE COLLEGE</td>\n",
       "      <td>3</td>\n",
       "    </tr>\n",
       "    <tr>\n",
       "      <th>223</th>\n",
       "      <td>Lady Brabourne College</td>\n",
       "      <td>69</td>\n",
       "    </tr>\n",
       "    <tr>\n",
       "      <th>224</th>\n",
       "      <td>Lady Brabourne College</td>\n",
       "      <td>31</td>\n",
       "    </tr>\n",
       "    <tr>\n",
       "      <th>225</th>\n",
       "      <td>Lady Brabourne College, Kolkata</td>\n",
       "      <td>3</td>\n",
       "    </tr>\n",
       "    <tr>\n",
       "      <th>228</th>\n",
       "      <td>Lady Brabourne college</td>\n",
       "      <td>9</td>\n",
       "    </tr>\n",
       "    <tr>\n",
       "      <th>231</th>\n",
       "      <td>Lady brabourne college</td>\n",
       "      <td>9</td>\n",
       "    </tr>\n",
       "    <tr>\n",
       "      <th>232</th>\n",
       "      <td>Lady brabourne college</td>\n",
       "      <td>4</td>\n",
       "    </tr>\n",
       "    <tr>\n",
       "      <th>239</th>\n",
       "      <td>MAULANA AZAD COLLEGE</td>\n",
       "      <td>8</td>\n",
       "    </tr>\n",
       "    <tr>\n",
       "      <th>243</th>\n",
       "      <td>Maulana Abul Kalam Azad University of Technology</td>\n",
       "      <td>5</td>\n",
       "    </tr>\n",
       "    <tr>\n",
       "      <th>246</th>\n",
       "      <td>Maulana Azad College</td>\n",
       "      <td>59</td>\n",
       "    </tr>\n",
       "    <tr>\n",
       "      <th>247</th>\n",
       "      <td>Maulana Azad College</td>\n",
       "      <td>13</td>\n",
       "    </tr>\n",
       "    <tr>\n",
       "      <th>249</th>\n",
       "      <td>Maulana Azad College, Kolkata</td>\n",
       "      <td>4</td>\n",
       "    </tr>\n",
       "    <tr>\n",
       "      <th>252</th>\n",
       "      <td>Maulana Azad college</td>\n",
       "      <td>14</td>\n",
       "    </tr>\n",
       "    <tr>\n",
       "      <th>271</th>\n",
       "      <td>Narasinha Dutt College</td>\n",
       "      <td>4</td>\n",
       "    </tr>\n",
       "    <tr>\n",
       "      <th>275</th>\n",
       "      <td>Narasinha dutt college</td>\n",
       "      <td>3</td>\n",
       "    </tr>\n",
       "    <tr>\n",
       "      <th>290</th>\n",
       "      <td>North South University</td>\n",
       "      <td>4</td>\n",
       "    </tr>\n",
       "    <tr>\n",
       "      <th>300</th>\n",
       "      <td>Presidency University</td>\n",
       "      <td>19</td>\n",
       "    </tr>\n",
       "    <tr>\n",
       "      <th>301</th>\n",
       "      <td>Presidency University</td>\n",
       "      <td>7</td>\n",
       "    </tr>\n",
       "    <tr>\n",
       "      <th>302</th>\n",
       "      <td>Presidency University, Kolkata</td>\n",
       "      <td>3</td>\n",
       "    </tr>\n",
       "    <tr>\n",
       "      <th>314</th>\n",
       "      <td>RERF</td>\n",
       "      <td>6</td>\n",
       "    </tr>\n",
       "    <tr>\n",
       "      <th>330</th>\n",
       "      <td>Regent Education &amp; Research Foundation</td>\n",
       "      <td>11</td>\n",
       "    </tr>\n",
       "    <tr>\n",
       "      <th>335</th>\n",
       "      <td>Regent Education And Research Foundation</td>\n",
       "      <td>12</td>\n",
       "    </tr>\n",
       "    <tr>\n",
       "      <th>339</th>\n",
       "      <td>Regent Education and Research Foundation</td>\n",
       "      <td>31</td>\n",
       "    </tr>\n",
       "    <tr>\n",
       "      <th>340</th>\n",
       "      <td>Regent Education and Research Foundation</td>\n",
       "      <td>5</td>\n",
       "    </tr>\n",
       "    <tr>\n",
       "      <th>342</th>\n",
       "      <td>Regent Education and Research Foundation Group...</td>\n",
       "      <td>3</td>\n",
       "    </tr>\n",
       "    <tr>\n",
       "      <th>348</th>\n",
       "      <td>Regent education and research foundation</td>\n",
       "      <td>12</td>\n",
       "    </tr>\n",
       "    <tr>\n",
       "      <th>367</th>\n",
       "      <td>St. Xavier's College</td>\n",
       "      <td>7</td>\n",
       "    </tr>\n",
       "    <tr>\n",
       "      <th>374</th>\n",
       "      <td>St. Xavier's College, Kolkata</td>\n",
       "      <td>5</td>\n",
       "    </tr>\n",
       "    <tr>\n",
       "      <th>398</th>\n",
       "      <td>University of Calcutta</td>\n",
       "      <td>4</td>\n",
       "    </tr>\n",
       "    <tr>\n",
       "      <th>399</th>\n",
       "      <td>University of Dhaka</td>\n",
       "      <td>3</td>\n",
       "    </tr>\n",
       "    <tr>\n",
       "      <th>408</th>\n",
       "      <td>Vidyasagar University</td>\n",
       "      <td>6</td>\n",
       "    </tr>\n",
       "    <tr>\n",
       "      <th>414</th>\n",
       "      <td>Vivekananda College</td>\n",
       "      <td>8</td>\n",
       "    </tr>\n",
       "  </tbody>\n",
       "</table>\n",
       "</div>"
      ],
      "text/plain": [
       "                                               College  counts\n",
       "3                                                 AIUB      11\n",
       "7                                Academy Of Technology       3\n",
       "14      American International University - Bangladesh       3\n",
       "22       American International University-Bangladesh        3\n",
       "31                                     Asutosh College      14\n",
       "34                                     Asutosh college       5\n",
       "47   B.P Poddar Institute of Management and Technology       3\n",
       "50   B.P. PODDAR INSTITUTE OF MANAGEMENT AND TECHNO...       3\n",
       "51   B.P. Poddar Institute Of Management And Techno...       4\n",
       "54   B.P.PODDAR INSTITUTE OF MANAGEMENT AND TECHNOLOGY       4\n",
       "79                                     Bethune College       6\n",
       "80                                    Bethune College        3\n",
       "84                                     Bethune college       5\n",
       "107                                              DIATM       5\n",
       "125  Durgapur Institute of Advanced Technology and ...       3\n",
       "132                           Durgapur Women's College       7\n",
       "137                        Durgapur government college       3\n",
       "143  Durgapur institute of advanced technology and ...       4\n",
       "149                           Durgapur women's college      11\n",
       "150                          Durgapur women's college        4\n",
       "155                     Future Institute Of Technology       3\n",
       "157                     Future Institute of Technology       3\n",
       "197                                JADAVPUR UNIVERSITY       3\n",
       "200                                Jadavpur University      13\n",
       "213                              Kalyani Mahavidyalaya       7\n",
       "215                              Kalyani mahavidyalaya       3\n",
       "217                             LADY BRABOURNE COLLEGE       3\n",
       "223                             Lady Brabourne College      69\n",
       "224                            Lady Brabourne College       31\n",
       "225                    Lady Brabourne College, Kolkata       3\n",
       "228                             Lady Brabourne college       9\n",
       "231                             Lady brabourne college       9\n",
       "232                            Lady brabourne college        4\n",
       "239                               MAULANA AZAD COLLEGE       8\n",
       "243   Maulana Abul Kalam Azad University of Technology       5\n",
       "246                               Maulana Azad College      59\n",
       "247                              Maulana Azad College       13\n",
       "249                      Maulana Azad College, Kolkata       4\n",
       "252                               Maulana Azad college      14\n",
       "271                             Narasinha Dutt College       4\n",
       "275                             Narasinha dutt college       3\n",
       "290                            North South University        4\n",
       "300                              Presidency University      19\n",
       "301                             Presidency University        7\n",
       "302                     Presidency University, Kolkata       3\n",
       "314                                               RERF       6\n",
       "330             Regent Education & Research Foundation      11\n",
       "335           Regent Education And Research Foundation      12\n",
       "339           Regent Education and Research Foundation      31\n",
       "340          Regent Education and Research Foundation        5\n",
       "342  Regent Education and Research Foundation Group...       3\n",
       "348           Regent education and research foundation      12\n",
       "367                               St. Xavier's College       7\n",
       "374                      St. Xavier's College, Kolkata       5\n",
       "398                             University of Calcutta       4\n",
       "399                                University of Dhaka       3\n",
       "408                              Vidyasagar University       6\n",
       "414                                Vivekananda College       8"
      ]
     },
     "execution_count": 140,
     "metadata": {},
     "output_type": "execute_result"
    }
   ],
   "source": [
    "collegetop = college[college['counts'] > 2]\n",
    "collegetop"
   ]
  },
  {
   "cell_type": "code",
   "execution_count": 141,
   "metadata": {},
   "outputs": [
    {
     "data": {
      "text/html": [
       "<div>\n",
       "<style scoped>\n",
       "    .dataframe tbody tr th:only-of-type {\n",
       "        vertical-align: middle;\n",
       "    }\n",
       "\n",
       "    .dataframe tbody tr th {\n",
       "        vertical-align: top;\n",
       "    }\n",
       "\n",
       "    .dataframe thead th {\n",
       "        text-align: right;\n",
       "    }\n",
       "</style>\n",
       "<table border=\"1\" class=\"dataframe\">\n",
       "  <thead>\n",
       "    <tr style=\"text-align: right;\">\n",
       "      <th></th>\n",
       "      <th>Department</th>\n",
       "      <th>dep_counts</th>\n",
       "    </tr>\n",
       "  </thead>\n",
       "  <tbody>\n",
       "    <tr>\n",
       "      <th>25</th>\n",
       "      <td>B.Sc Statistics honours</td>\n",
       "      <td>3</td>\n",
       "    </tr>\n",
       "    <tr>\n",
       "      <th>39</th>\n",
       "      <td>B.tech</td>\n",
       "      <td>3</td>\n",
       "    </tr>\n",
       "    <tr>\n",
       "      <th>47</th>\n",
       "      <td>BBA</td>\n",
       "      <td>11</td>\n",
       "    </tr>\n",
       "    <tr>\n",
       "      <th>48</th>\n",
       "      <td>BCA</td>\n",
       "      <td>5</td>\n",
       "    </tr>\n",
       "    <tr>\n",
       "      <th>71</th>\n",
       "      <td>CSE</td>\n",
       "      <td>3</td>\n",
       "    </tr>\n",
       "    <tr>\n",
       "      <th>75</th>\n",
       "      <td>Computer Science</td>\n",
       "      <td>3</td>\n",
       "    </tr>\n",
       "    <tr>\n",
       "      <th>81</th>\n",
       "      <td>Computer science</td>\n",
       "      <td>3</td>\n",
       "    </tr>\n",
       "    <tr>\n",
       "      <th>88</th>\n",
       "      <td>ECE</td>\n",
       "      <td>3</td>\n",
       "    </tr>\n",
       "    <tr>\n",
       "      <th>94</th>\n",
       "      <td>Electrical Engineering</td>\n",
       "      <td>4</td>\n",
       "    </tr>\n",
       "    <tr>\n",
       "      <th>96</th>\n",
       "      <td>Electrical engineering</td>\n",
       "      <td>3</td>\n",
       "    </tr>\n",
       "    <tr>\n",
       "      <th>102</th>\n",
       "      <td>Engineering</td>\n",
       "      <td>187</td>\n",
       "    </tr>\n",
       "    <tr>\n",
       "      <th>108</th>\n",
       "      <td>Honors (BSC/MSC)</td>\n",
       "      <td>337</td>\n",
       "    </tr>\n",
       "    <tr>\n",
       "      <th>144</th>\n",
       "      <td>Mathematics</td>\n",
       "      <td>16</td>\n",
       "    </tr>\n",
       "    <tr>\n",
       "      <th>145</th>\n",
       "      <td>Mathematics</td>\n",
       "      <td>4</td>\n",
       "    </tr>\n",
       "    <tr>\n",
       "      <th>173</th>\n",
       "      <td>R</td>\n",
       "      <td>4</td>\n",
       "    </tr>\n",
       "    <tr>\n",
       "      <th>176</th>\n",
       "      <td>Statistics</td>\n",
       "      <td>31</td>\n",
       "    </tr>\n",
       "    <tr>\n",
       "      <th>177</th>\n",
       "      <td>Statistics</td>\n",
       "      <td>9</td>\n",
       "    </tr>\n",
       "    <tr>\n",
       "      <th>183</th>\n",
       "      <td>Statistics Honours</td>\n",
       "      <td>5</td>\n",
       "    </tr>\n",
       "    <tr>\n",
       "      <th>187</th>\n",
       "      <td>Statistics Hons</td>\n",
       "      <td>3</td>\n",
       "    </tr>\n",
       "    <tr>\n",
       "      <th>189</th>\n",
       "      <td>Statistics honours</td>\n",
       "      <td>7</td>\n",
       "    </tr>\n",
       "    <tr>\n",
       "      <th>199</th>\n",
       "      <td>others</td>\n",
       "      <td>92</td>\n",
       "    </tr>\n",
       "  </tbody>\n",
       "</table>\n",
       "</div>"
      ],
      "text/plain": [
       "                  Department  dep_counts\n",
       "25   B.Sc Statistics honours           3\n",
       "39                    B.tech           3\n",
       "47                       BBA          11\n",
       "48                       BCA           5\n",
       "71                       CSE           3\n",
       "75          Computer Science           3\n",
       "81          Computer science           3\n",
       "88                       ECE           3\n",
       "94    Electrical Engineering           4\n",
       "96    Electrical engineering           3\n",
       "102              Engineering         187\n",
       "108         Honors (BSC/MSC)         337\n",
       "144              Mathematics          16\n",
       "145             Mathematics            4\n",
       "173                        R           4\n",
       "176               Statistics          31\n",
       "177              Statistics            9\n",
       "183       Statistics Honours           5\n",
       "187          Statistics Hons           3\n",
       "189       Statistics honours           7\n",
       "199                   others          92"
      ]
     },
     "execution_count": 141,
     "metadata": {},
     "output_type": "execute_result"
    }
   ],
   "source": [
    "departmenttop = department[department['dep_counts'] >2]\n",
    "departmenttop"
   ]
  },
  {
   "cell_type": "code",
   "execution_count": 142,
   "metadata": {},
   "outputs": [
    {
     "data": {
      "text/html": [
       "        <script type=\"text/javascript\">\n",
       "        window.PlotlyConfig = {MathJaxConfig: 'local'};\n",
       "        if (window.MathJax) {MathJax.Hub.Config({SVG: {font: \"STIX-Web\"}});}\n",
       "        if (typeof require !== 'undefined') {\n",
       "        require.undef(\"plotly\");\n",
       "        requirejs.config({\n",
       "            paths: {\n",
       "                'plotly': ['https://cdn.plot.ly/plotly-latest.min']\n",
       "            }\n",
       "        });\n",
       "        require(['plotly'], function(Plotly) {\n",
       "            window._Plotly = Plotly;\n",
       "        });\n",
       "        }\n",
       "        </script>\n",
       "        "
      ]
     },
     "metadata": {},
     "output_type": "display_data"
    }
   ],
   "source": [
    "#importing library \n",
    "# !pip install plotly\n",
    "import numpy as np\n",
    "import pandas as pd \n",
    "import matplotlib.pyplot as plt\n",
    "import seaborn as sns \n",
    "import plotly.graph_objs as go\n",
    "import plotly.figure_factory as ff\n",
    "from plotly import tools\n",
    "from plotly.offline import download_plotlyjs, init_notebook_mode, plot, iplot\n",
    "import plotly.express as px\n",
    "init_notebook_mode(connected=True)\n",
    "import warnings\n",
    "warnings.filterwarnings(\"ignore\")"
   ]
  },
  {
   "cell_type": "code",
   "execution_count": 151,
   "metadata": {},
   "outputs": [],
   "source": [
    "def draw_trace_bar(data,data_index, feature, title, xlab, ylab,color='Blue'):\n",
    "    data = data.sort_values(feature, ascending=False)\n",
    "    trace = go.Bar(\n",
    "            x = data[data_index],\n",
    "            y = data[feature],\n",
    "            marker=dict(color=color),\n",
    "            text=data[data_index]\n",
    "        )\n",
    "    data = [trace]\n",
    "\n",
    "    layout = dict(title = title,\n",
    "              xaxis = dict(title = xlab, showticklabels=True, tickangle=45, \n",
    "                           zeroline=True, zerolinewidth=1, zerolinecolor='grey',\n",
    "                           showline=True, linewidth=2, linecolor='black', mirror=True,\n",
    "                          tickfont=dict(\n",
    "                            size=10,\n",
    "                            color='red'),), \n",
    "              yaxis = dict(title = ylab, gridcolor='lightgrey', zeroline=True, zerolinewidth=1, zerolinecolor='grey',\n",
    "                          showline=True, linewidth=2, linecolor='black', mirror=True),\n",
    "              plot_bgcolor = 'rgba(0, 0, 0, 0)', paper_bgcolor = 'rgba(0, 0, 0, 0)',\n",
    "              hovermode = 'closest'\n",
    "             )\n",
    "    fig = dict(data = data, layout = layout)\n",
    "    iplot(fig, filename='draw_trace')"
   ]
  },
  {
   "cell_type": "code",
   "execution_count": 152,
   "metadata": {},
   "outputs": [
    {
     "data": {
      "application/vnd.plotly.v1+json": {
       "config": {
        "linkText": "Export to plot.ly",
        "plotlyServerURL": "https://plot.ly",
        "showLink": false
       },
       "data": [
        {
         "marker": {
          "color": "lightgreen"
         },
         "text": [
          "Lady Brabourne College",
          "Maulana Azad College",
          "Regent Education and Research Foundation",
          "Lady Brabourne College ",
          "Presidency University",
          "Maulana Azad college",
          "Asutosh College",
          "Maulana Azad College ",
          "Jadavpur University",
          "Regent Education And Research Foundation",
          "Regent education and research foundation",
          "Durgapur women's college",
          "Regent Education & Research Foundation",
          "AIUB",
          "Lady brabourne college",
          "Lady Brabourne college",
          "MAULANA AZAD COLLEGE",
          "Vivekananda College",
          "Durgapur Women's College",
          "St. Xavier's College",
          "Kalyani Mahavidyalaya",
          "Presidency University ",
          "Vidyasagar University",
          "Bethune College",
          "RERF",
          "St. Xavier's College, Kolkata",
          "Regent Education and Research Foundation ",
          "Asutosh college",
          "Maulana Abul Kalam Azad University of Technology",
          "DIATM",
          "Bethune college",
          "Narasinha Dutt College",
          "Durgapur institute of advanced technology and management",
          "North South University ",
          "Maulana Azad College, Kolkata",
          "University of Calcutta",
          "Durgapur women's college ",
          "B.P. Poddar Institute Of Management And Technology",
          "B.P.PODDAR INSTITUTE OF MANAGEMENT AND TECHNOLOGY",
          "Lady brabourne college ",
          "Kalyani mahavidyalaya",
          "Future Institute Of Technology",
          "University of Dhaka",
          "Future Institute of Technology",
          "JADAVPUR UNIVERSITY",
          "Durgapur government college",
          "American International University - Bangladesh",
          "Regent Education and Research Foundation Group of Institutions",
          "American International University-Bangladesh ",
          "Bethune College ",
          "LADY BRABOURNE COLLEGE",
          "B.P Poddar Institute of Management and Technology",
          "Durgapur Institute of Advanced Technology and Management",
          "Presidency University, Kolkata",
          "Academy Of Technology",
          "B.P. PODDAR INSTITUTE OF MANAGEMENT AND TECHNOLOGY",
          "Narasinha dutt college",
          "Lady Brabourne College, Kolkata"
         ],
         "type": "bar",
         "x": [
          "Lady Brabourne College",
          "Maulana Azad College",
          "Regent Education and Research Foundation",
          "Lady Brabourne College ",
          "Presidency University",
          "Maulana Azad college",
          "Asutosh College",
          "Maulana Azad College ",
          "Jadavpur University",
          "Regent Education And Research Foundation",
          "Regent education and research foundation",
          "Durgapur women's college",
          "Regent Education & Research Foundation",
          "AIUB",
          "Lady brabourne college",
          "Lady Brabourne college",
          "MAULANA AZAD COLLEGE",
          "Vivekananda College",
          "Durgapur Women's College",
          "St. Xavier's College",
          "Kalyani Mahavidyalaya",
          "Presidency University ",
          "Vidyasagar University",
          "Bethune College",
          "RERF",
          "St. Xavier's College, Kolkata",
          "Regent Education and Research Foundation ",
          "Asutosh college",
          "Maulana Abul Kalam Azad University of Technology",
          "DIATM",
          "Bethune college",
          "Narasinha Dutt College",
          "Durgapur institute of advanced technology and management",
          "North South University ",
          "Maulana Azad College, Kolkata",
          "University of Calcutta",
          "Durgapur women's college ",
          "B.P. Poddar Institute Of Management And Technology",
          "B.P.PODDAR INSTITUTE OF MANAGEMENT AND TECHNOLOGY",
          "Lady brabourne college ",
          "Kalyani mahavidyalaya",
          "Future Institute Of Technology",
          "University of Dhaka",
          "Future Institute of Technology",
          "JADAVPUR UNIVERSITY",
          "Durgapur government college",
          "American International University - Bangladesh",
          "Regent Education and Research Foundation Group of Institutions",
          "American International University-Bangladesh ",
          "Bethune College ",
          "LADY BRABOURNE COLLEGE",
          "B.P Poddar Institute of Management and Technology",
          "Durgapur Institute of Advanced Technology and Management",
          "Presidency University, Kolkata",
          "Academy Of Technology",
          "B.P. PODDAR INSTITUTE OF MANAGEMENT AND TECHNOLOGY",
          "Narasinha dutt college",
          "Lady Brabourne College, Kolkata"
         ],
         "y": [
          69,
          59,
          31,
          31,
          19,
          14,
          14,
          13,
          13,
          12,
          12,
          11,
          11,
          11,
          9,
          9,
          8,
          8,
          7,
          7,
          7,
          7,
          6,
          6,
          6,
          5,
          5,
          5,
          5,
          5,
          5,
          4,
          4,
          4,
          4,
          4,
          4,
          4,
          4,
          4,
          3,
          3,
          3,
          3,
          3,
          3,
          3,
          3,
          3,
          3,
          3,
          3,
          3,
          3,
          3,
          3,
          3,
          3
         ]
        }
       ],
       "layout": {
        "hovermode": "closest",
        "paper_bgcolor": "rgba(0, 0, 0, 0)",
        "plot_bgcolor": "rgba(0, 0, 0, 0)",
        "template": {
         "data": {
          "bar": [
           {
            "error_x": {
             "color": "#2a3f5f"
            },
            "error_y": {
             "color": "#2a3f5f"
            },
            "marker": {
             "line": {
              "color": "#E5ECF6",
              "width": 0.5
             }
            },
            "type": "bar"
           }
          ],
          "barpolar": [
           {
            "marker": {
             "line": {
              "color": "#E5ECF6",
              "width": 0.5
             }
            },
            "type": "barpolar"
           }
          ],
          "carpet": [
           {
            "aaxis": {
             "endlinecolor": "#2a3f5f",
             "gridcolor": "white",
             "linecolor": "white",
             "minorgridcolor": "white",
             "startlinecolor": "#2a3f5f"
            },
            "baxis": {
             "endlinecolor": "#2a3f5f",
             "gridcolor": "white",
             "linecolor": "white",
             "minorgridcolor": "white",
             "startlinecolor": "#2a3f5f"
            },
            "type": "carpet"
           }
          ],
          "choropleth": [
           {
            "colorbar": {
             "outlinewidth": 0,
             "ticks": ""
            },
            "type": "choropleth"
           }
          ],
          "contour": [
           {
            "colorbar": {
             "outlinewidth": 0,
             "ticks": ""
            },
            "colorscale": [
             [
              0,
              "#0d0887"
             ],
             [
              0.1111111111111111,
              "#46039f"
             ],
             [
              0.2222222222222222,
              "#7201a8"
             ],
             [
              0.3333333333333333,
              "#9c179e"
             ],
             [
              0.4444444444444444,
              "#bd3786"
             ],
             [
              0.5555555555555556,
              "#d8576b"
             ],
             [
              0.6666666666666666,
              "#ed7953"
             ],
             [
              0.7777777777777778,
              "#fb9f3a"
             ],
             [
              0.8888888888888888,
              "#fdca26"
             ],
             [
              1,
              "#f0f921"
             ]
            ],
            "type": "contour"
           }
          ],
          "contourcarpet": [
           {
            "colorbar": {
             "outlinewidth": 0,
             "ticks": ""
            },
            "type": "contourcarpet"
           }
          ],
          "heatmap": [
           {
            "colorbar": {
             "outlinewidth": 0,
             "ticks": ""
            },
            "colorscale": [
             [
              0,
              "#0d0887"
             ],
             [
              0.1111111111111111,
              "#46039f"
             ],
             [
              0.2222222222222222,
              "#7201a8"
             ],
             [
              0.3333333333333333,
              "#9c179e"
             ],
             [
              0.4444444444444444,
              "#bd3786"
             ],
             [
              0.5555555555555556,
              "#d8576b"
             ],
             [
              0.6666666666666666,
              "#ed7953"
             ],
             [
              0.7777777777777778,
              "#fb9f3a"
             ],
             [
              0.8888888888888888,
              "#fdca26"
             ],
             [
              1,
              "#f0f921"
             ]
            ],
            "type": "heatmap"
           }
          ],
          "heatmapgl": [
           {
            "colorbar": {
             "outlinewidth": 0,
             "ticks": ""
            },
            "colorscale": [
             [
              0,
              "#0d0887"
             ],
             [
              0.1111111111111111,
              "#46039f"
             ],
             [
              0.2222222222222222,
              "#7201a8"
             ],
             [
              0.3333333333333333,
              "#9c179e"
             ],
             [
              0.4444444444444444,
              "#bd3786"
             ],
             [
              0.5555555555555556,
              "#d8576b"
             ],
             [
              0.6666666666666666,
              "#ed7953"
             ],
             [
              0.7777777777777778,
              "#fb9f3a"
             ],
             [
              0.8888888888888888,
              "#fdca26"
             ],
             [
              1,
              "#f0f921"
             ]
            ],
            "type": "heatmapgl"
           }
          ],
          "histogram": [
           {
            "marker": {
             "colorbar": {
              "outlinewidth": 0,
              "ticks": ""
             }
            },
            "type": "histogram"
           }
          ],
          "histogram2d": [
           {
            "colorbar": {
             "outlinewidth": 0,
             "ticks": ""
            },
            "colorscale": [
             [
              0,
              "#0d0887"
             ],
             [
              0.1111111111111111,
              "#46039f"
             ],
             [
              0.2222222222222222,
              "#7201a8"
             ],
             [
              0.3333333333333333,
              "#9c179e"
             ],
             [
              0.4444444444444444,
              "#bd3786"
             ],
             [
              0.5555555555555556,
              "#d8576b"
             ],
             [
              0.6666666666666666,
              "#ed7953"
             ],
             [
              0.7777777777777778,
              "#fb9f3a"
             ],
             [
              0.8888888888888888,
              "#fdca26"
             ],
             [
              1,
              "#f0f921"
             ]
            ],
            "type": "histogram2d"
           }
          ],
          "histogram2dcontour": [
           {
            "colorbar": {
             "outlinewidth": 0,
             "ticks": ""
            },
            "colorscale": [
             [
              0,
              "#0d0887"
             ],
             [
              0.1111111111111111,
              "#46039f"
             ],
             [
              0.2222222222222222,
              "#7201a8"
             ],
             [
              0.3333333333333333,
              "#9c179e"
             ],
             [
              0.4444444444444444,
              "#bd3786"
             ],
             [
              0.5555555555555556,
              "#d8576b"
             ],
             [
              0.6666666666666666,
              "#ed7953"
             ],
             [
              0.7777777777777778,
              "#fb9f3a"
             ],
             [
              0.8888888888888888,
              "#fdca26"
             ],
             [
              1,
              "#f0f921"
             ]
            ],
            "type": "histogram2dcontour"
           }
          ],
          "mesh3d": [
           {
            "colorbar": {
             "outlinewidth": 0,
             "ticks": ""
            },
            "type": "mesh3d"
           }
          ],
          "parcoords": [
           {
            "line": {
             "colorbar": {
              "outlinewidth": 0,
              "ticks": ""
             }
            },
            "type": "parcoords"
           }
          ],
          "pie": [
           {
            "automargin": true,
            "type": "pie"
           }
          ],
          "scatter": [
           {
            "marker": {
             "colorbar": {
              "outlinewidth": 0,
              "ticks": ""
             }
            },
            "type": "scatter"
           }
          ],
          "scatter3d": [
           {
            "line": {
             "colorbar": {
              "outlinewidth": 0,
              "ticks": ""
             }
            },
            "marker": {
             "colorbar": {
              "outlinewidth": 0,
              "ticks": ""
             }
            },
            "type": "scatter3d"
           }
          ],
          "scattercarpet": [
           {
            "marker": {
             "colorbar": {
              "outlinewidth": 0,
              "ticks": ""
             }
            },
            "type": "scattercarpet"
           }
          ],
          "scattergeo": [
           {
            "marker": {
             "colorbar": {
              "outlinewidth": 0,
              "ticks": ""
             }
            },
            "type": "scattergeo"
           }
          ],
          "scattergl": [
           {
            "marker": {
             "colorbar": {
              "outlinewidth": 0,
              "ticks": ""
             }
            },
            "type": "scattergl"
           }
          ],
          "scattermapbox": [
           {
            "marker": {
             "colorbar": {
              "outlinewidth": 0,
              "ticks": ""
             }
            },
            "type": "scattermapbox"
           }
          ],
          "scatterpolar": [
           {
            "marker": {
             "colorbar": {
              "outlinewidth": 0,
              "ticks": ""
             }
            },
            "type": "scatterpolar"
           }
          ],
          "scatterpolargl": [
           {
            "marker": {
             "colorbar": {
              "outlinewidth": 0,
              "ticks": ""
             }
            },
            "type": "scatterpolargl"
           }
          ],
          "scatterternary": [
           {
            "marker": {
             "colorbar": {
              "outlinewidth": 0,
              "ticks": ""
             }
            },
            "type": "scatterternary"
           }
          ],
          "surface": [
           {
            "colorbar": {
             "outlinewidth": 0,
             "ticks": ""
            },
            "colorscale": [
             [
              0,
              "#0d0887"
             ],
             [
              0.1111111111111111,
              "#46039f"
             ],
             [
              0.2222222222222222,
              "#7201a8"
             ],
             [
              0.3333333333333333,
              "#9c179e"
             ],
             [
              0.4444444444444444,
              "#bd3786"
             ],
             [
              0.5555555555555556,
              "#d8576b"
             ],
             [
              0.6666666666666666,
              "#ed7953"
             ],
             [
              0.7777777777777778,
              "#fb9f3a"
             ],
             [
              0.8888888888888888,
              "#fdca26"
             ],
             [
              1,
              "#f0f921"
             ]
            ],
            "type": "surface"
           }
          ],
          "table": [
           {
            "cells": {
             "fill": {
              "color": "#EBF0F8"
             },
             "line": {
              "color": "white"
             }
            },
            "header": {
             "fill": {
              "color": "#C8D4E3"
             },
             "line": {
              "color": "white"
             }
            },
            "type": "table"
           }
          ]
         },
         "layout": {
          "annotationdefaults": {
           "arrowcolor": "#2a3f5f",
           "arrowhead": 0,
           "arrowwidth": 1
          },
          "autotypenumbers": "strict",
          "coloraxis": {
           "colorbar": {
            "outlinewidth": 0,
            "ticks": ""
           }
          },
          "colorscale": {
           "diverging": [
            [
             0,
             "#8e0152"
            ],
            [
             0.1,
             "#c51b7d"
            ],
            [
             0.2,
             "#de77ae"
            ],
            [
             0.3,
             "#f1b6da"
            ],
            [
             0.4,
             "#fde0ef"
            ],
            [
             0.5,
             "#f7f7f7"
            ],
            [
             0.6,
             "#e6f5d0"
            ],
            [
             0.7,
             "#b8e186"
            ],
            [
             0.8,
             "#7fbc41"
            ],
            [
             0.9,
             "#4d9221"
            ],
            [
             1,
             "#276419"
            ]
           ],
           "sequential": [
            [
             0,
             "#0d0887"
            ],
            [
             0.1111111111111111,
             "#46039f"
            ],
            [
             0.2222222222222222,
             "#7201a8"
            ],
            [
             0.3333333333333333,
             "#9c179e"
            ],
            [
             0.4444444444444444,
             "#bd3786"
            ],
            [
             0.5555555555555556,
             "#d8576b"
            ],
            [
             0.6666666666666666,
             "#ed7953"
            ],
            [
             0.7777777777777778,
             "#fb9f3a"
            ],
            [
             0.8888888888888888,
             "#fdca26"
            ],
            [
             1,
             "#f0f921"
            ]
           ],
           "sequentialminus": [
            [
             0,
             "#0d0887"
            ],
            [
             0.1111111111111111,
             "#46039f"
            ],
            [
             0.2222222222222222,
             "#7201a8"
            ],
            [
             0.3333333333333333,
             "#9c179e"
            ],
            [
             0.4444444444444444,
             "#bd3786"
            ],
            [
             0.5555555555555556,
             "#d8576b"
            ],
            [
             0.6666666666666666,
             "#ed7953"
            ],
            [
             0.7777777777777778,
             "#fb9f3a"
            ],
            [
             0.8888888888888888,
             "#fdca26"
            ],
            [
             1,
             "#f0f921"
            ]
           ]
          },
          "colorway": [
           "#636efa",
           "#EF553B",
           "#00cc96",
           "#ab63fa",
           "#FFA15A",
           "#19d3f3",
           "#FF6692",
           "#B6E880",
           "#FF97FF",
           "#FECB52"
          ],
          "font": {
           "color": "#2a3f5f"
          },
          "geo": {
           "bgcolor": "white",
           "lakecolor": "white",
           "landcolor": "#E5ECF6",
           "showlakes": true,
           "showland": true,
           "subunitcolor": "white"
          },
          "hoverlabel": {
           "align": "left"
          },
          "hovermode": "closest",
          "mapbox": {
           "style": "light"
          },
          "paper_bgcolor": "white",
          "plot_bgcolor": "#E5ECF6",
          "polar": {
           "angularaxis": {
            "gridcolor": "white",
            "linecolor": "white",
            "ticks": ""
           },
           "bgcolor": "#E5ECF6",
           "radialaxis": {
            "gridcolor": "white",
            "linecolor": "white",
            "ticks": ""
           }
          },
          "scene": {
           "xaxis": {
            "backgroundcolor": "#E5ECF6",
            "gridcolor": "white",
            "gridwidth": 2,
            "linecolor": "white",
            "showbackground": true,
            "ticks": "",
            "zerolinecolor": "white"
           },
           "yaxis": {
            "backgroundcolor": "#E5ECF6",
            "gridcolor": "white",
            "gridwidth": 2,
            "linecolor": "white",
            "showbackground": true,
            "ticks": "",
            "zerolinecolor": "white"
           },
           "zaxis": {
            "backgroundcolor": "#E5ECF6",
            "gridcolor": "white",
            "gridwidth": 2,
            "linecolor": "white",
            "showbackground": true,
            "ticks": "",
            "zerolinecolor": "white"
           }
          },
          "shapedefaults": {
           "line": {
            "color": "#2a3f5f"
           }
          },
          "ternary": {
           "aaxis": {
            "gridcolor": "white",
            "linecolor": "white",
            "ticks": ""
           },
           "baxis": {
            "gridcolor": "white",
            "linecolor": "white",
            "ticks": ""
           },
           "bgcolor": "#E5ECF6",
           "caxis": {
            "gridcolor": "white",
            "linecolor": "white",
            "ticks": ""
           }
          },
          "title": {
           "x": 0.05
          },
          "xaxis": {
           "automargin": true,
           "gridcolor": "white",
           "linecolor": "white",
           "ticks": "",
           "title": {
            "standoff": 15
           },
           "zerolinecolor": "white",
           "zerolinewidth": 2
          },
          "yaxis": {
           "automargin": true,
           "gridcolor": "white",
           "linecolor": "white",
           "ticks": "",
           "title": {
            "standoff": 15
           },
           "zerolinecolor": "white",
           "zerolinewidth": 2
          }
         }
        },
        "title": {
         "text": "Free Session Student Pressent"
        },
        "xaxis": {
         "linecolor": "black",
         "linewidth": 2,
         "mirror": true,
         "showline": true,
         "showticklabels": true,
         "tickangle": 45,
         "tickfont": {
          "color": "red",
          "size": 10
         },
         "title": {
          "text": "University Name"
         },
         "zeroline": true,
         "zerolinecolor": "grey",
         "zerolinewidth": 1
        },
        "yaxis": {
         "gridcolor": "lightgrey",
         "linecolor": "black",
         "linewidth": 2,
         "mirror": true,
         "showline": true,
         "title": {
          "text": "Total Students"
         },
         "zeroline": true,
         "zerolinecolor": "grey",
         "zerolinewidth": 1
        }
       }
      },
      "text/html": [
       "<div>                            <div id=\"51ab87f4-18f5-4fd7-a4aa-91e530376b59\" class=\"plotly-graph-div\" style=\"height:525px; width:100%;\"></div>            <script type=\"text/javascript\">                require([\"plotly\"], function(Plotly) {                    window.PLOTLYENV=window.PLOTLYENV || {};                                    if (document.getElementById(\"51ab87f4-18f5-4fd7-a4aa-91e530376b59\")) {                    Plotly.newPlot(                        \"51ab87f4-18f5-4fd7-a4aa-91e530376b59\",                        [{\"marker\": {\"color\": \"lightgreen\"}, \"text\": [\"Lady Brabourne College\", \"Maulana Azad College\", \"Regent Education and Research Foundation\", \"Lady Brabourne College \", \"Presidency University\", \"Maulana Azad college\", \"Asutosh College\", \"Maulana Azad College \", \"Jadavpur University\", \"Regent Education And Research Foundation\", \"Regent education and research foundation\", \"Durgapur women's college\", \"Regent Education & Research Foundation\", \"AIUB\", \"Lady brabourne college\", \"Lady Brabourne college\", \"MAULANA AZAD COLLEGE\", \"Vivekananda College\", \"Durgapur Women's College\", \"St. Xavier's College\", \"Kalyani Mahavidyalaya\", \"Presidency University \", \"Vidyasagar University\", \"Bethune College\", \"RERF\", \"St. Xavier's College, Kolkata\", \"Regent Education and Research Foundation \", \"Asutosh college\", \"Maulana Abul Kalam Azad University of Technology\", \"DIATM\", \"Bethune college\", \"Narasinha Dutt College\", \"Durgapur institute of advanced technology and management\", \"North South University \", \"Maulana Azad College, Kolkata\", \"University of Calcutta\", \"Durgapur women's college \", \"B.P. Poddar Institute Of Management And Technology\", \"B.P.PODDAR INSTITUTE OF MANAGEMENT AND TECHNOLOGY\", \"Lady brabourne college \", \"Kalyani mahavidyalaya\", \"Future Institute Of Technology\", \"University of Dhaka\", \"Future Institute of Technology\", \"JADAVPUR UNIVERSITY\", \"Durgapur government college\", \"American International University - Bangladesh\", \"Regent Education and Research Foundation Group of Institutions\", \"American International University-Bangladesh \", \"Bethune College \", \"LADY BRABOURNE COLLEGE\", \"B.P Poddar Institute of Management and Technology\", \"Durgapur Institute of Advanced Technology and Management\", \"Presidency University, Kolkata\", \"Academy Of Technology\", \"B.P. PODDAR INSTITUTE OF MANAGEMENT AND TECHNOLOGY\", \"Narasinha dutt college\", \"Lady Brabourne College, Kolkata\"], \"type\": \"bar\", \"x\": [\"Lady Brabourne College\", \"Maulana Azad College\", \"Regent Education and Research Foundation\", \"Lady Brabourne College \", \"Presidency University\", \"Maulana Azad college\", \"Asutosh College\", \"Maulana Azad College \", \"Jadavpur University\", \"Regent Education And Research Foundation\", \"Regent education and research foundation\", \"Durgapur women's college\", \"Regent Education & Research Foundation\", \"AIUB\", \"Lady brabourne college\", \"Lady Brabourne college\", \"MAULANA AZAD COLLEGE\", \"Vivekananda College\", \"Durgapur Women's College\", \"St. Xavier's College\", \"Kalyani Mahavidyalaya\", \"Presidency University \", \"Vidyasagar University\", \"Bethune College\", \"RERF\", \"St. Xavier's College, Kolkata\", \"Regent Education and Research Foundation \", \"Asutosh college\", \"Maulana Abul Kalam Azad University of Technology\", \"DIATM\", \"Bethune college\", \"Narasinha Dutt College\", \"Durgapur institute of advanced technology and management\", \"North South University \", \"Maulana Azad College, Kolkata\", \"University of Calcutta\", \"Durgapur women's college \", \"B.P. Poddar Institute Of Management And Technology\", \"B.P.PODDAR INSTITUTE OF MANAGEMENT AND TECHNOLOGY\", \"Lady brabourne college \", \"Kalyani mahavidyalaya\", \"Future Institute Of Technology\", \"University of Dhaka\", \"Future Institute of Technology\", \"JADAVPUR UNIVERSITY\", \"Durgapur government college\", \"American International University - Bangladesh\", \"Regent Education and Research Foundation Group of Institutions\", \"American International University-Bangladesh \", \"Bethune College \", \"LADY BRABOURNE COLLEGE\", \"B.P Poddar Institute of Management and Technology\", \"Durgapur Institute of Advanced Technology and Management\", \"Presidency University, Kolkata\", \"Academy Of Technology\", \"B.P. PODDAR INSTITUTE OF MANAGEMENT AND TECHNOLOGY\", \"Narasinha dutt college\", \"Lady Brabourne College, Kolkata\"], \"y\": [69, 59, 31, 31, 19, 14, 14, 13, 13, 12, 12, 11, 11, 11, 9, 9, 8, 8, 7, 7, 7, 7, 6, 6, 6, 5, 5, 5, 5, 5, 5, 4, 4, 4, 4, 4, 4, 4, 4, 4, 3, 3, 3, 3, 3, 3, 3, 3, 3, 3, 3, 3, 3, 3, 3, 3, 3, 3]}],                        {\"hovermode\": \"closest\", \"paper_bgcolor\": \"rgba(0, 0, 0, 0)\", \"plot_bgcolor\": \"rgba(0, 0, 0, 0)\", \"template\": {\"data\": {\"bar\": [{\"error_x\": {\"color\": \"#2a3f5f\"}, \"error_y\": {\"color\": \"#2a3f5f\"}, \"marker\": {\"line\": {\"color\": \"#E5ECF6\", \"width\": 0.5}}, \"type\": \"bar\"}], \"barpolar\": [{\"marker\": {\"line\": {\"color\": \"#E5ECF6\", \"width\": 0.5}}, \"type\": \"barpolar\"}], \"carpet\": [{\"aaxis\": {\"endlinecolor\": \"#2a3f5f\", \"gridcolor\": \"white\", \"linecolor\": \"white\", \"minorgridcolor\": \"white\", \"startlinecolor\": \"#2a3f5f\"}, \"baxis\": {\"endlinecolor\": \"#2a3f5f\", \"gridcolor\": \"white\", \"linecolor\": \"white\", \"minorgridcolor\": \"white\", \"startlinecolor\": \"#2a3f5f\"}, \"type\": \"carpet\"}], \"choropleth\": [{\"colorbar\": {\"outlinewidth\": 0, \"ticks\": \"\"}, \"type\": \"choropleth\"}], \"contour\": [{\"colorbar\": {\"outlinewidth\": 0, \"ticks\": \"\"}, \"colorscale\": [[0.0, \"#0d0887\"], [0.1111111111111111, \"#46039f\"], [0.2222222222222222, \"#7201a8\"], [0.3333333333333333, \"#9c179e\"], [0.4444444444444444, \"#bd3786\"], [0.5555555555555556, \"#d8576b\"], [0.6666666666666666, \"#ed7953\"], [0.7777777777777778, \"#fb9f3a\"], [0.8888888888888888, \"#fdca26\"], [1.0, \"#f0f921\"]], \"type\": \"contour\"}], \"contourcarpet\": [{\"colorbar\": {\"outlinewidth\": 0, \"ticks\": \"\"}, \"type\": \"contourcarpet\"}], \"heatmap\": [{\"colorbar\": {\"outlinewidth\": 0, \"ticks\": \"\"}, \"colorscale\": [[0.0, \"#0d0887\"], [0.1111111111111111, \"#46039f\"], [0.2222222222222222, \"#7201a8\"], [0.3333333333333333, \"#9c179e\"], [0.4444444444444444, \"#bd3786\"], [0.5555555555555556, \"#d8576b\"], [0.6666666666666666, \"#ed7953\"], [0.7777777777777778, \"#fb9f3a\"], [0.8888888888888888, \"#fdca26\"], [1.0, \"#f0f921\"]], \"type\": \"heatmap\"}], \"heatmapgl\": [{\"colorbar\": {\"outlinewidth\": 0, \"ticks\": \"\"}, \"colorscale\": [[0.0, \"#0d0887\"], [0.1111111111111111, \"#46039f\"], [0.2222222222222222, \"#7201a8\"], [0.3333333333333333, \"#9c179e\"], [0.4444444444444444, \"#bd3786\"], [0.5555555555555556, \"#d8576b\"], [0.6666666666666666, \"#ed7953\"], [0.7777777777777778, \"#fb9f3a\"], [0.8888888888888888, \"#fdca26\"], [1.0, \"#f0f921\"]], \"type\": \"heatmapgl\"}], \"histogram\": [{\"marker\": {\"colorbar\": {\"outlinewidth\": 0, \"ticks\": \"\"}}, \"type\": \"histogram\"}], \"histogram2d\": [{\"colorbar\": {\"outlinewidth\": 0, \"ticks\": \"\"}, \"colorscale\": [[0.0, \"#0d0887\"], [0.1111111111111111, \"#46039f\"], [0.2222222222222222, \"#7201a8\"], [0.3333333333333333, \"#9c179e\"], [0.4444444444444444, \"#bd3786\"], [0.5555555555555556, \"#d8576b\"], [0.6666666666666666, \"#ed7953\"], [0.7777777777777778, \"#fb9f3a\"], [0.8888888888888888, \"#fdca26\"], [1.0, \"#f0f921\"]], \"type\": \"histogram2d\"}], \"histogram2dcontour\": [{\"colorbar\": {\"outlinewidth\": 0, \"ticks\": \"\"}, \"colorscale\": [[0.0, \"#0d0887\"], [0.1111111111111111, \"#46039f\"], [0.2222222222222222, \"#7201a8\"], [0.3333333333333333, \"#9c179e\"], [0.4444444444444444, \"#bd3786\"], [0.5555555555555556, \"#d8576b\"], [0.6666666666666666, \"#ed7953\"], [0.7777777777777778, \"#fb9f3a\"], [0.8888888888888888, \"#fdca26\"], [1.0, \"#f0f921\"]], \"type\": \"histogram2dcontour\"}], \"mesh3d\": [{\"colorbar\": {\"outlinewidth\": 0, \"ticks\": \"\"}, \"type\": \"mesh3d\"}], \"parcoords\": [{\"line\": {\"colorbar\": {\"outlinewidth\": 0, \"ticks\": \"\"}}, \"type\": \"parcoords\"}], \"pie\": [{\"automargin\": true, \"type\": \"pie\"}], \"scatter\": [{\"marker\": {\"colorbar\": {\"outlinewidth\": 0, \"ticks\": \"\"}}, \"type\": \"scatter\"}], \"scatter3d\": [{\"line\": {\"colorbar\": {\"outlinewidth\": 0, \"ticks\": \"\"}}, \"marker\": {\"colorbar\": {\"outlinewidth\": 0, \"ticks\": \"\"}}, \"type\": \"scatter3d\"}], \"scattercarpet\": [{\"marker\": {\"colorbar\": {\"outlinewidth\": 0, \"ticks\": \"\"}}, \"type\": \"scattercarpet\"}], \"scattergeo\": [{\"marker\": {\"colorbar\": {\"outlinewidth\": 0, \"ticks\": \"\"}}, \"type\": \"scattergeo\"}], \"scattergl\": [{\"marker\": {\"colorbar\": {\"outlinewidth\": 0, \"ticks\": \"\"}}, \"type\": \"scattergl\"}], \"scattermapbox\": [{\"marker\": {\"colorbar\": {\"outlinewidth\": 0, \"ticks\": \"\"}}, \"type\": \"scattermapbox\"}], \"scatterpolar\": [{\"marker\": {\"colorbar\": {\"outlinewidth\": 0, \"ticks\": \"\"}}, \"type\": \"scatterpolar\"}], \"scatterpolargl\": [{\"marker\": {\"colorbar\": {\"outlinewidth\": 0, \"ticks\": \"\"}}, \"type\": \"scatterpolargl\"}], \"scatterternary\": [{\"marker\": {\"colorbar\": {\"outlinewidth\": 0, \"ticks\": \"\"}}, \"type\": \"scatterternary\"}], \"surface\": [{\"colorbar\": {\"outlinewidth\": 0, \"ticks\": \"\"}, \"colorscale\": [[0.0, \"#0d0887\"], [0.1111111111111111, \"#46039f\"], [0.2222222222222222, \"#7201a8\"], [0.3333333333333333, \"#9c179e\"], [0.4444444444444444, \"#bd3786\"], [0.5555555555555556, \"#d8576b\"], [0.6666666666666666, \"#ed7953\"], [0.7777777777777778, \"#fb9f3a\"], [0.8888888888888888, \"#fdca26\"], [1.0, \"#f0f921\"]], \"type\": \"surface\"}], \"table\": [{\"cells\": {\"fill\": {\"color\": \"#EBF0F8\"}, \"line\": {\"color\": \"white\"}}, \"header\": {\"fill\": {\"color\": \"#C8D4E3\"}, \"line\": {\"color\": \"white\"}}, \"type\": \"table\"}]}, \"layout\": {\"annotationdefaults\": {\"arrowcolor\": \"#2a3f5f\", \"arrowhead\": 0, \"arrowwidth\": 1}, \"autotypenumbers\": \"strict\", \"coloraxis\": {\"colorbar\": {\"outlinewidth\": 0, \"ticks\": \"\"}}, \"colorscale\": {\"diverging\": [[0, \"#8e0152\"], [0.1, \"#c51b7d\"], [0.2, \"#de77ae\"], [0.3, \"#f1b6da\"], [0.4, \"#fde0ef\"], [0.5, \"#f7f7f7\"], [0.6, \"#e6f5d0\"], [0.7, \"#b8e186\"], [0.8, \"#7fbc41\"], [0.9, \"#4d9221\"], [1, \"#276419\"]], \"sequential\": [[0.0, \"#0d0887\"], [0.1111111111111111, \"#46039f\"], [0.2222222222222222, \"#7201a8\"], [0.3333333333333333, \"#9c179e\"], [0.4444444444444444, \"#bd3786\"], [0.5555555555555556, \"#d8576b\"], [0.6666666666666666, \"#ed7953\"], [0.7777777777777778, \"#fb9f3a\"], [0.8888888888888888, \"#fdca26\"], [1.0, \"#f0f921\"]], \"sequentialminus\": [[0.0, \"#0d0887\"], [0.1111111111111111, \"#46039f\"], [0.2222222222222222, \"#7201a8\"], [0.3333333333333333, \"#9c179e\"], [0.4444444444444444, \"#bd3786\"], [0.5555555555555556, \"#d8576b\"], [0.6666666666666666, \"#ed7953\"], [0.7777777777777778, \"#fb9f3a\"], [0.8888888888888888, \"#fdca26\"], [1.0, \"#f0f921\"]]}, \"colorway\": [\"#636efa\", \"#EF553B\", \"#00cc96\", \"#ab63fa\", \"#FFA15A\", \"#19d3f3\", \"#FF6692\", \"#B6E880\", \"#FF97FF\", \"#FECB52\"], \"font\": {\"color\": \"#2a3f5f\"}, \"geo\": {\"bgcolor\": \"white\", \"lakecolor\": \"white\", \"landcolor\": \"#E5ECF6\", \"showlakes\": true, \"showland\": true, \"subunitcolor\": \"white\"}, \"hoverlabel\": {\"align\": \"left\"}, \"hovermode\": \"closest\", \"mapbox\": {\"style\": \"light\"}, \"paper_bgcolor\": \"white\", \"plot_bgcolor\": \"#E5ECF6\", \"polar\": {\"angularaxis\": {\"gridcolor\": \"white\", \"linecolor\": \"white\", \"ticks\": \"\"}, \"bgcolor\": \"#E5ECF6\", \"radialaxis\": {\"gridcolor\": \"white\", \"linecolor\": \"white\", \"ticks\": \"\"}}, \"scene\": {\"xaxis\": {\"backgroundcolor\": \"#E5ECF6\", \"gridcolor\": \"white\", \"gridwidth\": 2, \"linecolor\": \"white\", \"showbackground\": true, \"ticks\": \"\", \"zerolinecolor\": \"white\"}, \"yaxis\": {\"backgroundcolor\": \"#E5ECF6\", \"gridcolor\": \"white\", \"gridwidth\": 2, \"linecolor\": \"white\", \"showbackground\": true, \"ticks\": \"\", \"zerolinecolor\": \"white\"}, \"zaxis\": {\"backgroundcolor\": \"#E5ECF6\", \"gridcolor\": \"white\", \"gridwidth\": 2, \"linecolor\": \"white\", \"showbackground\": true, \"ticks\": \"\", \"zerolinecolor\": \"white\"}}, \"shapedefaults\": {\"line\": {\"color\": \"#2a3f5f\"}}, \"ternary\": {\"aaxis\": {\"gridcolor\": \"white\", \"linecolor\": \"white\", \"ticks\": \"\"}, \"baxis\": {\"gridcolor\": \"white\", \"linecolor\": \"white\", \"ticks\": \"\"}, \"bgcolor\": \"#E5ECF6\", \"caxis\": {\"gridcolor\": \"white\", \"linecolor\": \"white\", \"ticks\": \"\"}}, \"title\": {\"x\": 0.05}, \"xaxis\": {\"automargin\": true, \"gridcolor\": \"white\", \"linecolor\": \"white\", \"ticks\": \"\", \"title\": {\"standoff\": 15}, \"zerolinecolor\": \"white\", \"zerolinewidth\": 2}, \"yaxis\": {\"automargin\": true, \"gridcolor\": \"white\", \"linecolor\": \"white\", \"ticks\": \"\", \"title\": {\"standoff\": 15}, \"zerolinecolor\": \"white\", \"zerolinewidth\": 2}}}, \"title\": {\"text\": \"Free Session Student Pressent\"}, \"xaxis\": {\"linecolor\": \"black\", \"linewidth\": 2, \"mirror\": true, \"showline\": true, \"showticklabels\": true, \"tickangle\": 45, \"tickfont\": {\"color\": \"red\", \"size\": 10}, \"title\": {\"text\": \"University Name\"}, \"zeroline\": true, \"zerolinecolor\": \"grey\", \"zerolinewidth\": 1}, \"yaxis\": {\"gridcolor\": \"lightgrey\", \"linecolor\": \"black\", \"linewidth\": 2, \"mirror\": true, \"showline\": true, \"title\": {\"text\": \"Total Students\"}, \"zeroline\": true, \"zerolinecolor\": \"grey\", \"zerolinewidth\": 1}},                        {\"responsive\": true}                    ).then(function(){\n",
       "                            \n",
       "var gd = document.getElementById('51ab87f4-18f5-4fd7-a4aa-91e530376b59');\n",
       "var x = new MutationObserver(function (mutations, observer) {{\n",
       "        var display = window.getComputedStyle(gd).display;\n",
       "        if (!display || display === 'none') {{\n",
       "            console.log([gd, 'removed!']);\n",
       "            Plotly.purge(gd);\n",
       "            observer.disconnect();\n",
       "        }}\n",
       "}});\n",
       "\n",
       "// Listen for the removal of the full notebook cells\n",
       "var notebookContainer = gd.closest('#notebook-container');\n",
       "if (notebookContainer) {{\n",
       "    x.observe(notebookContainer, {childList: true});\n",
       "}}\n",
       "\n",
       "// Listen for the clearing of the current output cell\n",
       "var outputEl = gd.closest('.output');\n",
       "if (outputEl) {{\n",
       "    x.observe(outputEl, {childList: true});\n",
       "}}\n",
       "\n",
       "                        })                };                });            </script>        </div>"
      ]
     },
     "metadata": {},
     "output_type": "display_data"
    }
   ],
   "source": [
    "draw_trace_bar(collegetop,'College','counts','Free Session Student Pressent', 'University Name','Total Students',\"lightgreen\")"
   ]
  },
  {
   "cell_type": "markdown",
   "metadata": {},
   "source": [
    "If we see the bar chart we can see that most of the students are Lady Brabourne College(69), Maulana Azad College(59)"
   ]
  },
  {
   "cell_type": "code",
   "execution_count": 148,
   "metadata": {},
   "outputs": [
    {
     "data": {
      "application/vnd.plotly.v1+json": {
       "config": {
        "linkText": "Export to plot.ly",
        "plotlyServerURL": "https://plot.ly",
        "showLink": false
       },
       "data": [
        {
         "marker": {
          "color": "red"
         },
         "text": [
          "Honors (BSC/MSC)",
          "Engineering",
          "others",
          "Statistics",
          "Mathematics",
          "BBA",
          "Statistics ",
          "Statistics honours",
          "Statistics Honours",
          "BCA",
          "Mathematics ",
          "R",
          "Electrical Engineering",
          "B.tech",
          "Electrical engineering",
          "CSE",
          "ECE",
          "Computer science",
          "Statistics Hons",
          "Computer Science",
          "B.Sc Statistics honours"
         ],
         "type": "bar",
         "x": [
          "Honors (BSC/MSC)",
          "Engineering",
          "others",
          "Statistics",
          "Mathematics",
          "BBA",
          "Statistics ",
          "Statistics honours",
          "Statistics Honours",
          "BCA",
          "Mathematics ",
          "R",
          "Electrical Engineering",
          "B.tech",
          "Electrical engineering",
          "CSE",
          "ECE",
          "Computer science",
          "Statistics Hons",
          "Computer Science",
          "B.Sc Statistics honours"
         ],
         "y": [
          337,
          187,
          92,
          31,
          16,
          11,
          9,
          7,
          5,
          5,
          4,
          4,
          4,
          3,
          3,
          3,
          3,
          3,
          3,
          3,
          3
         ]
        }
       ],
       "layout": {
        "hovermode": "closest",
        "paper_bgcolor": "rgba(0, 0, 0, 0)",
        "plot_bgcolor": "rgba(0, 0, 0, 0)",
        "template": {
         "data": {
          "bar": [
           {
            "error_x": {
             "color": "#2a3f5f"
            },
            "error_y": {
             "color": "#2a3f5f"
            },
            "marker": {
             "line": {
              "color": "#E5ECF6",
              "width": 0.5
             }
            },
            "type": "bar"
           }
          ],
          "barpolar": [
           {
            "marker": {
             "line": {
              "color": "#E5ECF6",
              "width": 0.5
             }
            },
            "type": "barpolar"
           }
          ],
          "carpet": [
           {
            "aaxis": {
             "endlinecolor": "#2a3f5f",
             "gridcolor": "white",
             "linecolor": "white",
             "minorgridcolor": "white",
             "startlinecolor": "#2a3f5f"
            },
            "baxis": {
             "endlinecolor": "#2a3f5f",
             "gridcolor": "white",
             "linecolor": "white",
             "minorgridcolor": "white",
             "startlinecolor": "#2a3f5f"
            },
            "type": "carpet"
           }
          ],
          "choropleth": [
           {
            "colorbar": {
             "outlinewidth": 0,
             "ticks": ""
            },
            "type": "choropleth"
           }
          ],
          "contour": [
           {
            "colorbar": {
             "outlinewidth": 0,
             "ticks": ""
            },
            "colorscale": [
             [
              0,
              "#0d0887"
             ],
             [
              0.1111111111111111,
              "#46039f"
             ],
             [
              0.2222222222222222,
              "#7201a8"
             ],
             [
              0.3333333333333333,
              "#9c179e"
             ],
             [
              0.4444444444444444,
              "#bd3786"
             ],
             [
              0.5555555555555556,
              "#d8576b"
             ],
             [
              0.6666666666666666,
              "#ed7953"
             ],
             [
              0.7777777777777778,
              "#fb9f3a"
             ],
             [
              0.8888888888888888,
              "#fdca26"
             ],
             [
              1,
              "#f0f921"
             ]
            ],
            "type": "contour"
           }
          ],
          "contourcarpet": [
           {
            "colorbar": {
             "outlinewidth": 0,
             "ticks": ""
            },
            "type": "contourcarpet"
           }
          ],
          "heatmap": [
           {
            "colorbar": {
             "outlinewidth": 0,
             "ticks": ""
            },
            "colorscale": [
             [
              0,
              "#0d0887"
             ],
             [
              0.1111111111111111,
              "#46039f"
             ],
             [
              0.2222222222222222,
              "#7201a8"
             ],
             [
              0.3333333333333333,
              "#9c179e"
             ],
             [
              0.4444444444444444,
              "#bd3786"
             ],
             [
              0.5555555555555556,
              "#d8576b"
             ],
             [
              0.6666666666666666,
              "#ed7953"
             ],
             [
              0.7777777777777778,
              "#fb9f3a"
             ],
             [
              0.8888888888888888,
              "#fdca26"
             ],
             [
              1,
              "#f0f921"
             ]
            ],
            "type": "heatmap"
           }
          ],
          "heatmapgl": [
           {
            "colorbar": {
             "outlinewidth": 0,
             "ticks": ""
            },
            "colorscale": [
             [
              0,
              "#0d0887"
             ],
             [
              0.1111111111111111,
              "#46039f"
             ],
             [
              0.2222222222222222,
              "#7201a8"
             ],
             [
              0.3333333333333333,
              "#9c179e"
             ],
             [
              0.4444444444444444,
              "#bd3786"
             ],
             [
              0.5555555555555556,
              "#d8576b"
             ],
             [
              0.6666666666666666,
              "#ed7953"
             ],
             [
              0.7777777777777778,
              "#fb9f3a"
             ],
             [
              0.8888888888888888,
              "#fdca26"
             ],
             [
              1,
              "#f0f921"
             ]
            ],
            "type": "heatmapgl"
           }
          ],
          "histogram": [
           {
            "marker": {
             "colorbar": {
              "outlinewidth": 0,
              "ticks": ""
             }
            },
            "type": "histogram"
           }
          ],
          "histogram2d": [
           {
            "colorbar": {
             "outlinewidth": 0,
             "ticks": ""
            },
            "colorscale": [
             [
              0,
              "#0d0887"
             ],
             [
              0.1111111111111111,
              "#46039f"
             ],
             [
              0.2222222222222222,
              "#7201a8"
             ],
             [
              0.3333333333333333,
              "#9c179e"
             ],
             [
              0.4444444444444444,
              "#bd3786"
             ],
             [
              0.5555555555555556,
              "#d8576b"
             ],
             [
              0.6666666666666666,
              "#ed7953"
             ],
             [
              0.7777777777777778,
              "#fb9f3a"
             ],
             [
              0.8888888888888888,
              "#fdca26"
             ],
             [
              1,
              "#f0f921"
             ]
            ],
            "type": "histogram2d"
           }
          ],
          "histogram2dcontour": [
           {
            "colorbar": {
             "outlinewidth": 0,
             "ticks": ""
            },
            "colorscale": [
             [
              0,
              "#0d0887"
             ],
             [
              0.1111111111111111,
              "#46039f"
             ],
             [
              0.2222222222222222,
              "#7201a8"
             ],
             [
              0.3333333333333333,
              "#9c179e"
             ],
             [
              0.4444444444444444,
              "#bd3786"
             ],
             [
              0.5555555555555556,
              "#d8576b"
             ],
             [
              0.6666666666666666,
              "#ed7953"
             ],
             [
              0.7777777777777778,
              "#fb9f3a"
             ],
             [
              0.8888888888888888,
              "#fdca26"
             ],
             [
              1,
              "#f0f921"
             ]
            ],
            "type": "histogram2dcontour"
           }
          ],
          "mesh3d": [
           {
            "colorbar": {
             "outlinewidth": 0,
             "ticks": ""
            },
            "type": "mesh3d"
           }
          ],
          "parcoords": [
           {
            "line": {
             "colorbar": {
              "outlinewidth": 0,
              "ticks": ""
             }
            },
            "type": "parcoords"
           }
          ],
          "pie": [
           {
            "automargin": true,
            "type": "pie"
           }
          ],
          "scatter": [
           {
            "marker": {
             "colorbar": {
              "outlinewidth": 0,
              "ticks": ""
             }
            },
            "type": "scatter"
           }
          ],
          "scatter3d": [
           {
            "line": {
             "colorbar": {
              "outlinewidth": 0,
              "ticks": ""
             }
            },
            "marker": {
             "colorbar": {
              "outlinewidth": 0,
              "ticks": ""
             }
            },
            "type": "scatter3d"
           }
          ],
          "scattercarpet": [
           {
            "marker": {
             "colorbar": {
              "outlinewidth": 0,
              "ticks": ""
             }
            },
            "type": "scattercarpet"
           }
          ],
          "scattergeo": [
           {
            "marker": {
             "colorbar": {
              "outlinewidth": 0,
              "ticks": ""
             }
            },
            "type": "scattergeo"
           }
          ],
          "scattergl": [
           {
            "marker": {
             "colorbar": {
              "outlinewidth": 0,
              "ticks": ""
             }
            },
            "type": "scattergl"
           }
          ],
          "scattermapbox": [
           {
            "marker": {
             "colorbar": {
              "outlinewidth": 0,
              "ticks": ""
             }
            },
            "type": "scattermapbox"
           }
          ],
          "scatterpolar": [
           {
            "marker": {
             "colorbar": {
              "outlinewidth": 0,
              "ticks": ""
             }
            },
            "type": "scatterpolar"
           }
          ],
          "scatterpolargl": [
           {
            "marker": {
             "colorbar": {
              "outlinewidth": 0,
              "ticks": ""
             }
            },
            "type": "scatterpolargl"
           }
          ],
          "scatterternary": [
           {
            "marker": {
             "colorbar": {
              "outlinewidth": 0,
              "ticks": ""
             }
            },
            "type": "scatterternary"
           }
          ],
          "surface": [
           {
            "colorbar": {
             "outlinewidth": 0,
             "ticks": ""
            },
            "colorscale": [
             [
              0,
              "#0d0887"
             ],
             [
              0.1111111111111111,
              "#46039f"
             ],
             [
              0.2222222222222222,
              "#7201a8"
             ],
             [
              0.3333333333333333,
              "#9c179e"
             ],
             [
              0.4444444444444444,
              "#bd3786"
             ],
             [
              0.5555555555555556,
              "#d8576b"
             ],
             [
              0.6666666666666666,
              "#ed7953"
             ],
             [
              0.7777777777777778,
              "#fb9f3a"
             ],
             [
              0.8888888888888888,
              "#fdca26"
             ],
             [
              1,
              "#f0f921"
             ]
            ],
            "type": "surface"
           }
          ],
          "table": [
           {
            "cells": {
             "fill": {
              "color": "#EBF0F8"
             },
             "line": {
              "color": "white"
             }
            },
            "header": {
             "fill": {
              "color": "#C8D4E3"
             },
             "line": {
              "color": "white"
             }
            },
            "type": "table"
           }
          ]
         },
         "layout": {
          "annotationdefaults": {
           "arrowcolor": "#2a3f5f",
           "arrowhead": 0,
           "arrowwidth": 1
          },
          "autotypenumbers": "strict",
          "coloraxis": {
           "colorbar": {
            "outlinewidth": 0,
            "ticks": ""
           }
          },
          "colorscale": {
           "diverging": [
            [
             0,
             "#8e0152"
            ],
            [
             0.1,
             "#c51b7d"
            ],
            [
             0.2,
             "#de77ae"
            ],
            [
             0.3,
             "#f1b6da"
            ],
            [
             0.4,
             "#fde0ef"
            ],
            [
             0.5,
             "#f7f7f7"
            ],
            [
             0.6,
             "#e6f5d0"
            ],
            [
             0.7,
             "#b8e186"
            ],
            [
             0.8,
             "#7fbc41"
            ],
            [
             0.9,
             "#4d9221"
            ],
            [
             1,
             "#276419"
            ]
           ],
           "sequential": [
            [
             0,
             "#0d0887"
            ],
            [
             0.1111111111111111,
             "#46039f"
            ],
            [
             0.2222222222222222,
             "#7201a8"
            ],
            [
             0.3333333333333333,
             "#9c179e"
            ],
            [
             0.4444444444444444,
             "#bd3786"
            ],
            [
             0.5555555555555556,
             "#d8576b"
            ],
            [
             0.6666666666666666,
             "#ed7953"
            ],
            [
             0.7777777777777778,
             "#fb9f3a"
            ],
            [
             0.8888888888888888,
             "#fdca26"
            ],
            [
             1,
             "#f0f921"
            ]
           ],
           "sequentialminus": [
            [
             0,
             "#0d0887"
            ],
            [
             0.1111111111111111,
             "#46039f"
            ],
            [
             0.2222222222222222,
             "#7201a8"
            ],
            [
             0.3333333333333333,
             "#9c179e"
            ],
            [
             0.4444444444444444,
             "#bd3786"
            ],
            [
             0.5555555555555556,
             "#d8576b"
            ],
            [
             0.6666666666666666,
             "#ed7953"
            ],
            [
             0.7777777777777778,
             "#fb9f3a"
            ],
            [
             0.8888888888888888,
             "#fdca26"
            ],
            [
             1,
             "#f0f921"
            ]
           ]
          },
          "colorway": [
           "#636efa",
           "#EF553B",
           "#00cc96",
           "#ab63fa",
           "#FFA15A",
           "#19d3f3",
           "#FF6692",
           "#B6E880",
           "#FF97FF",
           "#FECB52"
          ],
          "font": {
           "color": "#2a3f5f"
          },
          "geo": {
           "bgcolor": "white",
           "lakecolor": "white",
           "landcolor": "#E5ECF6",
           "showlakes": true,
           "showland": true,
           "subunitcolor": "white"
          },
          "hoverlabel": {
           "align": "left"
          },
          "hovermode": "closest",
          "mapbox": {
           "style": "light"
          },
          "paper_bgcolor": "white",
          "plot_bgcolor": "#E5ECF6",
          "polar": {
           "angularaxis": {
            "gridcolor": "white",
            "linecolor": "white",
            "ticks": ""
           },
           "bgcolor": "#E5ECF6",
           "radialaxis": {
            "gridcolor": "white",
            "linecolor": "white",
            "ticks": ""
           }
          },
          "scene": {
           "xaxis": {
            "backgroundcolor": "#E5ECF6",
            "gridcolor": "white",
            "gridwidth": 2,
            "linecolor": "white",
            "showbackground": true,
            "ticks": "",
            "zerolinecolor": "white"
           },
           "yaxis": {
            "backgroundcolor": "#E5ECF6",
            "gridcolor": "white",
            "gridwidth": 2,
            "linecolor": "white",
            "showbackground": true,
            "ticks": "",
            "zerolinecolor": "white"
           },
           "zaxis": {
            "backgroundcolor": "#E5ECF6",
            "gridcolor": "white",
            "gridwidth": 2,
            "linecolor": "white",
            "showbackground": true,
            "ticks": "",
            "zerolinecolor": "white"
           }
          },
          "shapedefaults": {
           "line": {
            "color": "#2a3f5f"
           }
          },
          "ternary": {
           "aaxis": {
            "gridcolor": "white",
            "linecolor": "white",
            "ticks": ""
           },
           "baxis": {
            "gridcolor": "white",
            "linecolor": "white",
            "ticks": ""
           },
           "bgcolor": "#E5ECF6",
           "caxis": {
            "gridcolor": "white",
            "linecolor": "white",
            "ticks": ""
           }
          },
          "title": {
           "x": 0.05
          },
          "xaxis": {
           "automargin": true,
           "gridcolor": "white",
           "linecolor": "white",
           "ticks": "",
           "title": {
            "standoff": 15
           },
           "zerolinecolor": "white",
           "zerolinewidth": 2
          },
          "yaxis": {
           "automargin": true,
           "gridcolor": "white",
           "linecolor": "white",
           "ticks": "",
           "title": {
            "standoff": 15
           },
           "zerolinecolor": "white",
           "zerolinewidth": 2
          }
         }
        },
        "title": {
         "text": "Free Session Student Pressent"
        },
        "xaxis": {
         "linecolor": "black",
         "linewidth": 2,
         "mirror": true,
         "showline": true,
         "showticklabels": true,
         "tickangle": 45,
         "tickfont": {
          "color": "red",
          "size": 10
         },
         "title": {
          "text": "Department Name"
         },
         "zeroline": true,
         "zerolinecolor": "grey",
         "zerolinewidth": 1
        },
        "yaxis": {
         "gridcolor": "lightgrey",
         "linecolor": "black",
         "linewidth": 2,
         "mirror": true,
         "showline": true,
         "title": {
          "text": "Total Students"
         },
         "zeroline": true,
         "zerolinecolor": "grey",
         "zerolinewidth": 1
        }
       }
      },
      "text/html": [
       "<div>                            <div id=\"b9e89dec-29a0-4394-9711-2f677f3c945c\" class=\"plotly-graph-div\" style=\"height:525px; width:100%;\"></div>            <script type=\"text/javascript\">                require([\"plotly\"], function(Plotly) {                    window.PLOTLYENV=window.PLOTLYENV || {};                                    if (document.getElementById(\"b9e89dec-29a0-4394-9711-2f677f3c945c\")) {                    Plotly.newPlot(                        \"b9e89dec-29a0-4394-9711-2f677f3c945c\",                        [{\"marker\": {\"color\": \"red\"}, \"text\": [\"Honors (BSC/MSC)\", \"Engineering\", \"others\", \"Statistics\", \"Mathematics\", \"BBA\", \"Statistics \", \"Statistics honours\", \"Statistics Honours\", \"BCA\", \"Mathematics \", \"R\", \"Electrical Engineering\", \"B.tech\", \"Electrical engineering\", \"CSE\", \"ECE\", \"Computer science\", \"Statistics Hons\", \"Computer Science\", \"B.Sc Statistics honours\"], \"type\": \"bar\", \"x\": [\"Honors (BSC/MSC)\", \"Engineering\", \"others\", \"Statistics\", \"Mathematics\", \"BBA\", \"Statistics \", \"Statistics honours\", \"Statistics Honours\", \"BCA\", \"Mathematics \", \"R\", \"Electrical Engineering\", \"B.tech\", \"Electrical engineering\", \"CSE\", \"ECE\", \"Computer science\", \"Statistics Hons\", \"Computer Science\", \"B.Sc Statistics honours\"], \"y\": [337, 187, 92, 31, 16, 11, 9, 7, 5, 5, 4, 4, 4, 3, 3, 3, 3, 3, 3, 3, 3]}],                        {\"hovermode\": \"closest\", \"paper_bgcolor\": \"rgba(0, 0, 0, 0)\", \"plot_bgcolor\": \"rgba(0, 0, 0, 0)\", \"template\": {\"data\": {\"bar\": [{\"error_x\": {\"color\": \"#2a3f5f\"}, \"error_y\": {\"color\": \"#2a3f5f\"}, \"marker\": {\"line\": {\"color\": \"#E5ECF6\", \"width\": 0.5}}, \"type\": \"bar\"}], \"barpolar\": [{\"marker\": {\"line\": {\"color\": \"#E5ECF6\", \"width\": 0.5}}, \"type\": \"barpolar\"}], \"carpet\": [{\"aaxis\": {\"endlinecolor\": \"#2a3f5f\", \"gridcolor\": \"white\", \"linecolor\": \"white\", \"minorgridcolor\": \"white\", \"startlinecolor\": \"#2a3f5f\"}, \"baxis\": {\"endlinecolor\": \"#2a3f5f\", \"gridcolor\": \"white\", \"linecolor\": \"white\", \"minorgridcolor\": \"white\", \"startlinecolor\": \"#2a3f5f\"}, \"type\": \"carpet\"}], \"choropleth\": [{\"colorbar\": {\"outlinewidth\": 0, \"ticks\": \"\"}, \"type\": \"choropleth\"}], \"contour\": [{\"colorbar\": {\"outlinewidth\": 0, \"ticks\": \"\"}, \"colorscale\": [[0.0, \"#0d0887\"], [0.1111111111111111, \"#46039f\"], [0.2222222222222222, \"#7201a8\"], [0.3333333333333333, \"#9c179e\"], [0.4444444444444444, \"#bd3786\"], [0.5555555555555556, \"#d8576b\"], [0.6666666666666666, \"#ed7953\"], [0.7777777777777778, \"#fb9f3a\"], [0.8888888888888888, \"#fdca26\"], [1.0, \"#f0f921\"]], \"type\": \"contour\"}], \"contourcarpet\": [{\"colorbar\": {\"outlinewidth\": 0, \"ticks\": \"\"}, \"type\": \"contourcarpet\"}], \"heatmap\": [{\"colorbar\": {\"outlinewidth\": 0, \"ticks\": \"\"}, \"colorscale\": [[0.0, \"#0d0887\"], [0.1111111111111111, \"#46039f\"], [0.2222222222222222, \"#7201a8\"], [0.3333333333333333, \"#9c179e\"], [0.4444444444444444, \"#bd3786\"], [0.5555555555555556, \"#d8576b\"], [0.6666666666666666, \"#ed7953\"], [0.7777777777777778, \"#fb9f3a\"], [0.8888888888888888, \"#fdca26\"], [1.0, \"#f0f921\"]], \"type\": \"heatmap\"}], \"heatmapgl\": [{\"colorbar\": {\"outlinewidth\": 0, \"ticks\": \"\"}, \"colorscale\": [[0.0, \"#0d0887\"], [0.1111111111111111, \"#46039f\"], [0.2222222222222222, \"#7201a8\"], [0.3333333333333333, \"#9c179e\"], [0.4444444444444444, \"#bd3786\"], [0.5555555555555556, \"#d8576b\"], [0.6666666666666666, \"#ed7953\"], [0.7777777777777778, \"#fb9f3a\"], [0.8888888888888888, \"#fdca26\"], [1.0, \"#f0f921\"]], \"type\": \"heatmapgl\"}], \"histogram\": [{\"marker\": {\"colorbar\": {\"outlinewidth\": 0, \"ticks\": \"\"}}, \"type\": \"histogram\"}], \"histogram2d\": [{\"colorbar\": {\"outlinewidth\": 0, \"ticks\": \"\"}, \"colorscale\": [[0.0, \"#0d0887\"], [0.1111111111111111, \"#46039f\"], [0.2222222222222222, \"#7201a8\"], [0.3333333333333333, \"#9c179e\"], [0.4444444444444444, \"#bd3786\"], [0.5555555555555556, \"#d8576b\"], [0.6666666666666666, \"#ed7953\"], [0.7777777777777778, \"#fb9f3a\"], [0.8888888888888888, \"#fdca26\"], [1.0, \"#f0f921\"]], \"type\": \"histogram2d\"}], \"histogram2dcontour\": [{\"colorbar\": {\"outlinewidth\": 0, \"ticks\": \"\"}, \"colorscale\": [[0.0, \"#0d0887\"], [0.1111111111111111, \"#46039f\"], [0.2222222222222222, \"#7201a8\"], [0.3333333333333333, \"#9c179e\"], [0.4444444444444444, \"#bd3786\"], [0.5555555555555556, \"#d8576b\"], [0.6666666666666666, \"#ed7953\"], [0.7777777777777778, \"#fb9f3a\"], [0.8888888888888888, \"#fdca26\"], [1.0, \"#f0f921\"]], \"type\": \"histogram2dcontour\"}], \"mesh3d\": [{\"colorbar\": {\"outlinewidth\": 0, \"ticks\": \"\"}, \"type\": \"mesh3d\"}], \"parcoords\": [{\"line\": {\"colorbar\": {\"outlinewidth\": 0, \"ticks\": \"\"}}, \"type\": \"parcoords\"}], \"pie\": [{\"automargin\": true, \"type\": \"pie\"}], \"scatter\": [{\"marker\": {\"colorbar\": {\"outlinewidth\": 0, \"ticks\": \"\"}}, \"type\": \"scatter\"}], \"scatter3d\": [{\"line\": {\"colorbar\": {\"outlinewidth\": 0, \"ticks\": \"\"}}, \"marker\": {\"colorbar\": {\"outlinewidth\": 0, \"ticks\": \"\"}}, \"type\": \"scatter3d\"}], \"scattercarpet\": [{\"marker\": {\"colorbar\": {\"outlinewidth\": 0, \"ticks\": \"\"}}, \"type\": \"scattercarpet\"}], \"scattergeo\": [{\"marker\": {\"colorbar\": {\"outlinewidth\": 0, \"ticks\": \"\"}}, \"type\": \"scattergeo\"}], \"scattergl\": [{\"marker\": {\"colorbar\": {\"outlinewidth\": 0, \"ticks\": \"\"}}, \"type\": \"scattergl\"}], \"scattermapbox\": [{\"marker\": {\"colorbar\": {\"outlinewidth\": 0, \"ticks\": \"\"}}, \"type\": \"scattermapbox\"}], \"scatterpolar\": [{\"marker\": {\"colorbar\": {\"outlinewidth\": 0, \"ticks\": \"\"}}, \"type\": \"scatterpolar\"}], \"scatterpolargl\": [{\"marker\": {\"colorbar\": {\"outlinewidth\": 0, \"ticks\": \"\"}}, \"type\": \"scatterpolargl\"}], \"scatterternary\": [{\"marker\": {\"colorbar\": {\"outlinewidth\": 0, \"ticks\": \"\"}}, \"type\": \"scatterternary\"}], \"surface\": [{\"colorbar\": {\"outlinewidth\": 0, \"ticks\": \"\"}, \"colorscale\": [[0.0, \"#0d0887\"], [0.1111111111111111, \"#46039f\"], [0.2222222222222222, \"#7201a8\"], [0.3333333333333333, \"#9c179e\"], [0.4444444444444444, \"#bd3786\"], [0.5555555555555556, \"#d8576b\"], [0.6666666666666666, \"#ed7953\"], [0.7777777777777778, \"#fb9f3a\"], [0.8888888888888888, \"#fdca26\"], [1.0, \"#f0f921\"]], \"type\": \"surface\"}], \"table\": [{\"cells\": {\"fill\": {\"color\": \"#EBF0F8\"}, \"line\": {\"color\": \"white\"}}, \"header\": {\"fill\": {\"color\": \"#C8D4E3\"}, \"line\": {\"color\": \"white\"}}, \"type\": \"table\"}]}, \"layout\": {\"annotationdefaults\": {\"arrowcolor\": \"#2a3f5f\", \"arrowhead\": 0, \"arrowwidth\": 1}, \"autotypenumbers\": \"strict\", \"coloraxis\": {\"colorbar\": {\"outlinewidth\": 0, \"ticks\": \"\"}}, \"colorscale\": {\"diverging\": [[0, \"#8e0152\"], [0.1, \"#c51b7d\"], [0.2, \"#de77ae\"], [0.3, \"#f1b6da\"], [0.4, \"#fde0ef\"], [0.5, \"#f7f7f7\"], [0.6, \"#e6f5d0\"], [0.7, \"#b8e186\"], [0.8, \"#7fbc41\"], [0.9, \"#4d9221\"], [1, \"#276419\"]], \"sequential\": [[0.0, \"#0d0887\"], [0.1111111111111111, \"#46039f\"], [0.2222222222222222, \"#7201a8\"], [0.3333333333333333, \"#9c179e\"], [0.4444444444444444, \"#bd3786\"], [0.5555555555555556, \"#d8576b\"], [0.6666666666666666, \"#ed7953\"], [0.7777777777777778, \"#fb9f3a\"], [0.8888888888888888, \"#fdca26\"], [1.0, \"#f0f921\"]], \"sequentialminus\": [[0.0, \"#0d0887\"], [0.1111111111111111, \"#46039f\"], [0.2222222222222222, \"#7201a8\"], [0.3333333333333333, \"#9c179e\"], [0.4444444444444444, \"#bd3786\"], [0.5555555555555556, \"#d8576b\"], [0.6666666666666666, \"#ed7953\"], [0.7777777777777778, \"#fb9f3a\"], [0.8888888888888888, \"#fdca26\"], [1.0, \"#f0f921\"]]}, \"colorway\": [\"#636efa\", \"#EF553B\", \"#00cc96\", \"#ab63fa\", \"#FFA15A\", \"#19d3f3\", \"#FF6692\", \"#B6E880\", \"#FF97FF\", \"#FECB52\"], \"font\": {\"color\": \"#2a3f5f\"}, \"geo\": {\"bgcolor\": \"white\", \"lakecolor\": \"white\", \"landcolor\": \"#E5ECF6\", \"showlakes\": true, \"showland\": true, \"subunitcolor\": \"white\"}, \"hoverlabel\": {\"align\": \"left\"}, \"hovermode\": \"closest\", \"mapbox\": {\"style\": \"light\"}, \"paper_bgcolor\": \"white\", \"plot_bgcolor\": \"#E5ECF6\", \"polar\": {\"angularaxis\": {\"gridcolor\": \"white\", \"linecolor\": \"white\", \"ticks\": \"\"}, \"bgcolor\": \"#E5ECF6\", \"radialaxis\": {\"gridcolor\": \"white\", \"linecolor\": \"white\", \"ticks\": \"\"}}, \"scene\": {\"xaxis\": {\"backgroundcolor\": \"#E5ECF6\", \"gridcolor\": \"white\", \"gridwidth\": 2, \"linecolor\": \"white\", \"showbackground\": true, \"ticks\": \"\", \"zerolinecolor\": \"white\"}, \"yaxis\": {\"backgroundcolor\": \"#E5ECF6\", \"gridcolor\": \"white\", \"gridwidth\": 2, \"linecolor\": \"white\", \"showbackground\": true, \"ticks\": \"\", \"zerolinecolor\": \"white\"}, \"zaxis\": {\"backgroundcolor\": \"#E5ECF6\", \"gridcolor\": \"white\", \"gridwidth\": 2, \"linecolor\": \"white\", \"showbackground\": true, \"ticks\": \"\", \"zerolinecolor\": \"white\"}}, \"shapedefaults\": {\"line\": {\"color\": \"#2a3f5f\"}}, \"ternary\": {\"aaxis\": {\"gridcolor\": \"white\", \"linecolor\": \"white\", \"ticks\": \"\"}, \"baxis\": {\"gridcolor\": \"white\", \"linecolor\": \"white\", \"ticks\": \"\"}, \"bgcolor\": \"#E5ECF6\", \"caxis\": {\"gridcolor\": \"white\", \"linecolor\": \"white\", \"ticks\": \"\"}}, \"title\": {\"x\": 0.05}, \"xaxis\": {\"automargin\": true, \"gridcolor\": \"white\", \"linecolor\": \"white\", \"ticks\": \"\", \"title\": {\"standoff\": 15}, \"zerolinecolor\": \"white\", \"zerolinewidth\": 2}, \"yaxis\": {\"automargin\": true, \"gridcolor\": \"white\", \"linecolor\": \"white\", \"ticks\": \"\", \"title\": {\"standoff\": 15}, \"zerolinecolor\": \"white\", \"zerolinewidth\": 2}}}, \"title\": {\"text\": \"Free Session Student Pressent\"}, \"xaxis\": {\"linecolor\": \"black\", \"linewidth\": 2, \"mirror\": true, \"showline\": true, \"showticklabels\": true, \"tickangle\": 45, \"tickfont\": {\"color\": \"red\", \"size\": 10}, \"title\": {\"text\": \"Department Name\"}, \"zeroline\": true, \"zerolinecolor\": \"grey\", \"zerolinewidth\": 1}, \"yaxis\": {\"gridcolor\": \"lightgrey\", \"linecolor\": \"black\", \"linewidth\": 2, \"mirror\": true, \"showline\": true, \"title\": {\"text\": \"Total Students\"}, \"zeroline\": true, \"zerolinecolor\": \"grey\", \"zerolinewidth\": 1}},                        {\"responsive\": true}                    ).then(function(){\n",
       "                            \n",
       "var gd = document.getElementById('b9e89dec-29a0-4394-9711-2f677f3c945c');\n",
       "var x = new MutationObserver(function (mutations, observer) {{\n",
       "        var display = window.getComputedStyle(gd).display;\n",
       "        if (!display || display === 'none') {{\n",
       "            console.log([gd, 'removed!']);\n",
       "            Plotly.purge(gd);\n",
       "            observer.disconnect();\n",
       "        }}\n",
       "}});\n",
       "\n",
       "// Listen for the removal of the full notebook cells\n",
       "var notebookContainer = gd.closest('#notebook-container');\n",
       "if (notebookContainer) {{\n",
       "    x.observe(notebookContainer, {childList: true});\n",
       "}}\n",
       "\n",
       "// Listen for the clearing of the current output cell\n",
       "var outputEl = gd.closest('.output');\n",
       "if (outputEl) {{\n",
       "    x.observe(outputEl, {childList: true});\n",
       "}}\n",
       "\n",
       "                        })                };                });            </script>        </div>"
      ]
     },
     "metadata": {},
     "output_type": "display_data"
    }
   ],
   "source": [
    "draw_trace_bar(departmenttop,'Department','dep_counts','Free Session Student Pressent', 'Department Name','Total Students',\"red\")"
   ]
  },
  {
   "cell_type": "markdown",
   "metadata": {},
   "source": [
    "Most of the students are from Honors(Bsc/Msc)-(337)\n",
    "then Engineering student(187)"
   ]
  },
  {
   "cell_type": "markdown",
   "metadata": {},
   "source": [
    "# How many people had laptop and how many hadn’t and visualize them and also show those who didn’t had laptop which university are they from and from which department and their country as well. (from free session dataset)"
   ]
  },
  {
   "cell_type": "code",
   "execution_count": 153,
   "metadata": {},
   "outputs": [
    {
     "data": {
      "text/html": [
       "<div>\n",
       "<style scoped>\n",
       "    .dataframe tbody tr th:only-of-type {\n",
       "        vertical-align: middle;\n",
       "    }\n",
       "\n",
       "    .dataframe tbody tr th {\n",
       "        vertical-align: top;\n",
       "    }\n",
       "\n",
       "    .dataframe thead th {\n",
       "        text-align: right;\n",
       "    }\n",
       "</style>\n",
       "<table border=\"1\" class=\"dataframe\">\n",
       "  <thead>\n",
       "    <tr style=\"text-align: right;\">\n",
       "      <th></th>\n",
       "      <th>Timestamp</th>\n",
       "      <th>Name</th>\n",
       "      <th>Contact</th>\n",
       "      <th>Email</th>\n",
       "      <th>College</th>\n",
       "      <th>Department</th>\n",
       "      <th>HasLaptop</th>\n",
       "      <th>Source</th>\n",
       "      <th>Country</th>\n",
       "    </tr>\n",
       "  </thead>\n",
       "  <tbody>\n",
       "    <tr>\n",
       "      <th>0</th>\n",
       "      <td>8/24/2020 17:01:39</td>\n",
       "      <td>A.S.M. Raquibul Hasan</td>\n",
       "      <td>01722577922</td>\n",
       "      <td>raquibul.nsu@gmail.com</td>\n",
       "      <td>United International University</td>\n",
       "      <td>others</td>\n",
       "      <td>Yes</td>\n",
       "      <td>Facebook</td>\n",
       "      <td>Bangladesh</td>\n",
       "    </tr>\n",
       "    <tr>\n",
       "      <th>1</th>\n",
       "      <td>8/24/2020 10:08:54</td>\n",
       "      <td>Abdullah</td>\n",
       "      <td>NaN</td>\n",
       "      <td>sharif3abdullah@gmail.com</td>\n",
       "      <td>IIT</td>\n",
       "      <td>Engineering</td>\n",
       "      <td>NaN</td>\n",
       "      <td>NaN</td>\n",
       "      <td>Bangladesh</td>\n",
       "    </tr>\n",
       "    <tr>\n",
       "      <th>2</th>\n",
       "      <td>8/24/2020 9:20:28</td>\n",
       "      <td>Abdullah Bin Murad</td>\n",
       "      <td>01552443554</td>\n",
       "      <td>abmrifat54@gmail.com</td>\n",
       "      <td>Shahjalal University of Science and Technology</td>\n",
       "      <td>Engineering</td>\n",
       "      <td>Yes</td>\n",
       "      <td>NaN</td>\n",
       "      <td>Bangladesh</td>\n",
       "    </tr>\n",
       "    <tr>\n",
       "      <th>3</th>\n",
       "      <td>7/28/2020 12:16:30</td>\n",
       "      <td>Abhijoy Mukherjee</td>\n",
       "      <td>7003206060</td>\n",
       "      <td>abhijoymukherjee01@gmail.com</td>\n",
       "      <td>Asutosh College</td>\n",
       "      <td>Statistics</td>\n",
       "      <td>Yes</td>\n",
       "      <td>Friend</td>\n",
       "      <td>India</td>\n",
       "    </tr>\n",
       "    <tr>\n",
       "      <th>4</th>\n",
       "      <td>7/10/2020 13:56:14</td>\n",
       "      <td>Abhipreeti Acharjee</td>\n",
       "      <td>8274839744</td>\n",
       "      <td>deepamandal007@gmail.com</td>\n",
       "      <td>DEPARTMENT OF PURE MATHEMATICS, UNIVERSITY OF ...</td>\n",
       "      <td>PURE MATHEMATICS</td>\n",
       "      <td>Yes</td>\n",
       "      <td>NaN</td>\n",
       "      <td>India</td>\n",
       "    </tr>\n",
       "    <tr>\n",
       "      <th>...</th>\n",
       "      <td>...</td>\n",
       "      <td>...</td>\n",
       "      <td>...</td>\n",
       "      <td>...</td>\n",
       "      <td>...</td>\n",
       "      <td>...</td>\n",
       "      <td>...</td>\n",
       "      <td>...</td>\n",
       "      <td>...</td>\n",
       "    </tr>\n",
       "    <tr>\n",
       "      <th>943</th>\n",
       "      <td>1/22/2021 22:06:24</td>\n",
       "      <td>Ramanish Banerjee</td>\n",
       "      <td>8017179702</td>\n",
       "      <td>banerjeeramanish@gmail.com</td>\n",
       "      <td>MAULANA AZAD COLLEGE</td>\n",
       "      <td>Honors (BSC/MSC)</td>\n",
       "      <td>Yes</td>\n",
       "      <td>NaN</td>\n",
       "      <td>NaN</td>\n",
       "    </tr>\n",
       "    <tr>\n",
       "      <th>944</th>\n",
       "      <td>1/22/2021 22:46:21</td>\n",
       "      <td>Jinia Banerjee</td>\n",
       "      <td>6289719175</td>\n",
       "      <td>jiniabanerjee9727@gmail.com</td>\n",
       "      <td>Maulona Azad College</td>\n",
       "      <td>Honors (BSC/MSC)</td>\n",
       "      <td>No</td>\n",
       "      <td>NaN</td>\n",
       "      <td>NaN</td>\n",
       "    </tr>\n",
       "    <tr>\n",
       "      <th>945</th>\n",
       "      <td>1/23/2021 10:57:08</td>\n",
       "      <td>Md Safiqul Islam</td>\n",
       "      <td>8250955315</td>\n",
       "      <td>safiqulislam6006@gmail.com</td>\n",
       "      <td>Maulana Azad College</td>\n",
       "      <td>Honors (BSC/MSC)</td>\n",
       "      <td>Yes</td>\n",
       "      <td>NaN</td>\n",
       "      <td>NaN</td>\n",
       "    </tr>\n",
       "    <tr>\n",
       "      <th>946</th>\n",
       "      <td>1/23/2021 12:27:32</td>\n",
       "      <td>Soumojit Chatterjee</td>\n",
       "      <td>8101726672</td>\n",
       "      <td>imsoumojit@yahoo.com</td>\n",
       "      <td>Maulana Azad College</td>\n",
       "      <td>Honors (BSC/MSC)</td>\n",
       "      <td>Yes</td>\n",
       "      <td>NaN</td>\n",
       "      <td>NaN</td>\n",
       "    </tr>\n",
       "    <tr>\n",
       "      <th>947</th>\n",
       "      <td>1/23/2021 17:37:35</td>\n",
       "      <td>Debanjan Bhattacharjee</td>\n",
       "      <td>6290909245</td>\n",
       "      <td>debanjanbhattacharjee2002@gmail.com</td>\n",
       "      <td>Maulana Azad College</td>\n",
       "      <td>Honors (BSC/MSC)</td>\n",
       "      <td>Yes</td>\n",
       "      <td>NaN</td>\n",
       "      <td>NaN</td>\n",
       "    </tr>\n",
       "  </tbody>\n",
       "</table>\n",
       "<p>947 rows × 9 columns</p>\n",
       "</div>"
      ],
      "text/plain": [
       "              Timestamp                    Name      Contact  \\\n",
       "0    8/24/2020 17:01:39  A.S.M. Raquibul Hasan   01722577922   \n",
       "1    8/24/2020 10:08:54                Abdullah          NaN   \n",
       "2     8/24/2020 9:20:28    Abdullah Bin Murad    01552443554   \n",
       "3    7/28/2020 12:16:30       Abhijoy Mukherjee   7003206060   \n",
       "4    7/10/2020 13:56:14     Abhipreeti Acharjee   8274839744   \n",
       "..                  ...                     ...          ...   \n",
       "943  1/22/2021 22:06:24       Ramanish Banerjee   8017179702   \n",
       "944  1/22/2021 22:46:21          Jinia Banerjee   6289719175   \n",
       "945  1/23/2021 10:57:08        Md Safiqul Islam   8250955315   \n",
       "946  1/23/2021 12:27:32     Soumojit Chatterjee   8101726672   \n",
       "947  1/23/2021 17:37:35  Debanjan Bhattacharjee   6290909245   \n",
       "\n",
       "                                   Email  \\\n",
       "0                 raquibul.nsu@gmail.com   \n",
       "1              sharif3abdullah@gmail.com   \n",
       "2                   abmrifat54@gmail.com   \n",
       "3           abhijoymukherjee01@gmail.com   \n",
       "4               deepamandal007@gmail.com   \n",
       "..                                   ...   \n",
       "943           banerjeeramanish@gmail.com   \n",
       "944          jiniabanerjee9727@gmail.com   \n",
       "945           safiqulislam6006@gmail.com   \n",
       "946                 imsoumojit@yahoo.com   \n",
       "947  debanjanbhattacharjee2002@gmail.com   \n",
       "\n",
       "                                               College        Department  \\\n",
       "0                     United International University             others   \n",
       "1                                                  IIT       Engineering   \n",
       "2       Shahjalal University of Science and Technology       Engineering   \n",
       "3                                      Asutosh College        Statistics   \n",
       "4    DEPARTMENT OF PURE MATHEMATICS, UNIVERSITY OF ...  PURE MATHEMATICS   \n",
       "..                                                 ...               ...   \n",
       "943                               MAULANA AZAD COLLEGE  Honors (BSC/MSC)   \n",
       "944                               Maulona Azad College  Honors (BSC/MSC)   \n",
       "945                               Maulana Azad College  Honors (BSC/MSC)   \n",
       "946                               Maulana Azad College  Honors (BSC/MSC)   \n",
       "947                               Maulana Azad College  Honors (BSC/MSC)   \n",
       "\n",
       "    HasLaptop     Source     Country  \n",
       "0         Yes  Facebook   Bangladesh  \n",
       "1         NaN        NaN  Bangladesh  \n",
       "2         Yes        NaN  Bangladesh  \n",
       "3         Yes     Friend       India  \n",
       "4         Yes        NaN       India  \n",
       "..        ...        ...         ...  \n",
       "943       Yes        NaN         NaN  \n",
       "944        No        NaN         NaN  \n",
       "945       Yes        NaN         NaN  \n",
       "946       Yes        NaN         NaN  \n",
       "947       Yes        NaN         NaN  \n",
       "\n",
       "[947 rows x 9 columns]"
      ]
     },
     "execution_count": 153,
     "metadata": {},
     "output_type": "execute_result"
    }
   ],
   "source": [
    "df3"
   ]
  },
  {
   "cell_type": "code",
   "execution_count": 155,
   "metadata": {},
   "outputs": [
    {
     "data": {
      "text/html": [
       "<div>\n",
       "<style scoped>\n",
       "    .dataframe tbody tr th:only-of-type {\n",
       "        vertical-align: middle;\n",
       "    }\n",
       "\n",
       "    .dataframe tbody tr th {\n",
       "        vertical-align: top;\n",
       "    }\n",
       "\n",
       "    .dataframe thead th {\n",
       "        text-align: right;\n",
       "    }\n",
       "</style>\n",
       "<table border=\"1\" class=\"dataframe\">\n",
       "  <thead>\n",
       "    <tr style=\"text-align: right;\">\n",
       "      <th></th>\n",
       "      <th>Timestamp</th>\n",
       "      <th>Name</th>\n",
       "      <th>Contact</th>\n",
       "      <th>Email</th>\n",
       "      <th>College</th>\n",
       "      <th>Department</th>\n",
       "      <th>HasLaptop</th>\n",
       "      <th>Source</th>\n",
       "      <th>Country</th>\n",
       "    </tr>\n",
       "  </thead>\n",
       "  <tbody>\n",
       "    <tr>\n",
       "      <th>1</th>\n",
       "      <td>8/24/2020 10:08:54</td>\n",
       "      <td>Abdullah</td>\n",
       "      <td>NaN</td>\n",
       "      <td>sharif3abdullah@gmail.com</td>\n",
       "      <td>IIT</td>\n",
       "      <td>Engineering</td>\n",
       "      <td>NaN</td>\n",
       "      <td>NaN</td>\n",
       "      <td>Bangladesh</td>\n",
       "    </tr>\n",
       "    <tr>\n",
       "      <th>94</th>\n",
       "      <td>7/27/2020 17:00:05</td>\n",
       "      <td>Debolina Mullick</td>\n",
       "      <td>8172031684</td>\n",
       "      <td>NaN</td>\n",
       "      <td>Ramsaday College</td>\n",
       "      <td>NaN</td>\n",
       "      <td>NaN</td>\n",
       "      <td>NaN</td>\n",
       "      <td>India</td>\n",
       "    </tr>\n",
       "    <tr>\n",
       "      <th>126</th>\n",
       "      <td>7/10/2020 22:32:52</td>\n",
       "      <td>Isha Ghosh</td>\n",
       "      <td>7003471206</td>\n",
       "      <td>soumyabratamahapatra67@gmail.com</td>\n",
       "      <td>Jadavpur University</td>\n",
       "      <td>NaN</td>\n",
       "      <td>NaN</td>\n",
       "      <td>NaN</td>\n",
       "      <td>India</td>\n",
       "    </tr>\n",
       "    <tr>\n",
       "      <th>379</th>\n",
       "      <td>8/21/2020 15:57:42</td>\n",
       "      <td>Soham Banerjee</td>\n",
       "      <td>7679129720</td>\n",
       "      <td>24sohamb@gmail.com</td>\n",
       "      <td>Zoom international</td>\n",
       "      <td>others</td>\n",
       "      <td>NaN</td>\n",
       "      <td>Krishnamita Banerjee</td>\n",
       "      <td>India</td>\n",
       "    </tr>\n",
       "    <tr>\n",
       "      <th>762</th>\n",
       "      <td>12/12/2020 12:32:23</td>\n",
       "      <td>Poushali Chaki</td>\n",
       "      <td>7557035420</td>\n",
       "      <td>poushali.chaki99@gmail.com</td>\n",
       "      <td>Lady Brabourne college</td>\n",
       "      <td>Honors (BSC/MSC)</td>\n",
       "      <td>NaN</td>\n",
       "      <td>NaN</td>\n",
       "      <td>NaN</td>\n",
       "    </tr>\n",
       "    <tr>\n",
       "      <th>821</th>\n",
       "      <td>12/12/2020 18:29:51</td>\n",
       "      <td>Vedanta Goswami</td>\n",
       "      <td>8910734345</td>\n",
       "      <td>vedantabuffon@gmail.com</td>\n",
       "      <td>Maulana Azad College</td>\n",
       "      <td>Honors (BSC/MSC)</td>\n",
       "      <td>NaN</td>\n",
       "      <td>NaN</td>\n",
       "      <td>NaN</td>\n",
       "    </tr>\n",
       "    <tr>\n",
       "      <th>932</th>\n",
       "      <td>1/22/2021 15:59:08</td>\n",
       "      <td>Sourav Basak</td>\n",
       "      <td>9073471906</td>\n",
       "      <td>basaksourav3011@gmail.com</td>\n",
       "      <td>Maulana Azad College</td>\n",
       "      <td>Honors (BSC/MSC)</td>\n",
       "      <td>NaN</td>\n",
       "      <td>NaN</td>\n",
       "      <td>NaN</td>\n",
       "    </tr>\n",
       "  </tbody>\n",
       "</table>\n",
       "</div>"
      ],
      "text/plain": [
       "               Timestamp              Name     Contact  \\\n",
       "1     8/24/2020 10:08:54          Abdullah         NaN   \n",
       "94    7/27/2020 17:00:05  Debolina Mullick  8172031684   \n",
       "126   7/10/2020 22:32:52        Isha Ghosh  7003471206   \n",
       "379   8/21/2020 15:57:42    Soham Banerjee  7679129720   \n",
       "762  12/12/2020 12:32:23    Poushali Chaki  7557035420   \n",
       "821  12/12/2020 18:29:51  Vedanta Goswami   8910734345   \n",
       "932   1/22/2021 15:59:08     Sourav Basak   9073471906   \n",
       "\n",
       "                                Email                 College  \\\n",
       "1           sharif3abdullah@gmail.com                     IIT   \n",
       "94                                NaN        Ramsaday College   \n",
       "126  soumyabratamahapatra67@gmail.com     Jadavpur University   \n",
       "379                24sohamb@gmail.com      Zoom international   \n",
       "762        poushali.chaki99@gmail.com  Lady Brabourne college   \n",
       "821           vedantabuffon@gmail.com   Maulana Azad College    \n",
       "932        basaksourav3011@gmail.com    Maulana Azad College    \n",
       "\n",
       "           Department HasLaptop                Source     Country  \n",
       "1         Engineering       NaN                   NaN  Bangladesh  \n",
       "94                NaN       NaN                   NaN       India  \n",
       "126               NaN       NaN                   NaN       India  \n",
       "379            others       NaN  Krishnamita Banerjee       India  \n",
       "762  Honors (BSC/MSC)       NaN                   NaN         NaN  \n",
       "821  Honors (BSC/MSC)       NaN                   NaN         NaN  \n",
       "932  Honors (BSC/MSC)       NaN                   NaN         NaN  "
      ]
     },
     "execution_count": 155,
     "metadata": {},
     "output_type": "execute_result"
    }
   ],
   "source": [
    "#haslaptop has some Nan Values so NaN values are not important as we will visulazie who has the laptop or not\n",
    "df3[df3['HasLaptop'].isnull()]"
   ]
  },
  {
   "cell_type": "code",
   "execution_count": 156,
   "metadata": {},
   "outputs": [
    {
     "data": {
      "text/html": [
       "<div>\n",
       "<style scoped>\n",
       "    .dataframe tbody tr th:only-of-type {\n",
       "        vertical-align: middle;\n",
       "    }\n",
       "\n",
       "    .dataframe tbody tr th {\n",
       "        vertical-align: top;\n",
       "    }\n",
       "\n",
       "    .dataframe thead th {\n",
       "        text-align: right;\n",
       "    }\n",
       "</style>\n",
       "<table border=\"1\" class=\"dataframe\">\n",
       "  <thead>\n",
       "    <tr style=\"text-align: right;\">\n",
       "      <th></th>\n",
       "      <th>Timestamp</th>\n",
       "      <th>Name</th>\n",
       "      <th>Contact</th>\n",
       "      <th>Email</th>\n",
       "      <th>College</th>\n",
       "      <th>Department</th>\n",
       "      <th>HasLaptop</th>\n",
       "      <th>Source</th>\n",
       "      <th>Country</th>\n",
       "    </tr>\n",
       "  </thead>\n",
       "  <tbody>\n",
       "    <tr>\n",
       "      <th>0</th>\n",
       "      <td>8/24/2020 17:01:39</td>\n",
       "      <td>A.S.M. Raquibul Hasan</td>\n",
       "      <td>01722577922</td>\n",
       "      <td>raquibul.nsu@gmail.com</td>\n",
       "      <td>United International University</td>\n",
       "      <td>others</td>\n",
       "      <td>Yes</td>\n",
       "      <td>Facebook</td>\n",
       "      <td>Bangladesh</td>\n",
       "    </tr>\n",
       "    <tr>\n",
       "      <th>2</th>\n",
       "      <td>8/24/2020 9:20:28</td>\n",
       "      <td>Abdullah Bin Murad</td>\n",
       "      <td>01552443554</td>\n",
       "      <td>abmrifat54@gmail.com</td>\n",
       "      <td>Shahjalal University of Science and Technology</td>\n",
       "      <td>Engineering</td>\n",
       "      <td>Yes</td>\n",
       "      <td>NaN</td>\n",
       "      <td>Bangladesh</td>\n",
       "    </tr>\n",
       "    <tr>\n",
       "      <th>3</th>\n",
       "      <td>7/28/2020 12:16:30</td>\n",
       "      <td>Abhijoy Mukherjee</td>\n",
       "      <td>7003206060</td>\n",
       "      <td>abhijoymukherjee01@gmail.com</td>\n",
       "      <td>Asutosh College</td>\n",
       "      <td>Statistics</td>\n",
       "      <td>Yes</td>\n",
       "      <td>Friend</td>\n",
       "      <td>India</td>\n",
       "    </tr>\n",
       "    <tr>\n",
       "      <th>4</th>\n",
       "      <td>7/10/2020 13:56:14</td>\n",
       "      <td>Abhipreeti Acharjee</td>\n",
       "      <td>8274839744</td>\n",
       "      <td>deepamandal007@gmail.com</td>\n",
       "      <td>DEPARTMENT OF PURE MATHEMATICS, UNIVERSITY OF ...</td>\n",
       "      <td>PURE MATHEMATICS</td>\n",
       "      <td>Yes</td>\n",
       "      <td>NaN</td>\n",
       "      <td>India</td>\n",
       "    </tr>\n",
       "    <tr>\n",
       "      <th>5</th>\n",
       "      <td>7/28/2020 13:14:59</td>\n",
       "      <td>Abhiraj Bhattacharya</td>\n",
       "      <td>6289897311</td>\n",
       "      <td>abhattacharyya2001@gmail.com</td>\n",
       "      <td>Vivekananda College</td>\n",
       "      <td>B.Sc statistics</td>\n",
       "      <td>Yes</td>\n",
       "      <td>Friend</td>\n",
       "      <td>India</td>\n",
       "    </tr>\n",
       "    <tr>\n",
       "      <th>...</th>\n",
       "      <td>...</td>\n",
       "      <td>...</td>\n",
       "      <td>...</td>\n",
       "      <td>...</td>\n",
       "      <td>...</td>\n",
       "      <td>...</td>\n",
       "      <td>...</td>\n",
       "      <td>...</td>\n",
       "      <td>...</td>\n",
       "    </tr>\n",
       "    <tr>\n",
       "      <th>943</th>\n",
       "      <td>1/22/2021 22:06:24</td>\n",
       "      <td>Ramanish Banerjee</td>\n",
       "      <td>8017179702</td>\n",
       "      <td>banerjeeramanish@gmail.com</td>\n",
       "      <td>MAULANA AZAD COLLEGE</td>\n",
       "      <td>Honors (BSC/MSC)</td>\n",
       "      <td>Yes</td>\n",
       "      <td>NaN</td>\n",
       "      <td>NaN</td>\n",
       "    </tr>\n",
       "    <tr>\n",
       "      <th>944</th>\n",
       "      <td>1/22/2021 22:46:21</td>\n",
       "      <td>Jinia Banerjee</td>\n",
       "      <td>6289719175</td>\n",
       "      <td>jiniabanerjee9727@gmail.com</td>\n",
       "      <td>Maulona Azad College</td>\n",
       "      <td>Honors (BSC/MSC)</td>\n",
       "      <td>No</td>\n",
       "      <td>NaN</td>\n",
       "      <td>NaN</td>\n",
       "    </tr>\n",
       "    <tr>\n",
       "      <th>945</th>\n",
       "      <td>1/23/2021 10:57:08</td>\n",
       "      <td>Md Safiqul Islam</td>\n",
       "      <td>8250955315</td>\n",
       "      <td>safiqulislam6006@gmail.com</td>\n",
       "      <td>Maulana Azad College</td>\n",
       "      <td>Honors (BSC/MSC)</td>\n",
       "      <td>Yes</td>\n",
       "      <td>NaN</td>\n",
       "      <td>NaN</td>\n",
       "    </tr>\n",
       "    <tr>\n",
       "      <th>946</th>\n",
       "      <td>1/23/2021 12:27:32</td>\n",
       "      <td>Soumojit Chatterjee</td>\n",
       "      <td>8101726672</td>\n",
       "      <td>imsoumojit@yahoo.com</td>\n",
       "      <td>Maulana Azad College</td>\n",
       "      <td>Honors (BSC/MSC)</td>\n",
       "      <td>Yes</td>\n",
       "      <td>NaN</td>\n",
       "      <td>NaN</td>\n",
       "    </tr>\n",
       "    <tr>\n",
       "      <th>947</th>\n",
       "      <td>1/23/2021 17:37:35</td>\n",
       "      <td>Debanjan Bhattacharjee</td>\n",
       "      <td>6290909245</td>\n",
       "      <td>debanjanbhattacharjee2002@gmail.com</td>\n",
       "      <td>Maulana Azad College</td>\n",
       "      <td>Honors (BSC/MSC)</td>\n",
       "      <td>Yes</td>\n",
       "      <td>NaN</td>\n",
       "      <td>NaN</td>\n",
       "    </tr>\n",
       "  </tbody>\n",
       "</table>\n",
       "<p>940 rows × 9 columns</p>\n",
       "</div>"
      ],
      "text/plain": [
       "              Timestamp                    Name      Contact  \\\n",
       "0    8/24/2020 17:01:39  A.S.M. Raquibul Hasan   01722577922   \n",
       "2     8/24/2020 9:20:28    Abdullah Bin Murad    01552443554   \n",
       "3    7/28/2020 12:16:30       Abhijoy Mukherjee   7003206060   \n",
       "4    7/10/2020 13:56:14     Abhipreeti Acharjee   8274839744   \n",
       "5    7/28/2020 13:14:59    Abhiraj Bhattacharya   6289897311   \n",
       "..                  ...                     ...          ...   \n",
       "943  1/22/2021 22:06:24       Ramanish Banerjee   8017179702   \n",
       "944  1/22/2021 22:46:21          Jinia Banerjee   6289719175   \n",
       "945  1/23/2021 10:57:08        Md Safiqul Islam   8250955315   \n",
       "946  1/23/2021 12:27:32     Soumojit Chatterjee   8101726672   \n",
       "947  1/23/2021 17:37:35  Debanjan Bhattacharjee   6290909245   \n",
       "\n",
       "                                   Email  \\\n",
       "0                 raquibul.nsu@gmail.com   \n",
       "2                   abmrifat54@gmail.com   \n",
       "3           abhijoymukherjee01@gmail.com   \n",
       "4               deepamandal007@gmail.com   \n",
       "5           abhattacharyya2001@gmail.com   \n",
       "..                                   ...   \n",
       "943           banerjeeramanish@gmail.com   \n",
       "944          jiniabanerjee9727@gmail.com   \n",
       "945           safiqulislam6006@gmail.com   \n",
       "946                 imsoumojit@yahoo.com   \n",
       "947  debanjanbhattacharjee2002@gmail.com   \n",
       "\n",
       "                                               College        Department  \\\n",
       "0                     United International University             others   \n",
       "2       Shahjalal University of Science and Technology       Engineering   \n",
       "3                                      Asutosh College        Statistics   \n",
       "4    DEPARTMENT OF PURE MATHEMATICS, UNIVERSITY OF ...  PURE MATHEMATICS   \n",
       "5                                  Vivekananda College   B.Sc statistics   \n",
       "..                                                 ...               ...   \n",
       "943                               MAULANA AZAD COLLEGE  Honors (BSC/MSC)   \n",
       "944                               Maulona Azad College  Honors (BSC/MSC)   \n",
       "945                               Maulana Azad College  Honors (BSC/MSC)   \n",
       "946                               Maulana Azad College  Honors (BSC/MSC)   \n",
       "947                               Maulana Azad College  Honors (BSC/MSC)   \n",
       "\n",
       "    HasLaptop     Source     Country  \n",
       "0         Yes  Facebook   Bangladesh  \n",
       "2         Yes        NaN  Bangladesh  \n",
       "3         Yes     Friend       India  \n",
       "4         Yes        NaN       India  \n",
       "5         Yes     Friend       India  \n",
       "..        ...        ...         ...  \n",
       "943       Yes        NaN         NaN  \n",
       "944        No        NaN         NaN  \n",
       "945       Yes        NaN         NaN  \n",
       "946       Yes        NaN         NaN  \n",
       "947       Yes        NaN         NaN  \n",
       "\n",
       "[940 rows x 9 columns]"
      ]
     },
     "execution_count": 156,
     "metadata": {},
     "output_type": "execute_result"
    }
   ],
   "source": [
    "#removing this specifc rows whose has Nan Values in HasLaptop columns\n",
    "df4 = df3.dropna(subset=['HasLaptop'])\n",
    "df4"
   ]
  },
  {
   "cell_type": "code",
   "execution_count": null,
   "metadata": {},
   "outputs": [],
   "source": [
    "# department data counting from all department\n",
    "# df5 = df4.groupby('HasLaptop')['HasLaptop'].agg('count').apply()\n",
    "# laptop= pd.DataFrame(df5)\n",
    "# laptop"
   ]
  },
  {
   "cell_type": "code",
   "execution_count": 167,
   "metadata": {},
   "outputs": [],
   "source": [
    "def HasLaptop(value):\n",
    "    \"\"\"\n",
    "    haslaptop columns value is yes the it will give return value 1\n",
    "    if no then it will give return value 0\n",
    "    \"\"\"\n",
    "    if value == \"Yes\" or value == \"yes\":\n",
    "        return 1\n",
    "    elif value == \"No\" or value == \"no\":\n",
    "        return 0\n",
    "    else:\n",
    "        return None"
   ]
  },
  {
   "cell_type": "code",
   "execution_count": 177,
   "metadata": {},
   "outputs": [
    {
     "data": {
      "text/html": [
       "<div>\n",
       "<style scoped>\n",
       "    .dataframe tbody tr th:only-of-type {\n",
       "        vertical-align: middle;\n",
       "    }\n",
       "\n",
       "    .dataframe tbody tr th {\n",
       "        vertical-align: top;\n",
       "    }\n",
       "\n",
       "    .dataframe thead th {\n",
       "        text-align: right;\n",
       "    }\n",
       "</style>\n",
       "<table border=\"1\" class=\"dataframe\">\n",
       "  <thead>\n",
       "    <tr style=\"text-align: right;\">\n",
       "      <th></th>\n",
       "      <th>Timestamp</th>\n",
       "      <th>Name</th>\n",
       "      <th>Contact</th>\n",
       "      <th>Email</th>\n",
       "      <th>College</th>\n",
       "      <th>Department</th>\n",
       "      <th>HasLaptop</th>\n",
       "      <th>Source</th>\n",
       "      <th>Country</th>\n",
       "      <th>laptopcount</th>\n",
       "    </tr>\n",
       "  </thead>\n",
       "  <tbody>\n",
       "    <tr>\n",
       "      <th>0</th>\n",
       "      <td>8/24/2020 17:01:39</td>\n",
       "      <td>A.S.M. Raquibul Hasan</td>\n",
       "      <td>01722577922</td>\n",
       "      <td>raquibul.nsu@gmail.com</td>\n",
       "      <td>United International University</td>\n",
       "      <td>others</td>\n",
       "      <td>Yes</td>\n",
       "      <td>Facebook</td>\n",
       "      <td>Bangladesh</td>\n",
       "      <td>1.0</td>\n",
       "    </tr>\n",
       "    <tr>\n",
       "      <th>2</th>\n",
       "      <td>8/24/2020 9:20:28</td>\n",
       "      <td>Abdullah Bin Murad</td>\n",
       "      <td>01552443554</td>\n",
       "      <td>abmrifat54@gmail.com</td>\n",
       "      <td>Shahjalal University of Science and Technology</td>\n",
       "      <td>Engineering</td>\n",
       "      <td>Yes</td>\n",
       "      <td>NaN</td>\n",
       "      <td>Bangladesh</td>\n",
       "      <td>1.0</td>\n",
       "    </tr>\n",
       "    <tr>\n",
       "      <th>3</th>\n",
       "      <td>7/28/2020 12:16:30</td>\n",
       "      <td>Abhijoy Mukherjee</td>\n",
       "      <td>7003206060</td>\n",
       "      <td>abhijoymukherjee01@gmail.com</td>\n",
       "      <td>Asutosh College</td>\n",
       "      <td>Statistics</td>\n",
       "      <td>Yes</td>\n",
       "      <td>Friend</td>\n",
       "      <td>India</td>\n",
       "      <td>1.0</td>\n",
       "    </tr>\n",
       "    <tr>\n",
       "      <th>4</th>\n",
       "      <td>7/10/2020 13:56:14</td>\n",
       "      <td>Abhipreeti Acharjee</td>\n",
       "      <td>8274839744</td>\n",
       "      <td>deepamandal007@gmail.com</td>\n",
       "      <td>DEPARTMENT OF PURE MATHEMATICS, UNIVERSITY OF ...</td>\n",
       "      <td>PURE MATHEMATICS</td>\n",
       "      <td>Yes</td>\n",
       "      <td>NaN</td>\n",
       "      <td>India</td>\n",
       "      <td>1.0</td>\n",
       "    </tr>\n",
       "    <tr>\n",
       "      <th>5</th>\n",
       "      <td>7/28/2020 13:14:59</td>\n",
       "      <td>Abhiraj Bhattacharya</td>\n",
       "      <td>6289897311</td>\n",
       "      <td>abhattacharyya2001@gmail.com</td>\n",
       "      <td>Vivekananda College</td>\n",
       "      <td>B.Sc statistics</td>\n",
       "      <td>Yes</td>\n",
       "      <td>Friend</td>\n",
       "      <td>India</td>\n",
       "      <td>1.0</td>\n",
       "    </tr>\n",
       "    <tr>\n",
       "      <th>...</th>\n",
       "      <td>...</td>\n",
       "      <td>...</td>\n",
       "      <td>...</td>\n",
       "      <td>...</td>\n",
       "      <td>...</td>\n",
       "      <td>...</td>\n",
       "      <td>...</td>\n",
       "      <td>...</td>\n",
       "      <td>...</td>\n",
       "      <td>...</td>\n",
       "    </tr>\n",
       "    <tr>\n",
       "      <th>943</th>\n",
       "      <td>1/22/2021 22:06:24</td>\n",
       "      <td>Ramanish Banerjee</td>\n",
       "      <td>8017179702</td>\n",
       "      <td>banerjeeramanish@gmail.com</td>\n",
       "      <td>MAULANA AZAD COLLEGE</td>\n",
       "      <td>Honors (BSC/MSC)</td>\n",
       "      <td>Yes</td>\n",
       "      <td>NaN</td>\n",
       "      <td>NaN</td>\n",
       "      <td>1.0</td>\n",
       "    </tr>\n",
       "    <tr>\n",
       "      <th>944</th>\n",
       "      <td>1/22/2021 22:46:21</td>\n",
       "      <td>Jinia Banerjee</td>\n",
       "      <td>6289719175</td>\n",
       "      <td>jiniabanerjee9727@gmail.com</td>\n",
       "      <td>Maulona Azad College</td>\n",
       "      <td>Honors (BSC/MSC)</td>\n",
       "      <td>No</td>\n",
       "      <td>NaN</td>\n",
       "      <td>NaN</td>\n",
       "      <td>0.0</td>\n",
       "    </tr>\n",
       "    <tr>\n",
       "      <th>945</th>\n",
       "      <td>1/23/2021 10:57:08</td>\n",
       "      <td>Md Safiqul Islam</td>\n",
       "      <td>8250955315</td>\n",
       "      <td>safiqulislam6006@gmail.com</td>\n",
       "      <td>Maulana Azad College</td>\n",
       "      <td>Honors (BSC/MSC)</td>\n",
       "      <td>Yes</td>\n",
       "      <td>NaN</td>\n",
       "      <td>NaN</td>\n",
       "      <td>1.0</td>\n",
       "    </tr>\n",
       "    <tr>\n",
       "      <th>946</th>\n",
       "      <td>1/23/2021 12:27:32</td>\n",
       "      <td>Soumojit Chatterjee</td>\n",
       "      <td>8101726672</td>\n",
       "      <td>imsoumojit@yahoo.com</td>\n",
       "      <td>Maulana Azad College</td>\n",
       "      <td>Honors (BSC/MSC)</td>\n",
       "      <td>Yes</td>\n",
       "      <td>NaN</td>\n",
       "      <td>NaN</td>\n",
       "      <td>1.0</td>\n",
       "    </tr>\n",
       "    <tr>\n",
       "      <th>947</th>\n",
       "      <td>1/23/2021 17:37:35</td>\n",
       "      <td>Debanjan Bhattacharjee</td>\n",
       "      <td>6290909245</td>\n",
       "      <td>debanjanbhattacharjee2002@gmail.com</td>\n",
       "      <td>Maulana Azad College</td>\n",
       "      <td>Honors (BSC/MSC)</td>\n",
       "      <td>Yes</td>\n",
       "      <td>NaN</td>\n",
       "      <td>NaN</td>\n",
       "      <td>1.0</td>\n",
       "    </tr>\n",
       "  </tbody>\n",
       "</table>\n",
       "<p>940 rows × 10 columns</p>\n",
       "</div>"
      ],
      "text/plain": [
       "              Timestamp                    Name      Contact  \\\n",
       "0    8/24/2020 17:01:39  A.S.M. Raquibul Hasan   01722577922   \n",
       "2     8/24/2020 9:20:28    Abdullah Bin Murad    01552443554   \n",
       "3    7/28/2020 12:16:30       Abhijoy Mukherjee   7003206060   \n",
       "4    7/10/2020 13:56:14     Abhipreeti Acharjee   8274839744   \n",
       "5    7/28/2020 13:14:59    Abhiraj Bhattacharya   6289897311   \n",
       "..                  ...                     ...          ...   \n",
       "943  1/22/2021 22:06:24       Ramanish Banerjee   8017179702   \n",
       "944  1/22/2021 22:46:21          Jinia Banerjee   6289719175   \n",
       "945  1/23/2021 10:57:08        Md Safiqul Islam   8250955315   \n",
       "946  1/23/2021 12:27:32     Soumojit Chatterjee   8101726672   \n",
       "947  1/23/2021 17:37:35  Debanjan Bhattacharjee   6290909245   \n",
       "\n",
       "                                   Email  \\\n",
       "0                 raquibul.nsu@gmail.com   \n",
       "2                   abmrifat54@gmail.com   \n",
       "3           abhijoymukherjee01@gmail.com   \n",
       "4               deepamandal007@gmail.com   \n",
       "5           abhattacharyya2001@gmail.com   \n",
       "..                                   ...   \n",
       "943           banerjeeramanish@gmail.com   \n",
       "944          jiniabanerjee9727@gmail.com   \n",
       "945           safiqulislam6006@gmail.com   \n",
       "946                 imsoumojit@yahoo.com   \n",
       "947  debanjanbhattacharjee2002@gmail.com   \n",
       "\n",
       "                                               College        Department  \\\n",
       "0                     United International University             others   \n",
       "2       Shahjalal University of Science and Technology       Engineering   \n",
       "3                                      Asutosh College        Statistics   \n",
       "4    DEPARTMENT OF PURE MATHEMATICS, UNIVERSITY OF ...  PURE MATHEMATICS   \n",
       "5                                  Vivekananda College   B.Sc statistics   \n",
       "..                                                 ...               ...   \n",
       "943                               MAULANA AZAD COLLEGE  Honors (BSC/MSC)   \n",
       "944                               Maulona Azad College  Honors (BSC/MSC)   \n",
       "945                               Maulana Azad College  Honors (BSC/MSC)   \n",
       "946                               Maulana Azad College  Honors (BSC/MSC)   \n",
       "947                               Maulana Azad College  Honors (BSC/MSC)   \n",
       "\n",
       "    HasLaptop     Source     Country  laptopcount  \n",
       "0         Yes  Facebook   Bangladesh          1.0  \n",
       "2         Yes        NaN  Bangladesh          1.0  \n",
       "3         Yes     Friend       India          1.0  \n",
       "4         Yes        NaN       India          1.0  \n",
       "5         Yes     Friend       India          1.0  \n",
       "..        ...        ...         ...          ...  \n",
       "943       Yes        NaN         NaN          1.0  \n",
       "944        No        NaN         NaN          0.0  \n",
       "945       Yes        NaN         NaN          1.0  \n",
       "946       Yes        NaN         NaN          1.0  \n",
       "947       Yes        NaN         NaN          1.0  \n",
       "\n",
       "[940 rows x 10 columns]"
      ]
     },
     "execution_count": 177,
     "metadata": {},
     "output_type": "execute_result"
    }
   ],
   "source": [
    "df4['laptopcount'] = df4.apply(lambda row : HasLaptop(row['HasLaptop']), axis = 1)\n",
    "df4"
   ]
  },
  {
   "cell_type": "code",
   "execution_count": 178,
   "metadata": {},
   "outputs": [
    {
     "data": {
      "text/html": [
       "<div>\n",
       "<style scoped>\n",
       "    .dataframe tbody tr th:only-of-type {\n",
       "        vertical-align: middle;\n",
       "    }\n",
       "\n",
       "    .dataframe tbody tr th {\n",
       "        vertical-align: top;\n",
       "    }\n",
       "\n",
       "    .dataframe thead th {\n",
       "        text-align: right;\n",
       "    }\n",
       "</style>\n",
       "<table border=\"1\" class=\"dataframe\">\n",
       "  <thead>\n",
       "    <tr style=\"text-align: right;\">\n",
       "      <th></th>\n",
       "      <th>laptopcount</th>\n",
       "    </tr>\n",
       "    <tr>\n",
       "      <th>HasLaptop</th>\n",
       "      <th></th>\n",
       "    </tr>\n",
       "  </thead>\n",
       "  <tbody>\n",
       "    <tr>\n",
       "      <th>Having own laptop/system</th>\n",
       "      <td>0</td>\n",
       "    </tr>\n",
       "    <tr>\n",
       "      <th>No</th>\n",
       "      <td>205</td>\n",
       "    </tr>\n",
       "    <tr>\n",
       "      <th>Yes</th>\n",
       "      <td>734</td>\n",
       "    </tr>\n",
       "  </tbody>\n",
       "</table>\n",
       "</div>"
      ],
      "text/plain": [
       "                           laptopcount\n",
       "HasLaptop                             \n",
       "Having own laptop/system             0\n",
       "No                                 205\n",
       "Yes                                734"
      ]
     },
     "execution_count": 178,
     "metadata": {},
     "output_type": "execute_result"
    }
   ],
   "source": [
    "#student haslaptop also did the total counts \n",
    "df5 = df4.groupby('HasLaptop')['laptopcount'].agg('count')\n",
    "laptop= pd.DataFrame(df5)\n",
    "laptop"
   ]
  },
  {
   "cell_type": "code",
   "execution_count": 179,
   "metadata": {},
   "outputs": [
    {
     "data": {
      "text/html": [
       "<div>\n",
       "<style scoped>\n",
       "    .dataframe tbody tr th:only-of-type {\n",
       "        vertical-align: middle;\n",
       "    }\n",
       "\n",
       "    .dataframe tbody tr th {\n",
       "        vertical-align: top;\n",
       "    }\n",
       "\n",
       "    .dataframe thead th {\n",
       "        text-align: right;\n",
       "    }\n",
       "</style>\n",
       "<table border=\"1\" class=\"dataframe\">\n",
       "  <thead>\n",
       "    <tr style=\"text-align: right;\">\n",
       "      <th></th>\n",
       "      <th>HasLaptop</th>\n",
       "      <th>laptopcount</th>\n",
       "    </tr>\n",
       "  </thead>\n",
       "  <tbody>\n",
       "    <tr>\n",
       "      <th>0</th>\n",
       "      <td>Having own laptop/system</td>\n",
       "      <td>0</td>\n",
       "    </tr>\n",
       "    <tr>\n",
       "      <th>1</th>\n",
       "      <td>No</td>\n",
       "      <td>205</td>\n",
       "    </tr>\n",
       "    <tr>\n",
       "      <th>2</th>\n",
       "      <td>Yes</td>\n",
       "      <td>734</td>\n",
       "    </tr>\n",
       "  </tbody>\n",
       "</table>\n",
       "</div>"
      ],
      "text/plain": [
       "                   HasLaptop  laptopcount\n",
       "0  Having own laptop/system             0\n",
       "1                         No          205\n",
       "2                        Yes          734"
      ]
     },
     "execution_count": 179,
     "metadata": {},
     "output_type": "execute_result"
    }
   ],
   "source": [
    "#reset the index for getting better result\n",
    "laptop.reset_index(inplace=True)\n",
    "laptop"
   ]
  },
  {
   "cell_type": "code",
   "execution_count": 190,
   "metadata": {},
   "outputs": [
    {
     "data": {
      "text/html": [
       "<div>\n",
       "<style scoped>\n",
       "    .dataframe tbody tr th:only-of-type {\n",
       "        vertical-align: middle;\n",
       "    }\n",
       "\n",
       "    .dataframe tbody tr th {\n",
       "        vertical-align: top;\n",
       "    }\n",
       "\n",
       "    .dataframe thead th {\n",
       "        text-align: right;\n",
       "    }\n",
       "</style>\n",
       "<table border=\"1\" class=\"dataframe\">\n",
       "  <thead>\n",
       "    <tr style=\"text-align: right;\">\n",
       "      <th></th>\n",
       "      <th>HasLaptop</th>\n",
       "      <th>laptopcount</th>\n",
       "    </tr>\n",
       "  </thead>\n",
       "  <tbody>\n",
       "    <tr>\n",
       "      <th>0</th>\n",
       "      <td>Having own laptop/system</td>\n",
       "      <td>0</td>\n",
       "    </tr>\n",
       "  </tbody>\n",
       "</table>\n",
       "</div>"
      ],
      "text/plain": [
       "                   HasLaptop  laptopcount\n",
       "0  Having own laptop/system             0"
      ]
     },
     "execution_count": 190,
     "metadata": {},
     "output_type": "execute_result"
    }
   ],
   "source": [
    "#checking the rows\n",
    "laptop.iloc[[0]]"
   ]
  },
  {
   "cell_type": "code",
   "execution_count": 197,
   "metadata": {},
   "outputs": [
    {
     "data": {
      "text/html": [
       "<div>\n",
       "<style scoped>\n",
       "    .dataframe tbody tr th:only-of-type {\n",
       "        vertical-align: middle;\n",
       "    }\n",
       "\n",
       "    .dataframe tbody tr th {\n",
       "        vertical-align: top;\n",
       "    }\n",
       "\n",
       "    .dataframe thead th {\n",
       "        text-align: right;\n",
       "    }\n",
       "</style>\n",
       "<table border=\"1\" class=\"dataframe\">\n",
       "  <thead>\n",
       "    <tr style=\"text-align: right;\">\n",
       "      <th></th>\n",
       "      <th>HasLaptop</th>\n",
       "      <th>laptopcount</th>\n",
       "    </tr>\n",
       "  </thead>\n",
       "  <tbody>\n",
       "    <tr>\n",
       "      <th>1</th>\n",
       "      <td>No</td>\n",
       "      <td>205</td>\n",
       "    </tr>\n",
       "    <tr>\n",
       "      <th>2</th>\n",
       "      <td>Yes</td>\n",
       "      <td>734</td>\n",
       "    </tr>\n",
       "  </tbody>\n",
       "</table>\n",
       "</div>"
      ],
      "text/plain": [
       "  HasLaptop  laptopcount\n",
       "1        No          205\n",
       "2       Yes          734"
      ]
     },
     "execution_count": 197,
     "metadata": {},
     "output_type": "execute_result"
    }
   ],
   "source": [
    "#removing the rows\n",
    "laptop1 = laptop.drop(laptop.index[[0]])\n",
    "laptop1"
   ]
  },
  {
   "cell_type": "code",
   "execution_count": 200,
   "metadata": {},
   "outputs": [
    {
     "data": {
      "application/vnd.plotly.v1+json": {
       "config": {
        "linkText": "Export to plot.ly",
        "plotlyServerURL": "https://plot.ly",
        "showLink": false
       },
       "data": [
        {
         "marker": {
          "color": "Blue"
         },
         "text": [
          "Yes",
          "No"
         ],
         "type": "bar",
         "x": [
          "Yes",
          "No"
         ],
         "y": [
          734,
          205
         ]
        }
       ],
       "layout": {
        "hovermode": "closest",
        "paper_bgcolor": "rgba(0, 0, 0, 0)",
        "plot_bgcolor": "rgba(0, 0, 0, 0)",
        "template": {
         "data": {
          "bar": [
           {
            "error_x": {
             "color": "#2a3f5f"
            },
            "error_y": {
             "color": "#2a3f5f"
            },
            "marker": {
             "line": {
              "color": "#E5ECF6",
              "width": 0.5
             }
            },
            "type": "bar"
           }
          ],
          "barpolar": [
           {
            "marker": {
             "line": {
              "color": "#E5ECF6",
              "width": 0.5
             }
            },
            "type": "barpolar"
           }
          ],
          "carpet": [
           {
            "aaxis": {
             "endlinecolor": "#2a3f5f",
             "gridcolor": "white",
             "linecolor": "white",
             "minorgridcolor": "white",
             "startlinecolor": "#2a3f5f"
            },
            "baxis": {
             "endlinecolor": "#2a3f5f",
             "gridcolor": "white",
             "linecolor": "white",
             "minorgridcolor": "white",
             "startlinecolor": "#2a3f5f"
            },
            "type": "carpet"
           }
          ],
          "choropleth": [
           {
            "colorbar": {
             "outlinewidth": 0,
             "ticks": ""
            },
            "type": "choropleth"
           }
          ],
          "contour": [
           {
            "colorbar": {
             "outlinewidth": 0,
             "ticks": ""
            },
            "colorscale": [
             [
              0,
              "#0d0887"
             ],
             [
              0.1111111111111111,
              "#46039f"
             ],
             [
              0.2222222222222222,
              "#7201a8"
             ],
             [
              0.3333333333333333,
              "#9c179e"
             ],
             [
              0.4444444444444444,
              "#bd3786"
             ],
             [
              0.5555555555555556,
              "#d8576b"
             ],
             [
              0.6666666666666666,
              "#ed7953"
             ],
             [
              0.7777777777777778,
              "#fb9f3a"
             ],
             [
              0.8888888888888888,
              "#fdca26"
             ],
             [
              1,
              "#f0f921"
             ]
            ],
            "type": "contour"
           }
          ],
          "contourcarpet": [
           {
            "colorbar": {
             "outlinewidth": 0,
             "ticks": ""
            },
            "type": "contourcarpet"
           }
          ],
          "heatmap": [
           {
            "colorbar": {
             "outlinewidth": 0,
             "ticks": ""
            },
            "colorscale": [
             [
              0,
              "#0d0887"
             ],
             [
              0.1111111111111111,
              "#46039f"
             ],
             [
              0.2222222222222222,
              "#7201a8"
             ],
             [
              0.3333333333333333,
              "#9c179e"
             ],
             [
              0.4444444444444444,
              "#bd3786"
             ],
             [
              0.5555555555555556,
              "#d8576b"
             ],
             [
              0.6666666666666666,
              "#ed7953"
             ],
             [
              0.7777777777777778,
              "#fb9f3a"
             ],
             [
              0.8888888888888888,
              "#fdca26"
             ],
             [
              1,
              "#f0f921"
             ]
            ],
            "type": "heatmap"
           }
          ],
          "heatmapgl": [
           {
            "colorbar": {
             "outlinewidth": 0,
             "ticks": ""
            },
            "colorscale": [
             [
              0,
              "#0d0887"
             ],
             [
              0.1111111111111111,
              "#46039f"
             ],
             [
              0.2222222222222222,
              "#7201a8"
             ],
             [
              0.3333333333333333,
              "#9c179e"
             ],
             [
              0.4444444444444444,
              "#bd3786"
             ],
             [
              0.5555555555555556,
              "#d8576b"
             ],
             [
              0.6666666666666666,
              "#ed7953"
             ],
             [
              0.7777777777777778,
              "#fb9f3a"
             ],
             [
              0.8888888888888888,
              "#fdca26"
             ],
             [
              1,
              "#f0f921"
             ]
            ],
            "type": "heatmapgl"
           }
          ],
          "histogram": [
           {
            "marker": {
             "colorbar": {
              "outlinewidth": 0,
              "ticks": ""
             }
            },
            "type": "histogram"
           }
          ],
          "histogram2d": [
           {
            "colorbar": {
             "outlinewidth": 0,
             "ticks": ""
            },
            "colorscale": [
             [
              0,
              "#0d0887"
             ],
             [
              0.1111111111111111,
              "#46039f"
             ],
             [
              0.2222222222222222,
              "#7201a8"
             ],
             [
              0.3333333333333333,
              "#9c179e"
             ],
             [
              0.4444444444444444,
              "#bd3786"
             ],
             [
              0.5555555555555556,
              "#d8576b"
             ],
             [
              0.6666666666666666,
              "#ed7953"
             ],
             [
              0.7777777777777778,
              "#fb9f3a"
             ],
             [
              0.8888888888888888,
              "#fdca26"
             ],
             [
              1,
              "#f0f921"
             ]
            ],
            "type": "histogram2d"
           }
          ],
          "histogram2dcontour": [
           {
            "colorbar": {
             "outlinewidth": 0,
             "ticks": ""
            },
            "colorscale": [
             [
              0,
              "#0d0887"
             ],
             [
              0.1111111111111111,
              "#46039f"
             ],
             [
              0.2222222222222222,
              "#7201a8"
             ],
             [
              0.3333333333333333,
              "#9c179e"
             ],
             [
              0.4444444444444444,
              "#bd3786"
             ],
             [
              0.5555555555555556,
              "#d8576b"
             ],
             [
              0.6666666666666666,
              "#ed7953"
             ],
             [
              0.7777777777777778,
              "#fb9f3a"
             ],
             [
              0.8888888888888888,
              "#fdca26"
             ],
             [
              1,
              "#f0f921"
             ]
            ],
            "type": "histogram2dcontour"
           }
          ],
          "mesh3d": [
           {
            "colorbar": {
             "outlinewidth": 0,
             "ticks": ""
            },
            "type": "mesh3d"
           }
          ],
          "parcoords": [
           {
            "line": {
             "colorbar": {
              "outlinewidth": 0,
              "ticks": ""
             }
            },
            "type": "parcoords"
           }
          ],
          "pie": [
           {
            "automargin": true,
            "type": "pie"
           }
          ],
          "scatter": [
           {
            "marker": {
             "colorbar": {
              "outlinewidth": 0,
              "ticks": ""
             }
            },
            "type": "scatter"
           }
          ],
          "scatter3d": [
           {
            "line": {
             "colorbar": {
              "outlinewidth": 0,
              "ticks": ""
             }
            },
            "marker": {
             "colorbar": {
              "outlinewidth": 0,
              "ticks": ""
             }
            },
            "type": "scatter3d"
           }
          ],
          "scattercarpet": [
           {
            "marker": {
             "colorbar": {
              "outlinewidth": 0,
              "ticks": ""
             }
            },
            "type": "scattercarpet"
           }
          ],
          "scattergeo": [
           {
            "marker": {
             "colorbar": {
              "outlinewidth": 0,
              "ticks": ""
             }
            },
            "type": "scattergeo"
           }
          ],
          "scattergl": [
           {
            "marker": {
             "colorbar": {
              "outlinewidth": 0,
              "ticks": ""
             }
            },
            "type": "scattergl"
           }
          ],
          "scattermapbox": [
           {
            "marker": {
             "colorbar": {
              "outlinewidth": 0,
              "ticks": ""
             }
            },
            "type": "scattermapbox"
           }
          ],
          "scatterpolar": [
           {
            "marker": {
             "colorbar": {
              "outlinewidth": 0,
              "ticks": ""
             }
            },
            "type": "scatterpolar"
           }
          ],
          "scatterpolargl": [
           {
            "marker": {
             "colorbar": {
              "outlinewidth": 0,
              "ticks": ""
             }
            },
            "type": "scatterpolargl"
           }
          ],
          "scatterternary": [
           {
            "marker": {
             "colorbar": {
              "outlinewidth": 0,
              "ticks": ""
             }
            },
            "type": "scatterternary"
           }
          ],
          "surface": [
           {
            "colorbar": {
             "outlinewidth": 0,
             "ticks": ""
            },
            "colorscale": [
             [
              0,
              "#0d0887"
             ],
             [
              0.1111111111111111,
              "#46039f"
             ],
             [
              0.2222222222222222,
              "#7201a8"
             ],
             [
              0.3333333333333333,
              "#9c179e"
             ],
             [
              0.4444444444444444,
              "#bd3786"
             ],
             [
              0.5555555555555556,
              "#d8576b"
             ],
             [
              0.6666666666666666,
              "#ed7953"
             ],
             [
              0.7777777777777778,
              "#fb9f3a"
             ],
             [
              0.8888888888888888,
              "#fdca26"
             ],
             [
              1,
              "#f0f921"
             ]
            ],
            "type": "surface"
           }
          ],
          "table": [
           {
            "cells": {
             "fill": {
              "color": "#EBF0F8"
             },
             "line": {
              "color": "white"
             }
            },
            "header": {
             "fill": {
              "color": "#C8D4E3"
             },
             "line": {
              "color": "white"
             }
            },
            "type": "table"
           }
          ]
         },
         "layout": {
          "annotationdefaults": {
           "arrowcolor": "#2a3f5f",
           "arrowhead": 0,
           "arrowwidth": 1
          },
          "autotypenumbers": "strict",
          "coloraxis": {
           "colorbar": {
            "outlinewidth": 0,
            "ticks": ""
           }
          },
          "colorscale": {
           "diverging": [
            [
             0,
             "#8e0152"
            ],
            [
             0.1,
             "#c51b7d"
            ],
            [
             0.2,
             "#de77ae"
            ],
            [
             0.3,
             "#f1b6da"
            ],
            [
             0.4,
             "#fde0ef"
            ],
            [
             0.5,
             "#f7f7f7"
            ],
            [
             0.6,
             "#e6f5d0"
            ],
            [
             0.7,
             "#b8e186"
            ],
            [
             0.8,
             "#7fbc41"
            ],
            [
             0.9,
             "#4d9221"
            ],
            [
             1,
             "#276419"
            ]
           ],
           "sequential": [
            [
             0,
             "#0d0887"
            ],
            [
             0.1111111111111111,
             "#46039f"
            ],
            [
             0.2222222222222222,
             "#7201a8"
            ],
            [
             0.3333333333333333,
             "#9c179e"
            ],
            [
             0.4444444444444444,
             "#bd3786"
            ],
            [
             0.5555555555555556,
             "#d8576b"
            ],
            [
             0.6666666666666666,
             "#ed7953"
            ],
            [
             0.7777777777777778,
             "#fb9f3a"
            ],
            [
             0.8888888888888888,
             "#fdca26"
            ],
            [
             1,
             "#f0f921"
            ]
           ],
           "sequentialminus": [
            [
             0,
             "#0d0887"
            ],
            [
             0.1111111111111111,
             "#46039f"
            ],
            [
             0.2222222222222222,
             "#7201a8"
            ],
            [
             0.3333333333333333,
             "#9c179e"
            ],
            [
             0.4444444444444444,
             "#bd3786"
            ],
            [
             0.5555555555555556,
             "#d8576b"
            ],
            [
             0.6666666666666666,
             "#ed7953"
            ],
            [
             0.7777777777777778,
             "#fb9f3a"
            ],
            [
             0.8888888888888888,
             "#fdca26"
            ],
            [
             1,
             "#f0f921"
            ]
           ]
          },
          "colorway": [
           "#636efa",
           "#EF553B",
           "#00cc96",
           "#ab63fa",
           "#FFA15A",
           "#19d3f3",
           "#FF6692",
           "#B6E880",
           "#FF97FF",
           "#FECB52"
          ],
          "font": {
           "color": "#2a3f5f"
          },
          "geo": {
           "bgcolor": "white",
           "lakecolor": "white",
           "landcolor": "#E5ECF6",
           "showlakes": true,
           "showland": true,
           "subunitcolor": "white"
          },
          "hoverlabel": {
           "align": "left"
          },
          "hovermode": "closest",
          "mapbox": {
           "style": "light"
          },
          "paper_bgcolor": "white",
          "plot_bgcolor": "#E5ECF6",
          "polar": {
           "angularaxis": {
            "gridcolor": "white",
            "linecolor": "white",
            "ticks": ""
           },
           "bgcolor": "#E5ECF6",
           "radialaxis": {
            "gridcolor": "white",
            "linecolor": "white",
            "ticks": ""
           }
          },
          "scene": {
           "xaxis": {
            "backgroundcolor": "#E5ECF6",
            "gridcolor": "white",
            "gridwidth": 2,
            "linecolor": "white",
            "showbackground": true,
            "ticks": "",
            "zerolinecolor": "white"
           },
           "yaxis": {
            "backgroundcolor": "#E5ECF6",
            "gridcolor": "white",
            "gridwidth": 2,
            "linecolor": "white",
            "showbackground": true,
            "ticks": "",
            "zerolinecolor": "white"
           },
           "zaxis": {
            "backgroundcolor": "#E5ECF6",
            "gridcolor": "white",
            "gridwidth": 2,
            "linecolor": "white",
            "showbackground": true,
            "ticks": "",
            "zerolinecolor": "white"
           }
          },
          "shapedefaults": {
           "line": {
            "color": "#2a3f5f"
           }
          },
          "ternary": {
           "aaxis": {
            "gridcolor": "white",
            "linecolor": "white",
            "ticks": ""
           },
           "baxis": {
            "gridcolor": "white",
            "linecolor": "white",
            "ticks": ""
           },
           "bgcolor": "#E5ECF6",
           "caxis": {
            "gridcolor": "white",
            "linecolor": "white",
            "ticks": ""
           }
          },
          "title": {
           "x": 0.05
          },
          "xaxis": {
           "automargin": true,
           "gridcolor": "white",
           "linecolor": "white",
           "ticks": "",
           "title": {
            "standoff": 15
           },
           "zerolinecolor": "white",
           "zerolinewidth": 2
          },
          "yaxis": {
           "automargin": true,
           "gridcolor": "white",
           "linecolor": "white",
           "ticks": "",
           "title": {
            "standoff": 15
           },
           "zerolinecolor": "white",
           "zerolinewidth": 2
          }
         }
        },
        "title": {
         "text": "Free Session Student Has Laptop or Not"
        },
        "xaxis": {
         "linecolor": "black",
         "linewidth": 2,
         "mirror": true,
         "showline": true,
         "showticklabels": true,
         "tickangle": 45,
         "tickfont": {
          "color": "red",
          "size": 10
         },
         "title": {
          "text": "Students Opinion"
         },
         "zeroline": true,
         "zerolinecolor": "grey",
         "zerolinewidth": 1
        },
        "yaxis": {
         "gridcolor": "lightgrey",
         "linecolor": "black",
         "linewidth": 2,
         "mirror": true,
         "showline": true,
         "title": {
          "text": "Total Students"
         },
         "zeroline": true,
         "zerolinecolor": "grey",
         "zerolinewidth": 1
        }
       }
      },
      "text/html": [
       "<div>                            <div id=\"750583c1-80ad-4cea-8ffc-c2ba9e6bf540\" class=\"plotly-graph-div\" style=\"height:525px; width:100%;\"></div>            <script type=\"text/javascript\">                require([\"plotly\"], function(Plotly) {                    window.PLOTLYENV=window.PLOTLYENV || {};                                    if (document.getElementById(\"750583c1-80ad-4cea-8ffc-c2ba9e6bf540\")) {                    Plotly.newPlot(                        \"750583c1-80ad-4cea-8ffc-c2ba9e6bf540\",                        [{\"marker\": {\"color\": \"Blue\"}, \"text\": [\"Yes\", \"No\"], \"type\": \"bar\", \"x\": [\"Yes\", \"No\"], \"y\": [734, 205]}],                        {\"hovermode\": \"closest\", \"paper_bgcolor\": \"rgba(0, 0, 0, 0)\", \"plot_bgcolor\": \"rgba(0, 0, 0, 0)\", \"template\": {\"data\": {\"bar\": [{\"error_x\": {\"color\": \"#2a3f5f\"}, \"error_y\": {\"color\": \"#2a3f5f\"}, \"marker\": {\"line\": {\"color\": \"#E5ECF6\", \"width\": 0.5}}, \"type\": \"bar\"}], \"barpolar\": [{\"marker\": {\"line\": {\"color\": \"#E5ECF6\", \"width\": 0.5}}, \"type\": \"barpolar\"}], \"carpet\": [{\"aaxis\": {\"endlinecolor\": \"#2a3f5f\", \"gridcolor\": \"white\", \"linecolor\": \"white\", \"minorgridcolor\": \"white\", \"startlinecolor\": \"#2a3f5f\"}, \"baxis\": {\"endlinecolor\": \"#2a3f5f\", \"gridcolor\": \"white\", \"linecolor\": \"white\", \"minorgridcolor\": \"white\", \"startlinecolor\": \"#2a3f5f\"}, \"type\": \"carpet\"}], \"choropleth\": [{\"colorbar\": {\"outlinewidth\": 0, \"ticks\": \"\"}, \"type\": \"choropleth\"}], \"contour\": [{\"colorbar\": {\"outlinewidth\": 0, \"ticks\": \"\"}, \"colorscale\": [[0.0, \"#0d0887\"], [0.1111111111111111, \"#46039f\"], [0.2222222222222222, \"#7201a8\"], [0.3333333333333333, \"#9c179e\"], [0.4444444444444444, \"#bd3786\"], [0.5555555555555556, \"#d8576b\"], [0.6666666666666666, \"#ed7953\"], [0.7777777777777778, \"#fb9f3a\"], [0.8888888888888888, \"#fdca26\"], [1.0, \"#f0f921\"]], \"type\": \"contour\"}], \"contourcarpet\": [{\"colorbar\": {\"outlinewidth\": 0, \"ticks\": \"\"}, \"type\": \"contourcarpet\"}], \"heatmap\": [{\"colorbar\": {\"outlinewidth\": 0, \"ticks\": \"\"}, \"colorscale\": [[0.0, \"#0d0887\"], [0.1111111111111111, \"#46039f\"], [0.2222222222222222, \"#7201a8\"], [0.3333333333333333, \"#9c179e\"], [0.4444444444444444, \"#bd3786\"], [0.5555555555555556, \"#d8576b\"], [0.6666666666666666, \"#ed7953\"], [0.7777777777777778, \"#fb9f3a\"], [0.8888888888888888, \"#fdca26\"], [1.0, \"#f0f921\"]], \"type\": \"heatmap\"}], \"heatmapgl\": [{\"colorbar\": {\"outlinewidth\": 0, \"ticks\": \"\"}, \"colorscale\": [[0.0, \"#0d0887\"], [0.1111111111111111, \"#46039f\"], [0.2222222222222222, \"#7201a8\"], [0.3333333333333333, \"#9c179e\"], [0.4444444444444444, \"#bd3786\"], [0.5555555555555556, \"#d8576b\"], [0.6666666666666666, \"#ed7953\"], [0.7777777777777778, \"#fb9f3a\"], [0.8888888888888888, \"#fdca26\"], [1.0, \"#f0f921\"]], \"type\": \"heatmapgl\"}], \"histogram\": [{\"marker\": {\"colorbar\": {\"outlinewidth\": 0, \"ticks\": \"\"}}, \"type\": \"histogram\"}], \"histogram2d\": [{\"colorbar\": {\"outlinewidth\": 0, \"ticks\": \"\"}, \"colorscale\": [[0.0, \"#0d0887\"], [0.1111111111111111, \"#46039f\"], [0.2222222222222222, \"#7201a8\"], [0.3333333333333333, \"#9c179e\"], [0.4444444444444444, \"#bd3786\"], [0.5555555555555556, \"#d8576b\"], [0.6666666666666666, \"#ed7953\"], [0.7777777777777778, \"#fb9f3a\"], [0.8888888888888888, \"#fdca26\"], [1.0, \"#f0f921\"]], \"type\": \"histogram2d\"}], \"histogram2dcontour\": [{\"colorbar\": {\"outlinewidth\": 0, \"ticks\": \"\"}, \"colorscale\": [[0.0, \"#0d0887\"], [0.1111111111111111, \"#46039f\"], [0.2222222222222222, \"#7201a8\"], [0.3333333333333333, \"#9c179e\"], [0.4444444444444444, \"#bd3786\"], [0.5555555555555556, \"#d8576b\"], [0.6666666666666666, \"#ed7953\"], [0.7777777777777778, \"#fb9f3a\"], [0.8888888888888888, \"#fdca26\"], [1.0, \"#f0f921\"]], \"type\": \"histogram2dcontour\"}], \"mesh3d\": [{\"colorbar\": {\"outlinewidth\": 0, \"ticks\": \"\"}, \"type\": \"mesh3d\"}], \"parcoords\": [{\"line\": {\"colorbar\": {\"outlinewidth\": 0, \"ticks\": \"\"}}, \"type\": \"parcoords\"}], \"pie\": [{\"automargin\": true, \"type\": \"pie\"}], \"scatter\": [{\"marker\": {\"colorbar\": {\"outlinewidth\": 0, \"ticks\": \"\"}}, \"type\": \"scatter\"}], \"scatter3d\": [{\"line\": {\"colorbar\": {\"outlinewidth\": 0, \"ticks\": \"\"}}, \"marker\": {\"colorbar\": {\"outlinewidth\": 0, \"ticks\": \"\"}}, \"type\": \"scatter3d\"}], \"scattercarpet\": [{\"marker\": {\"colorbar\": {\"outlinewidth\": 0, \"ticks\": \"\"}}, \"type\": \"scattercarpet\"}], \"scattergeo\": [{\"marker\": {\"colorbar\": {\"outlinewidth\": 0, \"ticks\": \"\"}}, \"type\": \"scattergeo\"}], \"scattergl\": [{\"marker\": {\"colorbar\": {\"outlinewidth\": 0, \"ticks\": \"\"}}, \"type\": \"scattergl\"}], \"scattermapbox\": [{\"marker\": {\"colorbar\": {\"outlinewidth\": 0, \"ticks\": \"\"}}, \"type\": \"scattermapbox\"}], \"scatterpolar\": [{\"marker\": {\"colorbar\": {\"outlinewidth\": 0, \"ticks\": \"\"}}, \"type\": \"scatterpolar\"}], \"scatterpolargl\": [{\"marker\": {\"colorbar\": {\"outlinewidth\": 0, \"ticks\": \"\"}}, \"type\": \"scatterpolargl\"}], \"scatterternary\": [{\"marker\": {\"colorbar\": {\"outlinewidth\": 0, \"ticks\": \"\"}}, \"type\": \"scatterternary\"}], \"surface\": [{\"colorbar\": {\"outlinewidth\": 0, \"ticks\": \"\"}, \"colorscale\": [[0.0, \"#0d0887\"], [0.1111111111111111, \"#46039f\"], [0.2222222222222222, \"#7201a8\"], [0.3333333333333333, \"#9c179e\"], [0.4444444444444444, \"#bd3786\"], [0.5555555555555556, \"#d8576b\"], [0.6666666666666666, \"#ed7953\"], [0.7777777777777778, \"#fb9f3a\"], [0.8888888888888888, \"#fdca26\"], [1.0, \"#f0f921\"]], \"type\": \"surface\"}], \"table\": [{\"cells\": {\"fill\": {\"color\": \"#EBF0F8\"}, \"line\": {\"color\": \"white\"}}, \"header\": {\"fill\": {\"color\": \"#C8D4E3\"}, \"line\": {\"color\": \"white\"}}, \"type\": \"table\"}]}, \"layout\": {\"annotationdefaults\": {\"arrowcolor\": \"#2a3f5f\", \"arrowhead\": 0, \"arrowwidth\": 1}, \"autotypenumbers\": \"strict\", \"coloraxis\": {\"colorbar\": {\"outlinewidth\": 0, \"ticks\": \"\"}}, \"colorscale\": {\"diverging\": [[0, \"#8e0152\"], [0.1, \"#c51b7d\"], [0.2, \"#de77ae\"], [0.3, \"#f1b6da\"], [0.4, \"#fde0ef\"], [0.5, \"#f7f7f7\"], [0.6, \"#e6f5d0\"], [0.7, \"#b8e186\"], [0.8, \"#7fbc41\"], [0.9, \"#4d9221\"], [1, \"#276419\"]], \"sequential\": [[0.0, \"#0d0887\"], [0.1111111111111111, \"#46039f\"], [0.2222222222222222, \"#7201a8\"], [0.3333333333333333, \"#9c179e\"], [0.4444444444444444, \"#bd3786\"], [0.5555555555555556, \"#d8576b\"], [0.6666666666666666, \"#ed7953\"], [0.7777777777777778, \"#fb9f3a\"], [0.8888888888888888, \"#fdca26\"], [1.0, \"#f0f921\"]], \"sequentialminus\": [[0.0, \"#0d0887\"], [0.1111111111111111, \"#46039f\"], [0.2222222222222222, \"#7201a8\"], [0.3333333333333333, \"#9c179e\"], [0.4444444444444444, \"#bd3786\"], [0.5555555555555556, \"#d8576b\"], [0.6666666666666666, \"#ed7953\"], [0.7777777777777778, \"#fb9f3a\"], [0.8888888888888888, \"#fdca26\"], [1.0, \"#f0f921\"]]}, \"colorway\": [\"#636efa\", \"#EF553B\", \"#00cc96\", \"#ab63fa\", \"#FFA15A\", \"#19d3f3\", \"#FF6692\", \"#B6E880\", \"#FF97FF\", \"#FECB52\"], \"font\": {\"color\": \"#2a3f5f\"}, \"geo\": {\"bgcolor\": \"white\", \"lakecolor\": \"white\", \"landcolor\": \"#E5ECF6\", \"showlakes\": true, \"showland\": true, \"subunitcolor\": \"white\"}, \"hoverlabel\": {\"align\": \"left\"}, \"hovermode\": \"closest\", \"mapbox\": {\"style\": \"light\"}, \"paper_bgcolor\": \"white\", \"plot_bgcolor\": \"#E5ECF6\", \"polar\": {\"angularaxis\": {\"gridcolor\": \"white\", \"linecolor\": \"white\", \"ticks\": \"\"}, \"bgcolor\": \"#E5ECF6\", \"radialaxis\": {\"gridcolor\": \"white\", \"linecolor\": \"white\", \"ticks\": \"\"}}, \"scene\": {\"xaxis\": {\"backgroundcolor\": \"#E5ECF6\", \"gridcolor\": \"white\", \"gridwidth\": 2, \"linecolor\": \"white\", \"showbackground\": true, \"ticks\": \"\", \"zerolinecolor\": \"white\"}, \"yaxis\": {\"backgroundcolor\": \"#E5ECF6\", \"gridcolor\": \"white\", \"gridwidth\": 2, \"linecolor\": \"white\", \"showbackground\": true, \"ticks\": \"\", \"zerolinecolor\": \"white\"}, \"zaxis\": {\"backgroundcolor\": \"#E5ECF6\", \"gridcolor\": \"white\", \"gridwidth\": 2, \"linecolor\": \"white\", \"showbackground\": true, \"ticks\": \"\", \"zerolinecolor\": \"white\"}}, \"shapedefaults\": {\"line\": {\"color\": \"#2a3f5f\"}}, \"ternary\": {\"aaxis\": {\"gridcolor\": \"white\", \"linecolor\": \"white\", \"ticks\": \"\"}, \"baxis\": {\"gridcolor\": \"white\", \"linecolor\": \"white\", \"ticks\": \"\"}, \"bgcolor\": \"#E5ECF6\", \"caxis\": {\"gridcolor\": \"white\", \"linecolor\": \"white\", \"ticks\": \"\"}}, \"title\": {\"x\": 0.05}, \"xaxis\": {\"automargin\": true, \"gridcolor\": \"white\", \"linecolor\": \"white\", \"ticks\": \"\", \"title\": {\"standoff\": 15}, \"zerolinecolor\": \"white\", \"zerolinewidth\": 2}, \"yaxis\": {\"automargin\": true, \"gridcolor\": \"white\", \"linecolor\": \"white\", \"ticks\": \"\", \"title\": {\"standoff\": 15}, \"zerolinecolor\": \"white\", \"zerolinewidth\": 2}}}, \"title\": {\"text\": \"Free Session Student Has Laptop or Not\"}, \"xaxis\": {\"linecolor\": \"black\", \"linewidth\": 2, \"mirror\": true, \"showline\": true, \"showticklabels\": true, \"tickangle\": 45, \"tickfont\": {\"color\": \"red\", \"size\": 10}, \"title\": {\"text\": \"Students Opinion\"}, \"zeroline\": true, \"zerolinecolor\": \"grey\", \"zerolinewidth\": 1}, \"yaxis\": {\"gridcolor\": \"lightgrey\", \"linecolor\": \"black\", \"linewidth\": 2, \"mirror\": true, \"showline\": true, \"title\": {\"text\": \"Total Students\"}, \"zeroline\": true, \"zerolinecolor\": \"grey\", \"zerolinewidth\": 1}},                        {\"responsive\": true}                    ).then(function(){\n",
       "                            \n",
       "var gd = document.getElementById('750583c1-80ad-4cea-8ffc-c2ba9e6bf540');\n",
       "var x = new MutationObserver(function (mutations, observer) {{\n",
       "        var display = window.getComputedStyle(gd).display;\n",
       "        if (!display || display === 'none') {{\n",
       "            console.log([gd, 'removed!']);\n",
       "            Plotly.purge(gd);\n",
       "            observer.disconnect();\n",
       "        }}\n",
       "}});\n",
       "\n",
       "// Listen for the removal of the full notebook cells\n",
       "var notebookContainer = gd.closest('#notebook-container');\n",
       "if (notebookContainer) {{\n",
       "    x.observe(notebookContainer, {childList: true});\n",
       "}}\n",
       "\n",
       "// Listen for the clearing of the current output cell\n",
       "var outputEl = gd.closest('.output');\n",
       "if (outputEl) {{\n",
       "    x.observe(outputEl, {childList: true});\n",
       "}}\n",
       "\n",
       "                        })                };                });            </script>        </div>"
      ]
     },
     "metadata": {},
     "output_type": "display_data"
    }
   ],
   "source": [
    "#making the trace bar\n",
    "draw_trace_bar(laptop1,'HasLaptop','laptopcount','Free Session Student Has Laptop or Not', 'Students Opinion','Total Students',\"Blue\")"
   ]
  },
  {
   "cell_type": "markdown",
   "metadata": {},
   "source": [
    "So we can see that from total students who give their feedback from them 734 students have their own laptop and 205 students have no laptop"
   ]
  },
  {
   "cell_type": "code",
   "execution_count": 201,
   "metadata": {},
   "outputs": [
    {
     "data": {
      "text/html": [
       "<div>\n",
       "<style scoped>\n",
       "    .dataframe tbody tr th:only-of-type {\n",
       "        vertical-align: middle;\n",
       "    }\n",
       "\n",
       "    .dataframe tbody tr th {\n",
       "        vertical-align: top;\n",
       "    }\n",
       "\n",
       "    .dataframe thead th {\n",
       "        text-align: right;\n",
       "    }\n",
       "</style>\n",
       "<table border=\"1\" class=\"dataframe\">\n",
       "  <thead>\n",
       "    <tr style=\"text-align: right;\">\n",
       "      <th></th>\n",
       "      <th>Timestamp</th>\n",
       "      <th>Name</th>\n",
       "      <th>Contact</th>\n",
       "      <th>Email</th>\n",
       "      <th>College</th>\n",
       "      <th>Department</th>\n",
       "      <th>HasLaptop</th>\n",
       "      <th>Source</th>\n",
       "      <th>Country</th>\n",
       "      <th>laptopcount</th>\n",
       "    </tr>\n",
       "  </thead>\n",
       "  <tbody>\n",
       "    <tr>\n",
       "      <th>0</th>\n",
       "      <td>8/24/2020 17:01:39</td>\n",
       "      <td>A.S.M. Raquibul Hasan</td>\n",
       "      <td>01722577922</td>\n",
       "      <td>raquibul.nsu@gmail.com</td>\n",
       "      <td>United International University</td>\n",
       "      <td>others</td>\n",
       "      <td>Yes</td>\n",
       "      <td>Facebook</td>\n",
       "      <td>Bangladesh</td>\n",
       "      <td>1.0</td>\n",
       "    </tr>\n",
       "    <tr>\n",
       "      <th>2</th>\n",
       "      <td>8/24/2020 9:20:28</td>\n",
       "      <td>Abdullah Bin Murad</td>\n",
       "      <td>01552443554</td>\n",
       "      <td>abmrifat54@gmail.com</td>\n",
       "      <td>Shahjalal University of Science and Technology</td>\n",
       "      <td>Engineering</td>\n",
       "      <td>Yes</td>\n",
       "      <td>NaN</td>\n",
       "      <td>Bangladesh</td>\n",
       "      <td>1.0</td>\n",
       "    </tr>\n",
       "    <tr>\n",
       "      <th>3</th>\n",
       "      <td>7/28/2020 12:16:30</td>\n",
       "      <td>Abhijoy Mukherjee</td>\n",
       "      <td>7003206060</td>\n",
       "      <td>abhijoymukherjee01@gmail.com</td>\n",
       "      <td>Asutosh College</td>\n",
       "      <td>Statistics</td>\n",
       "      <td>Yes</td>\n",
       "      <td>Friend</td>\n",
       "      <td>India</td>\n",
       "      <td>1.0</td>\n",
       "    </tr>\n",
       "    <tr>\n",
       "      <th>4</th>\n",
       "      <td>7/10/2020 13:56:14</td>\n",
       "      <td>Abhipreeti Acharjee</td>\n",
       "      <td>8274839744</td>\n",
       "      <td>deepamandal007@gmail.com</td>\n",
       "      <td>DEPARTMENT OF PURE MATHEMATICS, UNIVERSITY OF ...</td>\n",
       "      <td>PURE MATHEMATICS</td>\n",
       "      <td>Yes</td>\n",
       "      <td>NaN</td>\n",
       "      <td>India</td>\n",
       "      <td>1.0</td>\n",
       "    </tr>\n",
       "    <tr>\n",
       "      <th>5</th>\n",
       "      <td>7/28/2020 13:14:59</td>\n",
       "      <td>Abhiraj Bhattacharya</td>\n",
       "      <td>6289897311</td>\n",
       "      <td>abhattacharyya2001@gmail.com</td>\n",
       "      <td>Vivekananda College</td>\n",
       "      <td>B.Sc statistics</td>\n",
       "      <td>Yes</td>\n",
       "      <td>Friend</td>\n",
       "      <td>India</td>\n",
       "      <td>1.0</td>\n",
       "    </tr>\n",
       "    <tr>\n",
       "      <th>...</th>\n",
       "      <td>...</td>\n",
       "      <td>...</td>\n",
       "      <td>...</td>\n",
       "      <td>...</td>\n",
       "      <td>...</td>\n",
       "      <td>...</td>\n",
       "      <td>...</td>\n",
       "      <td>...</td>\n",
       "      <td>...</td>\n",
       "      <td>...</td>\n",
       "    </tr>\n",
       "    <tr>\n",
       "      <th>943</th>\n",
       "      <td>1/22/2021 22:06:24</td>\n",
       "      <td>Ramanish Banerjee</td>\n",
       "      <td>8017179702</td>\n",
       "      <td>banerjeeramanish@gmail.com</td>\n",
       "      <td>MAULANA AZAD COLLEGE</td>\n",
       "      <td>Honors (BSC/MSC)</td>\n",
       "      <td>Yes</td>\n",
       "      <td>NaN</td>\n",
       "      <td>NaN</td>\n",
       "      <td>1.0</td>\n",
       "    </tr>\n",
       "    <tr>\n",
       "      <th>944</th>\n",
       "      <td>1/22/2021 22:46:21</td>\n",
       "      <td>Jinia Banerjee</td>\n",
       "      <td>6289719175</td>\n",
       "      <td>jiniabanerjee9727@gmail.com</td>\n",
       "      <td>Maulona Azad College</td>\n",
       "      <td>Honors (BSC/MSC)</td>\n",
       "      <td>No</td>\n",
       "      <td>NaN</td>\n",
       "      <td>NaN</td>\n",
       "      <td>0.0</td>\n",
       "    </tr>\n",
       "    <tr>\n",
       "      <th>945</th>\n",
       "      <td>1/23/2021 10:57:08</td>\n",
       "      <td>Md Safiqul Islam</td>\n",
       "      <td>8250955315</td>\n",
       "      <td>safiqulislam6006@gmail.com</td>\n",
       "      <td>Maulana Azad College</td>\n",
       "      <td>Honors (BSC/MSC)</td>\n",
       "      <td>Yes</td>\n",
       "      <td>NaN</td>\n",
       "      <td>NaN</td>\n",
       "      <td>1.0</td>\n",
       "    </tr>\n",
       "    <tr>\n",
       "      <th>946</th>\n",
       "      <td>1/23/2021 12:27:32</td>\n",
       "      <td>Soumojit Chatterjee</td>\n",
       "      <td>8101726672</td>\n",
       "      <td>imsoumojit@yahoo.com</td>\n",
       "      <td>Maulana Azad College</td>\n",
       "      <td>Honors (BSC/MSC)</td>\n",
       "      <td>Yes</td>\n",
       "      <td>NaN</td>\n",
       "      <td>NaN</td>\n",
       "      <td>1.0</td>\n",
       "    </tr>\n",
       "    <tr>\n",
       "      <th>947</th>\n",
       "      <td>1/23/2021 17:37:35</td>\n",
       "      <td>Debanjan Bhattacharjee</td>\n",
       "      <td>6290909245</td>\n",
       "      <td>debanjanbhattacharjee2002@gmail.com</td>\n",
       "      <td>Maulana Azad College</td>\n",
       "      <td>Honors (BSC/MSC)</td>\n",
       "      <td>Yes</td>\n",
       "      <td>NaN</td>\n",
       "      <td>NaN</td>\n",
       "      <td>1.0</td>\n",
       "    </tr>\n",
       "  </tbody>\n",
       "</table>\n",
       "<p>940 rows × 10 columns</p>\n",
       "</div>"
      ],
      "text/plain": [
       "              Timestamp                    Name      Contact  \\\n",
       "0    8/24/2020 17:01:39  A.S.M. Raquibul Hasan   01722577922   \n",
       "2     8/24/2020 9:20:28    Abdullah Bin Murad    01552443554   \n",
       "3    7/28/2020 12:16:30       Abhijoy Mukherjee   7003206060   \n",
       "4    7/10/2020 13:56:14     Abhipreeti Acharjee   8274839744   \n",
       "5    7/28/2020 13:14:59    Abhiraj Bhattacharya   6289897311   \n",
       "..                  ...                     ...          ...   \n",
       "943  1/22/2021 22:06:24       Ramanish Banerjee   8017179702   \n",
       "944  1/22/2021 22:46:21          Jinia Banerjee   6289719175   \n",
       "945  1/23/2021 10:57:08        Md Safiqul Islam   8250955315   \n",
       "946  1/23/2021 12:27:32     Soumojit Chatterjee   8101726672   \n",
       "947  1/23/2021 17:37:35  Debanjan Bhattacharjee   6290909245   \n",
       "\n",
       "                                   Email  \\\n",
       "0                 raquibul.nsu@gmail.com   \n",
       "2                   abmrifat54@gmail.com   \n",
       "3           abhijoymukherjee01@gmail.com   \n",
       "4               deepamandal007@gmail.com   \n",
       "5           abhattacharyya2001@gmail.com   \n",
       "..                                   ...   \n",
       "943           banerjeeramanish@gmail.com   \n",
       "944          jiniabanerjee9727@gmail.com   \n",
       "945           safiqulislam6006@gmail.com   \n",
       "946                 imsoumojit@yahoo.com   \n",
       "947  debanjanbhattacharjee2002@gmail.com   \n",
       "\n",
       "                                               College        Department  \\\n",
       "0                     United International University             others   \n",
       "2       Shahjalal University of Science and Technology       Engineering   \n",
       "3                                      Asutosh College        Statistics   \n",
       "4    DEPARTMENT OF PURE MATHEMATICS, UNIVERSITY OF ...  PURE MATHEMATICS   \n",
       "5                                  Vivekananda College   B.Sc statistics   \n",
       "..                                                 ...               ...   \n",
       "943                               MAULANA AZAD COLLEGE  Honors (BSC/MSC)   \n",
       "944                               Maulona Azad College  Honors (BSC/MSC)   \n",
       "945                               Maulana Azad College  Honors (BSC/MSC)   \n",
       "946                               Maulana Azad College  Honors (BSC/MSC)   \n",
       "947                               Maulana Azad College  Honors (BSC/MSC)   \n",
       "\n",
       "    HasLaptop     Source     Country  laptopcount  \n",
       "0         Yes  Facebook   Bangladesh          1.0  \n",
       "2         Yes        NaN  Bangladesh          1.0  \n",
       "3         Yes     Friend       India          1.0  \n",
       "4         Yes        NaN       India          1.0  \n",
       "5         Yes     Friend       India          1.0  \n",
       "..        ...        ...         ...          ...  \n",
       "943       Yes        NaN         NaN          1.0  \n",
       "944        No        NaN         NaN          0.0  \n",
       "945       Yes        NaN         NaN          1.0  \n",
       "946       Yes        NaN         NaN          1.0  \n",
       "947       Yes        NaN         NaN          1.0  \n",
       "\n",
       "[940 rows x 10 columns]"
      ]
     },
     "execution_count": 201,
     "metadata": {},
     "output_type": "execute_result"
    }
   ],
   "source": [
    "df4"
   ]
  },
  {
   "cell_type": "code",
   "execution_count": 203,
   "metadata": {},
   "outputs": [
    {
     "data": {
      "text/html": [
       "<div>\n",
       "<style scoped>\n",
       "    .dataframe tbody tr th:only-of-type {\n",
       "        vertical-align: middle;\n",
       "    }\n",
       "\n",
       "    .dataframe tbody tr th {\n",
       "        vertical-align: top;\n",
       "    }\n",
       "\n",
       "    .dataframe thead th {\n",
       "        text-align: right;\n",
       "    }\n",
       "</style>\n",
       "<table border=\"1\" class=\"dataframe\">\n",
       "  <thead>\n",
       "    <tr style=\"text-align: right;\">\n",
       "      <th></th>\n",
       "      <th>Timestamp</th>\n",
       "      <th>Name</th>\n",
       "      <th>Contact</th>\n",
       "      <th>Email</th>\n",
       "      <th>College</th>\n",
       "      <th>Department</th>\n",
       "      <th>HasLaptop</th>\n",
       "      <th>Source</th>\n",
       "      <th>Country</th>\n",
       "      <th>laptopcount</th>\n",
       "    </tr>\n",
       "  </thead>\n",
       "  <tbody>\n",
       "    <tr>\n",
       "      <th>7</th>\n",
       "      <td>6/24/2020 15:06:51</td>\n",
       "      <td>Abhisek biswas</td>\n",
       "      <td>NaN</td>\n",
       "      <td>amitsrivastav445@gmail.com</td>\n",
       "      <td>J.K College</td>\n",
       "      <td>B.Com (H)</td>\n",
       "      <td>No</td>\n",
       "      <td>Rohan Rakshit</td>\n",
       "      <td>India</td>\n",
       "      <td>0.0</td>\n",
       "    </tr>\n",
       "    <tr>\n",
       "      <th>11</th>\n",
       "      <td>7/26/2020 17:51:34</td>\n",
       "      <td>Abhishek Singh</td>\n",
       "      <td>6260303830</td>\n",
       "      <td>as1973240@gmail.com</td>\n",
       "      <td>Global Nature Care Sangathan Group Of Institut...</td>\n",
       "      <td>Civil Engineering</td>\n",
       "      <td>No</td>\n",
       "      <td>Social media</td>\n",
       "      <td>India</td>\n",
       "      <td>0.0</td>\n",
       "    </tr>\n",
       "    <tr>\n",
       "      <th>15</th>\n",
       "      <td>6/24/2020 15:23:11</td>\n",
       "      <td>Adarsha Mukherjee</td>\n",
       "      <td>NaN</td>\n",
       "      <td>Subratadhibar002@gmail.com</td>\n",
       "      <td>Purulia zilla school</td>\n",
       "      <td>Atrs</td>\n",
       "      <td>No</td>\n",
       "      <td>Rohan</td>\n",
       "      <td>India</td>\n",
       "      <td>0.0</td>\n",
       "    </tr>\n",
       "    <tr>\n",
       "      <th>26</th>\n",
       "      <td>7/27/2020 16:47:11</td>\n",
       "      <td>Amit Pal</td>\n",
       "      <td>8240247637</td>\n",
       "      <td>amitpal9685@gmail.com</td>\n",
       "      <td>Ramakrishna Mission Shilpapitha</td>\n",
       "      <td>Electronics and telecommunication</td>\n",
       "      <td>No</td>\n",
       "      <td>From my friend Rupsa</td>\n",
       "      <td>India</td>\n",
       "      <td>0.0</td>\n",
       "    </tr>\n",
       "    <tr>\n",
       "      <th>29</th>\n",
       "      <td>6/24/2020 16:25:25</td>\n",
       "      <td>Amit Srivastav</td>\n",
       "      <td>7384285644</td>\n",
       "      <td>Shreyaduttaxxx@gmail.com</td>\n",
       "      <td>Viswass school &amp; college of nursing</td>\n",
       "      <td>B.sc nursing</td>\n",
       "      <td>No</td>\n",
       "      <td>NaN</td>\n",
       "      <td>India</td>\n",
       "      <td>0.0</td>\n",
       "    </tr>\n",
       "    <tr>\n",
       "      <th>...</th>\n",
       "      <td>...</td>\n",
       "      <td>...</td>\n",
       "      <td>...</td>\n",
       "      <td>...</td>\n",
       "      <td>...</td>\n",
       "      <td>...</td>\n",
       "      <td>...</td>\n",
       "      <td>...</td>\n",
       "      <td>...</td>\n",
       "      <td>...</td>\n",
       "    </tr>\n",
       "    <tr>\n",
       "      <th>931</th>\n",
       "      <td>1/22/2021 15:54:55</td>\n",
       "      <td>Koyel Basak</td>\n",
       "      <td>7478293697</td>\n",
       "      <td>Koyelbasak2002@gmail.com</td>\n",
       "      <td>Maulana azad college</td>\n",
       "      <td>Honors (BSC/MSC)</td>\n",
       "      <td>No</td>\n",
       "      <td>NaN</td>\n",
       "      <td>NaN</td>\n",
       "      <td>0.0</td>\n",
       "    </tr>\n",
       "    <tr>\n",
       "      <th>934</th>\n",
       "      <td>1/22/2021 16:42:36</td>\n",
       "      <td>Rayesha Paul</td>\n",
       "      <td>9123345331</td>\n",
       "      <td>rayeshapaul25@gmail.com</td>\n",
       "      <td>Maulana Azad College</td>\n",
       "      <td>Honors (BSC/MSC)</td>\n",
       "      <td>No</td>\n",
       "      <td>NaN</td>\n",
       "      <td>NaN</td>\n",
       "      <td>0.0</td>\n",
       "    </tr>\n",
       "    <tr>\n",
       "      <th>936</th>\n",
       "      <td>1/22/2021 17:31:18</td>\n",
       "      <td>Ankita Sinha</td>\n",
       "      <td>9123713683</td>\n",
       "      <td>ankitasinha06052002@gmail.com</td>\n",
       "      <td>Maulana Azad College</td>\n",
       "      <td>Honors (BSC/MSC)</td>\n",
       "      <td>No</td>\n",
       "      <td>NaN</td>\n",
       "      <td>NaN</td>\n",
       "      <td>0.0</td>\n",
       "    </tr>\n",
       "    <tr>\n",
       "      <th>937</th>\n",
       "      <td>1/22/2021 17:54:10</td>\n",
       "      <td>SOUGATA ROY</td>\n",
       "      <td>6291014794</td>\n",
       "      <td>sougataa12@gmail.com</td>\n",
       "      <td>Maulana Azad College</td>\n",
       "      <td>Honors (BSC/MSC)</td>\n",
       "      <td>No</td>\n",
       "      <td>NaN</td>\n",
       "      <td>NaN</td>\n",
       "      <td>0.0</td>\n",
       "    </tr>\n",
       "    <tr>\n",
       "      <th>944</th>\n",
       "      <td>1/22/2021 22:46:21</td>\n",
       "      <td>Jinia Banerjee</td>\n",
       "      <td>6289719175</td>\n",
       "      <td>jiniabanerjee9727@gmail.com</td>\n",
       "      <td>Maulona Azad College</td>\n",
       "      <td>Honors (BSC/MSC)</td>\n",
       "      <td>No</td>\n",
       "      <td>NaN</td>\n",
       "      <td>NaN</td>\n",
       "      <td>0.0</td>\n",
       "    </tr>\n",
       "  </tbody>\n",
       "</table>\n",
       "<p>205 rows × 10 columns</p>\n",
       "</div>"
      ],
      "text/plain": [
       "              Timestamp               Name     Contact  \\\n",
       "7    6/24/2020 15:06:51     Abhisek biswas         NaN   \n",
       "11   7/26/2020 17:51:34     Abhishek Singh  6260303830   \n",
       "15   6/24/2020 15:23:11  Adarsha Mukherjee         NaN   \n",
       "26   7/27/2020 16:47:11           Amit Pal  8240247637   \n",
       "29   6/24/2020 16:25:25     Amit Srivastav  7384285644   \n",
       "..                  ...                ...         ...   \n",
       "931  1/22/2021 15:54:55        Koyel Basak  7478293697   \n",
       "934  1/22/2021 16:42:36      Rayesha Paul   9123345331   \n",
       "936  1/22/2021 17:31:18      Ankita Sinha   9123713683   \n",
       "937  1/22/2021 17:54:10        SOUGATA ROY  6291014794   \n",
       "944  1/22/2021 22:46:21     Jinia Banerjee  6289719175   \n",
       "\n",
       "                             Email  \\\n",
       "7       amitsrivastav445@gmail.com   \n",
       "11             as1973240@gmail.com   \n",
       "15      Subratadhibar002@gmail.com   \n",
       "26           amitpal9685@gmail.com   \n",
       "29        Shreyaduttaxxx@gmail.com   \n",
       "..                             ...   \n",
       "931       Koyelbasak2002@gmail.com   \n",
       "934        rayeshapaul25@gmail.com   \n",
       "936  ankitasinha06052002@gmail.com   \n",
       "937           sougataa12@gmail.com   \n",
       "944    jiniabanerjee9727@gmail.com   \n",
       "\n",
       "                                               College  \\\n",
       "7                                          J.K College   \n",
       "11   Global Nature Care Sangathan Group Of Institut...   \n",
       "15                               Purulia zilla school    \n",
       "26                     Ramakrishna Mission Shilpapitha   \n",
       "29                 Viswass school & college of nursing   \n",
       "..                                                 ...   \n",
       "931                              Maulana azad college    \n",
       "934                              Maulana Azad College    \n",
       "936                               Maulana Azad College   \n",
       "937                               Maulana Azad College   \n",
       "944                               Maulona Azad College   \n",
       "\n",
       "                            Department HasLaptop                Source  \\\n",
       "7                            B.Com (H)        No         Rohan Rakshit   \n",
       "11                   Civil Engineering        No          Social media   \n",
       "15                                Atrs        No                 Rohan   \n",
       "26   Electronics and telecommunication        No  From my friend Rupsa   \n",
       "29                        B.sc nursing        No                   NaN   \n",
       "..                                 ...       ...                   ...   \n",
       "931                   Honors (BSC/MSC)        No                   NaN   \n",
       "934                   Honors (BSC/MSC)        No                   NaN   \n",
       "936                   Honors (BSC/MSC)        No                   NaN   \n",
       "937                   Honors (BSC/MSC)        No                   NaN   \n",
       "944                   Honors (BSC/MSC)        No                   NaN   \n",
       "\n",
       "    Country  laptopcount  \n",
       "7     India          0.0  \n",
       "11    India          0.0  \n",
       "15    India          0.0  \n",
       "26    India          0.0  \n",
       "29    India          0.0  \n",
       "..      ...          ...  \n",
       "931     NaN          0.0  \n",
       "934     NaN          0.0  \n",
       "936     NaN          0.0  \n",
       "937     NaN          0.0  \n",
       "944     NaN          0.0  \n",
       "\n",
       "[205 rows x 10 columns]"
      ]
     },
     "execution_count": 203,
     "metadata": {},
     "output_type": "execute_result"
    }
   ],
   "source": [
    "nolaptop = df4[df4.laptopcount == 0]\n",
    "nolaptop"
   ]
  },
  {
   "cell_type": "code",
   "execution_count": 205,
   "metadata": {},
   "outputs": [
    {
     "name": "stdout",
     "output_type": "stream",
     "text": [
      " Students do not have laptop from these University Total: 125\n"
     ]
    },
    {
     "data": {
      "text/plain": [
       "array(['J.K College',\n",
       "       'Global Nature Care Sangathan Group Of Institutions',\n",
       "       'Purulia zilla school ', 'Ramakrishna Mission Shilpapitha',\n",
       "       'Viswass school & college of nursing', 'Maulana Azad College ',\n",
       "       'Insitiution of engineering and managment',\n",
       "       'Durgapur Institute Of Advance Technology and Management',\n",
       "       'Asutosh College', 'Kalyani Mahavidyalaya',\n",
       "       'University of Calcutta', 'Lady Brabourne College',\n",
       "       'Jagannath Kishore college,Purulia', 'NSU',\n",
       "       'NARASINHA DUTT COLLEGE',\n",
       "       'NARASINHA DUTT COLLEGE, UNIVERSITY OF CALCUTTA',\n",
       "       'Narasingha Dutt College ', 'Asutosh College ',\n",
       "       'RKMVERI BELUR MATH', 'Kalyani Mahabidyalaya', nan,\n",
       "       'Guru NANAK INSTITUTE OF PHARMACEUTICAL SCIENCE AND TECHNOLOGY',\n",
       "       'Bethune college', 'Jk college', 'Vidyasagar college for women',\n",
       "       'JADAVPUR UNIVERSITY ', 'National power training institute Nagpur',\n",
       "       'Kalyani mahavidyalay', 'Dr. B. C. Roy Engineering college',\n",
       "       'Kalyani Mahavidya', 'N.P.T.I(E.R.)',\n",
       "       ' Uttarpara Amarendra Vidyapith',\n",
       "       'Durgapur institute of advanced and technology management',\n",
       "       'Shahjalal University of Science & Technology   ',\n",
       "       'Narasinha Dutta College', 'Vidyasagar University',\n",
       "       'Vidyasagar collage ', 'RCC institute of information technology',\n",
       "       'Durgapur institute of advance technology and managment',\n",
       "       'Calcutta university ',\n",
       "       'Durgapur institute of advanced technology and managemant rajbandh',\n",
       "       'Durgapur Institute of advanced technology and management ',\n",
       "       'Surendranath college', 'Academy Of Technology',\n",
       "       'Amta Ramsaday College', 'DIATM, Durgapur', 'Jadavpur University',\n",
       "       'BETHUNE COLLEGE',\n",
       "       'Durgapur Institute of Advanced Technology & Management',\n",
       "       'Victoria Institution', 'Narasinha dutt college',\n",
       "       'National power training institute (E.R) Durgapur',\n",
       "       'JADAVPUR UNIVERSITY', 'Lalbaba college ', 'Aliah University ',\n",
       "       'Maulana Azad College, Kolkata', 'Raja Peary Mohan college',\n",
       "       'VIDYASAGAR UNIVERSITY, MEDINIPUR',\n",
       "       'The New Horizons Institute of Technology',\n",
       "       'Jogomaya Devi college ', 'Vivekananda college',\n",
       "       'Vivekananda College ', 'Presidency University', 'Aot',\n",
       "       'National power training institute', 'RKMVERI (BELUR CAMPUS)',\n",
       "       'Dr.B.C.ROY ENGINEERING COLLEGE',\n",
       "       'Vivekananda College,Thakurpukur', 'MAULANA AZAD COLLEGE',\n",
       "       'Future institute of technology ',\n",
       "       'Future Institute of Technology', 'RKMVERI, BELUR MATH',\n",
       "       'Ramakrishna Mission Vivekananda Educational And Research Institute',\n",
       "       'JadavpurUniversity  ', 'Vivekananda College',\n",
       "       'Shibpur Dinobundhoo institution',\n",
       "       'B P poddar institute of Management & Technology ',\n",
       "       \"Durgapur Women's College\", \"Duragpur Women's college\",\n",
       "       \"Durgapur women's college\", 'Durgapur Womens College ',\n",
       "       \"Durgapur Women's College \", \"Durgapur women's collage \",\n",
       "       \"Durgapur Women's College   Kazi Nazrul University\",\n",
       "       \"DURGAPUR WOMEN'S COLLEGE\",\n",
       "       'College name - Durgapur Womens college',\n",
       "       \"Raniganj Girls' College \", 'KAJI najrul invercity',\n",
       "       \"Durgapur woman's college \", \"Durgapur women's college \",\n",
       "       \"Durgapur women's College\", 'DURGAPUR GOVERNMENT COLLEGE',\n",
       "       'Durgapur government college', \"Women's collage\",\n",
       "       \"Durgapur WOMEN'S college \",\n",
       "       'Regent Education And Research Foundation',\n",
       "       'Regent education & research foundation barrackpore', 'RERF',\n",
       "       'Rerf', 'Regent Education and Research Foundation',\n",
       "       'Regent Education and Research Foundation ',\n",
       "       'Regent Education and Research Foundation Group of Institutions',\n",
       "       'Regent Education &Research Foundation',\n",
       "       'Regent Education and Research foundation',\n",
       "       'Regent Education & Research Foundation',\n",
       "       'REGENT EDUCATION & RESEARCH FOUNDATION',\n",
       "       'Regent education and research foundation ',\n",
       "       'Regent education and research foundation', 'RRERF',\n",
       "       'Regent Education and Research foundation ',\n",
       "       'Lady braboune college', 'Lady Brabourne college ',\n",
       "       'Lady brabourne college', 'Lady Brabourne College ',\n",
       "       'Lady Brabourne college', 'Lady Braboune Collage',\n",
       "       'Maulana Azad College', 'Maulana Azad college',\n",
       "       'Moulana azad college', 'Moulana Azad College',\n",
       "       'MAULANA AZAD COLLEGE ', 'maulana azad college',\n",
       "       'Maulana Azad College, University Of Calcutta',\n",
       "       'Maulana azad college ', 'Maulona Azad College'], dtype=object)"
      ]
     },
     "execution_count": 205,
     "metadata": {},
     "output_type": "execute_result"
    }
   ],
   "source": [
    "#total participate university\n",
    "nolaptop_uni = nolaptop.College.unique()\n",
    "print(f\" Students do not have laptop from these University Total: {len(nolaptop_uni)}\")\n",
    "nolaptop_uni"
   ]
  },
  {
   "cell_type": "code",
   "execution_count": 208,
   "metadata": {},
   "outputs": [
    {
     "name": "stdout",
     "output_type": "stream",
     "text": [
      "University: J.K College: \n",
      "Department: ['B.Com (H)']\n",
      "\n",
      "University: Global Nature Care Sangathan Group Of Institutions: \n",
      "Department: ['Civil Engineering']\n",
      "\n",
      "University: Purulia zilla school : \n",
      "Department: ['Atrs']\n",
      "\n",
      "University: Ramakrishna Mission Shilpapitha: \n",
      "Department: ['Electronics and telecommunication']\n",
      "\n",
      "University: Viswass school & college of nursing: \n",
      "Department: ['B.sc nursing']\n",
      "\n",
      "University: Maulana Azad College : \n",
      "Department: ['Statistics (H)', 'Honors (BSC/MSC)', 'Honors (BSC/MSC)', 'Honors (BSC/MSC)', 'Honors (BSC/MSC)']\n",
      "\n",
      "University: Insitiution of engineering and managment: \n",
      "Department: ['B. Tech (Cse) ']\n",
      "\n",
      "University: Durgapur Institute Of Advance Technology and Management: \n",
      "Department: ['Btech 4th year on ECE department']\n",
      "\n",
      "University: Asutosh College: \n",
      "Department: ['Statistics Honours Student', 'Bsc. Statistics Honours Student(Final Year)', 'Statistics']\n",
      "\n",
      "University: Kalyani Mahavidyalaya: \n",
      "Department: [nan, 'B.Sc Statistics honours', 'Statistics Honours (B.Sc.)', 'Statistics ']\n",
      "\n",
      "University: University of Calcutta: \n",
      "Department: ['M.sc', 'Pure mathematics']\n",
      "\n",
      "University: Lady Brabourne College: \n",
      "Department: [nan, 'Honors (BSC/MSC)', 'Honors (BSC/MSC)', 'Honors (BSC/MSC)', 'Honors (BSC/MSC)', 'Honors (BSC/MSC)', 'Honors (BSC/MSC)', 'Honors (BSC/MSC)', 'Honors (BSC/MSC)', 'Honors (BSC/MSC)', 'Honors (BSC/MSC)']\n",
      "\n",
      "University: Jagannath Kishore college,Purulia: \n",
      "Department: ['Computer Science']\n",
      "\n",
      "University: NSU: \n",
      "Department: ['Honors (BSC/MSC)']\n",
      "\n",
      "University: NARASINHA DUTT COLLEGE: \n",
      "Department: ['Master of science in applied Mathematics']\n",
      "\n",
      "University: NARASINHA DUTT COLLEGE, UNIVERSITY OF CALCUTTA: \n",
      "Department: ['M.SC. IN APPLIED MATHEMATICS']\n",
      "\n",
      "University: Narasingha Dutt College : \n",
      "Department: ['MSc Mathematics']\n",
      "\n",
      "University: Asutosh College : \n",
      "Department: ['Statistics ']\n",
      "\n",
      "University: RKMVERI BELUR MATH: \n",
      "Department: ['MSC IN MATHEMATICS']\n",
      "\n",
      "University: Kalyani Mahabidyalaya: \n",
      "Department: [nan]\n",
      "\n",
      "University: nan: \n",
      "Department: []\n",
      "\n",
      "University: Guru NANAK INSTITUTE OF PHARMACEUTICAL SCIENCE AND TECHNOLOGY: \n",
      "Department: ['Microbiology']\n",
      "\n",
      "University: Bethune college: \n",
      "Department: ['Honors (BSC/MSC)']\n",
      "\n",
      "University: Jk college: \n",
      "Department: ['Computer science']\n",
      "\n",
      "University: Vidyasagar college for women: \n",
      "Department: ['Mathematics']\n",
      "\n",
      "University: JADAVPUR UNIVERSITY : \n",
      "Department: [' LINEAR ALGEBRA IN MATHEMATICS', 'MATHEMATICS ']\n",
      "\n",
      "University: National power training institute Nagpur: \n",
      "Department: ['Power']\n",
      "\n",
      "University: Kalyani mahavidyalay: \n",
      "Department: ['Statistics']\n",
      "\n",
      "University: Dr. B. C. Roy Engineering college: \n",
      "Department: ['Engineering']\n",
      "\n",
      "University: Kalyani Mahavidya: \n",
      "Department: [nan]\n",
      "\n",
      "University: N.P.T.I(E.R.): \n",
      "Department: ['Engineering']\n",
      "\n",
      "University:  Uttarpara Amarendra Vidyapith: \n",
      "Department: ['H.S passed']\n",
      "\n",
      "University: Durgapur institute of advanced and technology management: \n",
      "Department: ['Byech']\n",
      "\n",
      "University: Shahjalal University of Science & Technology   : \n",
      "Department: ['Engineering']\n",
      "\n",
      "University: Narasinha Dutta College: \n",
      "Department: ['APPLIES MATHEMATICS']\n",
      "\n",
      "University: Vidyasagar University: \n",
      "Department: ['Mathematics (MSC)', 'M.Sc in Mathematics', 'Mathematics']\n",
      "\n",
      "University: Vidyasagar collage : \n",
      "Department: [nan]\n",
      "\n",
      "University: RCC institute of information technology: \n",
      "Department: ['Electrical engineering']\n",
      "\n",
      "University: Durgapur institute of advance technology and managment: \n",
      "Department: ['B-tech in ece']\n",
      "\n",
      "University: Calcutta university : \n",
      "Department: ['Bsc(state )']\n",
      "\n",
      "University: Durgapur institute of advanced technology and managemant rajbandh: \n",
      "Department: [\"B-tech (ECE 2'nd year)\"]\n",
      "\n",
      "University: Durgapur Institute of advanced technology and management : \n",
      "Department: ['Mechanical engineering ']\n",
      "\n",
      "University: Surendranath college: \n",
      "Department: [nan]\n",
      "\n",
      "University: Academy Of Technology: \n",
      "Department: ['Mechanical engineering']\n",
      "\n",
      "University: Amta Ramsaday College: \n",
      "Department: ['Bsc. Hons']\n",
      "\n",
      "University: DIATM, Durgapur: \n",
      "Department: ['Mechanical']\n",
      "\n",
      "University: Jadavpur University: \n",
      "Department: ['Mathematics', 'Mathematics', 'MSc', 'Studying M.sc in mathematics', 'M.sc Mathematics']\n",
      "\n",
      "University: BETHUNE COLLEGE: \n",
      "Department: ['MATHEMATICS ']\n",
      "\n",
      "University: Durgapur Institute of Advanced Technology & Management: \n",
      "Department: ['B.tech (ECE)']\n",
      "\n",
      "University: Victoria Institution: \n",
      "Department: ['Bsc physics honours ']\n",
      "\n",
      "University: Narasinha dutt college: \n",
      "Department: ['Math (H) ']\n",
      "\n",
      "University: National power training institute (E.R) Durgapur: \n",
      "Department: ['Power engineering']\n",
      "\n",
      "University: JADAVPUR UNIVERSITY: \n",
      "Department: ['MATHEMATICS']\n",
      "\n",
      "University: Lalbaba college : \n",
      "Department: ['B.Sc']\n",
      "\n",
      "University: Aliah University : \n",
      "Department: ['Honors (BSC/MSC)']\n",
      "\n",
      "University: Maulana Azad College, Kolkata: \n",
      "Department: ['STATISTICS']\n",
      "\n",
      "University: Raja Peary Mohan college: \n",
      "Department: ['Did my graduation on mathematics']\n",
      "\n",
      "University: VIDYASAGAR UNIVERSITY, MEDINIPUR: \n",
      "Department: ['Msc in applied mathematics']\n",
      "\n",
      "University: The New Horizons Institute of Technology: \n",
      "Department: ['Engineering']\n",
      "\n",
      "University: Jogomaya Devi college : \n",
      "Department: ['Mathematics honours ']\n",
      "\n",
      "University: Vivekananda college: \n",
      "Department: [nan]\n",
      "\n",
      "University: Vivekananda College : \n",
      "Department: ['Honors (BSC/MSC)']\n",
      "\n",
      "University: Presidency University: \n",
      "Department: ['Statistics']\n",
      "\n",
      "University: Aot: \n",
      "Department: ['Mca']\n",
      "\n",
      "University: National power training institute: \n",
      "Department: ['Power plant engineering']\n",
      "\n",
      "University: RKMVERI (BELUR CAMPUS): \n",
      "Department: ['Mathematics ']\n",
      "\n",
      "University: Dr.B.C.ROY ENGINEERING COLLEGE: \n",
      "Department: ['Engineering']\n",
      "\n",
      "University: Vivekananda College,Thakurpukur: \n",
      "Department: ['B.Sc Statistics honours']\n",
      "\n",
      "University: MAULANA AZAD COLLEGE: \n",
      "Department: ['B.sc in Statistics', 'Honors (BSC/MSC)', 'Honors (BSC/MSC)']\n",
      "\n",
      "University: Future institute of technology : \n",
      "Department: ['Electronics and communication Engineering (B.Tech)']\n",
      "\n",
      "University: Future Institute of Technology: \n",
      "Department: ['ECE']\n",
      "\n",
      "University: RKMVERI, BELUR MATH: \n",
      "Department: ['Msc. Mathematics']\n",
      "\n",
      "University: Ramakrishna Mission Vivekananda Educational And Research Institute: \n",
      "Department: ['Mathematics MSc.']\n",
      "\n",
      "University: JadavpurUniversity  : \n",
      "Department: ['Msc Mathematics ']\n",
      "\n",
      "University: Vivekananda College: \n",
      "Department: ['Statistics']\n",
      "\n",
      "University: Shibpur Dinobundhoo institution: \n",
      "Department: ['Honors (BSC/MSC)']\n",
      "\n",
      "University: B P poddar institute of Management & Technology : \n",
      "Department: ['others']\n",
      "\n",
      "University: Durgapur Women's College: \n",
      "Department: ['Honors (BSC/MSC)', 'Honors (BSC/MSC)', 'Honors (BSC/MSC)', 'Honors (BSC/MSC)', 'others', 'others']\n",
      "\n",
      "University: Duragpur Women's college: \n",
      "Department: ['others']\n",
      "\n",
      "University: Durgapur women's college: \n",
      "Department: ['others', 'others', 'others', 'others', 'others', 'others', 'others', 'others', 'Honors (BSC/MSC)']\n",
      "\n",
      "University: Durgapur Womens College : \n",
      "Department: ['Honors (BSC/MSC)']\n",
      "\n",
      "University: Durgapur Women's College : \n",
      "Department: [nan, 'Honors (BSC/MSC)']\n",
      "\n",
      "University: Durgapur women's collage : \n",
      "Department: ['others']\n",
      "\n",
      "University: Durgapur Women's College   Kazi Nazrul University: \n",
      "Department: ['others']\n",
      "\n",
      "University: DURGAPUR WOMEN'S COLLEGE: \n",
      "Department: ['Honors (BSC/MSC)', 'others']\n",
      "\n",
      "University: College name - Durgapur Womens college: \n",
      "Department: ['others']\n",
      "\n",
      "University: Raniganj Girls' College : \n",
      "Department: ['Honors (BSC/MSC)']\n",
      "\n",
      "University: KAJI najrul invercity: \n",
      "Department: ['BCA']\n",
      "\n",
      "University: Durgapur woman's college : \n",
      "Department: ['others']\n",
      "\n",
      "University: Durgapur women's college : \n",
      "Department: ['others']\n",
      "\n",
      "University: Durgapur women's College: \n",
      "Department: ['Honors (BSC/MSC)']\n",
      "\n",
      "University: DURGAPUR GOVERNMENT COLLEGE: \n",
      "Department: ['others']\n",
      "\n",
      "University: Durgapur government college: \n",
      "Department: ['Honors (BSC/MSC)']\n",
      "\n",
      "University: Women's collage: \n",
      "Department: ['others']\n",
      "\n",
      "University: Durgapur WOMEN'S college : \n",
      "Department: ['others']\n",
      "\n",
      "University: Regent Education And Research Foundation: \n",
      "Department: ['Engineering', 'Engineering', 'Engineering']\n",
      "\n",
      "University: Regent education & research foundation barrackpore: \n",
      "Department: ['Engineering']\n",
      "\n",
      "University: RERF: \n",
      "Department: ['Engineering', 'Engineering']\n",
      "\n",
      "University: Rerf: \n",
      "Department: ['Engineering']\n",
      "\n",
      "University: Regent Education and Research Foundation: \n",
      "Department: ['Engineering', 'Engineering', 'Engineering', 'Engineering', 'Engineering']\n",
      "\n",
      "University: Regent Education and Research Foundation : \n",
      "Department: ['Engineering', 'Engineering']\n",
      "\n",
      "University: Regent Education and Research Foundation Group of Institutions: \n",
      "Department: ['Engineering']\n",
      "\n",
      "University: Regent Education &Research Foundation: \n",
      "Department: ['Engineering']\n",
      "\n",
      "University: Regent Education and Research foundation: \n",
      "Department: ['Engineering', 'Engineering']\n",
      "\n",
      "University: Regent Education & Research Foundation: \n",
      "Department: ['Engineering', 'Engineering', nan]\n",
      "\n",
      "University: REGENT EDUCATION & RESEARCH FOUNDATION: \n",
      "Department: ['Engineering']\n",
      "\n",
      "University: Regent education and research foundation : \n",
      "Department: ['Engineering']\n",
      "\n",
      "University: Regent education and research foundation: \n",
      "Department: ['Engineering']\n",
      "\n",
      "University: RRERF: \n",
      "Department: ['Engineering']\n",
      "\n",
      "University: Regent Education and Research foundation : \n",
      "Department: ['Engineering']\n",
      "\n",
      "University: Lady braboune college: \n",
      "Department: ['Honors (BSC/MSC)']\n",
      "\n",
      "University: Lady Brabourne college : \n",
      "Department: ['Honors (BSC/MSC)']\n",
      "\n",
      "University: Lady brabourne college: \n",
      "Department: ['Honors (BSC/MSC)', 'others']\n",
      "\n",
      "University: Lady Brabourne College : \n",
      "Department: ['Honors (BSC/MSC)', 'Honors (BSC/MSC)', 'Honors (BSC/MSC)']\n",
      "\n",
      "University: Lady Brabourne college: \n",
      "Department: ['others', 'Honors (BSC/MSC)']\n",
      "\n",
      "University: Lady Braboune Collage: \n",
      "Department: ['Honors (BSC/MSC)']\n",
      "\n",
      "University: Maulana Azad College: \n",
      "Department: ['Honors (BSC/MSC)', 'Honors (BSC/MSC)', 'Honors (BSC/MSC)', 'Honors (BSC/MSC)', 'Honors (BSC/MSC)', 'Honors (BSC/MSC)', 'Honors (BSC/MSC)', 'Honors (BSC/MSC)', 'Honors (BSC/MSC)', 'Honors (BSC/MSC)', 'Honors (BSC/MSC)', 'Honors (BSC/MSC)', 'Honors (BSC/MSC)', 'Honors (BSC/MSC)', 'Honors (BSC/MSC)', 'Honors (BSC/MSC)', 'Honors (BSC/MSC)']\n",
      "\n",
      "University: Maulana Azad college: \n",
      "Department: ['Honors (BSC/MSC)', 'Honors (BSC/MSC)', 'Honors (BSC/MSC)', 'Honors (BSC/MSC)']\n",
      "\n",
      "University: Moulana azad college: \n",
      "Department: ['Honors (BSC/MSC)']\n",
      "\n",
      "University: Moulana Azad College: \n",
      "Department: ['Honors (BSC/MSC)']\n",
      "\n",
      "University: MAULANA AZAD COLLEGE : \n",
      "Department: ['Honors (BSC/MSC)', 'Honors (BSC/MSC)']\n",
      "\n",
      "University: maulana azad college: \n",
      "Department: ['Honors (BSC/MSC)']\n",
      "\n",
      "University: Maulana Azad College, University Of Calcutta: \n",
      "Department: ['Honors (BSC/MSC)']\n",
      "\n",
      "University: Maulana azad college : \n",
      "Department: ['Honors (BSC/MSC)']\n",
      "\n",
      "University: Maulona Azad College: \n",
      "Department: ['Honors (BSC/MSC)']\n",
      "\n"
     ]
    }
   ],
   "source": [
    "#Total department under a university from students do not have laptop\n",
    "for v in nolaptop_uni:\n",
    "    departments = nolaptop.loc[nolaptop.College == v, 'Department'].values\n",
    "    print(f\"University: {v}: \\nDepartment: {list(departments)}\\n\")"
   ]
  },
  {
   "cell_type": "code",
   "execution_count": 210,
   "metadata": {},
   "outputs": [
    {
     "data": {
      "text/plain": [
       "array(['India', 'Bangladesh', nan], dtype=object)"
      ]
     },
     "execution_count": 210,
     "metadata": {},
     "output_type": "execute_result"
    }
   ],
   "source": [
    "#total participate university\n",
    "country = nolaptop.Country.unique()\n",
    "country"
   ]
  },
  {
   "cell_type": "code",
   "execution_count": 220,
   "metadata": {},
   "outputs": [
    {
     "data": {
      "text/html": [
       "<div>\n",
       "<style scoped>\n",
       "    .dataframe tbody tr th:only-of-type {\n",
       "        vertical-align: middle;\n",
       "    }\n",
       "\n",
       "    .dataframe tbody tr th {\n",
       "        vertical-align: top;\n",
       "    }\n",
       "\n",
       "    .dataframe thead th {\n",
       "        text-align: right;\n",
       "    }\n",
       "</style>\n",
       "<table border=\"1\" class=\"dataframe\">\n",
       "  <thead>\n",
       "    <tr style=\"text-align: right;\">\n",
       "      <th></th>\n",
       "      <th>College</th>\n",
       "    </tr>\n",
       "    <tr>\n",
       "      <th>College</th>\n",
       "      <th></th>\n",
       "    </tr>\n",
       "  </thead>\n",
       "  <tbody>\n",
       "    <tr>\n",
       "      <th>Uttarpara Amarendra Vidyapith</th>\n",
       "      <td>1</td>\n",
       "    </tr>\n",
       "    <tr>\n",
       "      <th>Academy Of Technology</th>\n",
       "      <td>1</td>\n",
       "    </tr>\n",
       "    <tr>\n",
       "      <th>Aliah University</th>\n",
       "      <td>1</td>\n",
       "    </tr>\n",
       "    <tr>\n",
       "      <th>Amta Ramsaday College</th>\n",
       "      <td>1</td>\n",
       "    </tr>\n",
       "    <tr>\n",
       "      <th>Aot</th>\n",
       "      <td>1</td>\n",
       "    </tr>\n",
       "    <tr>\n",
       "      <th>...</th>\n",
       "      <td>...</td>\n",
       "    </tr>\n",
       "    <tr>\n",
       "      <th>Vivekananda College</th>\n",
       "      <td>1</td>\n",
       "    </tr>\n",
       "    <tr>\n",
       "      <th>Vivekananda College,Thakurpukur</th>\n",
       "      <td>1</td>\n",
       "    </tr>\n",
       "    <tr>\n",
       "      <th>Vivekananda college</th>\n",
       "      <td>1</td>\n",
       "    </tr>\n",
       "    <tr>\n",
       "      <th>Women's collage</th>\n",
       "      <td>1</td>\n",
       "    </tr>\n",
       "    <tr>\n",
       "      <th>maulana azad college</th>\n",
       "      <td>1</td>\n",
       "    </tr>\n",
       "  </tbody>\n",
       "</table>\n",
       "<p>124 rows × 1 columns</p>\n",
       "</div>"
      ],
      "text/plain": [
       "                                 College\n",
       "College                                 \n",
       " Uttarpara Amarendra Vidyapith         1\n",
       "Academy Of Technology                  1\n",
       "Aliah University                       1\n",
       "Amta Ramsaday College                  1\n",
       "Aot                                    1\n",
       "...                                  ...\n",
       "Vivekananda College                    1\n",
       "Vivekananda College,Thakurpukur        1\n",
       "Vivekananda college                    1\n",
       "Women's collage                        1\n",
       "maulana azad college                   1\n",
       "\n",
       "[124 rows x 1 columns]"
      ]
     },
     "execution_count": 220,
     "metadata": {},
     "output_type": "execute_result"
    }
   ],
   "source": [
    "#collega data counting all college\n",
    "nolaptop1 = nolaptop.groupby('College')['College'].agg('count')\n",
    "college_no_laptop= pd.DataFrame(nolaptop1)\n",
    "college_no_laptop"
   ]
  },
  {
   "cell_type": "code",
   "execution_count": 221,
   "metadata": {},
   "outputs": [
    {
     "data": {
      "text/html": [
       "<div>\n",
       "<style scoped>\n",
       "    .dataframe tbody tr th:only-of-type {\n",
       "        vertical-align: middle;\n",
       "    }\n",
       "\n",
       "    .dataframe tbody tr th {\n",
       "        vertical-align: top;\n",
       "    }\n",
       "\n",
       "    .dataframe thead th {\n",
       "        text-align: right;\n",
       "    }\n",
       "</style>\n",
       "<table border=\"1\" class=\"dataframe\">\n",
       "  <thead>\n",
       "    <tr style=\"text-align: right;\">\n",
       "      <th></th>\n",
       "      <th>no_laptop_counts</th>\n",
       "    </tr>\n",
       "    <tr>\n",
       "      <th>College</th>\n",
       "      <th></th>\n",
       "    </tr>\n",
       "  </thead>\n",
       "  <tbody>\n",
       "    <tr>\n",
       "      <th>Uttarpara Amarendra Vidyapith</th>\n",
       "      <td>1</td>\n",
       "    </tr>\n",
       "    <tr>\n",
       "      <th>Academy Of Technology</th>\n",
       "      <td>1</td>\n",
       "    </tr>\n",
       "    <tr>\n",
       "      <th>Aliah University</th>\n",
       "      <td>1</td>\n",
       "    </tr>\n",
       "    <tr>\n",
       "      <th>Amta Ramsaday College</th>\n",
       "      <td>1</td>\n",
       "    </tr>\n",
       "    <tr>\n",
       "      <th>Aot</th>\n",
       "      <td>1</td>\n",
       "    </tr>\n",
       "    <tr>\n",
       "      <th>...</th>\n",
       "      <td>...</td>\n",
       "    </tr>\n",
       "    <tr>\n",
       "      <th>Vivekananda College</th>\n",
       "      <td>1</td>\n",
       "    </tr>\n",
       "    <tr>\n",
       "      <th>Vivekananda College,Thakurpukur</th>\n",
       "      <td>1</td>\n",
       "    </tr>\n",
       "    <tr>\n",
       "      <th>Vivekananda college</th>\n",
       "      <td>1</td>\n",
       "    </tr>\n",
       "    <tr>\n",
       "      <th>Women's collage</th>\n",
       "      <td>1</td>\n",
       "    </tr>\n",
       "    <tr>\n",
       "      <th>maulana azad college</th>\n",
       "      <td>1</td>\n",
       "    </tr>\n",
       "  </tbody>\n",
       "</table>\n",
       "<p>124 rows × 1 columns</p>\n",
       "</div>"
      ],
      "text/plain": [
       "                                 no_laptop_counts\n",
       "College                                          \n",
       " Uttarpara Amarendra Vidyapith                  1\n",
       "Academy Of Technology                           1\n",
       "Aliah University                                1\n",
       "Amta Ramsaday College                           1\n",
       "Aot                                             1\n",
       "...                                           ...\n",
       "Vivekananda College                             1\n",
       "Vivekananda College,Thakurpukur                 1\n",
       "Vivekananda college                             1\n",
       "Women's collage                                 1\n",
       "maulana azad college                            1\n",
       "\n",
       "[124 rows x 1 columns]"
      ]
     },
     "execution_count": 221,
     "metadata": {},
     "output_type": "execute_result"
    }
   ],
   "source": [
    "#renameing to total_counts of department data\n",
    "college_no_laptop.rename(columns={\"College\": \"no_laptop_counts\"},inplace=True)\n",
    "college_no_laptop"
   ]
  },
  {
   "cell_type": "code",
   "execution_count": 222,
   "metadata": {},
   "outputs": [
    {
     "data": {
      "text/html": [
       "<div>\n",
       "<style scoped>\n",
       "    .dataframe tbody tr th:only-of-type {\n",
       "        vertical-align: middle;\n",
       "    }\n",
       "\n",
       "    .dataframe tbody tr th {\n",
       "        vertical-align: top;\n",
       "    }\n",
       "\n",
       "    .dataframe thead th {\n",
       "        text-align: right;\n",
       "    }\n",
       "</style>\n",
       "<table border=\"1\" class=\"dataframe\">\n",
       "  <thead>\n",
       "    <tr style=\"text-align: right;\">\n",
       "      <th></th>\n",
       "      <th>College</th>\n",
       "      <th>no_laptop_counts</th>\n",
       "    </tr>\n",
       "  </thead>\n",
       "  <tbody>\n",
       "    <tr>\n",
       "      <th>0</th>\n",
       "      <td>Uttarpara Amarendra Vidyapith</td>\n",
       "      <td>1</td>\n",
       "    </tr>\n",
       "    <tr>\n",
       "      <th>1</th>\n",
       "      <td>Academy Of Technology</td>\n",
       "      <td>1</td>\n",
       "    </tr>\n",
       "    <tr>\n",
       "      <th>2</th>\n",
       "      <td>Aliah University</td>\n",
       "      <td>1</td>\n",
       "    </tr>\n",
       "    <tr>\n",
       "      <th>3</th>\n",
       "      <td>Amta Ramsaday College</td>\n",
       "      <td>1</td>\n",
       "    </tr>\n",
       "    <tr>\n",
       "      <th>4</th>\n",
       "      <td>Aot</td>\n",
       "      <td>1</td>\n",
       "    </tr>\n",
       "    <tr>\n",
       "      <th>...</th>\n",
       "      <td>...</td>\n",
       "      <td>...</td>\n",
       "    </tr>\n",
       "    <tr>\n",
       "      <th>119</th>\n",
       "      <td>Vivekananda College</td>\n",
       "      <td>1</td>\n",
       "    </tr>\n",
       "    <tr>\n",
       "      <th>120</th>\n",
       "      <td>Vivekananda College,Thakurpukur</td>\n",
       "      <td>1</td>\n",
       "    </tr>\n",
       "    <tr>\n",
       "      <th>121</th>\n",
       "      <td>Vivekananda college</td>\n",
       "      <td>1</td>\n",
       "    </tr>\n",
       "    <tr>\n",
       "      <th>122</th>\n",
       "      <td>Women's collage</td>\n",
       "      <td>1</td>\n",
       "    </tr>\n",
       "    <tr>\n",
       "      <th>123</th>\n",
       "      <td>maulana azad college</td>\n",
       "      <td>1</td>\n",
       "    </tr>\n",
       "  </tbody>\n",
       "</table>\n",
       "<p>124 rows × 2 columns</p>\n",
       "</div>"
      ],
      "text/plain": [
       "                             College  no_laptop_counts\n",
       "0      Uttarpara Amarendra Vidyapith                 1\n",
       "1              Academy Of Technology                 1\n",
       "2                  Aliah University                  1\n",
       "3              Amta Ramsaday College                 1\n",
       "4                                Aot                 1\n",
       "..                               ...               ...\n",
       "119             Vivekananda College                  1\n",
       "120  Vivekananda College,Thakurpukur                 1\n",
       "121              Vivekananda college                 1\n",
       "122                  Women's collage                 1\n",
       "123             maulana azad college                 1\n",
       "\n",
       "[124 rows x 2 columns]"
      ]
     },
     "execution_count": 222,
     "metadata": {},
     "output_type": "execute_result"
    }
   ],
   "source": [
    "college_no_laptop.reset_index(inplace=True)\n",
    "college_no_laptop"
   ]
  },
  {
   "cell_type": "code",
   "execution_count": 224,
   "metadata": {},
   "outputs": [
    {
     "data": {
      "text/html": [
       "<div>\n",
       "<style scoped>\n",
       "    .dataframe tbody tr th:only-of-type {\n",
       "        vertical-align: middle;\n",
       "    }\n",
       "\n",
       "    .dataframe tbody tr th {\n",
       "        vertical-align: top;\n",
       "    }\n",
       "\n",
       "    .dataframe thead th {\n",
       "        text-align: right;\n",
       "    }\n",
       "</style>\n",
       "<table border=\"1\" class=\"dataframe\">\n",
       "  <thead>\n",
       "    <tr style=\"text-align: right;\">\n",
       "      <th></th>\n",
       "      <th>College</th>\n",
       "      <th>no_laptop_counts</th>\n",
       "    </tr>\n",
       "  </thead>\n",
       "  <tbody>\n",
       "    <tr>\n",
       "      <th>63</th>\n",
       "      <td>Maulana Azad College</td>\n",
       "      <td>17</td>\n",
       "    </tr>\n",
       "    <tr>\n",
       "      <th>54</th>\n",
       "      <td>Lady Brabourne College</td>\n",
       "      <td>11</td>\n",
       "    </tr>\n",
       "    <tr>\n",
       "      <th>33</th>\n",
       "      <td>Durgapur women's college</td>\n",
       "      <td>9</td>\n",
       "    </tr>\n",
       "    <tr>\n",
       "      <th>22</th>\n",
       "      <td>Durgapur Women's College</td>\n",
       "      <td>6</td>\n",
       "    </tr>\n",
       "    <tr>\n",
       "      <th>64</th>\n",
       "      <td>Maulana Azad College</td>\n",
       "      <td>5</td>\n",
       "    </tr>\n",
       "    <tr>\n",
       "      <th>...</th>\n",
       "      <td>...</td>\n",
       "      <td>...</td>\n",
       "    </tr>\n",
       "    <tr>\n",
       "      <th>37</th>\n",
       "      <td>Global Nature Care Sangathan Group Of Institut...</td>\n",
       "      <td>1</td>\n",
       "    </tr>\n",
       "    <tr>\n",
       "      <th>36</th>\n",
       "      <td>Future institute of technology</td>\n",
       "      <td>1</td>\n",
       "    </tr>\n",
       "    <tr>\n",
       "      <th>35</th>\n",
       "      <td>Future Institute of Technology</td>\n",
       "      <td>1</td>\n",
       "    </tr>\n",
       "    <tr>\n",
       "      <th>34</th>\n",
       "      <td>Durgapur women's college</td>\n",
       "      <td>1</td>\n",
       "    </tr>\n",
       "    <tr>\n",
       "      <th>123</th>\n",
       "      <td>maulana azad college</td>\n",
       "      <td>1</td>\n",
       "    </tr>\n",
       "  </tbody>\n",
       "</table>\n",
       "<p>124 rows × 2 columns</p>\n",
       "</div>"
      ],
      "text/plain": [
       "                                               College  no_laptop_counts\n",
       "63                                Maulana Azad College                17\n",
       "54                              Lady Brabourne College                11\n",
       "33                            Durgapur women's college                 9\n",
       "22                            Durgapur Women's College                 6\n",
       "64                               Maulana Azad College                  5\n",
       "..                                                 ...               ...\n",
       "37   Global Nature Care Sangathan Group Of Institut...                 1\n",
       "36                     Future institute of technology                  1\n",
       "35                      Future Institute of Technology                 1\n",
       "34                           Durgapur women's college                  1\n",
       "123                               maulana azad college                 1\n",
       "\n",
       "[124 rows x 2 columns]"
      ]
     },
     "execution_count": 224,
     "metadata": {},
     "output_type": "execute_result"
    }
   ],
   "source": [
    "college_no_laptop.sort_values(\"no_laptop_counts\", ascending=False)"
   ]
  },
  {
   "cell_type": "code",
   "execution_count": 230,
   "metadata": {},
   "outputs": [
    {
     "data": {
      "application/vnd.plotly.v1+json": {
       "config": {
        "linkText": "Export to plot.ly",
        "plotlyServerURL": "https://plot.ly",
        "showLink": false
       },
       "data": [
        {
         "marker": {
          "color": "lightgreen"
         },
         "text": [
          "Maulana Azad College",
          "Lady Brabourne College",
          "Durgapur women's college",
          "Durgapur Women's College",
          "Maulana Azad College ",
          "Jadavpur University",
          "Regent Education and Research Foundation",
          "Maulana Azad college",
          "Kalyani Mahavidyalaya",
          "Asutosh College",
          "Regent Education & Research Foundation",
          "Lady Brabourne College ",
          "MAULANA AZAD COLLEGE",
          "Vidyasagar University",
          "Regent Education And Research Foundation",
          "RERF",
          "Regent Education and Research Foundation ",
          "Regent Education and Research foundation",
          "Durgapur Women's College ",
          "MAULANA AZAD COLLEGE ",
          "Lady brabourne college",
          "University of Calcutta",
          "DURGAPUR WOMEN'S COLLEGE",
          "JADAVPUR UNIVERSITY ",
          "Lady Brabourne college",
          "National power training institute (E.R) Durgapur",
          "NSU",
          "N.P.T.I(E.R.)",
          "RKMVERI (BELUR CAMPUS)",
          "NARASINHA DUTT COLLEGE",
          "REGENT EDUCATION & RESEARCH FOUNDATION",
          "RCC institute of information technology",
          "NARASINHA DUTT COLLEGE, UNIVERSITY OF CALCUTTA",
          "Purulia zilla school ",
          "Narasinha Dutta College",
          "Narasingha Dutt College ",
          "National power training institute",
          "Presidency University",
          "Narasinha dutt college",
          "National power training institute Nagpur",
          "RKMVERI BELUR MATH",
          "Raniganj Girls' College ",
          "RKMVERI, BELUR MATH",
          "RRERF",
          "Women's collage",
          "Vivekananda college",
          "Vivekananda College,Thakurpukur",
          "Vivekananda College ",
          "Vivekananda College",
          "Viswass school & college of nursing",
          "Vidyasagar college for women",
          "Vidyasagar collage ",
          "Victoria Institution",
          "VIDYASAGAR UNIVERSITY, MEDINIPUR",
          "The New Horizons Institute of Technology",
          "Surendranath college",
          "Shibpur Dinobundhoo institution",
          "Shahjalal University of Science & Technology   ",
          "Rerf",
          "Regent education and research foundation ",
          "Regent education and research foundation",
          "Regent education & research foundation barrackpore",
          "Regent Education and Research foundation ",
          "Regent Education and Research Foundation Group of Institutions",
          "Regent Education &Research Foundation",
          "Moulana Azad College",
          "Ramakrishna Mission Vivekananda Educational And Research Institute",
          "Ramakrishna Mission Shilpapitha",
          "Raja Peary Mohan college",
          "Moulana azad college",
          " Uttarpara Amarendra Vidyapith",
          "Maulona Azad College",
          "Durgapur woman's college ",
          "Durgapur institute of advanced and technology management",
          "Durgapur institute of advance technology and managment",
          "Durgapur government college",
          "Durgapur Womens College ",
          "Durgapur Women's College   Kazi Nazrul University",
          "Durgapur WOMEN'S college ",
          "Durgapur Institute of advanced technology and management ",
          "Durgapur Institute of Advanced Technology & Management",
          "Durgapur Institute Of Advance Technology and Management",
          "Duragpur Women's college",
          "Dr.B.C.ROY ENGINEERING COLLEGE",
          "Dr. B. C. Roy Engineering college",
          "DURGAPUR GOVERNMENT COLLEGE",
          "DIATM, Durgapur",
          "College name - Durgapur Womens college",
          "Calcutta university ",
          "Bethune college",
          "BETHUNE COLLEGE",
          "B P poddar institute of Management & Technology ",
          "Asutosh College ",
          "Aot",
          "Amta Ramsaday College",
          "Aliah University ",
          "Durgapur institute of advanced technology and managemant rajbandh",
          "Durgapur women's College",
          "Maulana azad college ",
          "Durgapur women's collage ",
          "Maulana Azad College, University Of Calcutta",
          "Maulana Azad College, Kolkata",
          "Academy Of Technology",
          "Lalbaba college ",
          "Lady braboune college",
          "Lady Brabourne college ",
          "Lady Braboune Collage",
          "Kalyani mahavidyalay",
          "Kalyani Mahavidya",
          "Kalyani Mahabidyalaya",
          "KAJI najrul invercity",
          "Jogomaya Devi college ",
          "Jk college",
          "Jagannath Kishore college,Purulia",
          "JadavpurUniversity  ",
          "JADAVPUR UNIVERSITY",
          "J.K College",
          "Insitiution of engineering and managment",
          "Guru NANAK INSTITUTE OF PHARMACEUTICAL SCIENCE AND TECHNOLOGY",
          "Global Nature Care Sangathan Group Of Institutions",
          "Future institute of technology ",
          "Future Institute of Technology",
          "Durgapur women's college ",
          "maulana azad college"
         ],
         "type": "bar",
         "x": [
          "Maulana Azad College",
          "Lady Brabourne College",
          "Durgapur women's college",
          "Durgapur Women's College",
          "Maulana Azad College ",
          "Jadavpur University",
          "Regent Education and Research Foundation",
          "Maulana Azad college",
          "Kalyani Mahavidyalaya",
          "Asutosh College",
          "Regent Education & Research Foundation",
          "Lady Brabourne College ",
          "MAULANA AZAD COLLEGE",
          "Vidyasagar University",
          "Regent Education And Research Foundation",
          "RERF",
          "Regent Education and Research Foundation ",
          "Regent Education and Research foundation",
          "Durgapur Women's College ",
          "MAULANA AZAD COLLEGE ",
          "Lady brabourne college",
          "University of Calcutta",
          "DURGAPUR WOMEN'S COLLEGE",
          "JADAVPUR UNIVERSITY ",
          "Lady Brabourne college",
          "National power training institute (E.R) Durgapur",
          "NSU",
          "N.P.T.I(E.R.)",
          "RKMVERI (BELUR CAMPUS)",
          "NARASINHA DUTT COLLEGE",
          "REGENT EDUCATION & RESEARCH FOUNDATION",
          "RCC institute of information technology",
          "NARASINHA DUTT COLLEGE, UNIVERSITY OF CALCUTTA",
          "Purulia zilla school ",
          "Narasinha Dutta College",
          "Narasingha Dutt College ",
          "National power training institute",
          "Presidency University",
          "Narasinha dutt college",
          "National power training institute Nagpur",
          "RKMVERI BELUR MATH",
          "Raniganj Girls' College ",
          "RKMVERI, BELUR MATH",
          "RRERF",
          "Women's collage",
          "Vivekananda college",
          "Vivekananda College,Thakurpukur",
          "Vivekananda College ",
          "Vivekananda College",
          "Viswass school & college of nursing",
          "Vidyasagar college for women",
          "Vidyasagar collage ",
          "Victoria Institution",
          "VIDYASAGAR UNIVERSITY, MEDINIPUR",
          "The New Horizons Institute of Technology",
          "Surendranath college",
          "Shibpur Dinobundhoo institution",
          "Shahjalal University of Science & Technology   ",
          "Rerf",
          "Regent education and research foundation ",
          "Regent education and research foundation",
          "Regent education & research foundation barrackpore",
          "Regent Education and Research foundation ",
          "Regent Education and Research Foundation Group of Institutions",
          "Regent Education &Research Foundation",
          "Moulana Azad College",
          "Ramakrishna Mission Vivekananda Educational And Research Institute",
          "Ramakrishna Mission Shilpapitha",
          "Raja Peary Mohan college",
          "Moulana azad college",
          " Uttarpara Amarendra Vidyapith",
          "Maulona Azad College",
          "Durgapur woman's college ",
          "Durgapur institute of advanced and technology management",
          "Durgapur institute of advance technology and managment",
          "Durgapur government college",
          "Durgapur Womens College ",
          "Durgapur Women's College   Kazi Nazrul University",
          "Durgapur WOMEN'S college ",
          "Durgapur Institute of advanced technology and management ",
          "Durgapur Institute of Advanced Technology & Management",
          "Durgapur Institute Of Advance Technology and Management",
          "Duragpur Women's college",
          "Dr.B.C.ROY ENGINEERING COLLEGE",
          "Dr. B. C. Roy Engineering college",
          "DURGAPUR GOVERNMENT COLLEGE",
          "DIATM, Durgapur",
          "College name - Durgapur Womens college",
          "Calcutta university ",
          "Bethune college",
          "BETHUNE COLLEGE",
          "B P poddar institute of Management & Technology ",
          "Asutosh College ",
          "Aot",
          "Amta Ramsaday College",
          "Aliah University ",
          "Durgapur institute of advanced technology and managemant rajbandh",
          "Durgapur women's College",
          "Maulana azad college ",
          "Durgapur women's collage ",
          "Maulana Azad College, University Of Calcutta",
          "Maulana Azad College, Kolkata",
          "Academy Of Technology",
          "Lalbaba college ",
          "Lady braboune college",
          "Lady Brabourne college ",
          "Lady Braboune Collage",
          "Kalyani mahavidyalay",
          "Kalyani Mahavidya",
          "Kalyani Mahabidyalaya",
          "KAJI najrul invercity",
          "Jogomaya Devi college ",
          "Jk college",
          "Jagannath Kishore college,Purulia",
          "JadavpurUniversity  ",
          "JADAVPUR UNIVERSITY",
          "J.K College",
          "Insitiution of engineering and managment",
          "Guru NANAK INSTITUTE OF PHARMACEUTICAL SCIENCE AND TECHNOLOGY",
          "Global Nature Care Sangathan Group Of Institutions",
          "Future institute of technology ",
          "Future Institute of Technology",
          "Durgapur women's college ",
          "maulana azad college"
         ],
         "y": [
          17,
          11,
          9,
          6,
          5,
          5,
          5,
          4,
          4,
          3,
          3,
          3,
          3,
          3,
          3,
          2,
          2,
          2,
          2,
          2,
          2,
          2,
          2,
          2,
          2,
          1,
          1,
          1,
          1,
          1,
          1,
          1,
          1,
          1,
          1,
          1,
          1,
          1,
          1,
          1,
          1,
          1,
          1,
          1,
          1,
          1,
          1,
          1,
          1,
          1,
          1,
          1,
          1,
          1,
          1,
          1,
          1,
          1,
          1,
          1,
          1,
          1,
          1,
          1,
          1,
          1,
          1,
          1,
          1,
          1,
          1,
          1,
          1,
          1,
          1,
          1,
          1,
          1,
          1,
          1,
          1,
          1,
          1,
          1,
          1,
          1,
          1,
          1,
          1,
          1,
          1,
          1,
          1,
          1,
          1,
          1,
          1,
          1,
          1,
          1,
          1,
          1,
          1,
          1,
          1,
          1,
          1,
          1,
          1,
          1,
          1,
          1,
          1,
          1,
          1,
          1,
          1,
          1,
          1,
          1,
          1,
          1,
          1,
          1
         ]
        }
       ],
       "layout": {
        "hovermode": "closest",
        "paper_bgcolor": "rgba(0, 0, 0, 0)",
        "plot_bgcolor": "rgba(0, 0, 0, 0)",
        "template": {
         "data": {
          "bar": [
           {
            "error_x": {
             "color": "#2a3f5f"
            },
            "error_y": {
             "color": "#2a3f5f"
            },
            "marker": {
             "line": {
              "color": "#E5ECF6",
              "width": 0.5
             }
            },
            "type": "bar"
           }
          ],
          "barpolar": [
           {
            "marker": {
             "line": {
              "color": "#E5ECF6",
              "width": 0.5
             }
            },
            "type": "barpolar"
           }
          ],
          "carpet": [
           {
            "aaxis": {
             "endlinecolor": "#2a3f5f",
             "gridcolor": "white",
             "linecolor": "white",
             "minorgridcolor": "white",
             "startlinecolor": "#2a3f5f"
            },
            "baxis": {
             "endlinecolor": "#2a3f5f",
             "gridcolor": "white",
             "linecolor": "white",
             "minorgridcolor": "white",
             "startlinecolor": "#2a3f5f"
            },
            "type": "carpet"
           }
          ],
          "choropleth": [
           {
            "colorbar": {
             "outlinewidth": 0,
             "ticks": ""
            },
            "type": "choropleth"
           }
          ],
          "contour": [
           {
            "colorbar": {
             "outlinewidth": 0,
             "ticks": ""
            },
            "colorscale": [
             [
              0,
              "#0d0887"
             ],
             [
              0.1111111111111111,
              "#46039f"
             ],
             [
              0.2222222222222222,
              "#7201a8"
             ],
             [
              0.3333333333333333,
              "#9c179e"
             ],
             [
              0.4444444444444444,
              "#bd3786"
             ],
             [
              0.5555555555555556,
              "#d8576b"
             ],
             [
              0.6666666666666666,
              "#ed7953"
             ],
             [
              0.7777777777777778,
              "#fb9f3a"
             ],
             [
              0.8888888888888888,
              "#fdca26"
             ],
             [
              1,
              "#f0f921"
             ]
            ],
            "type": "contour"
           }
          ],
          "contourcarpet": [
           {
            "colorbar": {
             "outlinewidth": 0,
             "ticks": ""
            },
            "type": "contourcarpet"
           }
          ],
          "heatmap": [
           {
            "colorbar": {
             "outlinewidth": 0,
             "ticks": ""
            },
            "colorscale": [
             [
              0,
              "#0d0887"
             ],
             [
              0.1111111111111111,
              "#46039f"
             ],
             [
              0.2222222222222222,
              "#7201a8"
             ],
             [
              0.3333333333333333,
              "#9c179e"
             ],
             [
              0.4444444444444444,
              "#bd3786"
             ],
             [
              0.5555555555555556,
              "#d8576b"
             ],
             [
              0.6666666666666666,
              "#ed7953"
             ],
             [
              0.7777777777777778,
              "#fb9f3a"
             ],
             [
              0.8888888888888888,
              "#fdca26"
             ],
             [
              1,
              "#f0f921"
             ]
            ],
            "type": "heatmap"
           }
          ],
          "heatmapgl": [
           {
            "colorbar": {
             "outlinewidth": 0,
             "ticks": ""
            },
            "colorscale": [
             [
              0,
              "#0d0887"
             ],
             [
              0.1111111111111111,
              "#46039f"
             ],
             [
              0.2222222222222222,
              "#7201a8"
             ],
             [
              0.3333333333333333,
              "#9c179e"
             ],
             [
              0.4444444444444444,
              "#bd3786"
             ],
             [
              0.5555555555555556,
              "#d8576b"
             ],
             [
              0.6666666666666666,
              "#ed7953"
             ],
             [
              0.7777777777777778,
              "#fb9f3a"
             ],
             [
              0.8888888888888888,
              "#fdca26"
             ],
             [
              1,
              "#f0f921"
             ]
            ],
            "type": "heatmapgl"
           }
          ],
          "histogram": [
           {
            "marker": {
             "colorbar": {
              "outlinewidth": 0,
              "ticks": ""
             }
            },
            "type": "histogram"
           }
          ],
          "histogram2d": [
           {
            "colorbar": {
             "outlinewidth": 0,
             "ticks": ""
            },
            "colorscale": [
             [
              0,
              "#0d0887"
             ],
             [
              0.1111111111111111,
              "#46039f"
             ],
             [
              0.2222222222222222,
              "#7201a8"
             ],
             [
              0.3333333333333333,
              "#9c179e"
             ],
             [
              0.4444444444444444,
              "#bd3786"
             ],
             [
              0.5555555555555556,
              "#d8576b"
             ],
             [
              0.6666666666666666,
              "#ed7953"
             ],
             [
              0.7777777777777778,
              "#fb9f3a"
             ],
             [
              0.8888888888888888,
              "#fdca26"
             ],
             [
              1,
              "#f0f921"
             ]
            ],
            "type": "histogram2d"
           }
          ],
          "histogram2dcontour": [
           {
            "colorbar": {
             "outlinewidth": 0,
             "ticks": ""
            },
            "colorscale": [
             [
              0,
              "#0d0887"
             ],
             [
              0.1111111111111111,
              "#46039f"
             ],
             [
              0.2222222222222222,
              "#7201a8"
             ],
             [
              0.3333333333333333,
              "#9c179e"
             ],
             [
              0.4444444444444444,
              "#bd3786"
             ],
             [
              0.5555555555555556,
              "#d8576b"
             ],
             [
              0.6666666666666666,
              "#ed7953"
             ],
             [
              0.7777777777777778,
              "#fb9f3a"
             ],
             [
              0.8888888888888888,
              "#fdca26"
             ],
             [
              1,
              "#f0f921"
             ]
            ],
            "type": "histogram2dcontour"
           }
          ],
          "mesh3d": [
           {
            "colorbar": {
             "outlinewidth": 0,
             "ticks": ""
            },
            "type": "mesh3d"
           }
          ],
          "parcoords": [
           {
            "line": {
             "colorbar": {
              "outlinewidth": 0,
              "ticks": ""
             }
            },
            "type": "parcoords"
           }
          ],
          "pie": [
           {
            "automargin": true,
            "type": "pie"
           }
          ],
          "scatter": [
           {
            "marker": {
             "colorbar": {
              "outlinewidth": 0,
              "ticks": ""
             }
            },
            "type": "scatter"
           }
          ],
          "scatter3d": [
           {
            "line": {
             "colorbar": {
              "outlinewidth": 0,
              "ticks": ""
             }
            },
            "marker": {
             "colorbar": {
              "outlinewidth": 0,
              "ticks": ""
             }
            },
            "type": "scatter3d"
           }
          ],
          "scattercarpet": [
           {
            "marker": {
             "colorbar": {
              "outlinewidth": 0,
              "ticks": ""
             }
            },
            "type": "scattercarpet"
           }
          ],
          "scattergeo": [
           {
            "marker": {
             "colorbar": {
              "outlinewidth": 0,
              "ticks": ""
             }
            },
            "type": "scattergeo"
           }
          ],
          "scattergl": [
           {
            "marker": {
             "colorbar": {
              "outlinewidth": 0,
              "ticks": ""
             }
            },
            "type": "scattergl"
           }
          ],
          "scattermapbox": [
           {
            "marker": {
             "colorbar": {
              "outlinewidth": 0,
              "ticks": ""
             }
            },
            "type": "scattermapbox"
           }
          ],
          "scatterpolar": [
           {
            "marker": {
             "colorbar": {
              "outlinewidth": 0,
              "ticks": ""
             }
            },
            "type": "scatterpolar"
           }
          ],
          "scatterpolargl": [
           {
            "marker": {
             "colorbar": {
              "outlinewidth": 0,
              "ticks": ""
             }
            },
            "type": "scatterpolargl"
           }
          ],
          "scatterternary": [
           {
            "marker": {
             "colorbar": {
              "outlinewidth": 0,
              "ticks": ""
             }
            },
            "type": "scatterternary"
           }
          ],
          "surface": [
           {
            "colorbar": {
             "outlinewidth": 0,
             "ticks": ""
            },
            "colorscale": [
             [
              0,
              "#0d0887"
             ],
             [
              0.1111111111111111,
              "#46039f"
             ],
             [
              0.2222222222222222,
              "#7201a8"
             ],
             [
              0.3333333333333333,
              "#9c179e"
             ],
             [
              0.4444444444444444,
              "#bd3786"
             ],
             [
              0.5555555555555556,
              "#d8576b"
             ],
             [
              0.6666666666666666,
              "#ed7953"
             ],
             [
              0.7777777777777778,
              "#fb9f3a"
             ],
             [
              0.8888888888888888,
              "#fdca26"
             ],
             [
              1,
              "#f0f921"
             ]
            ],
            "type": "surface"
           }
          ],
          "table": [
           {
            "cells": {
             "fill": {
              "color": "#EBF0F8"
             },
             "line": {
              "color": "white"
             }
            },
            "header": {
             "fill": {
              "color": "#C8D4E3"
             },
             "line": {
              "color": "white"
             }
            },
            "type": "table"
           }
          ]
         },
         "layout": {
          "annotationdefaults": {
           "arrowcolor": "#2a3f5f",
           "arrowhead": 0,
           "arrowwidth": 1
          },
          "autotypenumbers": "strict",
          "coloraxis": {
           "colorbar": {
            "outlinewidth": 0,
            "ticks": ""
           }
          },
          "colorscale": {
           "diverging": [
            [
             0,
             "#8e0152"
            ],
            [
             0.1,
             "#c51b7d"
            ],
            [
             0.2,
             "#de77ae"
            ],
            [
             0.3,
             "#f1b6da"
            ],
            [
             0.4,
             "#fde0ef"
            ],
            [
             0.5,
             "#f7f7f7"
            ],
            [
             0.6,
             "#e6f5d0"
            ],
            [
             0.7,
             "#b8e186"
            ],
            [
             0.8,
             "#7fbc41"
            ],
            [
             0.9,
             "#4d9221"
            ],
            [
             1,
             "#276419"
            ]
           ],
           "sequential": [
            [
             0,
             "#0d0887"
            ],
            [
             0.1111111111111111,
             "#46039f"
            ],
            [
             0.2222222222222222,
             "#7201a8"
            ],
            [
             0.3333333333333333,
             "#9c179e"
            ],
            [
             0.4444444444444444,
             "#bd3786"
            ],
            [
             0.5555555555555556,
             "#d8576b"
            ],
            [
             0.6666666666666666,
             "#ed7953"
            ],
            [
             0.7777777777777778,
             "#fb9f3a"
            ],
            [
             0.8888888888888888,
             "#fdca26"
            ],
            [
             1,
             "#f0f921"
            ]
           ],
           "sequentialminus": [
            [
             0,
             "#0d0887"
            ],
            [
             0.1111111111111111,
             "#46039f"
            ],
            [
             0.2222222222222222,
             "#7201a8"
            ],
            [
             0.3333333333333333,
             "#9c179e"
            ],
            [
             0.4444444444444444,
             "#bd3786"
            ],
            [
             0.5555555555555556,
             "#d8576b"
            ],
            [
             0.6666666666666666,
             "#ed7953"
            ],
            [
             0.7777777777777778,
             "#fb9f3a"
            ],
            [
             0.8888888888888888,
             "#fdca26"
            ],
            [
             1,
             "#f0f921"
            ]
           ]
          },
          "colorway": [
           "#636efa",
           "#EF553B",
           "#00cc96",
           "#ab63fa",
           "#FFA15A",
           "#19d3f3",
           "#FF6692",
           "#B6E880",
           "#FF97FF",
           "#FECB52"
          ],
          "font": {
           "color": "#2a3f5f"
          },
          "geo": {
           "bgcolor": "white",
           "lakecolor": "white",
           "landcolor": "#E5ECF6",
           "showlakes": true,
           "showland": true,
           "subunitcolor": "white"
          },
          "hoverlabel": {
           "align": "left"
          },
          "hovermode": "closest",
          "mapbox": {
           "style": "light"
          },
          "paper_bgcolor": "white",
          "plot_bgcolor": "#E5ECF6",
          "polar": {
           "angularaxis": {
            "gridcolor": "white",
            "linecolor": "white",
            "ticks": ""
           },
           "bgcolor": "#E5ECF6",
           "radialaxis": {
            "gridcolor": "white",
            "linecolor": "white",
            "ticks": ""
           }
          },
          "scene": {
           "xaxis": {
            "backgroundcolor": "#E5ECF6",
            "gridcolor": "white",
            "gridwidth": 2,
            "linecolor": "white",
            "showbackground": true,
            "ticks": "",
            "zerolinecolor": "white"
           },
           "yaxis": {
            "backgroundcolor": "#E5ECF6",
            "gridcolor": "white",
            "gridwidth": 2,
            "linecolor": "white",
            "showbackground": true,
            "ticks": "",
            "zerolinecolor": "white"
           },
           "zaxis": {
            "backgroundcolor": "#E5ECF6",
            "gridcolor": "white",
            "gridwidth": 2,
            "linecolor": "white",
            "showbackground": true,
            "ticks": "",
            "zerolinecolor": "white"
           }
          },
          "shapedefaults": {
           "line": {
            "color": "#2a3f5f"
           }
          },
          "ternary": {
           "aaxis": {
            "gridcolor": "white",
            "linecolor": "white",
            "ticks": ""
           },
           "baxis": {
            "gridcolor": "white",
            "linecolor": "white",
            "ticks": ""
           },
           "bgcolor": "#E5ECF6",
           "caxis": {
            "gridcolor": "white",
            "linecolor": "white",
            "ticks": ""
           }
          },
          "title": {
           "x": 0.05
          },
          "xaxis": {
           "automargin": true,
           "gridcolor": "white",
           "linecolor": "white",
           "ticks": "",
           "title": {
            "standoff": 15
           },
           "zerolinecolor": "white",
           "zerolinewidth": 2
          },
          "yaxis": {
           "automargin": true,
           "gridcolor": "white",
           "linecolor": "white",
           "ticks": "",
           "title": {
            "standoff": 15
           },
           "zerolinecolor": "white",
           "zerolinewidth": 2
          }
         }
        },
        "title": {
         "text": "Free Session total Student from University did not have laptop "
        },
        "xaxis": {
         "linecolor": "black",
         "linewidth": 2,
         "mirror": true,
         "showline": true,
         "showticklabels": true,
         "tickangle": 45,
         "tickfont": {
          "color": "red",
          "size": 10
         },
         "title": {
          "text": "University Name"
         },
         "zeroline": true,
         "zerolinecolor": "grey",
         "zerolinewidth": 1
        },
        "yaxis": {
         "gridcolor": "lightgrey",
         "linecolor": "black",
         "linewidth": 2,
         "mirror": true,
         "showline": true,
         "title": {
          "text": "Total Students"
         },
         "zeroline": true,
         "zerolinecolor": "grey",
         "zerolinewidth": 1
        }
       }
      },
      "text/html": [
       "<div>                            <div id=\"08cef590-6d27-42ce-9a17-7b1ae57a33e2\" class=\"plotly-graph-div\" style=\"height:525px; width:100%;\"></div>            <script type=\"text/javascript\">                require([\"plotly\"], function(Plotly) {                    window.PLOTLYENV=window.PLOTLYENV || {};                                    if (document.getElementById(\"08cef590-6d27-42ce-9a17-7b1ae57a33e2\")) {                    Plotly.newPlot(                        \"08cef590-6d27-42ce-9a17-7b1ae57a33e2\",                        [{\"marker\": {\"color\": \"lightgreen\"}, \"text\": [\"Maulana Azad College\", \"Lady Brabourne College\", \"Durgapur women's college\", \"Durgapur Women's College\", \"Maulana Azad College \", \"Jadavpur University\", \"Regent Education and Research Foundation\", \"Maulana Azad college\", \"Kalyani Mahavidyalaya\", \"Asutosh College\", \"Regent Education & Research Foundation\", \"Lady Brabourne College \", \"MAULANA AZAD COLLEGE\", \"Vidyasagar University\", \"Regent Education And Research Foundation\", \"RERF\", \"Regent Education and Research Foundation \", \"Regent Education and Research foundation\", \"Durgapur Women's College \", \"MAULANA AZAD COLLEGE \", \"Lady brabourne college\", \"University of Calcutta\", \"DURGAPUR WOMEN'S COLLEGE\", \"JADAVPUR UNIVERSITY \", \"Lady Brabourne college\", \"National power training institute (E.R) Durgapur\", \"NSU\", \"N.P.T.I(E.R.)\", \"RKMVERI (BELUR CAMPUS)\", \"NARASINHA DUTT COLLEGE\", \"REGENT EDUCATION & RESEARCH FOUNDATION\", \"RCC institute of information technology\", \"NARASINHA DUTT COLLEGE, UNIVERSITY OF CALCUTTA\", \"Purulia zilla school \", \"Narasinha Dutta College\", \"Narasingha Dutt College \", \"National power training institute\", \"Presidency University\", \"Narasinha dutt college\", \"National power training institute Nagpur\", \"RKMVERI BELUR MATH\", \"Raniganj Girls' College \", \"RKMVERI, BELUR MATH\", \"RRERF\", \"Women's collage\", \"Vivekananda college\", \"Vivekananda College,Thakurpukur\", \"Vivekananda College \", \"Vivekananda College\", \"Viswass school & college of nursing\", \"Vidyasagar college for women\", \"Vidyasagar collage \", \"Victoria Institution\", \"VIDYASAGAR UNIVERSITY, MEDINIPUR\", \"The New Horizons Institute of Technology\", \"Surendranath college\", \"Shibpur Dinobundhoo institution\", \"Shahjalal University of Science & Technology   \", \"Rerf\", \"Regent education and research foundation \", \"Regent education and research foundation\", \"Regent education & research foundation barrackpore\", \"Regent Education and Research foundation \", \"Regent Education and Research Foundation Group of Institutions\", \"Regent Education &Research Foundation\", \"Moulana Azad College\", \"Ramakrishna Mission Vivekananda Educational And Research Institute\", \"Ramakrishna Mission Shilpapitha\", \"Raja Peary Mohan college\", \"Moulana azad college\", \" Uttarpara Amarendra Vidyapith\", \"Maulona Azad College\", \"Durgapur woman's college \", \"Durgapur institute of advanced and technology management\", \"Durgapur institute of advance technology and managment\", \"Durgapur government college\", \"Durgapur Womens College \", \"Durgapur Women's College   Kazi Nazrul University\", \"Durgapur WOMEN'S college \", \"Durgapur Institute of advanced technology and management \", \"Durgapur Institute of Advanced Technology & Management\", \"Durgapur Institute Of Advance Technology and Management\", \"Duragpur Women's college\", \"Dr.B.C.ROY ENGINEERING COLLEGE\", \"Dr. B. C. Roy Engineering college\", \"DURGAPUR GOVERNMENT COLLEGE\", \"DIATM, Durgapur\", \"College name - Durgapur Womens college\", \"Calcutta university \", \"Bethune college\", \"BETHUNE COLLEGE\", \"B P poddar institute of Management & Technology \", \"Asutosh College \", \"Aot\", \"Amta Ramsaday College\", \"Aliah University \", \"Durgapur institute of advanced technology and managemant rajbandh\", \"Durgapur women's College\", \"Maulana azad college \", \"Durgapur women's collage \", \"Maulana Azad College, University Of Calcutta\", \"Maulana Azad College, Kolkata\", \"Academy Of Technology\", \"Lalbaba college \", \"Lady braboune college\", \"Lady Brabourne college \", \"Lady Braboune Collage\", \"Kalyani mahavidyalay\", \"Kalyani Mahavidya\", \"Kalyani Mahabidyalaya\", \"KAJI najrul invercity\", \"Jogomaya Devi college \", \"Jk college\", \"Jagannath Kishore college,Purulia\", \"JadavpurUniversity  \", \"JADAVPUR UNIVERSITY\", \"J.K College\", \"Insitiution of engineering and managment\", \"Guru NANAK INSTITUTE OF PHARMACEUTICAL SCIENCE AND TECHNOLOGY\", \"Global Nature Care Sangathan Group Of Institutions\", \"Future institute of technology \", \"Future Institute of Technology\", \"Durgapur women's college \", \"maulana azad college\"], \"type\": \"bar\", \"x\": [\"Maulana Azad College\", \"Lady Brabourne College\", \"Durgapur women's college\", \"Durgapur Women's College\", \"Maulana Azad College \", \"Jadavpur University\", \"Regent Education and Research Foundation\", \"Maulana Azad college\", \"Kalyani Mahavidyalaya\", \"Asutosh College\", \"Regent Education & Research Foundation\", \"Lady Brabourne College \", \"MAULANA AZAD COLLEGE\", \"Vidyasagar University\", \"Regent Education And Research Foundation\", \"RERF\", \"Regent Education and Research Foundation \", \"Regent Education and Research foundation\", \"Durgapur Women's College \", \"MAULANA AZAD COLLEGE \", \"Lady brabourne college\", \"University of Calcutta\", \"DURGAPUR WOMEN'S COLLEGE\", \"JADAVPUR UNIVERSITY \", \"Lady Brabourne college\", \"National power training institute (E.R) Durgapur\", \"NSU\", \"N.P.T.I(E.R.)\", \"RKMVERI (BELUR CAMPUS)\", \"NARASINHA DUTT COLLEGE\", \"REGENT EDUCATION & RESEARCH FOUNDATION\", \"RCC institute of information technology\", \"NARASINHA DUTT COLLEGE, UNIVERSITY OF CALCUTTA\", \"Purulia zilla school \", \"Narasinha Dutta College\", \"Narasingha Dutt College \", \"National power training institute\", \"Presidency University\", \"Narasinha dutt college\", \"National power training institute Nagpur\", \"RKMVERI BELUR MATH\", \"Raniganj Girls' College \", \"RKMVERI, BELUR MATH\", \"RRERF\", \"Women's collage\", \"Vivekananda college\", \"Vivekananda College,Thakurpukur\", \"Vivekananda College \", \"Vivekananda College\", \"Viswass school & college of nursing\", \"Vidyasagar college for women\", \"Vidyasagar collage \", \"Victoria Institution\", \"VIDYASAGAR UNIVERSITY, MEDINIPUR\", \"The New Horizons Institute of Technology\", \"Surendranath college\", \"Shibpur Dinobundhoo institution\", \"Shahjalal University of Science & Technology   \", \"Rerf\", \"Regent education and research foundation \", \"Regent education and research foundation\", \"Regent education & research foundation barrackpore\", \"Regent Education and Research foundation \", \"Regent Education and Research Foundation Group of Institutions\", \"Regent Education &Research Foundation\", \"Moulana Azad College\", \"Ramakrishna Mission Vivekananda Educational And Research Institute\", \"Ramakrishna Mission Shilpapitha\", \"Raja Peary Mohan college\", \"Moulana azad college\", \" Uttarpara Amarendra Vidyapith\", \"Maulona Azad College\", \"Durgapur woman's college \", \"Durgapur institute of advanced and technology management\", \"Durgapur institute of advance technology and managment\", \"Durgapur government college\", \"Durgapur Womens College \", \"Durgapur Women's College   Kazi Nazrul University\", \"Durgapur WOMEN'S college \", \"Durgapur Institute of advanced technology and management \", \"Durgapur Institute of Advanced Technology & Management\", \"Durgapur Institute Of Advance Technology and Management\", \"Duragpur Women's college\", \"Dr.B.C.ROY ENGINEERING COLLEGE\", \"Dr. B. C. Roy Engineering college\", \"DURGAPUR GOVERNMENT COLLEGE\", \"DIATM, Durgapur\", \"College name - Durgapur Womens college\", \"Calcutta university \", \"Bethune college\", \"BETHUNE COLLEGE\", \"B P poddar institute of Management & Technology \", \"Asutosh College \", \"Aot\", \"Amta Ramsaday College\", \"Aliah University \", \"Durgapur institute of advanced technology and managemant rajbandh\", \"Durgapur women's College\", \"Maulana azad college \", \"Durgapur women's collage \", \"Maulana Azad College, University Of Calcutta\", \"Maulana Azad College, Kolkata\", \"Academy Of Technology\", \"Lalbaba college \", \"Lady braboune college\", \"Lady Brabourne college \", \"Lady Braboune Collage\", \"Kalyani mahavidyalay\", \"Kalyani Mahavidya\", \"Kalyani Mahabidyalaya\", \"KAJI najrul invercity\", \"Jogomaya Devi college \", \"Jk college\", \"Jagannath Kishore college,Purulia\", \"JadavpurUniversity  \", \"JADAVPUR UNIVERSITY\", \"J.K College\", \"Insitiution of engineering and managment\", \"Guru NANAK INSTITUTE OF PHARMACEUTICAL SCIENCE AND TECHNOLOGY\", \"Global Nature Care Sangathan Group Of Institutions\", \"Future institute of technology \", \"Future Institute of Technology\", \"Durgapur women's college \", \"maulana azad college\"], \"y\": [17, 11, 9, 6, 5, 5, 5, 4, 4, 3, 3, 3, 3, 3, 3, 2, 2, 2, 2, 2, 2, 2, 2, 2, 2, 1, 1, 1, 1, 1, 1, 1, 1, 1, 1, 1, 1, 1, 1, 1, 1, 1, 1, 1, 1, 1, 1, 1, 1, 1, 1, 1, 1, 1, 1, 1, 1, 1, 1, 1, 1, 1, 1, 1, 1, 1, 1, 1, 1, 1, 1, 1, 1, 1, 1, 1, 1, 1, 1, 1, 1, 1, 1, 1, 1, 1, 1, 1, 1, 1, 1, 1, 1, 1, 1, 1, 1, 1, 1, 1, 1, 1, 1, 1, 1, 1, 1, 1, 1, 1, 1, 1, 1, 1, 1, 1, 1, 1, 1, 1, 1, 1, 1, 1]}],                        {\"hovermode\": \"closest\", \"paper_bgcolor\": \"rgba(0, 0, 0, 0)\", \"plot_bgcolor\": \"rgba(0, 0, 0, 0)\", \"template\": {\"data\": {\"bar\": [{\"error_x\": {\"color\": \"#2a3f5f\"}, \"error_y\": {\"color\": \"#2a3f5f\"}, \"marker\": {\"line\": {\"color\": \"#E5ECF6\", \"width\": 0.5}}, \"type\": \"bar\"}], \"barpolar\": [{\"marker\": {\"line\": {\"color\": \"#E5ECF6\", \"width\": 0.5}}, \"type\": \"barpolar\"}], \"carpet\": [{\"aaxis\": {\"endlinecolor\": \"#2a3f5f\", \"gridcolor\": \"white\", \"linecolor\": \"white\", \"minorgridcolor\": \"white\", \"startlinecolor\": \"#2a3f5f\"}, \"baxis\": {\"endlinecolor\": \"#2a3f5f\", \"gridcolor\": \"white\", \"linecolor\": \"white\", \"minorgridcolor\": \"white\", \"startlinecolor\": \"#2a3f5f\"}, \"type\": \"carpet\"}], \"choropleth\": [{\"colorbar\": {\"outlinewidth\": 0, \"ticks\": \"\"}, \"type\": \"choropleth\"}], \"contour\": [{\"colorbar\": {\"outlinewidth\": 0, \"ticks\": \"\"}, \"colorscale\": [[0.0, \"#0d0887\"], [0.1111111111111111, \"#46039f\"], [0.2222222222222222, \"#7201a8\"], [0.3333333333333333, \"#9c179e\"], [0.4444444444444444, \"#bd3786\"], [0.5555555555555556, \"#d8576b\"], [0.6666666666666666, \"#ed7953\"], [0.7777777777777778, \"#fb9f3a\"], [0.8888888888888888, \"#fdca26\"], [1.0, \"#f0f921\"]], \"type\": \"contour\"}], \"contourcarpet\": [{\"colorbar\": {\"outlinewidth\": 0, \"ticks\": \"\"}, \"type\": \"contourcarpet\"}], \"heatmap\": [{\"colorbar\": {\"outlinewidth\": 0, \"ticks\": \"\"}, \"colorscale\": [[0.0, \"#0d0887\"], [0.1111111111111111, \"#46039f\"], [0.2222222222222222, \"#7201a8\"], [0.3333333333333333, \"#9c179e\"], [0.4444444444444444, \"#bd3786\"], [0.5555555555555556, \"#d8576b\"], [0.6666666666666666, \"#ed7953\"], [0.7777777777777778, \"#fb9f3a\"], [0.8888888888888888, \"#fdca26\"], [1.0, \"#f0f921\"]], \"type\": \"heatmap\"}], \"heatmapgl\": [{\"colorbar\": {\"outlinewidth\": 0, \"ticks\": \"\"}, \"colorscale\": [[0.0, \"#0d0887\"], [0.1111111111111111, \"#46039f\"], [0.2222222222222222, \"#7201a8\"], [0.3333333333333333, \"#9c179e\"], [0.4444444444444444, \"#bd3786\"], [0.5555555555555556, \"#d8576b\"], [0.6666666666666666, \"#ed7953\"], [0.7777777777777778, \"#fb9f3a\"], [0.8888888888888888, \"#fdca26\"], [1.0, \"#f0f921\"]], \"type\": \"heatmapgl\"}], \"histogram\": [{\"marker\": {\"colorbar\": {\"outlinewidth\": 0, \"ticks\": \"\"}}, \"type\": \"histogram\"}], \"histogram2d\": [{\"colorbar\": {\"outlinewidth\": 0, \"ticks\": \"\"}, \"colorscale\": [[0.0, \"#0d0887\"], [0.1111111111111111, \"#46039f\"], [0.2222222222222222, \"#7201a8\"], [0.3333333333333333, \"#9c179e\"], [0.4444444444444444, \"#bd3786\"], [0.5555555555555556, \"#d8576b\"], [0.6666666666666666, \"#ed7953\"], [0.7777777777777778, \"#fb9f3a\"], [0.8888888888888888, \"#fdca26\"], [1.0, \"#f0f921\"]], \"type\": \"histogram2d\"}], \"histogram2dcontour\": [{\"colorbar\": {\"outlinewidth\": 0, \"ticks\": \"\"}, \"colorscale\": [[0.0, \"#0d0887\"], [0.1111111111111111, \"#46039f\"], [0.2222222222222222, \"#7201a8\"], [0.3333333333333333, \"#9c179e\"], [0.4444444444444444, \"#bd3786\"], [0.5555555555555556, \"#d8576b\"], [0.6666666666666666, \"#ed7953\"], [0.7777777777777778, \"#fb9f3a\"], [0.8888888888888888, \"#fdca26\"], [1.0, \"#f0f921\"]], \"type\": \"histogram2dcontour\"}], \"mesh3d\": [{\"colorbar\": {\"outlinewidth\": 0, \"ticks\": \"\"}, \"type\": \"mesh3d\"}], \"parcoords\": [{\"line\": {\"colorbar\": {\"outlinewidth\": 0, \"ticks\": \"\"}}, \"type\": \"parcoords\"}], \"pie\": [{\"automargin\": true, \"type\": \"pie\"}], \"scatter\": [{\"marker\": {\"colorbar\": {\"outlinewidth\": 0, \"ticks\": \"\"}}, \"type\": \"scatter\"}], \"scatter3d\": [{\"line\": {\"colorbar\": {\"outlinewidth\": 0, \"ticks\": \"\"}}, \"marker\": {\"colorbar\": {\"outlinewidth\": 0, \"ticks\": \"\"}}, \"type\": \"scatter3d\"}], \"scattercarpet\": [{\"marker\": {\"colorbar\": {\"outlinewidth\": 0, \"ticks\": \"\"}}, \"type\": \"scattercarpet\"}], \"scattergeo\": [{\"marker\": {\"colorbar\": {\"outlinewidth\": 0, \"ticks\": \"\"}}, \"type\": \"scattergeo\"}], \"scattergl\": [{\"marker\": {\"colorbar\": {\"outlinewidth\": 0, \"ticks\": \"\"}}, \"type\": \"scattergl\"}], \"scattermapbox\": [{\"marker\": {\"colorbar\": {\"outlinewidth\": 0, \"ticks\": \"\"}}, \"type\": \"scattermapbox\"}], \"scatterpolar\": [{\"marker\": {\"colorbar\": {\"outlinewidth\": 0, \"ticks\": \"\"}}, \"type\": \"scatterpolar\"}], \"scatterpolargl\": [{\"marker\": {\"colorbar\": {\"outlinewidth\": 0, \"ticks\": \"\"}}, \"type\": \"scatterpolargl\"}], \"scatterternary\": [{\"marker\": {\"colorbar\": {\"outlinewidth\": 0, \"ticks\": \"\"}}, \"type\": \"scatterternary\"}], \"surface\": [{\"colorbar\": {\"outlinewidth\": 0, \"ticks\": \"\"}, \"colorscale\": [[0.0, \"#0d0887\"], [0.1111111111111111, \"#46039f\"], [0.2222222222222222, \"#7201a8\"], [0.3333333333333333, \"#9c179e\"], [0.4444444444444444, \"#bd3786\"], [0.5555555555555556, \"#d8576b\"], [0.6666666666666666, \"#ed7953\"], [0.7777777777777778, \"#fb9f3a\"], [0.8888888888888888, \"#fdca26\"], [1.0, \"#f0f921\"]], \"type\": \"surface\"}], \"table\": [{\"cells\": {\"fill\": {\"color\": \"#EBF0F8\"}, \"line\": {\"color\": \"white\"}}, \"header\": {\"fill\": {\"color\": \"#C8D4E3\"}, \"line\": {\"color\": \"white\"}}, \"type\": \"table\"}]}, \"layout\": {\"annotationdefaults\": {\"arrowcolor\": \"#2a3f5f\", \"arrowhead\": 0, \"arrowwidth\": 1}, \"autotypenumbers\": \"strict\", \"coloraxis\": {\"colorbar\": {\"outlinewidth\": 0, \"ticks\": \"\"}}, \"colorscale\": {\"diverging\": [[0, \"#8e0152\"], [0.1, \"#c51b7d\"], [0.2, \"#de77ae\"], [0.3, \"#f1b6da\"], [0.4, \"#fde0ef\"], [0.5, \"#f7f7f7\"], [0.6, \"#e6f5d0\"], [0.7, \"#b8e186\"], [0.8, \"#7fbc41\"], [0.9, \"#4d9221\"], [1, \"#276419\"]], \"sequential\": [[0.0, \"#0d0887\"], [0.1111111111111111, \"#46039f\"], [0.2222222222222222, \"#7201a8\"], [0.3333333333333333, \"#9c179e\"], [0.4444444444444444, \"#bd3786\"], [0.5555555555555556, \"#d8576b\"], [0.6666666666666666, \"#ed7953\"], [0.7777777777777778, \"#fb9f3a\"], [0.8888888888888888, \"#fdca26\"], [1.0, \"#f0f921\"]], \"sequentialminus\": [[0.0, \"#0d0887\"], [0.1111111111111111, \"#46039f\"], [0.2222222222222222, \"#7201a8\"], [0.3333333333333333, \"#9c179e\"], [0.4444444444444444, \"#bd3786\"], [0.5555555555555556, \"#d8576b\"], [0.6666666666666666, \"#ed7953\"], [0.7777777777777778, \"#fb9f3a\"], [0.8888888888888888, \"#fdca26\"], [1.0, \"#f0f921\"]]}, \"colorway\": [\"#636efa\", \"#EF553B\", \"#00cc96\", \"#ab63fa\", \"#FFA15A\", \"#19d3f3\", \"#FF6692\", \"#B6E880\", \"#FF97FF\", \"#FECB52\"], \"font\": {\"color\": \"#2a3f5f\"}, \"geo\": {\"bgcolor\": \"white\", \"lakecolor\": \"white\", \"landcolor\": \"#E5ECF6\", \"showlakes\": true, \"showland\": true, \"subunitcolor\": \"white\"}, \"hoverlabel\": {\"align\": \"left\"}, \"hovermode\": \"closest\", \"mapbox\": {\"style\": \"light\"}, \"paper_bgcolor\": \"white\", \"plot_bgcolor\": \"#E5ECF6\", \"polar\": {\"angularaxis\": {\"gridcolor\": \"white\", \"linecolor\": \"white\", \"ticks\": \"\"}, \"bgcolor\": \"#E5ECF6\", \"radialaxis\": {\"gridcolor\": \"white\", \"linecolor\": \"white\", \"ticks\": \"\"}}, \"scene\": {\"xaxis\": {\"backgroundcolor\": \"#E5ECF6\", \"gridcolor\": \"white\", \"gridwidth\": 2, \"linecolor\": \"white\", \"showbackground\": true, \"ticks\": \"\", \"zerolinecolor\": \"white\"}, \"yaxis\": {\"backgroundcolor\": \"#E5ECF6\", \"gridcolor\": \"white\", \"gridwidth\": 2, \"linecolor\": \"white\", \"showbackground\": true, \"ticks\": \"\", \"zerolinecolor\": \"white\"}, \"zaxis\": {\"backgroundcolor\": \"#E5ECF6\", \"gridcolor\": \"white\", \"gridwidth\": 2, \"linecolor\": \"white\", \"showbackground\": true, \"ticks\": \"\", \"zerolinecolor\": \"white\"}}, \"shapedefaults\": {\"line\": {\"color\": \"#2a3f5f\"}}, \"ternary\": {\"aaxis\": {\"gridcolor\": \"white\", \"linecolor\": \"white\", \"ticks\": \"\"}, \"baxis\": {\"gridcolor\": \"white\", \"linecolor\": \"white\", \"ticks\": \"\"}, \"bgcolor\": \"#E5ECF6\", \"caxis\": {\"gridcolor\": \"white\", \"linecolor\": \"white\", \"ticks\": \"\"}}, \"title\": {\"x\": 0.05}, \"xaxis\": {\"automargin\": true, \"gridcolor\": \"white\", \"linecolor\": \"white\", \"ticks\": \"\", \"title\": {\"standoff\": 15}, \"zerolinecolor\": \"white\", \"zerolinewidth\": 2}, \"yaxis\": {\"automargin\": true, \"gridcolor\": \"white\", \"linecolor\": \"white\", \"ticks\": \"\", \"title\": {\"standoff\": 15}, \"zerolinecolor\": \"white\", \"zerolinewidth\": 2}}}, \"title\": {\"text\": \"Free Session total Student from University did not have laptop \"}, \"xaxis\": {\"linecolor\": \"black\", \"linewidth\": 2, \"mirror\": true, \"showline\": true, \"showticklabels\": true, \"tickangle\": 45, \"tickfont\": {\"color\": \"red\", \"size\": 10}, \"title\": {\"text\": \"University Name\"}, \"zeroline\": true, \"zerolinecolor\": \"grey\", \"zerolinewidth\": 1}, \"yaxis\": {\"gridcolor\": \"lightgrey\", \"linecolor\": \"black\", \"linewidth\": 2, \"mirror\": true, \"showline\": true, \"title\": {\"text\": \"Total Students\"}, \"zeroline\": true, \"zerolinecolor\": \"grey\", \"zerolinewidth\": 1}},                        {\"responsive\": true}                    ).then(function(){\n",
       "                            \n",
       "var gd = document.getElementById('08cef590-6d27-42ce-9a17-7b1ae57a33e2');\n",
       "var x = new MutationObserver(function (mutations, observer) {{\n",
       "        var display = window.getComputedStyle(gd).display;\n",
       "        if (!display || display === 'none') {{\n",
       "            console.log([gd, 'removed!']);\n",
       "            Plotly.purge(gd);\n",
       "            observer.disconnect();\n",
       "        }}\n",
       "}});\n",
       "\n",
       "// Listen for the removal of the full notebook cells\n",
       "var notebookContainer = gd.closest('#notebook-container');\n",
       "if (notebookContainer) {{\n",
       "    x.observe(notebookContainer, {childList: true});\n",
       "}}\n",
       "\n",
       "// Listen for the clearing of the current output cell\n",
       "var outputEl = gd.closest('.output');\n",
       "if (outputEl) {{\n",
       "    x.observe(outputEl, {childList: true});\n",
       "}}\n",
       "\n",
       "                        })                };                });            </script>        </div>"
      ]
     },
     "metadata": {},
     "output_type": "display_data"
    }
   ],
   "source": [
    "draw_trace_bar(college_no_laptop,'College','no_laptop_counts','Free Session total Student from University did not have laptop ', 'University Name','Total Students',\"lightgreen\")"
   ]
  },
  {
   "cell_type": "code",
   "execution_count": 231,
   "metadata": {},
   "outputs": [
    {
     "data": {
      "text/html": [
       "<div>\n",
       "<style scoped>\n",
       "    .dataframe tbody tr th:only-of-type {\n",
       "        vertical-align: middle;\n",
       "    }\n",
       "\n",
       "    .dataframe tbody tr th {\n",
       "        vertical-align: top;\n",
       "    }\n",
       "\n",
       "    .dataframe thead th {\n",
       "        text-align: right;\n",
       "    }\n",
       "</style>\n",
       "<table border=\"1\" class=\"dataframe\">\n",
       "  <thead>\n",
       "    <tr style=\"text-align: right;\">\n",
       "      <th></th>\n",
       "      <th>Department</th>\n",
       "    </tr>\n",
       "    <tr>\n",
       "      <th>Department</th>\n",
       "      <th></th>\n",
       "    </tr>\n",
       "  </thead>\n",
       "  <tbody>\n",
       "    <tr>\n",
       "      <th>LINEAR ALGEBRA IN MATHEMATICS</th>\n",
       "      <td>1</td>\n",
       "    </tr>\n",
       "    <tr>\n",
       "      <th>APPLIES MATHEMATICS</th>\n",
       "      <td>1</td>\n",
       "    </tr>\n",
       "    <tr>\n",
       "      <th>Atrs</th>\n",
       "      <td>1</td>\n",
       "    </tr>\n",
       "    <tr>\n",
       "      <th>B-tech (ECE 2'nd year)</th>\n",
       "      <td>1</td>\n",
       "    </tr>\n",
       "    <tr>\n",
       "      <th>B-tech in ece</th>\n",
       "      <td>1</td>\n",
       "    </tr>\n",
       "    <tr>\n",
       "      <th>...</th>\n",
       "      <td>...</td>\n",
       "    </tr>\n",
       "    <tr>\n",
       "      <th>Statistics Honours (B.Sc.)</th>\n",
       "      <td>1</td>\n",
       "    </tr>\n",
       "    <tr>\n",
       "      <th>Statistics Honours Student</th>\n",
       "      <td>1</td>\n",
       "    </tr>\n",
       "    <tr>\n",
       "      <th>Ststistics</th>\n",
       "      <td>1</td>\n",
       "    </tr>\n",
       "    <tr>\n",
       "      <th>Studying M.sc in mathematics</th>\n",
       "      <td>1</td>\n",
       "    </tr>\n",
       "    <tr>\n",
       "      <th>others</th>\n",
       "      <td>23</td>\n",
       "    </tr>\n",
       "  </tbody>\n",
       "</table>\n",
       "<p>67 rows × 1 columns</p>\n",
       "</div>"
      ],
      "text/plain": [
       "                                Department\n",
       "Department                                \n",
       " LINEAR ALGEBRA IN MATHEMATICS           1\n",
       "APPLIES MATHEMATICS                      1\n",
       "Atrs                                     1\n",
       "B-tech (ECE 2'nd year)                   1\n",
       "B-tech in ece                            1\n",
       "...                                    ...\n",
       "Statistics Honours (B.Sc.)               1\n",
       "Statistics Honours Student               1\n",
       "Ststistics                               1\n",
       "Studying M.sc in mathematics             1\n",
       "others                                  23\n",
       "\n",
       "[67 rows x 1 columns]"
      ]
     },
     "execution_count": 231,
     "metadata": {},
     "output_type": "execute_result"
    }
   ],
   "source": [
    "#collega data counting all college\n",
    "nolaptop2 = nolaptop.groupby('Department')['Department'].agg('count')\n",
    "dep_no_laptop= pd.DataFrame(nolaptop2)\n",
    "dep_no_laptop"
   ]
  },
  {
   "cell_type": "code",
   "execution_count": 233,
   "metadata": {},
   "outputs": [
    {
     "data": {
      "text/html": [
       "<div>\n",
       "<style scoped>\n",
       "    .dataframe tbody tr th:only-of-type {\n",
       "        vertical-align: middle;\n",
       "    }\n",
       "\n",
       "    .dataframe tbody tr th {\n",
       "        vertical-align: top;\n",
       "    }\n",
       "\n",
       "    .dataframe thead th {\n",
       "        text-align: right;\n",
       "    }\n",
       "</style>\n",
       "<table border=\"1\" class=\"dataframe\">\n",
       "  <thead>\n",
       "    <tr style=\"text-align: right;\">\n",
       "      <th></th>\n",
       "      <th>no_laptop_counts</th>\n",
       "    </tr>\n",
       "    <tr>\n",
       "      <th>Department</th>\n",
       "      <th></th>\n",
       "    </tr>\n",
       "  </thead>\n",
       "  <tbody>\n",
       "    <tr>\n",
       "      <th>LINEAR ALGEBRA IN MATHEMATICS</th>\n",
       "      <td>1</td>\n",
       "    </tr>\n",
       "    <tr>\n",
       "      <th>APPLIES MATHEMATICS</th>\n",
       "      <td>1</td>\n",
       "    </tr>\n",
       "    <tr>\n",
       "      <th>Atrs</th>\n",
       "      <td>1</td>\n",
       "    </tr>\n",
       "    <tr>\n",
       "      <th>B-tech (ECE 2'nd year)</th>\n",
       "      <td>1</td>\n",
       "    </tr>\n",
       "    <tr>\n",
       "      <th>B-tech in ece</th>\n",
       "      <td>1</td>\n",
       "    </tr>\n",
       "    <tr>\n",
       "      <th>...</th>\n",
       "      <td>...</td>\n",
       "    </tr>\n",
       "    <tr>\n",
       "      <th>Statistics Honours (B.Sc.)</th>\n",
       "      <td>1</td>\n",
       "    </tr>\n",
       "    <tr>\n",
       "      <th>Statistics Honours Student</th>\n",
       "      <td>1</td>\n",
       "    </tr>\n",
       "    <tr>\n",
       "      <th>Ststistics</th>\n",
       "      <td>1</td>\n",
       "    </tr>\n",
       "    <tr>\n",
       "      <th>Studying M.sc in mathematics</th>\n",
       "      <td>1</td>\n",
       "    </tr>\n",
       "    <tr>\n",
       "      <th>others</th>\n",
       "      <td>23</td>\n",
       "    </tr>\n",
       "  </tbody>\n",
       "</table>\n",
       "<p>67 rows × 1 columns</p>\n",
       "</div>"
      ],
      "text/plain": [
       "                                no_laptop_counts\n",
       "Department                                      \n",
       " LINEAR ALGEBRA IN MATHEMATICS                 1\n",
       "APPLIES MATHEMATICS                            1\n",
       "Atrs                                           1\n",
       "B-tech (ECE 2'nd year)                         1\n",
       "B-tech in ece                                  1\n",
       "...                                          ...\n",
       "Statistics Honours (B.Sc.)                     1\n",
       "Statistics Honours Student                     1\n",
       "Ststistics                                     1\n",
       "Studying M.sc in mathematics                   1\n",
       "others                                        23\n",
       "\n",
       "[67 rows x 1 columns]"
      ]
     },
     "execution_count": 233,
     "metadata": {},
     "output_type": "execute_result"
    }
   ],
   "source": [
    "#renameing to total_counts of department data\n",
    "dep_no_laptop.rename(columns={\"Department\": \"no_laptop_counts\"},inplace=True)\n",
    "dep_no_laptop"
   ]
  },
  {
   "cell_type": "code",
   "execution_count": 234,
   "metadata": {},
   "outputs": [
    {
     "data": {
      "text/html": [
       "<div>\n",
       "<style scoped>\n",
       "    .dataframe tbody tr th:only-of-type {\n",
       "        vertical-align: middle;\n",
       "    }\n",
       "\n",
       "    .dataframe tbody tr th {\n",
       "        vertical-align: top;\n",
       "    }\n",
       "\n",
       "    .dataframe thead th {\n",
       "        text-align: right;\n",
       "    }\n",
       "</style>\n",
       "<table border=\"1\" class=\"dataframe\">\n",
       "  <thead>\n",
       "    <tr style=\"text-align: right;\">\n",
       "      <th></th>\n",
       "      <th>Department</th>\n",
       "      <th>no_laptop_counts</th>\n",
       "    </tr>\n",
       "  </thead>\n",
       "  <tbody>\n",
       "    <tr>\n",
       "      <th>0</th>\n",
       "      <td>LINEAR ALGEBRA IN MATHEMATICS</td>\n",
       "      <td>1</td>\n",
       "    </tr>\n",
       "    <tr>\n",
       "      <th>1</th>\n",
       "      <td>APPLIES MATHEMATICS</td>\n",
       "      <td>1</td>\n",
       "    </tr>\n",
       "    <tr>\n",
       "      <th>2</th>\n",
       "      <td>Atrs</td>\n",
       "      <td>1</td>\n",
       "    </tr>\n",
       "    <tr>\n",
       "      <th>3</th>\n",
       "      <td>B-tech (ECE 2'nd year)</td>\n",
       "      <td>1</td>\n",
       "    </tr>\n",
       "    <tr>\n",
       "      <th>4</th>\n",
       "      <td>B-tech in ece</td>\n",
       "      <td>1</td>\n",
       "    </tr>\n",
       "    <tr>\n",
       "      <th>...</th>\n",
       "      <td>...</td>\n",
       "      <td>...</td>\n",
       "    </tr>\n",
       "    <tr>\n",
       "      <th>62</th>\n",
       "      <td>Statistics Honours (B.Sc.)</td>\n",
       "      <td>1</td>\n",
       "    </tr>\n",
       "    <tr>\n",
       "      <th>63</th>\n",
       "      <td>Statistics Honours Student</td>\n",
       "      <td>1</td>\n",
       "    </tr>\n",
       "    <tr>\n",
       "      <th>64</th>\n",
       "      <td>Ststistics</td>\n",
       "      <td>1</td>\n",
       "    </tr>\n",
       "    <tr>\n",
       "      <th>65</th>\n",
       "      <td>Studying M.sc in mathematics</td>\n",
       "      <td>1</td>\n",
       "    </tr>\n",
       "    <tr>\n",
       "      <th>66</th>\n",
       "      <td>others</td>\n",
       "      <td>23</td>\n",
       "    </tr>\n",
       "  </tbody>\n",
       "</table>\n",
       "<p>67 rows × 2 columns</p>\n",
       "</div>"
      ],
      "text/plain": [
       "                        Department  no_laptop_counts\n",
       "0    LINEAR ALGEBRA IN MATHEMATICS                 1\n",
       "1              APPLIES MATHEMATICS                 1\n",
       "2                             Atrs                 1\n",
       "3           B-tech (ECE 2'nd year)                 1\n",
       "4                    B-tech in ece                 1\n",
       "..                             ...               ...\n",
       "62      Statistics Honours (B.Sc.)                 1\n",
       "63      Statistics Honours Student                 1\n",
       "64                      Ststistics                 1\n",
       "65    Studying M.sc in mathematics                 1\n",
       "66                          others                23\n",
       "\n",
       "[67 rows x 2 columns]"
      ]
     },
     "execution_count": 234,
     "metadata": {},
     "output_type": "execute_result"
    }
   ],
   "source": [
    "dep_no_laptop.reset_index(inplace=True)\n",
    "dep_no_laptop"
   ]
  },
  {
   "cell_type": "code",
   "execution_count": 235,
   "metadata": {},
   "outputs": [
    {
     "data": {
      "text/html": [
       "<div>\n",
       "<style scoped>\n",
       "    .dataframe tbody tr th:only-of-type {\n",
       "        vertical-align: middle;\n",
       "    }\n",
       "\n",
       "    .dataframe tbody tr th {\n",
       "        vertical-align: top;\n",
       "    }\n",
       "\n",
       "    .dataframe thead th {\n",
       "        text-align: right;\n",
       "    }\n",
       "</style>\n",
       "<table border=\"1\" class=\"dataframe\">\n",
       "  <thead>\n",
       "    <tr style=\"text-align: right;\">\n",
       "      <th></th>\n",
       "      <th>Department</th>\n",
       "      <th>no_laptop_counts</th>\n",
       "    </tr>\n",
       "  </thead>\n",
       "  <tbody>\n",
       "    <tr>\n",
       "      <th>29</th>\n",
       "      <td>Honors (BSC/MSC)</td>\n",
       "      <td>69</td>\n",
       "    </tr>\n",
       "    <tr>\n",
       "      <th>27</th>\n",
       "      <td>Engineering</td>\n",
       "      <td>30</td>\n",
       "    </tr>\n",
       "    <tr>\n",
       "      <th>66</th>\n",
       "      <td>others</td>\n",
       "      <td>23</td>\n",
       "    </tr>\n",
       "    <tr>\n",
       "      <th>41</th>\n",
       "      <td>Mathematics</td>\n",
       "      <td>4</td>\n",
       "    </tr>\n",
       "    <tr>\n",
       "      <th>59</th>\n",
       "      <td>Statistics</td>\n",
       "      <td>4</td>\n",
       "    </tr>\n",
       "    <tr>\n",
       "      <th>...</th>\n",
       "      <td>...</td>\n",
       "      <td>...</td>\n",
       "    </tr>\n",
       "    <tr>\n",
       "      <th>28</th>\n",
       "      <td>H.S passed</td>\n",
       "      <td>1</td>\n",
       "    </tr>\n",
       "    <tr>\n",
       "      <th>30</th>\n",
       "      <td>M.SC. IN APPLIED MATHEMATICS</td>\n",
       "      <td>1</td>\n",
       "    </tr>\n",
       "    <tr>\n",
       "      <th>31</th>\n",
       "      <td>M.Sc in Mathematics</td>\n",
       "      <td>1</td>\n",
       "    </tr>\n",
       "    <tr>\n",
       "      <th>32</th>\n",
       "      <td>M.sc</td>\n",
       "      <td>1</td>\n",
       "    </tr>\n",
       "    <tr>\n",
       "      <th>33</th>\n",
       "      <td>M.sc Mathematics</td>\n",
       "      <td>1</td>\n",
       "    </tr>\n",
       "  </tbody>\n",
       "</table>\n",
       "<p>67 rows × 2 columns</p>\n",
       "</div>"
      ],
      "text/plain": [
       "                      Department  no_laptop_counts\n",
       "29              Honors (BSC/MSC)                69\n",
       "27                   Engineering                30\n",
       "66                        others                23\n",
       "41                   Mathematics                 4\n",
       "59                    Statistics                 4\n",
       "..                           ...               ...\n",
       "28                    H.S passed                 1\n",
       "30  M.SC. IN APPLIED MATHEMATICS                 1\n",
       "31           M.Sc in Mathematics                 1\n",
       "32                          M.sc                 1\n",
       "33              M.sc Mathematics                 1\n",
       "\n",
       "[67 rows x 2 columns]"
      ]
     },
     "execution_count": 235,
     "metadata": {},
     "output_type": "execute_result"
    }
   ],
   "source": [
    "dep_no_laptop.sort_values(\"no_laptop_counts\", ascending=False)"
   ]
  },
  {
   "cell_type": "code",
   "execution_count": 237,
   "metadata": {},
   "outputs": [
    {
     "data": {
      "application/vnd.plotly.v1+json": {
       "config": {
        "linkText": "Export to plot.ly",
        "plotlyServerURL": "https://plot.ly",
        "showLink": false
       },
       "data": [
        {
         "marker": {
          "color": "lightgreen"
         },
         "text": [
          "Honors (BSC/MSC)",
          "Engineering",
          "others",
          "Mathematics",
          "Statistics",
          "Statistics ",
          "B.Sc Statistics honours",
          "MATHEMATICS ",
          "Math (H) ",
          "Master of science in applied Mathematics",
          "Mechanical engineering",
          "MSc Mathematics",
          "MSc",
          "Mathematics ",
          "Mathematics (MSC)",
          "Mathematics MSc.",
          "Mathematics honours ",
          "Mca",
          "Mechanical",
          "Msc Mathematics ",
          "Mechanical engineering ",
          "Microbiology",
          "Msc in applied mathematics",
          "Msc. Mathematics",
          "Power",
          "Power engineering",
          "Power plant engineering",
          "Pure mathematics",
          "STATISTICS",
          "Statistics (H)",
          "Statistics Honours (B.Sc.)",
          "Statistics Honours Student",
          "Ststistics",
          "Studying M.sc in mathematics",
          "MSC IN MATHEMATICS",
          " LINEAR ALGEBRA IN MATHEMATICS",
          "MATHEMATICS",
          "Bsc. Statistics Honours Student(Final Year)",
          "Atrs",
          "B-tech (ECE 2'nd year)",
          "B-tech in ece",
          "B. Tech (Cse) ",
          "B.Com (H)",
          "B.Sc",
          "B.sc in Statistics",
          "B.sc nursing",
          "B.tech (ECE)",
          "BCA",
          "Bsc physics honours ",
          "Bsc(state )",
          "Bsc. Hons",
          "Btech 4th year on ECE department",
          "APPLIES MATHEMATICS",
          "Byech",
          "Civil Engineering",
          "Computer Science",
          "Computer science",
          "Did my graduation on mathematics",
          "ECE",
          "Electrical engineering",
          "Electronics and communication Engineering (B.Tech)",
          "Electronics and telecommunication",
          "H.S passed",
          "M.SC. IN APPLIED MATHEMATICS",
          "M.Sc in Mathematics",
          "M.sc",
          "M.sc Mathematics"
         ],
         "type": "bar",
         "x": [
          "Honors (BSC/MSC)",
          "Engineering",
          "others",
          "Mathematics",
          "Statistics",
          "Statistics ",
          "B.Sc Statistics honours",
          "MATHEMATICS ",
          "Math (H) ",
          "Master of science in applied Mathematics",
          "Mechanical engineering",
          "MSc Mathematics",
          "MSc",
          "Mathematics ",
          "Mathematics (MSC)",
          "Mathematics MSc.",
          "Mathematics honours ",
          "Mca",
          "Mechanical",
          "Msc Mathematics ",
          "Mechanical engineering ",
          "Microbiology",
          "Msc in applied mathematics",
          "Msc. Mathematics",
          "Power",
          "Power engineering",
          "Power plant engineering",
          "Pure mathematics",
          "STATISTICS",
          "Statistics (H)",
          "Statistics Honours (B.Sc.)",
          "Statistics Honours Student",
          "Ststistics",
          "Studying M.sc in mathematics",
          "MSC IN MATHEMATICS",
          " LINEAR ALGEBRA IN MATHEMATICS",
          "MATHEMATICS",
          "Bsc. Statistics Honours Student(Final Year)",
          "Atrs",
          "B-tech (ECE 2'nd year)",
          "B-tech in ece",
          "B. Tech (Cse) ",
          "B.Com (H)",
          "B.Sc",
          "B.sc in Statistics",
          "B.sc nursing",
          "B.tech (ECE)",
          "BCA",
          "Bsc physics honours ",
          "Bsc(state )",
          "Bsc. Hons",
          "Btech 4th year on ECE department",
          "APPLIES MATHEMATICS",
          "Byech",
          "Civil Engineering",
          "Computer Science",
          "Computer science",
          "Did my graduation on mathematics",
          "ECE",
          "Electrical engineering",
          "Electronics and communication Engineering (B.Tech)",
          "Electronics and telecommunication",
          "H.S passed",
          "M.SC. IN APPLIED MATHEMATICS",
          "M.Sc in Mathematics",
          "M.sc",
          "M.sc Mathematics"
         ],
         "y": [
          69,
          30,
          23,
          4,
          4,
          2,
          2,
          2,
          1,
          1,
          1,
          1,
          1,
          1,
          1,
          1,
          1,
          1,
          1,
          1,
          1,
          1,
          1,
          1,
          1,
          1,
          1,
          1,
          1,
          1,
          1,
          1,
          1,
          1,
          1,
          1,
          1,
          1,
          1,
          1,
          1,
          1,
          1,
          1,
          1,
          1,
          1,
          1,
          1,
          1,
          1,
          1,
          1,
          1,
          1,
          1,
          1,
          1,
          1,
          1,
          1,
          1,
          1,
          1,
          1,
          1,
          1
         ]
        }
       ],
       "layout": {
        "hovermode": "closest",
        "paper_bgcolor": "rgba(0, 0, 0, 0)",
        "plot_bgcolor": "rgba(0, 0, 0, 0)",
        "template": {
         "data": {
          "bar": [
           {
            "error_x": {
             "color": "#2a3f5f"
            },
            "error_y": {
             "color": "#2a3f5f"
            },
            "marker": {
             "line": {
              "color": "#E5ECF6",
              "width": 0.5
             }
            },
            "type": "bar"
           }
          ],
          "barpolar": [
           {
            "marker": {
             "line": {
              "color": "#E5ECF6",
              "width": 0.5
             }
            },
            "type": "barpolar"
           }
          ],
          "carpet": [
           {
            "aaxis": {
             "endlinecolor": "#2a3f5f",
             "gridcolor": "white",
             "linecolor": "white",
             "minorgridcolor": "white",
             "startlinecolor": "#2a3f5f"
            },
            "baxis": {
             "endlinecolor": "#2a3f5f",
             "gridcolor": "white",
             "linecolor": "white",
             "minorgridcolor": "white",
             "startlinecolor": "#2a3f5f"
            },
            "type": "carpet"
           }
          ],
          "choropleth": [
           {
            "colorbar": {
             "outlinewidth": 0,
             "ticks": ""
            },
            "type": "choropleth"
           }
          ],
          "contour": [
           {
            "colorbar": {
             "outlinewidth": 0,
             "ticks": ""
            },
            "colorscale": [
             [
              0,
              "#0d0887"
             ],
             [
              0.1111111111111111,
              "#46039f"
             ],
             [
              0.2222222222222222,
              "#7201a8"
             ],
             [
              0.3333333333333333,
              "#9c179e"
             ],
             [
              0.4444444444444444,
              "#bd3786"
             ],
             [
              0.5555555555555556,
              "#d8576b"
             ],
             [
              0.6666666666666666,
              "#ed7953"
             ],
             [
              0.7777777777777778,
              "#fb9f3a"
             ],
             [
              0.8888888888888888,
              "#fdca26"
             ],
             [
              1,
              "#f0f921"
             ]
            ],
            "type": "contour"
           }
          ],
          "contourcarpet": [
           {
            "colorbar": {
             "outlinewidth": 0,
             "ticks": ""
            },
            "type": "contourcarpet"
           }
          ],
          "heatmap": [
           {
            "colorbar": {
             "outlinewidth": 0,
             "ticks": ""
            },
            "colorscale": [
             [
              0,
              "#0d0887"
             ],
             [
              0.1111111111111111,
              "#46039f"
             ],
             [
              0.2222222222222222,
              "#7201a8"
             ],
             [
              0.3333333333333333,
              "#9c179e"
             ],
             [
              0.4444444444444444,
              "#bd3786"
             ],
             [
              0.5555555555555556,
              "#d8576b"
             ],
             [
              0.6666666666666666,
              "#ed7953"
             ],
             [
              0.7777777777777778,
              "#fb9f3a"
             ],
             [
              0.8888888888888888,
              "#fdca26"
             ],
             [
              1,
              "#f0f921"
             ]
            ],
            "type": "heatmap"
           }
          ],
          "heatmapgl": [
           {
            "colorbar": {
             "outlinewidth": 0,
             "ticks": ""
            },
            "colorscale": [
             [
              0,
              "#0d0887"
             ],
             [
              0.1111111111111111,
              "#46039f"
             ],
             [
              0.2222222222222222,
              "#7201a8"
             ],
             [
              0.3333333333333333,
              "#9c179e"
             ],
             [
              0.4444444444444444,
              "#bd3786"
             ],
             [
              0.5555555555555556,
              "#d8576b"
             ],
             [
              0.6666666666666666,
              "#ed7953"
             ],
             [
              0.7777777777777778,
              "#fb9f3a"
             ],
             [
              0.8888888888888888,
              "#fdca26"
             ],
             [
              1,
              "#f0f921"
             ]
            ],
            "type": "heatmapgl"
           }
          ],
          "histogram": [
           {
            "marker": {
             "colorbar": {
              "outlinewidth": 0,
              "ticks": ""
             }
            },
            "type": "histogram"
           }
          ],
          "histogram2d": [
           {
            "colorbar": {
             "outlinewidth": 0,
             "ticks": ""
            },
            "colorscale": [
             [
              0,
              "#0d0887"
             ],
             [
              0.1111111111111111,
              "#46039f"
             ],
             [
              0.2222222222222222,
              "#7201a8"
             ],
             [
              0.3333333333333333,
              "#9c179e"
             ],
             [
              0.4444444444444444,
              "#bd3786"
             ],
             [
              0.5555555555555556,
              "#d8576b"
             ],
             [
              0.6666666666666666,
              "#ed7953"
             ],
             [
              0.7777777777777778,
              "#fb9f3a"
             ],
             [
              0.8888888888888888,
              "#fdca26"
             ],
             [
              1,
              "#f0f921"
             ]
            ],
            "type": "histogram2d"
           }
          ],
          "histogram2dcontour": [
           {
            "colorbar": {
             "outlinewidth": 0,
             "ticks": ""
            },
            "colorscale": [
             [
              0,
              "#0d0887"
             ],
             [
              0.1111111111111111,
              "#46039f"
             ],
             [
              0.2222222222222222,
              "#7201a8"
             ],
             [
              0.3333333333333333,
              "#9c179e"
             ],
             [
              0.4444444444444444,
              "#bd3786"
             ],
             [
              0.5555555555555556,
              "#d8576b"
             ],
             [
              0.6666666666666666,
              "#ed7953"
             ],
             [
              0.7777777777777778,
              "#fb9f3a"
             ],
             [
              0.8888888888888888,
              "#fdca26"
             ],
             [
              1,
              "#f0f921"
             ]
            ],
            "type": "histogram2dcontour"
           }
          ],
          "mesh3d": [
           {
            "colorbar": {
             "outlinewidth": 0,
             "ticks": ""
            },
            "type": "mesh3d"
           }
          ],
          "parcoords": [
           {
            "line": {
             "colorbar": {
              "outlinewidth": 0,
              "ticks": ""
             }
            },
            "type": "parcoords"
           }
          ],
          "pie": [
           {
            "automargin": true,
            "type": "pie"
           }
          ],
          "scatter": [
           {
            "marker": {
             "colorbar": {
              "outlinewidth": 0,
              "ticks": ""
             }
            },
            "type": "scatter"
           }
          ],
          "scatter3d": [
           {
            "line": {
             "colorbar": {
              "outlinewidth": 0,
              "ticks": ""
             }
            },
            "marker": {
             "colorbar": {
              "outlinewidth": 0,
              "ticks": ""
             }
            },
            "type": "scatter3d"
           }
          ],
          "scattercarpet": [
           {
            "marker": {
             "colorbar": {
              "outlinewidth": 0,
              "ticks": ""
             }
            },
            "type": "scattercarpet"
           }
          ],
          "scattergeo": [
           {
            "marker": {
             "colorbar": {
              "outlinewidth": 0,
              "ticks": ""
             }
            },
            "type": "scattergeo"
           }
          ],
          "scattergl": [
           {
            "marker": {
             "colorbar": {
              "outlinewidth": 0,
              "ticks": ""
             }
            },
            "type": "scattergl"
           }
          ],
          "scattermapbox": [
           {
            "marker": {
             "colorbar": {
              "outlinewidth": 0,
              "ticks": ""
             }
            },
            "type": "scattermapbox"
           }
          ],
          "scatterpolar": [
           {
            "marker": {
             "colorbar": {
              "outlinewidth": 0,
              "ticks": ""
             }
            },
            "type": "scatterpolar"
           }
          ],
          "scatterpolargl": [
           {
            "marker": {
             "colorbar": {
              "outlinewidth": 0,
              "ticks": ""
             }
            },
            "type": "scatterpolargl"
           }
          ],
          "scatterternary": [
           {
            "marker": {
             "colorbar": {
              "outlinewidth": 0,
              "ticks": ""
             }
            },
            "type": "scatterternary"
           }
          ],
          "surface": [
           {
            "colorbar": {
             "outlinewidth": 0,
             "ticks": ""
            },
            "colorscale": [
             [
              0,
              "#0d0887"
             ],
             [
              0.1111111111111111,
              "#46039f"
             ],
             [
              0.2222222222222222,
              "#7201a8"
             ],
             [
              0.3333333333333333,
              "#9c179e"
             ],
             [
              0.4444444444444444,
              "#bd3786"
             ],
             [
              0.5555555555555556,
              "#d8576b"
             ],
             [
              0.6666666666666666,
              "#ed7953"
             ],
             [
              0.7777777777777778,
              "#fb9f3a"
             ],
             [
              0.8888888888888888,
              "#fdca26"
             ],
             [
              1,
              "#f0f921"
             ]
            ],
            "type": "surface"
           }
          ],
          "table": [
           {
            "cells": {
             "fill": {
              "color": "#EBF0F8"
             },
             "line": {
              "color": "white"
             }
            },
            "header": {
             "fill": {
              "color": "#C8D4E3"
             },
             "line": {
              "color": "white"
             }
            },
            "type": "table"
           }
          ]
         },
         "layout": {
          "annotationdefaults": {
           "arrowcolor": "#2a3f5f",
           "arrowhead": 0,
           "arrowwidth": 1
          },
          "autotypenumbers": "strict",
          "coloraxis": {
           "colorbar": {
            "outlinewidth": 0,
            "ticks": ""
           }
          },
          "colorscale": {
           "diverging": [
            [
             0,
             "#8e0152"
            ],
            [
             0.1,
             "#c51b7d"
            ],
            [
             0.2,
             "#de77ae"
            ],
            [
             0.3,
             "#f1b6da"
            ],
            [
             0.4,
             "#fde0ef"
            ],
            [
             0.5,
             "#f7f7f7"
            ],
            [
             0.6,
             "#e6f5d0"
            ],
            [
             0.7,
             "#b8e186"
            ],
            [
             0.8,
             "#7fbc41"
            ],
            [
             0.9,
             "#4d9221"
            ],
            [
             1,
             "#276419"
            ]
           ],
           "sequential": [
            [
             0,
             "#0d0887"
            ],
            [
             0.1111111111111111,
             "#46039f"
            ],
            [
             0.2222222222222222,
             "#7201a8"
            ],
            [
             0.3333333333333333,
             "#9c179e"
            ],
            [
             0.4444444444444444,
             "#bd3786"
            ],
            [
             0.5555555555555556,
             "#d8576b"
            ],
            [
             0.6666666666666666,
             "#ed7953"
            ],
            [
             0.7777777777777778,
             "#fb9f3a"
            ],
            [
             0.8888888888888888,
             "#fdca26"
            ],
            [
             1,
             "#f0f921"
            ]
           ],
           "sequentialminus": [
            [
             0,
             "#0d0887"
            ],
            [
             0.1111111111111111,
             "#46039f"
            ],
            [
             0.2222222222222222,
             "#7201a8"
            ],
            [
             0.3333333333333333,
             "#9c179e"
            ],
            [
             0.4444444444444444,
             "#bd3786"
            ],
            [
             0.5555555555555556,
             "#d8576b"
            ],
            [
             0.6666666666666666,
             "#ed7953"
            ],
            [
             0.7777777777777778,
             "#fb9f3a"
            ],
            [
             0.8888888888888888,
             "#fdca26"
            ],
            [
             1,
             "#f0f921"
            ]
           ]
          },
          "colorway": [
           "#636efa",
           "#EF553B",
           "#00cc96",
           "#ab63fa",
           "#FFA15A",
           "#19d3f3",
           "#FF6692",
           "#B6E880",
           "#FF97FF",
           "#FECB52"
          ],
          "font": {
           "color": "#2a3f5f"
          },
          "geo": {
           "bgcolor": "white",
           "lakecolor": "white",
           "landcolor": "#E5ECF6",
           "showlakes": true,
           "showland": true,
           "subunitcolor": "white"
          },
          "hoverlabel": {
           "align": "left"
          },
          "hovermode": "closest",
          "mapbox": {
           "style": "light"
          },
          "paper_bgcolor": "white",
          "plot_bgcolor": "#E5ECF6",
          "polar": {
           "angularaxis": {
            "gridcolor": "white",
            "linecolor": "white",
            "ticks": ""
           },
           "bgcolor": "#E5ECF6",
           "radialaxis": {
            "gridcolor": "white",
            "linecolor": "white",
            "ticks": ""
           }
          },
          "scene": {
           "xaxis": {
            "backgroundcolor": "#E5ECF6",
            "gridcolor": "white",
            "gridwidth": 2,
            "linecolor": "white",
            "showbackground": true,
            "ticks": "",
            "zerolinecolor": "white"
           },
           "yaxis": {
            "backgroundcolor": "#E5ECF6",
            "gridcolor": "white",
            "gridwidth": 2,
            "linecolor": "white",
            "showbackground": true,
            "ticks": "",
            "zerolinecolor": "white"
           },
           "zaxis": {
            "backgroundcolor": "#E5ECF6",
            "gridcolor": "white",
            "gridwidth": 2,
            "linecolor": "white",
            "showbackground": true,
            "ticks": "",
            "zerolinecolor": "white"
           }
          },
          "shapedefaults": {
           "line": {
            "color": "#2a3f5f"
           }
          },
          "ternary": {
           "aaxis": {
            "gridcolor": "white",
            "linecolor": "white",
            "ticks": ""
           },
           "baxis": {
            "gridcolor": "white",
            "linecolor": "white",
            "ticks": ""
           },
           "bgcolor": "#E5ECF6",
           "caxis": {
            "gridcolor": "white",
            "linecolor": "white",
            "ticks": ""
           }
          },
          "title": {
           "x": 0.05
          },
          "xaxis": {
           "automargin": true,
           "gridcolor": "white",
           "linecolor": "white",
           "ticks": "",
           "title": {
            "standoff": 15
           },
           "zerolinecolor": "white",
           "zerolinewidth": 2
          },
          "yaxis": {
           "automargin": true,
           "gridcolor": "white",
           "linecolor": "white",
           "ticks": "",
           "title": {
            "standoff": 15
           },
           "zerolinecolor": "white",
           "zerolinewidth": 2
          }
         }
        },
        "title": {
         "text": "Free Session total Student from Department did not have laptop "
        },
        "xaxis": {
         "linecolor": "black",
         "linewidth": 2,
         "mirror": true,
         "showline": true,
         "showticklabels": true,
         "tickangle": 45,
         "tickfont": {
          "color": "red",
          "size": 10
         },
         "title": {
          "text": "Department Name"
         },
         "zeroline": true,
         "zerolinecolor": "grey",
         "zerolinewidth": 1
        },
        "yaxis": {
         "gridcolor": "lightgrey",
         "linecolor": "black",
         "linewidth": 2,
         "mirror": true,
         "showline": true,
         "title": {
          "text": "Total Students"
         },
         "zeroline": true,
         "zerolinecolor": "grey",
         "zerolinewidth": 1
        }
       }
      },
      "text/html": [
       "<div>                            <div id=\"ae888acd-8bd1-44c0-a80f-88fb98031b6d\" class=\"plotly-graph-div\" style=\"height:525px; width:100%;\"></div>            <script type=\"text/javascript\">                require([\"plotly\"], function(Plotly) {                    window.PLOTLYENV=window.PLOTLYENV || {};                                    if (document.getElementById(\"ae888acd-8bd1-44c0-a80f-88fb98031b6d\")) {                    Plotly.newPlot(                        \"ae888acd-8bd1-44c0-a80f-88fb98031b6d\",                        [{\"marker\": {\"color\": \"lightgreen\"}, \"text\": [\"Honors (BSC/MSC)\", \"Engineering\", \"others\", \"Mathematics\", \"Statistics\", \"Statistics \", \"B.Sc Statistics honours\", \"MATHEMATICS \", \"Math (H) \", \"Master of science in applied Mathematics\", \"Mechanical engineering\", \"MSc Mathematics\", \"MSc\", \"Mathematics \", \"Mathematics (MSC)\", \"Mathematics MSc.\", \"Mathematics honours \", \"Mca\", \"Mechanical\", \"Msc Mathematics \", \"Mechanical engineering \", \"Microbiology\", \"Msc in applied mathematics\", \"Msc. Mathematics\", \"Power\", \"Power engineering\", \"Power plant engineering\", \"Pure mathematics\", \"STATISTICS\", \"Statistics (H)\", \"Statistics Honours (B.Sc.)\", \"Statistics Honours Student\", \"Ststistics\", \"Studying M.sc in mathematics\", \"MSC IN MATHEMATICS\", \" LINEAR ALGEBRA IN MATHEMATICS\", \"MATHEMATICS\", \"Bsc. Statistics Honours Student(Final Year)\", \"Atrs\", \"B-tech (ECE 2'nd year)\", \"B-tech in ece\", \"B. Tech (Cse) \", \"B.Com (H)\", \"B.Sc\", \"B.sc in Statistics\", \"B.sc nursing\", \"B.tech (ECE)\", \"BCA\", \"Bsc physics honours \", \"Bsc(state )\", \"Bsc. Hons\", \"Btech 4th year on ECE department\", \"APPLIES MATHEMATICS\", \"Byech\", \"Civil Engineering\", \"Computer Science\", \"Computer science\", \"Did my graduation on mathematics\", \"ECE\", \"Electrical engineering\", \"Electronics and communication Engineering (B.Tech)\", \"Electronics and telecommunication\", \"H.S passed\", \"M.SC. IN APPLIED MATHEMATICS\", \"M.Sc in Mathematics\", \"M.sc\", \"M.sc Mathematics\"], \"type\": \"bar\", \"x\": [\"Honors (BSC/MSC)\", \"Engineering\", \"others\", \"Mathematics\", \"Statistics\", \"Statistics \", \"B.Sc Statistics honours\", \"MATHEMATICS \", \"Math (H) \", \"Master of science in applied Mathematics\", \"Mechanical engineering\", \"MSc Mathematics\", \"MSc\", \"Mathematics \", \"Mathematics (MSC)\", \"Mathematics MSc.\", \"Mathematics honours \", \"Mca\", \"Mechanical\", \"Msc Mathematics \", \"Mechanical engineering \", \"Microbiology\", \"Msc in applied mathematics\", \"Msc. Mathematics\", \"Power\", \"Power engineering\", \"Power plant engineering\", \"Pure mathematics\", \"STATISTICS\", \"Statistics (H)\", \"Statistics Honours (B.Sc.)\", \"Statistics Honours Student\", \"Ststistics\", \"Studying M.sc in mathematics\", \"MSC IN MATHEMATICS\", \" LINEAR ALGEBRA IN MATHEMATICS\", \"MATHEMATICS\", \"Bsc. Statistics Honours Student(Final Year)\", \"Atrs\", \"B-tech (ECE 2'nd year)\", \"B-tech in ece\", \"B. Tech (Cse) \", \"B.Com (H)\", \"B.Sc\", \"B.sc in Statistics\", \"B.sc nursing\", \"B.tech (ECE)\", \"BCA\", \"Bsc physics honours \", \"Bsc(state )\", \"Bsc. Hons\", \"Btech 4th year on ECE department\", \"APPLIES MATHEMATICS\", \"Byech\", \"Civil Engineering\", \"Computer Science\", \"Computer science\", \"Did my graduation on mathematics\", \"ECE\", \"Electrical engineering\", \"Electronics and communication Engineering (B.Tech)\", \"Electronics and telecommunication\", \"H.S passed\", \"M.SC. IN APPLIED MATHEMATICS\", \"M.Sc in Mathematics\", \"M.sc\", \"M.sc Mathematics\"], \"y\": [69, 30, 23, 4, 4, 2, 2, 2, 1, 1, 1, 1, 1, 1, 1, 1, 1, 1, 1, 1, 1, 1, 1, 1, 1, 1, 1, 1, 1, 1, 1, 1, 1, 1, 1, 1, 1, 1, 1, 1, 1, 1, 1, 1, 1, 1, 1, 1, 1, 1, 1, 1, 1, 1, 1, 1, 1, 1, 1, 1, 1, 1, 1, 1, 1, 1, 1]}],                        {\"hovermode\": \"closest\", \"paper_bgcolor\": \"rgba(0, 0, 0, 0)\", \"plot_bgcolor\": \"rgba(0, 0, 0, 0)\", \"template\": {\"data\": {\"bar\": [{\"error_x\": {\"color\": \"#2a3f5f\"}, \"error_y\": {\"color\": \"#2a3f5f\"}, \"marker\": {\"line\": {\"color\": \"#E5ECF6\", \"width\": 0.5}}, \"type\": \"bar\"}], \"barpolar\": [{\"marker\": {\"line\": {\"color\": \"#E5ECF6\", \"width\": 0.5}}, \"type\": \"barpolar\"}], \"carpet\": [{\"aaxis\": {\"endlinecolor\": \"#2a3f5f\", \"gridcolor\": \"white\", \"linecolor\": \"white\", \"minorgridcolor\": \"white\", \"startlinecolor\": \"#2a3f5f\"}, \"baxis\": {\"endlinecolor\": \"#2a3f5f\", \"gridcolor\": \"white\", \"linecolor\": \"white\", \"minorgridcolor\": \"white\", \"startlinecolor\": \"#2a3f5f\"}, \"type\": \"carpet\"}], \"choropleth\": [{\"colorbar\": {\"outlinewidth\": 0, \"ticks\": \"\"}, \"type\": \"choropleth\"}], \"contour\": [{\"colorbar\": {\"outlinewidth\": 0, \"ticks\": \"\"}, \"colorscale\": [[0.0, \"#0d0887\"], [0.1111111111111111, \"#46039f\"], [0.2222222222222222, \"#7201a8\"], [0.3333333333333333, \"#9c179e\"], [0.4444444444444444, \"#bd3786\"], [0.5555555555555556, \"#d8576b\"], [0.6666666666666666, \"#ed7953\"], [0.7777777777777778, \"#fb9f3a\"], [0.8888888888888888, \"#fdca26\"], [1.0, \"#f0f921\"]], \"type\": \"contour\"}], \"contourcarpet\": [{\"colorbar\": {\"outlinewidth\": 0, \"ticks\": \"\"}, \"type\": \"contourcarpet\"}], \"heatmap\": [{\"colorbar\": {\"outlinewidth\": 0, \"ticks\": \"\"}, \"colorscale\": [[0.0, \"#0d0887\"], [0.1111111111111111, \"#46039f\"], [0.2222222222222222, \"#7201a8\"], [0.3333333333333333, \"#9c179e\"], [0.4444444444444444, \"#bd3786\"], [0.5555555555555556, \"#d8576b\"], [0.6666666666666666, \"#ed7953\"], [0.7777777777777778, \"#fb9f3a\"], [0.8888888888888888, \"#fdca26\"], [1.0, \"#f0f921\"]], \"type\": \"heatmap\"}], \"heatmapgl\": [{\"colorbar\": {\"outlinewidth\": 0, \"ticks\": \"\"}, \"colorscale\": [[0.0, \"#0d0887\"], [0.1111111111111111, \"#46039f\"], [0.2222222222222222, \"#7201a8\"], [0.3333333333333333, \"#9c179e\"], [0.4444444444444444, \"#bd3786\"], [0.5555555555555556, \"#d8576b\"], [0.6666666666666666, \"#ed7953\"], [0.7777777777777778, \"#fb9f3a\"], [0.8888888888888888, \"#fdca26\"], [1.0, \"#f0f921\"]], \"type\": \"heatmapgl\"}], \"histogram\": [{\"marker\": {\"colorbar\": {\"outlinewidth\": 0, \"ticks\": \"\"}}, \"type\": \"histogram\"}], \"histogram2d\": [{\"colorbar\": {\"outlinewidth\": 0, \"ticks\": \"\"}, \"colorscale\": [[0.0, \"#0d0887\"], [0.1111111111111111, \"#46039f\"], [0.2222222222222222, \"#7201a8\"], [0.3333333333333333, \"#9c179e\"], [0.4444444444444444, \"#bd3786\"], [0.5555555555555556, \"#d8576b\"], [0.6666666666666666, \"#ed7953\"], [0.7777777777777778, \"#fb9f3a\"], [0.8888888888888888, \"#fdca26\"], [1.0, \"#f0f921\"]], \"type\": \"histogram2d\"}], \"histogram2dcontour\": [{\"colorbar\": {\"outlinewidth\": 0, \"ticks\": \"\"}, \"colorscale\": [[0.0, \"#0d0887\"], [0.1111111111111111, \"#46039f\"], [0.2222222222222222, \"#7201a8\"], [0.3333333333333333, \"#9c179e\"], [0.4444444444444444, \"#bd3786\"], [0.5555555555555556, \"#d8576b\"], [0.6666666666666666, \"#ed7953\"], [0.7777777777777778, \"#fb9f3a\"], [0.8888888888888888, \"#fdca26\"], [1.0, \"#f0f921\"]], \"type\": \"histogram2dcontour\"}], \"mesh3d\": [{\"colorbar\": {\"outlinewidth\": 0, \"ticks\": \"\"}, \"type\": \"mesh3d\"}], \"parcoords\": [{\"line\": {\"colorbar\": {\"outlinewidth\": 0, \"ticks\": \"\"}}, \"type\": \"parcoords\"}], \"pie\": [{\"automargin\": true, \"type\": \"pie\"}], \"scatter\": [{\"marker\": {\"colorbar\": {\"outlinewidth\": 0, \"ticks\": \"\"}}, \"type\": \"scatter\"}], \"scatter3d\": [{\"line\": {\"colorbar\": {\"outlinewidth\": 0, \"ticks\": \"\"}}, \"marker\": {\"colorbar\": {\"outlinewidth\": 0, \"ticks\": \"\"}}, \"type\": \"scatter3d\"}], \"scattercarpet\": [{\"marker\": {\"colorbar\": {\"outlinewidth\": 0, \"ticks\": \"\"}}, \"type\": \"scattercarpet\"}], \"scattergeo\": [{\"marker\": {\"colorbar\": {\"outlinewidth\": 0, \"ticks\": \"\"}}, \"type\": \"scattergeo\"}], \"scattergl\": [{\"marker\": {\"colorbar\": {\"outlinewidth\": 0, \"ticks\": \"\"}}, \"type\": \"scattergl\"}], \"scattermapbox\": [{\"marker\": {\"colorbar\": {\"outlinewidth\": 0, \"ticks\": \"\"}}, \"type\": \"scattermapbox\"}], \"scatterpolar\": [{\"marker\": {\"colorbar\": {\"outlinewidth\": 0, \"ticks\": \"\"}}, \"type\": \"scatterpolar\"}], \"scatterpolargl\": [{\"marker\": {\"colorbar\": {\"outlinewidth\": 0, \"ticks\": \"\"}}, \"type\": \"scatterpolargl\"}], \"scatterternary\": [{\"marker\": {\"colorbar\": {\"outlinewidth\": 0, \"ticks\": \"\"}}, \"type\": \"scatterternary\"}], \"surface\": [{\"colorbar\": {\"outlinewidth\": 0, \"ticks\": \"\"}, \"colorscale\": [[0.0, \"#0d0887\"], [0.1111111111111111, \"#46039f\"], [0.2222222222222222, \"#7201a8\"], [0.3333333333333333, \"#9c179e\"], [0.4444444444444444, \"#bd3786\"], [0.5555555555555556, \"#d8576b\"], [0.6666666666666666, \"#ed7953\"], [0.7777777777777778, \"#fb9f3a\"], [0.8888888888888888, \"#fdca26\"], [1.0, \"#f0f921\"]], \"type\": \"surface\"}], \"table\": [{\"cells\": {\"fill\": {\"color\": \"#EBF0F8\"}, \"line\": {\"color\": \"white\"}}, \"header\": {\"fill\": {\"color\": \"#C8D4E3\"}, \"line\": {\"color\": \"white\"}}, \"type\": \"table\"}]}, \"layout\": {\"annotationdefaults\": {\"arrowcolor\": \"#2a3f5f\", \"arrowhead\": 0, \"arrowwidth\": 1}, \"autotypenumbers\": \"strict\", \"coloraxis\": {\"colorbar\": {\"outlinewidth\": 0, \"ticks\": \"\"}}, \"colorscale\": {\"diverging\": [[0, \"#8e0152\"], [0.1, \"#c51b7d\"], [0.2, \"#de77ae\"], [0.3, \"#f1b6da\"], [0.4, \"#fde0ef\"], [0.5, \"#f7f7f7\"], [0.6, \"#e6f5d0\"], [0.7, \"#b8e186\"], [0.8, \"#7fbc41\"], [0.9, \"#4d9221\"], [1, \"#276419\"]], \"sequential\": [[0.0, \"#0d0887\"], [0.1111111111111111, \"#46039f\"], [0.2222222222222222, \"#7201a8\"], [0.3333333333333333, \"#9c179e\"], [0.4444444444444444, \"#bd3786\"], [0.5555555555555556, \"#d8576b\"], [0.6666666666666666, \"#ed7953\"], [0.7777777777777778, \"#fb9f3a\"], [0.8888888888888888, \"#fdca26\"], [1.0, \"#f0f921\"]], \"sequentialminus\": [[0.0, \"#0d0887\"], [0.1111111111111111, \"#46039f\"], [0.2222222222222222, \"#7201a8\"], [0.3333333333333333, \"#9c179e\"], [0.4444444444444444, \"#bd3786\"], [0.5555555555555556, \"#d8576b\"], [0.6666666666666666, \"#ed7953\"], [0.7777777777777778, \"#fb9f3a\"], [0.8888888888888888, \"#fdca26\"], [1.0, \"#f0f921\"]]}, \"colorway\": [\"#636efa\", \"#EF553B\", \"#00cc96\", \"#ab63fa\", \"#FFA15A\", \"#19d3f3\", \"#FF6692\", \"#B6E880\", \"#FF97FF\", \"#FECB52\"], \"font\": {\"color\": \"#2a3f5f\"}, \"geo\": {\"bgcolor\": \"white\", \"lakecolor\": \"white\", \"landcolor\": \"#E5ECF6\", \"showlakes\": true, \"showland\": true, \"subunitcolor\": \"white\"}, \"hoverlabel\": {\"align\": \"left\"}, \"hovermode\": \"closest\", \"mapbox\": {\"style\": \"light\"}, \"paper_bgcolor\": \"white\", \"plot_bgcolor\": \"#E5ECF6\", \"polar\": {\"angularaxis\": {\"gridcolor\": \"white\", \"linecolor\": \"white\", \"ticks\": \"\"}, \"bgcolor\": \"#E5ECF6\", \"radialaxis\": {\"gridcolor\": \"white\", \"linecolor\": \"white\", \"ticks\": \"\"}}, \"scene\": {\"xaxis\": {\"backgroundcolor\": \"#E5ECF6\", \"gridcolor\": \"white\", \"gridwidth\": 2, \"linecolor\": \"white\", \"showbackground\": true, \"ticks\": \"\", \"zerolinecolor\": \"white\"}, \"yaxis\": {\"backgroundcolor\": \"#E5ECF6\", \"gridcolor\": \"white\", \"gridwidth\": 2, \"linecolor\": \"white\", \"showbackground\": true, \"ticks\": \"\", \"zerolinecolor\": \"white\"}, \"zaxis\": {\"backgroundcolor\": \"#E5ECF6\", \"gridcolor\": \"white\", \"gridwidth\": 2, \"linecolor\": \"white\", \"showbackground\": true, \"ticks\": \"\", \"zerolinecolor\": \"white\"}}, \"shapedefaults\": {\"line\": {\"color\": \"#2a3f5f\"}}, \"ternary\": {\"aaxis\": {\"gridcolor\": \"white\", \"linecolor\": \"white\", \"ticks\": \"\"}, \"baxis\": {\"gridcolor\": \"white\", \"linecolor\": \"white\", \"ticks\": \"\"}, \"bgcolor\": \"#E5ECF6\", \"caxis\": {\"gridcolor\": \"white\", \"linecolor\": \"white\", \"ticks\": \"\"}}, \"title\": {\"x\": 0.05}, \"xaxis\": {\"automargin\": true, \"gridcolor\": \"white\", \"linecolor\": \"white\", \"ticks\": \"\", \"title\": {\"standoff\": 15}, \"zerolinecolor\": \"white\", \"zerolinewidth\": 2}, \"yaxis\": {\"automargin\": true, \"gridcolor\": \"white\", \"linecolor\": \"white\", \"ticks\": \"\", \"title\": {\"standoff\": 15}, \"zerolinecolor\": \"white\", \"zerolinewidth\": 2}}}, \"title\": {\"text\": \"Free Session total Student from Department did not have laptop \"}, \"xaxis\": {\"linecolor\": \"black\", \"linewidth\": 2, \"mirror\": true, \"showline\": true, \"showticklabels\": true, \"tickangle\": 45, \"tickfont\": {\"color\": \"red\", \"size\": 10}, \"title\": {\"text\": \"Department Name\"}, \"zeroline\": true, \"zerolinecolor\": \"grey\", \"zerolinewidth\": 1}, \"yaxis\": {\"gridcolor\": \"lightgrey\", \"linecolor\": \"black\", \"linewidth\": 2, \"mirror\": true, \"showline\": true, \"title\": {\"text\": \"Total Students\"}, \"zeroline\": true, \"zerolinecolor\": \"grey\", \"zerolinewidth\": 1}},                        {\"responsive\": true}                    ).then(function(){\n",
       "                            \n",
       "var gd = document.getElementById('ae888acd-8bd1-44c0-a80f-88fb98031b6d');\n",
       "var x = new MutationObserver(function (mutations, observer) {{\n",
       "        var display = window.getComputedStyle(gd).display;\n",
       "        if (!display || display === 'none') {{\n",
       "            console.log([gd, 'removed!']);\n",
       "            Plotly.purge(gd);\n",
       "            observer.disconnect();\n",
       "        }}\n",
       "}});\n",
       "\n",
       "// Listen for the removal of the full notebook cells\n",
       "var notebookContainer = gd.closest('#notebook-container');\n",
       "if (notebookContainer) {{\n",
       "    x.observe(notebookContainer, {childList: true});\n",
       "}}\n",
       "\n",
       "// Listen for the clearing of the current output cell\n",
       "var outputEl = gd.closest('.output');\n",
       "if (outputEl) {{\n",
       "    x.observe(outputEl, {childList: true});\n",
       "}}\n",
       "\n",
       "                        })                };                });            </script>        </div>"
      ]
     },
     "metadata": {},
     "output_type": "display_data"
    }
   ],
   "source": [
    "draw_trace_bar(dep_no_laptop,'Department','no_laptop_counts','Free Session total Student from Department did not have laptop ', 'Department Name','Total Students',\"lightgreen\")"
   ]
  },
  {
   "cell_type": "code",
   "execution_count": 238,
   "metadata": {},
   "outputs": [
    {
     "data": {
      "text/html": [
       "<div>\n",
       "<style scoped>\n",
       "    .dataframe tbody tr th:only-of-type {\n",
       "        vertical-align: middle;\n",
       "    }\n",
       "\n",
       "    .dataframe tbody tr th {\n",
       "        vertical-align: top;\n",
       "    }\n",
       "\n",
       "    .dataframe thead th {\n",
       "        text-align: right;\n",
       "    }\n",
       "</style>\n",
       "<table border=\"1\" class=\"dataframe\">\n",
       "  <thead>\n",
       "    <tr style=\"text-align: right;\">\n",
       "      <th></th>\n",
       "      <th>Country</th>\n",
       "    </tr>\n",
       "    <tr>\n",
       "      <th>Country</th>\n",
       "      <th></th>\n",
       "    </tr>\n",
       "  </thead>\n",
       "  <tbody>\n",
       "    <tr>\n",
       "      <th>Bangladesh</th>\n",
       "      <td>2</td>\n",
       "    </tr>\n",
       "    <tr>\n",
       "      <th>India</th>\n",
       "      <td>88</td>\n",
       "    </tr>\n",
       "  </tbody>\n",
       "</table>\n",
       "</div>"
      ],
      "text/plain": [
       "            Country\n",
       "Country            \n",
       "Bangladesh        2\n",
       "India            88"
      ]
     },
     "execution_count": 238,
     "metadata": {},
     "output_type": "execute_result"
    }
   ],
   "source": [
    "#collega data counting all college\n",
    "nolaptop3 = nolaptop.groupby('Country')['Country'].agg('count')\n",
    "no_laptop_country= pd.DataFrame(nolaptop3)\n",
    "no_laptop_country"
   ]
  },
  {
   "cell_type": "code",
   "execution_count": 239,
   "metadata": {},
   "outputs": [
    {
     "data": {
      "text/html": [
       "<div>\n",
       "<style scoped>\n",
       "    .dataframe tbody tr th:only-of-type {\n",
       "        vertical-align: middle;\n",
       "    }\n",
       "\n",
       "    .dataframe tbody tr th {\n",
       "        vertical-align: top;\n",
       "    }\n",
       "\n",
       "    .dataframe thead th {\n",
       "        text-align: right;\n",
       "    }\n",
       "</style>\n",
       "<table border=\"1\" class=\"dataframe\">\n",
       "  <thead>\n",
       "    <tr style=\"text-align: right;\">\n",
       "      <th></th>\n",
       "      <th>no_laptop_counts</th>\n",
       "    </tr>\n",
       "    <tr>\n",
       "      <th>Country</th>\n",
       "      <th></th>\n",
       "    </tr>\n",
       "  </thead>\n",
       "  <tbody>\n",
       "    <tr>\n",
       "      <th>Bangladesh</th>\n",
       "      <td>2</td>\n",
       "    </tr>\n",
       "    <tr>\n",
       "      <th>India</th>\n",
       "      <td>88</td>\n",
       "    </tr>\n",
       "  </tbody>\n",
       "</table>\n",
       "</div>"
      ],
      "text/plain": [
       "            no_laptop_counts\n",
       "Country                     \n",
       "Bangladesh                 2\n",
       "India                     88"
      ]
     },
     "execution_count": 239,
     "metadata": {},
     "output_type": "execute_result"
    }
   ],
   "source": [
    "#renameing to total_counts of department data\n",
    "no_laptop_country.rename(columns={\"Country\": \"no_laptop_counts\"},inplace=True)\n",
    "no_laptop_country"
   ]
  },
  {
   "cell_type": "code",
   "execution_count": 240,
   "metadata": {},
   "outputs": [
    {
     "data": {
      "text/html": [
       "<div>\n",
       "<style scoped>\n",
       "    .dataframe tbody tr th:only-of-type {\n",
       "        vertical-align: middle;\n",
       "    }\n",
       "\n",
       "    .dataframe tbody tr th {\n",
       "        vertical-align: top;\n",
       "    }\n",
       "\n",
       "    .dataframe thead th {\n",
       "        text-align: right;\n",
       "    }\n",
       "</style>\n",
       "<table border=\"1\" class=\"dataframe\">\n",
       "  <thead>\n",
       "    <tr style=\"text-align: right;\">\n",
       "      <th></th>\n",
       "      <th>Country</th>\n",
       "      <th>no_laptop_counts</th>\n",
       "    </tr>\n",
       "  </thead>\n",
       "  <tbody>\n",
       "    <tr>\n",
       "      <th>0</th>\n",
       "      <td>Bangladesh</td>\n",
       "      <td>2</td>\n",
       "    </tr>\n",
       "    <tr>\n",
       "      <th>1</th>\n",
       "      <td>India</td>\n",
       "      <td>88</td>\n",
       "    </tr>\n",
       "  </tbody>\n",
       "</table>\n",
       "</div>"
      ],
      "text/plain": [
       "      Country  no_laptop_counts\n",
       "0  Bangladesh                 2\n",
       "1       India                88"
      ]
     },
     "execution_count": 240,
     "metadata": {},
     "output_type": "execute_result"
    }
   ],
   "source": [
    "no_laptop_country.reset_index(inplace=True)\n",
    "no_laptop_country"
   ]
  },
  {
   "cell_type": "code",
   "execution_count": 241,
   "metadata": {},
   "outputs": [
    {
     "data": {
      "application/vnd.plotly.v1+json": {
       "config": {
        "linkText": "Export to plot.ly",
        "plotlyServerURL": "https://plot.ly",
        "showLink": false
       },
       "data": [
        {
         "marker": {
          "color": "lightgreen"
         },
         "text": [
          "India",
          "Bangladesh"
         ],
         "type": "bar",
         "x": [
          "India",
          "Bangladesh"
         ],
         "y": [
          88,
          2
         ]
        }
       ],
       "layout": {
        "hovermode": "closest",
        "paper_bgcolor": "rgba(0, 0, 0, 0)",
        "plot_bgcolor": "rgba(0, 0, 0, 0)",
        "template": {
         "data": {
          "bar": [
           {
            "error_x": {
             "color": "#2a3f5f"
            },
            "error_y": {
             "color": "#2a3f5f"
            },
            "marker": {
             "line": {
              "color": "#E5ECF6",
              "width": 0.5
             }
            },
            "type": "bar"
           }
          ],
          "barpolar": [
           {
            "marker": {
             "line": {
              "color": "#E5ECF6",
              "width": 0.5
             }
            },
            "type": "barpolar"
           }
          ],
          "carpet": [
           {
            "aaxis": {
             "endlinecolor": "#2a3f5f",
             "gridcolor": "white",
             "linecolor": "white",
             "minorgridcolor": "white",
             "startlinecolor": "#2a3f5f"
            },
            "baxis": {
             "endlinecolor": "#2a3f5f",
             "gridcolor": "white",
             "linecolor": "white",
             "minorgridcolor": "white",
             "startlinecolor": "#2a3f5f"
            },
            "type": "carpet"
           }
          ],
          "choropleth": [
           {
            "colorbar": {
             "outlinewidth": 0,
             "ticks": ""
            },
            "type": "choropleth"
           }
          ],
          "contour": [
           {
            "colorbar": {
             "outlinewidth": 0,
             "ticks": ""
            },
            "colorscale": [
             [
              0,
              "#0d0887"
             ],
             [
              0.1111111111111111,
              "#46039f"
             ],
             [
              0.2222222222222222,
              "#7201a8"
             ],
             [
              0.3333333333333333,
              "#9c179e"
             ],
             [
              0.4444444444444444,
              "#bd3786"
             ],
             [
              0.5555555555555556,
              "#d8576b"
             ],
             [
              0.6666666666666666,
              "#ed7953"
             ],
             [
              0.7777777777777778,
              "#fb9f3a"
             ],
             [
              0.8888888888888888,
              "#fdca26"
             ],
             [
              1,
              "#f0f921"
             ]
            ],
            "type": "contour"
           }
          ],
          "contourcarpet": [
           {
            "colorbar": {
             "outlinewidth": 0,
             "ticks": ""
            },
            "type": "contourcarpet"
           }
          ],
          "heatmap": [
           {
            "colorbar": {
             "outlinewidth": 0,
             "ticks": ""
            },
            "colorscale": [
             [
              0,
              "#0d0887"
             ],
             [
              0.1111111111111111,
              "#46039f"
             ],
             [
              0.2222222222222222,
              "#7201a8"
             ],
             [
              0.3333333333333333,
              "#9c179e"
             ],
             [
              0.4444444444444444,
              "#bd3786"
             ],
             [
              0.5555555555555556,
              "#d8576b"
             ],
             [
              0.6666666666666666,
              "#ed7953"
             ],
             [
              0.7777777777777778,
              "#fb9f3a"
             ],
             [
              0.8888888888888888,
              "#fdca26"
             ],
             [
              1,
              "#f0f921"
             ]
            ],
            "type": "heatmap"
           }
          ],
          "heatmapgl": [
           {
            "colorbar": {
             "outlinewidth": 0,
             "ticks": ""
            },
            "colorscale": [
             [
              0,
              "#0d0887"
             ],
             [
              0.1111111111111111,
              "#46039f"
             ],
             [
              0.2222222222222222,
              "#7201a8"
             ],
             [
              0.3333333333333333,
              "#9c179e"
             ],
             [
              0.4444444444444444,
              "#bd3786"
             ],
             [
              0.5555555555555556,
              "#d8576b"
             ],
             [
              0.6666666666666666,
              "#ed7953"
             ],
             [
              0.7777777777777778,
              "#fb9f3a"
             ],
             [
              0.8888888888888888,
              "#fdca26"
             ],
             [
              1,
              "#f0f921"
             ]
            ],
            "type": "heatmapgl"
           }
          ],
          "histogram": [
           {
            "marker": {
             "colorbar": {
              "outlinewidth": 0,
              "ticks": ""
             }
            },
            "type": "histogram"
           }
          ],
          "histogram2d": [
           {
            "colorbar": {
             "outlinewidth": 0,
             "ticks": ""
            },
            "colorscale": [
             [
              0,
              "#0d0887"
             ],
             [
              0.1111111111111111,
              "#46039f"
             ],
             [
              0.2222222222222222,
              "#7201a8"
             ],
             [
              0.3333333333333333,
              "#9c179e"
             ],
             [
              0.4444444444444444,
              "#bd3786"
             ],
             [
              0.5555555555555556,
              "#d8576b"
             ],
             [
              0.6666666666666666,
              "#ed7953"
             ],
             [
              0.7777777777777778,
              "#fb9f3a"
             ],
             [
              0.8888888888888888,
              "#fdca26"
             ],
             [
              1,
              "#f0f921"
             ]
            ],
            "type": "histogram2d"
           }
          ],
          "histogram2dcontour": [
           {
            "colorbar": {
             "outlinewidth": 0,
             "ticks": ""
            },
            "colorscale": [
             [
              0,
              "#0d0887"
             ],
             [
              0.1111111111111111,
              "#46039f"
             ],
             [
              0.2222222222222222,
              "#7201a8"
             ],
             [
              0.3333333333333333,
              "#9c179e"
             ],
             [
              0.4444444444444444,
              "#bd3786"
             ],
             [
              0.5555555555555556,
              "#d8576b"
             ],
             [
              0.6666666666666666,
              "#ed7953"
             ],
             [
              0.7777777777777778,
              "#fb9f3a"
             ],
             [
              0.8888888888888888,
              "#fdca26"
             ],
             [
              1,
              "#f0f921"
             ]
            ],
            "type": "histogram2dcontour"
           }
          ],
          "mesh3d": [
           {
            "colorbar": {
             "outlinewidth": 0,
             "ticks": ""
            },
            "type": "mesh3d"
           }
          ],
          "parcoords": [
           {
            "line": {
             "colorbar": {
              "outlinewidth": 0,
              "ticks": ""
             }
            },
            "type": "parcoords"
           }
          ],
          "pie": [
           {
            "automargin": true,
            "type": "pie"
           }
          ],
          "scatter": [
           {
            "marker": {
             "colorbar": {
              "outlinewidth": 0,
              "ticks": ""
             }
            },
            "type": "scatter"
           }
          ],
          "scatter3d": [
           {
            "line": {
             "colorbar": {
              "outlinewidth": 0,
              "ticks": ""
             }
            },
            "marker": {
             "colorbar": {
              "outlinewidth": 0,
              "ticks": ""
             }
            },
            "type": "scatter3d"
           }
          ],
          "scattercarpet": [
           {
            "marker": {
             "colorbar": {
              "outlinewidth": 0,
              "ticks": ""
             }
            },
            "type": "scattercarpet"
           }
          ],
          "scattergeo": [
           {
            "marker": {
             "colorbar": {
              "outlinewidth": 0,
              "ticks": ""
             }
            },
            "type": "scattergeo"
           }
          ],
          "scattergl": [
           {
            "marker": {
             "colorbar": {
              "outlinewidth": 0,
              "ticks": ""
             }
            },
            "type": "scattergl"
           }
          ],
          "scattermapbox": [
           {
            "marker": {
             "colorbar": {
              "outlinewidth": 0,
              "ticks": ""
             }
            },
            "type": "scattermapbox"
           }
          ],
          "scatterpolar": [
           {
            "marker": {
             "colorbar": {
              "outlinewidth": 0,
              "ticks": ""
             }
            },
            "type": "scatterpolar"
           }
          ],
          "scatterpolargl": [
           {
            "marker": {
             "colorbar": {
              "outlinewidth": 0,
              "ticks": ""
             }
            },
            "type": "scatterpolargl"
           }
          ],
          "scatterternary": [
           {
            "marker": {
             "colorbar": {
              "outlinewidth": 0,
              "ticks": ""
             }
            },
            "type": "scatterternary"
           }
          ],
          "surface": [
           {
            "colorbar": {
             "outlinewidth": 0,
             "ticks": ""
            },
            "colorscale": [
             [
              0,
              "#0d0887"
             ],
             [
              0.1111111111111111,
              "#46039f"
             ],
             [
              0.2222222222222222,
              "#7201a8"
             ],
             [
              0.3333333333333333,
              "#9c179e"
             ],
             [
              0.4444444444444444,
              "#bd3786"
             ],
             [
              0.5555555555555556,
              "#d8576b"
             ],
             [
              0.6666666666666666,
              "#ed7953"
             ],
             [
              0.7777777777777778,
              "#fb9f3a"
             ],
             [
              0.8888888888888888,
              "#fdca26"
             ],
             [
              1,
              "#f0f921"
             ]
            ],
            "type": "surface"
           }
          ],
          "table": [
           {
            "cells": {
             "fill": {
              "color": "#EBF0F8"
             },
             "line": {
              "color": "white"
             }
            },
            "header": {
             "fill": {
              "color": "#C8D4E3"
             },
             "line": {
              "color": "white"
             }
            },
            "type": "table"
           }
          ]
         },
         "layout": {
          "annotationdefaults": {
           "arrowcolor": "#2a3f5f",
           "arrowhead": 0,
           "arrowwidth": 1
          },
          "autotypenumbers": "strict",
          "coloraxis": {
           "colorbar": {
            "outlinewidth": 0,
            "ticks": ""
           }
          },
          "colorscale": {
           "diverging": [
            [
             0,
             "#8e0152"
            ],
            [
             0.1,
             "#c51b7d"
            ],
            [
             0.2,
             "#de77ae"
            ],
            [
             0.3,
             "#f1b6da"
            ],
            [
             0.4,
             "#fde0ef"
            ],
            [
             0.5,
             "#f7f7f7"
            ],
            [
             0.6,
             "#e6f5d0"
            ],
            [
             0.7,
             "#b8e186"
            ],
            [
             0.8,
             "#7fbc41"
            ],
            [
             0.9,
             "#4d9221"
            ],
            [
             1,
             "#276419"
            ]
           ],
           "sequential": [
            [
             0,
             "#0d0887"
            ],
            [
             0.1111111111111111,
             "#46039f"
            ],
            [
             0.2222222222222222,
             "#7201a8"
            ],
            [
             0.3333333333333333,
             "#9c179e"
            ],
            [
             0.4444444444444444,
             "#bd3786"
            ],
            [
             0.5555555555555556,
             "#d8576b"
            ],
            [
             0.6666666666666666,
             "#ed7953"
            ],
            [
             0.7777777777777778,
             "#fb9f3a"
            ],
            [
             0.8888888888888888,
             "#fdca26"
            ],
            [
             1,
             "#f0f921"
            ]
           ],
           "sequentialminus": [
            [
             0,
             "#0d0887"
            ],
            [
             0.1111111111111111,
             "#46039f"
            ],
            [
             0.2222222222222222,
             "#7201a8"
            ],
            [
             0.3333333333333333,
             "#9c179e"
            ],
            [
             0.4444444444444444,
             "#bd3786"
            ],
            [
             0.5555555555555556,
             "#d8576b"
            ],
            [
             0.6666666666666666,
             "#ed7953"
            ],
            [
             0.7777777777777778,
             "#fb9f3a"
            ],
            [
             0.8888888888888888,
             "#fdca26"
            ],
            [
             1,
             "#f0f921"
            ]
           ]
          },
          "colorway": [
           "#636efa",
           "#EF553B",
           "#00cc96",
           "#ab63fa",
           "#FFA15A",
           "#19d3f3",
           "#FF6692",
           "#B6E880",
           "#FF97FF",
           "#FECB52"
          ],
          "font": {
           "color": "#2a3f5f"
          },
          "geo": {
           "bgcolor": "white",
           "lakecolor": "white",
           "landcolor": "#E5ECF6",
           "showlakes": true,
           "showland": true,
           "subunitcolor": "white"
          },
          "hoverlabel": {
           "align": "left"
          },
          "hovermode": "closest",
          "mapbox": {
           "style": "light"
          },
          "paper_bgcolor": "white",
          "plot_bgcolor": "#E5ECF6",
          "polar": {
           "angularaxis": {
            "gridcolor": "white",
            "linecolor": "white",
            "ticks": ""
           },
           "bgcolor": "#E5ECF6",
           "radialaxis": {
            "gridcolor": "white",
            "linecolor": "white",
            "ticks": ""
           }
          },
          "scene": {
           "xaxis": {
            "backgroundcolor": "#E5ECF6",
            "gridcolor": "white",
            "gridwidth": 2,
            "linecolor": "white",
            "showbackground": true,
            "ticks": "",
            "zerolinecolor": "white"
           },
           "yaxis": {
            "backgroundcolor": "#E5ECF6",
            "gridcolor": "white",
            "gridwidth": 2,
            "linecolor": "white",
            "showbackground": true,
            "ticks": "",
            "zerolinecolor": "white"
           },
           "zaxis": {
            "backgroundcolor": "#E5ECF6",
            "gridcolor": "white",
            "gridwidth": 2,
            "linecolor": "white",
            "showbackground": true,
            "ticks": "",
            "zerolinecolor": "white"
           }
          },
          "shapedefaults": {
           "line": {
            "color": "#2a3f5f"
           }
          },
          "ternary": {
           "aaxis": {
            "gridcolor": "white",
            "linecolor": "white",
            "ticks": ""
           },
           "baxis": {
            "gridcolor": "white",
            "linecolor": "white",
            "ticks": ""
           },
           "bgcolor": "#E5ECF6",
           "caxis": {
            "gridcolor": "white",
            "linecolor": "white",
            "ticks": ""
           }
          },
          "title": {
           "x": 0.05
          },
          "xaxis": {
           "automargin": true,
           "gridcolor": "white",
           "linecolor": "white",
           "ticks": "",
           "title": {
            "standoff": 15
           },
           "zerolinecolor": "white",
           "zerolinewidth": 2
          },
          "yaxis": {
           "automargin": true,
           "gridcolor": "white",
           "linecolor": "white",
           "ticks": "",
           "title": {
            "standoff": 15
           },
           "zerolinecolor": "white",
           "zerolinewidth": 2
          }
         }
        },
        "title": {
         "text": "Free Session total Student from Country did not have laptop "
        },
        "xaxis": {
         "linecolor": "black",
         "linewidth": 2,
         "mirror": true,
         "showline": true,
         "showticklabels": true,
         "tickangle": 45,
         "tickfont": {
          "color": "red",
          "size": 10
         },
         "title": {
          "text": "Country Name"
         },
         "zeroline": true,
         "zerolinecolor": "grey",
         "zerolinewidth": 1
        },
        "yaxis": {
         "gridcolor": "lightgrey",
         "linecolor": "black",
         "linewidth": 2,
         "mirror": true,
         "showline": true,
         "title": {
          "text": "Total Students"
         },
         "zeroline": true,
         "zerolinecolor": "grey",
         "zerolinewidth": 1
        }
       }
      },
      "text/html": [
       "<div>                            <div id=\"95ebfbc9-c709-4692-a0ed-c2d45bdf6c98\" class=\"plotly-graph-div\" style=\"height:525px; width:100%;\"></div>            <script type=\"text/javascript\">                require([\"plotly\"], function(Plotly) {                    window.PLOTLYENV=window.PLOTLYENV || {};                                    if (document.getElementById(\"95ebfbc9-c709-4692-a0ed-c2d45bdf6c98\")) {                    Plotly.newPlot(                        \"95ebfbc9-c709-4692-a0ed-c2d45bdf6c98\",                        [{\"marker\": {\"color\": \"lightgreen\"}, \"text\": [\"India\", \"Bangladesh\"], \"type\": \"bar\", \"x\": [\"India\", \"Bangladesh\"], \"y\": [88, 2]}],                        {\"hovermode\": \"closest\", \"paper_bgcolor\": \"rgba(0, 0, 0, 0)\", \"plot_bgcolor\": \"rgba(0, 0, 0, 0)\", \"template\": {\"data\": {\"bar\": [{\"error_x\": {\"color\": \"#2a3f5f\"}, \"error_y\": {\"color\": \"#2a3f5f\"}, \"marker\": {\"line\": {\"color\": \"#E5ECF6\", \"width\": 0.5}}, \"type\": \"bar\"}], \"barpolar\": [{\"marker\": {\"line\": {\"color\": \"#E5ECF6\", \"width\": 0.5}}, \"type\": \"barpolar\"}], \"carpet\": [{\"aaxis\": {\"endlinecolor\": \"#2a3f5f\", \"gridcolor\": \"white\", \"linecolor\": \"white\", \"minorgridcolor\": \"white\", \"startlinecolor\": \"#2a3f5f\"}, \"baxis\": {\"endlinecolor\": \"#2a3f5f\", \"gridcolor\": \"white\", \"linecolor\": \"white\", \"minorgridcolor\": \"white\", \"startlinecolor\": \"#2a3f5f\"}, \"type\": \"carpet\"}], \"choropleth\": [{\"colorbar\": {\"outlinewidth\": 0, \"ticks\": \"\"}, \"type\": \"choropleth\"}], \"contour\": [{\"colorbar\": {\"outlinewidth\": 0, \"ticks\": \"\"}, \"colorscale\": [[0.0, \"#0d0887\"], [0.1111111111111111, \"#46039f\"], [0.2222222222222222, \"#7201a8\"], [0.3333333333333333, \"#9c179e\"], [0.4444444444444444, \"#bd3786\"], [0.5555555555555556, \"#d8576b\"], [0.6666666666666666, \"#ed7953\"], [0.7777777777777778, \"#fb9f3a\"], [0.8888888888888888, \"#fdca26\"], [1.0, \"#f0f921\"]], \"type\": \"contour\"}], \"contourcarpet\": [{\"colorbar\": {\"outlinewidth\": 0, \"ticks\": \"\"}, \"type\": \"contourcarpet\"}], \"heatmap\": [{\"colorbar\": {\"outlinewidth\": 0, \"ticks\": \"\"}, \"colorscale\": [[0.0, \"#0d0887\"], [0.1111111111111111, \"#46039f\"], [0.2222222222222222, \"#7201a8\"], [0.3333333333333333, \"#9c179e\"], [0.4444444444444444, \"#bd3786\"], [0.5555555555555556, \"#d8576b\"], [0.6666666666666666, \"#ed7953\"], [0.7777777777777778, \"#fb9f3a\"], [0.8888888888888888, \"#fdca26\"], [1.0, \"#f0f921\"]], \"type\": \"heatmap\"}], \"heatmapgl\": [{\"colorbar\": {\"outlinewidth\": 0, \"ticks\": \"\"}, \"colorscale\": [[0.0, \"#0d0887\"], [0.1111111111111111, \"#46039f\"], [0.2222222222222222, \"#7201a8\"], [0.3333333333333333, \"#9c179e\"], [0.4444444444444444, \"#bd3786\"], [0.5555555555555556, \"#d8576b\"], [0.6666666666666666, \"#ed7953\"], [0.7777777777777778, \"#fb9f3a\"], [0.8888888888888888, \"#fdca26\"], [1.0, \"#f0f921\"]], \"type\": \"heatmapgl\"}], \"histogram\": [{\"marker\": {\"colorbar\": {\"outlinewidth\": 0, \"ticks\": \"\"}}, \"type\": \"histogram\"}], \"histogram2d\": [{\"colorbar\": {\"outlinewidth\": 0, \"ticks\": \"\"}, \"colorscale\": [[0.0, \"#0d0887\"], [0.1111111111111111, \"#46039f\"], [0.2222222222222222, \"#7201a8\"], [0.3333333333333333, \"#9c179e\"], [0.4444444444444444, \"#bd3786\"], [0.5555555555555556, \"#d8576b\"], [0.6666666666666666, \"#ed7953\"], [0.7777777777777778, \"#fb9f3a\"], [0.8888888888888888, \"#fdca26\"], [1.0, \"#f0f921\"]], \"type\": \"histogram2d\"}], \"histogram2dcontour\": [{\"colorbar\": {\"outlinewidth\": 0, \"ticks\": \"\"}, \"colorscale\": [[0.0, \"#0d0887\"], [0.1111111111111111, \"#46039f\"], [0.2222222222222222, \"#7201a8\"], [0.3333333333333333, \"#9c179e\"], [0.4444444444444444, \"#bd3786\"], [0.5555555555555556, \"#d8576b\"], [0.6666666666666666, \"#ed7953\"], [0.7777777777777778, \"#fb9f3a\"], [0.8888888888888888, \"#fdca26\"], [1.0, \"#f0f921\"]], \"type\": \"histogram2dcontour\"}], \"mesh3d\": [{\"colorbar\": {\"outlinewidth\": 0, \"ticks\": \"\"}, \"type\": \"mesh3d\"}], \"parcoords\": [{\"line\": {\"colorbar\": {\"outlinewidth\": 0, \"ticks\": \"\"}}, \"type\": \"parcoords\"}], \"pie\": [{\"automargin\": true, \"type\": \"pie\"}], \"scatter\": [{\"marker\": {\"colorbar\": {\"outlinewidth\": 0, \"ticks\": \"\"}}, \"type\": \"scatter\"}], \"scatter3d\": [{\"line\": {\"colorbar\": {\"outlinewidth\": 0, \"ticks\": \"\"}}, \"marker\": {\"colorbar\": {\"outlinewidth\": 0, \"ticks\": \"\"}}, \"type\": \"scatter3d\"}], \"scattercarpet\": [{\"marker\": {\"colorbar\": {\"outlinewidth\": 0, \"ticks\": \"\"}}, \"type\": \"scattercarpet\"}], \"scattergeo\": [{\"marker\": {\"colorbar\": {\"outlinewidth\": 0, \"ticks\": \"\"}}, \"type\": \"scattergeo\"}], \"scattergl\": [{\"marker\": {\"colorbar\": {\"outlinewidth\": 0, \"ticks\": \"\"}}, \"type\": \"scattergl\"}], \"scattermapbox\": [{\"marker\": {\"colorbar\": {\"outlinewidth\": 0, \"ticks\": \"\"}}, \"type\": \"scattermapbox\"}], \"scatterpolar\": [{\"marker\": {\"colorbar\": {\"outlinewidth\": 0, \"ticks\": \"\"}}, \"type\": \"scatterpolar\"}], \"scatterpolargl\": [{\"marker\": {\"colorbar\": {\"outlinewidth\": 0, \"ticks\": \"\"}}, \"type\": \"scatterpolargl\"}], \"scatterternary\": [{\"marker\": {\"colorbar\": {\"outlinewidth\": 0, \"ticks\": \"\"}}, \"type\": \"scatterternary\"}], \"surface\": [{\"colorbar\": {\"outlinewidth\": 0, \"ticks\": \"\"}, \"colorscale\": [[0.0, \"#0d0887\"], [0.1111111111111111, \"#46039f\"], [0.2222222222222222, \"#7201a8\"], [0.3333333333333333, \"#9c179e\"], [0.4444444444444444, \"#bd3786\"], [0.5555555555555556, \"#d8576b\"], [0.6666666666666666, \"#ed7953\"], [0.7777777777777778, \"#fb9f3a\"], [0.8888888888888888, \"#fdca26\"], [1.0, \"#f0f921\"]], \"type\": \"surface\"}], \"table\": [{\"cells\": {\"fill\": {\"color\": \"#EBF0F8\"}, \"line\": {\"color\": \"white\"}}, \"header\": {\"fill\": {\"color\": \"#C8D4E3\"}, \"line\": {\"color\": \"white\"}}, \"type\": \"table\"}]}, \"layout\": {\"annotationdefaults\": {\"arrowcolor\": \"#2a3f5f\", \"arrowhead\": 0, \"arrowwidth\": 1}, \"autotypenumbers\": \"strict\", \"coloraxis\": {\"colorbar\": {\"outlinewidth\": 0, \"ticks\": \"\"}}, \"colorscale\": {\"diverging\": [[0, \"#8e0152\"], [0.1, \"#c51b7d\"], [0.2, \"#de77ae\"], [0.3, \"#f1b6da\"], [0.4, \"#fde0ef\"], [0.5, \"#f7f7f7\"], [0.6, \"#e6f5d0\"], [0.7, \"#b8e186\"], [0.8, \"#7fbc41\"], [0.9, \"#4d9221\"], [1, \"#276419\"]], \"sequential\": [[0.0, \"#0d0887\"], [0.1111111111111111, \"#46039f\"], [0.2222222222222222, \"#7201a8\"], [0.3333333333333333, \"#9c179e\"], [0.4444444444444444, \"#bd3786\"], [0.5555555555555556, \"#d8576b\"], [0.6666666666666666, \"#ed7953\"], [0.7777777777777778, \"#fb9f3a\"], [0.8888888888888888, \"#fdca26\"], [1.0, \"#f0f921\"]], \"sequentialminus\": [[0.0, \"#0d0887\"], [0.1111111111111111, \"#46039f\"], [0.2222222222222222, \"#7201a8\"], [0.3333333333333333, \"#9c179e\"], [0.4444444444444444, \"#bd3786\"], [0.5555555555555556, \"#d8576b\"], [0.6666666666666666, \"#ed7953\"], [0.7777777777777778, \"#fb9f3a\"], [0.8888888888888888, \"#fdca26\"], [1.0, \"#f0f921\"]]}, \"colorway\": [\"#636efa\", \"#EF553B\", \"#00cc96\", \"#ab63fa\", \"#FFA15A\", \"#19d3f3\", \"#FF6692\", \"#B6E880\", \"#FF97FF\", \"#FECB52\"], \"font\": {\"color\": \"#2a3f5f\"}, \"geo\": {\"bgcolor\": \"white\", \"lakecolor\": \"white\", \"landcolor\": \"#E5ECF6\", \"showlakes\": true, \"showland\": true, \"subunitcolor\": \"white\"}, \"hoverlabel\": {\"align\": \"left\"}, \"hovermode\": \"closest\", \"mapbox\": {\"style\": \"light\"}, \"paper_bgcolor\": \"white\", \"plot_bgcolor\": \"#E5ECF6\", \"polar\": {\"angularaxis\": {\"gridcolor\": \"white\", \"linecolor\": \"white\", \"ticks\": \"\"}, \"bgcolor\": \"#E5ECF6\", \"radialaxis\": {\"gridcolor\": \"white\", \"linecolor\": \"white\", \"ticks\": \"\"}}, \"scene\": {\"xaxis\": {\"backgroundcolor\": \"#E5ECF6\", \"gridcolor\": \"white\", \"gridwidth\": 2, \"linecolor\": \"white\", \"showbackground\": true, \"ticks\": \"\", \"zerolinecolor\": \"white\"}, \"yaxis\": {\"backgroundcolor\": \"#E5ECF6\", \"gridcolor\": \"white\", \"gridwidth\": 2, \"linecolor\": \"white\", \"showbackground\": true, \"ticks\": \"\", \"zerolinecolor\": \"white\"}, \"zaxis\": {\"backgroundcolor\": \"#E5ECF6\", \"gridcolor\": \"white\", \"gridwidth\": 2, \"linecolor\": \"white\", \"showbackground\": true, \"ticks\": \"\", \"zerolinecolor\": \"white\"}}, \"shapedefaults\": {\"line\": {\"color\": \"#2a3f5f\"}}, \"ternary\": {\"aaxis\": {\"gridcolor\": \"white\", \"linecolor\": \"white\", \"ticks\": \"\"}, \"baxis\": {\"gridcolor\": \"white\", \"linecolor\": \"white\", \"ticks\": \"\"}, \"bgcolor\": \"#E5ECF6\", \"caxis\": {\"gridcolor\": \"white\", \"linecolor\": \"white\", \"ticks\": \"\"}}, \"title\": {\"x\": 0.05}, \"xaxis\": {\"automargin\": true, \"gridcolor\": \"white\", \"linecolor\": \"white\", \"ticks\": \"\", \"title\": {\"standoff\": 15}, \"zerolinecolor\": \"white\", \"zerolinewidth\": 2}, \"yaxis\": {\"automargin\": true, \"gridcolor\": \"white\", \"linecolor\": \"white\", \"ticks\": \"\", \"title\": {\"standoff\": 15}, \"zerolinecolor\": \"white\", \"zerolinewidth\": 2}}}, \"title\": {\"text\": \"Free Session total Student from Country did not have laptop \"}, \"xaxis\": {\"linecolor\": \"black\", \"linewidth\": 2, \"mirror\": true, \"showline\": true, \"showticklabels\": true, \"tickangle\": 45, \"tickfont\": {\"color\": \"red\", \"size\": 10}, \"title\": {\"text\": \"Country Name\"}, \"zeroline\": true, \"zerolinecolor\": \"grey\", \"zerolinewidth\": 1}, \"yaxis\": {\"gridcolor\": \"lightgrey\", \"linecolor\": \"black\", \"linewidth\": 2, \"mirror\": true, \"showline\": true, \"title\": {\"text\": \"Total Students\"}, \"zeroline\": true, \"zerolinecolor\": \"grey\", \"zerolinewidth\": 1}},                        {\"responsive\": true}                    ).then(function(){\n",
       "                            \n",
       "var gd = document.getElementById('95ebfbc9-c709-4692-a0ed-c2d45bdf6c98');\n",
       "var x = new MutationObserver(function (mutations, observer) {{\n",
       "        var display = window.getComputedStyle(gd).display;\n",
       "        if (!display || display === 'none') {{\n",
       "            console.log([gd, 'removed!']);\n",
       "            Plotly.purge(gd);\n",
       "            observer.disconnect();\n",
       "        }}\n",
       "}});\n",
       "\n",
       "// Listen for the removal of the full notebook cells\n",
       "var notebookContainer = gd.closest('#notebook-container');\n",
       "if (notebookContainer) {{\n",
       "    x.observe(notebookContainer, {childList: true});\n",
       "}}\n",
       "\n",
       "// Listen for the clearing of the current output cell\n",
       "var outputEl = gd.closest('.output');\n",
       "if (outputEl) {{\n",
       "    x.observe(outputEl, {childList: true});\n",
       "}}\n",
       "\n",
       "                        })                };                });            </script>        </div>"
      ]
     },
     "metadata": {},
     "output_type": "display_data"
    }
   ],
   "source": [
    "draw_trace_bar(no_laptop_country,'Country','no_laptop_counts','Free Session total Student from Country did not have laptop ', 'Country Name','Total Students',\"lightgreen\")"
   ]
  },
  {
   "cell_type": "code",
   "execution_count": null,
   "metadata": {},
   "outputs": [],
   "source": []
  },
  {
   "cell_type": "markdown",
   "metadata": {},
   "source": [
    "# Find out all types of source of communication. Show which type is the winner. (visualize them) (from free session dataset)"
   ]
  },
  {
   "cell_type": "code",
   "execution_count": 242,
   "metadata": {},
   "outputs": [
    {
     "data": {
      "text/html": [
       "<div>\n",
       "<style scoped>\n",
       "    .dataframe tbody tr th:only-of-type {\n",
       "        vertical-align: middle;\n",
       "    }\n",
       "\n",
       "    .dataframe tbody tr th {\n",
       "        vertical-align: top;\n",
       "    }\n",
       "\n",
       "    .dataframe thead th {\n",
       "        text-align: right;\n",
       "    }\n",
       "</style>\n",
       "<table border=\"1\" class=\"dataframe\">\n",
       "  <thead>\n",
       "    <tr style=\"text-align: right;\">\n",
       "      <th></th>\n",
       "      <th>Timestamp</th>\n",
       "      <th>Name</th>\n",
       "      <th>Contact</th>\n",
       "      <th>Email</th>\n",
       "      <th>College</th>\n",
       "      <th>Department</th>\n",
       "      <th>HasLaptop</th>\n",
       "      <th>Source</th>\n",
       "      <th>Country</th>\n",
       "    </tr>\n",
       "  </thead>\n",
       "  <tbody>\n",
       "    <tr>\n",
       "      <th>0</th>\n",
       "      <td>8/24/2020 17:01:39</td>\n",
       "      <td>A.S.M. Raquibul Hasan</td>\n",
       "      <td>01722577922</td>\n",
       "      <td>raquibul.nsu@gmail.com</td>\n",
       "      <td>United International University</td>\n",
       "      <td>others</td>\n",
       "      <td>Yes</td>\n",
       "      <td>Facebook</td>\n",
       "      <td>Bangladesh</td>\n",
       "    </tr>\n",
       "    <tr>\n",
       "      <th>1</th>\n",
       "      <td>8/24/2020 10:08:54</td>\n",
       "      <td>Abdullah</td>\n",
       "      <td>NaN</td>\n",
       "      <td>sharif3abdullah@gmail.com</td>\n",
       "      <td>IIT</td>\n",
       "      <td>Engineering</td>\n",
       "      <td>NaN</td>\n",
       "      <td>NaN</td>\n",
       "      <td>Bangladesh</td>\n",
       "    </tr>\n",
       "    <tr>\n",
       "      <th>2</th>\n",
       "      <td>8/24/2020 9:20:28</td>\n",
       "      <td>Abdullah Bin Murad</td>\n",
       "      <td>01552443554</td>\n",
       "      <td>abmrifat54@gmail.com</td>\n",
       "      <td>Shahjalal University of Science and Technology</td>\n",
       "      <td>Engineering</td>\n",
       "      <td>Yes</td>\n",
       "      <td>NaN</td>\n",
       "      <td>Bangladesh</td>\n",
       "    </tr>\n",
       "    <tr>\n",
       "      <th>3</th>\n",
       "      <td>7/28/2020 12:16:30</td>\n",
       "      <td>Abhijoy Mukherjee</td>\n",
       "      <td>7003206060</td>\n",
       "      <td>abhijoymukherjee01@gmail.com</td>\n",
       "      <td>Asutosh College</td>\n",
       "      <td>Statistics</td>\n",
       "      <td>Yes</td>\n",
       "      <td>Friend</td>\n",
       "      <td>India</td>\n",
       "    </tr>\n",
       "    <tr>\n",
       "      <th>4</th>\n",
       "      <td>7/10/2020 13:56:14</td>\n",
       "      <td>Abhipreeti Acharjee</td>\n",
       "      <td>8274839744</td>\n",
       "      <td>deepamandal007@gmail.com</td>\n",
       "      <td>DEPARTMENT OF PURE MATHEMATICS, UNIVERSITY OF ...</td>\n",
       "      <td>PURE MATHEMATICS</td>\n",
       "      <td>Yes</td>\n",
       "      <td>NaN</td>\n",
       "      <td>India</td>\n",
       "    </tr>\n",
       "    <tr>\n",
       "      <th>...</th>\n",
       "      <td>...</td>\n",
       "      <td>...</td>\n",
       "      <td>...</td>\n",
       "      <td>...</td>\n",
       "      <td>...</td>\n",
       "      <td>...</td>\n",
       "      <td>...</td>\n",
       "      <td>...</td>\n",
       "      <td>...</td>\n",
       "    </tr>\n",
       "    <tr>\n",
       "      <th>943</th>\n",
       "      <td>1/22/2021 22:06:24</td>\n",
       "      <td>Ramanish Banerjee</td>\n",
       "      <td>8017179702</td>\n",
       "      <td>banerjeeramanish@gmail.com</td>\n",
       "      <td>MAULANA AZAD COLLEGE</td>\n",
       "      <td>Honors (BSC/MSC)</td>\n",
       "      <td>Yes</td>\n",
       "      <td>NaN</td>\n",
       "      <td>NaN</td>\n",
       "    </tr>\n",
       "    <tr>\n",
       "      <th>944</th>\n",
       "      <td>1/22/2021 22:46:21</td>\n",
       "      <td>Jinia Banerjee</td>\n",
       "      <td>6289719175</td>\n",
       "      <td>jiniabanerjee9727@gmail.com</td>\n",
       "      <td>Maulona Azad College</td>\n",
       "      <td>Honors (BSC/MSC)</td>\n",
       "      <td>No</td>\n",
       "      <td>NaN</td>\n",
       "      <td>NaN</td>\n",
       "    </tr>\n",
       "    <tr>\n",
       "      <th>945</th>\n",
       "      <td>1/23/2021 10:57:08</td>\n",
       "      <td>Md Safiqul Islam</td>\n",
       "      <td>8250955315</td>\n",
       "      <td>safiqulislam6006@gmail.com</td>\n",
       "      <td>Maulana Azad College</td>\n",
       "      <td>Honors (BSC/MSC)</td>\n",
       "      <td>Yes</td>\n",
       "      <td>NaN</td>\n",
       "      <td>NaN</td>\n",
       "    </tr>\n",
       "    <tr>\n",
       "      <th>946</th>\n",
       "      <td>1/23/2021 12:27:32</td>\n",
       "      <td>Soumojit Chatterjee</td>\n",
       "      <td>8101726672</td>\n",
       "      <td>imsoumojit@yahoo.com</td>\n",
       "      <td>Maulana Azad College</td>\n",
       "      <td>Honors (BSC/MSC)</td>\n",
       "      <td>Yes</td>\n",
       "      <td>NaN</td>\n",
       "      <td>NaN</td>\n",
       "    </tr>\n",
       "    <tr>\n",
       "      <th>947</th>\n",
       "      <td>1/23/2021 17:37:35</td>\n",
       "      <td>Debanjan Bhattacharjee</td>\n",
       "      <td>6290909245</td>\n",
       "      <td>debanjanbhattacharjee2002@gmail.com</td>\n",
       "      <td>Maulana Azad College</td>\n",
       "      <td>Honors (BSC/MSC)</td>\n",
       "      <td>Yes</td>\n",
       "      <td>NaN</td>\n",
       "      <td>NaN</td>\n",
       "    </tr>\n",
       "  </tbody>\n",
       "</table>\n",
       "<p>947 rows × 9 columns</p>\n",
       "</div>"
      ],
      "text/plain": [
       "              Timestamp                    Name      Contact  \\\n",
       "0    8/24/2020 17:01:39  A.S.M. Raquibul Hasan   01722577922   \n",
       "1    8/24/2020 10:08:54                Abdullah          NaN   \n",
       "2     8/24/2020 9:20:28    Abdullah Bin Murad    01552443554   \n",
       "3    7/28/2020 12:16:30       Abhijoy Mukherjee   7003206060   \n",
       "4    7/10/2020 13:56:14     Abhipreeti Acharjee   8274839744   \n",
       "..                  ...                     ...          ...   \n",
       "943  1/22/2021 22:06:24       Ramanish Banerjee   8017179702   \n",
       "944  1/22/2021 22:46:21          Jinia Banerjee   6289719175   \n",
       "945  1/23/2021 10:57:08        Md Safiqul Islam   8250955315   \n",
       "946  1/23/2021 12:27:32     Soumojit Chatterjee   8101726672   \n",
       "947  1/23/2021 17:37:35  Debanjan Bhattacharjee   6290909245   \n",
       "\n",
       "                                   Email  \\\n",
       "0                 raquibul.nsu@gmail.com   \n",
       "1              sharif3abdullah@gmail.com   \n",
       "2                   abmrifat54@gmail.com   \n",
       "3           abhijoymukherjee01@gmail.com   \n",
       "4               deepamandal007@gmail.com   \n",
       "..                                   ...   \n",
       "943           banerjeeramanish@gmail.com   \n",
       "944          jiniabanerjee9727@gmail.com   \n",
       "945           safiqulislam6006@gmail.com   \n",
       "946                 imsoumojit@yahoo.com   \n",
       "947  debanjanbhattacharjee2002@gmail.com   \n",
       "\n",
       "                                               College        Department  \\\n",
       "0                     United International University             others   \n",
       "1                                                  IIT       Engineering   \n",
       "2       Shahjalal University of Science and Technology       Engineering   \n",
       "3                                      Asutosh College        Statistics   \n",
       "4    DEPARTMENT OF PURE MATHEMATICS, UNIVERSITY OF ...  PURE MATHEMATICS   \n",
       "..                                                 ...               ...   \n",
       "943                               MAULANA AZAD COLLEGE  Honors (BSC/MSC)   \n",
       "944                               Maulona Azad College  Honors (BSC/MSC)   \n",
       "945                               Maulana Azad College  Honors (BSC/MSC)   \n",
       "946                               Maulana Azad College  Honors (BSC/MSC)   \n",
       "947                               Maulana Azad College  Honors (BSC/MSC)   \n",
       "\n",
       "    HasLaptop     Source     Country  \n",
       "0         Yes  Facebook   Bangladesh  \n",
       "1         NaN        NaN  Bangladesh  \n",
       "2         Yes        NaN  Bangladesh  \n",
       "3         Yes     Friend       India  \n",
       "4         Yes        NaN       India  \n",
       "..        ...        ...         ...  \n",
       "943       Yes        NaN         NaN  \n",
       "944        No        NaN         NaN  \n",
       "945       Yes        NaN         NaN  \n",
       "946       Yes        NaN         NaN  \n",
       "947       Yes        NaN         NaN  \n",
       "\n",
       "[947 rows x 9 columns]"
      ]
     },
     "execution_count": 242,
     "metadata": {},
     "output_type": "execute_result"
    }
   ],
   "source": [
    "df3"
   ]
  },
  {
   "cell_type": "code",
   "execution_count": 243,
   "metadata": {},
   "outputs": [
    {
     "data": {
      "text/html": [
       "<div>\n",
       "<style scoped>\n",
       "    .dataframe tbody tr th:only-of-type {\n",
       "        vertical-align: middle;\n",
       "    }\n",
       "\n",
       "    .dataframe tbody tr th {\n",
       "        vertical-align: top;\n",
       "    }\n",
       "\n",
       "    .dataframe thead th {\n",
       "        text-align: right;\n",
       "    }\n",
       "</style>\n",
       "<table border=\"1\" class=\"dataframe\">\n",
       "  <thead>\n",
       "    <tr style=\"text-align: right;\">\n",
       "      <th></th>\n",
       "      <th>Timestamp</th>\n",
       "      <th>Name</th>\n",
       "      <th>Contact</th>\n",
       "      <th>Email</th>\n",
       "      <th>College</th>\n",
       "      <th>Department</th>\n",
       "      <th>HasLaptop</th>\n",
       "      <th>Source</th>\n",
       "      <th>Country</th>\n",
       "    </tr>\n",
       "  </thead>\n",
       "  <tbody>\n",
       "    <tr>\n",
       "      <th>1</th>\n",
       "      <td>8/24/2020 10:08:54</td>\n",
       "      <td>Abdullah</td>\n",
       "      <td>NaN</td>\n",
       "      <td>sharif3abdullah@gmail.com</td>\n",
       "      <td>IIT</td>\n",
       "      <td>Engineering</td>\n",
       "      <td>NaN</td>\n",
       "      <td>NaN</td>\n",
       "      <td>Bangladesh</td>\n",
       "    </tr>\n",
       "    <tr>\n",
       "      <th>2</th>\n",
       "      <td>8/24/2020 9:20:28</td>\n",
       "      <td>Abdullah Bin Murad</td>\n",
       "      <td>01552443554</td>\n",
       "      <td>abmrifat54@gmail.com</td>\n",
       "      <td>Shahjalal University of Science and Technology</td>\n",
       "      <td>Engineering</td>\n",
       "      <td>Yes</td>\n",
       "      <td>NaN</td>\n",
       "      <td>Bangladesh</td>\n",
       "    </tr>\n",
       "    <tr>\n",
       "      <th>4</th>\n",
       "      <td>7/10/2020 13:56:14</td>\n",
       "      <td>Abhipreeti Acharjee</td>\n",
       "      <td>8274839744</td>\n",
       "      <td>deepamandal007@gmail.com</td>\n",
       "      <td>DEPARTMENT OF PURE MATHEMATICS, UNIVERSITY OF ...</td>\n",
       "      <td>PURE MATHEMATICS</td>\n",
       "      <td>Yes</td>\n",
       "      <td>NaN</td>\n",
       "      <td>India</td>\n",
       "    </tr>\n",
       "    <tr>\n",
       "      <th>13</th>\n",
       "      <td>8/24/2020 18:28:59</td>\n",
       "      <td>Abu Nadif</td>\n",
       "      <td>01730011811</td>\n",
       "      <td>abunadif141414@gmail.com</td>\n",
       "      <td>AIUB</td>\n",
       "      <td>Engineering</td>\n",
       "      <td>Yes</td>\n",
       "      <td>NaN</td>\n",
       "      <td>Bangladesh</td>\n",
       "    </tr>\n",
       "    <tr>\n",
       "      <th>21</th>\n",
       "      <td>7/26/2020 20:25:34</td>\n",
       "      <td>Ajay Kumar Srivastva</td>\n",
       "      <td>7365842980</td>\n",
       "      <td>subhamsrivastava804@gmail.com</td>\n",
       "      <td>DIATM</td>\n",
       "      <td>CSE</td>\n",
       "      <td>Yes</td>\n",
       "      <td>NaN</td>\n",
       "      <td>India</td>\n",
       "    </tr>\n",
       "    <tr>\n",
       "      <th>...</th>\n",
       "      <td>...</td>\n",
       "      <td>...</td>\n",
       "      <td>...</td>\n",
       "      <td>...</td>\n",
       "      <td>...</td>\n",
       "      <td>...</td>\n",
       "      <td>...</td>\n",
       "      <td>...</td>\n",
       "      <td>...</td>\n",
       "    </tr>\n",
       "    <tr>\n",
       "      <th>943</th>\n",
       "      <td>1/22/2021 22:06:24</td>\n",
       "      <td>Ramanish Banerjee</td>\n",
       "      <td>8017179702</td>\n",
       "      <td>banerjeeramanish@gmail.com</td>\n",
       "      <td>MAULANA AZAD COLLEGE</td>\n",
       "      <td>Honors (BSC/MSC)</td>\n",
       "      <td>Yes</td>\n",
       "      <td>NaN</td>\n",
       "      <td>NaN</td>\n",
       "    </tr>\n",
       "    <tr>\n",
       "      <th>944</th>\n",
       "      <td>1/22/2021 22:46:21</td>\n",
       "      <td>Jinia Banerjee</td>\n",
       "      <td>6289719175</td>\n",
       "      <td>jiniabanerjee9727@gmail.com</td>\n",
       "      <td>Maulona Azad College</td>\n",
       "      <td>Honors (BSC/MSC)</td>\n",
       "      <td>No</td>\n",
       "      <td>NaN</td>\n",
       "      <td>NaN</td>\n",
       "    </tr>\n",
       "    <tr>\n",
       "      <th>945</th>\n",
       "      <td>1/23/2021 10:57:08</td>\n",
       "      <td>Md Safiqul Islam</td>\n",
       "      <td>8250955315</td>\n",
       "      <td>safiqulislam6006@gmail.com</td>\n",
       "      <td>Maulana Azad College</td>\n",
       "      <td>Honors (BSC/MSC)</td>\n",
       "      <td>Yes</td>\n",
       "      <td>NaN</td>\n",
       "      <td>NaN</td>\n",
       "    </tr>\n",
       "    <tr>\n",
       "      <th>946</th>\n",
       "      <td>1/23/2021 12:27:32</td>\n",
       "      <td>Soumojit Chatterjee</td>\n",
       "      <td>8101726672</td>\n",
       "      <td>imsoumojit@yahoo.com</td>\n",
       "      <td>Maulana Azad College</td>\n",
       "      <td>Honors (BSC/MSC)</td>\n",
       "      <td>Yes</td>\n",
       "      <td>NaN</td>\n",
       "      <td>NaN</td>\n",
       "    </tr>\n",
       "    <tr>\n",
       "      <th>947</th>\n",
       "      <td>1/23/2021 17:37:35</td>\n",
       "      <td>Debanjan Bhattacharjee</td>\n",
       "      <td>6290909245</td>\n",
       "      <td>debanjanbhattacharjee2002@gmail.com</td>\n",
       "      <td>Maulana Azad College</td>\n",
       "      <td>Honors (BSC/MSC)</td>\n",
       "      <td>Yes</td>\n",
       "      <td>NaN</td>\n",
       "      <td>NaN</td>\n",
       "    </tr>\n",
       "  </tbody>\n",
       "</table>\n",
       "<p>515 rows × 9 columns</p>\n",
       "</div>"
      ],
      "text/plain": [
       "              Timestamp                    Name      Contact  \\\n",
       "1    8/24/2020 10:08:54                Abdullah          NaN   \n",
       "2     8/24/2020 9:20:28    Abdullah Bin Murad    01552443554   \n",
       "4    7/10/2020 13:56:14     Abhipreeti Acharjee   8274839744   \n",
       "13   8/24/2020 18:28:59               Abu Nadif  01730011811   \n",
       "21   7/26/2020 20:25:34    Ajay Kumar Srivastva   7365842980   \n",
       "..                  ...                     ...          ...   \n",
       "943  1/22/2021 22:06:24       Ramanish Banerjee   8017179702   \n",
       "944  1/22/2021 22:46:21          Jinia Banerjee   6289719175   \n",
       "945  1/23/2021 10:57:08        Md Safiqul Islam   8250955315   \n",
       "946  1/23/2021 12:27:32     Soumojit Chatterjee   8101726672   \n",
       "947  1/23/2021 17:37:35  Debanjan Bhattacharjee   6290909245   \n",
       "\n",
       "                                   Email  \\\n",
       "1              sharif3abdullah@gmail.com   \n",
       "2                   abmrifat54@gmail.com   \n",
       "4               deepamandal007@gmail.com   \n",
       "13              abunadif141414@gmail.com   \n",
       "21         subhamsrivastava804@gmail.com   \n",
       "..                                   ...   \n",
       "943           banerjeeramanish@gmail.com   \n",
       "944          jiniabanerjee9727@gmail.com   \n",
       "945           safiqulislam6006@gmail.com   \n",
       "946                 imsoumojit@yahoo.com   \n",
       "947  debanjanbhattacharjee2002@gmail.com   \n",
       "\n",
       "                                               College        Department  \\\n",
       "1                                                  IIT       Engineering   \n",
       "2       Shahjalal University of Science and Technology       Engineering   \n",
       "4    DEPARTMENT OF PURE MATHEMATICS, UNIVERSITY OF ...  PURE MATHEMATICS   \n",
       "13                                                AIUB       Engineering   \n",
       "21                                               DIATM               CSE   \n",
       "..                                                 ...               ...   \n",
       "943                               MAULANA AZAD COLLEGE  Honors (BSC/MSC)   \n",
       "944                               Maulona Azad College  Honors (BSC/MSC)   \n",
       "945                               Maulana Azad College  Honors (BSC/MSC)   \n",
       "946                               Maulana Azad College  Honors (BSC/MSC)   \n",
       "947                               Maulana Azad College  Honors (BSC/MSC)   \n",
       "\n",
       "    HasLaptop Source     Country  \n",
       "1         NaN    NaN  Bangladesh  \n",
       "2         Yes    NaN  Bangladesh  \n",
       "4         Yes    NaN       India  \n",
       "13        Yes    NaN  Bangladesh  \n",
       "21        Yes    NaN       India  \n",
       "..        ...    ...         ...  \n",
       "943       Yes    NaN         NaN  \n",
       "944        No    NaN         NaN  \n",
       "945       Yes    NaN         NaN  \n",
       "946       Yes    NaN         NaN  \n",
       "947       Yes    NaN         NaN  \n",
       "\n",
       "[515 rows x 9 columns]"
      ]
     },
     "execution_count": 243,
     "metadata": {},
     "output_type": "execute_result"
    }
   ],
   "source": [
    "df3[df3['Source'].isnull()]"
   ]
  },
  {
   "cell_type": "code",
   "execution_count": 246,
   "metadata": {},
   "outputs": [
    {
     "data": {
      "text/html": [
       "<div>\n",
       "<style scoped>\n",
       "    .dataframe tbody tr th:only-of-type {\n",
       "        vertical-align: middle;\n",
       "    }\n",
       "\n",
       "    .dataframe tbody tr th {\n",
       "        vertical-align: top;\n",
       "    }\n",
       "\n",
       "    .dataframe thead th {\n",
       "        text-align: right;\n",
       "    }\n",
       "</style>\n",
       "<table border=\"1\" class=\"dataframe\">\n",
       "  <thead>\n",
       "    <tr style=\"text-align: right;\">\n",
       "      <th></th>\n",
       "      <th>Timestamp</th>\n",
       "      <th>Name</th>\n",
       "      <th>Contact</th>\n",
       "      <th>Email</th>\n",
       "      <th>College</th>\n",
       "      <th>Department</th>\n",
       "      <th>HasLaptop</th>\n",
       "      <th>Source</th>\n",
       "      <th>Country</th>\n",
       "    </tr>\n",
       "  </thead>\n",
       "  <tbody>\n",
       "    <tr>\n",
       "      <th>0</th>\n",
       "      <td>8/24/2020 17:01:39</td>\n",
       "      <td>A.S.M. Raquibul Hasan</td>\n",
       "      <td>01722577922</td>\n",
       "      <td>raquibul.nsu@gmail.com</td>\n",
       "      <td>United International University</td>\n",
       "      <td>others</td>\n",
       "      <td>Yes</td>\n",
       "      <td>Facebook</td>\n",
       "      <td>Bangladesh</td>\n",
       "    </tr>\n",
       "    <tr>\n",
       "      <th>3</th>\n",
       "      <td>7/28/2020 12:16:30</td>\n",
       "      <td>Abhijoy Mukherjee</td>\n",
       "      <td>7003206060</td>\n",
       "      <td>abhijoymukherjee01@gmail.com</td>\n",
       "      <td>Asutosh College</td>\n",
       "      <td>Statistics</td>\n",
       "      <td>Yes</td>\n",
       "      <td>Friend</td>\n",
       "      <td>India</td>\n",
       "    </tr>\n",
       "    <tr>\n",
       "      <th>5</th>\n",
       "      <td>7/28/2020 13:14:59</td>\n",
       "      <td>Abhiraj Bhattacharya</td>\n",
       "      <td>6289897311</td>\n",
       "      <td>abhattacharyya2001@gmail.com</td>\n",
       "      <td>Vivekananda College</td>\n",
       "      <td>B.Sc statistics</td>\n",
       "      <td>Yes</td>\n",
       "      <td>Friend</td>\n",
       "      <td>India</td>\n",
       "    </tr>\n",
       "    <tr>\n",
       "      <th>6</th>\n",
       "      <td>8/20/2020 11:18:50</td>\n",
       "      <td>Abhirup Boxi</td>\n",
       "      <td>9932801949</td>\n",
       "      <td>abhirupboxi99@gmail.com</td>\n",
       "      <td>Future institute of engineering and management</td>\n",
       "      <td>Engineering</td>\n",
       "      <td>Yes</td>\n",
       "      <td>Friend</td>\n",
       "      <td>India</td>\n",
       "    </tr>\n",
       "    <tr>\n",
       "      <th>7</th>\n",
       "      <td>6/24/2020 15:06:51</td>\n",
       "      <td>Abhisek biswas</td>\n",
       "      <td>NaN</td>\n",
       "      <td>amitsrivastav445@gmail.com</td>\n",
       "      <td>J.K College</td>\n",
       "      <td>B.Com (H)</td>\n",
       "      <td>No</td>\n",
       "      <td>Rohan Rakshit</td>\n",
       "      <td>India</td>\n",
       "    </tr>\n",
       "    <tr>\n",
       "      <th>...</th>\n",
       "      <td>...</td>\n",
       "      <td>...</td>\n",
       "      <td>...</td>\n",
       "      <td>...</td>\n",
       "      <td>...</td>\n",
       "      <td>...</td>\n",
       "      <td>...</td>\n",
       "      <td>...</td>\n",
       "      <td>...</td>\n",
       "    </tr>\n",
       "    <tr>\n",
       "      <th>515</th>\n",
       "      <td>9/18/2020 12:49:50</td>\n",
       "      <td>Subarna Kar</td>\n",
       "      <td>9614655512</td>\n",
       "      <td>subarnakar1122@gmail.com</td>\n",
       "      <td>B.P Poddar Institute of Management and Technology</td>\n",
       "      <td>others</td>\n",
       "      <td>Yes</td>\n",
       "      <td>College</td>\n",
       "      <td>NaN</td>\n",
       "    </tr>\n",
       "    <tr>\n",
       "      <th>516</th>\n",
       "      <td>9/18/2020 12:20:26</td>\n",
       "      <td>Subhashree Saha</td>\n",
       "      <td>8910529117</td>\n",
       "      <td>subhashree552000@gmail.com</td>\n",
       "      <td>Bethune college</td>\n",
       "      <td>Honors (BSC/MSC)</td>\n",
       "      <td>Yes</td>\n",
       "      <td>Friends</td>\n",
       "      <td>NaN</td>\n",
       "    </tr>\n",
       "    <tr>\n",
       "      <th>518</th>\n",
       "      <td>9/18/2020 20:06:47</td>\n",
       "      <td>Sujit Ghosh</td>\n",
       "      <td>7631143747</td>\n",
       "      <td>ghoshsujit075@gmail.com</td>\n",
       "      <td>B.P.PODDAR INSTITUTE OF MANAGEMENT AND TECHNOLOGY</td>\n",
       "      <td>others</td>\n",
       "      <td>Yes</td>\n",
       "      <td>College</td>\n",
       "      <td>NaN</td>\n",
       "    </tr>\n",
       "    <tr>\n",
       "      <th>520</th>\n",
       "      <td>9/18/2020 11:53:52</td>\n",
       "      <td>Susmita Saha</td>\n",
       "      <td>8906420700</td>\n",
       "      <td>susmita.saha1126@gmail.com</td>\n",
       "      <td>Bp Poddar Institute of management and technology</td>\n",
       "      <td>others</td>\n",
       "      <td>Yes</td>\n",
       "      <td>Department</td>\n",
       "      <td>NaN</td>\n",
       "    </tr>\n",
       "    <tr>\n",
       "      <th>522</th>\n",
       "      <td>9/18/2020 12:19:20</td>\n",
       "      <td>Tamali Basak</td>\n",
       "      <td>8777205197</td>\n",
       "      <td>tamalibasak89@gmail.com</td>\n",
       "      <td>B P PODDAR INSTITUTE OF MANAGEMENT AND TECHNOLOGY</td>\n",
       "      <td>others</td>\n",
       "      <td>Yes</td>\n",
       "      <td>I got to know about this from my college's ma'am.</td>\n",
       "      <td>NaN</td>\n",
       "    </tr>\n",
       "  </tbody>\n",
       "</table>\n",
       "<p>432 rows × 9 columns</p>\n",
       "</div>"
      ],
      "text/plain": [
       "              Timestamp                    Name      Contact  \\\n",
       "0    8/24/2020 17:01:39  A.S.M. Raquibul Hasan   01722577922   \n",
       "3    7/28/2020 12:16:30       Abhijoy Mukherjee   7003206060   \n",
       "5    7/28/2020 13:14:59    Abhiraj Bhattacharya   6289897311   \n",
       "6    8/20/2020 11:18:50            Abhirup Boxi   9932801949   \n",
       "7    6/24/2020 15:06:51          Abhisek biswas          NaN   \n",
       "..                  ...                     ...          ...   \n",
       "515  9/18/2020 12:49:50             Subarna Kar   9614655512   \n",
       "516  9/18/2020 12:20:26         Subhashree Saha   8910529117   \n",
       "518  9/18/2020 20:06:47             Sujit Ghosh   7631143747   \n",
       "520  9/18/2020 11:53:52            Susmita Saha   8906420700   \n",
       "522  9/18/2020 12:19:20            Tamali Basak   8777205197   \n",
       "\n",
       "                            Email  \\\n",
       "0          raquibul.nsu@gmail.com   \n",
       "3    abhijoymukherjee01@gmail.com   \n",
       "5    abhattacharyya2001@gmail.com   \n",
       "6         abhirupboxi99@gmail.com   \n",
       "7      amitsrivastav445@gmail.com   \n",
       "..                            ...   \n",
       "515      subarnakar1122@gmail.com   \n",
       "516    subhashree552000@gmail.com   \n",
       "518       ghoshsujit075@gmail.com   \n",
       "520    susmita.saha1126@gmail.com   \n",
       "522       tamalibasak89@gmail.com   \n",
       "\n",
       "                                               College        Department  \\\n",
       "0                     United International University             others   \n",
       "3                                      Asutosh College        Statistics   \n",
       "5                                  Vivekananda College   B.Sc statistics   \n",
       "6       Future institute of engineering and management       Engineering   \n",
       "7                                          J.K College         B.Com (H)   \n",
       "..                                                 ...               ...   \n",
       "515  B.P Poddar Institute of Management and Technology            others   \n",
       "516                                    Bethune college  Honors (BSC/MSC)   \n",
       "518  B.P.PODDAR INSTITUTE OF MANAGEMENT AND TECHNOLOGY            others   \n",
       "520   Bp Poddar Institute of management and technology            others   \n",
       "522  B P PODDAR INSTITUTE OF MANAGEMENT AND TECHNOLOGY            others   \n",
       "\n",
       "    HasLaptop                                             Source     Country  \n",
       "0         Yes                                          Facebook   Bangladesh  \n",
       "3         Yes                                             Friend       India  \n",
       "5         Yes                                             Friend       India  \n",
       "6         Yes                                             Friend       India  \n",
       "7          No                                      Rohan Rakshit       India  \n",
       "..        ...                                                ...         ...  \n",
       "515       Yes                                            College         NaN  \n",
       "516       Yes                                            Friends         NaN  \n",
       "518       Yes                                            College         NaN  \n",
       "520       Yes                                         Department         NaN  \n",
       "522       Yes  I got to know about this from my college's ma'am.         NaN  \n",
       "\n",
       "[432 rows x 9 columns]"
      ]
     },
     "execution_count": 246,
     "metadata": {},
     "output_type": "execute_result"
    }
   ],
   "source": [
    "#removing this specifc rows\n",
    "source = df3.dropna(subset=['Source'])\n",
    "source"
   ]
  },
  {
   "cell_type": "code",
   "execution_count": 247,
   "metadata": {},
   "outputs": [
    {
     "data": {
      "text/html": [
       "<div>\n",
       "<style scoped>\n",
       "    .dataframe tbody tr th:only-of-type {\n",
       "        vertical-align: middle;\n",
       "    }\n",
       "\n",
       "    .dataframe tbody tr th {\n",
       "        vertical-align: top;\n",
       "    }\n",
       "\n",
       "    .dataframe thead th {\n",
       "        text-align: right;\n",
       "    }\n",
       "</style>\n",
       "<table border=\"1\" class=\"dataframe\">\n",
       "  <thead>\n",
       "    <tr style=\"text-align: right;\">\n",
       "      <th></th>\n",
       "      <th>Source</th>\n",
       "    </tr>\n",
       "    <tr>\n",
       "      <th>Source</th>\n",
       "      <th></th>\n",
       "    </tr>\n",
       "  </thead>\n",
       "  <tbody>\n",
       "    <tr>\n",
       "      <th>college Senior</th>\n",
       "      <td>1</td>\n",
       "    </tr>\n",
       "    <tr>\n",
       "      <th>A Friend</th>\n",
       "      <td>1</td>\n",
       "    </tr>\n",
       "    <tr>\n",
       "      <th>A friend</th>\n",
       "      <td>2</td>\n",
       "    </tr>\n",
       "    <tr>\n",
       "      <th>A status was posted by a senior of my dept.Seeing this I would like to</th>\n",
       "      <td>1</td>\n",
       "    </tr>\n",
       "    <tr>\n",
       "      <th>A whatsapp group</th>\n",
       "      <td>1</td>\n",
       "    </tr>\n",
       "    <tr>\n",
       "      <th>...</th>\n",
       "      <td>...</td>\n",
       "    </tr>\n",
       "    <tr>\n",
       "      <th>friend</th>\n",
       "      <td>4</td>\n",
       "    </tr>\n",
       "    <tr>\n",
       "      <th>friends</th>\n",
       "      <td>1</td>\n",
       "    </tr>\n",
       "    <tr>\n",
       "      <th>newspaper</th>\n",
       "      <td>1</td>\n",
       "    </tr>\n",
       "    <tr>\n",
       "      <th>whatapp group</th>\n",
       "      <td>1</td>\n",
       "    </tr>\n",
       "    <tr>\n",
       "      <th>whatsapp group</th>\n",
       "      <td>1</td>\n",
       "    </tr>\n",
       "  </tbody>\n",
       "</table>\n",
       "<p>211 rows × 1 columns</p>\n",
       "</div>"
      ],
      "text/plain": [
       "                                                    Source\n",
       "Source                                                    \n",
       " college Senior                                          1\n",
       "A Friend                                                 1\n",
       "A friend                                                 2\n",
       "A status was posted by a senior of my dept.Seei...       1\n",
       "A whatsapp group                                         1\n",
       "...                                                    ...\n",
       "friend                                                   4\n",
       "friends                                                  1\n",
       "newspaper                                                1\n",
       "whatapp group                                            1\n",
       "whatsapp group                                           1\n",
       "\n",
       "[211 rows x 1 columns]"
      ]
     },
     "execution_count": 247,
     "metadata": {},
     "output_type": "execute_result"
    }
   ],
   "source": [
    "source1 = source.groupby('Source')['Source'].agg('count')\n",
    "source2= pd.DataFrame(source1)\n",
    "source2"
   ]
  },
  {
   "cell_type": "code",
   "execution_count": 249,
   "metadata": {},
   "outputs": [
    {
     "data": {
      "text/html": [
       "<div>\n",
       "<style scoped>\n",
       "    .dataframe tbody tr th:only-of-type {\n",
       "        vertical-align: middle;\n",
       "    }\n",
       "\n",
       "    .dataframe tbody tr th {\n",
       "        vertical-align: top;\n",
       "    }\n",
       "\n",
       "    .dataframe thead th {\n",
       "        text-align: right;\n",
       "    }\n",
       "</style>\n",
       "<table border=\"1\" class=\"dataframe\">\n",
       "  <thead>\n",
       "    <tr style=\"text-align: right;\">\n",
       "      <th></th>\n",
       "      <th>counts</th>\n",
       "    </tr>\n",
       "    <tr>\n",
       "      <th>Source</th>\n",
       "      <th></th>\n",
       "    </tr>\n",
       "  </thead>\n",
       "  <tbody>\n",
       "    <tr>\n",
       "      <th>college Senior</th>\n",
       "      <td>1</td>\n",
       "    </tr>\n",
       "    <tr>\n",
       "      <th>A Friend</th>\n",
       "      <td>1</td>\n",
       "    </tr>\n",
       "    <tr>\n",
       "      <th>A friend</th>\n",
       "      <td>2</td>\n",
       "    </tr>\n",
       "    <tr>\n",
       "      <th>A status was posted by a senior of my dept.Seeing this I would like to</th>\n",
       "      <td>1</td>\n",
       "    </tr>\n",
       "    <tr>\n",
       "      <th>A whatsapp group</th>\n",
       "      <td>1</td>\n",
       "    </tr>\n",
       "    <tr>\n",
       "      <th>...</th>\n",
       "      <td>...</td>\n",
       "    </tr>\n",
       "    <tr>\n",
       "      <th>friend</th>\n",
       "      <td>4</td>\n",
       "    </tr>\n",
       "    <tr>\n",
       "      <th>friends</th>\n",
       "      <td>1</td>\n",
       "    </tr>\n",
       "    <tr>\n",
       "      <th>newspaper</th>\n",
       "      <td>1</td>\n",
       "    </tr>\n",
       "    <tr>\n",
       "      <th>whatapp group</th>\n",
       "      <td>1</td>\n",
       "    </tr>\n",
       "    <tr>\n",
       "      <th>whatsapp group</th>\n",
       "      <td>1</td>\n",
       "    </tr>\n",
       "  </tbody>\n",
       "</table>\n",
       "<p>211 rows × 1 columns</p>\n",
       "</div>"
      ],
      "text/plain": [
       "                                                    counts\n",
       "Source                                                    \n",
       " college Senior                                          1\n",
       "A Friend                                                 1\n",
       "A friend                                                 2\n",
       "A status was posted by a senior of my dept.Seei...       1\n",
       "A whatsapp group                                         1\n",
       "...                                                    ...\n",
       "friend                                                   4\n",
       "friends                                                  1\n",
       "newspaper                                                1\n",
       "whatapp group                                            1\n",
       "whatsapp group                                           1\n",
       "\n",
       "[211 rows x 1 columns]"
      ]
     },
     "execution_count": 249,
     "metadata": {},
     "output_type": "execute_result"
    }
   ],
   "source": [
    "#renameing to total_counts of department data\n",
    "source2.rename(columns={\"Source\": \"counts\"},inplace=True)\n",
    "source2"
   ]
  },
  {
   "cell_type": "code",
   "execution_count": 251,
   "metadata": {},
   "outputs": [],
   "source": [
    "source2.reset_index(inplace=True)"
   ]
  },
  {
   "cell_type": "code",
   "execution_count": 252,
   "metadata": {},
   "outputs": [
    {
     "data": {
      "text/html": [
       "<div>\n",
       "<style scoped>\n",
       "    .dataframe tbody tr th:only-of-type {\n",
       "        vertical-align: middle;\n",
       "    }\n",
       "\n",
       "    .dataframe tbody tr th {\n",
       "        vertical-align: top;\n",
       "    }\n",
       "\n",
       "    .dataframe thead th {\n",
       "        text-align: right;\n",
       "    }\n",
       "</style>\n",
       "<table border=\"1\" class=\"dataframe\">\n",
       "  <thead>\n",
       "    <tr style=\"text-align: right;\">\n",
       "      <th></th>\n",
       "      <th>Source</th>\n",
       "      <th>counts</th>\n",
       "    </tr>\n",
       "  </thead>\n",
       "  <tbody>\n",
       "    <tr>\n",
       "      <th>0</th>\n",
       "      <td>college Senior</td>\n",
       "      <td>1</td>\n",
       "    </tr>\n",
       "    <tr>\n",
       "      <th>1</th>\n",
       "      <td>A Friend</td>\n",
       "      <td>1</td>\n",
       "    </tr>\n",
       "    <tr>\n",
       "      <th>2</th>\n",
       "      <td>A friend</td>\n",
       "      <td>2</td>\n",
       "    </tr>\n",
       "    <tr>\n",
       "      <th>3</th>\n",
       "      <td>A status was posted by a senior of my dept.See...</td>\n",
       "      <td>1</td>\n",
       "    </tr>\n",
       "    <tr>\n",
       "      <th>4</th>\n",
       "      <td>A whatsapp group</td>\n",
       "      <td>1</td>\n",
       "    </tr>\n",
       "    <tr>\n",
       "      <th>...</th>\n",
       "      <td>...</td>\n",
       "      <td>...</td>\n",
       "    </tr>\n",
       "    <tr>\n",
       "      <th>206</th>\n",
       "      <td>friend</td>\n",
       "      <td>4</td>\n",
       "    </tr>\n",
       "    <tr>\n",
       "      <th>207</th>\n",
       "      <td>friends</td>\n",
       "      <td>1</td>\n",
       "    </tr>\n",
       "    <tr>\n",
       "      <th>208</th>\n",
       "      <td>newspaper</td>\n",
       "      <td>1</td>\n",
       "    </tr>\n",
       "    <tr>\n",
       "      <th>209</th>\n",
       "      <td>whatapp group</td>\n",
       "      <td>1</td>\n",
       "    </tr>\n",
       "    <tr>\n",
       "      <th>210</th>\n",
       "      <td>whatsapp group</td>\n",
       "      <td>1</td>\n",
       "    </tr>\n",
       "  </tbody>\n",
       "</table>\n",
       "<p>211 rows × 2 columns</p>\n",
       "</div>"
      ],
      "text/plain": [
       "                                                Source  counts\n",
       "0                                       college Senior       1\n",
       "1                                             A Friend       1\n",
       "2                                             A friend       2\n",
       "3    A status was posted by a senior of my dept.See...       1\n",
       "4                                     A whatsapp group       1\n",
       "..                                                 ...     ...\n",
       "206                                             friend       4\n",
       "207                                            friends       1\n",
       "208                                         newspaper        1\n",
       "209                                      whatapp group       1\n",
       "210                                    whatsapp group        1\n",
       "\n",
       "[211 rows x 2 columns]"
      ]
     },
     "execution_count": 252,
     "metadata": {},
     "output_type": "execute_result"
    }
   ],
   "source": [
    "source2"
   ]
  },
  {
   "cell_type": "code",
   "execution_count": 253,
   "metadata": {},
   "outputs": [
    {
     "data": {
      "text/html": [
       "<div>\n",
       "<style scoped>\n",
       "    .dataframe tbody tr th:only-of-type {\n",
       "        vertical-align: middle;\n",
       "    }\n",
       "\n",
       "    .dataframe tbody tr th {\n",
       "        vertical-align: top;\n",
       "    }\n",
       "\n",
       "    .dataframe thead th {\n",
       "        text-align: right;\n",
       "    }\n",
       "</style>\n",
       "<table border=\"1\" class=\"dataframe\">\n",
       "  <thead>\n",
       "    <tr style=\"text-align: right;\">\n",
       "      <th></th>\n",
       "      <th>Source</th>\n",
       "      <th>counts</th>\n",
       "    </tr>\n",
       "  </thead>\n",
       "  <tbody>\n",
       "    <tr>\n",
       "      <th>57</th>\n",
       "      <td>Friend</td>\n",
       "      <td>66</td>\n",
       "    </tr>\n",
       "    <tr>\n",
       "      <th>11</th>\n",
       "      <td>College</td>\n",
       "      <td>27</td>\n",
       "    </tr>\n",
       "    <tr>\n",
       "      <th>63</th>\n",
       "      <td>Friends</td>\n",
       "      <td>26</td>\n",
       "    </tr>\n",
       "    <tr>\n",
       "      <th>39</th>\n",
       "      <td>Facebook</td>\n",
       "      <td>18</td>\n",
       "    </tr>\n",
       "    <tr>\n",
       "      <th>193</th>\n",
       "      <td>Whatsapp</td>\n",
       "      <td>11</td>\n",
       "    </tr>\n",
       "    <tr>\n",
       "      <th>...</th>\n",
       "      <td>...</td>\n",
       "      <td>...</td>\n",
       "    </tr>\n",
       "    <tr>\n",
       "      <th>83</th>\n",
       "      <td>From varsity group</td>\n",
       "      <td>1</td>\n",
       "    </tr>\n",
       "    <tr>\n",
       "      <th>85</th>\n",
       "      <td>Ftiend</td>\n",
       "      <td>1</td>\n",
       "    </tr>\n",
       "    <tr>\n",
       "      <th>86</th>\n",
       "      <td>Get notified through friends</td>\n",
       "      <td>1</td>\n",
       "    </tr>\n",
       "    <tr>\n",
       "      <th>87</th>\n",
       "      <td>Group invite link</td>\n",
       "      <td>1</td>\n",
       "    </tr>\n",
       "    <tr>\n",
       "      <th>210</th>\n",
       "      <td>whatsapp group</td>\n",
       "      <td>1</td>\n",
       "    </tr>\n",
       "  </tbody>\n",
       "</table>\n",
       "<p>211 rows × 2 columns</p>\n",
       "</div>"
      ],
      "text/plain": [
       "                           Source  counts\n",
       "57                         Friend      66\n",
       "11                        College      27\n",
       "63                        Friends      26\n",
       "39                       Facebook      18\n",
       "193                      Whatsapp      11\n",
       "..                            ...     ...\n",
       "83            From varsity group        1\n",
       "85                         Ftiend       1\n",
       "86   Get notified through friends       1\n",
       "87              Group invite link       1\n",
       "210               whatsapp group        1\n",
       "\n",
       "[211 rows x 2 columns]"
      ]
     },
     "execution_count": 253,
     "metadata": {},
     "output_type": "execute_result"
    }
   ],
   "source": [
    "source2.sort_values(\"counts\", ascending=False)"
   ]
  },
  {
   "cell_type": "code",
   "execution_count": 254,
   "metadata": {},
   "outputs": [
    {
     "data": {
      "text/html": [
       "<div>\n",
       "<style scoped>\n",
       "    .dataframe tbody tr th:only-of-type {\n",
       "        vertical-align: middle;\n",
       "    }\n",
       "\n",
       "    .dataframe tbody tr th {\n",
       "        vertical-align: top;\n",
       "    }\n",
       "\n",
       "    .dataframe thead th {\n",
       "        text-align: right;\n",
       "    }\n",
       "</style>\n",
       "<table border=\"1\" class=\"dataframe\">\n",
       "  <thead>\n",
       "    <tr style=\"text-align: right;\">\n",
       "      <th></th>\n",
       "      <th>Source</th>\n",
       "      <th>counts</th>\n",
       "    </tr>\n",
       "  </thead>\n",
       "  <tbody>\n",
       "    <tr>\n",
       "      <th>11</th>\n",
       "      <td>College</td>\n",
       "      <td>27</td>\n",
       "    </tr>\n",
       "    <tr>\n",
       "      <th>39</th>\n",
       "      <td>Facebook</td>\n",
       "      <td>18</td>\n",
       "    </tr>\n",
       "    <tr>\n",
       "      <th>40</th>\n",
       "      <td>Facebook</td>\n",
       "      <td>9</td>\n",
       "    </tr>\n",
       "    <tr>\n",
       "      <th>43</th>\n",
       "      <td>Facebook Event</td>\n",
       "      <td>3</td>\n",
       "    </tr>\n",
       "    <tr>\n",
       "      <th>57</th>\n",
       "      <td>Friend</td>\n",
       "      <td>66</td>\n",
       "    </tr>\n",
       "    <tr>\n",
       "      <th>58</th>\n",
       "      <td>Friend</td>\n",
       "      <td>10</td>\n",
       "    </tr>\n",
       "    <tr>\n",
       "      <th>63</th>\n",
       "      <td>Friends</td>\n",
       "      <td>26</td>\n",
       "    </tr>\n",
       "    <tr>\n",
       "      <th>64</th>\n",
       "      <td>Friends</td>\n",
       "      <td>5</td>\n",
       "    </tr>\n",
       "    <tr>\n",
       "      <th>69</th>\n",
       "      <td>From a friend</td>\n",
       "      <td>3</td>\n",
       "    </tr>\n",
       "    <tr>\n",
       "      <th>74</th>\n",
       "      <td>From my friend</td>\n",
       "      <td>3</td>\n",
       "    </tr>\n",
       "    <tr>\n",
       "      <th>94</th>\n",
       "      <td>Internet</td>\n",
       "      <td>3</td>\n",
       "    </tr>\n",
       "    <tr>\n",
       "      <th>97</th>\n",
       "      <td>Krishnamita Banerjee</td>\n",
       "      <td>4</td>\n",
       "    </tr>\n",
       "    <tr>\n",
       "      <th>111</th>\n",
       "      <td>My friend</td>\n",
       "      <td>6</td>\n",
       "    </tr>\n",
       "    <tr>\n",
       "      <th>129</th>\n",
       "      <td>Professor</td>\n",
       "      <td>4</td>\n",
       "    </tr>\n",
       "    <tr>\n",
       "      <th>136</th>\n",
       "      <td>Rohan</td>\n",
       "      <td>3</td>\n",
       "    </tr>\n",
       "    <tr>\n",
       "      <th>140</th>\n",
       "      <td>Sanghamitra Majumder</td>\n",
       "      <td>4</td>\n",
       "    </tr>\n",
       "    <tr>\n",
       "      <th>144</th>\n",
       "      <td>Social media</td>\n",
       "      <td>6</td>\n",
       "    </tr>\n",
       "    <tr>\n",
       "      <th>160</th>\n",
       "      <td>Teacher</td>\n",
       "      <td>3</td>\n",
       "    </tr>\n",
       "    <tr>\n",
       "      <th>191</th>\n",
       "      <td>WhatsApp group</td>\n",
       "      <td>3</td>\n",
       "    </tr>\n",
       "    <tr>\n",
       "      <th>193</th>\n",
       "      <td>Whatsapp</td>\n",
       "      <td>11</td>\n",
       "    </tr>\n",
       "    <tr>\n",
       "      <th>198</th>\n",
       "      <td>Whatsapp group</td>\n",
       "      <td>3</td>\n",
       "    </tr>\n",
       "    <tr>\n",
       "      <th>206</th>\n",
       "      <td>friend</td>\n",
       "      <td>4</td>\n",
       "    </tr>\n",
       "  </tbody>\n",
       "</table>\n",
       "</div>"
      ],
      "text/plain": [
       "                   Source  counts\n",
       "11                College      27\n",
       "39               Facebook      18\n",
       "40              Facebook        9\n",
       "43         Facebook Event       3\n",
       "57                 Friend      66\n",
       "58                Friend       10\n",
       "63                Friends      26\n",
       "64               Friends        5\n",
       "69          From a friend       3\n",
       "74         From my friend       3\n",
       "94               Internet       3\n",
       "97   Krishnamita Banerjee       4\n",
       "111             My friend       6\n",
       "129             Professor       4\n",
       "136                 Rohan       3\n",
       "140  Sanghamitra Majumder       4\n",
       "144          Social media       6\n",
       "160               Teacher       3\n",
       "191        WhatsApp group       3\n",
       "193              Whatsapp      11\n",
       "198        Whatsapp group       3\n",
       "206                friend       4"
      ]
     },
     "execution_count": 254,
     "metadata": {},
     "output_type": "execute_result"
    }
   ],
   "source": [
    "source_top = source2[source2['counts'] > 2]\n",
    "source_top"
   ]
  },
  {
   "cell_type": "code",
   "execution_count": 256,
   "metadata": {},
   "outputs": [
    {
     "data": {
      "application/vnd.plotly.v1+json": {
       "config": {
        "linkText": "Export to plot.ly",
        "plotlyServerURL": "https://plot.ly",
        "showLink": false
       },
       "data": [
        {
         "marker": {
          "color": "lightgreen"
         },
         "text": [
          "Friend",
          "College",
          "Friends",
          "Facebook",
          "Whatsapp",
          "Friend ",
          "Facebook ",
          "My friend",
          "Social media",
          "Friends ",
          "Sanghamitra Majumder",
          "Professor",
          "Krishnamita Banerjee",
          "friend",
          "Internet",
          "Rohan",
          "From my friend",
          "From a friend",
          "Teacher",
          "WhatsApp group",
          "Facebook Event",
          "Whatsapp group"
         ],
         "type": "bar",
         "x": [
          "Friend",
          "College",
          "Friends",
          "Facebook",
          "Whatsapp",
          "Friend ",
          "Facebook ",
          "My friend",
          "Social media",
          "Friends ",
          "Sanghamitra Majumder",
          "Professor",
          "Krishnamita Banerjee",
          "friend",
          "Internet",
          "Rohan",
          "From my friend",
          "From a friend",
          "Teacher",
          "WhatsApp group",
          "Facebook Event",
          "Whatsapp group"
         ],
         "y": [
          66,
          27,
          26,
          18,
          11,
          10,
          9,
          6,
          6,
          5,
          4,
          4,
          4,
          4,
          3,
          3,
          3,
          3,
          3,
          3,
          3,
          3
         ]
        }
       ],
       "layout": {
        "hovermode": "closest",
        "paper_bgcolor": "rgba(0, 0, 0, 0)",
        "plot_bgcolor": "rgba(0, 0, 0, 0)",
        "template": {
         "data": {
          "bar": [
           {
            "error_x": {
             "color": "#2a3f5f"
            },
            "error_y": {
             "color": "#2a3f5f"
            },
            "marker": {
             "line": {
              "color": "#E5ECF6",
              "width": 0.5
             }
            },
            "type": "bar"
           }
          ],
          "barpolar": [
           {
            "marker": {
             "line": {
              "color": "#E5ECF6",
              "width": 0.5
             }
            },
            "type": "barpolar"
           }
          ],
          "carpet": [
           {
            "aaxis": {
             "endlinecolor": "#2a3f5f",
             "gridcolor": "white",
             "linecolor": "white",
             "minorgridcolor": "white",
             "startlinecolor": "#2a3f5f"
            },
            "baxis": {
             "endlinecolor": "#2a3f5f",
             "gridcolor": "white",
             "linecolor": "white",
             "minorgridcolor": "white",
             "startlinecolor": "#2a3f5f"
            },
            "type": "carpet"
           }
          ],
          "choropleth": [
           {
            "colorbar": {
             "outlinewidth": 0,
             "ticks": ""
            },
            "type": "choropleth"
           }
          ],
          "contour": [
           {
            "colorbar": {
             "outlinewidth": 0,
             "ticks": ""
            },
            "colorscale": [
             [
              0,
              "#0d0887"
             ],
             [
              0.1111111111111111,
              "#46039f"
             ],
             [
              0.2222222222222222,
              "#7201a8"
             ],
             [
              0.3333333333333333,
              "#9c179e"
             ],
             [
              0.4444444444444444,
              "#bd3786"
             ],
             [
              0.5555555555555556,
              "#d8576b"
             ],
             [
              0.6666666666666666,
              "#ed7953"
             ],
             [
              0.7777777777777778,
              "#fb9f3a"
             ],
             [
              0.8888888888888888,
              "#fdca26"
             ],
             [
              1,
              "#f0f921"
             ]
            ],
            "type": "contour"
           }
          ],
          "contourcarpet": [
           {
            "colorbar": {
             "outlinewidth": 0,
             "ticks": ""
            },
            "type": "contourcarpet"
           }
          ],
          "heatmap": [
           {
            "colorbar": {
             "outlinewidth": 0,
             "ticks": ""
            },
            "colorscale": [
             [
              0,
              "#0d0887"
             ],
             [
              0.1111111111111111,
              "#46039f"
             ],
             [
              0.2222222222222222,
              "#7201a8"
             ],
             [
              0.3333333333333333,
              "#9c179e"
             ],
             [
              0.4444444444444444,
              "#bd3786"
             ],
             [
              0.5555555555555556,
              "#d8576b"
             ],
             [
              0.6666666666666666,
              "#ed7953"
             ],
             [
              0.7777777777777778,
              "#fb9f3a"
             ],
             [
              0.8888888888888888,
              "#fdca26"
             ],
             [
              1,
              "#f0f921"
             ]
            ],
            "type": "heatmap"
           }
          ],
          "heatmapgl": [
           {
            "colorbar": {
             "outlinewidth": 0,
             "ticks": ""
            },
            "colorscale": [
             [
              0,
              "#0d0887"
             ],
             [
              0.1111111111111111,
              "#46039f"
             ],
             [
              0.2222222222222222,
              "#7201a8"
             ],
             [
              0.3333333333333333,
              "#9c179e"
             ],
             [
              0.4444444444444444,
              "#bd3786"
             ],
             [
              0.5555555555555556,
              "#d8576b"
             ],
             [
              0.6666666666666666,
              "#ed7953"
             ],
             [
              0.7777777777777778,
              "#fb9f3a"
             ],
             [
              0.8888888888888888,
              "#fdca26"
             ],
             [
              1,
              "#f0f921"
             ]
            ],
            "type": "heatmapgl"
           }
          ],
          "histogram": [
           {
            "marker": {
             "colorbar": {
              "outlinewidth": 0,
              "ticks": ""
             }
            },
            "type": "histogram"
           }
          ],
          "histogram2d": [
           {
            "colorbar": {
             "outlinewidth": 0,
             "ticks": ""
            },
            "colorscale": [
             [
              0,
              "#0d0887"
             ],
             [
              0.1111111111111111,
              "#46039f"
             ],
             [
              0.2222222222222222,
              "#7201a8"
             ],
             [
              0.3333333333333333,
              "#9c179e"
             ],
             [
              0.4444444444444444,
              "#bd3786"
             ],
             [
              0.5555555555555556,
              "#d8576b"
             ],
             [
              0.6666666666666666,
              "#ed7953"
             ],
             [
              0.7777777777777778,
              "#fb9f3a"
             ],
             [
              0.8888888888888888,
              "#fdca26"
             ],
             [
              1,
              "#f0f921"
             ]
            ],
            "type": "histogram2d"
           }
          ],
          "histogram2dcontour": [
           {
            "colorbar": {
             "outlinewidth": 0,
             "ticks": ""
            },
            "colorscale": [
             [
              0,
              "#0d0887"
             ],
             [
              0.1111111111111111,
              "#46039f"
             ],
             [
              0.2222222222222222,
              "#7201a8"
             ],
             [
              0.3333333333333333,
              "#9c179e"
             ],
             [
              0.4444444444444444,
              "#bd3786"
             ],
             [
              0.5555555555555556,
              "#d8576b"
             ],
             [
              0.6666666666666666,
              "#ed7953"
             ],
             [
              0.7777777777777778,
              "#fb9f3a"
             ],
             [
              0.8888888888888888,
              "#fdca26"
             ],
             [
              1,
              "#f0f921"
             ]
            ],
            "type": "histogram2dcontour"
           }
          ],
          "mesh3d": [
           {
            "colorbar": {
             "outlinewidth": 0,
             "ticks": ""
            },
            "type": "mesh3d"
           }
          ],
          "parcoords": [
           {
            "line": {
             "colorbar": {
              "outlinewidth": 0,
              "ticks": ""
             }
            },
            "type": "parcoords"
           }
          ],
          "pie": [
           {
            "automargin": true,
            "type": "pie"
           }
          ],
          "scatter": [
           {
            "marker": {
             "colorbar": {
              "outlinewidth": 0,
              "ticks": ""
             }
            },
            "type": "scatter"
           }
          ],
          "scatter3d": [
           {
            "line": {
             "colorbar": {
              "outlinewidth": 0,
              "ticks": ""
             }
            },
            "marker": {
             "colorbar": {
              "outlinewidth": 0,
              "ticks": ""
             }
            },
            "type": "scatter3d"
           }
          ],
          "scattercarpet": [
           {
            "marker": {
             "colorbar": {
              "outlinewidth": 0,
              "ticks": ""
             }
            },
            "type": "scattercarpet"
           }
          ],
          "scattergeo": [
           {
            "marker": {
             "colorbar": {
              "outlinewidth": 0,
              "ticks": ""
             }
            },
            "type": "scattergeo"
           }
          ],
          "scattergl": [
           {
            "marker": {
             "colorbar": {
              "outlinewidth": 0,
              "ticks": ""
             }
            },
            "type": "scattergl"
           }
          ],
          "scattermapbox": [
           {
            "marker": {
             "colorbar": {
              "outlinewidth": 0,
              "ticks": ""
             }
            },
            "type": "scattermapbox"
           }
          ],
          "scatterpolar": [
           {
            "marker": {
             "colorbar": {
              "outlinewidth": 0,
              "ticks": ""
             }
            },
            "type": "scatterpolar"
           }
          ],
          "scatterpolargl": [
           {
            "marker": {
             "colorbar": {
              "outlinewidth": 0,
              "ticks": ""
             }
            },
            "type": "scatterpolargl"
           }
          ],
          "scatterternary": [
           {
            "marker": {
             "colorbar": {
              "outlinewidth": 0,
              "ticks": ""
             }
            },
            "type": "scatterternary"
           }
          ],
          "surface": [
           {
            "colorbar": {
             "outlinewidth": 0,
             "ticks": ""
            },
            "colorscale": [
             [
              0,
              "#0d0887"
             ],
             [
              0.1111111111111111,
              "#46039f"
             ],
             [
              0.2222222222222222,
              "#7201a8"
             ],
             [
              0.3333333333333333,
              "#9c179e"
             ],
             [
              0.4444444444444444,
              "#bd3786"
             ],
             [
              0.5555555555555556,
              "#d8576b"
             ],
             [
              0.6666666666666666,
              "#ed7953"
             ],
             [
              0.7777777777777778,
              "#fb9f3a"
             ],
             [
              0.8888888888888888,
              "#fdca26"
             ],
             [
              1,
              "#f0f921"
             ]
            ],
            "type": "surface"
           }
          ],
          "table": [
           {
            "cells": {
             "fill": {
              "color": "#EBF0F8"
             },
             "line": {
              "color": "white"
             }
            },
            "header": {
             "fill": {
              "color": "#C8D4E3"
             },
             "line": {
              "color": "white"
             }
            },
            "type": "table"
           }
          ]
         },
         "layout": {
          "annotationdefaults": {
           "arrowcolor": "#2a3f5f",
           "arrowhead": 0,
           "arrowwidth": 1
          },
          "autotypenumbers": "strict",
          "coloraxis": {
           "colorbar": {
            "outlinewidth": 0,
            "ticks": ""
           }
          },
          "colorscale": {
           "diverging": [
            [
             0,
             "#8e0152"
            ],
            [
             0.1,
             "#c51b7d"
            ],
            [
             0.2,
             "#de77ae"
            ],
            [
             0.3,
             "#f1b6da"
            ],
            [
             0.4,
             "#fde0ef"
            ],
            [
             0.5,
             "#f7f7f7"
            ],
            [
             0.6,
             "#e6f5d0"
            ],
            [
             0.7,
             "#b8e186"
            ],
            [
             0.8,
             "#7fbc41"
            ],
            [
             0.9,
             "#4d9221"
            ],
            [
             1,
             "#276419"
            ]
           ],
           "sequential": [
            [
             0,
             "#0d0887"
            ],
            [
             0.1111111111111111,
             "#46039f"
            ],
            [
             0.2222222222222222,
             "#7201a8"
            ],
            [
             0.3333333333333333,
             "#9c179e"
            ],
            [
             0.4444444444444444,
             "#bd3786"
            ],
            [
             0.5555555555555556,
             "#d8576b"
            ],
            [
             0.6666666666666666,
             "#ed7953"
            ],
            [
             0.7777777777777778,
             "#fb9f3a"
            ],
            [
             0.8888888888888888,
             "#fdca26"
            ],
            [
             1,
             "#f0f921"
            ]
           ],
           "sequentialminus": [
            [
             0,
             "#0d0887"
            ],
            [
             0.1111111111111111,
             "#46039f"
            ],
            [
             0.2222222222222222,
             "#7201a8"
            ],
            [
             0.3333333333333333,
             "#9c179e"
            ],
            [
             0.4444444444444444,
             "#bd3786"
            ],
            [
             0.5555555555555556,
             "#d8576b"
            ],
            [
             0.6666666666666666,
             "#ed7953"
            ],
            [
             0.7777777777777778,
             "#fb9f3a"
            ],
            [
             0.8888888888888888,
             "#fdca26"
            ],
            [
             1,
             "#f0f921"
            ]
           ]
          },
          "colorway": [
           "#636efa",
           "#EF553B",
           "#00cc96",
           "#ab63fa",
           "#FFA15A",
           "#19d3f3",
           "#FF6692",
           "#B6E880",
           "#FF97FF",
           "#FECB52"
          ],
          "font": {
           "color": "#2a3f5f"
          },
          "geo": {
           "bgcolor": "white",
           "lakecolor": "white",
           "landcolor": "#E5ECF6",
           "showlakes": true,
           "showland": true,
           "subunitcolor": "white"
          },
          "hoverlabel": {
           "align": "left"
          },
          "hovermode": "closest",
          "mapbox": {
           "style": "light"
          },
          "paper_bgcolor": "white",
          "plot_bgcolor": "#E5ECF6",
          "polar": {
           "angularaxis": {
            "gridcolor": "white",
            "linecolor": "white",
            "ticks": ""
           },
           "bgcolor": "#E5ECF6",
           "radialaxis": {
            "gridcolor": "white",
            "linecolor": "white",
            "ticks": ""
           }
          },
          "scene": {
           "xaxis": {
            "backgroundcolor": "#E5ECF6",
            "gridcolor": "white",
            "gridwidth": 2,
            "linecolor": "white",
            "showbackground": true,
            "ticks": "",
            "zerolinecolor": "white"
           },
           "yaxis": {
            "backgroundcolor": "#E5ECF6",
            "gridcolor": "white",
            "gridwidth": 2,
            "linecolor": "white",
            "showbackground": true,
            "ticks": "",
            "zerolinecolor": "white"
           },
           "zaxis": {
            "backgroundcolor": "#E5ECF6",
            "gridcolor": "white",
            "gridwidth": 2,
            "linecolor": "white",
            "showbackground": true,
            "ticks": "",
            "zerolinecolor": "white"
           }
          },
          "shapedefaults": {
           "line": {
            "color": "#2a3f5f"
           }
          },
          "ternary": {
           "aaxis": {
            "gridcolor": "white",
            "linecolor": "white",
            "ticks": ""
           },
           "baxis": {
            "gridcolor": "white",
            "linecolor": "white",
            "ticks": ""
           },
           "bgcolor": "#E5ECF6",
           "caxis": {
            "gridcolor": "white",
            "linecolor": "white",
            "ticks": ""
           }
          },
          "title": {
           "x": 0.05
          },
          "xaxis": {
           "automargin": true,
           "gridcolor": "white",
           "linecolor": "white",
           "ticks": "",
           "title": {
            "standoff": 15
           },
           "zerolinecolor": "white",
           "zerolinewidth": 2
          },
          "yaxis": {
           "automargin": true,
           "gridcolor": "white",
           "linecolor": "white",
           "ticks": "",
           "title": {
            "standoff": 15
           },
           "zerolinecolor": "white",
           "zerolinewidth": 2
          }
         }
        },
        "title": {
         "text": "how did you know about us from free session student"
        },
        "xaxis": {
         "linecolor": "black",
         "linewidth": 2,
         "mirror": true,
         "showline": true,
         "showticklabels": true,
         "tickangle": 45,
         "tickfont": {
          "color": "red",
          "size": 10
         },
         "title": {
          "text": "Name of the Source"
         },
         "zeroline": true,
         "zerolinecolor": "grey",
         "zerolinewidth": 1
        },
        "yaxis": {
         "gridcolor": "lightgrey",
         "linecolor": "black",
         "linewidth": 2,
         "mirror": true,
         "showline": true,
         "title": {
          "text": "Total Students"
         },
         "zeroline": true,
         "zerolinecolor": "grey",
         "zerolinewidth": 1
        }
       }
      },
      "text/html": [
       "<div>                            <div id=\"76163c89-8cfa-4c6b-9201-012c100c18b4\" class=\"plotly-graph-div\" style=\"height:525px; width:100%;\"></div>            <script type=\"text/javascript\">                require([\"plotly\"], function(Plotly) {                    window.PLOTLYENV=window.PLOTLYENV || {};                                    if (document.getElementById(\"76163c89-8cfa-4c6b-9201-012c100c18b4\")) {                    Plotly.newPlot(                        \"76163c89-8cfa-4c6b-9201-012c100c18b4\",                        [{\"marker\": {\"color\": \"lightgreen\"}, \"text\": [\"Friend\", \"College\", \"Friends\", \"Facebook\", \"Whatsapp\", \"Friend \", \"Facebook \", \"My friend\", \"Social media\", \"Friends \", \"Sanghamitra Majumder\", \"Professor\", \"Krishnamita Banerjee\", \"friend\", \"Internet\", \"Rohan\", \"From my friend\", \"From a friend\", \"Teacher\", \"WhatsApp group\", \"Facebook Event\", \"Whatsapp group\"], \"type\": \"bar\", \"x\": [\"Friend\", \"College\", \"Friends\", \"Facebook\", \"Whatsapp\", \"Friend \", \"Facebook \", \"My friend\", \"Social media\", \"Friends \", \"Sanghamitra Majumder\", \"Professor\", \"Krishnamita Banerjee\", \"friend\", \"Internet\", \"Rohan\", \"From my friend\", \"From a friend\", \"Teacher\", \"WhatsApp group\", \"Facebook Event\", \"Whatsapp group\"], \"y\": [66, 27, 26, 18, 11, 10, 9, 6, 6, 5, 4, 4, 4, 4, 3, 3, 3, 3, 3, 3, 3, 3]}],                        {\"hovermode\": \"closest\", \"paper_bgcolor\": \"rgba(0, 0, 0, 0)\", \"plot_bgcolor\": \"rgba(0, 0, 0, 0)\", \"template\": {\"data\": {\"bar\": [{\"error_x\": {\"color\": \"#2a3f5f\"}, \"error_y\": {\"color\": \"#2a3f5f\"}, \"marker\": {\"line\": {\"color\": \"#E5ECF6\", \"width\": 0.5}}, \"type\": \"bar\"}], \"barpolar\": [{\"marker\": {\"line\": {\"color\": \"#E5ECF6\", \"width\": 0.5}}, \"type\": \"barpolar\"}], \"carpet\": [{\"aaxis\": {\"endlinecolor\": \"#2a3f5f\", \"gridcolor\": \"white\", \"linecolor\": \"white\", \"minorgridcolor\": \"white\", \"startlinecolor\": \"#2a3f5f\"}, \"baxis\": {\"endlinecolor\": \"#2a3f5f\", \"gridcolor\": \"white\", \"linecolor\": \"white\", \"minorgridcolor\": \"white\", \"startlinecolor\": \"#2a3f5f\"}, \"type\": \"carpet\"}], \"choropleth\": [{\"colorbar\": {\"outlinewidth\": 0, \"ticks\": \"\"}, \"type\": \"choropleth\"}], \"contour\": [{\"colorbar\": {\"outlinewidth\": 0, \"ticks\": \"\"}, \"colorscale\": [[0.0, \"#0d0887\"], [0.1111111111111111, \"#46039f\"], [0.2222222222222222, \"#7201a8\"], [0.3333333333333333, \"#9c179e\"], [0.4444444444444444, \"#bd3786\"], [0.5555555555555556, \"#d8576b\"], [0.6666666666666666, \"#ed7953\"], [0.7777777777777778, \"#fb9f3a\"], [0.8888888888888888, \"#fdca26\"], [1.0, \"#f0f921\"]], \"type\": \"contour\"}], \"contourcarpet\": [{\"colorbar\": {\"outlinewidth\": 0, \"ticks\": \"\"}, \"type\": \"contourcarpet\"}], \"heatmap\": [{\"colorbar\": {\"outlinewidth\": 0, \"ticks\": \"\"}, \"colorscale\": [[0.0, \"#0d0887\"], [0.1111111111111111, \"#46039f\"], [0.2222222222222222, \"#7201a8\"], [0.3333333333333333, \"#9c179e\"], [0.4444444444444444, \"#bd3786\"], [0.5555555555555556, \"#d8576b\"], [0.6666666666666666, \"#ed7953\"], [0.7777777777777778, \"#fb9f3a\"], [0.8888888888888888, \"#fdca26\"], [1.0, \"#f0f921\"]], \"type\": \"heatmap\"}], \"heatmapgl\": [{\"colorbar\": {\"outlinewidth\": 0, \"ticks\": \"\"}, \"colorscale\": [[0.0, \"#0d0887\"], [0.1111111111111111, \"#46039f\"], [0.2222222222222222, \"#7201a8\"], [0.3333333333333333, \"#9c179e\"], [0.4444444444444444, \"#bd3786\"], [0.5555555555555556, \"#d8576b\"], [0.6666666666666666, \"#ed7953\"], [0.7777777777777778, \"#fb9f3a\"], [0.8888888888888888, \"#fdca26\"], [1.0, \"#f0f921\"]], \"type\": \"heatmapgl\"}], \"histogram\": [{\"marker\": {\"colorbar\": {\"outlinewidth\": 0, \"ticks\": \"\"}}, \"type\": \"histogram\"}], \"histogram2d\": [{\"colorbar\": {\"outlinewidth\": 0, \"ticks\": \"\"}, \"colorscale\": [[0.0, \"#0d0887\"], [0.1111111111111111, \"#46039f\"], [0.2222222222222222, \"#7201a8\"], [0.3333333333333333, \"#9c179e\"], [0.4444444444444444, \"#bd3786\"], [0.5555555555555556, \"#d8576b\"], [0.6666666666666666, \"#ed7953\"], [0.7777777777777778, \"#fb9f3a\"], [0.8888888888888888, \"#fdca26\"], [1.0, \"#f0f921\"]], \"type\": \"histogram2d\"}], \"histogram2dcontour\": [{\"colorbar\": {\"outlinewidth\": 0, \"ticks\": \"\"}, \"colorscale\": [[0.0, \"#0d0887\"], [0.1111111111111111, \"#46039f\"], [0.2222222222222222, \"#7201a8\"], [0.3333333333333333, \"#9c179e\"], [0.4444444444444444, \"#bd3786\"], [0.5555555555555556, \"#d8576b\"], [0.6666666666666666, \"#ed7953\"], [0.7777777777777778, \"#fb9f3a\"], [0.8888888888888888, \"#fdca26\"], [1.0, \"#f0f921\"]], \"type\": \"histogram2dcontour\"}], \"mesh3d\": [{\"colorbar\": {\"outlinewidth\": 0, \"ticks\": \"\"}, \"type\": \"mesh3d\"}], \"parcoords\": [{\"line\": {\"colorbar\": {\"outlinewidth\": 0, \"ticks\": \"\"}}, \"type\": \"parcoords\"}], \"pie\": [{\"automargin\": true, \"type\": \"pie\"}], \"scatter\": [{\"marker\": {\"colorbar\": {\"outlinewidth\": 0, \"ticks\": \"\"}}, \"type\": \"scatter\"}], \"scatter3d\": [{\"line\": {\"colorbar\": {\"outlinewidth\": 0, \"ticks\": \"\"}}, \"marker\": {\"colorbar\": {\"outlinewidth\": 0, \"ticks\": \"\"}}, \"type\": \"scatter3d\"}], \"scattercarpet\": [{\"marker\": {\"colorbar\": {\"outlinewidth\": 0, \"ticks\": \"\"}}, \"type\": \"scattercarpet\"}], \"scattergeo\": [{\"marker\": {\"colorbar\": {\"outlinewidth\": 0, \"ticks\": \"\"}}, \"type\": \"scattergeo\"}], \"scattergl\": [{\"marker\": {\"colorbar\": {\"outlinewidth\": 0, \"ticks\": \"\"}}, \"type\": \"scattergl\"}], \"scattermapbox\": [{\"marker\": {\"colorbar\": {\"outlinewidth\": 0, \"ticks\": \"\"}}, \"type\": \"scattermapbox\"}], \"scatterpolar\": [{\"marker\": {\"colorbar\": {\"outlinewidth\": 0, \"ticks\": \"\"}}, \"type\": \"scatterpolar\"}], \"scatterpolargl\": [{\"marker\": {\"colorbar\": {\"outlinewidth\": 0, \"ticks\": \"\"}}, \"type\": \"scatterpolargl\"}], \"scatterternary\": [{\"marker\": {\"colorbar\": {\"outlinewidth\": 0, \"ticks\": \"\"}}, \"type\": \"scatterternary\"}], \"surface\": [{\"colorbar\": {\"outlinewidth\": 0, \"ticks\": \"\"}, \"colorscale\": [[0.0, \"#0d0887\"], [0.1111111111111111, \"#46039f\"], [0.2222222222222222, \"#7201a8\"], [0.3333333333333333, \"#9c179e\"], [0.4444444444444444, \"#bd3786\"], [0.5555555555555556, \"#d8576b\"], [0.6666666666666666, \"#ed7953\"], [0.7777777777777778, \"#fb9f3a\"], [0.8888888888888888, \"#fdca26\"], [1.0, \"#f0f921\"]], \"type\": \"surface\"}], \"table\": [{\"cells\": {\"fill\": {\"color\": \"#EBF0F8\"}, \"line\": {\"color\": \"white\"}}, \"header\": {\"fill\": {\"color\": \"#C8D4E3\"}, \"line\": {\"color\": \"white\"}}, \"type\": \"table\"}]}, \"layout\": {\"annotationdefaults\": {\"arrowcolor\": \"#2a3f5f\", \"arrowhead\": 0, \"arrowwidth\": 1}, \"autotypenumbers\": \"strict\", \"coloraxis\": {\"colorbar\": {\"outlinewidth\": 0, \"ticks\": \"\"}}, \"colorscale\": {\"diverging\": [[0, \"#8e0152\"], [0.1, \"#c51b7d\"], [0.2, \"#de77ae\"], [0.3, \"#f1b6da\"], [0.4, \"#fde0ef\"], [0.5, \"#f7f7f7\"], [0.6, \"#e6f5d0\"], [0.7, \"#b8e186\"], [0.8, \"#7fbc41\"], [0.9, \"#4d9221\"], [1, \"#276419\"]], \"sequential\": [[0.0, \"#0d0887\"], [0.1111111111111111, \"#46039f\"], [0.2222222222222222, \"#7201a8\"], [0.3333333333333333, \"#9c179e\"], [0.4444444444444444, \"#bd3786\"], [0.5555555555555556, \"#d8576b\"], [0.6666666666666666, \"#ed7953\"], [0.7777777777777778, \"#fb9f3a\"], [0.8888888888888888, \"#fdca26\"], [1.0, \"#f0f921\"]], \"sequentialminus\": [[0.0, \"#0d0887\"], [0.1111111111111111, \"#46039f\"], [0.2222222222222222, \"#7201a8\"], [0.3333333333333333, \"#9c179e\"], [0.4444444444444444, \"#bd3786\"], [0.5555555555555556, \"#d8576b\"], [0.6666666666666666, \"#ed7953\"], [0.7777777777777778, \"#fb9f3a\"], [0.8888888888888888, \"#fdca26\"], [1.0, \"#f0f921\"]]}, \"colorway\": [\"#636efa\", \"#EF553B\", \"#00cc96\", \"#ab63fa\", \"#FFA15A\", \"#19d3f3\", \"#FF6692\", \"#B6E880\", \"#FF97FF\", \"#FECB52\"], \"font\": {\"color\": \"#2a3f5f\"}, \"geo\": {\"bgcolor\": \"white\", \"lakecolor\": \"white\", \"landcolor\": \"#E5ECF6\", \"showlakes\": true, \"showland\": true, \"subunitcolor\": \"white\"}, \"hoverlabel\": {\"align\": \"left\"}, \"hovermode\": \"closest\", \"mapbox\": {\"style\": \"light\"}, \"paper_bgcolor\": \"white\", \"plot_bgcolor\": \"#E5ECF6\", \"polar\": {\"angularaxis\": {\"gridcolor\": \"white\", \"linecolor\": \"white\", \"ticks\": \"\"}, \"bgcolor\": \"#E5ECF6\", \"radialaxis\": {\"gridcolor\": \"white\", \"linecolor\": \"white\", \"ticks\": \"\"}}, \"scene\": {\"xaxis\": {\"backgroundcolor\": \"#E5ECF6\", \"gridcolor\": \"white\", \"gridwidth\": 2, \"linecolor\": \"white\", \"showbackground\": true, \"ticks\": \"\", \"zerolinecolor\": \"white\"}, \"yaxis\": {\"backgroundcolor\": \"#E5ECF6\", \"gridcolor\": \"white\", \"gridwidth\": 2, \"linecolor\": \"white\", \"showbackground\": true, \"ticks\": \"\", \"zerolinecolor\": \"white\"}, \"zaxis\": {\"backgroundcolor\": \"#E5ECF6\", \"gridcolor\": \"white\", \"gridwidth\": 2, \"linecolor\": \"white\", \"showbackground\": true, \"ticks\": \"\", \"zerolinecolor\": \"white\"}}, \"shapedefaults\": {\"line\": {\"color\": \"#2a3f5f\"}}, \"ternary\": {\"aaxis\": {\"gridcolor\": \"white\", \"linecolor\": \"white\", \"ticks\": \"\"}, \"baxis\": {\"gridcolor\": \"white\", \"linecolor\": \"white\", \"ticks\": \"\"}, \"bgcolor\": \"#E5ECF6\", \"caxis\": {\"gridcolor\": \"white\", \"linecolor\": \"white\", \"ticks\": \"\"}}, \"title\": {\"x\": 0.05}, \"xaxis\": {\"automargin\": true, \"gridcolor\": \"white\", \"linecolor\": \"white\", \"ticks\": \"\", \"title\": {\"standoff\": 15}, \"zerolinecolor\": \"white\", \"zerolinewidth\": 2}, \"yaxis\": {\"automargin\": true, \"gridcolor\": \"white\", \"linecolor\": \"white\", \"ticks\": \"\", \"title\": {\"standoff\": 15}, \"zerolinecolor\": \"white\", \"zerolinewidth\": 2}}}, \"title\": {\"text\": \"how did you know about us from free session student\"}, \"xaxis\": {\"linecolor\": \"black\", \"linewidth\": 2, \"mirror\": true, \"showline\": true, \"showticklabels\": true, \"tickangle\": 45, \"tickfont\": {\"color\": \"red\", \"size\": 10}, \"title\": {\"text\": \"Name of the Source\"}, \"zeroline\": true, \"zerolinecolor\": \"grey\", \"zerolinewidth\": 1}, \"yaxis\": {\"gridcolor\": \"lightgrey\", \"linecolor\": \"black\", \"linewidth\": 2, \"mirror\": true, \"showline\": true, \"title\": {\"text\": \"Total Students\"}, \"zeroline\": true, \"zerolinecolor\": \"grey\", \"zerolinewidth\": 1}},                        {\"responsive\": true}                    ).then(function(){\n",
       "                            \n",
       "var gd = document.getElementById('76163c89-8cfa-4c6b-9201-012c100c18b4');\n",
       "var x = new MutationObserver(function (mutations, observer) {{\n",
       "        var display = window.getComputedStyle(gd).display;\n",
       "        if (!display || display === 'none') {{\n",
       "            console.log([gd, 'removed!']);\n",
       "            Plotly.purge(gd);\n",
       "            observer.disconnect();\n",
       "        }}\n",
       "}});\n",
       "\n",
       "// Listen for the removal of the full notebook cells\n",
       "var notebookContainer = gd.closest('#notebook-container');\n",
       "if (notebookContainer) {{\n",
       "    x.observe(notebookContainer, {childList: true});\n",
       "}}\n",
       "\n",
       "// Listen for the clearing of the current output cell\n",
       "var outputEl = gd.closest('.output');\n",
       "if (outputEl) {{\n",
       "    x.observe(outputEl, {childList: true});\n",
       "}}\n",
       "\n",
       "                        })                };                });            </script>        </div>"
      ]
     },
     "metadata": {},
     "output_type": "display_data"
    }
   ],
   "source": [
    "draw_trace_bar(source_top,'Source','counts','how did you know about us from free session student', 'Name of the Source','Total Students',\"lightgreen\")"
   ]
  },
  {
   "cell_type": "code",
   "execution_count": null,
   "metadata": {},
   "outputs": [],
   "source": []
  }
 ],
 "metadata": {
  "kernelspec": {
   "display_name": "Python 3",
   "language": "python",
   "name": "python3"
  },
  "language_info": {
   "codemirror_mode": {
    "name": "ipython",
    "version": 3
   },
   "file_extension": ".py",
   "mimetype": "text/x-python",
   "name": "python",
   "nbconvert_exporter": "python",
   "pygments_lexer": "ipython3",
   "version": "3.8.3"
  }
 },
 "nbformat": 4,
 "nbformat_minor": 4
}
