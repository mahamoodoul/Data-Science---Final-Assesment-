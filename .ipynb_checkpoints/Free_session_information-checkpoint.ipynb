{
 "cells": [
  {
   "cell_type": "code",
   "execution_count": 1,
   "metadata": {},
   "outputs": [],
   "source": [
    "import pandas as pd #pd is the alias\n",
    "import numpy as np \n",
    "import datetime\n",
    "from os import listdir \n",
    "from os.path import isfile, join\n",
    "import glob \n",
    "import re\n",
    "import plotly.graph_objects as go\n",
    "import matplotlib.pyplot as plt # Use for plotting. \"plt\" is an alias for calling matplotlib.pyplot\n",
    "from matplotlib import style # to set the grid style \n",
    "import matplotlib.animation as animation\n",
    "%matplotlib inline"
   ]
  },
  {
   "cell_type": "code",
   "execution_count": 2,
   "metadata": {},
   "outputs": [
    {
     "data": {
      "text/html": [
       "<div>\n",
       "<style scoped>\n",
       "    .dataframe tbody tr th:only-of-type {\n",
       "        vertical-align: middle;\n",
       "    }\n",
       "\n",
       "    .dataframe tbody tr th {\n",
       "        vertical-align: top;\n",
       "    }\n",
       "\n",
       "    .dataframe thead th {\n",
       "        text-align: right;\n",
       "    }\n",
       "</style>\n",
       "<table border=\"1\" class=\"dataframe\">\n",
       "  <thead>\n",
       "    <tr style=\"text-align: right;\">\n",
       "      <th></th>\n",
       "      <th>Unnamed: 0</th>\n",
       "      <th>Timestamp</th>\n",
       "      <th>Name</th>\n",
       "      <th>Contact</th>\n",
       "      <th>Email</th>\n",
       "      <th>College</th>\n",
       "      <th>Department</th>\n",
       "      <th>HasLaptop</th>\n",
       "      <th>Source</th>\n",
       "      <th>Country</th>\n",
       "    </tr>\n",
       "  </thead>\n",
       "  <tbody>\n",
       "    <tr>\n",
       "      <th>0</th>\n",
       "      <td>0</td>\n",
       "      <td>8/24/2020 17:01:39</td>\n",
       "      <td>A.S.M. Raquibul Hasan</td>\n",
       "      <td>01722577922</td>\n",
       "      <td>raquibul.nsu@gmail.com</td>\n",
       "      <td>United International University</td>\n",
       "      <td>others</td>\n",
       "      <td>Yes</td>\n",
       "      <td>Facebook</td>\n",
       "      <td>Bangladesh</td>\n",
       "    </tr>\n",
       "    <tr>\n",
       "      <th>1</th>\n",
       "      <td>1</td>\n",
       "      <td>8/24/2020 10:08:54</td>\n",
       "      <td>Abdullah</td>\n",
       "      <td>NaN</td>\n",
       "      <td>sharif3abdullah@gmail.com</td>\n",
       "      <td>IIT</td>\n",
       "      <td>Engineering</td>\n",
       "      <td>NaN</td>\n",
       "      <td>NaN</td>\n",
       "      <td>Bangladesh</td>\n",
       "    </tr>\n",
       "    <tr>\n",
       "      <th>2</th>\n",
       "      <td>2</td>\n",
       "      <td>8/24/2020 9:20:28</td>\n",
       "      <td>Abdullah Bin Murad</td>\n",
       "      <td>01552443554</td>\n",
       "      <td>abmrifat54@gmail.com</td>\n",
       "      <td>Shahjalal University of Science and Technology</td>\n",
       "      <td>Engineering</td>\n",
       "      <td>Yes</td>\n",
       "      <td>NaN</td>\n",
       "      <td>Bangladesh</td>\n",
       "    </tr>\n",
       "    <tr>\n",
       "      <th>3</th>\n",
       "      <td>3</td>\n",
       "      <td>7/28/2020 12:16:30</td>\n",
       "      <td>Abhijoy Mukherjee</td>\n",
       "      <td>7003206060</td>\n",
       "      <td>abhijoymukherjee01@gmail.com</td>\n",
       "      <td>Asutosh College</td>\n",
       "      <td>Statistics</td>\n",
       "      <td>Yes</td>\n",
       "      <td>Friend</td>\n",
       "      <td>India</td>\n",
       "    </tr>\n",
       "    <tr>\n",
       "      <th>4</th>\n",
       "      <td>4</td>\n",
       "      <td>7/10/2020 13:56:14</td>\n",
       "      <td>Abhipreeti Acharjee</td>\n",
       "      <td>8274839744</td>\n",
       "      <td>deepamandal007@gmail.com</td>\n",
       "      <td>DEPARTMENT OF PURE MATHEMATICS, UNIVERSITY OF ...</td>\n",
       "      <td>PURE MATHEMATICS</td>\n",
       "      <td>Yes</td>\n",
       "      <td>NaN</td>\n",
       "      <td>India</td>\n",
       "    </tr>\n",
       "  </tbody>\n",
       "</table>\n",
       "</div>"
      ],
      "text/plain": [
       "   Unnamed: 0           Timestamp                    Name      Contact  \\\n",
       "0           0  8/24/2020 17:01:39  A.S.M. Raquibul Hasan   01722577922   \n",
       "1           1  8/24/2020 10:08:54                Abdullah          NaN   \n",
       "2           2   8/24/2020 9:20:28    Abdullah Bin Murad    01552443554   \n",
       "3           3  7/28/2020 12:16:30       Abhijoy Mukherjee   7003206060   \n",
       "4           4  7/10/2020 13:56:14     Abhipreeti Acharjee   8274839744   \n",
       "\n",
       "                          Email  \\\n",
       "0        raquibul.nsu@gmail.com   \n",
       "1     sharif3abdullah@gmail.com   \n",
       "2          abmrifat54@gmail.com   \n",
       "3  abhijoymukherjee01@gmail.com   \n",
       "4      deepamandal007@gmail.com   \n",
       "\n",
       "                                             College        Department  \\\n",
       "0                   United International University             others   \n",
       "1                                                IIT       Engineering   \n",
       "2     Shahjalal University of Science and Technology       Engineering   \n",
       "3                                    Asutosh College        Statistics   \n",
       "4  DEPARTMENT OF PURE MATHEMATICS, UNIVERSITY OF ...  PURE MATHEMATICS   \n",
       "\n",
       "  HasLaptop     Source     Country  \n",
       "0       Yes  Facebook   Bangladesh  \n",
       "1       NaN        NaN  Bangladesh  \n",
       "2       Yes        NaN  Bangladesh  \n",
       "3       Yes     Friend       India  \n",
       "4       Yes        NaN       India  "
      ]
     },
     "execution_count": 2,
     "metadata": {},
     "output_type": "execute_result"
    }
   ],
   "source": [
    "#read csv file\n",
    "#df = free session data all\n",
    "df = pd.read_csv(\"free_session_information.csv\")\n",
    "df.head()"
   ]
  },
  {
   "cell_type": "code",
   "execution_count": 3,
   "metadata": {},
   "outputs": [],
   "source": [
    "#remove the Unnamed 0 column\n",
    "df.drop(['Unnamed: 0'], axis = 1, inplace = True)"
   ]
  },
  {
   "cell_type": "code",
   "execution_count": 4,
   "metadata": {},
   "outputs": [
    {
     "data": {
      "text/html": [
       "<div>\n",
       "<style scoped>\n",
       "    .dataframe tbody tr th:only-of-type {\n",
       "        vertical-align: middle;\n",
       "    }\n",
       "\n",
       "    .dataframe tbody tr th {\n",
       "        vertical-align: top;\n",
       "    }\n",
       "\n",
       "    .dataframe thead th {\n",
       "        text-align: right;\n",
       "    }\n",
       "</style>\n",
       "<table border=\"1\" class=\"dataframe\">\n",
       "  <thead>\n",
       "    <tr style=\"text-align: right;\">\n",
       "      <th></th>\n",
       "      <th>Timestamp</th>\n",
       "      <th>Name</th>\n",
       "      <th>Contact</th>\n",
       "      <th>Email</th>\n",
       "      <th>College</th>\n",
       "      <th>Department</th>\n",
       "      <th>HasLaptop</th>\n",
       "      <th>Source</th>\n",
       "      <th>Country</th>\n",
       "    </tr>\n",
       "  </thead>\n",
       "  <tbody>\n",
       "    <tr>\n",
       "      <th>0</th>\n",
       "      <td>8/24/2020 17:01:39</td>\n",
       "      <td>A.S.M. Raquibul Hasan</td>\n",
       "      <td>01722577922</td>\n",
       "      <td>raquibul.nsu@gmail.com</td>\n",
       "      <td>United International University</td>\n",
       "      <td>others</td>\n",
       "      <td>Yes</td>\n",
       "      <td>Facebook</td>\n",
       "      <td>Bangladesh</td>\n",
       "    </tr>\n",
       "    <tr>\n",
       "      <th>1</th>\n",
       "      <td>8/24/2020 10:08:54</td>\n",
       "      <td>Abdullah</td>\n",
       "      <td>NaN</td>\n",
       "      <td>sharif3abdullah@gmail.com</td>\n",
       "      <td>IIT</td>\n",
       "      <td>Engineering</td>\n",
       "      <td>NaN</td>\n",
       "      <td>NaN</td>\n",
       "      <td>Bangladesh</td>\n",
       "    </tr>\n",
       "    <tr>\n",
       "      <th>2</th>\n",
       "      <td>8/24/2020 9:20:28</td>\n",
       "      <td>Abdullah Bin Murad</td>\n",
       "      <td>01552443554</td>\n",
       "      <td>abmrifat54@gmail.com</td>\n",
       "      <td>Shahjalal University of Science and Technology</td>\n",
       "      <td>Engineering</td>\n",
       "      <td>Yes</td>\n",
       "      <td>NaN</td>\n",
       "      <td>Bangladesh</td>\n",
       "    </tr>\n",
       "    <tr>\n",
       "      <th>3</th>\n",
       "      <td>7/28/2020 12:16:30</td>\n",
       "      <td>Abhijoy Mukherjee</td>\n",
       "      <td>7003206060</td>\n",
       "      <td>abhijoymukherjee01@gmail.com</td>\n",
       "      <td>Asutosh College</td>\n",
       "      <td>Statistics</td>\n",
       "      <td>Yes</td>\n",
       "      <td>Friend</td>\n",
       "      <td>India</td>\n",
       "    </tr>\n",
       "    <tr>\n",
       "      <th>4</th>\n",
       "      <td>7/10/2020 13:56:14</td>\n",
       "      <td>Abhipreeti Acharjee</td>\n",
       "      <td>8274839744</td>\n",
       "      <td>deepamandal007@gmail.com</td>\n",
       "      <td>DEPARTMENT OF PURE MATHEMATICS, UNIVERSITY OF ...</td>\n",
       "      <td>PURE MATHEMATICS</td>\n",
       "      <td>Yes</td>\n",
       "      <td>NaN</td>\n",
       "      <td>India</td>\n",
       "    </tr>\n",
       "    <tr>\n",
       "      <th>...</th>\n",
       "      <td>...</td>\n",
       "      <td>...</td>\n",
       "      <td>...</td>\n",
       "      <td>...</td>\n",
       "      <td>...</td>\n",
       "      <td>...</td>\n",
       "      <td>...</td>\n",
       "      <td>...</td>\n",
       "      <td>...</td>\n",
       "    </tr>\n",
       "    <tr>\n",
       "      <th>963</th>\n",
       "      <td>1/22/2021 22:06:24</td>\n",
       "      <td>Ramanish Banerjee</td>\n",
       "      <td>8017179702</td>\n",
       "      <td>banerjeeramanish@gmail.com</td>\n",
       "      <td>MAULANA AZAD COLLEGE</td>\n",
       "      <td>Honors (BSC/MSC)</td>\n",
       "      <td>Yes</td>\n",
       "      <td>NaN</td>\n",
       "      <td>NaN</td>\n",
       "    </tr>\n",
       "    <tr>\n",
       "      <th>964</th>\n",
       "      <td>1/22/2021 22:46:21</td>\n",
       "      <td>Jinia Banerjee</td>\n",
       "      <td>6289719175</td>\n",
       "      <td>jiniabanerjee9727@gmail.com</td>\n",
       "      <td>Maulona Azad College</td>\n",
       "      <td>Honors (BSC/MSC)</td>\n",
       "      <td>No</td>\n",
       "      <td>NaN</td>\n",
       "      <td>NaN</td>\n",
       "    </tr>\n",
       "    <tr>\n",
       "      <th>965</th>\n",
       "      <td>1/23/2021 10:57:08</td>\n",
       "      <td>Md Safiqul Islam</td>\n",
       "      <td>8250955315</td>\n",
       "      <td>safiqulislam6006@gmail.com</td>\n",
       "      <td>Maulana Azad College</td>\n",
       "      <td>Honors (BSC/MSC)</td>\n",
       "      <td>Yes</td>\n",
       "      <td>NaN</td>\n",
       "      <td>NaN</td>\n",
       "    </tr>\n",
       "    <tr>\n",
       "      <th>966</th>\n",
       "      <td>1/23/2021 12:27:32</td>\n",
       "      <td>Soumojit Chatterjee</td>\n",
       "      <td>8101726672</td>\n",
       "      <td>imsoumojit@yahoo.com</td>\n",
       "      <td>Maulana Azad College</td>\n",
       "      <td>Honors (BSC/MSC)</td>\n",
       "      <td>Yes</td>\n",
       "      <td>NaN</td>\n",
       "      <td>NaN</td>\n",
       "    </tr>\n",
       "    <tr>\n",
       "      <th>967</th>\n",
       "      <td>1/23/2021 17:37:35</td>\n",
       "      <td>Debanjan Bhattacharjee</td>\n",
       "      <td>6290909245</td>\n",
       "      <td>debanjanbhattacharjee2002@gmail.com</td>\n",
       "      <td>Maulana Azad College</td>\n",
       "      <td>Honors (BSC/MSC)</td>\n",
       "      <td>Yes</td>\n",
       "      <td>NaN</td>\n",
       "      <td>NaN</td>\n",
       "    </tr>\n",
       "  </tbody>\n",
       "</table>\n",
       "<p>968 rows × 9 columns</p>\n",
       "</div>"
      ],
      "text/plain": [
       "              Timestamp                    Name      Contact  \\\n",
       "0    8/24/2020 17:01:39  A.S.M. Raquibul Hasan   01722577922   \n",
       "1    8/24/2020 10:08:54                Abdullah          NaN   \n",
       "2     8/24/2020 9:20:28    Abdullah Bin Murad    01552443554   \n",
       "3    7/28/2020 12:16:30       Abhijoy Mukherjee   7003206060   \n",
       "4    7/10/2020 13:56:14     Abhipreeti Acharjee   8274839744   \n",
       "..                  ...                     ...          ...   \n",
       "963  1/22/2021 22:06:24       Ramanish Banerjee   8017179702   \n",
       "964  1/22/2021 22:46:21          Jinia Banerjee   6289719175   \n",
       "965  1/23/2021 10:57:08        Md Safiqul Islam   8250955315   \n",
       "966  1/23/2021 12:27:32     Soumojit Chatterjee   8101726672   \n",
       "967  1/23/2021 17:37:35  Debanjan Bhattacharjee   6290909245   \n",
       "\n",
       "                                   Email  \\\n",
       "0                 raquibul.nsu@gmail.com   \n",
       "1              sharif3abdullah@gmail.com   \n",
       "2                   abmrifat54@gmail.com   \n",
       "3           abhijoymukherjee01@gmail.com   \n",
       "4               deepamandal007@gmail.com   \n",
       "..                                   ...   \n",
       "963           banerjeeramanish@gmail.com   \n",
       "964          jiniabanerjee9727@gmail.com   \n",
       "965           safiqulislam6006@gmail.com   \n",
       "966                 imsoumojit@yahoo.com   \n",
       "967  debanjanbhattacharjee2002@gmail.com   \n",
       "\n",
       "                                               College        Department  \\\n",
       "0                     United International University             others   \n",
       "1                                                  IIT       Engineering   \n",
       "2       Shahjalal University of Science and Technology       Engineering   \n",
       "3                                      Asutosh College        Statistics   \n",
       "4    DEPARTMENT OF PURE MATHEMATICS, UNIVERSITY OF ...  PURE MATHEMATICS   \n",
       "..                                                 ...               ...   \n",
       "963                               MAULANA AZAD COLLEGE  Honors (BSC/MSC)   \n",
       "964                               Maulona Azad College  Honors (BSC/MSC)   \n",
       "965                               Maulana Azad College  Honors (BSC/MSC)   \n",
       "966                               Maulana Azad College  Honors (BSC/MSC)   \n",
       "967                               Maulana Azad College  Honors (BSC/MSC)   \n",
       "\n",
       "    HasLaptop     Source     Country  \n",
       "0         Yes  Facebook   Bangladesh  \n",
       "1         NaN        NaN  Bangladesh  \n",
       "2         Yes        NaN  Bangladesh  \n",
       "3         Yes     Friend       India  \n",
       "4         Yes        NaN       India  \n",
       "..        ...        ...         ...  \n",
       "963       Yes        NaN         NaN  \n",
       "964        No        NaN         NaN  \n",
       "965       Yes        NaN         NaN  \n",
       "966       Yes        NaN         NaN  \n",
       "967       Yes        NaN         NaN  \n",
       "\n",
       "[968 rows x 9 columns]"
      ]
     },
     "execution_count": 4,
     "metadata": {},
     "output_type": "execute_result"
    }
   ],
   "source": [
    "#reset the index\n",
    "df.reset_index(drop=True)"
   ]
  },
  {
   "cell_type": "code",
   "execution_count": 5,
   "metadata": {},
   "outputs": [
    {
     "data": {
      "text/plain": [
       "Timestamp      20\n",
       "Name           21\n",
       "Contact        59\n",
       "Email          22\n",
       "College        28\n",
       "Department     35\n",
       "HasLaptop      28\n",
       "Source        536\n",
       "Country       492\n",
       "dtype: int64"
      ]
     },
     "execution_count": 5,
     "metadata": {},
     "output_type": "execute_result"
    }
   ],
   "source": [
    "#total null values sum\n",
    "df.isna().sum()"
   ]
  },
  {
   "cell_type": "code",
   "execution_count": 6,
   "metadata": {},
   "outputs": [
    {
     "data": {
      "text/plain": [
       "Index(['Timestamp', 'Name', 'Contact', 'Email', 'College', 'Department',\n",
       "       'HasLaptop', 'Source', 'Country'],\n",
       "      dtype='object')"
      ]
     },
     "execution_count": 6,
     "metadata": {},
     "output_type": "execute_result"
    }
   ],
   "source": [
    "#total columns\n",
    "df.columns"
   ]
  },
  {
   "cell_type": "code",
   "execution_count": 7,
   "metadata": {},
   "outputs": [
    {
     "data": {
      "text/plain": [
       "(968, 9)"
      ]
     },
     "execution_count": 7,
     "metadata": {},
     "output_type": "execute_result"
    }
   ],
   "source": [
    "df.shape"
   ]
  },
  {
   "cell_type": "markdown",
   "metadata": {},
   "source": [
    "# Drop all the rows where all of the columns values are NaN"
   ]
  },
  {
   "cell_type": "code",
   "execution_count": 8,
   "metadata": {},
   "outputs": [],
   "source": [
    "# using dropna() function    \n",
    "df1 = df.dropna(how = 'all')"
   ]
  },
  {
   "cell_type": "code",
   "execution_count": 9,
   "metadata": {},
   "outputs": [
    {
     "data": {
      "text/plain": [
       "(948, 9)"
      ]
     },
     "execution_count": 9,
     "metadata": {},
     "output_type": "execute_result"
    }
   ],
   "source": [
    "df1.shape"
   ]
  },
  {
   "cell_type": "code",
   "execution_count": 10,
   "metadata": {},
   "outputs": [],
   "source": [
    "df2 = df1.reset_index(drop=True)"
   ]
  },
  {
   "cell_type": "code",
   "execution_count": 11,
   "metadata": {},
   "outputs": [
    {
     "data": {
      "text/html": [
       "<div>\n",
       "<style scoped>\n",
       "    .dataframe tbody tr th:only-of-type {\n",
       "        vertical-align: middle;\n",
       "    }\n",
       "\n",
       "    .dataframe tbody tr th {\n",
       "        vertical-align: top;\n",
       "    }\n",
       "\n",
       "    .dataframe thead th {\n",
       "        text-align: right;\n",
       "    }\n",
       "</style>\n",
       "<table border=\"1\" class=\"dataframe\">\n",
       "  <thead>\n",
       "    <tr style=\"text-align: right;\">\n",
       "      <th></th>\n",
       "      <th>Timestamp</th>\n",
       "      <th>Name</th>\n",
       "      <th>Contact</th>\n",
       "      <th>Email</th>\n",
       "      <th>College</th>\n",
       "      <th>Department</th>\n",
       "      <th>HasLaptop</th>\n",
       "      <th>Source</th>\n",
       "      <th>Country</th>\n",
       "    </tr>\n",
       "  </thead>\n",
       "  <tbody>\n",
       "    <tr>\n",
       "      <th>850</th>\n",
       "      <td>Maulana Azad boot camp form 23th of jan onwars</td>\n",
       "      <td>NaN</td>\n",
       "      <td>NaN</td>\n",
       "      <td>NaN</td>\n",
       "      <td>NaN</td>\n",
       "      <td>NaN</td>\n",
       "      <td>NaN</td>\n",
       "      <td>NaN</td>\n",
       "      <td>NaN</td>\n",
       "    </tr>\n",
       "  </tbody>\n",
       "</table>\n",
       "</div>"
      ],
      "text/plain": [
       "                                           Timestamp Name Contact Email  \\\n",
       "850  Maulana Azad boot camp form 23th of jan onwars   NaN     NaN   NaN   \n",
       "\n",
       "    College Department HasLaptop Source Country  \n",
       "850     NaN        NaN       NaN    NaN     NaN  "
      ]
     },
     "execution_count": 11,
     "metadata": {},
     "output_type": "execute_result"
    }
   ],
   "source": [
    "df2[df2['Name'].isnull()]"
   ]
  },
  {
   "cell_type": "markdown",
   "metadata": {},
   "source": [
    "this rows will not be usefull for use as here all of them are NaN values except Timestamp.\n",
    "Another thing timestamp value also are not well formatted"
   ]
  },
  {
   "cell_type": "markdown",
   "metadata": {},
   "source": [
    "removing this specifc rows"
   ]
  },
  {
   "cell_type": "code",
   "execution_count": 12,
   "metadata": {},
   "outputs": [],
   "source": [
    "#removing this specifc rows\n",
    "df3 = df2.dropna(subset=['Name'])"
   ]
  },
  {
   "cell_type": "markdown",
   "metadata": {},
   "source": [
    "now it is not available in the dataframe | empty dataframe"
   ]
  },
  {
   "cell_type": "code",
   "execution_count": 13,
   "metadata": {},
   "outputs": [
    {
     "data": {
      "text/html": [
       "<div>\n",
       "<style scoped>\n",
       "    .dataframe tbody tr th:only-of-type {\n",
       "        vertical-align: middle;\n",
       "    }\n",
       "\n",
       "    .dataframe tbody tr th {\n",
       "        vertical-align: top;\n",
       "    }\n",
       "\n",
       "    .dataframe thead th {\n",
       "        text-align: right;\n",
       "    }\n",
       "</style>\n",
       "<table border=\"1\" class=\"dataframe\">\n",
       "  <thead>\n",
       "    <tr style=\"text-align: right;\">\n",
       "      <th></th>\n",
       "      <th>Timestamp</th>\n",
       "      <th>Name</th>\n",
       "      <th>Contact</th>\n",
       "      <th>Email</th>\n",
       "      <th>College</th>\n",
       "      <th>Department</th>\n",
       "      <th>HasLaptop</th>\n",
       "      <th>Source</th>\n",
       "      <th>Country</th>\n",
       "    </tr>\n",
       "  </thead>\n",
       "  <tbody>\n",
       "  </tbody>\n",
       "</table>\n",
       "</div>"
      ],
      "text/plain": [
       "Empty DataFrame\n",
       "Columns: [Timestamp, Name, Contact, Email, College, Department, HasLaptop, Source, Country]\n",
       "Index: []"
      ]
     },
     "execution_count": 13,
     "metadata": {},
     "output_type": "execute_result"
    }
   ],
   "source": [
    "df3[df3['Name'].isnull()]"
   ]
  },
  {
   "cell_type": "code",
   "execution_count": 14,
   "metadata": {},
   "outputs": [],
   "source": [
    "# df3[df3['Contact'].isnull()]"
   ]
  },
  {
   "cell_type": "code",
   "execution_count": 15,
   "metadata": {},
   "outputs": [],
   "source": [
    "# df3[df3['Email'].isnull()]"
   ]
  },
  {
   "cell_type": "code",
   "execution_count": 16,
   "metadata": {},
   "outputs": [],
   "source": [
    "# df3[df3['College'].isnull()]"
   ]
  },
  {
   "cell_type": "code",
   "execution_count": 17,
   "metadata": {},
   "outputs": [],
   "source": [
    "# df3[df3['Department'].isnull()]"
   ]
  },
  {
   "cell_type": "code",
   "execution_count": 18,
   "metadata": {},
   "outputs": [],
   "source": [
    "# df3[df3['HasLaptop'].isnull()]"
   ]
  },
  {
   "cell_type": "code",
   "execution_count": 19,
   "metadata": {},
   "outputs": [],
   "source": [
    "# df3[df3['Source'].isnull()]"
   ]
  },
  {
   "cell_type": "code",
   "execution_count": 20,
   "metadata": {},
   "outputs": [],
   "source": [
    "# df3[df3['Country'].isnull()]"
   ]
  },
  {
   "cell_type": "code",
   "execution_count": 21,
   "metadata": {},
   "outputs": [
    {
     "data": {
      "text/plain": [
       "(947, 9)"
      ]
     },
     "execution_count": 21,
     "metadata": {},
     "output_type": "execute_result"
    }
   ],
   "source": [
    "df3.shape"
   ]
  },
  {
   "cell_type": "code",
   "execution_count": 22,
   "metadata": {},
   "outputs": [],
   "source": [
    "def lower_string(mystring):\n",
    "    '''\n",
    "    mystring is the total text of a columns where multiple white space are beeing removed and lower the all charecters\n",
    "    '''\n",
    "    while '  ' in mystring:\n",
    "        mystring = mystring.replace('  ', ' ')\n",
    "    mystring = mystring.lower()\n",
    "    mystring = mystring.strip()\n",
    "    print(mystring)\n",
    "    return mystring"
   ]
  },
  {
   "cell_type": "markdown",
   "metadata": {},
   "source": [
    "# We are taking the University data and Department data from which University students attends the most"
   ]
  },
  {
   "cell_type": "code",
   "execution_count": 23,
   "metadata": {},
   "outputs": [],
   "source": [
    "#drop na values from college and department rows\n",
    "df4 = df3.dropna(subset=['College'])\n",
    "df4 = df3.dropna(subset=['Department'])"
   ]
  },
  {
   "cell_type": "code",
   "execution_count": 24,
   "metadata": {},
   "outputs": [
    {
     "name": "stderr",
     "output_type": "stream",
     "text": [
      "C:\\ProgramData\\Anaconda3\\lib\\site-packages\\pandas\\core\\generic.py:5303: SettingWithCopyWarning: \n",
      "A value is trying to be set on a copy of a slice from a DataFrame.\n",
      "Try using .loc[row_indexer,col_indexer] = value instead\n",
      "\n",
      "See the caveats in the documentation: https://pandas.pydata.org/pandas-docs/stable/user_guide/indexing.html#returning-a-view-versus-a-copy\n",
      "  self[name] = value\n"
     ]
    }
   ],
   "source": [
    "#converting the college and department values into string\n",
    "df4.College = df3.College.astype(str)\n",
    "df4.Department = df3.Department.astype(str)"
   ]
  },
  {
   "cell_type": "code",
   "execution_count": 25,
   "metadata": {},
   "outputs": [
    {
     "name": "stdout",
     "output_type": "stream",
     "text": [
      "united international university\n",
      "iit\n",
      "shahjalal university of science and technology\n",
      "asutosh college\n",
      "department of pure mathematics, university of calcutta\n",
      "vivekananda college\n",
      "future institute of engineering and management\n",
      "j.k college\n",
      "narasinha dutt college\n",
      "j.k.clg purulia\n",
      "narasinha dutt college\n",
      "global nature care sangathan group of institutions\n",
      "aiub\n",
      "aiub\n",
      "maulana azad college\n",
      "purulia zilla school\n",
      "cummins college of engineering for women\n",
      "daffodil international university\n",
      "st.xaviers college\n",
      "aiub\n",
      "asutosh college\n",
      "diatm\n",
      "purulia jk college\n",
      "narasinha dutt college under calcutta university\n",
      "sister nibedita govt general degree college for girls\n",
      "nd college\n",
      "ramakrishna mission shilpapitha\n",
      "aiub\n",
      "aiub\n",
      "viswass school & college of nursing\n",
      "narasinha dutt college afflicted by calcutta university\n",
      "maulana azad college\n",
      "durgapur institute of advanced technology and management\n",
      "durgapur institute of advanced technology and management\n",
      "insitiution of engineering and managment\n",
      "st. xavier's college\n",
      "maulana azad college\n",
      "asutosh college\n",
      "sister nibedita govt. general degree college for girls\n",
      "manipal hospital\n",
      "durgapur institute of advance technology and management\n",
      "west bengal state university\n",
      "st. xavier's college , kolkata\n",
      "st. xavier's college, kolkata\n",
      "sks power generation chhattisgarh ltd.\n",
      "lady brabourne college, university of calcutta\n",
      "st. xavier's college\n",
      "asutosh college\n",
      "university of calcutta\n",
      "st. xavier's college\n",
      "university college of science & technology, university of calcutta\n",
      "vivekananda college, calcutta university\n",
      "jagannath kishore college,purulia\n",
      "hooghly engineering and technology college\n",
      "vivekananda college\n",
      "j.k.college\n",
      "islamic university, kushtia\n",
      "narasinha dutt college\n",
      "west bengal university of health sciences\n",
      "lady brabourne college\n",
      "institute of engineering and management (iem)\n",
      "kalyani mahavidyalaya\n",
      "acharya institute of management and sciences\n",
      "techno international newtown\n",
      "kalyani mahavidyalaya\n",
      "bethune college\n",
      "isrt , university of dhaka\n",
      "vivekananda college , cu\n",
      "nsu\n",
      "st xavier's college\n",
      "st xavier's college, kolkata\n",
      "narasinha dutta college\n",
      "maulana azad college\n",
      "narasinha dutt college\n",
      "narasinha dutt college\n",
      "american international university bangladesh\n",
      "jagannath kishore college\n",
      "narasinha dutt college, university of calcutta\n",
      "narasingha dutt college\n",
      "narasinha dutt college\n",
      "durgapur institute of advanced technology and management\n",
      "nan\n",
      "comilla university\n",
      "durgapur institute of advanced technology and management\n",
      "maulana azad college\n",
      "asutosh college\n",
      "techno india saltlake\n",
      "lady brabourne college\n",
      "st. xavier's college (autonomous) , kolkata\n",
      "narasinha dutt college\n",
      "academy of technology\n",
      "thakurpukur vivekananda college\n",
      "j.k college\n",
      "calcutta university ( ballygaunge science college)\n",
      "rkmveri belur math\n",
      "jj glastronics\n",
      "diatm\n",
      "bethune college\n",
      "gauhati university\n",
      "maulana azad college\n",
      "nan\n",
      "narasinha dutt college\n",
      "jadavpur university\n",
      "basanti devi college\n",
      "jadavpur university\n",
      "the international university of scholars\n",
      "aiub\n",
      "london south bank university\n",
      "north south university\n",
      "bangladesh institute of governance and management (bigm)\n",
      "guru nanak institute of pharmaceutical science and technology\n",
      "bethune college\n",
      "national power training institute durgapur\n",
      "maulana azad college\n",
      "jk college\n",
      "kerala university\n",
      "north south university\n",
      "npti (er)\n",
      "vivekananda college\n",
      "institute of engineering and management\n",
      "lady brabourne college\n",
      "bethune college, kolkata\n",
      "professional\n",
      "university of dhaka\n",
      "bharat university, chennai\n",
      "jadavpur university\n",
      "comilla university\n",
      "north-south university\n",
      "north-south university\n",
      "future institute of engineering and management\n",
      "presidency university\n",
      "american international university-bangladesh\n",
      "vidyasagar college for women\n",
      "jadavpur university\n",
      "presidency university\n",
      "jadavpur university\n",
      "maulana azad college\n",
      "gl bajaj\n",
      "american international university-bangladesh\n",
      "national power training institute nagpur\n",
      "north south university\n",
      "kalyani mahavidyalay\n",
      "university of calcutta\n",
      "bethune\n",
      "bethune college\n",
      "future institute of technology\n",
      "dr. b. c. roy engineering college\n",
      "durgapur institute of advance technology and managment\n",
      "government college of engineering and leather technology\n",
      "government college of engineering and leather technology\n",
      "asutosh college\n",
      "n.p.t.i(e.r.)\n",
      "st. xavier's college, kolkata\n",
      "indira gandhi national university\n",
      "vidyasaagar university\n",
      "mugberia gangadhar mahavidyalaya\n",
      "kalyani mahavidyalaya\n",
      "vivekananda college\n",
      "dr.b.c.roy engineering college\n",
      "aiub\n",
      "uttarpara amarendra vidyapith\n",
      "durgapur institute of advanced technology and management\n",
      "techno international new town\n",
      "durgapur institute of advanced and technology management\n",
      "npti, nagpur\n",
      "asutosh college\n",
      "jagannath kishore college, purulia\n",
      "basantidevi college\n",
      "iit,university of dhaka\n",
      "asutosh college\n",
      "nsu\n",
      "nan\n",
      "makaut(formely wbut)\n",
      "american international university- bangladesh\n",
      "american international university bangladesh\n",
      "diatm\n",
      "shahjalal university of science & technology\n",
      "bangabandhu sheikh mujibur rahman science & technology\n",
      "bangabandhu sheikh mujibur rahman science & technology university\n",
      "jahangirnagar university\n",
      "jahangirnagar university\n",
      "buet\n",
      "sbpgc\n",
      "aiub\n",
      "american international university bangladesh\n",
      "north south university\n",
      "north south university (nsu)\n",
      "american international university-bangladesh\n",
      "american international university-bangladesh\n",
      "aiub\n",
      "american international university of bangladesh\n",
      "north south university\n",
      "public administration\n",
      "american international university - bangladesh\n",
      "north south university\n",
      "university of dhaka\n",
      "lady brabourne college\n",
      "netaji subhas open university\n",
      "maulana abul kalam azad university of technology\n",
      "vidyasagar university\n",
      "national institute of technology warangal\n",
      "narasinha dutta college\n",
      "ramakrishna mission vidyamandira\n",
      "vidyasagar university\n",
      "notre dame universitybangladesh\n",
      "nan\n",
      "american international university - bangladesh\n",
      "maulana abul kalam azad university of technology\n",
      "jadavpur university\n",
      "bethune college\n",
      "indian institute of engineering science and technology shibpur\n",
      "ahsanullah university of science and technology\n",
      "chittaranjan college, kolkata\n",
      "aiub\n",
      "aiub\n",
      "bangalore university\n",
      "maulana abul kalam azad university of technology\n",
      "institution / organization / college name\n",
      "bethune college\n",
      "university of liberal arts\n",
      "university of liberal arts bangladesh\n",
      "asutosh college\n",
      "university of dhaka\n",
      "dyal singh college (day)\n",
      "durgapur institute of advanced technology and management\n",
      "durgapur institute of advanced technology and management\n",
      "diatm durgapur\n",
      "vivekananda college\n",
      "st. xavier's college, kolkata\n",
      "nan\n",
      "maulana abul kalam azad university of technology, w.b\n",
      "christ university\n",
      "presidency university\n",
      "durgapur institute of advanced technology\n",
      "american international university of bangladesh (aiub)\n",
      "university of dhaka\n",
      "maulana abul kalam azad university of technology\n",
      "techno international newtown\n",
      "rcc institute of information technology\n",
      "belda college\n",
      "futuretech private iti\n",
      "bethune college\n",
      "j.k. college\n",
      "american international university bangladesh\n",
      "jadavpur university\n",
      "brabu\n",
      "maulana abul kalam azad university of technology\n",
      "burdwan university\n",
      "durgapur institute of advance technology and managment\n",
      "global engineering college\n",
      "prabhat kumar college\n",
      "calcutta university\n",
      "st.xavier's college,kolkata\n",
      "shibpur dinobondhoo institution (college)\n",
      "durgapur institute of advanced technology and management\n",
      "durgapur institute of advanced technology and managemant rajbandh\n",
      "jadavpur university\n",
      "north south university (nsu)\n",
      "maulana abul kalam azad university of technology\n",
      "vivekananda college thakurpukur\n",
      "jadavpur university\n",
      "st. xavier's college kolkata\n",
      "narasinha dutt college\n",
      "university of dhaka\n",
      "lady brabourne college\n",
      "aiub\n",
      "vivekananda college\n",
      "durgapur institute of advanced technology and management\n",
      "asutosh college\n",
      "university of mumbai\n",
      "lady brabourne college\n",
      "durgapur institute of advancedpur technology and management\n",
      "asutosh college\n",
      "academy of technology\n",
      "st. xavier's college (autonomous), kolkata.\n",
      "omdayal group of institutions\n",
      "st. xavier's college\n",
      "st.xavier's college kolkata\n",
      "vivekananda college\n",
      "amta ramsaday college\n",
      "diatm, durgapur\n",
      "jadavpur university\n",
      "basanti devi college\n",
      "bethune college\n",
      "ahsanullah university of science and technology\n",
      "maulana abul kalam azad university of technology\n",
      "asansol engineering college\n",
      "maulana azad college\n",
      "maulana abul kalam azad university of technology\n",
      "kalyani mahavidyalaya\n",
      "presidency university\n",
      "vivekananda college,thakurpukur\n",
      "durgapur institute of advanced technology & management\n",
      "lady brabourne college\n",
      "future institute of technology\n",
      "university of calcutta\n",
      "victoria institution\n",
      "lady brabourne college\n",
      "university of dhaka\n",
      "corporate institute of pharmacy\n",
      "narasinha dutt college\n",
      "amity university kolkata\n",
      "national power training institute (e.r) durgapur\n",
      "st xavier's college kolkata\n",
      "st. xavier's college\n",
      "at. xavier's college\n",
      "st. xavier's college\n",
      "ramakrishna mission vidyamandira\n",
      "bethune colege\n",
      "hffc\n",
      "jadavpur university\n",
      "durgapur institute of advanced technology and management\n",
      "asutosh college\n",
      "corporate institute of pharmacy\n",
      "vidyasagar university\n",
      "maulana azad college, kolkata\n",
      "lalbaba college\n",
      "aliah university\n",
      "nist\n",
      "diatm\n",
      "lady brabourne college\n",
      "green university of bangladesh\n",
      "asutosh college\n",
      "asutosh college\n",
      "asutosh college\n",
      "1998\n",
      "academy of technology\n",
      "maulana azad college, kolkata\n",
      "raja peary mohan college\n",
      "purulia jk college\n",
      "lady brabourne college\n",
      "kalyani mahavidyalaya\n",
      "national institute of science and technology,berhampur\n",
      "st. xavier's college\n",
      "american international university - bangladesh\n",
      "american international university - bangladesh\n",
      "nan\n",
      "international university of scholarsh\n",
      "brac university\n",
      "lady brabourne college\n",
      "central university of jharkhand\n",
      "vidyasagar university, medinipur\n",
      "asutosh college\n",
      "uits\n",
      "independent university, bangladesh\n",
      "the new horizons institute of technology\n",
      "vidyasagar university\n",
      "vivekananda college\n",
      "jogomaya devi college\n",
      "raja peary mohan college\n",
      "maulana azad college\n",
      "sister nibedita govt. general degree college for girls\n",
      "rgpv\n",
      "surendranath college\n",
      "future institute of technology\n",
      "future institute of technology\n",
      "asutosh college, kolkata\n",
      "lady brabourne college\n",
      "raja peary mohan college, uttarpara\n",
      "national institute of science and technology,berhampur\n",
      "st. xavier's college, kolkata\n",
      "durgapur institute of advanced technology and management\n",
      "future institute of technology\n",
      "brac university\n",
      "north south university\n",
      "seacom engineering college\n",
      "kalyani mahavidyalaya\n",
      "zoom international\n",
      "vivekananda college\n",
      "asutosh college\n",
      "future institute of technology\n",
      "narula institute of technology\n",
      "bethune college\n",
      "future institute of technology\n",
      "presidency university\n",
      "jadavpur university\n",
      "st. xavier's college , kolkata\n",
      "st. xavier's college, kolkata\n",
      "aot\n",
      "asutosh college\n",
      "bethune college\n",
      "national power training institute\n",
      "rkmveri (belur campus)\n",
      "kalyani mahavidyalaya\n",
      "vivekananda college\n",
      "kalyani mahavidyalaya\n",
      "future institute of technology\n",
      "academy of technology\n",
      "jadavpur university\n",
      "durgapur instute of advance technology and management\n",
      "dr.b.c.roy engineering college\n",
      "future institute of technology\n",
      "st. xavier's college, kolkata\n",
      "asutosh college\n",
      "st xavier's college\n",
      "st xavier's college\n",
      "lady brabourne college\n",
      "ramakrishna mission vivekananda educational and research institute\n",
      "st. xavier's college (autonomous),kolkata\n",
      "ashutosh college\n",
      "vivekananda college,thakurpukur\n",
      "college of engineering roorkee\n",
      "jadavpur university\n",
      "maulana azad college\n",
      "maulana azad college\n",
      "bethune college, kolkata\n",
      "jadavpur university\n",
      "jadavpur university\n",
      "national power training institute ( e.r )\n",
      "lady brabourne college\n",
      "future institute of technology\n",
      "future institute of technology\n",
      "narula institute of technology\n",
      "rkmveri, belur math\n",
      "vidyasagar university\n",
      "techno india salt lake\n",
      "islamic university of technology (iut)\n",
      "bangladesh agricultural research institute\n",
      "ramakrishna mission vivekananda educational and research institute\n",
      "brac university\n",
      "diatm\n",
      "bidhannagar college\n",
      "lady brabourne college\n",
      "bethune college\n",
      "bidhannagar college\n",
      "kalyani mahavidyalaya\n",
      "st. xavier's college\n",
      "sir gurudas mahavidyalaya\n",
      "durgapur institute of advanced technology and manegement\n",
      "american international university of bangladesh\n",
      "jadavpur university\n",
      "jadavpuruniversity\n",
      "vivekananda college\n",
      "narula institute of technology\n",
      "st. xavier's college\n",
      "vidyasagar college\n",
      "national power training institute\n",
      "national institute of science and technology\n",
      "visvabharati university\n",
      "north south university\n",
      "north south university\n",
      "american international university-bangladesh\n",
      "international university of scholars\n",
      "vivekananda college\n",
      "asutosh college\n",
      "new alipore college\n",
      "american international university-bangladesh\n",
      "university of chittagong\n",
      "bethune college\n",
      "asutosh college\n",
      "st.xaviers college\n",
      "bidhannagar college\n",
      "shibpur dinobundhoo institution\n",
      "jadavpur university\n",
      "future institute of technology\n",
      "vidyasagar university\n",
      "bethune college\n",
      "maulana azad college\n",
      "durgapur institute of advanced technology and management\n",
      "lady brabourne college\n",
      "lady brabourne college\n",
      "diatm durgapur\n",
      "iub\n",
      "uttara university\n",
      "b. p. poddar institute of management and technology\n",
      "b. p. poddar institute of management and technology\n",
      "b. p. poddar institute of technology and management\n",
      "b.p. poddar institute of management and technology\n",
      "b.p.poddar institution of management & technology\n",
      "b.p.poddar institute of management and technology\n",
      "b p poddar institute of management and technology\n",
      "b.p. poddar institute of management and technology\n",
      "b.p. poddar institute of management and technology\n",
      "b. p. poddar institute of management and technology\n",
      "b.p.poddar institute of management and technology\n",
      "b.p.podder institute of management and technology\n",
      "b. p. poddar institute of management & technology\n",
      "b.p.poddar institute of management and technology\n",
      "home\n",
      "bppimt\n",
      "b.p.poddar institute of management and technology\n",
      "dr. b.c.roy engineering college\n",
      "b.p poddar institute of management and technology\n",
      "bppimt\n",
      "b.p. poddar institute of management and technology\n",
      "b p poddar institute of management & technology\n",
      "b.p poddar institute of management and technology\n",
      "b.p poddar institute of management and technology\n",
      "b.p poddar institute of management & technology\n",
      "b.p. poddar institute of management and technology\n",
      "b.p.poddar institute of management and technology\n",
      "b.p. poddar institute of management and technology\n",
      "bp poddar institute of management and technology\n",
      "b.p. poddar institute of management and technology\n",
      "b p poddar institute of management and technology\n",
      "b.p.poddar institute of management and technology\n",
      "b.p. poddar institute of management and technology\n",
      "b.p poddar institute of management and technology\n",
      "b.p.poddar institute of management & technology\n",
      "b.p.podder institute\n",
      "b. p. poddar institute of management and technology\n",
      "bppimt\n",
      "b p poddar institute of management and technology\n",
      "b.p poddar institute of management and technology\n",
      "bethune college\n",
      "b.p. poddar institute of management and technology\n",
      "b.p.poddar institute of management and technology\n",
      "b.p. poddar institute of management and technology\n",
      "bp poddar institute of management and technology\n",
      "b p podder institute of management and technology\n",
      "b p poddar institute of management and technology\n",
      "b.p.p.i.m.t\n",
      "durgapur women's college\n",
      "duragpur women's college\n",
      "aasansol girls' college\n",
      "durgapur women's college\n",
      "durgapur women's college\n",
      "durgapur womens college\n",
      "durgapur women's college\n",
      "durgapur government college\n",
      "durgapur women's collage\n",
      "durgapur women's college kazi nazrul university\n",
      "burdwan university\n",
      "durgapur women's college\n",
      "durgapur women's college\n",
      "durgapur women's college\n",
      "durgapur women's college\n",
      "durgapur women's college\n",
      "durgapur government college\n",
      "durgapur women's college\n",
      "durgapur women's college\n",
      "durgapur women's college\n",
      "college name - durgapur womens college\n",
      "raniganj girls' college\n",
      "durgapur women's college\n",
      "durgapur women's college\n",
      "kaji najrul invercity\n",
      "durgapur women's college\n",
      "durgapur woman's college\n",
      "durgapur women's college\n",
      "burdwan university\n",
      "durgapur women's college\n",
      "durgapur women's college\n",
      "durgapur women's college\n",
      "durgapur women's college\n",
      "akpc mahavidyalaya\n",
      "durgapur women's college\n",
      "durgapur women's college\n",
      "university of burdwan\n",
      "durgapur women's college\n",
      "durgapur government college\n",
      "durgapur women's college\n",
      "durgapur government college\n",
      "durgapur women's college\n",
      "durgapur government college\n",
      "durgapur women college\n",
      "durgapur women's college\n",
      "women's collage\n",
      "durgapur women's college\n",
      "durgapur women's college\n",
      "durgapur women's college\n",
      "durgapur government college\n",
      "durgapur women's college\n",
      "dr bc roy engineering & management college , durgapur\n",
      "regent education and research foundation\n",
      "regent education and research foundation\n",
      "regent education and research foundation\n",
      "regent education&research foundation\n",
      "regent education and research foundation\n",
      "regent education and research foundation\n",
      "regent education & research foundation\n",
      "regent education and research foundation\n",
      "regent education and research foundation\n",
      "regent education & research foundation barrackpore\n",
      "regent education and research foundation\n",
      "regent education and research foundation\n",
      "regent education & research foundation\n",
      "regent education and research foundation\n",
      "regent education & research foundation\n",
      "regent education and research foundation\n",
      "regent education and research foundation\n",
      "rerf\n",
      "regent education and research foundation\n",
      "regent education and research foundation\n",
      "regent education & research foundation\n",
      "regent education and research foundation\n",
      "rerf\n",
      "rerf\n",
      "regent education and research foundation\n",
      "regent education and research foundation\n",
      "regent education and research foundation\n",
      "regent education & research foundation\n",
      "regent education and reseach foundation\n",
      "regent education & research foundation\n",
      "regent education and research foundation\n",
      "regent education and research foundation\n",
      "regent education and research foundation\n",
      "regent education and research foundation\n",
      "regent education & research foundation group of institutions\n",
      "regent education and research foundation\n",
      "regent education and research foundation\n",
      "rerf\n",
      "regent education and research foundation\n",
      "regent education and research foundation\n",
      "regent education and research foundation\n",
      "regent education and research foundation group of institutions\n",
      "regent education & research foundation group of institutions\n",
      "regent education & research foundation\n",
      "regent education and research foundation\n",
      "regent education and research foundation\n",
      "regent education & research foundation\n",
      "regent education research and foundation\n",
      "regent education and research foundation institution\n",
      "regent education and research foundation\n",
      "regent education and research foundation\n",
      "regent education and research foundation\n",
      "regent education and research foundation(group of institution)\n",
      "regent education and research foundation\n",
      "regent education and research foundation group of institutions\n",
      "regent education &research foundation\n",
      "rerf\n",
      "regent education and research foundation\n",
      "regent education and research foundation\n",
      "regent education and research foundation\n",
      "regent education and research foundation\n",
      "regent education and research foundation\n",
      "regent education & research foundation\n",
      "regent education and research foundation\n",
      "regent education and research foundation\n",
      "regent education & research foundation\n",
      "regent education &research foundation group of institutions\n",
      "regent education and research foundation\n",
      "regent education and research foundarion group of institute\n",
      "rerf\n",
      "regent education and research foundation\n",
      "rerf\n",
      "regent education & research foundation\n",
      "regent education & research foundation\n",
      "regent education and research foundation\n",
      "regent education and research foundation\n",
      "regent education and research foundation\n",
      "regent education and research foundation group of institutions\n",
      "regent education and research foundation\n",
      "regent education and research foundation\n",
      "regent education and research foundation\n",
      "regent education and research foundation\n",
      "regent education & research foundation\n",
      "regent education and research foundation\n",
      "regent education and research foundation\n",
      "regent education and research foundation\n",
      "regent education and research foundation\n",
      "regent education and research foundation group of institution\n",
      "regent education and research foundation\n",
      "regent education &research foundation group of institutions\n",
      "regent education and research foundation\n",
      "regent education and research foundation\n",
      "regent education and research foundation\n",
      "regent education and research foundation\n",
      "regent education and research foundation\n",
      "regent education and research foundation\n",
      "regent education and research foundation\n",
      "regent education and research foundation\n",
      "regent education&research foundation\n",
      "regent education and research foundation\n",
      "regent education and research foundation\n",
      "rrerf\n",
      "regent education and research foundation\n",
      "regent education and research foundation\n",
      "rerf\n",
      "regent education and research foundation\n",
      "regent education and research foundation\n",
      "regent education and research foundation\n",
      "regent education and research foundation\n",
      "regent education and research foundation\n",
      "presidency university\n",
      "presidency university\n",
      "presidency university\n",
      "presidency university\n",
      "presidency university\n",
      "presidency university\n",
      "presidency university\n",
      "presidency university, kolkata\n",
      "presidency university\n",
      "presidency university\n",
      "presidency university\n",
      "presidency university\n",
      "presidency university\n",
      "presidency university\n",
      "presidency university\n",
      "presidency university\n",
      "presidency university\n",
      "presidency university, kolkata\n",
      "presidency university\n",
      "presidency university\n",
      "presidency university\n",
      "presidency university\n",
      "presidency university\n",
      "presidency university\n",
      "presidency university\n",
      "presidency university\n",
      "presidency university, kolkata\n",
      "presidency university\n",
      "lady brabourne college\n",
      "lady brabourne college\n",
      "lady braborne college\n",
      "hyderabad central university\n",
      "lady brabourne college\n",
      "lady brabourne college\n",
      "lady brabourne college\n",
      "lady brabourne college\n",
      "lady brabourne college\n",
      "indian institute of foreign trade,kolkata\n",
      "lady brabourne college\n",
      "lady brabourne college\n",
      "lady brabourne college, kolkata\n",
      "lady brabourne college\n",
      "university of calcutta\n",
      "lady brabourne college\n",
      "lady brabourne college\n",
      "lady brabourne college\n",
      "lady brabourne college\n",
      "calcutta university\n",
      "lady brabourne college\n",
      "lady brabourne college, calcutta university\n",
      "lady braboune college\n",
      "lady brabourne college\n",
      "lady brabourne college\n",
      "lady brabourne college\n",
      "lady brabourne college\n",
      "lady brabourne college\n",
      "lady brabourne college\n",
      "lady brabourne college\n",
      "lady brabourne college\n",
      "lady brabourne college\n",
      "lady brabourne college\n",
      "lady brabourne college\n",
      "lady brabourne college\n",
      "lady brabourne college\n",
      "lady brabourne college, c.u.\n",
      "lady brabourne college\n",
      "lady brabourne college\n",
      "lady brabourne college, kolkata\n",
      "lady brabourne college\n",
      "lady brabourne college\n",
      "lady brabourne college\n",
      "lady brabourne college\n",
      "lady brabourne college\n",
      "lady brabourne college\n",
      "lady brabourne college\n",
      "lady brabourne college\n",
      "lady brabourne college\n",
      "lady brabourne college\n",
      "lady brabourne college\n",
      "lady brabourne college\n",
      "lady brabourne college\n",
      "lady brabourne college\n",
      "lady brabourne college\n",
      "lady brabourne college\n",
      "lady brabourne college\n",
      "lady brabourne college\n",
      "st.xavier's college (autonomous), kolkata\n",
      "lady brabourne college\n",
      "lady brabourne college\n",
      "lady brabourne college\n",
      "lady brabourne college\n",
      "lady brabourne college\n",
      "lady brabourne college\n",
      "lady brabourne college\n",
      "lady brabourne college\n",
      "lady brabourne college\n",
      "st. xavier's university\n",
      "lady brabourne college\n",
      "lady brabourne college\n",
      "lady brabourne college\n",
      "lady brabourne college\n",
      "lady brabourne college\n",
      "lady brabourne college\n",
      "lady brabourne college\n",
      "lady brabourne college\n",
      "lady brabourne college\n",
      "lady brabourne college\n",
      "indira gandhi institute of development research\n",
      "lady brabourne college\n",
      "lady brabourne college\n",
      "igidr\n",
      "lady brabourne college\n",
      "lady brabourne college\n",
      "lady brabourne college\n",
      "lady brabourne college\n",
      "lady brabourne college\n",
      "lady brabourne college\n",
      "lady brabourne college\n",
      "gokhale institute of politics and economics\n",
      "lady brabourne college\n",
      "lady brabourne college\n",
      "gokhale institute of politics and economics\n",
      "lady brabourne\n",
      "lady brabourne college\n",
      "lady brabourne college\n",
      "lady brabourne college\n",
      "lady brabourne college, kolkata\n",
      "lady brabourne college\n",
      "presidency university\n",
      "lady brabourne college\n",
      "lady brabourne college\n",
      "lady brabourne college\n",
      "lady brabourne college\n",
      "maulana azad college\n",
      "lady brabourne college\n",
      "asutosh college\n",
      "lady brabourne college\n",
      "lady brabourne college\n",
      "lady brabourne college\n",
      "lady brabourne college\n",
      "ladybrabourne college\n",
      "lady brabourne college\n",
      "lady brabourne college\n",
      "lady brabourne college\n",
      "lady brabourne college\n",
      "lady brabourne college, kolkata\n",
      "lady brabourne college\n",
      "lady brabourne college\n",
      "lady brabourne college\n",
      "lady brabourne college\n",
      "lady brabourne college\n",
      "lady brabourne college\n",
      "lady brabourne college\n",
      "lady brabourne college\n",
      "lady brabourne college\n",
      "lady brabourne college\n",
      "lady brabourne college\n",
      "lady brabourne college\n",
      "lady brabourne college, university of calcutta\n",
      "lady braboune collage\n",
      "lady brabourne college\n",
      "lady brabourne college\n",
      "maulana azad college\n",
      "maulana azad college\n",
      "maulana azad college\n",
      "maulana azad college\n",
      "maulana azad college, kolkata\n",
      "maulana azad college\n",
      "maulana azad college\n",
      "maulana azad college\n",
      "maulana azad college\n",
      "maulana azad college\n",
      "moulana azad college\n",
      "maulana azad college\n",
      "maulana azad college\n",
      "maulana azad college\n",
      "maulana azad college\n",
      "maulana azad college\n",
      "maulana azad college\n",
      "maulana azad college\n",
      "moulana azad college\n",
      "maulana azad college\n",
      "maulana azad college\n",
      "maulana azad college\n",
      "maulana azad college\n",
      "maulana azad college\n",
      "maulana azad college\n",
      "maulana azad college\n",
      "maulana azad college\n",
      "maulana azad college\n",
      "maulana azad college\n",
      "maulana azad college\n",
      "maulana azad college\n",
      "maulana azad college\n",
      "maulana azad college\n",
      "maulana azad college\n",
      "maulana azad college\n",
      "maulana azad college\n",
      "maulana azad college\n",
      "maulana azad college\n",
      "maulana azad college\n",
      "maulana azad college\n",
      "maulana azad college\n",
      "maulana azad college\n",
      "maulana azad college\n",
      "maulana azad college\n",
      "maulana azad college\n",
      "maulana azad college\n",
      "maulana azad college\n",
      "maulana azad college\n",
      "maulana azad college\n",
      "maulana azad college\n",
      "maulana azad college\n",
      "maulana azad college\n",
      "maulana azad college kolkata\n",
      "maulana azad college\n",
      "maulana azad college\n",
      "maulana azad college\n",
      "maulana azad college\n",
      "maulana azad college\n",
      "maulana azad college\n",
      "moulana azad collage\n",
      "maulana azad college, university of calcutta\n",
      "maulana azad college\n",
      "maulana azad college\n",
      "maulana azad college\n",
      "maulana azad college\n",
      "maulana azad college\n",
      "maulana azad college\n",
      "maulana azad college\n",
      "maulana azad college\n",
      "maulana azad college\n",
      "maulana azad college, kolkata\n",
      "maulana azad college\n",
      "maulana azad college\n",
      "maulana azad college\n",
      "mac\n",
      "maulana azad college\n",
      "maulana azad college\n",
      "maulana azad college\n",
      "maulana azad collehe\n",
      "maulana azad college\n",
      "maulana azad college\n",
      "maulana azad college\n",
      "maulana azad college\n",
      "maulana azad college\n",
      "maulana azad college\n",
      "maulana azad college\n",
      "maulana azad college\n",
      "maulana azad college\n",
      "maulana azad college\n",
      "maulana azad college\n",
      "seth anandram jaipuria college\n",
      "maulana azad college\n",
      "maulana azad college\n",
      "maulona azad college\n",
      "maulana azad college\n",
      "maulana azad college\n",
      "maulana azad college\n",
      "others\n",
      "engineering\n",
      "engineering\n",
      "statistics\n",
      "pure mathematics\n",
      "b.sc statistics\n",
      "engineering\n",
      "b.com (h)\n",
      "m.sc\n",
      "commerce\n",
      "m.sc. in applied mathematics\n",
      "civil engineering\n",
      "engineering\n",
      "engineering\n",
      "statistics honours\n",
      "atrs\n",
      "engineering\n",
      "honors (bsc/msc)\n",
      "statistics\n",
      "engineering\n",
      "statistics honours\n",
      "cse\n",
      "commerce\n",
      "msc mathematics\n",
      "statistics hons\n",
      "m. sc (applied math)\n",
      "electronics and telecommunication\n",
      "engineering\n",
      "engineering\n",
      "b.sc nursing\n",
      "msc in applied mathematics\n",
      "statistics (h)\n",
      "engineering\n",
      "b.tech\n",
      "b. tech (cse)\n",
      "statistics\n",
      "statistics honours\n",
      "bsc statistics\n",
      "statistics honours\n",
      "electrical engineering\n",
      "btech 4th year on ece department\n",
      "mathematics\n",
      "bsc statistics\n",
      "b. sc. statistics hons.\n",
      "thermal power plant engineering\n",
      "statistics\n",
      "statistics\n",
      "statistics honours student\n",
      "m.sc\n",
      "statistics\n",
      "m.sc in applied mathematics\n",
      "honors (bsc/msc)\n",
      "computer science\n",
      "b.tech in electronics and communication engineering\n",
      "honors (bsc/msc)\n",
      "computer science\n",
      "honors (bsc/msc)\n",
      "m.sc in applied mathematics.\n",
      "dental surgery\n",
      "honors (bsc/msc)\n",
      "engineering\n",
      "statistics\n",
      "bca\n",
      "engineering\n",
      "b.sc statistics\n",
      "statistics\n",
      "honors (bsc/msc)\n",
      "honors (bsc/msc)\n",
      "honors (bsc/msc)\n",
      "honors (bsc/msc)\n",
      "statistics\n",
      "msc in applied mathematics\n",
      "graduation\n",
      "mathematics\n",
      "master of science in applied mathematics\n",
      "honors (bsc/msc)\n",
      "computer science\n",
      "m.sc. in applied mathematics\n",
      "msc mathematics\n",
      "m.sc. mathematics\n",
      "computer science and engineering\n",
      "engineering\n",
      "bba\n",
      "engineering\n",
      "statistics\n",
      "statistics\n",
      "bca\n",
      "3rd year statistics honours\n",
      "b.sc statistics hons.\n",
      "msc mathematics\n",
      "mechanical engineer\n",
      "honors (bsc/msc)\n",
      "b.com honours\n",
      "m.sc in pure mathematics\n",
      "msc in mathematics\n",
      "mechanical engineering\n",
      "b. tech in chemical engineering\n",
      "honors (bsc/msc)\n",
      "library and information science\n",
      "statistics (h)\n",
      "ststistics\n",
      "m. sc\n",
      "post graduate (mathematics)\n",
      "statistics honours\n",
      "mathematics\n",
      "engineering\n",
      "honors (bsc/msc)\n",
      "honors (bsc/msc)\n",
      "honors (bsc/msc)\n",
      "honors (bsc/msc)\n",
      "microbiology\n",
      "honors (bsc/msc)\n",
      "engineering\n",
      "bsc statistics hons\n",
      "computer science\n",
      "others\n",
      "engineering\n",
      "engineering\n",
      "honors (bsc/msc)\n",
      "electrical engineering\n",
      "honors (bsc/msc)\n",
      "honors (bsc/msc)\n",
      "computer science\n",
      "engineering\n",
      "btech\n",
      "mathematics honours (msc)\n",
      "bba\n",
      "engineering\n",
      "engineering\n",
      "electrical engineering\n",
      "honors (bsc/msc)\n",
      "engineering\n",
      "mathematics\n",
      "linear algebra in mathematics\n",
      "honors (bsc/msc)\n",
      "m.sc in mathematics\n",
      "statistics honours\n",
      "mca\n",
      "bba\n",
      "power\n",
      "bba\n",
      "statistics\n",
      "pure mathematics\n",
      "honors (bsc/msc)\n",
      "b.sc.(honours) in statistics\n",
      "b.tech\n",
      "engineering\n",
      "engineering\n",
      "leather technology\n",
      "leather technology\n",
      "bsc. statistics honours student(final year)\n",
      "engineering\n",
      "statistics\n",
      "bca\n",
      "applied mathematics in oceanology &computer application\n",
      "mathematics\n",
      "statistics\n",
      "honors (bsc/msc)\n",
      "engineering\n",
      "engineering\n",
      "h.s passed\n",
      "engineering\n",
      "engineering\n",
      "byech\n",
      "power engineering\n",
      "statistics\n",
      "bsc computer science\n",
      "statistics\n",
      "engineering\n",
      "statistics\n",
      "honors (bsc/msc)\n",
      "engineering\n",
      "ee\n",
      "engineering\n",
      "engineering\n",
      "ece\n",
      "engineering\n",
      "others\n",
      "engineering\n",
      "honors (bsc/msc)\n",
      "others\n",
      "engineering\n",
      "engineering\n",
      "honors (bsc/msc)\n",
      "engineering\n",
      "bba\n",
      "bba\n",
      "engineering\n",
      "engineering\n",
      "honors (bsc/msc)\n",
      "engineering\n",
      "engineering\n",
      "honors (bsc/msc)\n",
      "engineering\n",
      "bba\n",
      "honors (bsc/msc)\n",
      "honors (bsc/msc)\n",
      "m.sc mathematics\n",
      "b.tech(cse)\n",
      "msc in applied mathematics\n",
      "applied mathematics\n",
      "applies mathematics\n",
      "diploma on travel and tourism management\n",
      "mathematics (msc)\n",
      "engineering\n",
      "honors (bsc/msc)\n",
      "engineering\n",
      "b.tech ( cse )\n",
      "mathematics\n",
      "honors (bsc/msc)\n",
      "engineering\n",
      "engineering\n",
      "mathematics\n",
      "engineering\n",
      "honors (bsc/msc)\n",
      "mathematics\n",
      "b. tech cse\n",
      "filed of study\n",
      "honors (bsc/msc)\n",
      "engineering\n",
      "engineering\n",
      "statistics\n",
      "engineering\n",
      "others\n",
      "electronics and communication engineering\n",
      "btech\n",
      "ece\n",
      "honors (bsc/msc)\n",
      "bsc. statistics\n",
      "others\n",
      "b.tech in cse\n",
      "msc data science\n",
      "honors (bsc/msc)\n",
      "btech electronics and communication\n",
      "engineering\n",
      "honors (bsc/msc)\n",
      "b.tech cse\n",
      "engineering\n",
      "electrical engineering\n",
      "m.sc in applied mathematics (2nd sem)\n",
      "electrician\n",
      "honors (bsc/msc)\n",
      "comp sc.\n",
      "engineering\n",
      "mathematics\n",
      "m.sc(electronics)\n",
      "computer science and engineering\n",
      "economics\n",
      "b-tech in ece\n",
      "b tech\n",
      "b.sc honours (computer science)\n",
      "bsc(state )\n",
      "statistics\n",
      "b.sc , honours in maths\n",
      "b.tech\n",
      "b-tech (ece 2'nd year)\n",
      "m.sc in mathematics\n",
      "bba\n",
      "yes\n",
      "bsc statistics honours\n",
      "mathematics\n",
      "statistics\n",
      "mathematics\n",
      "honors (bsc/msc)\n",
      "others\n",
      "engineering\n",
      "honors (bsc/msc)\n",
      "mechanical engineering\n",
      "statistics\n",
      "engineering\n",
      "honors (bsc/msc)\n",
      "engineering\n",
      "statistics hons\n",
      "mechanical engineering\n",
      "bsc. statistics hons.\n",
      "computer science and engineering\n",
      "statistics honours\n",
      "honors (bsc/msc)\n",
      "statistics ( hons.)\n",
      "bsc. hons\n",
      "mechanical\n",
      "mathematics\n",
      "statistics hons.\n",
      "mathematics\n",
      "engineering\n",
      "b.tech(it)\n",
      "electrical engineering\n",
      "statistics\n",
      "b.tech (it)\n",
      "b.sc statistics honours\n",
      "honors (bsc/msc)\n",
      "bsc statistics hons\n",
      "b.tech (ece)\n",
      "b.sc. in statistics\n",
      "b.tech(cse)\n",
      "applied mathematics\n",
      "bsc physics honours\n",
      "honors (bsc/msc)\n",
      "honors (bsc/msc)\n",
      "b. pharmacy\n",
      "math (h)\n",
      "computer science engineering\n",
      "power engineering\n",
      "statistics\n",
      "statistics\n",
      "statistics\n",
      "statistics\n",
      "msc - mathematics\n",
      "honors (bsc/msc)\n",
      "engineering\n",
      "mathematics\n",
      "information technology\n",
      "r\n",
      "b. pharmacy\n",
      "aplied mathematics with oceanology and computer programming\n",
      "b.sc statistics honours\n",
      "b.sc\n",
      "honors (bsc/msc)\n",
      "it\n",
      "computer science and engineering\n",
      "honors (bsc/msc)\n",
      "engineering\n",
      "statistics honours\n",
      "statistics honours\n",
      "statistics\n",
      "statistics\n",
      "mechanical engineering\n",
      "statistics\n",
      "did my graduation on mathematics\n",
      "b.com\n",
      "sem 3\n",
      "statistics honours (b.sc.)\n",
      "electrical and electronics engineering\n",
      "honors (bsc/msc)\n",
      "engineering\n",
      "engineering\n",
      "honors (bsc/msc)\n",
      "engineering\n",
      "engineering\n",
      "statistics hons\n",
      "energy engineering\n",
      "msc in applied mathematics\n",
      "economics\n",
      "honors (bsc/msc)\n",
      "engineering\n",
      "engineering\n",
      "mathematics\n",
      "bsc.stat\n",
      "mathematics honours\n",
      "bsc math honours\n",
      "english honours\n",
      "statistics\n",
      "computer science\n",
      "r\n",
      "computer science engineering\n",
      "cse\n",
      "statistics\n",
      "statistics (honours)\n",
      "mathematics\n",
      "eee\n",
      "bsc. statistics\n",
      "b.tech in electronic and communication engineering\n",
      "b. tech\n",
      "honors (bsc/msc)\n",
      "honors (bsc/msc)\n",
      "computer science engineering\n",
      "statistics honours\n",
      "others\n",
      "honors (bsc/msc)\n",
      "statistics honours\n",
      "electronics and communications engineering (b.tech)\n",
      "engineering\n",
      "honors (bsc/msc)\n",
      "electronics and communication engineering (b.tech))\n",
      "statistics\n",
      "mathematics\n",
      "statistics\n",
      "b.sc statistics honours\n",
      "mca\n",
      "r\n",
      "statistics\n",
      "power plant engineering\n",
      "mathematics\n",
      "statistics\n",
      "statistics hons.\n",
      "statistics 2nd semester\n",
      "electrical engineering\n",
      "me\n",
      "mathematics\n",
      "engineering\n",
      "engineering\n",
      "electrical engineering\n",
      "b. sc. statistics hons.\n",
      "statistics hons\n",
      "statistics\n",
      "bsc statistics hons\n",
      "statistics\n",
      "m.sc in mathematics\n",
      "honors (bsc/msc)\n",
      "r\n",
      "b.sc statistics honours\n",
      "bachelor's of computer applications\n",
      "msc in mathematics\n",
      "statistics\n",
      "b.sc in statistics\n",
      "mathematics\n",
      "msc\n",
      "mathematics\n",
      "power engineering\n",
      "graduate\n",
      "electronics and communication engineering (b.tech)\n",
      "ece\n",
      "engineering\n",
      "msc. mathematics\n",
      "m.sc in mathematics\n",
      "bca\n",
      "engineering\n",
      "honors (bsc/msc)\n",
      "mathematics msc.\n",
      "engineering\n",
      "cse\n",
      "statistics\n",
      "b.sc (hons.) in statistics\n",
      "mathematics\n",
      "statistics honours\n",
      "bsc. in statistics\n",
      "statistics\n",
      "b.sc.\n",
      "engineering\n",
      "honors (bsc/msc)\n",
      "studying m.sc in mathematics\n",
      "msc mathematics\n",
      "statistics\n",
      "engineering\n",
      "honors (bsc/msc)\n",
      "3rd year mathematics honours\n",
      "instrumentation engineer\n",
      "electrical engineering\n",
      "msc statistics\n",
      "honors (bsc/msc)\n",
      "engineering\n",
      "honors (bsc/msc)\n",
      "honors (bsc/msc)\n",
      "honors (bsc/msc)\n",
      "statistics honours\n",
      "independent cyber security researcher\n",
      "honors (bsc/msc)\n",
      "others\n",
      "msc in pure maths\n",
      "statistics hons\n",
      "mathematics\n",
      "physics\n",
      "honors (bsc/msc)\n",
      "m.sc mathematics\n",
      "b.tech\n",
      "mathematics\n",
      "honors (bsc/msc)\n",
      "statistics\n",
      "b.tech in ece\n",
      "statistics (hons)\n",
      "statistics honours\n",
      "computer science and engineering\n",
      "bba\n",
      "engineering\n",
      "others\n",
      "others\n",
      "others\n",
      "others\n",
      "others\n",
      "others\n",
      "others\n",
      "others\n",
      "others\n",
      "others\n",
      "others\n",
      "others\n",
      "others\n",
      "others\n",
      "others\n",
      "others\n",
      "others\n",
      "engineering\n",
      "others\n",
      "others\n",
      "others\n",
      "others\n",
      "bca\n",
      "others\n",
      "others\n",
      "others\n",
      "others\n",
      "others\n",
      "others\n",
      "others\n",
      "others\n",
      "others\n",
      "others\n",
      "others\n",
      "others\n",
      "others\n",
      "others\n",
      "others\n",
      "others\n",
      "others\n",
      "honors (bsc/msc)\n",
      "others\n",
      "others\n",
      "others\n",
      "others\n",
      "others\n",
      "others\n",
      "others\n",
      "honors (bsc/msc)\n",
      "others\n",
      "others\n",
      "honors (bsc/msc)\n",
      "others\n",
      "honors (bsc/msc)\n",
      "others\n",
      "others\n",
      "others\n",
      "others\n",
      "others\n",
      "honors (bsc/msc)\n",
      "others\n",
      "others\n",
      "honors (bsc/msc)\n",
      "others\n",
      "others\n",
      "others\n",
      "honors (bsc/msc)\n",
      "others\n",
      "others\n",
      "honors (bsc/msc)\n",
      "others\n",
      "bba\n",
      "bca\n",
      "others\n",
      "others\n",
      "others\n",
      "others\n",
      "honors (bsc/msc)\n",
      "others\n",
      "others\n",
      "honors (bsc/msc)\n",
      "others\n",
      "honors (bsc/msc)\n",
      "others\n",
      "others\n",
      "others\n",
      "others\n",
      "others\n",
      "honors (bsc/msc)\n",
      "others\n",
      "others\n",
      "engineering\n",
      "others\n",
      "others\n",
      "honors (bsc/msc)\n",
      "honors (bsc/msc)\n",
      "honors (bsc/msc)\n",
      "others\n",
      "others\n",
      "bba\n",
      "engineering\n",
      "engineering\n",
      "engineering\n",
      "engineering\n",
      "engineering\n",
      "engineering\n",
      "engineering\n",
      "engineering\n",
      "engineering\n",
      "engineering\n",
      "engineering\n",
      "engineering\n",
      "engineering\n",
      "engineering\n",
      "engineering\n",
      "engineering\n",
      "engineering\n",
      "engineering\n",
      "engineering\n",
      "engineering\n",
      "engineering\n",
      "engineering\n",
      "engineering\n",
      "engineering\n",
      "engineering\n",
      "engineering\n",
      "engineering\n",
      "engineering\n",
      "engineering\n",
      "engineering\n",
      "engineering\n",
      "engineering\n",
      "engineering\n",
      "engineering\n",
      "engineering\n",
      "engineering\n",
      "engineering\n",
      "engineering\n",
      "engineering\n",
      "engineering\n",
      "engineering\n",
      "engineering\n",
      "engineering\n",
      "engineering\n",
      "engineering\n",
      "engineering\n",
      "engineering\n",
      "engineering\n",
      "engineering\n",
      "engineering\n",
      "engineering\n",
      "engineering\n",
      "engineering\n",
      "engineering\n",
      "engineering\n",
      "engineering\n",
      "engineering\n",
      "engineering\n",
      "engineering\n",
      "engineering\n",
      "engineering\n",
      "engineering\n",
      "engineering\n",
      "engineering\n",
      "engineering\n",
      "engineering\n",
      "engineering\n",
      "engineering\n",
      "engineering\n",
      "engineering\n",
      "engineering\n",
      "engineering\n",
      "engineering\n",
      "engineering\n",
      "engineering\n",
      "engineering\n",
      "engineering\n",
      "engineering\n",
      "engineering\n",
      "engineering\n",
      "engineering\n",
      "engineering\n",
      "engineering\n",
      "engineering\n",
      "engineering\n",
      "engineering\n",
      "engineering\n",
      "engineering\n",
      "engineering\n",
      "engineering\n",
      "engineering\n",
      "engineering\n",
      "engineering\n",
      "engineering\n",
      "engineering\n",
      "engineering\n",
      "engineering\n",
      "engineering\n",
      "engineering\n",
      "engineering\n",
      "engineering\n",
      "engineering\n",
      "engineering\n",
      "engineering\n",
      "engineering\n",
      "engineering\n",
      "engineering\n",
      "engineering\n",
      "engineering\n",
      "engineering\n",
      "honors (bsc/msc)\n",
      "honors (bsc/msc)\n",
      "honors (bsc/msc)\n",
      "honors (bsc/msc)\n",
      "honors (bsc/msc)\n",
      "honors (bsc/msc)\n",
      "honors (bsc/msc)\n",
      "honors (bsc/msc)\n",
      "honors (bsc/msc)\n",
      "honors (bsc/msc)\n",
      "honors (bsc/msc)\n",
      "honors (bsc/msc)\n",
      "honors (bsc/msc)\n",
      "honors (bsc/msc)\n",
      "honors (bsc/msc)\n",
      "honors (bsc/msc)\n",
      "honors (bsc/msc)\n",
      "honors (bsc/msc)\n",
      "honors (bsc/msc)\n",
      "honors (bsc/msc)\n",
      "honors (bsc/msc)\n",
      "honors (bsc/msc)\n",
      "honors (bsc/msc)\n",
      "honors (bsc/msc)\n",
      "honors (bsc/msc)\n",
      "honors (bsc/msc)\n",
      "honors (bsc/msc)\n",
      "honors (bsc/msc)\n",
      "honors (bsc/msc)\n",
      "honors (bsc/msc)\n",
      "honors (bsc/msc)\n",
      "honors (bsc/msc)\n",
      "honors (bsc/msc)\n",
      "honors (bsc/msc)\n",
      "honors (bsc/msc)\n",
      "honors (bsc/msc)\n",
      "honors (bsc/msc)\n",
      "honors (bsc/msc)\n",
      "honors (bsc/msc)\n",
      "honors (bsc/msc)\n",
      "honors (bsc/msc)\n",
      "honors (bsc/msc)\n",
      "honors (bsc/msc)\n",
      "honors (bsc/msc)\n",
      "honors (bsc/msc)\n",
      "honors (bsc/msc)\n",
      "honors (bsc/msc)\n",
      "honors (bsc/msc)\n",
      "honors (bsc/msc)\n",
      "honors (bsc/msc)\n",
      "honors (bsc/msc)\n",
      "honors (bsc/msc)\n",
      "honors (bsc/msc)\n",
      "honors (bsc/msc)\n",
      "honors (bsc/msc)\n",
      "honors (bsc/msc)\n",
      "honors (bsc/msc)\n",
      "honors (bsc/msc)\n",
      "honors (bsc/msc)\n",
      "honors (bsc/msc)\n",
      "honors (bsc/msc)\n",
      "honors (bsc/msc)\n",
      "honors (bsc/msc)\n",
      "honors (bsc/msc)\n",
      "others\n",
      "honors (bsc/msc)\n",
      "honors (bsc/msc)\n",
      "honors (bsc/msc)\n",
      "honors (bsc/msc)\n",
      "honors (bsc/msc)\n",
      "honors (bsc/msc)\n",
      "honors (bsc/msc)\n",
      "honors (bsc/msc)\n",
      "honors (bsc/msc)\n",
      "honors (bsc/msc)\n",
      "honors (bsc/msc)\n",
      "honors (bsc/msc)\n",
      "honors (bsc/msc)\n",
      "honors (bsc/msc)\n",
      "honors (bsc/msc)\n",
      "honors (bsc/msc)\n",
      "honors (bsc/msc)\n",
      "honors (bsc/msc)\n",
      "honors (bsc/msc)\n",
      "honors (bsc/msc)\n",
      "honors (bsc/msc)\n",
      "honors (bsc/msc)\n",
      "honors (bsc/msc)\n",
      "honors (bsc/msc)\n",
      "honors (bsc/msc)\n",
      "honors (bsc/msc)\n",
      "honors (bsc/msc)\n",
      "honors (bsc/msc)\n",
      "honors (bsc/msc)\n",
      "honors (bsc/msc)\n",
      "honors (bsc/msc)\n",
      "honors (bsc/msc)\n",
      "honors (bsc/msc)\n",
      "honors (bsc/msc)\n",
      "honors (bsc/msc)\n",
      "honors (bsc/msc)\n",
      "honors (bsc/msc)\n",
      "honors (bsc/msc)\n",
      "honors (bsc/msc)\n",
      "honors (bsc/msc)\n",
      "honors (bsc/msc)\n",
      "honors (bsc/msc)\n",
      "others\n",
      "honors (bsc/msc)\n",
      "honors (bsc/msc)\n",
      "honors (bsc/msc)\n",
      "honors (bsc/msc)\n",
      "honors (bsc/msc)\n",
      "honors (bsc/msc)\n",
      "honors (bsc/msc)\n",
      "honors (bsc/msc)\n",
      "honors (bsc/msc)\n",
      "honors (bsc/msc)\n",
      "honors (bsc/msc)\n",
      "honors (bsc/msc)\n",
      "honors (bsc/msc)\n",
      "honors (bsc/msc)\n",
      "honors (bsc/msc)\n",
      "honors (bsc/msc)\n",
      "honors (bsc/msc)\n",
      "honors (bsc/msc)\n",
      "honors (bsc/msc)\n",
      "honors (bsc/msc)\n",
      "honors (bsc/msc)\n",
      "honors (bsc/msc)\n",
      "others\n",
      "honors (bsc/msc)\n",
      "honors (bsc/msc)\n",
      "honors (bsc/msc)\n",
      "honors (bsc/msc)\n",
      "honors (bsc/msc)\n",
      "honors (bsc/msc)\n",
      "honors (bsc/msc)\n",
      "honors (bsc/msc)\n",
      "honors (bsc/msc)\n",
      "honors (bsc/msc)\n",
      "honors (bsc/msc)\n",
      "honors (bsc/msc)\n",
      "honors (bsc/msc)\n",
      "honors (bsc/msc)\n",
      "honors (bsc/msc)\n",
      "honors (bsc/msc)\n",
      "honors (bsc/msc)\n",
      "honors (bsc/msc)\n",
      "honors (bsc/msc)\n",
      "honors (bsc/msc)\n",
      "honors (bsc/msc)\n",
      "others\n",
      "honors (bsc/msc)\n",
      "honors (bsc/msc)\n",
      "honors (bsc/msc)\n",
      "honors (bsc/msc)\n",
      "honors (bsc/msc)\n",
      "honors (bsc/msc)\n",
      "honors (bsc/msc)\n",
      "honors (bsc/msc)\n",
      "honors (bsc/msc)\n",
      "honors (bsc/msc)\n",
      "honors (bsc/msc)\n",
      "honors (bsc/msc)\n",
      "honors (bsc/msc)\n",
      "honors (bsc/msc)\n",
      "honors (bsc/msc)\n",
      "honors (bsc/msc)\n",
      "honors (bsc/msc)\n",
      "honors (bsc/msc)\n",
      "honors (bsc/msc)\n",
      "honors (bsc/msc)\n",
      "honors (bsc/msc)\n",
      "honors (bsc/msc)\n",
      "honors (bsc/msc)\n",
      "honors (bsc/msc)\n",
      "honors (bsc/msc)\n",
      "honors (bsc/msc)\n",
      "honors (bsc/msc)\n",
      "honors (bsc/msc)\n",
      "honors (bsc/msc)\n",
      "honors (bsc/msc)\n",
      "honors (bsc/msc)\n",
      "honors (bsc/msc)\n",
      "honors (bsc/msc)\n",
      "honors (bsc/msc)\n",
      "honors (bsc/msc)\n",
      "honors (bsc/msc)\n",
      "honors (bsc/msc)\n",
      "honors (bsc/msc)\n",
      "honors (bsc/msc)\n",
      "honors (bsc/msc)\n",
      "honors (bsc/msc)\n",
      "honors (bsc/msc)\n",
      "honors (bsc/msc)\n",
      "honors (bsc/msc)\n",
      "honors (bsc/msc)\n",
      "honors (bsc/msc)\n",
      "honors (bsc/msc)\n",
      "honors (bsc/msc)\n",
      "honors (bsc/msc)\n",
      "honors (bsc/msc)\n",
      "honors (bsc/msc)\n",
      "honors (bsc/msc)\n",
      "honors (bsc/msc)\n",
      "honors (bsc/msc)\n",
      "honors (bsc/msc)\n",
      "honors (bsc/msc)\n",
      "honors (bsc/msc)\n",
      "honors (bsc/msc)\n",
      "honors (bsc/msc)\n",
      "honors (bsc/msc)\n",
      "honors (bsc/msc)\n",
      "honors (bsc/msc)\n",
      "honors (bsc/msc)\n",
      "honors (bsc/msc)\n",
      "honors (bsc/msc)\n",
      "honors (bsc/msc)\n",
      "honors (bsc/msc)\n",
      "honors (bsc/msc)\n",
      "honors (bsc/msc)\n",
      "honors (bsc/msc)\n",
      "honors (bsc/msc)\n",
      "honors (bsc/msc)\n",
      "honors (bsc/msc)\n",
      "honors (bsc/msc)\n",
      "honors (bsc/msc)\n",
      "honors (bsc/msc)\n",
      "honors (bsc/msc)\n",
      "honors (bsc/msc)\n",
      "honors (bsc/msc)\n",
      "honors (bsc/msc)\n",
      "honors (bsc/msc)\n",
      "honors (bsc/msc)\n",
      "honors (bsc/msc)\n",
      "honors (bsc/msc)\n",
      "honors (bsc/msc)\n",
      "honors (bsc/msc)\n",
      "honors (bsc/msc)\n",
      "honors (bsc/msc)\n",
      "honors (bsc/msc)\n",
      "honors (bsc/msc)\n",
      "honors (bsc/msc)\n",
      "honors (bsc/msc)\n",
      "honors (bsc/msc)\n",
      "honors (bsc/msc)\n",
      "honors (bsc/msc)\n",
      "honors (bsc/msc)\n",
      "honors (bsc/msc)\n",
      "honors (bsc/msc)\n",
      "honors (bsc/msc)\n",
      "honors (bsc/msc)\n",
      "honors (bsc/msc)\n",
      "honors (bsc/msc)\n",
      "honors (bsc/msc)\n",
      "honors (bsc/msc)\n",
      "honors (bsc/msc)\n",
      "honors (bsc/msc)\n"
     ]
    },
    {
     "name": "stderr",
     "output_type": "stream",
     "text": [
      "<ipython-input-25-4642725e9526>:2: SettingWithCopyWarning: \n",
      "A value is trying to be set on a copy of a slice from a DataFrame.\n",
      "Try using .loc[row_indexer,col_indexer] = value instead\n",
      "\n",
      "See the caveats in the documentation: https://pandas.pydata.org/pandas-docs/stable/user_guide/indexing.html#returning-a-view-versus-a-copy\n",
      "  df4['College'] = df4.apply(lambda row : lower_string(row['College']), axis = 1)\n",
      "<ipython-input-25-4642725e9526>:3: SettingWithCopyWarning: \n",
      "A value is trying to be set on a copy of a slice from a DataFrame.\n",
      "Try using .loc[row_indexer,col_indexer] = value instead\n",
      "\n",
      "See the caveats in the documentation: https://pandas.pydata.org/pandas-docs/stable/user_guide/indexing.html#returning-a-view-versus-a-copy\n",
      "  df4['Department'] = df4.apply(lambda row : lower_string(row['Department']), axis = 1)\n"
     ]
    }
   ],
   "source": [
    "#applying the lower string method\n",
    "df4['College'] = df4.apply(lambda row : lower_string(row['College']), axis = 1)\n",
    "df4['Department'] = df4.apply(lambda row : lower_string(row['Department']), axis = 1)"
   ]
  },
  {
   "cell_type": "code",
   "execution_count": 26,
   "metadata": {},
   "outputs": [],
   "source": [
    "#collega data counting all college\n",
    "college = df4.groupby('College')['College'].agg('count')\n",
    "college= pd.DataFrame(college)"
   ]
  },
  {
   "cell_type": "markdown",
   "metadata": {},
   "source": [
    "taking the all unique college and counts them"
   ]
  },
  {
   "cell_type": "code",
   "execution_count": 27,
   "metadata": {},
   "outputs": [],
   "source": [
    "# department data counting from all department\n",
    "department = df4.groupby('Department')['Department'].agg('count')\n",
    "department= pd.DataFrame(department)"
   ]
  },
  {
   "cell_type": "markdown",
   "metadata": {},
   "source": [
    "taking the all unique department and counts them"
   ]
  },
  {
   "cell_type": "code",
   "execution_count": 28,
   "metadata": {},
   "outputs": [],
   "source": [
    "#renameing to total_counts of department data\n",
    "department.rename(columns={\"Department\": \"dep_counts\"},inplace=True)"
   ]
  },
  {
   "cell_type": "code",
   "execution_count": 29,
   "metadata": {},
   "outputs": [],
   "source": [
    "#convert Department index to columns\n",
    "department.reset_index(inplace= True)"
   ]
  },
  {
   "cell_type": "code",
   "execution_count": 30,
   "metadata": {},
   "outputs": [
    {
     "name": "stdout",
     "output_type": "stream",
     "text": [
      "lady brabourne college                      126\n",
      "maulana azad college                        100\n",
      "regent education and research foundation     71\n",
      "presidency university                        31\n",
      "durgapur women's college                     30\n",
      "                                           ... \n",
      "lady braboune collage                         1\n",
      "b.p.podder institute                          1\n",
      "st xavier's college, kolkata                  1\n",
      "lady brabourne college, c.u.                  1\n",
      "brabu                                         1\n",
      "Name: College, Length: 297, dtype: int64\n"
     ]
    }
   ],
   "source": [
    "#counting university wise present\n",
    "counts = df4.College.value_counts()\n",
    "print(counts)"
   ]
  },
  {
   "cell_type": "code",
   "execution_count": 31,
   "metadata": {},
   "outputs": [
    {
     "name": "stdout",
     "output_type": "stream",
     "text": [
      "Total University:297\n"
     ]
    },
    {
     "data": {
      "text/plain": [
       "array(['united international university', 'iit',\n",
       "       'shahjalal university of science and technology',\n",
       "       'asutosh college',\n",
       "       'department of pure mathematics, university of calcutta',\n",
       "       'vivekananda college',\n",
       "       'future institute of engineering and management', 'j.k college',\n",
       "       'narasinha dutt college', 'j.k.clg purulia',\n",
       "       'global nature care sangathan group of institutions', 'aiub',\n",
       "       'maulana azad college', 'purulia zilla school',\n",
       "       'cummins college of engineering for women',\n",
       "       'daffodil international university', 'st.xaviers college', 'diatm',\n",
       "       'purulia jk college',\n",
       "       'narasinha dutt college under calcutta university',\n",
       "       'sister nibedita govt general degree college for girls',\n",
       "       'nd college', 'ramakrishna mission shilpapitha',\n",
       "       'viswass school & college of nursing',\n",
       "       'narasinha dutt college afflicted by calcutta university',\n",
       "       'durgapur institute of advanced technology and management',\n",
       "       'insitiution of engineering and managment', \"st. xavier's college\",\n",
       "       'sister nibedita govt. general degree college for girls',\n",
       "       'manipal hospital',\n",
       "       'durgapur institute of advance technology and management',\n",
       "       'west bengal state university', \"st. xavier's college , kolkata\",\n",
       "       \"st. xavier's college, kolkata\",\n",
       "       'sks power generation chhattisgarh ltd.',\n",
       "       'lady brabourne college, university of calcutta',\n",
       "       'university of calcutta',\n",
       "       'university college of science & technology, university of calcutta',\n",
       "       'vivekananda college, calcutta university',\n",
       "       'jagannath kishore college,purulia',\n",
       "       'hooghly engineering and technology college', 'j.k.college',\n",
       "       'islamic university, kushtia',\n",
       "       'west bengal university of health sciences',\n",
       "       'lady brabourne college',\n",
       "       'institute of engineering and management (iem)',\n",
       "       'kalyani mahavidyalaya',\n",
       "       'acharya institute of management and sciences',\n",
       "       'techno international newtown', 'bethune college',\n",
       "       'isrt , university of dhaka', 'vivekananda college , cu', 'nsu',\n",
       "       \"st xavier's college\", \"st xavier's college, kolkata\",\n",
       "       'narasinha dutta college',\n",
       "       'american international university bangladesh',\n",
       "       'jagannath kishore college',\n",
       "       'narasinha dutt college, university of calcutta',\n",
       "       'narasingha dutt college', 'nan', 'comilla university',\n",
       "       'techno india saltlake',\n",
       "       \"st. xavier's college (autonomous) , kolkata\",\n",
       "       'academy of technology', 'thakurpukur vivekananda college',\n",
       "       'calcutta university ( ballygaunge science college)',\n",
       "       'rkmveri belur math', 'jj glastronics', 'gauhati university',\n",
       "       'jadavpur university', 'basanti devi college',\n",
       "       'the international university of scholars',\n",
       "       'london south bank university', 'north south university',\n",
       "       'bangladesh institute of governance and management (bigm)',\n",
       "       'guru nanak institute of pharmaceutical science and technology',\n",
       "       'national power training institute durgapur', 'jk college',\n",
       "       'kerala university', 'npti (er)',\n",
       "       'institute of engineering and management',\n",
       "       'bethune college, kolkata', 'professional', 'university of dhaka',\n",
       "       'bharat university, chennai', 'north-south university',\n",
       "       'presidency university',\n",
       "       'american international university-bangladesh',\n",
       "       'vidyasagar college for women', 'gl bajaj',\n",
       "       'national power training institute nagpur', 'kalyani mahavidyalay',\n",
       "       'bethune', 'future institute of technology',\n",
       "       'dr. b. c. roy engineering college',\n",
       "       'durgapur institute of advance technology and managment',\n",
       "       'government college of engineering and leather technology',\n",
       "       'n.p.t.i(e.r.)', 'indira gandhi national university',\n",
       "       'vidyasaagar university', 'mugberia gangadhar mahavidyalaya',\n",
       "       'dr.b.c.roy engineering college', 'uttarpara amarendra vidyapith',\n",
       "       'techno international new town',\n",
       "       'durgapur institute of advanced and technology management',\n",
       "       'npti, nagpur', 'jagannath kishore college, purulia',\n",
       "       'basantidevi college', 'iit,university of dhaka',\n",
       "       'makaut(formely wbut)',\n",
       "       'american international university- bangladesh',\n",
       "       'shahjalal university of science & technology',\n",
       "       'bangabandhu sheikh mujibur rahman science & technology',\n",
       "       'bangabandhu sheikh mujibur rahman science & technology university',\n",
       "       'jahangirnagar university', 'buet', 'sbpgc',\n",
       "       'north south university (nsu)',\n",
       "       'american international university of bangladesh',\n",
       "       'public administration',\n",
       "       'american international university - bangladesh',\n",
       "       'netaji subhas open university',\n",
       "       'maulana abul kalam azad university of technology',\n",
       "       'vidyasagar university',\n",
       "       'national institute of technology warangal',\n",
       "       'ramakrishna mission vidyamandira',\n",
       "       'notre dame universitybangladesh',\n",
       "       'indian institute of engineering science and technology shibpur',\n",
       "       'ahsanullah university of science and technology',\n",
       "       'chittaranjan college, kolkata', 'bangalore university',\n",
       "       'institution / organization / college name',\n",
       "       'university of liberal arts',\n",
       "       'university of liberal arts bangladesh',\n",
       "       'dyal singh college (day)', 'diatm durgapur',\n",
       "       'maulana abul kalam azad university of technology, w.b',\n",
       "       'christ university', 'durgapur institute of advanced technology',\n",
       "       'american international university of bangladesh (aiub)',\n",
       "       'rcc institute of information technology', 'belda college',\n",
       "       'futuretech private iti', 'j.k. college', 'brabu',\n",
       "       'burdwan university', 'global engineering college',\n",
       "       'prabhat kumar college', 'calcutta university',\n",
       "       \"st.xavier's college,kolkata\",\n",
       "       'shibpur dinobondhoo institution (college)',\n",
       "       'durgapur institute of advanced technology and managemant rajbandh',\n",
       "       'vivekananda college thakurpukur', \"st. xavier's college kolkata\",\n",
       "       'university of mumbai',\n",
       "       'durgapur institute of advancedpur technology and management',\n",
       "       \"st. xavier's college (autonomous), kolkata.\",\n",
       "       'omdayal group of institutions', \"st.xavier's college kolkata\",\n",
       "       'amta ramsaday college', 'diatm, durgapur',\n",
       "       'asansol engineering college', 'vivekananda college,thakurpukur',\n",
       "       'durgapur institute of advanced technology & management',\n",
       "       'victoria institution', 'corporate institute of pharmacy',\n",
       "       'amity university kolkata',\n",
       "       'national power training institute (e.r) durgapur',\n",
       "       \"st xavier's college kolkata\", \"at. xavier's college\",\n",
       "       'bethune colege', 'hffc', 'maulana azad college, kolkata',\n",
       "       'lalbaba college', 'aliah university', 'nist',\n",
       "       'green university of bangladesh', '1998',\n",
       "       'raja peary mohan college',\n",
       "       'national institute of science and technology,berhampur',\n",
       "       'international university of scholarsh', 'brac university',\n",
       "       'central university of jharkhand',\n",
       "       'vidyasagar university, medinipur', 'uits',\n",
       "       'independent university, bangladesh',\n",
       "       'the new horizons institute of technology',\n",
       "       'jogomaya devi college', 'rgpv', 'surendranath college',\n",
       "       'asutosh college, kolkata', 'raja peary mohan college, uttarpara',\n",
       "       'seacom engineering college', 'zoom international',\n",
       "       'narula institute of technology', 'aot',\n",
       "       'national power training institute', 'rkmveri (belur campus)',\n",
       "       'durgapur instute of advance technology and management',\n",
       "       'ramakrishna mission vivekananda educational and research institute',\n",
       "       \"st. xavier's college (autonomous),kolkata\", 'ashutosh college',\n",
       "       'college of engineering roorkee',\n",
       "       'national power training institute ( e.r )', 'rkmveri, belur math',\n",
       "       'techno india salt lake', 'islamic university of technology (iut)',\n",
       "       'bangladesh agricultural research institute',\n",
       "       'bidhannagar college', 'sir gurudas mahavidyalaya',\n",
       "       'durgapur institute of advanced technology and manegement',\n",
       "       'jadavpuruniversity', 'vidyasagar college',\n",
       "       'national institute of science and technology',\n",
       "       'visvabharati university', 'international university of scholars',\n",
       "       'new alipore college', 'university of chittagong',\n",
       "       'shibpur dinobundhoo institution', 'iub', 'uttara university',\n",
       "       'b. p. poddar institute of management and technology',\n",
       "       'b. p. poddar institute of technology and management',\n",
       "       'b.p. poddar institute of management and technology',\n",
       "       'b.p.poddar institution of management & technology',\n",
       "       'b.p.poddar institute of management and technology',\n",
       "       'b p poddar institute of management and technology',\n",
       "       'b.p.podder institute of management and technology',\n",
       "       'b. p. poddar institute of management & technology', 'home',\n",
       "       'bppimt', 'dr. b.c.roy engineering college',\n",
       "       'b.p poddar institute of management and technology',\n",
       "       'b p poddar institute of management & technology',\n",
       "       'b.p poddar institute of management & technology',\n",
       "       'bp poddar institute of management and technology',\n",
       "       'b.p.poddar institute of management & technology',\n",
       "       'b.p.podder institute',\n",
       "       'b p podder institute of management and technology', 'b.p.p.i.m.t',\n",
       "       \"durgapur women's college\", \"duragpur women's college\",\n",
       "       \"aasansol girls' college\", 'durgapur womens college',\n",
       "       'durgapur government college', \"durgapur women's collage\",\n",
       "       \"durgapur women's college kazi nazrul university\",\n",
       "       'college name - durgapur womens college',\n",
       "       \"raniganj girls' college\", 'kaji najrul invercity',\n",
       "       \"durgapur woman's college\", 'akpc mahavidyalaya',\n",
       "       'university of burdwan', 'durgapur women college',\n",
       "       \"women's collage\",\n",
       "       'dr bc roy engineering & management college , durgapur',\n",
       "       'regent education and research foundation',\n",
       "       'regent education&research foundation',\n",
       "       'regent education & research foundation',\n",
       "       'regent education & research foundation barrackpore', 'rerf',\n",
       "       'regent education and reseach foundation',\n",
       "       'regent education & research foundation group of institutions',\n",
       "       'regent education and research foundation group of institutions',\n",
       "       'regent education research and foundation',\n",
       "       'regent education and research foundation institution',\n",
       "       'regent education and research foundation(group of institution)',\n",
       "       'regent education &research foundation',\n",
       "       'regent education &research foundation group of institutions',\n",
       "       'regent education and research foundarion group of institute',\n",
       "       'regent education and research foundation group of institution',\n",
       "       'rrerf', 'presidency university, kolkata', 'lady braborne college',\n",
       "       'hyderabad central university',\n",
       "       'indian institute of foreign trade,kolkata',\n",
       "       'lady brabourne college, kolkata',\n",
       "       'lady brabourne college, calcutta university',\n",
       "       'lady braboune college', 'lady brabourne college, c.u.',\n",
       "       \"st.xavier's college (autonomous), kolkata\",\n",
       "       \"st. xavier's university\",\n",
       "       'indira gandhi institute of development research', 'igidr',\n",
       "       'gokhale institute of politics and economics', 'lady brabourne',\n",
       "       'ladybrabourne college', 'lady braboune collage',\n",
       "       'moulana azad college', 'maulana azad college kolkata',\n",
       "       'moulana azad collage',\n",
       "       'maulana azad college, university of calcutta', 'mac',\n",
       "       'maulana azad collehe', 'seth anandram jaipuria college',\n",
       "       'maulona azad college'], dtype=object)"
      ]
     },
     "execution_count": 31,
     "metadata": {},
     "output_type": "execute_result"
    }
   ],
   "source": [
    "#total participate university\n",
    "unique = df4.College.unique()\n",
    "print(f\"Total University:{len(unique)}\")\n",
    "unique"
   ]
  },
  {
   "cell_type": "code",
   "execution_count": 32,
   "metadata": {},
   "outputs": [
    {
     "name": "stdout",
     "output_type": "stream",
     "text": [
      "University: united international university: \n",
      "Department: ['others']\n",
      "\n",
      "University: iit: \n",
      "Department: ['engineering']\n",
      "\n",
      "University: shahjalal university of science and technology: \n",
      "Department: ['engineering']\n",
      "\n",
      "University: asutosh college: \n",
      "Department: ['statistics', 'statistics honours', 'bsc statistics', 'statistics honours student', 'statistics', 'bsc. statistics honours student(final year)', 'statistics', 'statistics', 'statistics', 'statistics', 'statistics hons', 'r', 'statistics honours', 'statistics honours', 'statistics', 'economics', 'statistics honours', 'r', 'statistics hons', 'statistics honours', 'statistics hons', 'honors (bsc/msc)']\n",
      "\n",
      "University: department of pure mathematics, university of calcutta: \n",
      "Department: ['pure mathematics']\n",
      "\n",
      "University: vivekananda college: \n",
      "Department: ['b.sc statistics', 'honors (bsc/msc)', 'honors (bsc/msc)', 'honors (bsc/msc)', 'honors (bsc/msc)', 'honors (bsc/msc)', 'statistics ( hons.)', 'bsc.stat', 'honors (bsc/msc)', 'statistics hons.', 'statistics', 'honors (bsc/msc)']\n",
      "\n",
      "University: future institute of engineering and management: \n",
      "Department: ['engineering', 'electrical engineering']\n",
      "\n",
      "University: j.k college: \n",
      "Department: ['b.com (h)', 'b.com honours']\n",
      "\n",
      "University: narasinha dutt college: \n",
      "Department: ['m.sc', 'm.sc. in applied mathematics', 'm.sc in applied mathematics.', 'mathematics', 'master of science in applied mathematics', 'm.sc. mathematics', 'msc mathematics', 'm. sc', 'mathematics', 'math (h)']\n",
      "\n",
      "University: j.k.clg purulia: \n",
      "Department: ['commerce']\n",
      "\n",
      "University: global nature care sangathan group of institutions: \n",
      "Department: ['civil engineering']\n",
      "\n",
      "University: aiub: \n",
      "Department: ['engineering', 'engineering', 'engineering', 'engineering', 'engineering', 'honors (bsc/msc)', 'engineering', 'honors (bsc/msc)', 'honors (bsc/msc)', 'engineering', 'honors (bsc/msc)', 'engineering']\n",
      "\n",
      "University: maulana azad college: \n",
      "Department: ['statistics honours', 'statistics (h)', 'statistics honours', 'graduation', 'statistics', 'statistics (h)', 'bsc statistics hons', 'statistics honours', 'statistics', 'english honours', 'statistics', 'b.sc in statistics', 'statistics', 'honors (bsc/msc)', 'honors (bsc/msc)', 'honors (bsc/msc)', 'honors (bsc/msc)', 'honors (bsc/msc)', 'honors (bsc/msc)', 'honors (bsc/msc)', 'honors (bsc/msc)', 'honors (bsc/msc)', 'honors (bsc/msc)', 'honors (bsc/msc)', 'honors (bsc/msc)', 'honors (bsc/msc)', 'honors (bsc/msc)', 'honors (bsc/msc)', 'honors (bsc/msc)', 'honors (bsc/msc)', 'honors (bsc/msc)', 'honors (bsc/msc)', 'honors (bsc/msc)', 'honors (bsc/msc)', 'honors (bsc/msc)', 'honors (bsc/msc)', 'honors (bsc/msc)', 'honors (bsc/msc)', 'honors (bsc/msc)', 'honors (bsc/msc)', 'honors (bsc/msc)', 'honors (bsc/msc)', 'honors (bsc/msc)', 'honors (bsc/msc)', 'honors (bsc/msc)', 'honors (bsc/msc)', 'honors (bsc/msc)', 'honors (bsc/msc)', 'honors (bsc/msc)', 'honors (bsc/msc)', 'honors (bsc/msc)', 'honors (bsc/msc)', 'honors (bsc/msc)', 'honors (bsc/msc)', 'honors (bsc/msc)', 'honors (bsc/msc)', 'honors (bsc/msc)', 'honors (bsc/msc)', 'honors (bsc/msc)', 'honors (bsc/msc)', 'honors (bsc/msc)', 'honors (bsc/msc)', 'honors (bsc/msc)', 'honors (bsc/msc)', 'honors (bsc/msc)', 'honors (bsc/msc)', 'honors (bsc/msc)', 'honors (bsc/msc)', 'honors (bsc/msc)', 'honors (bsc/msc)', 'honors (bsc/msc)', 'honors (bsc/msc)', 'honors (bsc/msc)', 'honors (bsc/msc)', 'honors (bsc/msc)', 'honors (bsc/msc)', 'honors (bsc/msc)', 'honors (bsc/msc)', 'honors (bsc/msc)', 'honors (bsc/msc)', 'honors (bsc/msc)', 'honors (bsc/msc)', 'honors (bsc/msc)', 'honors (bsc/msc)', 'honors (bsc/msc)', 'honors (bsc/msc)', 'honors (bsc/msc)', 'honors (bsc/msc)', 'honors (bsc/msc)', 'honors (bsc/msc)', 'honors (bsc/msc)', 'honors (bsc/msc)', 'honors (bsc/msc)', 'honors (bsc/msc)', 'honors (bsc/msc)', 'honors (bsc/msc)', 'honors (bsc/msc)', 'honors (bsc/msc)', 'honors (bsc/msc)', 'honors (bsc/msc)']\n",
      "\n",
      "University: purulia zilla school: \n",
      "Department: ['atrs']\n",
      "\n",
      "University: cummins college of engineering for women: \n",
      "Department: ['engineering']\n",
      "\n",
      "University: daffodil international university: \n",
      "Department: ['honors (bsc/msc)']\n",
      "\n",
      "University: st.xaviers college: \n",
      "Department: ['statistics', 'mathematics']\n",
      "\n",
      "University: diatm: \n",
      "Department: ['cse', 'b. tech in chemical engineering', 'ece', 'computer science and engineering', 'cse']\n",
      "\n",
      "University: purulia jk college: \n",
      "Department: ['commerce', 'b.com']\n",
      "\n",
      "University: narasinha dutt college under calcutta university: \n",
      "Department: ['msc mathematics']\n",
      "\n",
      "University: sister nibedita govt general degree college for girls: \n",
      "Department: ['statistics hons']\n",
      "\n",
      "University: nd college: \n",
      "Department: ['m. sc (applied math)']\n",
      "\n",
      "University: ramakrishna mission shilpapitha: \n",
      "Department: ['electronics and telecommunication']\n",
      "\n",
      "University: viswass school & college of nursing: \n",
      "Department: ['b.sc nursing']\n",
      "\n",
      "University: narasinha dutt college afflicted by calcutta university: \n",
      "Department: ['msc in applied mathematics']\n",
      "\n",
      "University: durgapur institute of advanced technology and management: \n",
      "Department: ['engineering', 'b.tech', 'computer science and engineering', 'engineering', 'engineering', 'electronics and communication engineering', 'btech', 'b.tech', 'mechanical engineering', 'information technology', 'b.tech in electronic and communication engineering', 'b.tech in ece']\n",
      "\n",
      "University: insitiution of engineering and managment: \n",
      "Department: ['b. tech (cse)']\n",
      "\n",
      "University: st. xavier's college: \n",
      "Department: ['statistics', 'statistics', 'statistics', 'statistics honours', 'statistics', 'statistics', 'honors (bsc/msc)', 'statistics', 'honors (bsc/msc)']\n",
      "\n",
      "University: sister nibedita govt. general degree college for girls: \n",
      "Department: ['statistics honours', 'statistics']\n",
      "\n",
      "University: manipal hospital: \n",
      "Department: ['electrical engineering']\n",
      "\n",
      "University: durgapur institute of advance technology and management: \n",
      "Department: ['btech 4th year on ece department']\n",
      "\n",
      "University: west bengal state university: \n",
      "Department: ['mathematics']\n",
      "\n",
      "University: st. xavier's college , kolkata: \n",
      "Department: ['bsc statistics', 'statistics']\n",
      "\n",
      "University: st. xavier's college, kolkata: \n",
      "Department: ['b. sc. statistics hons.', 'statistics', 'bsc. statistics', 'bsc. statistics', 'b.sc statistics honours', 'b. sc. statistics hons.']\n",
      "\n",
      "University: sks power generation chhattisgarh ltd.: \n",
      "Department: ['thermal power plant engineering']\n",
      "\n",
      "University: lady brabourne college, university of calcutta: \n",
      "Department: ['statistics', 'honors (bsc/msc)']\n",
      "\n",
      "University: university of calcutta: \n",
      "Department: ['m.sc', 'pure mathematics', 'applied mathematics', 'honors (bsc/msc)']\n",
      "\n",
      "University: university college of science & technology, university of calcutta: \n",
      "Department: ['m.sc in applied mathematics']\n",
      "\n",
      "University: vivekananda college, calcutta university: \n",
      "Department: ['honors (bsc/msc)']\n",
      "\n",
      "University: jagannath kishore college,purulia: \n",
      "Department: ['computer science']\n",
      "\n",
      "University: hooghly engineering and technology college: \n",
      "Department: ['b.tech in electronics and communication engineering']\n",
      "\n",
      "University: j.k.college: \n",
      "Department: ['computer science']\n",
      "\n",
      "University: islamic university, kushtia: \n",
      "Department: ['honors (bsc/msc)']\n",
      "\n",
      "University: west bengal university of health sciences: \n",
      "Department: ['dental surgery']\n",
      "\n",
      "University: lady brabourne college: \n",
      "Department: ['honors (bsc/msc)', '3rd year statistics honours', 'honors (bsc/msc)', 'honors (bsc/msc)', 'others', 'honors (bsc/msc)', 'b.sc. in statistics', 'honors (bsc/msc)', 'honors (bsc/msc)', 'sem 3', 'statistics hons', 'statistics (honours)', 'statistics', 'graduate', 'b.sc (hons.) in statistics', 'statistics (hons)', 'statistics honours', 'honors (bsc/msc)', 'honors (bsc/msc)', 'honors (bsc/msc)', 'honors (bsc/msc)', 'honors (bsc/msc)', 'honors (bsc/msc)', 'honors (bsc/msc)', 'honors (bsc/msc)', 'honors (bsc/msc)', 'honors (bsc/msc)', 'honors (bsc/msc)', 'honors (bsc/msc)', 'honors (bsc/msc)', 'honors (bsc/msc)', 'honors (bsc/msc)', 'honors (bsc/msc)', 'honors (bsc/msc)', 'honors (bsc/msc)', 'honors (bsc/msc)', 'honors (bsc/msc)', 'honors (bsc/msc)', 'honors (bsc/msc)', 'honors (bsc/msc)', 'honors (bsc/msc)', 'honors (bsc/msc)', 'honors (bsc/msc)', 'honors (bsc/msc)', 'honors (bsc/msc)', 'honors (bsc/msc)', 'honors (bsc/msc)', 'honors (bsc/msc)', 'honors (bsc/msc)', 'honors (bsc/msc)', 'honors (bsc/msc)', 'honors (bsc/msc)', 'honors (bsc/msc)', 'honors (bsc/msc)', 'honors (bsc/msc)', 'honors (bsc/msc)', 'honors (bsc/msc)', 'honors (bsc/msc)', 'honors (bsc/msc)', 'honors (bsc/msc)', 'honors (bsc/msc)', 'honors (bsc/msc)', 'honors (bsc/msc)', 'honors (bsc/msc)', 'honors (bsc/msc)', 'honors (bsc/msc)', 'honors (bsc/msc)', 'honors (bsc/msc)', 'honors (bsc/msc)', 'honors (bsc/msc)', 'honors (bsc/msc)', 'honors (bsc/msc)', 'honors (bsc/msc)', 'honors (bsc/msc)', 'honors (bsc/msc)', 'honors (bsc/msc)', 'honors (bsc/msc)', 'honors (bsc/msc)', 'honors (bsc/msc)', 'honors (bsc/msc)', 'honors (bsc/msc)', 'honors (bsc/msc)', 'honors (bsc/msc)', 'honors (bsc/msc)', 'honors (bsc/msc)', 'honors (bsc/msc)', 'honors (bsc/msc)', 'honors (bsc/msc)', 'honors (bsc/msc)', 'honors (bsc/msc)', 'honors (bsc/msc)', 'honors (bsc/msc)', 'honors (bsc/msc)', 'honors (bsc/msc)', 'honors (bsc/msc)', 'honors (bsc/msc)', 'honors (bsc/msc)', 'honors (bsc/msc)', 'honors (bsc/msc)', 'honors (bsc/msc)', 'others', 'honors (bsc/msc)', 'honors (bsc/msc)', 'honors (bsc/msc)', 'honors (bsc/msc)', 'honors (bsc/msc)', 'honors (bsc/msc)', 'honors (bsc/msc)', 'honors (bsc/msc)', 'honors (bsc/msc)', 'honors (bsc/msc)', 'honors (bsc/msc)', 'honors (bsc/msc)', 'honors (bsc/msc)', 'honors (bsc/msc)', 'honors (bsc/msc)', 'honors (bsc/msc)', 'honors (bsc/msc)', 'others', 'honors (bsc/msc)', 'honors (bsc/msc)', 'honors (bsc/msc)', 'honors (bsc/msc)', 'honors (bsc/msc)', 'honors (bsc/msc)', 'honors (bsc/msc)']\n",
      "\n",
      "University: institute of engineering and management (iem): \n",
      "Department: ['engineering']\n",
      "\n",
      "University: kalyani mahavidyalaya: \n",
      "Department: ['statistics', 'b.sc statistics', 'statistics', 'b.sc statistics honours', 'statistics honours (b.sc.)', 'statistics honours', 'statistics', 'statistics 2nd semester', 'bsc. in statistics']\n",
      "\n",
      "University: acharya institute of management and sciences: \n",
      "Department: ['bca']\n",
      "\n",
      "University: techno international newtown: \n",
      "Department: ['engineering', 'engineering']\n",
      "\n",
      "University: bethune college: \n",
      "Department: ['statistics', 'honors (bsc/msc)', 'honors (bsc/msc)', 'b.sc.(honours) in statistics', 'honors (bsc/msc)', 'honors (bsc/msc)', 'honors (bsc/msc)', 'mathematics', 'honors (bsc/msc)', 'statistics', 'mathematics', 'msc in pure maths', 'honors (bsc/msc)', 'honors (bsc/msc)']\n",
      "\n",
      "University: isrt , university of dhaka: \n",
      "Department: ['honors (bsc/msc)']\n",
      "\n",
      "University: vivekananda college , cu: \n",
      "Department: ['honors (bsc/msc)']\n",
      "\n",
      "University: nsu: \n",
      "Department: ['honors (bsc/msc)', 'honors (bsc/msc)']\n",
      "\n",
      "University: st xavier's college: \n",
      "Department: ['honors (bsc/msc)', 'statistics', 'bsc statistics hons']\n",
      "\n",
      "University: st xavier's college, kolkata: \n",
      "Department: ['statistics']\n",
      "\n",
      "University: narasinha dutta college: \n",
      "Department: ['msc in applied mathematics', 'applies mathematics']\n",
      "\n",
      "University: american international university bangladesh: \n",
      "Department: ['honors (bsc/msc)', 'engineering', 'engineering', 'engineering']\n",
      "\n",
      "University: jagannath kishore college: \n",
      "Department: ['computer science']\n",
      "\n",
      "University: narasinha dutt college, university of calcutta: \n",
      "Department: ['m.sc. in applied mathematics']\n",
      "\n",
      "University: narasingha dutt college: \n",
      "Department: ['msc mathematics']\n",
      "\n",
      "University: nan: \n",
      "Department: ['engineering', 'ststistics', 'engineering', 'honors (bsc/msc)', 'others', 'honors (bsc/msc)']\n",
      "\n",
      "University: comilla university: \n",
      "Department: ['bba', 'bba']\n",
      "\n",
      "University: techno india saltlake: \n",
      "Department: ['bca']\n",
      "\n",
      "University: st. xavier's college (autonomous) , kolkata: \n",
      "Department: ['b.sc statistics hons.']\n",
      "\n",
      "University: academy of technology: \n",
      "Department: ['mechanical engineer', 'mechanical engineering', 'mechanical engineering', 'me']\n",
      "\n",
      "University: thakurpukur vivekananda college: \n",
      "Department: ['honors (bsc/msc)']\n",
      "\n",
      "University: calcutta university ( ballygaunge science college): \n",
      "Department: ['m.sc in pure mathematics']\n",
      "\n",
      "University: rkmveri belur math: \n",
      "Department: ['msc in mathematics']\n",
      "\n",
      "University: jj glastronics: \n",
      "Department: ['mechanical engineering']\n",
      "\n",
      "University: gauhati university: \n",
      "Department: ['library and information science']\n",
      "\n",
      "University: jadavpur university: \n",
      "Department: ['post graduate (mathematics)', 'mathematics', 'mathematics honours (msc)', 'linear algebra in mathematics', 'm.sc in mathematics', 'mathematics', 'mathematics', 'm.sc in mathematics', 'mathematics', 'mathematics', 'mathematics', 'mathematics', 'mathematics', 'msc in mathematics', 'msc', 'mathematics', 'studying m.sc in mathematics', 'm.sc mathematics']\n",
      "\n",
      "University: basanti devi college: \n",
      "Department: ['statistics honours', 'statistics hons.']\n",
      "\n",
      "University: the international university of scholars: \n",
      "Department: ['engineering']\n",
      "\n",
      "University: london south bank university: \n",
      "Department: ['honors (bsc/msc)']\n",
      "\n",
      "University: north south university: \n",
      "Department: ['honors (bsc/msc)', 'engineering', 'bba', 'bba', 'engineering', 'bba', 'honors (bsc/msc)', 'honors (bsc/msc)', 'engineering']\n",
      "\n",
      "University: bangladesh institute of governance and management (bigm): \n",
      "Department: ['honors (bsc/msc)']\n",
      "\n",
      "University: guru nanak institute of pharmaceutical science and technology: \n",
      "Department: ['microbiology']\n",
      "\n",
      "University: national power training institute durgapur: \n",
      "Department: ['engineering']\n",
      "\n",
      "University: jk college: \n",
      "Department: ['computer science']\n",
      "\n",
      "University: kerala university: \n",
      "Department: ['others']\n",
      "\n",
      "University: npti (er): \n",
      "Department: ['engineering']\n",
      "\n",
      "University: institute of engineering and management: \n",
      "Department: ['electrical engineering']\n",
      "\n",
      "University: bethune college, kolkata: \n",
      "Department: ['honors (bsc/msc)', 'mathematics']\n",
      "\n",
      "University: professional: \n",
      "Department: ['computer science']\n",
      "\n",
      "University: university of dhaka: \n",
      "Department: ['engineering', 'honors (bsc/msc)', 'engineering', 'honors (bsc/msc)', 'honors (bsc/msc)', 'honors (bsc/msc)']\n",
      "\n",
      "University: bharat university, chennai: \n",
      "Department: ['btech']\n",
      "\n",
      "University: north-south university: \n",
      "Department: ['engineering', 'engineering']\n",
      "\n",
      "University: presidency university: \n",
      "Department: ['honors (bsc/msc)', 'honors (bsc/msc)', 'honors (bsc/msc)', 'honors (bsc/msc)', 'statistics', 'honors (bsc/msc)', 'honors (bsc/msc)', 'honors (bsc/msc)', 'honors (bsc/msc)', 'honors (bsc/msc)', 'honors (bsc/msc)', 'honors (bsc/msc)', 'honors (bsc/msc)', 'honors (bsc/msc)', 'honors (bsc/msc)', 'honors (bsc/msc)', 'honors (bsc/msc)', 'honors (bsc/msc)', 'honors (bsc/msc)', 'honors (bsc/msc)', 'honors (bsc/msc)', 'honors (bsc/msc)', 'honors (bsc/msc)', 'honors (bsc/msc)', 'honors (bsc/msc)', 'honors (bsc/msc)', 'honors (bsc/msc)', 'honors (bsc/msc)', 'honors (bsc/msc)', 'honors (bsc/msc)', 'honors (bsc/msc)']\n",
      "\n",
      "University: american international university-bangladesh: \n",
      "Department: ['engineering', 'bba', 'engineering', 'engineering', 'honors (bsc/msc)', 'honors (bsc/msc)']\n",
      "\n",
      "University: vidyasagar college for women: \n",
      "Department: ['mathematics']\n",
      "\n",
      "University: gl bajaj: \n",
      "Department: ['mca']\n",
      "\n",
      "University: national power training institute nagpur: \n",
      "Department: ['power']\n",
      "\n",
      "University: kalyani mahavidyalay: \n",
      "Department: ['statistics']\n",
      "\n",
      "University: bethune: \n",
      "Department: ['honors (bsc/msc)']\n",
      "\n",
      "University: future institute of technology: \n",
      "Department: ['b.tech', 'b.tech(cse)', 'computer science engineering', 'cse', 'b. tech', 'electronics and communications engineering (b.tech)', 'electronics and communication engineering (b.tech))', 'electrical engineering', 'electrical engineering', 'electronics and communication engineering (b.tech)', 'ece', 'b.tech']\n",
      "\n",
      "University: dr. b. c. roy engineering college: \n",
      "Department: ['engineering']\n",
      "\n",
      "University: durgapur institute of advance technology and managment: \n",
      "Department: ['engineering', 'b-tech in ece']\n",
      "\n",
      "University: government college of engineering and leather technology: \n",
      "Department: ['leather technology', 'leather technology']\n",
      "\n",
      "University: n.p.t.i(e.r.): \n",
      "Department: ['engineering']\n",
      "\n",
      "University: indira gandhi national university: \n",
      "Department: ['bca']\n",
      "\n",
      "University: vidyasaagar university: \n",
      "Department: ['applied mathematics in oceanology &computer application']\n",
      "\n",
      "University: mugberia gangadhar mahavidyalaya: \n",
      "Department: ['mathematics']\n",
      "\n",
      "University: dr.b.c.roy engineering college: \n",
      "Department: ['engineering', 'engineering']\n",
      "\n",
      "University: uttarpara amarendra vidyapith: \n",
      "Department: ['h.s passed']\n",
      "\n",
      "University: techno international new town: \n",
      "Department: ['engineering']\n",
      "\n",
      "University: durgapur institute of advanced and technology management: \n",
      "Department: ['byech']\n",
      "\n",
      "University: npti, nagpur: \n",
      "Department: ['power engineering']\n",
      "\n",
      "University: jagannath kishore college, purulia: \n",
      "Department: ['bsc computer science']\n",
      "\n",
      "University: basantidevi college: \n",
      "Department: ['statistics']\n",
      "\n",
      "University: iit,university of dhaka: \n",
      "Department: ['engineering']\n",
      "\n",
      "University: makaut(formely wbut): \n",
      "Department: ['ee']\n",
      "\n",
      "University: american international university- bangladesh: \n",
      "Department: ['engineering']\n",
      "\n",
      "University: shahjalal university of science & technology: \n",
      "Department: ['engineering']\n",
      "\n",
      "University: bangabandhu sheikh mujibur rahman science & technology: \n",
      "Department: ['others']\n",
      "\n",
      "University: bangabandhu sheikh mujibur rahman science & technology university: \n",
      "Department: ['engineering']\n",
      "\n",
      "University: jahangirnagar university: \n",
      "Department: ['honors (bsc/msc)', 'others']\n",
      "\n",
      "University: buet: \n",
      "Department: ['engineering']\n",
      "\n",
      "University: sbpgc: \n",
      "Department: ['engineering']\n",
      "\n",
      "University: north south university (nsu): \n",
      "Department: ['bba', 'bba']\n",
      "\n",
      "University: american international university of bangladesh: \n",
      "Department: ['engineering', 'honors (bsc/msc)']\n",
      "\n",
      "University: public administration: \n",
      "Department: ['honors (bsc/msc)']\n",
      "\n",
      "University: american international university - bangladesh: \n",
      "Department: ['engineering', 'engineering', 'engineering', 'engineering']\n",
      "\n",
      "University: netaji subhas open university: \n",
      "Department: ['m.sc mathematics']\n",
      "\n",
      "University: maulana abul kalam azad university of technology: \n",
      "Department: ['b.tech(cse)', 'b.tech ( cse )', 'b. tech cse', 'b.tech cse', 'computer science and engineering', 'yes', 'b.tech(it)', 'b.tech (it)']\n",
      "\n",
      "University: vidyasagar university: \n",
      "Department: ['msc in applied mathematics', 'mathematics (msc)', 'aplied mathematics with oceanology and computer programming', 'mathematics', 'm.sc in mathematics', 'mathematics']\n",
      "\n",
      "University: national institute of technology warangal: \n",
      "Department: ['applied mathematics']\n",
      "\n",
      "University: ramakrishna mission vidyamandira: \n",
      "Department: ['diploma on travel and tourism management', 'msc - mathematics']\n",
      "\n",
      "University: notre dame universitybangladesh: \n",
      "Department: ['engineering']\n",
      "\n",
      "University: indian institute of engineering science and technology shibpur: \n",
      "Department: ['engineering']\n",
      "\n",
      "University: ahsanullah university of science and technology: \n",
      "Department: ['engineering', 'engineering']\n",
      "\n",
      "University: chittaranjan college, kolkata: \n",
      "Department: ['mathematics']\n",
      "\n",
      "University: bangalore university: \n",
      "Department: ['mathematics']\n",
      "\n",
      "University: institution / organization / college name: \n",
      "Department: ['filed of study']\n",
      "\n",
      "University: university of liberal arts: \n",
      "Department: ['engineering']\n",
      "\n",
      "University: university of liberal arts bangladesh: \n",
      "Department: ['engineering']\n",
      "\n",
      "University: dyal singh college (day): \n",
      "Department: ['others']\n",
      "\n",
      "University: diatm durgapur: \n",
      "Department: ['ece', 'computer science and engineering']\n",
      "\n",
      "University: maulana abul kalam azad university of technology, w.b: \n",
      "Department: ['b.tech in cse']\n",
      "\n",
      "University: christ university: \n",
      "Department: ['msc data science']\n",
      "\n",
      "University: durgapur institute of advanced technology: \n",
      "Department: ['btech electronics and communication']\n",
      "\n",
      "University: american international university of bangladesh (aiub): \n",
      "Department: ['engineering']\n",
      "\n",
      "University: rcc institute of information technology: \n",
      "Department: ['electrical engineering']\n",
      "\n",
      "University: belda college: \n",
      "Department: ['m.sc in applied mathematics (2nd sem)']\n",
      "\n",
      "University: futuretech private iti: \n",
      "Department: ['electrician']\n",
      "\n",
      "University: j.k. college: \n",
      "Department: ['comp sc.']\n",
      "\n",
      "University: brabu: \n",
      "Department: ['m.sc(electronics)']\n",
      "\n",
      "University: burdwan university: \n",
      "Department: ['economics', 'others', 'others']\n",
      "\n",
      "University: global engineering college: \n",
      "Department: ['b tech']\n",
      "\n",
      "University: prabhat kumar college: \n",
      "Department: ['b.sc honours (computer science)']\n",
      "\n",
      "University: calcutta university: \n",
      "Department: ['bsc(state )', 'honors (bsc/msc)']\n",
      "\n",
      "University: st.xavier's college,kolkata: \n",
      "Department: ['statistics']\n",
      "\n",
      "University: shibpur dinobondhoo institution (college): \n",
      "Department: ['b.sc , honours in maths']\n",
      "\n",
      "University: durgapur institute of advanced technology and managemant rajbandh: \n",
      "Department: [\"b-tech (ece 2'nd year)\"]\n",
      "\n",
      "University: vivekananda college thakurpukur: \n",
      "Department: ['bsc statistics honours']\n",
      "\n",
      "University: st. xavier's college kolkata: \n",
      "Department: ['statistics']\n",
      "\n",
      "University: university of mumbai: \n",
      "Department: ['engineering']\n",
      "\n",
      "University: durgapur institute of advancedpur technology and management: \n",
      "Department: ['engineering']\n",
      "\n",
      "University: st. xavier's college (autonomous), kolkata.: \n",
      "Department: ['bsc. statistics hons.']\n",
      "\n",
      "University: omdayal group of institutions: \n",
      "Department: ['computer science and engineering']\n",
      "\n",
      "University: st.xavier's college kolkata: \n",
      "Department: ['honors (bsc/msc)']\n",
      "\n",
      "University: amta ramsaday college: \n",
      "Department: ['bsc. hons']\n",
      "\n",
      "University: diatm, durgapur: \n",
      "Department: ['mechanical']\n",
      "\n",
      "University: asansol engineering college: \n",
      "Department: ['electrical engineering']\n",
      "\n",
      "University: vivekananda college,thakurpukur: \n",
      "Department: ['bsc statistics hons', 'b.sc statistics honours']\n",
      "\n",
      "University: durgapur institute of advanced technology & management: \n",
      "Department: ['b.tech (ece)']\n",
      "\n",
      "University: victoria institution: \n",
      "Department: ['bsc physics honours']\n",
      "\n",
      "University: corporate institute of pharmacy: \n",
      "Department: ['b. pharmacy', 'b. pharmacy']\n",
      "\n",
      "University: amity university kolkata: \n",
      "Department: ['computer science engineering']\n",
      "\n",
      "University: national power training institute (e.r) durgapur: \n",
      "Department: ['power engineering']\n",
      "\n",
      "University: st xavier's college kolkata: \n",
      "Department: ['statistics']\n",
      "\n",
      "University: at. xavier's college: \n",
      "Department: ['statistics']\n",
      "\n",
      "University: bethune colege: \n",
      "Department: ['honors (bsc/msc)']\n",
      "\n",
      "University: hffc: \n",
      "Department: ['engineering']\n",
      "\n",
      "University: maulana azad college, kolkata: \n",
      "Department: ['b.sc statistics honours', 'statistics', 'honors (bsc/msc)', 'honors (bsc/msc)']\n",
      "\n",
      "University: lalbaba college: \n",
      "Department: ['b.sc']\n",
      "\n",
      "University: aliah university: \n",
      "Department: ['honors (bsc/msc)']\n",
      "\n",
      "University: nist: \n",
      "Department: ['it']\n",
      "\n",
      "University: green university of bangladesh: \n",
      "Department: ['engineering']\n",
      "\n",
      "University: 1998: \n",
      "Department: ['statistics']\n",
      "\n",
      "University: raja peary mohan college: \n",
      "Department: ['did my graduation on mathematics', 'bsc math honours']\n",
      "\n",
      "University: national institute of science and technology,berhampur: \n",
      "Department: ['electrical and electronics engineering', 'eee']\n",
      "\n",
      "University: international university of scholarsh: \n",
      "Department: ['engineering']\n",
      "\n",
      "University: brac university: \n",
      "Department: ['engineering', 'honors (bsc/msc)', 'engineering']\n",
      "\n",
      "University: central university of jharkhand: \n",
      "Department: ['energy engineering']\n",
      "\n",
      "University: vidyasagar university, medinipur: \n",
      "Department: ['msc in applied mathematics']\n",
      "\n",
      "University: uits: \n",
      "Department: ['honors (bsc/msc)']\n",
      "\n",
      "University: independent university, bangladesh: \n",
      "Department: ['engineering']\n",
      "\n",
      "University: the new horizons institute of technology: \n",
      "Department: ['engineering']\n",
      "\n",
      "University: jogomaya devi college: \n",
      "Department: ['mathematics honours']\n",
      "\n",
      "University: rgpv: \n",
      "Department: ['computer science']\n",
      "\n",
      "University: surendranath college: \n",
      "Department: ['r']\n",
      "\n",
      "University: asutosh college, kolkata: \n",
      "Department: ['statistics']\n",
      "\n",
      "University: raja peary mohan college, uttarpara: \n",
      "Department: ['mathematics']\n",
      "\n",
      "University: seacom engineering college: \n",
      "Department: ['computer science engineering']\n",
      "\n",
      "University: zoom international: \n",
      "Department: ['others']\n",
      "\n",
      "University: narula institute of technology: \n",
      "Department: ['engineering', 'engineering', 'engineering']\n",
      "\n",
      "University: aot: \n",
      "Department: ['mca']\n",
      "\n",
      "University: national power training institute: \n",
      "Department: ['power plant engineering', 'instrumentation engineer']\n",
      "\n",
      "University: rkmveri (belur campus): \n",
      "Department: ['mathematics']\n",
      "\n",
      "University: durgapur instute of advance technology and management: \n",
      "Department: ['engineering']\n",
      "\n",
      "University: ramakrishna mission vivekananda educational and research institute: \n",
      "Department: ['m.sc in mathematics', 'mathematics msc.']\n",
      "\n",
      "University: st. xavier's college (autonomous),kolkata: \n",
      "Department: ['honors (bsc/msc)']\n",
      "\n",
      "University: ashutosh college: \n",
      "Department: ['r']\n",
      "\n",
      "University: college of engineering roorkee: \n",
      "Department: [\"bachelor's of computer applications\"]\n",
      "\n",
      "University: national power training institute ( e.r ): \n",
      "Department: ['power engineering']\n",
      "\n",
      "University: rkmveri, belur math: \n",
      "Department: ['msc. mathematics']\n",
      "\n",
      "University: techno india salt lake: \n",
      "Department: ['bca']\n",
      "\n",
      "University: islamic university of technology (iut): \n",
      "Department: ['engineering']\n",
      "\n",
      "University: bangladesh agricultural research institute: \n",
      "Department: ['honors (bsc/msc)']\n",
      "\n",
      "University: bidhannagar college: \n",
      "Department: ['statistics', 'statistics honours', 'physics']\n",
      "\n",
      "University: sir gurudas mahavidyalaya: \n",
      "Department: ['b.sc.']\n",
      "\n",
      "University: durgapur institute of advanced technology and manegement: \n",
      "Department: ['engineering']\n",
      "\n",
      "University: jadavpuruniversity: \n",
      "Department: ['msc mathematics']\n",
      "\n",
      "University: vidyasagar college: \n",
      "Department: ['3rd year mathematics honours']\n",
      "\n",
      "University: national institute of science and technology: \n",
      "Department: ['electrical engineering']\n",
      "\n",
      "University: visvabharati university: \n",
      "Department: ['msc statistics']\n",
      "\n",
      "University: international university of scholars: \n",
      "Department: ['honors (bsc/msc)']\n",
      "\n",
      "University: new alipore college: \n",
      "Department: ['independent cyber security researcher']\n",
      "\n",
      "University: university of chittagong: \n",
      "Department: ['others']\n",
      "\n",
      "University: shibpur dinobundhoo institution: \n",
      "Department: ['honors (bsc/msc)']\n",
      "\n",
      "University: iub: \n",
      "Department: ['bba']\n",
      "\n",
      "University: uttara university: \n",
      "Department: ['engineering']\n",
      "\n",
      "University: b. p. poddar institute of management and technology: \n",
      "Department: ['others', 'others', 'others', 'others']\n",
      "\n",
      "University: b. p. poddar institute of technology and management: \n",
      "Department: ['others']\n",
      "\n",
      "University: b.p. poddar institute of management and technology: \n",
      "Department: ['others', 'others', 'others', 'others', 'others', 'others', 'others', 'others', 'others', 'others']\n",
      "\n",
      "University: b.p.poddar institution of management & technology: \n",
      "Department: ['others']\n",
      "\n",
      "University: b.p.poddar institute of management and technology: \n",
      "Department: ['others', 'others', 'others', 'others', 'others', 'others', 'others']\n",
      "\n",
      "University: b p poddar institute of management and technology: \n",
      "Department: ['others', 'others', 'others', 'others']\n",
      "\n",
      "University: b.p.podder institute of management and technology: \n",
      "Department: ['others']\n",
      "\n",
      "University: b. p. poddar institute of management & technology: \n",
      "Department: ['others']\n",
      "\n",
      "University: home: \n",
      "Department: ['others']\n",
      "\n",
      "University: bppimt: \n",
      "Department: ['others', 'others', 'others']\n",
      "\n",
      "University: dr. b.c.roy engineering college: \n",
      "Department: ['engineering']\n",
      "\n",
      "University: b.p poddar institute of management and technology: \n",
      "Department: ['others', 'bca', 'others', 'others', 'others']\n",
      "\n",
      "University: b p poddar institute of management & technology: \n",
      "Department: ['others']\n",
      "\n",
      "University: b.p poddar institute of management & technology: \n",
      "Department: ['others']\n",
      "\n",
      "University: bp poddar institute of management and technology: \n",
      "Department: ['others', 'others']\n",
      "\n",
      "University: b.p.poddar institute of management & technology: \n",
      "Department: ['others']\n",
      "\n",
      "University: b.p.podder institute: \n",
      "Department: ['others']\n",
      "\n",
      "University: b p podder institute of management and technology: \n",
      "Department: ['others']\n",
      "\n",
      "University: b.p.p.i.m.t: \n",
      "Department: ['others']\n",
      "\n",
      "University: durgapur women's college: \n",
      "Department: ['honors (bsc/msc)', 'honors (bsc/msc)', 'others', 'others', 'honors (bsc/msc)', 'others', 'others', 'honors (bsc/msc)', 'others', 'others', 'honors (bsc/msc)', 'others', 'others', 'bba', 'others', 'others', 'honors (bsc/msc)', 'others', 'others', 'honors (bsc/msc)', 'honors (bsc/msc)', 'others', 'others', 'others', 'others', 'others', 'honors (bsc/msc)', 'honors (bsc/msc)', 'honors (bsc/msc)', 'others']\n",
      "\n",
      "University: duragpur women's college: \n",
      "Department: ['others']\n",
      "\n",
      "University: aasansol girls' college: \n",
      "Department: ['others']\n",
      "\n",
      "University: durgapur womens college: \n",
      "Department: ['honors (bsc/msc)']\n",
      "\n",
      "University: durgapur government college: \n",
      "Department: ['others', 'others', 'others', 'honors (bsc/msc)', 'others', 'others']\n",
      "\n",
      "University: durgapur women's collage: \n",
      "Department: ['others']\n",
      "\n",
      "University: durgapur women's college kazi nazrul university: \n",
      "Department: ['others']\n",
      "\n",
      "University: college name - durgapur womens college: \n",
      "Department: ['others']\n",
      "\n",
      "University: raniganj girls' college: \n",
      "Department: ['honors (bsc/msc)']\n",
      "\n",
      "University: kaji najrul invercity: \n",
      "Department: ['bca']\n",
      "\n",
      "University: durgapur woman's college: \n",
      "Department: ['others']\n",
      "\n",
      "University: akpc mahavidyalaya: \n",
      "Department: ['others']\n",
      "\n",
      "University: university of burdwan: \n",
      "Department: ['others']\n",
      "\n",
      "University: durgapur women college: \n",
      "Department: ['engineering']\n",
      "\n",
      "University: women's collage: \n",
      "Department: ['others']\n",
      "\n",
      "University: dr bc roy engineering & management college , durgapur: \n",
      "Department: ['bba']\n",
      "\n",
      "University: regent education and research foundation: \n",
      "Department: ['engineering', 'engineering', 'engineering', 'engineering', 'engineering', 'engineering', 'engineering', 'engineering', 'engineering', 'engineering', 'engineering', 'engineering', 'engineering', 'engineering', 'engineering', 'engineering', 'engineering', 'engineering', 'engineering', 'engineering', 'engineering', 'engineering', 'engineering', 'engineering', 'engineering', 'engineering', 'engineering', 'engineering', 'engineering', 'engineering', 'engineering', 'engineering', 'engineering', 'engineering', 'engineering', 'engineering', 'engineering', 'engineering', 'engineering', 'engineering', 'engineering', 'engineering', 'engineering', 'engineering', 'engineering', 'engineering', 'engineering', 'engineering', 'engineering', 'engineering', 'engineering', 'engineering', 'engineering', 'engineering', 'engineering', 'engineering', 'engineering', 'engineering', 'engineering', 'engineering', 'engineering', 'engineering', 'engineering', 'engineering', 'engineering', 'engineering', 'engineering', 'engineering', 'engineering', 'engineering', 'engineering']\n",
      "\n",
      "University: regent education&research foundation: \n",
      "Department: ['engineering', 'engineering']\n",
      "\n",
      "University: regent education & research foundation: \n",
      "Department: ['engineering', 'engineering', 'engineering', 'engineering', 'engineering', 'engineering', 'engineering', 'engineering', 'engineering', 'engineering', 'engineering', 'engineering', 'engineering']\n",
      "\n",
      "University: regent education & research foundation barrackpore: \n",
      "Department: ['engineering']\n",
      "\n",
      "University: rerf: \n",
      "Department: ['engineering', 'engineering', 'engineering', 'engineering', 'engineering', 'engineering', 'engineering', 'engineering']\n",
      "\n",
      "University: regent education and reseach foundation: \n",
      "Department: ['engineering']\n",
      "\n",
      "University: regent education & research foundation group of institutions: \n",
      "Department: ['engineering', 'engineering']\n",
      "\n",
      "University: regent education and research foundation group of institutions: \n",
      "Department: ['engineering', 'engineering', 'engineering']\n",
      "\n",
      "University: regent education research and foundation: \n",
      "Department: ['engineering']\n",
      "\n",
      "University: regent education and research foundation institution: \n",
      "Department: ['engineering']\n",
      "\n",
      "University: regent education and research foundation(group of institution): \n",
      "Department: ['engineering']\n",
      "\n",
      "University: regent education &research foundation: \n",
      "Department: ['engineering']\n",
      "\n",
      "University: regent education &research foundation group of institutions: \n",
      "Department: ['engineering', 'engineering']\n",
      "\n",
      "University: regent education and research foundarion group of institute: \n",
      "Department: ['engineering']\n",
      "\n",
      "University: regent education and research foundation group of institution: \n",
      "Department: ['engineering']\n",
      "\n",
      "University: rrerf: \n",
      "Department: ['engineering']\n",
      "\n",
      "University: presidency university, kolkata: \n",
      "Department: ['honors (bsc/msc)', 'honors (bsc/msc)', 'honors (bsc/msc)']\n",
      "\n",
      "University: lady braborne college: \n",
      "Department: ['honors (bsc/msc)']\n",
      "\n",
      "University: hyderabad central university: \n",
      "Department: ['honors (bsc/msc)']\n",
      "\n",
      "University: indian institute of foreign trade,kolkata: \n",
      "Department: ['honors (bsc/msc)']\n",
      "\n",
      "University: lady brabourne college, kolkata: \n",
      "Department: ['honors (bsc/msc)', 'honors (bsc/msc)', 'honors (bsc/msc)', 'honors (bsc/msc)']\n",
      "\n",
      "University: lady brabourne college, calcutta university: \n",
      "Department: ['honors (bsc/msc)']\n",
      "\n",
      "University: lady braboune college: \n",
      "Department: ['honors (bsc/msc)']\n",
      "\n",
      "University: lady brabourne college, c.u.: \n",
      "Department: ['others']\n",
      "\n",
      "University: st.xavier's college (autonomous), kolkata: \n",
      "Department: ['honors (bsc/msc)']\n",
      "\n",
      "University: st. xavier's university: \n",
      "Department: ['honors (bsc/msc)']\n",
      "\n",
      "University: indira gandhi institute of development research: \n",
      "Department: ['others']\n",
      "\n",
      "University: igidr: \n",
      "Department: ['honors (bsc/msc)']\n",
      "\n",
      "University: gokhale institute of politics and economics: \n",
      "Department: ['honors (bsc/msc)', 'honors (bsc/msc)']\n",
      "\n",
      "University: lady brabourne: \n",
      "Department: ['honors (bsc/msc)']\n",
      "\n",
      "University: ladybrabourne college: \n",
      "Department: ['honors (bsc/msc)']\n",
      "\n",
      "University: lady braboune collage: \n",
      "Department: ['honors (bsc/msc)']\n",
      "\n",
      "University: moulana azad college: \n",
      "Department: ['honors (bsc/msc)', 'honors (bsc/msc)']\n",
      "\n",
      "University: maulana azad college kolkata: \n",
      "Department: ['honors (bsc/msc)']\n",
      "\n",
      "University: moulana azad collage: \n",
      "Department: ['honors (bsc/msc)']\n",
      "\n",
      "University: maulana azad college, university of calcutta: \n",
      "Department: ['honors (bsc/msc)']\n",
      "\n",
      "University: mac: \n",
      "Department: ['honors (bsc/msc)']\n",
      "\n",
      "University: maulana azad collehe: \n",
      "Department: ['honors (bsc/msc)']\n",
      "\n",
      "University: seth anandram jaipuria college: \n",
      "Department: ['honors (bsc/msc)']\n",
      "\n",
      "University: maulona azad college: \n",
      "Department: ['honors (bsc/msc)']\n",
      "\n"
     ]
    }
   ],
   "source": [
    "#Total department under a university \n",
    "for v in unique:\n",
    "    departments = df4.loc[df4.College == v, 'Department'].values\n",
    "    print(f\"University: {v}: \\nDepartment: {list(departments)}\\n\")"
   ]
  },
  {
   "cell_type": "code",
   "execution_count": 33,
   "metadata": {},
   "outputs": [
    {
     "data": {
      "text/html": [
       "<div>\n",
       "<style scoped>\n",
       "    .dataframe tbody tr th:only-of-type {\n",
       "        vertical-align: middle;\n",
       "    }\n",
       "\n",
       "    .dataframe tbody tr th {\n",
       "        vertical-align: top;\n",
       "    }\n",
       "\n",
       "    .dataframe thead th {\n",
       "        text-align: right;\n",
       "    }\n",
       "</style>\n",
       "<table border=\"1\" class=\"dataframe\">\n",
       "  <thead>\n",
       "    <tr style=\"text-align: right;\">\n",
       "      <th></th>\n",
       "      <th>counts</th>\n",
       "    </tr>\n",
       "    <tr>\n",
       "      <th>College</th>\n",
       "      <th></th>\n",
       "    </tr>\n",
       "  </thead>\n",
       "  <tbody>\n",
       "    <tr>\n",
       "      <th>1998</th>\n",
       "      <td>1</td>\n",
       "    </tr>\n",
       "    <tr>\n",
       "      <th>aasansol girls' college</th>\n",
       "      <td>1</td>\n",
       "    </tr>\n",
       "    <tr>\n",
       "      <th>academy of technology</th>\n",
       "      <td>4</td>\n",
       "    </tr>\n",
       "    <tr>\n",
       "      <th>acharya institute of management and sciences</th>\n",
       "      <td>1</td>\n",
       "    </tr>\n",
       "    <tr>\n",
       "      <th>ahsanullah university of science and technology</th>\n",
       "      <td>2</td>\n",
       "    </tr>\n",
       "    <tr>\n",
       "      <th>...</th>\n",
       "      <td>...</td>\n",
       "    </tr>\n",
       "    <tr>\n",
       "      <th>vivekananda college,thakurpukur</th>\n",
       "      <td>2</td>\n",
       "    </tr>\n",
       "    <tr>\n",
       "      <th>west bengal state university</th>\n",
       "      <td>1</td>\n",
       "    </tr>\n",
       "    <tr>\n",
       "      <th>west bengal university of health sciences</th>\n",
       "      <td>1</td>\n",
       "    </tr>\n",
       "    <tr>\n",
       "      <th>women's collage</th>\n",
       "      <td>1</td>\n",
       "    </tr>\n",
       "    <tr>\n",
       "      <th>zoom international</th>\n",
       "      <td>1</td>\n",
       "    </tr>\n",
       "  </tbody>\n",
       "</table>\n",
       "<p>297 rows × 1 columns</p>\n",
       "</div>"
      ],
      "text/plain": [
       "                                                 counts\n",
       "College                                                \n",
       "1998                                                  1\n",
       "aasansol girls' college                               1\n",
       "academy of technology                                 4\n",
       "acharya institute of management and sciences          1\n",
       "ahsanullah university of science and technology       2\n",
       "...                                                 ...\n",
       "vivekananda college,thakurpukur                       2\n",
       "west bengal state university                          1\n",
       "west bengal university of health sciences             1\n",
       "women's collage                                       1\n",
       "zoom international                                    1\n",
       "\n",
       "[297 rows x 1 columns]"
      ]
     },
     "execution_count": 33,
     "metadata": {},
     "output_type": "execute_result"
    }
   ],
   "source": [
    "# total college counts attend free session \n",
    "college.rename(columns={\"College\": \"counts\"},inplace=True)\n",
    "college"
   ]
  },
  {
   "cell_type": "code",
   "execution_count": 34,
   "metadata": {},
   "outputs": [
    {
     "data": {
      "text/html": [
       "<div>\n",
       "<style scoped>\n",
       "    .dataframe tbody tr th:only-of-type {\n",
       "        vertical-align: middle;\n",
       "    }\n",
       "\n",
       "    .dataframe tbody tr th {\n",
       "        vertical-align: top;\n",
       "    }\n",
       "\n",
       "    .dataframe thead th {\n",
       "        text-align: right;\n",
       "    }\n",
       "</style>\n",
       "<table border=\"1\" class=\"dataframe\">\n",
       "  <thead>\n",
       "    <tr style=\"text-align: right;\">\n",
       "      <th></th>\n",
       "      <th>College</th>\n",
       "      <th>counts</th>\n",
       "    </tr>\n",
       "  </thead>\n",
       "  <tbody>\n",
       "    <tr>\n",
       "      <th>0</th>\n",
       "      <td>1998</td>\n",
       "      <td>1</td>\n",
       "    </tr>\n",
       "    <tr>\n",
       "      <th>1</th>\n",
       "      <td>aasansol girls' college</td>\n",
       "      <td>1</td>\n",
       "    </tr>\n",
       "    <tr>\n",
       "      <th>2</th>\n",
       "      <td>academy of technology</td>\n",
       "      <td>4</td>\n",
       "    </tr>\n",
       "    <tr>\n",
       "      <th>3</th>\n",
       "      <td>acharya institute of management and sciences</td>\n",
       "      <td>1</td>\n",
       "    </tr>\n",
       "    <tr>\n",
       "      <th>4</th>\n",
       "      <td>ahsanullah university of science and technology</td>\n",
       "      <td>2</td>\n",
       "    </tr>\n",
       "    <tr>\n",
       "      <th>...</th>\n",
       "      <td>...</td>\n",
       "      <td>...</td>\n",
       "    </tr>\n",
       "    <tr>\n",
       "      <th>292</th>\n",
       "      <td>vivekananda college,thakurpukur</td>\n",
       "      <td>2</td>\n",
       "    </tr>\n",
       "    <tr>\n",
       "      <th>293</th>\n",
       "      <td>west bengal state university</td>\n",
       "      <td>1</td>\n",
       "    </tr>\n",
       "    <tr>\n",
       "      <th>294</th>\n",
       "      <td>west bengal university of health sciences</td>\n",
       "      <td>1</td>\n",
       "    </tr>\n",
       "    <tr>\n",
       "      <th>295</th>\n",
       "      <td>women's collage</td>\n",
       "      <td>1</td>\n",
       "    </tr>\n",
       "    <tr>\n",
       "      <th>296</th>\n",
       "      <td>zoom international</td>\n",
       "      <td>1</td>\n",
       "    </tr>\n",
       "  </tbody>\n",
       "</table>\n",
       "<p>297 rows × 2 columns</p>\n",
       "</div>"
      ],
      "text/plain": [
       "                                             College  counts\n",
       "0                                               1998       1\n",
       "1                            aasansol girls' college       1\n",
       "2                              academy of technology       4\n",
       "3       acharya institute of management and sciences       1\n",
       "4    ahsanullah university of science and technology       2\n",
       "..                                               ...     ...\n",
       "292                  vivekananda college,thakurpukur       2\n",
       "293                     west bengal state university       1\n",
       "294        west bengal university of health sciences       1\n",
       "295                                  women's collage       1\n",
       "296                               zoom international       1\n",
       "\n",
       "[297 rows x 2 columns]"
      ]
     },
     "execution_count": 34,
     "metadata": {},
     "output_type": "execute_result"
    }
   ],
   "source": [
    "# college index converted to dataframe columns\n",
    "college.reset_index(inplace= True)\n",
    "college"
   ]
  },
  {
   "cell_type": "markdown",
   "metadata": {},
   "source": [
    "# Here is a problem we can see that most of the college name are repating. For Example Lady Brabourne College are present 4 times also has the individual counts. "
   ]
  },
  {
   "cell_type": "code",
   "execution_count": 35,
   "metadata": {},
   "outputs": [
    {
     "data": {
      "text/html": [
       "<div>\n",
       "<style scoped>\n",
       "    .dataframe tbody tr th:only-of-type {\n",
       "        vertical-align: middle;\n",
       "    }\n",
       "\n",
       "    .dataframe tbody tr th {\n",
       "        vertical-align: top;\n",
       "    }\n",
       "\n",
       "    .dataframe thead th {\n",
       "        text-align: right;\n",
       "    }\n",
       "</style>\n",
       "<table border=\"1\" class=\"dataframe\">\n",
       "  <thead>\n",
       "    <tr style=\"text-align: right;\">\n",
       "      <th></th>\n",
       "      <th>College</th>\n",
       "      <th>counts</th>\n",
       "    </tr>\n",
       "  </thead>\n",
       "  <tbody>\n",
       "    <tr>\n",
       "      <th>2</th>\n",
       "      <td>academy of technology</td>\n",
       "      <td>4</td>\n",
       "    </tr>\n",
       "    <tr>\n",
       "      <th>5</th>\n",
       "      <td>aiub</td>\n",
       "      <td>12</td>\n",
       "    </tr>\n",
       "    <tr>\n",
       "      <th>8</th>\n",
       "      <td>american international university - bangladesh</td>\n",
       "      <td>4</td>\n",
       "    </tr>\n",
       "    <tr>\n",
       "      <th>9</th>\n",
       "      <td>american international university bangladesh</td>\n",
       "      <td>4</td>\n",
       "    </tr>\n",
       "    <tr>\n",
       "      <th>13</th>\n",
       "      <td>american international university-bangladesh</td>\n",
       "      <td>6</td>\n",
       "    </tr>\n",
       "    <tr>\n",
       "      <th>19</th>\n",
       "      <td>asutosh college</td>\n",
       "      <td>22</td>\n",
       "    </tr>\n",
       "    <tr>\n",
       "      <th>23</th>\n",
       "      <td>b p poddar institute of management and technology</td>\n",
       "      <td>4</td>\n",
       "    </tr>\n",
       "    <tr>\n",
       "      <th>26</th>\n",
       "      <td>b. p. poddar institute of management and techn...</td>\n",
       "      <td>4</td>\n",
       "    </tr>\n",
       "    <tr>\n",
       "      <th>29</th>\n",
       "      <td>b.p poddar institute of management and technology</td>\n",
       "      <td>5</td>\n",
       "    </tr>\n",
       "    <tr>\n",
       "      <th>30</th>\n",
       "      <td>b.p. poddar institute of management and techno...</td>\n",
       "      <td>10</td>\n",
       "    </tr>\n",
       "    <tr>\n",
       "      <th>33</th>\n",
       "      <td>b.p.poddar institute of management and technology</td>\n",
       "      <td>7</td>\n",
       "    </tr>\n",
       "    <tr>\n",
       "      <th>47</th>\n",
       "      <td>bethune college</td>\n",
       "      <td>14</td>\n",
       "    </tr>\n",
       "    <tr>\n",
       "      <th>50</th>\n",
       "      <td>bidhannagar college</td>\n",
       "      <td>3</td>\n",
       "    </tr>\n",
       "    <tr>\n",
       "      <th>52</th>\n",
       "      <td>bppimt</td>\n",
       "      <td>3</td>\n",
       "    </tr>\n",
       "    <tr>\n",
       "      <th>54</th>\n",
       "      <td>brac university</td>\n",
       "      <td>3</td>\n",
       "    </tr>\n",
       "    <tr>\n",
       "      <th>56</th>\n",
       "      <td>burdwan university</td>\n",
       "      <td>3</td>\n",
       "    </tr>\n",
       "    <tr>\n",
       "      <th>69</th>\n",
       "      <td>diatm</td>\n",
       "      <td>5</td>\n",
       "    </tr>\n",
       "    <tr>\n",
       "      <th>77</th>\n",
       "      <td>durgapur government college</td>\n",
       "      <td>6</td>\n",
       "    </tr>\n",
       "    <tr>\n",
       "      <th>84</th>\n",
       "      <td>durgapur institute of advanced technology and ...</td>\n",
       "      <td>12</td>\n",
       "    </tr>\n",
       "    <tr>\n",
       "      <th>91</th>\n",
       "      <td>durgapur women's college</td>\n",
       "      <td>30</td>\n",
       "    </tr>\n",
       "    <tr>\n",
       "      <th>96</th>\n",
       "      <td>future institute of technology</td>\n",
       "      <td>12</td>\n",
       "    </tr>\n",
       "    <tr>\n",
       "      <th>132</th>\n",
       "      <td>jadavpur university</td>\n",
       "      <td>18</td>\n",
       "    </tr>\n",
       "    <tr>\n",
       "      <th>143</th>\n",
       "      <td>kalyani mahavidyalaya</td>\n",
       "      <td>9</td>\n",
       "    </tr>\n",
       "    <tr>\n",
       "      <th>149</th>\n",
       "      <td>lady brabourne college</td>\n",
       "      <td>126</td>\n",
       "    </tr>\n",
       "    <tr>\n",
       "      <th>152</th>\n",
       "      <td>lady brabourne college, kolkata</td>\n",
       "      <td>4</td>\n",
       "    </tr>\n",
       "    <tr>\n",
       "      <th>160</th>\n",
       "      <td>maulana abul kalam azad university of technology</td>\n",
       "      <td>8</td>\n",
       "    </tr>\n",
       "    <tr>\n",
       "      <th>162</th>\n",
       "      <td>maulana azad college</td>\n",
       "      <td>100</td>\n",
       "    </tr>\n",
       "    <tr>\n",
       "      <th>164</th>\n",
       "      <td>maulana azad college, kolkata</td>\n",
       "      <td>4</td>\n",
       "    </tr>\n",
       "    <tr>\n",
       "      <th>172</th>\n",
       "      <td>nan</td>\n",
       "      <td>6</td>\n",
       "    </tr>\n",
       "    <tr>\n",
       "      <th>174</th>\n",
       "      <td>narasinha dutt college</td>\n",
       "      <td>10</td>\n",
       "    </tr>\n",
       "    <tr>\n",
       "      <th>179</th>\n",
       "      <td>narula institute of technology</td>\n",
       "      <td>3</td>\n",
       "    </tr>\n",
       "    <tr>\n",
       "      <th>192</th>\n",
       "      <td>north south university</td>\n",
       "      <td>9</td>\n",
       "    </tr>\n",
       "    <tr>\n",
       "      <th>201</th>\n",
       "      <td>presidency university</td>\n",
       "      <td>31</td>\n",
       "    </tr>\n",
       "    <tr>\n",
       "      <th>202</th>\n",
       "      <td>presidency university, kolkata</td>\n",
       "      <td>3</td>\n",
       "    </tr>\n",
       "    <tr>\n",
       "      <th>214</th>\n",
       "      <td>regent education &amp; research foundation</td>\n",
       "      <td>13</td>\n",
       "    </tr>\n",
       "    <tr>\n",
       "      <th>221</th>\n",
       "      <td>regent education and research foundation</td>\n",
       "      <td>71</td>\n",
       "    </tr>\n",
       "    <tr>\n",
       "      <th>223</th>\n",
       "      <td>regent education and research foundation group...</td>\n",
       "      <td>3</td>\n",
       "    </tr>\n",
       "    <tr>\n",
       "      <th>228</th>\n",
       "      <td>rerf</td>\n",
       "      <td>8</td>\n",
       "    </tr>\n",
       "    <tr>\n",
       "      <th>245</th>\n",
       "      <td>st xavier's college</td>\n",
       "      <td>3</td>\n",
       "    </tr>\n",
       "    <tr>\n",
       "      <th>248</th>\n",
       "      <td>st. xavier's college</td>\n",
       "      <td>9</td>\n",
       "    </tr>\n",
       "    <tr>\n",
       "      <th>254</th>\n",
       "      <td>st. xavier's college, kolkata</td>\n",
       "      <td>6</td>\n",
       "    </tr>\n",
       "    <tr>\n",
       "      <th>272</th>\n",
       "      <td>university of calcutta</td>\n",
       "      <td>4</td>\n",
       "    </tr>\n",
       "    <tr>\n",
       "      <th>274</th>\n",
       "      <td>university of dhaka</td>\n",
       "      <td>6</td>\n",
       "    </tr>\n",
       "    <tr>\n",
       "      <th>284</th>\n",
       "      <td>vidyasagar university</td>\n",
       "      <td>6</td>\n",
       "    </tr>\n",
       "    <tr>\n",
       "      <th>288</th>\n",
       "      <td>vivekananda college</td>\n",
       "      <td>12</td>\n",
       "    </tr>\n",
       "  </tbody>\n",
       "</table>\n",
       "</div>"
      ],
      "text/plain": [
       "                                               College  counts\n",
       "2                                academy of technology       4\n",
       "5                                                 aiub      12\n",
       "8       american international university - bangladesh       4\n",
       "9         american international university bangladesh       4\n",
       "13        american international university-bangladesh       6\n",
       "19                                     asutosh college      22\n",
       "23   b p poddar institute of management and technology       4\n",
       "26   b. p. poddar institute of management and techn...       4\n",
       "29   b.p poddar institute of management and technology       5\n",
       "30   b.p. poddar institute of management and techno...      10\n",
       "33   b.p.poddar institute of management and technology       7\n",
       "47                                     bethune college      14\n",
       "50                                 bidhannagar college       3\n",
       "52                                              bppimt       3\n",
       "54                                     brac university       3\n",
       "56                                  burdwan university       3\n",
       "69                                               diatm       5\n",
       "77                         durgapur government college       6\n",
       "84   durgapur institute of advanced technology and ...      12\n",
       "91                            durgapur women's college      30\n",
       "96                      future institute of technology      12\n",
       "132                                jadavpur university      18\n",
       "143                              kalyani mahavidyalaya       9\n",
       "149                             lady brabourne college     126\n",
       "152                    lady brabourne college, kolkata       4\n",
       "160   maulana abul kalam azad university of technology       8\n",
       "162                               maulana azad college     100\n",
       "164                      maulana azad college, kolkata       4\n",
       "172                                                nan       6\n",
       "174                             narasinha dutt college      10\n",
       "179                     narula institute of technology       3\n",
       "192                             north south university       9\n",
       "201                              presidency university      31\n",
       "202                     presidency university, kolkata       3\n",
       "214             regent education & research foundation      13\n",
       "221           regent education and research foundation      71\n",
       "223  regent education and research foundation group...       3\n",
       "228                                               rerf       8\n",
       "245                                st xavier's college       3\n",
       "248                               st. xavier's college       9\n",
       "254                      st. xavier's college, kolkata       6\n",
       "272                             university of calcutta       4\n",
       "274                                university of dhaka       6\n",
       "284                              vidyasagar university       6\n",
       "288                                vivekananda college      12"
      ]
     },
     "execution_count": 35,
     "metadata": {},
     "output_type": "execute_result"
    }
   ],
   "source": [
    "collegetop = college[college['counts'] > 2]\n",
    "collegetop"
   ]
  },
  {
   "cell_type": "code",
   "execution_count": 36,
   "metadata": {},
   "outputs": [
    {
     "data": {
      "text/html": [
       "<div>\n",
       "<style scoped>\n",
       "    .dataframe tbody tr th:only-of-type {\n",
       "        vertical-align: middle;\n",
       "    }\n",
       "\n",
       "    .dataframe tbody tr th {\n",
       "        vertical-align: top;\n",
       "    }\n",
       "\n",
       "    .dataframe thead th {\n",
       "        text-align: right;\n",
       "    }\n",
       "</style>\n",
       "<table border=\"1\" class=\"dataframe\">\n",
       "  <thead>\n",
       "    <tr style=\"text-align: right;\">\n",
       "      <th></th>\n",
       "      <th>Department</th>\n",
       "      <th>dep_counts</th>\n",
       "    </tr>\n",
       "  </thead>\n",
       "  <tbody>\n",
       "    <tr>\n",
       "      <th>26</th>\n",
       "      <td>b.sc statistics honours</td>\n",
       "      <td>4</td>\n",
       "    </tr>\n",
       "    <tr>\n",
       "      <th>31</th>\n",
       "      <td>b.tech</td>\n",
       "      <td>4</td>\n",
       "    </tr>\n",
       "    <tr>\n",
       "      <th>43</th>\n",
       "      <td>bba</td>\n",
       "      <td>11</td>\n",
       "    </tr>\n",
       "    <tr>\n",
       "      <th>44</th>\n",
       "      <td>bca</td>\n",
       "      <td>6</td>\n",
       "    </tr>\n",
       "    <tr>\n",
       "      <th>50</th>\n",
       "      <td>bsc statistics hons</td>\n",
       "      <td>3</td>\n",
       "    </tr>\n",
       "    <tr>\n",
       "      <th>65</th>\n",
       "      <td>computer science</td>\n",
       "      <td>6</td>\n",
       "    </tr>\n",
       "    <tr>\n",
       "      <th>66</th>\n",
       "      <td>computer science and engineering</td>\n",
       "      <td>5</td>\n",
       "    </tr>\n",
       "    <tr>\n",
       "      <th>67</th>\n",
       "      <td>computer science engineering</td>\n",
       "      <td>3</td>\n",
       "    </tr>\n",
       "    <tr>\n",
       "      <th>68</th>\n",
       "      <td>cse</td>\n",
       "      <td>3</td>\n",
       "    </tr>\n",
       "    <tr>\n",
       "      <th>72</th>\n",
       "      <td>ece</td>\n",
       "      <td>3</td>\n",
       "    </tr>\n",
       "    <tr>\n",
       "      <th>77</th>\n",
       "      <td>electrical engineering</td>\n",
       "      <td>8</td>\n",
       "    </tr>\n",
       "    <tr>\n",
       "      <th>85</th>\n",
       "      <td>engineering</td>\n",
       "      <td>188</td>\n",
       "    </tr>\n",
       "    <tr>\n",
       "      <th>91</th>\n",
       "      <td>honors (bsc/msc)</td>\n",
       "      <td>337</td>\n",
       "    </tr>\n",
       "    <tr>\n",
       "      <th>105</th>\n",
       "      <td>m.sc in mathematics</td>\n",
       "      <td>4</td>\n",
       "    </tr>\n",
       "    <tr>\n",
       "      <th>113</th>\n",
       "      <td>mathematics</td>\n",
       "      <td>24</td>\n",
       "    </tr>\n",
       "    <tr>\n",
       "      <th>122</th>\n",
       "      <td>mechanical engineering</td>\n",
       "      <td>4</td>\n",
       "    </tr>\n",
       "    <tr>\n",
       "      <th>127</th>\n",
       "      <td>msc in applied mathematics</td>\n",
       "      <td>4</td>\n",
       "    </tr>\n",
       "    <tr>\n",
       "      <th>130</th>\n",
       "      <td>msc mathematics</td>\n",
       "      <td>4</td>\n",
       "    </tr>\n",
       "    <tr>\n",
       "      <th>133</th>\n",
       "      <td>others</td>\n",
       "      <td>92</td>\n",
       "    </tr>\n",
       "    <tr>\n",
       "      <th>137</th>\n",
       "      <td>power engineering</td>\n",
       "      <td>3</td>\n",
       "    </tr>\n",
       "    <tr>\n",
       "      <th>140</th>\n",
       "      <td>r</td>\n",
       "      <td>4</td>\n",
       "    </tr>\n",
       "    <tr>\n",
       "      <th>142</th>\n",
       "      <td>statistics</td>\n",
       "      <td>42</td>\n",
       "    </tr>\n",
       "    <tr>\n",
       "      <th>148</th>\n",
       "      <td>statistics honours</td>\n",
       "      <td>14</td>\n",
       "    </tr>\n",
       "    <tr>\n",
       "      <th>151</th>\n",
       "      <td>statistics hons</td>\n",
       "      <td>5</td>\n",
       "    </tr>\n",
       "  </tbody>\n",
       "</table>\n",
       "</div>"
      ],
      "text/plain": [
       "                           Department  dep_counts\n",
       "26            b.sc statistics honours           4\n",
       "31                             b.tech           4\n",
       "43                                bba          11\n",
       "44                                bca           6\n",
       "50                bsc statistics hons           3\n",
       "65                   computer science           6\n",
       "66   computer science and engineering           5\n",
       "67       computer science engineering           3\n",
       "68                                cse           3\n",
       "72                                ece           3\n",
       "77             electrical engineering           8\n",
       "85                        engineering         188\n",
       "91                   honors (bsc/msc)         337\n",
       "105               m.sc in mathematics           4\n",
       "113                       mathematics          24\n",
       "122            mechanical engineering           4\n",
       "127        msc in applied mathematics           4\n",
       "130                   msc mathematics           4\n",
       "133                            others          92\n",
       "137                 power engineering           3\n",
       "140                                 r           4\n",
       "142                        statistics          42\n",
       "148                statistics honours          14\n",
       "151                   statistics hons           5"
      ]
     },
     "execution_count": 36,
     "metadata": {},
     "output_type": "execute_result"
    }
   ],
   "source": [
    "departmenttop = department[department['dep_counts'] >2]\n",
    "departmenttop"
   ]
  },
  {
   "cell_type": "code",
   "execution_count": 37,
   "metadata": {},
   "outputs": [
    {
     "data": {
      "text/html": [
       "        <script type=\"text/javascript\">\n",
       "        window.PlotlyConfig = {MathJaxConfig: 'local'};\n",
       "        if (window.MathJax) {MathJax.Hub.Config({SVG: {font: \"STIX-Web\"}});}\n",
       "        if (typeof require !== 'undefined') {\n",
       "        require.undef(\"plotly\");\n",
       "        requirejs.config({\n",
       "            paths: {\n",
       "                'plotly': ['https://cdn.plot.ly/plotly-latest.min']\n",
       "            }\n",
       "        });\n",
       "        require(['plotly'], function(Plotly) {\n",
       "            window._Plotly = Plotly;\n",
       "        });\n",
       "        }\n",
       "        </script>\n",
       "        "
      ]
     },
     "metadata": {},
     "output_type": "display_data"
    }
   ],
   "source": [
    "#importing library \n",
    "# !pip install plotly\n",
    "import numpy as np\n",
    "import pandas as pd \n",
    "import matplotlib.pyplot as plt\n",
    "import seaborn as sns \n",
    "import plotly.graph_objs as go\n",
    "import plotly.figure_factory as ff\n",
    "from plotly import tools\n",
    "from plotly.offline import download_plotlyjs, init_notebook_mode, plot, iplot\n",
    "import plotly.express as px\n",
    "init_notebook_mode(connected=True)\n",
    "import warnings\n",
    "warnings.filterwarnings(\"ignore\")"
   ]
  },
  {
   "cell_type": "code",
   "execution_count": 38,
   "metadata": {},
   "outputs": [],
   "source": [
    "def draw_trace_bar(data,data_index, feature, title, xlab, ylab,color='Blue'):\n",
    "    '''\n",
    "    this is the function created using plotly for draw a trace bar where\n",
    "    data is main dataframe\n",
    "    data index is x label values\n",
    "    feature is y label values\n",
    "    '''\n",
    "    data = data.sort_values(feature, ascending=False)\n",
    "    trace = go.Bar(\n",
    "            x = data[data_index],\n",
    "            y = data[feature],\n",
    "            marker=dict(color=color),\n",
    "            text=data[data_index]\n",
    "        )\n",
    "    data = [trace]\n",
    "\n",
    "    layout = dict(title = title,\n",
    "              xaxis = dict(title = xlab, showticklabels=True, tickangle=45, \n",
    "                           zeroline=True, zerolinewidth=1, zerolinecolor='grey',\n",
    "                           showline=True, linewidth=2, linecolor='black', mirror=True,\n",
    "                          tickfont=dict(\n",
    "                            size=10,\n",
    "                            color='red'),), \n",
    "              yaxis = dict(title = ylab, gridcolor='lightgrey', zeroline=True, zerolinewidth=1, zerolinecolor='grey',\n",
    "                          showline=True, linewidth=2, linecolor='black', mirror=True),\n",
    "              plot_bgcolor = 'rgba(0, 0, 0, 0)', paper_bgcolor = 'rgba(0, 0, 0, 0)',\n",
    "              hovermode = 'closest'\n",
    "             )\n",
    "    fig = dict(data = data, layout = layout)\n",
    "    iplot(fig, filename='draw_trace')"
   ]
  },
  {
   "cell_type": "code",
   "execution_count": 39,
   "metadata": {},
   "outputs": [
    {
     "data": {
      "application/vnd.plotly.v1+json": {
       "config": {
        "linkText": "Export to plot.ly",
        "plotlyServerURL": "https://plot.ly",
        "showLink": false
       },
       "data": [
        {
         "marker": {
          "color": "lightgreen"
         },
         "text": [
          "lady brabourne college",
          "maulana azad college",
          "regent education and research foundation",
          "presidency university",
          "durgapur women's college",
          "asutosh college",
          "jadavpur university",
          "bethune college",
          "regent education & research foundation",
          "future institute of technology",
          "aiub",
          "vivekananda college",
          "durgapur institute of advanced technology and management",
          "b.p. poddar institute of management and technology",
          "narasinha dutt college",
          "north south university",
          "st. xavier's college",
          "kalyani mahavidyalaya",
          "maulana abul kalam azad university of technology",
          "rerf",
          "b.p.poddar institute of management and technology",
          "durgapur government college",
          "american international university-bangladesh",
          "vidyasagar university",
          "university of dhaka",
          "st. xavier's college, kolkata",
          "nan",
          "b.p poddar institute of management and technology",
          "diatm",
          "university of calcutta",
          "american international university - bangladesh",
          "american international university bangladesh",
          "b. p. poddar institute of management and technology",
          "b p poddar institute of management and technology",
          "maulana azad college, kolkata",
          "lady brabourne college, kolkata",
          "academy of technology",
          "presidency university, kolkata",
          "narula institute of technology",
          "regent education and research foundation group of institutions",
          "st xavier's college",
          "bidhannagar college",
          "bppimt",
          "brac university",
          "burdwan university"
         ],
         "type": "bar",
         "x": [
          "lady brabourne college",
          "maulana azad college",
          "regent education and research foundation",
          "presidency university",
          "durgapur women's college",
          "asutosh college",
          "jadavpur university",
          "bethune college",
          "regent education & research foundation",
          "future institute of technology",
          "aiub",
          "vivekananda college",
          "durgapur institute of advanced technology and management",
          "b.p. poddar institute of management and technology",
          "narasinha dutt college",
          "north south university",
          "st. xavier's college",
          "kalyani mahavidyalaya",
          "maulana abul kalam azad university of technology",
          "rerf",
          "b.p.poddar institute of management and technology",
          "durgapur government college",
          "american international university-bangladesh",
          "vidyasagar university",
          "university of dhaka",
          "st. xavier's college, kolkata",
          "nan",
          "b.p poddar institute of management and technology",
          "diatm",
          "university of calcutta",
          "american international university - bangladesh",
          "american international university bangladesh",
          "b. p. poddar institute of management and technology",
          "b p poddar institute of management and technology",
          "maulana azad college, kolkata",
          "lady brabourne college, kolkata",
          "academy of technology",
          "presidency university, kolkata",
          "narula institute of technology",
          "regent education and research foundation group of institutions",
          "st xavier's college",
          "bidhannagar college",
          "bppimt",
          "brac university",
          "burdwan university"
         ],
         "y": [
          126,
          100,
          71,
          31,
          30,
          22,
          18,
          14,
          13,
          12,
          12,
          12,
          12,
          10,
          10,
          9,
          9,
          9,
          8,
          8,
          7,
          6,
          6,
          6,
          6,
          6,
          6,
          5,
          5,
          4,
          4,
          4,
          4,
          4,
          4,
          4,
          4,
          3,
          3,
          3,
          3,
          3,
          3,
          3,
          3
         ]
        }
       ],
       "layout": {
        "hovermode": "closest",
        "paper_bgcolor": "rgba(0, 0, 0, 0)",
        "plot_bgcolor": "rgba(0, 0, 0, 0)",
        "template": {
         "data": {
          "bar": [
           {
            "error_x": {
             "color": "#2a3f5f"
            },
            "error_y": {
             "color": "#2a3f5f"
            },
            "marker": {
             "line": {
              "color": "#E5ECF6",
              "width": 0.5
             }
            },
            "type": "bar"
           }
          ],
          "barpolar": [
           {
            "marker": {
             "line": {
              "color": "#E5ECF6",
              "width": 0.5
             }
            },
            "type": "barpolar"
           }
          ],
          "carpet": [
           {
            "aaxis": {
             "endlinecolor": "#2a3f5f",
             "gridcolor": "white",
             "linecolor": "white",
             "minorgridcolor": "white",
             "startlinecolor": "#2a3f5f"
            },
            "baxis": {
             "endlinecolor": "#2a3f5f",
             "gridcolor": "white",
             "linecolor": "white",
             "minorgridcolor": "white",
             "startlinecolor": "#2a3f5f"
            },
            "type": "carpet"
           }
          ],
          "choropleth": [
           {
            "colorbar": {
             "outlinewidth": 0,
             "ticks": ""
            },
            "type": "choropleth"
           }
          ],
          "contour": [
           {
            "colorbar": {
             "outlinewidth": 0,
             "ticks": ""
            },
            "colorscale": [
             [
              0,
              "#0d0887"
             ],
             [
              0.1111111111111111,
              "#46039f"
             ],
             [
              0.2222222222222222,
              "#7201a8"
             ],
             [
              0.3333333333333333,
              "#9c179e"
             ],
             [
              0.4444444444444444,
              "#bd3786"
             ],
             [
              0.5555555555555556,
              "#d8576b"
             ],
             [
              0.6666666666666666,
              "#ed7953"
             ],
             [
              0.7777777777777778,
              "#fb9f3a"
             ],
             [
              0.8888888888888888,
              "#fdca26"
             ],
             [
              1,
              "#f0f921"
             ]
            ],
            "type": "contour"
           }
          ],
          "contourcarpet": [
           {
            "colorbar": {
             "outlinewidth": 0,
             "ticks": ""
            },
            "type": "contourcarpet"
           }
          ],
          "heatmap": [
           {
            "colorbar": {
             "outlinewidth": 0,
             "ticks": ""
            },
            "colorscale": [
             [
              0,
              "#0d0887"
             ],
             [
              0.1111111111111111,
              "#46039f"
             ],
             [
              0.2222222222222222,
              "#7201a8"
             ],
             [
              0.3333333333333333,
              "#9c179e"
             ],
             [
              0.4444444444444444,
              "#bd3786"
             ],
             [
              0.5555555555555556,
              "#d8576b"
             ],
             [
              0.6666666666666666,
              "#ed7953"
             ],
             [
              0.7777777777777778,
              "#fb9f3a"
             ],
             [
              0.8888888888888888,
              "#fdca26"
             ],
             [
              1,
              "#f0f921"
             ]
            ],
            "type": "heatmap"
           }
          ],
          "heatmapgl": [
           {
            "colorbar": {
             "outlinewidth": 0,
             "ticks": ""
            },
            "colorscale": [
             [
              0,
              "#0d0887"
             ],
             [
              0.1111111111111111,
              "#46039f"
             ],
             [
              0.2222222222222222,
              "#7201a8"
             ],
             [
              0.3333333333333333,
              "#9c179e"
             ],
             [
              0.4444444444444444,
              "#bd3786"
             ],
             [
              0.5555555555555556,
              "#d8576b"
             ],
             [
              0.6666666666666666,
              "#ed7953"
             ],
             [
              0.7777777777777778,
              "#fb9f3a"
             ],
             [
              0.8888888888888888,
              "#fdca26"
             ],
             [
              1,
              "#f0f921"
             ]
            ],
            "type": "heatmapgl"
           }
          ],
          "histogram": [
           {
            "marker": {
             "colorbar": {
              "outlinewidth": 0,
              "ticks": ""
             }
            },
            "type": "histogram"
           }
          ],
          "histogram2d": [
           {
            "colorbar": {
             "outlinewidth": 0,
             "ticks": ""
            },
            "colorscale": [
             [
              0,
              "#0d0887"
             ],
             [
              0.1111111111111111,
              "#46039f"
             ],
             [
              0.2222222222222222,
              "#7201a8"
             ],
             [
              0.3333333333333333,
              "#9c179e"
             ],
             [
              0.4444444444444444,
              "#bd3786"
             ],
             [
              0.5555555555555556,
              "#d8576b"
             ],
             [
              0.6666666666666666,
              "#ed7953"
             ],
             [
              0.7777777777777778,
              "#fb9f3a"
             ],
             [
              0.8888888888888888,
              "#fdca26"
             ],
             [
              1,
              "#f0f921"
             ]
            ],
            "type": "histogram2d"
           }
          ],
          "histogram2dcontour": [
           {
            "colorbar": {
             "outlinewidth": 0,
             "ticks": ""
            },
            "colorscale": [
             [
              0,
              "#0d0887"
             ],
             [
              0.1111111111111111,
              "#46039f"
             ],
             [
              0.2222222222222222,
              "#7201a8"
             ],
             [
              0.3333333333333333,
              "#9c179e"
             ],
             [
              0.4444444444444444,
              "#bd3786"
             ],
             [
              0.5555555555555556,
              "#d8576b"
             ],
             [
              0.6666666666666666,
              "#ed7953"
             ],
             [
              0.7777777777777778,
              "#fb9f3a"
             ],
             [
              0.8888888888888888,
              "#fdca26"
             ],
             [
              1,
              "#f0f921"
             ]
            ],
            "type": "histogram2dcontour"
           }
          ],
          "mesh3d": [
           {
            "colorbar": {
             "outlinewidth": 0,
             "ticks": ""
            },
            "type": "mesh3d"
           }
          ],
          "parcoords": [
           {
            "line": {
             "colorbar": {
              "outlinewidth": 0,
              "ticks": ""
             }
            },
            "type": "parcoords"
           }
          ],
          "pie": [
           {
            "automargin": true,
            "type": "pie"
           }
          ],
          "scatter": [
           {
            "marker": {
             "colorbar": {
              "outlinewidth": 0,
              "ticks": ""
             }
            },
            "type": "scatter"
           }
          ],
          "scatter3d": [
           {
            "line": {
             "colorbar": {
              "outlinewidth": 0,
              "ticks": ""
             }
            },
            "marker": {
             "colorbar": {
              "outlinewidth": 0,
              "ticks": ""
             }
            },
            "type": "scatter3d"
           }
          ],
          "scattercarpet": [
           {
            "marker": {
             "colorbar": {
              "outlinewidth": 0,
              "ticks": ""
             }
            },
            "type": "scattercarpet"
           }
          ],
          "scattergeo": [
           {
            "marker": {
             "colorbar": {
              "outlinewidth": 0,
              "ticks": ""
             }
            },
            "type": "scattergeo"
           }
          ],
          "scattergl": [
           {
            "marker": {
             "colorbar": {
              "outlinewidth": 0,
              "ticks": ""
             }
            },
            "type": "scattergl"
           }
          ],
          "scattermapbox": [
           {
            "marker": {
             "colorbar": {
              "outlinewidth": 0,
              "ticks": ""
             }
            },
            "type": "scattermapbox"
           }
          ],
          "scatterpolar": [
           {
            "marker": {
             "colorbar": {
              "outlinewidth": 0,
              "ticks": ""
             }
            },
            "type": "scatterpolar"
           }
          ],
          "scatterpolargl": [
           {
            "marker": {
             "colorbar": {
              "outlinewidth": 0,
              "ticks": ""
             }
            },
            "type": "scatterpolargl"
           }
          ],
          "scatterternary": [
           {
            "marker": {
             "colorbar": {
              "outlinewidth": 0,
              "ticks": ""
             }
            },
            "type": "scatterternary"
           }
          ],
          "surface": [
           {
            "colorbar": {
             "outlinewidth": 0,
             "ticks": ""
            },
            "colorscale": [
             [
              0,
              "#0d0887"
             ],
             [
              0.1111111111111111,
              "#46039f"
             ],
             [
              0.2222222222222222,
              "#7201a8"
             ],
             [
              0.3333333333333333,
              "#9c179e"
             ],
             [
              0.4444444444444444,
              "#bd3786"
             ],
             [
              0.5555555555555556,
              "#d8576b"
             ],
             [
              0.6666666666666666,
              "#ed7953"
             ],
             [
              0.7777777777777778,
              "#fb9f3a"
             ],
             [
              0.8888888888888888,
              "#fdca26"
             ],
             [
              1,
              "#f0f921"
             ]
            ],
            "type": "surface"
           }
          ],
          "table": [
           {
            "cells": {
             "fill": {
              "color": "#EBF0F8"
             },
             "line": {
              "color": "white"
             }
            },
            "header": {
             "fill": {
              "color": "#C8D4E3"
             },
             "line": {
              "color": "white"
             }
            },
            "type": "table"
           }
          ]
         },
         "layout": {
          "annotationdefaults": {
           "arrowcolor": "#2a3f5f",
           "arrowhead": 0,
           "arrowwidth": 1
          },
          "autotypenumbers": "strict",
          "coloraxis": {
           "colorbar": {
            "outlinewidth": 0,
            "ticks": ""
           }
          },
          "colorscale": {
           "diverging": [
            [
             0,
             "#8e0152"
            ],
            [
             0.1,
             "#c51b7d"
            ],
            [
             0.2,
             "#de77ae"
            ],
            [
             0.3,
             "#f1b6da"
            ],
            [
             0.4,
             "#fde0ef"
            ],
            [
             0.5,
             "#f7f7f7"
            ],
            [
             0.6,
             "#e6f5d0"
            ],
            [
             0.7,
             "#b8e186"
            ],
            [
             0.8,
             "#7fbc41"
            ],
            [
             0.9,
             "#4d9221"
            ],
            [
             1,
             "#276419"
            ]
           ],
           "sequential": [
            [
             0,
             "#0d0887"
            ],
            [
             0.1111111111111111,
             "#46039f"
            ],
            [
             0.2222222222222222,
             "#7201a8"
            ],
            [
             0.3333333333333333,
             "#9c179e"
            ],
            [
             0.4444444444444444,
             "#bd3786"
            ],
            [
             0.5555555555555556,
             "#d8576b"
            ],
            [
             0.6666666666666666,
             "#ed7953"
            ],
            [
             0.7777777777777778,
             "#fb9f3a"
            ],
            [
             0.8888888888888888,
             "#fdca26"
            ],
            [
             1,
             "#f0f921"
            ]
           ],
           "sequentialminus": [
            [
             0,
             "#0d0887"
            ],
            [
             0.1111111111111111,
             "#46039f"
            ],
            [
             0.2222222222222222,
             "#7201a8"
            ],
            [
             0.3333333333333333,
             "#9c179e"
            ],
            [
             0.4444444444444444,
             "#bd3786"
            ],
            [
             0.5555555555555556,
             "#d8576b"
            ],
            [
             0.6666666666666666,
             "#ed7953"
            ],
            [
             0.7777777777777778,
             "#fb9f3a"
            ],
            [
             0.8888888888888888,
             "#fdca26"
            ],
            [
             1,
             "#f0f921"
            ]
           ]
          },
          "colorway": [
           "#636efa",
           "#EF553B",
           "#00cc96",
           "#ab63fa",
           "#FFA15A",
           "#19d3f3",
           "#FF6692",
           "#B6E880",
           "#FF97FF",
           "#FECB52"
          ],
          "font": {
           "color": "#2a3f5f"
          },
          "geo": {
           "bgcolor": "white",
           "lakecolor": "white",
           "landcolor": "#E5ECF6",
           "showlakes": true,
           "showland": true,
           "subunitcolor": "white"
          },
          "hoverlabel": {
           "align": "left"
          },
          "hovermode": "closest",
          "mapbox": {
           "style": "light"
          },
          "paper_bgcolor": "white",
          "plot_bgcolor": "#E5ECF6",
          "polar": {
           "angularaxis": {
            "gridcolor": "white",
            "linecolor": "white",
            "ticks": ""
           },
           "bgcolor": "#E5ECF6",
           "radialaxis": {
            "gridcolor": "white",
            "linecolor": "white",
            "ticks": ""
           }
          },
          "scene": {
           "xaxis": {
            "backgroundcolor": "#E5ECF6",
            "gridcolor": "white",
            "gridwidth": 2,
            "linecolor": "white",
            "showbackground": true,
            "ticks": "",
            "zerolinecolor": "white"
           },
           "yaxis": {
            "backgroundcolor": "#E5ECF6",
            "gridcolor": "white",
            "gridwidth": 2,
            "linecolor": "white",
            "showbackground": true,
            "ticks": "",
            "zerolinecolor": "white"
           },
           "zaxis": {
            "backgroundcolor": "#E5ECF6",
            "gridcolor": "white",
            "gridwidth": 2,
            "linecolor": "white",
            "showbackground": true,
            "ticks": "",
            "zerolinecolor": "white"
           }
          },
          "shapedefaults": {
           "line": {
            "color": "#2a3f5f"
           }
          },
          "ternary": {
           "aaxis": {
            "gridcolor": "white",
            "linecolor": "white",
            "ticks": ""
           },
           "baxis": {
            "gridcolor": "white",
            "linecolor": "white",
            "ticks": ""
           },
           "bgcolor": "#E5ECF6",
           "caxis": {
            "gridcolor": "white",
            "linecolor": "white",
            "ticks": ""
           }
          },
          "title": {
           "x": 0.05
          },
          "xaxis": {
           "automargin": true,
           "gridcolor": "white",
           "linecolor": "white",
           "ticks": "",
           "title": {
            "standoff": 15
           },
           "zerolinecolor": "white",
           "zerolinewidth": 2
          },
          "yaxis": {
           "automargin": true,
           "gridcolor": "white",
           "linecolor": "white",
           "ticks": "",
           "title": {
            "standoff": 15
           },
           "zerolinecolor": "white",
           "zerolinewidth": 2
          }
         }
        },
        "title": {
         "text": "Free Session Student Pressent"
        },
        "xaxis": {
         "linecolor": "black",
         "linewidth": 2,
         "mirror": true,
         "showline": true,
         "showticklabels": true,
         "tickangle": 45,
         "tickfont": {
          "color": "red",
          "size": 10
         },
         "title": {
          "text": "University Name"
         },
         "zeroline": true,
         "zerolinecolor": "grey",
         "zerolinewidth": 1
        },
        "yaxis": {
         "gridcolor": "lightgrey",
         "linecolor": "black",
         "linewidth": 2,
         "mirror": true,
         "showline": true,
         "title": {
          "text": "Total Students"
         },
         "zeroline": true,
         "zerolinecolor": "grey",
         "zerolinewidth": 1
        }
       }
      },
      "text/html": [
       "<div>                            <div id=\"8e2d82b0-fa3d-40e0-bb41-581690d13078\" class=\"plotly-graph-div\" style=\"height:525px; width:100%;\"></div>            <script type=\"text/javascript\">                require([\"plotly\"], function(Plotly) {                    window.PLOTLYENV=window.PLOTLYENV || {};                                    if (document.getElementById(\"8e2d82b0-fa3d-40e0-bb41-581690d13078\")) {                    Plotly.newPlot(                        \"8e2d82b0-fa3d-40e0-bb41-581690d13078\",                        [{\"marker\": {\"color\": \"lightgreen\"}, \"text\": [\"lady brabourne college\", \"maulana azad college\", \"regent education and research foundation\", \"presidency university\", \"durgapur women's college\", \"asutosh college\", \"jadavpur university\", \"bethune college\", \"regent education & research foundation\", \"future institute of technology\", \"aiub\", \"vivekananda college\", \"durgapur institute of advanced technology and management\", \"b.p. poddar institute of management and technology\", \"narasinha dutt college\", \"north south university\", \"st. xavier's college\", \"kalyani mahavidyalaya\", \"maulana abul kalam azad university of technology\", \"rerf\", \"b.p.poddar institute of management and technology\", \"durgapur government college\", \"american international university-bangladesh\", \"vidyasagar university\", \"university of dhaka\", \"st. xavier's college, kolkata\", \"nan\", \"b.p poddar institute of management and technology\", \"diatm\", \"university of calcutta\", \"american international university - bangladesh\", \"american international university bangladesh\", \"b. p. poddar institute of management and technology\", \"b p poddar institute of management and technology\", \"maulana azad college, kolkata\", \"lady brabourne college, kolkata\", \"academy of technology\", \"presidency university, kolkata\", \"narula institute of technology\", \"regent education and research foundation group of institutions\", \"st xavier's college\", \"bidhannagar college\", \"bppimt\", \"brac university\", \"burdwan university\"], \"type\": \"bar\", \"x\": [\"lady brabourne college\", \"maulana azad college\", \"regent education and research foundation\", \"presidency university\", \"durgapur women's college\", \"asutosh college\", \"jadavpur university\", \"bethune college\", \"regent education & research foundation\", \"future institute of technology\", \"aiub\", \"vivekananda college\", \"durgapur institute of advanced technology and management\", \"b.p. poddar institute of management and technology\", \"narasinha dutt college\", \"north south university\", \"st. xavier's college\", \"kalyani mahavidyalaya\", \"maulana abul kalam azad university of technology\", \"rerf\", \"b.p.poddar institute of management and technology\", \"durgapur government college\", \"american international university-bangladesh\", \"vidyasagar university\", \"university of dhaka\", \"st. xavier's college, kolkata\", \"nan\", \"b.p poddar institute of management and technology\", \"diatm\", \"university of calcutta\", \"american international university - bangladesh\", \"american international university bangladesh\", \"b. p. poddar institute of management and technology\", \"b p poddar institute of management and technology\", \"maulana azad college, kolkata\", \"lady brabourne college, kolkata\", \"academy of technology\", \"presidency university, kolkata\", \"narula institute of technology\", \"regent education and research foundation group of institutions\", \"st xavier's college\", \"bidhannagar college\", \"bppimt\", \"brac university\", \"burdwan university\"], \"y\": [126, 100, 71, 31, 30, 22, 18, 14, 13, 12, 12, 12, 12, 10, 10, 9, 9, 9, 8, 8, 7, 6, 6, 6, 6, 6, 6, 5, 5, 4, 4, 4, 4, 4, 4, 4, 4, 3, 3, 3, 3, 3, 3, 3, 3]}],                        {\"hovermode\": \"closest\", \"paper_bgcolor\": \"rgba(0, 0, 0, 0)\", \"plot_bgcolor\": \"rgba(0, 0, 0, 0)\", \"template\": {\"data\": {\"bar\": [{\"error_x\": {\"color\": \"#2a3f5f\"}, \"error_y\": {\"color\": \"#2a3f5f\"}, \"marker\": {\"line\": {\"color\": \"#E5ECF6\", \"width\": 0.5}}, \"type\": \"bar\"}], \"barpolar\": [{\"marker\": {\"line\": {\"color\": \"#E5ECF6\", \"width\": 0.5}}, \"type\": \"barpolar\"}], \"carpet\": [{\"aaxis\": {\"endlinecolor\": \"#2a3f5f\", \"gridcolor\": \"white\", \"linecolor\": \"white\", \"minorgridcolor\": \"white\", \"startlinecolor\": \"#2a3f5f\"}, \"baxis\": {\"endlinecolor\": \"#2a3f5f\", \"gridcolor\": \"white\", \"linecolor\": \"white\", \"minorgridcolor\": \"white\", \"startlinecolor\": \"#2a3f5f\"}, \"type\": \"carpet\"}], \"choropleth\": [{\"colorbar\": {\"outlinewidth\": 0, \"ticks\": \"\"}, \"type\": \"choropleth\"}], \"contour\": [{\"colorbar\": {\"outlinewidth\": 0, \"ticks\": \"\"}, \"colorscale\": [[0.0, \"#0d0887\"], [0.1111111111111111, \"#46039f\"], [0.2222222222222222, \"#7201a8\"], [0.3333333333333333, \"#9c179e\"], [0.4444444444444444, \"#bd3786\"], [0.5555555555555556, \"#d8576b\"], [0.6666666666666666, \"#ed7953\"], [0.7777777777777778, \"#fb9f3a\"], [0.8888888888888888, \"#fdca26\"], [1.0, \"#f0f921\"]], \"type\": \"contour\"}], \"contourcarpet\": [{\"colorbar\": {\"outlinewidth\": 0, \"ticks\": \"\"}, \"type\": \"contourcarpet\"}], \"heatmap\": [{\"colorbar\": {\"outlinewidth\": 0, \"ticks\": \"\"}, \"colorscale\": [[0.0, \"#0d0887\"], [0.1111111111111111, \"#46039f\"], [0.2222222222222222, \"#7201a8\"], [0.3333333333333333, \"#9c179e\"], [0.4444444444444444, \"#bd3786\"], [0.5555555555555556, \"#d8576b\"], [0.6666666666666666, \"#ed7953\"], [0.7777777777777778, \"#fb9f3a\"], [0.8888888888888888, \"#fdca26\"], [1.0, \"#f0f921\"]], \"type\": \"heatmap\"}], \"heatmapgl\": [{\"colorbar\": {\"outlinewidth\": 0, \"ticks\": \"\"}, \"colorscale\": [[0.0, \"#0d0887\"], [0.1111111111111111, \"#46039f\"], [0.2222222222222222, \"#7201a8\"], [0.3333333333333333, \"#9c179e\"], [0.4444444444444444, \"#bd3786\"], [0.5555555555555556, \"#d8576b\"], [0.6666666666666666, \"#ed7953\"], [0.7777777777777778, \"#fb9f3a\"], [0.8888888888888888, \"#fdca26\"], [1.0, \"#f0f921\"]], \"type\": \"heatmapgl\"}], \"histogram\": [{\"marker\": {\"colorbar\": {\"outlinewidth\": 0, \"ticks\": \"\"}}, \"type\": \"histogram\"}], \"histogram2d\": [{\"colorbar\": {\"outlinewidth\": 0, \"ticks\": \"\"}, \"colorscale\": [[0.0, \"#0d0887\"], [0.1111111111111111, \"#46039f\"], [0.2222222222222222, \"#7201a8\"], [0.3333333333333333, \"#9c179e\"], [0.4444444444444444, \"#bd3786\"], [0.5555555555555556, \"#d8576b\"], [0.6666666666666666, \"#ed7953\"], [0.7777777777777778, \"#fb9f3a\"], [0.8888888888888888, \"#fdca26\"], [1.0, \"#f0f921\"]], \"type\": \"histogram2d\"}], \"histogram2dcontour\": [{\"colorbar\": {\"outlinewidth\": 0, \"ticks\": \"\"}, \"colorscale\": [[0.0, \"#0d0887\"], [0.1111111111111111, \"#46039f\"], [0.2222222222222222, \"#7201a8\"], [0.3333333333333333, \"#9c179e\"], [0.4444444444444444, \"#bd3786\"], [0.5555555555555556, \"#d8576b\"], [0.6666666666666666, \"#ed7953\"], [0.7777777777777778, \"#fb9f3a\"], [0.8888888888888888, \"#fdca26\"], [1.0, \"#f0f921\"]], \"type\": \"histogram2dcontour\"}], \"mesh3d\": [{\"colorbar\": {\"outlinewidth\": 0, \"ticks\": \"\"}, \"type\": \"mesh3d\"}], \"parcoords\": [{\"line\": {\"colorbar\": {\"outlinewidth\": 0, \"ticks\": \"\"}}, \"type\": \"parcoords\"}], \"pie\": [{\"automargin\": true, \"type\": \"pie\"}], \"scatter\": [{\"marker\": {\"colorbar\": {\"outlinewidth\": 0, \"ticks\": \"\"}}, \"type\": \"scatter\"}], \"scatter3d\": [{\"line\": {\"colorbar\": {\"outlinewidth\": 0, \"ticks\": \"\"}}, \"marker\": {\"colorbar\": {\"outlinewidth\": 0, \"ticks\": \"\"}}, \"type\": \"scatter3d\"}], \"scattercarpet\": [{\"marker\": {\"colorbar\": {\"outlinewidth\": 0, \"ticks\": \"\"}}, \"type\": \"scattercarpet\"}], \"scattergeo\": [{\"marker\": {\"colorbar\": {\"outlinewidth\": 0, \"ticks\": \"\"}}, \"type\": \"scattergeo\"}], \"scattergl\": [{\"marker\": {\"colorbar\": {\"outlinewidth\": 0, \"ticks\": \"\"}}, \"type\": \"scattergl\"}], \"scattermapbox\": [{\"marker\": {\"colorbar\": {\"outlinewidth\": 0, \"ticks\": \"\"}}, \"type\": \"scattermapbox\"}], \"scatterpolar\": [{\"marker\": {\"colorbar\": {\"outlinewidth\": 0, \"ticks\": \"\"}}, \"type\": \"scatterpolar\"}], \"scatterpolargl\": [{\"marker\": {\"colorbar\": {\"outlinewidth\": 0, \"ticks\": \"\"}}, \"type\": \"scatterpolargl\"}], \"scatterternary\": [{\"marker\": {\"colorbar\": {\"outlinewidth\": 0, \"ticks\": \"\"}}, \"type\": \"scatterternary\"}], \"surface\": [{\"colorbar\": {\"outlinewidth\": 0, \"ticks\": \"\"}, \"colorscale\": [[0.0, \"#0d0887\"], [0.1111111111111111, \"#46039f\"], [0.2222222222222222, \"#7201a8\"], [0.3333333333333333, \"#9c179e\"], [0.4444444444444444, \"#bd3786\"], [0.5555555555555556, \"#d8576b\"], [0.6666666666666666, \"#ed7953\"], [0.7777777777777778, \"#fb9f3a\"], [0.8888888888888888, \"#fdca26\"], [1.0, \"#f0f921\"]], \"type\": \"surface\"}], \"table\": [{\"cells\": {\"fill\": {\"color\": \"#EBF0F8\"}, \"line\": {\"color\": \"white\"}}, \"header\": {\"fill\": {\"color\": \"#C8D4E3\"}, \"line\": {\"color\": \"white\"}}, \"type\": \"table\"}]}, \"layout\": {\"annotationdefaults\": {\"arrowcolor\": \"#2a3f5f\", \"arrowhead\": 0, \"arrowwidth\": 1}, \"autotypenumbers\": \"strict\", \"coloraxis\": {\"colorbar\": {\"outlinewidth\": 0, \"ticks\": \"\"}}, \"colorscale\": {\"diverging\": [[0, \"#8e0152\"], [0.1, \"#c51b7d\"], [0.2, \"#de77ae\"], [0.3, \"#f1b6da\"], [0.4, \"#fde0ef\"], [0.5, \"#f7f7f7\"], [0.6, \"#e6f5d0\"], [0.7, \"#b8e186\"], [0.8, \"#7fbc41\"], [0.9, \"#4d9221\"], [1, \"#276419\"]], \"sequential\": [[0.0, \"#0d0887\"], [0.1111111111111111, \"#46039f\"], [0.2222222222222222, \"#7201a8\"], [0.3333333333333333, \"#9c179e\"], [0.4444444444444444, \"#bd3786\"], [0.5555555555555556, \"#d8576b\"], [0.6666666666666666, \"#ed7953\"], [0.7777777777777778, \"#fb9f3a\"], [0.8888888888888888, \"#fdca26\"], [1.0, \"#f0f921\"]], \"sequentialminus\": [[0.0, \"#0d0887\"], [0.1111111111111111, \"#46039f\"], [0.2222222222222222, \"#7201a8\"], [0.3333333333333333, \"#9c179e\"], [0.4444444444444444, \"#bd3786\"], [0.5555555555555556, \"#d8576b\"], [0.6666666666666666, \"#ed7953\"], [0.7777777777777778, \"#fb9f3a\"], [0.8888888888888888, \"#fdca26\"], [1.0, \"#f0f921\"]]}, \"colorway\": [\"#636efa\", \"#EF553B\", \"#00cc96\", \"#ab63fa\", \"#FFA15A\", \"#19d3f3\", \"#FF6692\", \"#B6E880\", \"#FF97FF\", \"#FECB52\"], \"font\": {\"color\": \"#2a3f5f\"}, \"geo\": {\"bgcolor\": \"white\", \"lakecolor\": \"white\", \"landcolor\": \"#E5ECF6\", \"showlakes\": true, \"showland\": true, \"subunitcolor\": \"white\"}, \"hoverlabel\": {\"align\": \"left\"}, \"hovermode\": \"closest\", \"mapbox\": {\"style\": \"light\"}, \"paper_bgcolor\": \"white\", \"plot_bgcolor\": \"#E5ECF6\", \"polar\": {\"angularaxis\": {\"gridcolor\": \"white\", \"linecolor\": \"white\", \"ticks\": \"\"}, \"bgcolor\": \"#E5ECF6\", \"radialaxis\": {\"gridcolor\": \"white\", \"linecolor\": \"white\", \"ticks\": \"\"}}, \"scene\": {\"xaxis\": {\"backgroundcolor\": \"#E5ECF6\", \"gridcolor\": \"white\", \"gridwidth\": 2, \"linecolor\": \"white\", \"showbackground\": true, \"ticks\": \"\", \"zerolinecolor\": \"white\"}, \"yaxis\": {\"backgroundcolor\": \"#E5ECF6\", \"gridcolor\": \"white\", \"gridwidth\": 2, \"linecolor\": \"white\", \"showbackground\": true, \"ticks\": \"\", \"zerolinecolor\": \"white\"}, \"zaxis\": {\"backgroundcolor\": \"#E5ECF6\", \"gridcolor\": \"white\", \"gridwidth\": 2, \"linecolor\": \"white\", \"showbackground\": true, \"ticks\": \"\", \"zerolinecolor\": \"white\"}}, \"shapedefaults\": {\"line\": {\"color\": \"#2a3f5f\"}}, \"ternary\": {\"aaxis\": {\"gridcolor\": \"white\", \"linecolor\": \"white\", \"ticks\": \"\"}, \"baxis\": {\"gridcolor\": \"white\", \"linecolor\": \"white\", \"ticks\": \"\"}, \"bgcolor\": \"#E5ECF6\", \"caxis\": {\"gridcolor\": \"white\", \"linecolor\": \"white\", \"ticks\": \"\"}}, \"title\": {\"x\": 0.05}, \"xaxis\": {\"automargin\": true, \"gridcolor\": \"white\", \"linecolor\": \"white\", \"ticks\": \"\", \"title\": {\"standoff\": 15}, \"zerolinecolor\": \"white\", \"zerolinewidth\": 2}, \"yaxis\": {\"automargin\": true, \"gridcolor\": \"white\", \"linecolor\": \"white\", \"ticks\": \"\", \"title\": {\"standoff\": 15}, \"zerolinecolor\": \"white\", \"zerolinewidth\": 2}}}, \"title\": {\"text\": \"Free Session Student Pressent\"}, \"xaxis\": {\"linecolor\": \"black\", \"linewidth\": 2, \"mirror\": true, \"showline\": true, \"showticklabels\": true, \"tickangle\": 45, \"tickfont\": {\"color\": \"red\", \"size\": 10}, \"title\": {\"text\": \"University Name\"}, \"zeroline\": true, \"zerolinecolor\": \"grey\", \"zerolinewidth\": 1}, \"yaxis\": {\"gridcolor\": \"lightgrey\", \"linecolor\": \"black\", \"linewidth\": 2, \"mirror\": true, \"showline\": true, \"title\": {\"text\": \"Total Students\"}, \"zeroline\": true, \"zerolinecolor\": \"grey\", \"zerolinewidth\": 1}},                        {\"responsive\": true}                    ).then(function(){\n",
       "                            \n",
       "var gd = document.getElementById('8e2d82b0-fa3d-40e0-bb41-581690d13078');\n",
       "var x = new MutationObserver(function (mutations, observer) {{\n",
       "        var display = window.getComputedStyle(gd).display;\n",
       "        if (!display || display === 'none') {{\n",
       "            console.log([gd, 'removed!']);\n",
       "            Plotly.purge(gd);\n",
       "            observer.disconnect();\n",
       "        }}\n",
       "}});\n",
       "\n",
       "// Listen for the removal of the full notebook cells\n",
       "var notebookContainer = gd.closest('#notebook-container');\n",
       "if (notebookContainer) {{\n",
       "    x.observe(notebookContainer, {childList: true});\n",
       "}}\n",
       "\n",
       "// Listen for the clearing of the current output cell\n",
       "var outputEl = gd.closest('.output');\n",
       "if (outputEl) {{\n",
       "    x.observe(outputEl, {childList: true});\n",
       "}}\n",
       "\n",
       "                        })                };                });            </script>        </div>"
      ]
     },
     "metadata": {},
     "output_type": "display_data"
    }
   ],
   "source": [
    "draw_trace_bar(collegetop,'College','counts','Free Session Student Pressent', 'University Name','Total Students',\"lightgreen\")"
   ]
  },
  {
   "cell_type": "markdown",
   "metadata": {},
   "source": [
    "If we see the bar chart we can see that most of the students are Lady Brabourne College(69), Maulana Azad College(59)"
   ]
  },
  {
   "cell_type": "code",
   "execution_count": 40,
   "metadata": {},
   "outputs": [
    {
     "data": {
      "application/vnd.plotly.v1+json": {
       "config": {
        "linkText": "Export to plot.ly",
        "plotlyServerURL": "https://plot.ly",
        "showLink": false
       },
       "data": [
        {
         "marker": {
          "color": "red"
         },
         "text": [
          "honors (bsc/msc)",
          "engineering",
          "others",
          "statistics",
          "mathematics",
          "statistics honours",
          "bba",
          "electrical engineering",
          "bca",
          "computer science",
          "statistics hons",
          "computer science and engineering",
          "b.tech",
          "m.sc in mathematics",
          "mechanical engineering",
          "msc in applied mathematics",
          "msc mathematics",
          "r",
          "b.sc statistics honours",
          "ece",
          "cse",
          "computer science engineering",
          "power engineering",
          "bsc statistics hons"
         ],
         "type": "bar",
         "x": [
          "honors (bsc/msc)",
          "engineering",
          "others",
          "statistics",
          "mathematics",
          "statistics honours",
          "bba",
          "electrical engineering",
          "bca",
          "computer science",
          "statistics hons",
          "computer science and engineering",
          "b.tech",
          "m.sc in mathematics",
          "mechanical engineering",
          "msc in applied mathematics",
          "msc mathematics",
          "r",
          "b.sc statistics honours",
          "ece",
          "cse",
          "computer science engineering",
          "power engineering",
          "bsc statistics hons"
         ],
         "y": [
          337,
          188,
          92,
          42,
          24,
          14,
          11,
          8,
          6,
          6,
          5,
          5,
          4,
          4,
          4,
          4,
          4,
          4,
          4,
          3,
          3,
          3,
          3,
          3
         ]
        }
       ],
       "layout": {
        "hovermode": "closest",
        "paper_bgcolor": "rgba(0, 0, 0, 0)",
        "plot_bgcolor": "rgba(0, 0, 0, 0)",
        "template": {
         "data": {
          "bar": [
           {
            "error_x": {
             "color": "#2a3f5f"
            },
            "error_y": {
             "color": "#2a3f5f"
            },
            "marker": {
             "line": {
              "color": "#E5ECF6",
              "width": 0.5
             }
            },
            "type": "bar"
           }
          ],
          "barpolar": [
           {
            "marker": {
             "line": {
              "color": "#E5ECF6",
              "width": 0.5
             }
            },
            "type": "barpolar"
           }
          ],
          "carpet": [
           {
            "aaxis": {
             "endlinecolor": "#2a3f5f",
             "gridcolor": "white",
             "linecolor": "white",
             "minorgridcolor": "white",
             "startlinecolor": "#2a3f5f"
            },
            "baxis": {
             "endlinecolor": "#2a3f5f",
             "gridcolor": "white",
             "linecolor": "white",
             "minorgridcolor": "white",
             "startlinecolor": "#2a3f5f"
            },
            "type": "carpet"
           }
          ],
          "choropleth": [
           {
            "colorbar": {
             "outlinewidth": 0,
             "ticks": ""
            },
            "type": "choropleth"
           }
          ],
          "contour": [
           {
            "colorbar": {
             "outlinewidth": 0,
             "ticks": ""
            },
            "colorscale": [
             [
              0,
              "#0d0887"
             ],
             [
              0.1111111111111111,
              "#46039f"
             ],
             [
              0.2222222222222222,
              "#7201a8"
             ],
             [
              0.3333333333333333,
              "#9c179e"
             ],
             [
              0.4444444444444444,
              "#bd3786"
             ],
             [
              0.5555555555555556,
              "#d8576b"
             ],
             [
              0.6666666666666666,
              "#ed7953"
             ],
             [
              0.7777777777777778,
              "#fb9f3a"
             ],
             [
              0.8888888888888888,
              "#fdca26"
             ],
             [
              1,
              "#f0f921"
             ]
            ],
            "type": "contour"
           }
          ],
          "contourcarpet": [
           {
            "colorbar": {
             "outlinewidth": 0,
             "ticks": ""
            },
            "type": "contourcarpet"
           }
          ],
          "heatmap": [
           {
            "colorbar": {
             "outlinewidth": 0,
             "ticks": ""
            },
            "colorscale": [
             [
              0,
              "#0d0887"
             ],
             [
              0.1111111111111111,
              "#46039f"
             ],
             [
              0.2222222222222222,
              "#7201a8"
             ],
             [
              0.3333333333333333,
              "#9c179e"
             ],
             [
              0.4444444444444444,
              "#bd3786"
             ],
             [
              0.5555555555555556,
              "#d8576b"
             ],
             [
              0.6666666666666666,
              "#ed7953"
             ],
             [
              0.7777777777777778,
              "#fb9f3a"
             ],
             [
              0.8888888888888888,
              "#fdca26"
             ],
             [
              1,
              "#f0f921"
             ]
            ],
            "type": "heatmap"
           }
          ],
          "heatmapgl": [
           {
            "colorbar": {
             "outlinewidth": 0,
             "ticks": ""
            },
            "colorscale": [
             [
              0,
              "#0d0887"
             ],
             [
              0.1111111111111111,
              "#46039f"
             ],
             [
              0.2222222222222222,
              "#7201a8"
             ],
             [
              0.3333333333333333,
              "#9c179e"
             ],
             [
              0.4444444444444444,
              "#bd3786"
             ],
             [
              0.5555555555555556,
              "#d8576b"
             ],
             [
              0.6666666666666666,
              "#ed7953"
             ],
             [
              0.7777777777777778,
              "#fb9f3a"
             ],
             [
              0.8888888888888888,
              "#fdca26"
             ],
             [
              1,
              "#f0f921"
             ]
            ],
            "type": "heatmapgl"
           }
          ],
          "histogram": [
           {
            "marker": {
             "colorbar": {
              "outlinewidth": 0,
              "ticks": ""
             }
            },
            "type": "histogram"
           }
          ],
          "histogram2d": [
           {
            "colorbar": {
             "outlinewidth": 0,
             "ticks": ""
            },
            "colorscale": [
             [
              0,
              "#0d0887"
             ],
             [
              0.1111111111111111,
              "#46039f"
             ],
             [
              0.2222222222222222,
              "#7201a8"
             ],
             [
              0.3333333333333333,
              "#9c179e"
             ],
             [
              0.4444444444444444,
              "#bd3786"
             ],
             [
              0.5555555555555556,
              "#d8576b"
             ],
             [
              0.6666666666666666,
              "#ed7953"
             ],
             [
              0.7777777777777778,
              "#fb9f3a"
             ],
             [
              0.8888888888888888,
              "#fdca26"
             ],
             [
              1,
              "#f0f921"
             ]
            ],
            "type": "histogram2d"
           }
          ],
          "histogram2dcontour": [
           {
            "colorbar": {
             "outlinewidth": 0,
             "ticks": ""
            },
            "colorscale": [
             [
              0,
              "#0d0887"
             ],
             [
              0.1111111111111111,
              "#46039f"
             ],
             [
              0.2222222222222222,
              "#7201a8"
             ],
             [
              0.3333333333333333,
              "#9c179e"
             ],
             [
              0.4444444444444444,
              "#bd3786"
             ],
             [
              0.5555555555555556,
              "#d8576b"
             ],
             [
              0.6666666666666666,
              "#ed7953"
             ],
             [
              0.7777777777777778,
              "#fb9f3a"
             ],
             [
              0.8888888888888888,
              "#fdca26"
             ],
             [
              1,
              "#f0f921"
             ]
            ],
            "type": "histogram2dcontour"
           }
          ],
          "mesh3d": [
           {
            "colorbar": {
             "outlinewidth": 0,
             "ticks": ""
            },
            "type": "mesh3d"
           }
          ],
          "parcoords": [
           {
            "line": {
             "colorbar": {
              "outlinewidth": 0,
              "ticks": ""
             }
            },
            "type": "parcoords"
           }
          ],
          "pie": [
           {
            "automargin": true,
            "type": "pie"
           }
          ],
          "scatter": [
           {
            "marker": {
             "colorbar": {
              "outlinewidth": 0,
              "ticks": ""
             }
            },
            "type": "scatter"
           }
          ],
          "scatter3d": [
           {
            "line": {
             "colorbar": {
              "outlinewidth": 0,
              "ticks": ""
             }
            },
            "marker": {
             "colorbar": {
              "outlinewidth": 0,
              "ticks": ""
             }
            },
            "type": "scatter3d"
           }
          ],
          "scattercarpet": [
           {
            "marker": {
             "colorbar": {
              "outlinewidth": 0,
              "ticks": ""
             }
            },
            "type": "scattercarpet"
           }
          ],
          "scattergeo": [
           {
            "marker": {
             "colorbar": {
              "outlinewidth": 0,
              "ticks": ""
             }
            },
            "type": "scattergeo"
           }
          ],
          "scattergl": [
           {
            "marker": {
             "colorbar": {
              "outlinewidth": 0,
              "ticks": ""
             }
            },
            "type": "scattergl"
           }
          ],
          "scattermapbox": [
           {
            "marker": {
             "colorbar": {
              "outlinewidth": 0,
              "ticks": ""
             }
            },
            "type": "scattermapbox"
           }
          ],
          "scatterpolar": [
           {
            "marker": {
             "colorbar": {
              "outlinewidth": 0,
              "ticks": ""
             }
            },
            "type": "scatterpolar"
           }
          ],
          "scatterpolargl": [
           {
            "marker": {
             "colorbar": {
              "outlinewidth": 0,
              "ticks": ""
             }
            },
            "type": "scatterpolargl"
           }
          ],
          "scatterternary": [
           {
            "marker": {
             "colorbar": {
              "outlinewidth": 0,
              "ticks": ""
             }
            },
            "type": "scatterternary"
           }
          ],
          "surface": [
           {
            "colorbar": {
             "outlinewidth": 0,
             "ticks": ""
            },
            "colorscale": [
             [
              0,
              "#0d0887"
             ],
             [
              0.1111111111111111,
              "#46039f"
             ],
             [
              0.2222222222222222,
              "#7201a8"
             ],
             [
              0.3333333333333333,
              "#9c179e"
             ],
             [
              0.4444444444444444,
              "#bd3786"
             ],
             [
              0.5555555555555556,
              "#d8576b"
             ],
             [
              0.6666666666666666,
              "#ed7953"
             ],
             [
              0.7777777777777778,
              "#fb9f3a"
             ],
             [
              0.8888888888888888,
              "#fdca26"
             ],
             [
              1,
              "#f0f921"
             ]
            ],
            "type": "surface"
           }
          ],
          "table": [
           {
            "cells": {
             "fill": {
              "color": "#EBF0F8"
             },
             "line": {
              "color": "white"
             }
            },
            "header": {
             "fill": {
              "color": "#C8D4E3"
             },
             "line": {
              "color": "white"
             }
            },
            "type": "table"
           }
          ]
         },
         "layout": {
          "annotationdefaults": {
           "arrowcolor": "#2a3f5f",
           "arrowhead": 0,
           "arrowwidth": 1
          },
          "autotypenumbers": "strict",
          "coloraxis": {
           "colorbar": {
            "outlinewidth": 0,
            "ticks": ""
           }
          },
          "colorscale": {
           "diverging": [
            [
             0,
             "#8e0152"
            ],
            [
             0.1,
             "#c51b7d"
            ],
            [
             0.2,
             "#de77ae"
            ],
            [
             0.3,
             "#f1b6da"
            ],
            [
             0.4,
             "#fde0ef"
            ],
            [
             0.5,
             "#f7f7f7"
            ],
            [
             0.6,
             "#e6f5d0"
            ],
            [
             0.7,
             "#b8e186"
            ],
            [
             0.8,
             "#7fbc41"
            ],
            [
             0.9,
             "#4d9221"
            ],
            [
             1,
             "#276419"
            ]
           ],
           "sequential": [
            [
             0,
             "#0d0887"
            ],
            [
             0.1111111111111111,
             "#46039f"
            ],
            [
             0.2222222222222222,
             "#7201a8"
            ],
            [
             0.3333333333333333,
             "#9c179e"
            ],
            [
             0.4444444444444444,
             "#bd3786"
            ],
            [
             0.5555555555555556,
             "#d8576b"
            ],
            [
             0.6666666666666666,
             "#ed7953"
            ],
            [
             0.7777777777777778,
             "#fb9f3a"
            ],
            [
             0.8888888888888888,
             "#fdca26"
            ],
            [
             1,
             "#f0f921"
            ]
           ],
           "sequentialminus": [
            [
             0,
             "#0d0887"
            ],
            [
             0.1111111111111111,
             "#46039f"
            ],
            [
             0.2222222222222222,
             "#7201a8"
            ],
            [
             0.3333333333333333,
             "#9c179e"
            ],
            [
             0.4444444444444444,
             "#bd3786"
            ],
            [
             0.5555555555555556,
             "#d8576b"
            ],
            [
             0.6666666666666666,
             "#ed7953"
            ],
            [
             0.7777777777777778,
             "#fb9f3a"
            ],
            [
             0.8888888888888888,
             "#fdca26"
            ],
            [
             1,
             "#f0f921"
            ]
           ]
          },
          "colorway": [
           "#636efa",
           "#EF553B",
           "#00cc96",
           "#ab63fa",
           "#FFA15A",
           "#19d3f3",
           "#FF6692",
           "#B6E880",
           "#FF97FF",
           "#FECB52"
          ],
          "font": {
           "color": "#2a3f5f"
          },
          "geo": {
           "bgcolor": "white",
           "lakecolor": "white",
           "landcolor": "#E5ECF6",
           "showlakes": true,
           "showland": true,
           "subunitcolor": "white"
          },
          "hoverlabel": {
           "align": "left"
          },
          "hovermode": "closest",
          "mapbox": {
           "style": "light"
          },
          "paper_bgcolor": "white",
          "plot_bgcolor": "#E5ECF6",
          "polar": {
           "angularaxis": {
            "gridcolor": "white",
            "linecolor": "white",
            "ticks": ""
           },
           "bgcolor": "#E5ECF6",
           "radialaxis": {
            "gridcolor": "white",
            "linecolor": "white",
            "ticks": ""
           }
          },
          "scene": {
           "xaxis": {
            "backgroundcolor": "#E5ECF6",
            "gridcolor": "white",
            "gridwidth": 2,
            "linecolor": "white",
            "showbackground": true,
            "ticks": "",
            "zerolinecolor": "white"
           },
           "yaxis": {
            "backgroundcolor": "#E5ECF6",
            "gridcolor": "white",
            "gridwidth": 2,
            "linecolor": "white",
            "showbackground": true,
            "ticks": "",
            "zerolinecolor": "white"
           },
           "zaxis": {
            "backgroundcolor": "#E5ECF6",
            "gridcolor": "white",
            "gridwidth": 2,
            "linecolor": "white",
            "showbackground": true,
            "ticks": "",
            "zerolinecolor": "white"
           }
          },
          "shapedefaults": {
           "line": {
            "color": "#2a3f5f"
           }
          },
          "ternary": {
           "aaxis": {
            "gridcolor": "white",
            "linecolor": "white",
            "ticks": ""
           },
           "baxis": {
            "gridcolor": "white",
            "linecolor": "white",
            "ticks": ""
           },
           "bgcolor": "#E5ECF6",
           "caxis": {
            "gridcolor": "white",
            "linecolor": "white",
            "ticks": ""
           }
          },
          "title": {
           "x": 0.05
          },
          "xaxis": {
           "automargin": true,
           "gridcolor": "white",
           "linecolor": "white",
           "ticks": "",
           "title": {
            "standoff": 15
           },
           "zerolinecolor": "white",
           "zerolinewidth": 2
          },
          "yaxis": {
           "automargin": true,
           "gridcolor": "white",
           "linecolor": "white",
           "ticks": "",
           "title": {
            "standoff": 15
           },
           "zerolinecolor": "white",
           "zerolinewidth": 2
          }
         }
        },
        "title": {
         "text": "Free Session Student Pressent"
        },
        "xaxis": {
         "linecolor": "black",
         "linewidth": 2,
         "mirror": true,
         "showline": true,
         "showticklabels": true,
         "tickangle": 45,
         "tickfont": {
          "color": "red",
          "size": 10
         },
         "title": {
          "text": "Department Name"
         },
         "zeroline": true,
         "zerolinecolor": "grey",
         "zerolinewidth": 1
        },
        "yaxis": {
         "gridcolor": "lightgrey",
         "linecolor": "black",
         "linewidth": 2,
         "mirror": true,
         "showline": true,
         "title": {
          "text": "Total Students"
         },
         "zeroline": true,
         "zerolinecolor": "grey",
         "zerolinewidth": 1
        }
       }
      },
      "text/html": [
       "<div>                            <div id=\"24cb39b7-08a6-49ee-b0f3-a46c5ebbea54\" class=\"plotly-graph-div\" style=\"height:525px; width:100%;\"></div>            <script type=\"text/javascript\">                require([\"plotly\"], function(Plotly) {                    window.PLOTLYENV=window.PLOTLYENV || {};                                    if (document.getElementById(\"24cb39b7-08a6-49ee-b0f3-a46c5ebbea54\")) {                    Plotly.newPlot(                        \"24cb39b7-08a6-49ee-b0f3-a46c5ebbea54\",                        [{\"marker\": {\"color\": \"red\"}, \"text\": [\"honors (bsc/msc)\", \"engineering\", \"others\", \"statistics\", \"mathematics\", \"statistics honours\", \"bba\", \"electrical engineering\", \"bca\", \"computer science\", \"statistics hons\", \"computer science and engineering\", \"b.tech\", \"m.sc in mathematics\", \"mechanical engineering\", \"msc in applied mathematics\", \"msc mathematics\", \"r\", \"b.sc statistics honours\", \"ece\", \"cse\", \"computer science engineering\", \"power engineering\", \"bsc statistics hons\"], \"type\": \"bar\", \"x\": [\"honors (bsc/msc)\", \"engineering\", \"others\", \"statistics\", \"mathematics\", \"statistics honours\", \"bba\", \"electrical engineering\", \"bca\", \"computer science\", \"statistics hons\", \"computer science and engineering\", \"b.tech\", \"m.sc in mathematics\", \"mechanical engineering\", \"msc in applied mathematics\", \"msc mathematics\", \"r\", \"b.sc statistics honours\", \"ece\", \"cse\", \"computer science engineering\", \"power engineering\", \"bsc statistics hons\"], \"y\": [337, 188, 92, 42, 24, 14, 11, 8, 6, 6, 5, 5, 4, 4, 4, 4, 4, 4, 4, 3, 3, 3, 3, 3]}],                        {\"hovermode\": \"closest\", \"paper_bgcolor\": \"rgba(0, 0, 0, 0)\", \"plot_bgcolor\": \"rgba(0, 0, 0, 0)\", \"template\": {\"data\": {\"bar\": [{\"error_x\": {\"color\": \"#2a3f5f\"}, \"error_y\": {\"color\": \"#2a3f5f\"}, \"marker\": {\"line\": {\"color\": \"#E5ECF6\", \"width\": 0.5}}, \"type\": \"bar\"}], \"barpolar\": [{\"marker\": {\"line\": {\"color\": \"#E5ECF6\", \"width\": 0.5}}, \"type\": \"barpolar\"}], \"carpet\": [{\"aaxis\": {\"endlinecolor\": \"#2a3f5f\", \"gridcolor\": \"white\", \"linecolor\": \"white\", \"minorgridcolor\": \"white\", \"startlinecolor\": \"#2a3f5f\"}, \"baxis\": {\"endlinecolor\": \"#2a3f5f\", \"gridcolor\": \"white\", \"linecolor\": \"white\", \"minorgridcolor\": \"white\", \"startlinecolor\": \"#2a3f5f\"}, \"type\": \"carpet\"}], \"choropleth\": [{\"colorbar\": {\"outlinewidth\": 0, \"ticks\": \"\"}, \"type\": \"choropleth\"}], \"contour\": [{\"colorbar\": {\"outlinewidth\": 0, \"ticks\": \"\"}, \"colorscale\": [[0.0, \"#0d0887\"], [0.1111111111111111, \"#46039f\"], [0.2222222222222222, \"#7201a8\"], [0.3333333333333333, \"#9c179e\"], [0.4444444444444444, \"#bd3786\"], [0.5555555555555556, \"#d8576b\"], [0.6666666666666666, \"#ed7953\"], [0.7777777777777778, \"#fb9f3a\"], [0.8888888888888888, \"#fdca26\"], [1.0, \"#f0f921\"]], \"type\": \"contour\"}], \"contourcarpet\": [{\"colorbar\": {\"outlinewidth\": 0, \"ticks\": \"\"}, \"type\": \"contourcarpet\"}], \"heatmap\": [{\"colorbar\": {\"outlinewidth\": 0, \"ticks\": \"\"}, \"colorscale\": [[0.0, \"#0d0887\"], [0.1111111111111111, \"#46039f\"], [0.2222222222222222, \"#7201a8\"], [0.3333333333333333, \"#9c179e\"], [0.4444444444444444, \"#bd3786\"], [0.5555555555555556, \"#d8576b\"], [0.6666666666666666, \"#ed7953\"], [0.7777777777777778, \"#fb9f3a\"], [0.8888888888888888, \"#fdca26\"], [1.0, \"#f0f921\"]], \"type\": \"heatmap\"}], \"heatmapgl\": [{\"colorbar\": {\"outlinewidth\": 0, \"ticks\": \"\"}, \"colorscale\": [[0.0, \"#0d0887\"], [0.1111111111111111, \"#46039f\"], [0.2222222222222222, \"#7201a8\"], [0.3333333333333333, \"#9c179e\"], [0.4444444444444444, \"#bd3786\"], [0.5555555555555556, \"#d8576b\"], [0.6666666666666666, \"#ed7953\"], [0.7777777777777778, \"#fb9f3a\"], [0.8888888888888888, \"#fdca26\"], [1.0, \"#f0f921\"]], \"type\": \"heatmapgl\"}], \"histogram\": [{\"marker\": {\"colorbar\": {\"outlinewidth\": 0, \"ticks\": \"\"}}, \"type\": \"histogram\"}], \"histogram2d\": [{\"colorbar\": {\"outlinewidth\": 0, \"ticks\": \"\"}, \"colorscale\": [[0.0, \"#0d0887\"], [0.1111111111111111, \"#46039f\"], [0.2222222222222222, \"#7201a8\"], [0.3333333333333333, \"#9c179e\"], [0.4444444444444444, \"#bd3786\"], [0.5555555555555556, \"#d8576b\"], [0.6666666666666666, \"#ed7953\"], [0.7777777777777778, \"#fb9f3a\"], [0.8888888888888888, \"#fdca26\"], [1.0, \"#f0f921\"]], \"type\": \"histogram2d\"}], \"histogram2dcontour\": [{\"colorbar\": {\"outlinewidth\": 0, \"ticks\": \"\"}, \"colorscale\": [[0.0, \"#0d0887\"], [0.1111111111111111, \"#46039f\"], [0.2222222222222222, \"#7201a8\"], [0.3333333333333333, \"#9c179e\"], [0.4444444444444444, \"#bd3786\"], [0.5555555555555556, \"#d8576b\"], [0.6666666666666666, \"#ed7953\"], [0.7777777777777778, \"#fb9f3a\"], [0.8888888888888888, \"#fdca26\"], [1.0, \"#f0f921\"]], \"type\": \"histogram2dcontour\"}], \"mesh3d\": [{\"colorbar\": {\"outlinewidth\": 0, \"ticks\": \"\"}, \"type\": \"mesh3d\"}], \"parcoords\": [{\"line\": {\"colorbar\": {\"outlinewidth\": 0, \"ticks\": \"\"}}, \"type\": \"parcoords\"}], \"pie\": [{\"automargin\": true, \"type\": \"pie\"}], \"scatter\": [{\"marker\": {\"colorbar\": {\"outlinewidth\": 0, \"ticks\": \"\"}}, \"type\": \"scatter\"}], \"scatter3d\": [{\"line\": {\"colorbar\": {\"outlinewidth\": 0, \"ticks\": \"\"}}, \"marker\": {\"colorbar\": {\"outlinewidth\": 0, \"ticks\": \"\"}}, \"type\": \"scatter3d\"}], \"scattercarpet\": [{\"marker\": {\"colorbar\": {\"outlinewidth\": 0, \"ticks\": \"\"}}, \"type\": \"scattercarpet\"}], \"scattergeo\": [{\"marker\": {\"colorbar\": {\"outlinewidth\": 0, \"ticks\": \"\"}}, \"type\": \"scattergeo\"}], \"scattergl\": [{\"marker\": {\"colorbar\": {\"outlinewidth\": 0, \"ticks\": \"\"}}, \"type\": \"scattergl\"}], \"scattermapbox\": [{\"marker\": {\"colorbar\": {\"outlinewidth\": 0, \"ticks\": \"\"}}, \"type\": \"scattermapbox\"}], \"scatterpolar\": [{\"marker\": {\"colorbar\": {\"outlinewidth\": 0, \"ticks\": \"\"}}, \"type\": \"scatterpolar\"}], \"scatterpolargl\": [{\"marker\": {\"colorbar\": {\"outlinewidth\": 0, \"ticks\": \"\"}}, \"type\": \"scatterpolargl\"}], \"scatterternary\": [{\"marker\": {\"colorbar\": {\"outlinewidth\": 0, \"ticks\": \"\"}}, \"type\": \"scatterternary\"}], \"surface\": [{\"colorbar\": {\"outlinewidth\": 0, \"ticks\": \"\"}, \"colorscale\": [[0.0, \"#0d0887\"], [0.1111111111111111, \"#46039f\"], [0.2222222222222222, \"#7201a8\"], [0.3333333333333333, \"#9c179e\"], [0.4444444444444444, \"#bd3786\"], [0.5555555555555556, \"#d8576b\"], [0.6666666666666666, \"#ed7953\"], [0.7777777777777778, \"#fb9f3a\"], [0.8888888888888888, \"#fdca26\"], [1.0, \"#f0f921\"]], \"type\": \"surface\"}], \"table\": [{\"cells\": {\"fill\": {\"color\": \"#EBF0F8\"}, \"line\": {\"color\": \"white\"}}, \"header\": {\"fill\": {\"color\": \"#C8D4E3\"}, \"line\": {\"color\": \"white\"}}, \"type\": \"table\"}]}, \"layout\": {\"annotationdefaults\": {\"arrowcolor\": \"#2a3f5f\", \"arrowhead\": 0, \"arrowwidth\": 1}, \"autotypenumbers\": \"strict\", \"coloraxis\": {\"colorbar\": {\"outlinewidth\": 0, \"ticks\": \"\"}}, \"colorscale\": {\"diverging\": [[0, \"#8e0152\"], [0.1, \"#c51b7d\"], [0.2, \"#de77ae\"], [0.3, \"#f1b6da\"], [0.4, \"#fde0ef\"], [0.5, \"#f7f7f7\"], [0.6, \"#e6f5d0\"], [0.7, \"#b8e186\"], [0.8, \"#7fbc41\"], [0.9, \"#4d9221\"], [1, \"#276419\"]], \"sequential\": [[0.0, \"#0d0887\"], [0.1111111111111111, \"#46039f\"], [0.2222222222222222, \"#7201a8\"], [0.3333333333333333, \"#9c179e\"], [0.4444444444444444, \"#bd3786\"], [0.5555555555555556, \"#d8576b\"], [0.6666666666666666, \"#ed7953\"], [0.7777777777777778, \"#fb9f3a\"], [0.8888888888888888, \"#fdca26\"], [1.0, \"#f0f921\"]], \"sequentialminus\": [[0.0, \"#0d0887\"], [0.1111111111111111, \"#46039f\"], [0.2222222222222222, \"#7201a8\"], [0.3333333333333333, \"#9c179e\"], [0.4444444444444444, \"#bd3786\"], [0.5555555555555556, \"#d8576b\"], [0.6666666666666666, \"#ed7953\"], [0.7777777777777778, \"#fb9f3a\"], [0.8888888888888888, \"#fdca26\"], [1.0, \"#f0f921\"]]}, \"colorway\": [\"#636efa\", \"#EF553B\", \"#00cc96\", \"#ab63fa\", \"#FFA15A\", \"#19d3f3\", \"#FF6692\", \"#B6E880\", \"#FF97FF\", \"#FECB52\"], \"font\": {\"color\": \"#2a3f5f\"}, \"geo\": {\"bgcolor\": \"white\", \"lakecolor\": \"white\", \"landcolor\": \"#E5ECF6\", \"showlakes\": true, \"showland\": true, \"subunitcolor\": \"white\"}, \"hoverlabel\": {\"align\": \"left\"}, \"hovermode\": \"closest\", \"mapbox\": {\"style\": \"light\"}, \"paper_bgcolor\": \"white\", \"plot_bgcolor\": \"#E5ECF6\", \"polar\": {\"angularaxis\": {\"gridcolor\": \"white\", \"linecolor\": \"white\", \"ticks\": \"\"}, \"bgcolor\": \"#E5ECF6\", \"radialaxis\": {\"gridcolor\": \"white\", \"linecolor\": \"white\", \"ticks\": \"\"}}, \"scene\": {\"xaxis\": {\"backgroundcolor\": \"#E5ECF6\", \"gridcolor\": \"white\", \"gridwidth\": 2, \"linecolor\": \"white\", \"showbackground\": true, \"ticks\": \"\", \"zerolinecolor\": \"white\"}, \"yaxis\": {\"backgroundcolor\": \"#E5ECF6\", \"gridcolor\": \"white\", \"gridwidth\": 2, \"linecolor\": \"white\", \"showbackground\": true, \"ticks\": \"\", \"zerolinecolor\": \"white\"}, \"zaxis\": {\"backgroundcolor\": \"#E5ECF6\", \"gridcolor\": \"white\", \"gridwidth\": 2, \"linecolor\": \"white\", \"showbackground\": true, \"ticks\": \"\", \"zerolinecolor\": \"white\"}}, \"shapedefaults\": {\"line\": {\"color\": \"#2a3f5f\"}}, \"ternary\": {\"aaxis\": {\"gridcolor\": \"white\", \"linecolor\": \"white\", \"ticks\": \"\"}, \"baxis\": {\"gridcolor\": \"white\", \"linecolor\": \"white\", \"ticks\": \"\"}, \"bgcolor\": \"#E5ECF6\", \"caxis\": {\"gridcolor\": \"white\", \"linecolor\": \"white\", \"ticks\": \"\"}}, \"title\": {\"x\": 0.05}, \"xaxis\": {\"automargin\": true, \"gridcolor\": \"white\", \"linecolor\": \"white\", \"ticks\": \"\", \"title\": {\"standoff\": 15}, \"zerolinecolor\": \"white\", \"zerolinewidth\": 2}, \"yaxis\": {\"automargin\": true, \"gridcolor\": \"white\", \"linecolor\": \"white\", \"ticks\": \"\", \"title\": {\"standoff\": 15}, \"zerolinecolor\": \"white\", \"zerolinewidth\": 2}}}, \"title\": {\"text\": \"Free Session Student Pressent\"}, \"xaxis\": {\"linecolor\": \"black\", \"linewidth\": 2, \"mirror\": true, \"showline\": true, \"showticklabels\": true, \"tickangle\": 45, \"tickfont\": {\"color\": \"red\", \"size\": 10}, \"title\": {\"text\": \"Department Name\"}, \"zeroline\": true, \"zerolinecolor\": \"grey\", \"zerolinewidth\": 1}, \"yaxis\": {\"gridcolor\": \"lightgrey\", \"linecolor\": \"black\", \"linewidth\": 2, \"mirror\": true, \"showline\": true, \"title\": {\"text\": \"Total Students\"}, \"zeroline\": true, \"zerolinecolor\": \"grey\", \"zerolinewidth\": 1}},                        {\"responsive\": true}                    ).then(function(){\n",
       "                            \n",
       "var gd = document.getElementById('24cb39b7-08a6-49ee-b0f3-a46c5ebbea54');\n",
       "var x = new MutationObserver(function (mutations, observer) {{\n",
       "        var display = window.getComputedStyle(gd).display;\n",
       "        if (!display || display === 'none') {{\n",
       "            console.log([gd, 'removed!']);\n",
       "            Plotly.purge(gd);\n",
       "            observer.disconnect();\n",
       "        }}\n",
       "}});\n",
       "\n",
       "// Listen for the removal of the full notebook cells\n",
       "var notebookContainer = gd.closest('#notebook-container');\n",
       "if (notebookContainer) {{\n",
       "    x.observe(notebookContainer, {childList: true});\n",
       "}}\n",
       "\n",
       "// Listen for the clearing of the current output cell\n",
       "var outputEl = gd.closest('.output');\n",
       "if (outputEl) {{\n",
       "    x.observe(outputEl, {childList: true});\n",
       "}}\n",
       "\n",
       "                        })                };                });            </script>        </div>"
      ]
     },
     "metadata": {},
     "output_type": "display_data"
    }
   ],
   "source": [
    "draw_trace_bar(departmenttop,'Department','dep_counts','Free Session Student Pressent', 'Department Name','Total Students',\"red\")"
   ]
  },
  {
   "cell_type": "markdown",
   "metadata": {},
   "source": [
    "Most of the students are from Honors(Bsc/Msc)-(337)\n",
    "then Engineering student(188)"
   ]
  },
  {
   "cell_type": "markdown",
   "metadata": {},
   "source": [
    "# How many people had laptop and how many hadn’t and visualize them and also show those who didn’t had laptop which university are they from and from which department and their country as well. (from free session dataset)"
   ]
  },
  {
   "cell_type": "code",
   "execution_count": 41,
   "metadata": {},
   "outputs": [
    {
     "data": {
      "text/html": [
       "<div>\n",
       "<style scoped>\n",
       "    .dataframe tbody tr th:only-of-type {\n",
       "        vertical-align: middle;\n",
       "    }\n",
       "\n",
       "    .dataframe tbody tr th {\n",
       "        vertical-align: top;\n",
       "    }\n",
       "\n",
       "    .dataframe thead th {\n",
       "        text-align: right;\n",
       "    }\n",
       "</style>\n",
       "<table border=\"1\" class=\"dataframe\">\n",
       "  <thead>\n",
       "    <tr style=\"text-align: right;\">\n",
       "      <th></th>\n",
       "      <th>Timestamp</th>\n",
       "      <th>Name</th>\n",
       "      <th>Contact</th>\n",
       "      <th>Email</th>\n",
       "      <th>College</th>\n",
       "      <th>Department</th>\n",
       "      <th>HasLaptop</th>\n",
       "      <th>Source</th>\n",
       "      <th>Country</th>\n",
       "    </tr>\n",
       "  </thead>\n",
       "  <tbody>\n",
       "    <tr>\n",
       "      <th>0</th>\n",
       "      <td>8/24/2020 17:01:39</td>\n",
       "      <td>A.S.M. Raquibul Hasan</td>\n",
       "      <td>01722577922</td>\n",
       "      <td>raquibul.nsu@gmail.com</td>\n",
       "      <td>United International University</td>\n",
       "      <td>others</td>\n",
       "      <td>Yes</td>\n",
       "      <td>Facebook</td>\n",
       "      <td>Bangladesh</td>\n",
       "    </tr>\n",
       "    <tr>\n",
       "      <th>1</th>\n",
       "      <td>8/24/2020 10:08:54</td>\n",
       "      <td>Abdullah</td>\n",
       "      <td>NaN</td>\n",
       "      <td>sharif3abdullah@gmail.com</td>\n",
       "      <td>IIT</td>\n",
       "      <td>Engineering</td>\n",
       "      <td>NaN</td>\n",
       "      <td>NaN</td>\n",
       "      <td>Bangladesh</td>\n",
       "    </tr>\n",
       "    <tr>\n",
       "      <th>2</th>\n",
       "      <td>8/24/2020 9:20:28</td>\n",
       "      <td>Abdullah Bin Murad</td>\n",
       "      <td>01552443554</td>\n",
       "      <td>abmrifat54@gmail.com</td>\n",
       "      <td>Shahjalal University of Science and Technology</td>\n",
       "      <td>Engineering</td>\n",
       "      <td>Yes</td>\n",
       "      <td>NaN</td>\n",
       "      <td>Bangladesh</td>\n",
       "    </tr>\n",
       "    <tr>\n",
       "      <th>3</th>\n",
       "      <td>7/28/2020 12:16:30</td>\n",
       "      <td>Abhijoy Mukherjee</td>\n",
       "      <td>7003206060</td>\n",
       "      <td>abhijoymukherjee01@gmail.com</td>\n",
       "      <td>Asutosh College</td>\n",
       "      <td>Statistics</td>\n",
       "      <td>Yes</td>\n",
       "      <td>Friend</td>\n",
       "      <td>India</td>\n",
       "    </tr>\n",
       "    <tr>\n",
       "      <th>4</th>\n",
       "      <td>7/10/2020 13:56:14</td>\n",
       "      <td>Abhipreeti Acharjee</td>\n",
       "      <td>8274839744</td>\n",
       "      <td>deepamandal007@gmail.com</td>\n",
       "      <td>DEPARTMENT OF PURE MATHEMATICS, UNIVERSITY OF ...</td>\n",
       "      <td>PURE MATHEMATICS</td>\n",
       "      <td>Yes</td>\n",
       "      <td>NaN</td>\n",
       "      <td>India</td>\n",
       "    </tr>\n",
       "    <tr>\n",
       "      <th>...</th>\n",
       "      <td>...</td>\n",
       "      <td>...</td>\n",
       "      <td>...</td>\n",
       "      <td>...</td>\n",
       "      <td>...</td>\n",
       "      <td>...</td>\n",
       "      <td>...</td>\n",
       "      <td>...</td>\n",
       "      <td>...</td>\n",
       "    </tr>\n",
       "    <tr>\n",
       "      <th>943</th>\n",
       "      <td>1/22/2021 22:06:24</td>\n",
       "      <td>Ramanish Banerjee</td>\n",
       "      <td>8017179702</td>\n",
       "      <td>banerjeeramanish@gmail.com</td>\n",
       "      <td>MAULANA AZAD COLLEGE</td>\n",
       "      <td>Honors (BSC/MSC)</td>\n",
       "      <td>Yes</td>\n",
       "      <td>NaN</td>\n",
       "      <td>NaN</td>\n",
       "    </tr>\n",
       "    <tr>\n",
       "      <th>944</th>\n",
       "      <td>1/22/2021 22:46:21</td>\n",
       "      <td>Jinia Banerjee</td>\n",
       "      <td>6289719175</td>\n",
       "      <td>jiniabanerjee9727@gmail.com</td>\n",
       "      <td>Maulona Azad College</td>\n",
       "      <td>Honors (BSC/MSC)</td>\n",
       "      <td>No</td>\n",
       "      <td>NaN</td>\n",
       "      <td>NaN</td>\n",
       "    </tr>\n",
       "    <tr>\n",
       "      <th>945</th>\n",
       "      <td>1/23/2021 10:57:08</td>\n",
       "      <td>Md Safiqul Islam</td>\n",
       "      <td>8250955315</td>\n",
       "      <td>safiqulislam6006@gmail.com</td>\n",
       "      <td>Maulana Azad College</td>\n",
       "      <td>Honors (BSC/MSC)</td>\n",
       "      <td>Yes</td>\n",
       "      <td>NaN</td>\n",
       "      <td>NaN</td>\n",
       "    </tr>\n",
       "    <tr>\n",
       "      <th>946</th>\n",
       "      <td>1/23/2021 12:27:32</td>\n",
       "      <td>Soumojit Chatterjee</td>\n",
       "      <td>8101726672</td>\n",
       "      <td>imsoumojit@yahoo.com</td>\n",
       "      <td>Maulana Azad College</td>\n",
       "      <td>Honors (BSC/MSC)</td>\n",
       "      <td>Yes</td>\n",
       "      <td>NaN</td>\n",
       "      <td>NaN</td>\n",
       "    </tr>\n",
       "    <tr>\n",
       "      <th>947</th>\n",
       "      <td>1/23/2021 17:37:35</td>\n",
       "      <td>Debanjan Bhattacharjee</td>\n",
       "      <td>6290909245</td>\n",
       "      <td>debanjanbhattacharjee2002@gmail.com</td>\n",
       "      <td>Maulana Azad College</td>\n",
       "      <td>Honors (BSC/MSC)</td>\n",
       "      <td>Yes</td>\n",
       "      <td>NaN</td>\n",
       "      <td>NaN</td>\n",
       "    </tr>\n",
       "  </tbody>\n",
       "</table>\n",
       "<p>947 rows × 9 columns</p>\n",
       "</div>"
      ],
      "text/plain": [
       "              Timestamp                    Name      Contact  \\\n",
       "0    8/24/2020 17:01:39  A.S.M. Raquibul Hasan   01722577922   \n",
       "1    8/24/2020 10:08:54                Abdullah          NaN   \n",
       "2     8/24/2020 9:20:28    Abdullah Bin Murad    01552443554   \n",
       "3    7/28/2020 12:16:30       Abhijoy Mukherjee   7003206060   \n",
       "4    7/10/2020 13:56:14     Abhipreeti Acharjee   8274839744   \n",
       "..                  ...                     ...          ...   \n",
       "943  1/22/2021 22:06:24       Ramanish Banerjee   8017179702   \n",
       "944  1/22/2021 22:46:21          Jinia Banerjee   6289719175   \n",
       "945  1/23/2021 10:57:08        Md Safiqul Islam   8250955315   \n",
       "946  1/23/2021 12:27:32     Soumojit Chatterjee   8101726672   \n",
       "947  1/23/2021 17:37:35  Debanjan Bhattacharjee   6290909245   \n",
       "\n",
       "                                   Email  \\\n",
       "0                 raquibul.nsu@gmail.com   \n",
       "1              sharif3abdullah@gmail.com   \n",
       "2                   abmrifat54@gmail.com   \n",
       "3           abhijoymukherjee01@gmail.com   \n",
       "4               deepamandal007@gmail.com   \n",
       "..                                   ...   \n",
       "943           banerjeeramanish@gmail.com   \n",
       "944          jiniabanerjee9727@gmail.com   \n",
       "945           safiqulislam6006@gmail.com   \n",
       "946                 imsoumojit@yahoo.com   \n",
       "947  debanjanbhattacharjee2002@gmail.com   \n",
       "\n",
       "                                               College        Department  \\\n",
       "0                     United International University             others   \n",
       "1                                                  IIT       Engineering   \n",
       "2       Shahjalal University of Science and Technology       Engineering   \n",
       "3                                      Asutosh College        Statistics   \n",
       "4    DEPARTMENT OF PURE MATHEMATICS, UNIVERSITY OF ...  PURE MATHEMATICS   \n",
       "..                                                 ...               ...   \n",
       "943                               MAULANA AZAD COLLEGE  Honors (BSC/MSC)   \n",
       "944                               Maulona Azad College  Honors (BSC/MSC)   \n",
       "945                               Maulana Azad College  Honors (BSC/MSC)   \n",
       "946                               Maulana Azad College  Honors (BSC/MSC)   \n",
       "947                               Maulana Azad College  Honors (BSC/MSC)   \n",
       "\n",
       "    HasLaptop     Source     Country  \n",
       "0         Yes  Facebook   Bangladesh  \n",
       "1         NaN        NaN  Bangladesh  \n",
       "2         Yes        NaN  Bangladesh  \n",
       "3         Yes     Friend       India  \n",
       "4         Yes        NaN       India  \n",
       "..        ...        ...         ...  \n",
       "943       Yes        NaN         NaN  \n",
       "944        No        NaN         NaN  \n",
       "945       Yes        NaN         NaN  \n",
       "946       Yes        NaN         NaN  \n",
       "947       Yes        NaN         NaN  \n",
       "\n",
       "[947 rows x 9 columns]"
      ]
     },
     "execution_count": 41,
     "metadata": {},
     "output_type": "execute_result"
    }
   ],
   "source": [
    "df3"
   ]
  },
  {
   "cell_type": "code",
   "execution_count": 42,
   "metadata": {},
   "outputs": [
    {
     "data": {
      "text/html": [
       "<div>\n",
       "<style scoped>\n",
       "    .dataframe tbody tr th:only-of-type {\n",
       "        vertical-align: middle;\n",
       "    }\n",
       "\n",
       "    .dataframe tbody tr th {\n",
       "        vertical-align: top;\n",
       "    }\n",
       "\n",
       "    .dataframe thead th {\n",
       "        text-align: right;\n",
       "    }\n",
       "</style>\n",
       "<table border=\"1\" class=\"dataframe\">\n",
       "  <thead>\n",
       "    <tr style=\"text-align: right;\">\n",
       "      <th></th>\n",
       "      <th>Timestamp</th>\n",
       "      <th>Name</th>\n",
       "      <th>Contact</th>\n",
       "      <th>Email</th>\n",
       "      <th>College</th>\n",
       "      <th>Department</th>\n",
       "      <th>HasLaptop</th>\n",
       "      <th>Source</th>\n",
       "      <th>Country</th>\n",
       "    </tr>\n",
       "  </thead>\n",
       "  <tbody>\n",
       "    <tr>\n",
       "      <th>1</th>\n",
       "      <td>8/24/2020 10:08:54</td>\n",
       "      <td>Abdullah</td>\n",
       "      <td>NaN</td>\n",
       "      <td>sharif3abdullah@gmail.com</td>\n",
       "      <td>IIT</td>\n",
       "      <td>Engineering</td>\n",
       "      <td>NaN</td>\n",
       "      <td>NaN</td>\n",
       "      <td>Bangladesh</td>\n",
       "    </tr>\n",
       "    <tr>\n",
       "      <th>94</th>\n",
       "      <td>7/27/2020 17:00:05</td>\n",
       "      <td>Debolina Mullick</td>\n",
       "      <td>8172031684</td>\n",
       "      <td>NaN</td>\n",
       "      <td>Ramsaday College</td>\n",
       "      <td>NaN</td>\n",
       "      <td>NaN</td>\n",
       "      <td>NaN</td>\n",
       "      <td>India</td>\n",
       "    </tr>\n",
       "    <tr>\n",
       "      <th>126</th>\n",
       "      <td>7/10/2020 22:32:52</td>\n",
       "      <td>Isha Ghosh</td>\n",
       "      <td>7003471206</td>\n",
       "      <td>soumyabratamahapatra67@gmail.com</td>\n",
       "      <td>Jadavpur University</td>\n",
       "      <td>NaN</td>\n",
       "      <td>NaN</td>\n",
       "      <td>NaN</td>\n",
       "      <td>India</td>\n",
       "    </tr>\n",
       "    <tr>\n",
       "      <th>379</th>\n",
       "      <td>8/21/2020 15:57:42</td>\n",
       "      <td>Soham Banerjee</td>\n",
       "      <td>7679129720</td>\n",
       "      <td>24sohamb@gmail.com</td>\n",
       "      <td>Zoom international</td>\n",
       "      <td>others</td>\n",
       "      <td>NaN</td>\n",
       "      <td>Krishnamita Banerjee</td>\n",
       "      <td>India</td>\n",
       "    </tr>\n",
       "    <tr>\n",
       "      <th>762</th>\n",
       "      <td>12/12/2020 12:32:23</td>\n",
       "      <td>Poushali Chaki</td>\n",
       "      <td>7557035420</td>\n",
       "      <td>poushali.chaki99@gmail.com</td>\n",
       "      <td>Lady Brabourne college</td>\n",
       "      <td>Honors (BSC/MSC)</td>\n",
       "      <td>NaN</td>\n",
       "      <td>NaN</td>\n",
       "      <td>NaN</td>\n",
       "    </tr>\n",
       "    <tr>\n",
       "      <th>821</th>\n",
       "      <td>12/12/2020 18:29:51</td>\n",
       "      <td>Vedanta Goswami</td>\n",
       "      <td>8910734345</td>\n",
       "      <td>vedantabuffon@gmail.com</td>\n",
       "      <td>Maulana Azad College</td>\n",
       "      <td>Honors (BSC/MSC)</td>\n",
       "      <td>NaN</td>\n",
       "      <td>NaN</td>\n",
       "      <td>NaN</td>\n",
       "    </tr>\n",
       "    <tr>\n",
       "      <th>932</th>\n",
       "      <td>1/22/2021 15:59:08</td>\n",
       "      <td>Sourav Basak</td>\n",
       "      <td>9073471906</td>\n",
       "      <td>basaksourav3011@gmail.com</td>\n",
       "      <td>Maulana Azad College</td>\n",
       "      <td>Honors (BSC/MSC)</td>\n",
       "      <td>NaN</td>\n",
       "      <td>NaN</td>\n",
       "      <td>NaN</td>\n",
       "    </tr>\n",
       "  </tbody>\n",
       "</table>\n",
       "</div>"
      ],
      "text/plain": [
       "               Timestamp              Name     Contact  \\\n",
       "1     8/24/2020 10:08:54          Abdullah         NaN   \n",
       "94    7/27/2020 17:00:05  Debolina Mullick  8172031684   \n",
       "126   7/10/2020 22:32:52        Isha Ghosh  7003471206   \n",
       "379   8/21/2020 15:57:42    Soham Banerjee  7679129720   \n",
       "762  12/12/2020 12:32:23    Poushali Chaki  7557035420   \n",
       "821  12/12/2020 18:29:51  Vedanta Goswami   8910734345   \n",
       "932   1/22/2021 15:59:08     Sourav Basak   9073471906   \n",
       "\n",
       "                                Email                 College  \\\n",
       "1           sharif3abdullah@gmail.com                     IIT   \n",
       "94                                NaN        Ramsaday College   \n",
       "126  soumyabratamahapatra67@gmail.com     Jadavpur University   \n",
       "379                24sohamb@gmail.com      Zoom international   \n",
       "762        poushali.chaki99@gmail.com  Lady Brabourne college   \n",
       "821           vedantabuffon@gmail.com   Maulana Azad College    \n",
       "932        basaksourav3011@gmail.com    Maulana Azad College    \n",
       "\n",
       "           Department HasLaptop                Source     Country  \n",
       "1         Engineering       NaN                   NaN  Bangladesh  \n",
       "94                NaN       NaN                   NaN       India  \n",
       "126               NaN       NaN                   NaN       India  \n",
       "379            others       NaN  Krishnamita Banerjee       India  \n",
       "762  Honors (BSC/MSC)       NaN                   NaN         NaN  \n",
       "821  Honors (BSC/MSC)       NaN                   NaN         NaN  \n",
       "932  Honors (BSC/MSC)       NaN                   NaN         NaN  "
      ]
     },
     "execution_count": 42,
     "metadata": {},
     "output_type": "execute_result"
    }
   ],
   "source": [
    "#haslaptop has some Nan Values so NaN values are not important as we will visulazie who has the laptop or not\n",
    "df3[df3['HasLaptop'].isnull()]"
   ]
  },
  {
   "cell_type": "code",
   "execution_count": 43,
   "metadata": {},
   "outputs": [
    {
     "data": {
      "text/html": [
       "<div>\n",
       "<style scoped>\n",
       "    .dataframe tbody tr th:only-of-type {\n",
       "        vertical-align: middle;\n",
       "    }\n",
       "\n",
       "    .dataframe tbody tr th {\n",
       "        vertical-align: top;\n",
       "    }\n",
       "\n",
       "    .dataframe thead th {\n",
       "        text-align: right;\n",
       "    }\n",
       "</style>\n",
       "<table border=\"1\" class=\"dataframe\">\n",
       "  <thead>\n",
       "    <tr style=\"text-align: right;\">\n",
       "      <th></th>\n",
       "      <th>Timestamp</th>\n",
       "      <th>Name</th>\n",
       "      <th>Contact</th>\n",
       "      <th>Email</th>\n",
       "      <th>College</th>\n",
       "      <th>Department</th>\n",
       "      <th>HasLaptop</th>\n",
       "      <th>Source</th>\n",
       "      <th>Country</th>\n",
       "    </tr>\n",
       "  </thead>\n",
       "  <tbody>\n",
       "    <tr>\n",
       "      <th>0</th>\n",
       "      <td>8/24/2020 17:01:39</td>\n",
       "      <td>A.S.M. Raquibul Hasan</td>\n",
       "      <td>01722577922</td>\n",
       "      <td>raquibul.nsu@gmail.com</td>\n",
       "      <td>United International University</td>\n",
       "      <td>others</td>\n",
       "      <td>Yes</td>\n",
       "      <td>Facebook</td>\n",
       "      <td>Bangladesh</td>\n",
       "    </tr>\n",
       "    <tr>\n",
       "      <th>2</th>\n",
       "      <td>8/24/2020 9:20:28</td>\n",
       "      <td>Abdullah Bin Murad</td>\n",
       "      <td>01552443554</td>\n",
       "      <td>abmrifat54@gmail.com</td>\n",
       "      <td>Shahjalal University of Science and Technology</td>\n",
       "      <td>Engineering</td>\n",
       "      <td>Yes</td>\n",
       "      <td>NaN</td>\n",
       "      <td>Bangladesh</td>\n",
       "    </tr>\n",
       "    <tr>\n",
       "      <th>3</th>\n",
       "      <td>7/28/2020 12:16:30</td>\n",
       "      <td>Abhijoy Mukherjee</td>\n",
       "      <td>7003206060</td>\n",
       "      <td>abhijoymukherjee01@gmail.com</td>\n",
       "      <td>Asutosh College</td>\n",
       "      <td>Statistics</td>\n",
       "      <td>Yes</td>\n",
       "      <td>Friend</td>\n",
       "      <td>India</td>\n",
       "    </tr>\n",
       "    <tr>\n",
       "      <th>4</th>\n",
       "      <td>7/10/2020 13:56:14</td>\n",
       "      <td>Abhipreeti Acharjee</td>\n",
       "      <td>8274839744</td>\n",
       "      <td>deepamandal007@gmail.com</td>\n",
       "      <td>DEPARTMENT OF PURE MATHEMATICS, UNIVERSITY OF ...</td>\n",
       "      <td>PURE MATHEMATICS</td>\n",
       "      <td>Yes</td>\n",
       "      <td>NaN</td>\n",
       "      <td>India</td>\n",
       "    </tr>\n",
       "    <tr>\n",
       "      <th>5</th>\n",
       "      <td>7/28/2020 13:14:59</td>\n",
       "      <td>Abhiraj Bhattacharya</td>\n",
       "      <td>6289897311</td>\n",
       "      <td>abhattacharyya2001@gmail.com</td>\n",
       "      <td>Vivekananda College</td>\n",
       "      <td>B.Sc statistics</td>\n",
       "      <td>Yes</td>\n",
       "      <td>Friend</td>\n",
       "      <td>India</td>\n",
       "    </tr>\n",
       "    <tr>\n",
       "      <th>...</th>\n",
       "      <td>...</td>\n",
       "      <td>...</td>\n",
       "      <td>...</td>\n",
       "      <td>...</td>\n",
       "      <td>...</td>\n",
       "      <td>...</td>\n",
       "      <td>...</td>\n",
       "      <td>...</td>\n",
       "      <td>...</td>\n",
       "    </tr>\n",
       "    <tr>\n",
       "      <th>943</th>\n",
       "      <td>1/22/2021 22:06:24</td>\n",
       "      <td>Ramanish Banerjee</td>\n",
       "      <td>8017179702</td>\n",
       "      <td>banerjeeramanish@gmail.com</td>\n",
       "      <td>MAULANA AZAD COLLEGE</td>\n",
       "      <td>Honors (BSC/MSC)</td>\n",
       "      <td>Yes</td>\n",
       "      <td>NaN</td>\n",
       "      <td>NaN</td>\n",
       "    </tr>\n",
       "    <tr>\n",
       "      <th>944</th>\n",
       "      <td>1/22/2021 22:46:21</td>\n",
       "      <td>Jinia Banerjee</td>\n",
       "      <td>6289719175</td>\n",
       "      <td>jiniabanerjee9727@gmail.com</td>\n",
       "      <td>Maulona Azad College</td>\n",
       "      <td>Honors (BSC/MSC)</td>\n",
       "      <td>No</td>\n",
       "      <td>NaN</td>\n",
       "      <td>NaN</td>\n",
       "    </tr>\n",
       "    <tr>\n",
       "      <th>945</th>\n",
       "      <td>1/23/2021 10:57:08</td>\n",
       "      <td>Md Safiqul Islam</td>\n",
       "      <td>8250955315</td>\n",
       "      <td>safiqulislam6006@gmail.com</td>\n",
       "      <td>Maulana Azad College</td>\n",
       "      <td>Honors (BSC/MSC)</td>\n",
       "      <td>Yes</td>\n",
       "      <td>NaN</td>\n",
       "      <td>NaN</td>\n",
       "    </tr>\n",
       "    <tr>\n",
       "      <th>946</th>\n",
       "      <td>1/23/2021 12:27:32</td>\n",
       "      <td>Soumojit Chatterjee</td>\n",
       "      <td>8101726672</td>\n",
       "      <td>imsoumojit@yahoo.com</td>\n",
       "      <td>Maulana Azad College</td>\n",
       "      <td>Honors (BSC/MSC)</td>\n",
       "      <td>Yes</td>\n",
       "      <td>NaN</td>\n",
       "      <td>NaN</td>\n",
       "    </tr>\n",
       "    <tr>\n",
       "      <th>947</th>\n",
       "      <td>1/23/2021 17:37:35</td>\n",
       "      <td>Debanjan Bhattacharjee</td>\n",
       "      <td>6290909245</td>\n",
       "      <td>debanjanbhattacharjee2002@gmail.com</td>\n",
       "      <td>Maulana Azad College</td>\n",
       "      <td>Honors (BSC/MSC)</td>\n",
       "      <td>Yes</td>\n",
       "      <td>NaN</td>\n",
       "      <td>NaN</td>\n",
       "    </tr>\n",
       "  </tbody>\n",
       "</table>\n",
       "<p>940 rows × 9 columns</p>\n",
       "</div>"
      ],
      "text/plain": [
       "              Timestamp                    Name      Contact  \\\n",
       "0    8/24/2020 17:01:39  A.S.M. Raquibul Hasan   01722577922   \n",
       "2     8/24/2020 9:20:28    Abdullah Bin Murad    01552443554   \n",
       "3    7/28/2020 12:16:30       Abhijoy Mukherjee   7003206060   \n",
       "4    7/10/2020 13:56:14     Abhipreeti Acharjee   8274839744   \n",
       "5    7/28/2020 13:14:59    Abhiraj Bhattacharya   6289897311   \n",
       "..                  ...                     ...          ...   \n",
       "943  1/22/2021 22:06:24       Ramanish Banerjee   8017179702   \n",
       "944  1/22/2021 22:46:21          Jinia Banerjee   6289719175   \n",
       "945  1/23/2021 10:57:08        Md Safiqul Islam   8250955315   \n",
       "946  1/23/2021 12:27:32     Soumojit Chatterjee   8101726672   \n",
       "947  1/23/2021 17:37:35  Debanjan Bhattacharjee   6290909245   \n",
       "\n",
       "                                   Email  \\\n",
       "0                 raquibul.nsu@gmail.com   \n",
       "2                   abmrifat54@gmail.com   \n",
       "3           abhijoymukherjee01@gmail.com   \n",
       "4               deepamandal007@gmail.com   \n",
       "5           abhattacharyya2001@gmail.com   \n",
       "..                                   ...   \n",
       "943           banerjeeramanish@gmail.com   \n",
       "944          jiniabanerjee9727@gmail.com   \n",
       "945           safiqulislam6006@gmail.com   \n",
       "946                 imsoumojit@yahoo.com   \n",
       "947  debanjanbhattacharjee2002@gmail.com   \n",
       "\n",
       "                                               College        Department  \\\n",
       "0                     United International University             others   \n",
       "2       Shahjalal University of Science and Technology       Engineering   \n",
       "3                                      Asutosh College        Statistics   \n",
       "4    DEPARTMENT OF PURE MATHEMATICS, UNIVERSITY OF ...  PURE MATHEMATICS   \n",
       "5                                  Vivekananda College   B.Sc statistics   \n",
       "..                                                 ...               ...   \n",
       "943                               MAULANA AZAD COLLEGE  Honors (BSC/MSC)   \n",
       "944                               Maulona Azad College  Honors (BSC/MSC)   \n",
       "945                               Maulana Azad College  Honors (BSC/MSC)   \n",
       "946                               Maulana Azad College  Honors (BSC/MSC)   \n",
       "947                               Maulana Azad College  Honors (BSC/MSC)   \n",
       "\n",
       "    HasLaptop     Source     Country  \n",
       "0         Yes  Facebook   Bangladesh  \n",
       "2         Yes        NaN  Bangladesh  \n",
       "3         Yes     Friend       India  \n",
       "4         Yes        NaN       India  \n",
       "5         Yes     Friend       India  \n",
       "..        ...        ...         ...  \n",
       "943       Yes        NaN         NaN  \n",
       "944        No        NaN         NaN  \n",
       "945       Yes        NaN         NaN  \n",
       "946       Yes        NaN         NaN  \n",
       "947       Yes        NaN         NaN  \n",
       "\n",
       "[940 rows x 9 columns]"
      ]
     },
     "execution_count": 43,
     "metadata": {},
     "output_type": "execute_result"
    }
   ],
   "source": [
    "#removing this specifc rows whose has Nan Values in HasLaptop columns\n",
    "df4 = df3.dropna(subset=['HasLaptop'])\n",
    "df4"
   ]
  },
  {
   "cell_type": "code",
   "execution_count": 44,
   "metadata": {},
   "outputs": [],
   "source": [
    "# department data counting from all department\n",
    "# df5 = df4.groupby('HasLaptop')['HasLaptop'].agg('count').apply()\n",
    "# laptop= pd.DataFrame(df5)\n",
    "# laptop"
   ]
  },
  {
   "cell_type": "code",
   "execution_count": 45,
   "metadata": {},
   "outputs": [],
   "source": [
    "def HasLaptop(value):\n",
    "    \"\"\"\n",
    "    haslaptop columns value is yes the it will give return value 1\n",
    "    if no then it will give return value 0\n",
    "    \"\"\"\n",
    "    if value == \"Yes\" or value == \"yes\":\n",
    "        return 1\n",
    "    elif value == \"No\" or value == \"no\":\n",
    "        return 0\n",
    "    else:\n",
    "        return None"
   ]
  },
  {
   "cell_type": "code",
   "execution_count": 46,
   "metadata": {},
   "outputs": [],
   "source": [
    "df4['laptopcount'] = df4.apply(lambda row : HasLaptop(row['HasLaptop']), axis = 1)"
   ]
  },
  {
   "cell_type": "code",
   "execution_count": 47,
   "metadata": {},
   "outputs": [],
   "source": [
    "#student haslaptop also did the total counts \n",
    "df5 = df4.groupby('HasLaptop')['laptopcount'].agg('count')\n",
    "laptop= pd.DataFrame(df5)"
   ]
  },
  {
   "cell_type": "code",
   "execution_count": 48,
   "metadata": {},
   "outputs": [],
   "source": [
    "#reset the index for getting better result\n",
    "laptop.reset_index(inplace=True)\n"
   ]
  },
  {
   "cell_type": "code",
   "execution_count": 49,
   "metadata": {},
   "outputs": [
    {
     "data": {
      "text/html": [
       "<div>\n",
       "<style scoped>\n",
       "    .dataframe tbody tr th:only-of-type {\n",
       "        vertical-align: middle;\n",
       "    }\n",
       "\n",
       "    .dataframe tbody tr th {\n",
       "        vertical-align: top;\n",
       "    }\n",
       "\n",
       "    .dataframe thead th {\n",
       "        text-align: right;\n",
       "    }\n",
       "</style>\n",
       "<table border=\"1\" class=\"dataframe\">\n",
       "  <thead>\n",
       "    <tr style=\"text-align: right;\">\n",
       "      <th></th>\n",
       "      <th>HasLaptop</th>\n",
       "      <th>laptopcount</th>\n",
       "    </tr>\n",
       "  </thead>\n",
       "  <tbody>\n",
       "    <tr>\n",
       "      <th>0</th>\n",
       "      <td>Having own laptop/system</td>\n",
       "      <td>0</td>\n",
       "    </tr>\n",
       "  </tbody>\n",
       "</table>\n",
       "</div>"
      ],
      "text/plain": [
       "                   HasLaptop  laptopcount\n",
       "0  Having own laptop/system             0"
      ]
     },
     "execution_count": 49,
     "metadata": {},
     "output_type": "execute_result"
    }
   ],
   "source": [
    "#checking the rows\n",
    "laptop.iloc[[0]]"
   ]
  },
  {
   "cell_type": "code",
   "execution_count": 50,
   "metadata": {},
   "outputs": [
    {
     "data": {
      "text/html": [
       "<div>\n",
       "<style scoped>\n",
       "    .dataframe tbody tr th:only-of-type {\n",
       "        vertical-align: middle;\n",
       "    }\n",
       "\n",
       "    .dataframe tbody tr th {\n",
       "        vertical-align: top;\n",
       "    }\n",
       "\n",
       "    .dataframe thead th {\n",
       "        text-align: right;\n",
       "    }\n",
       "</style>\n",
       "<table border=\"1\" class=\"dataframe\">\n",
       "  <thead>\n",
       "    <tr style=\"text-align: right;\">\n",
       "      <th></th>\n",
       "      <th>HasLaptop</th>\n",
       "      <th>laptopcount</th>\n",
       "    </tr>\n",
       "  </thead>\n",
       "  <tbody>\n",
       "    <tr>\n",
       "      <th>1</th>\n",
       "      <td>No</td>\n",
       "      <td>205</td>\n",
       "    </tr>\n",
       "    <tr>\n",
       "      <th>2</th>\n",
       "      <td>Yes</td>\n",
       "      <td>734</td>\n",
       "    </tr>\n",
       "  </tbody>\n",
       "</table>\n",
       "</div>"
      ],
      "text/plain": [
       "  HasLaptop  laptopcount\n",
       "1        No          205\n",
       "2       Yes          734"
      ]
     },
     "execution_count": 50,
     "metadata": {},
     "output_type": "execute_result"
    }
   ],
   "source": [
    "#removing the rows\n",
    "laptop1 = laptop.drop(laptop.index[[0]])\n",
    "laptop1"
   ]
  },
  {
   "cell_type": "code",
   "execution_count": 51,
   "metadata": {},
   "outputs": [
    {
     "data": {
      "application/vnd.plotly.v1+json": {
       "config": {
        "linkText": "Export to plot.ly",
        "plotlyServerURL": "https://plot.ly",
        "showLink": false
       },
       "data": [
        {
         "marker": {
          "color": "Blue"
         },
         "text": [
          "Yes",
          "No"
         ],
         "type": "bar",
         "x": [
          "Yes",
          "No"
         ],
         "y": [
          734,
          205
         ]
        }
       ],
       "layout": {
        "hovermode": "closest",
        "paper_bgcolor": "rgba(0, 0, 0, 0)",
        "plot_bgcolor": "rgba(0, 0, 0, 0)",
        "template": {
         "data": {
          "bar": [
           {
            "error_x": {
             "color": "#2a3f5f"
            },
            "error_y": {
             "color": "#2a3f5f"
            },
            "marker": {
             "line": {
              "color": "#E5ECF6",
              "width": 0.5
             }
            },
            "type": "bar"
           }
          ],
          "barpolar": [
           {
            "marker": {
             "line": {
              "color": "#E5ECF6",
              "width": 0.5
             }
            },
            "type": "barpolar"
           }
          ],
          "carpet": [
           {
            "aaxis": {
             "endlinecolor": "#2a3f5f",
             "gridcolor": "white",
             "linecolor": "white",
             "minorgridcolor": "white",
             "startlinecolor": "#2a3f5f"
            },
            "baxis": {
             "endlinecolor": "#2a3f5f",
             "gridcolor": "white",
             "linecolor": "white",
             "minorgridcolor": "white",
             "startlinecolor": "#2a3f5f"
            },
            "type": "carpet"
           }
          ],
          "choropleth": [
           {
            "colorbar": {
             "outlinewidth": 0,
             "ticks": ""
            },
            "type": "choropleth"
           }
          ],
          "contour": [
           {
            "colorbar": {
             "outlinewidth": 0,
             "ticks": ""
            },
            "colorscale": [
             [
              0,
              "#0d0887"
             ],
             [
              0.1111111111111111,
              "#46039f"
             ],
             [
              0.2222222222222222,
              "#7201a8"
             ],
             [
              0.3333333333333333,
              "#9c179e"
             ],
             [
              0.4444444444444444,
              "#bd3786"
             ],
             [
              0.5555555555555556,
              "#d8576b"
             ],
             [
              0.6666666666666666,
              "#ed7953"
             ],
             [
              0.7777777777777778,
              "#fb9f3a"
             ],
             [
              0.8888888888888888,
              "#fdca26"
             ],
             [
              1,
              "#f0f921"
             ]
            ],
            "type": "contour"
           }
          ],
          "contourcarpet": [
           {
            "colorbar": {
             "outlinewidth": 0,
             "ticks": ""
            },
            "type": "contourcarpet"
           }
          ],
          "heatmap": [
           {
            "colorbar": {
             "outlinewidth": 0,
             "ticks": ""
            },
            "colorscale": [
             [
              0,
              "#0d0887"
             ],
             [
              0.1111111111111111,
              "#46039f"
             ],
             [
              0.2222222222222222,
              "#7201a8"
             ],
             [
              0.3333333333333333,
              "#9c179e"
             ],
             [
              0.4444444444444444,
              "#bd3786"
             ],
             [
              0.5555555555555556,
              "#d8576b"
             ],
             [
              0.6666666666666666,
              "#ed7953"
             ],
             [
              0.7777777777777778,
              "#fb9f3a"
             ],
             [
              0.8888888888888888,
              "#fdca26"
             ],
             [
              1,
              "#f0f921"
             ]
            ],
            "type": "heatmap"
           }
          ],
          "heatmapgl": [
           {
            "colorbar": {
             "outlinewidth": 0,
             "ticks": ""
            },
            "colorscale": [
             [
              0,
              "#0d0887"
             ],
             [
              0.1111111111111111,
              "#46039f"
             ],
             [
              0.2222222222222222,
              "#7201a8"
             ],
             [
              0.3333333333333333,
              "#9c179e"
             ],
             [
              0.4444444444444444,
              "#bd3786"
             ],
             [
              0.5555555555555556,
              "#d8576b"
             ],
             [
              0.6666666666666666,
              "#ed7953"
             ],
             [
              0.7777777777777778,
              "#fb9f3a"
             ],
             [
              0.8888888888888888,
              "#fdca26"
             ],
             [
              1,
              "#f0f921"
             ]
            ],
            "type": "heatmapgl"
           }
          ],
          "histogram": [
           {
            "marker": {
             "colorbar": {
              "outlinewidth": 0,
              "ticks": ""
             }
            },
            "type": "histogram"
           }
          ],
          "histogram2d": [
           {
            "colorbar": {
             "outlinewidth": 0,
             "ticks": ""
            },
            "colorscale": [
             [
              0,
              "#0d0887"
             ],
             [
              0.1111111111111111,
              "#46039f"
             ],
             [
              0.2222222222222222,
              "#7201a8"
             ],
             [
              0.3333333333333333,
              "#9c179e"
             ],
             [
              0.4444444444444444,
              "#bd3786"
             ],
             [
              0.5555555555555556,
              "#d8576b"
             ],
             [
              0.6666666666666666,
              "#ed7953"
             ],
             [
              0.7777777777777778,
              "#fb9f3a"
             ],
             [
              0.8888888888888888,
              "#fdca26"
             ],
             [
              1,
              "#f0f921"
             ]
            ],
            "type": "histogram2d"
           }
          ],
          "histogram2dcontour": [
           {
            "colorbar": {
             "outlinewidth": 0,
             "ticks": ""
            },
            "colorscale": [
             [
              0,
              "#0d0887"
             ],
             [
              0.1111111111111111,
              "#46039f"
             ],
             [
              0.2222222222222222,
              "#7201a8"
             ],
             [
              0.3333333333333333,
              "#9c179e"
             ],
             [
              0.4444444444444444,
              "#bd3786"
             ],
             [
              0.5555555555555556,
              "#d8576b"
             ],
             [
              0.6666666666666666,
              "#ed7953"
             ],
             [
              0.7777777777777778,
              "#fb9f3a"
             ],
             [
              0.8888888888888888,
              "#fdca26"
             ],
             [
              1,
              "#f0f921"
             ]
            ],
            "type": "histogram2dcontour"
           }
          ],
          "mesh3d": [
           {
            "colorbar": {
             "outlinewidth": 0,
             "ticks": ""
            },
            "type": "mesh3d"
           }
          ],
          "parcoords": [
           {
            "line": {
             "colorbar": {
              "outlinewidth": 0,
              "ticks": ""
             }
            },
            "type": "parcoords"
           }
          ],
          "pie": [
           {
            "automargin": true,
            "type": "pie"
           }
          ],
          "scatter": [
           {
            "marker": {
             "colorbar": {
              "outlinewidth": 0,
              "ticks": ""
             }
            },
            "type": "scatter"
           }
          ],
          "scatter3d": [
           {
            "line": {
             "colorbar": {
              "outlinewidth": 0,
              "ticks": ""
             }
            },
            "marker": {
             "colorbar": {
              "outlinewidth": 0,
              "ticks": ""
             }
            },
            "type": "scatter3d"
           }
          ],
          "scattercarpet": [
           {
            "marker": {
             "colorbar": {
              "outlinewidth": 0,
              "ticks": ""
             }
            },
            "type": "scattercarpet"
           }
          ],
          "scattergeo": [
           {
            "marker": {
             "colorbar": {
              "outlinewidth": 0,
              "ticks": ""
             }
            },
            "type": "scattergeo"
           }
          ],
          "scattergl": [
           {
            "marker": {
             "colorbar": {
              "outlinewidth": 0,
              "ticks": ""
             }
            },
            "type": "scattergl"
           }
          ],
          "scattermapbox": [
           {
            "marker": {
             "colorbar": {
              "outlinewidth": 0,
              "ticks": ""
             }
            },
            "type": "scattermapbox"
           }
          ],
          "scatterpolar": [
           {
            "marker": {
             "colorbar": {
              "outlinewidth": 0,
              "ticks": ""
             }
            },
            "type": "scatterpolar"
           }
          ],
          "scatterpolargl": [
           {
            "marker": {
             "colorbar": {
              "outlinewidth": 0,
              "ticks": ""
             }
            },
            "type": "scatterpolargl"
           }
          ],
          "scatterternary": [
           {
            "marker": {
             "colorbar": {
              "outlinewidth": 0,
              "ticks": ""
             }
            },
            "type": "scatterternary"
           }
          ],
          "surface": [
           {
            "colorbar": {
             "outlinewidth": 0,
             "ticks": ""
            },
            "colorscale": [
             [
              0,
              "#0d0887"
             ],
             [
              0.1111111111111111,
              "#46039f"
             ],
             [
              0.2222222222222222,
              "#7201a8"
             ],
             [
              0.3333333333333333,
              "#9c179e"
             ],
             [
              0.4444444444444444,
              "#bd3786"
             ],
             [
              0.5555555555555556,
              "#d8576b"
             ],
             [
              0.6666666666666666,
              "#ed7953"
             ],
             [
              0.7777777777777778,
              "#fb9f3a"
             ],
             [
              0.8888888888888888,
              "#fdca26"
             ],
             [
              1,
              "#f0f921"
             ]
            ],
            "type": "surface"
           }
          ],
          "table": [
           {
            "cells": {
             "fill": {
              "color": "#EBF0F8"
             },
             "line": {
              "color": "white"
             }
            },
            "header": {
             "fill": {
              "color": "#C8D4E3"
             },
             "line": {
              "color": "white"
             }
            },
            "type": "table"
           }
          ]
         },
         "layout": {
          "annotationdefaults": {
           "arrowcolor": "#2a3f5f",
           "arrowhead": 0,
           "arrowwidth": 1
          },
          "autotypenumbers": "strict",
          "coloraxis": {
           "colorbar": {
            "outlinewidth": 0,
            "ticks": ""
           }
          },
          "colorscale": {
           "diverging": [
            [
             0,
             "#8e0152"
            ],
            [
             0.1,
             "#c51b7d"
            ],
            [
             0.2,
             "#de77ae"
            ],
            [
             0.3,
             "#f1b6da"
            ],
            [
             0.4,
             "#fde0ef"
            ],
            [
             0.5,
             "#f7f7f7"
            ],
            [
             0.6,
             "#e6f5d0"
            ],
            [
             0.7,
             "#b8e186"
            ],
            [
             0.8,
             "#7fbc41"
            ],
            [
             0.9,
             "#4d9221"
            ],
            [
             1,
             "#276419"
            ]
           ],
           "sequential": [
            [
             0,
             "#0d0887"
            ],
            [
             0.1111111111111111,
             "#46039f"
            ],
            [
             0.2222222222222222,
             "#7201a8"
            ],
            [
             0.3333333333333333,
             "#9c179e"
            ],
            [
             0.4444444444444444,
             "#bd3786"
            ],
            [
             0.5555555555555556,
             "#d8576b"
            ],
            [
             0.6666666666666666,
             "#ed7953"
            ],
            [
             0.7777777777777778,
             "#fb9f3a"
            ],
            [
             0.8888888888888888,
             "#fdca26"
            ],
            [
             1,
             "#f0f921"
            ]
           ],
           "sequentialminus": [
            [
             0,
             "#0d0887"
            ],
            [
             0.1111111111111111,
             "#46039f"
            ],
            [
             0.2222222222222222,
             "#7201a8"
            ],
            [
             0.3333333333333333,
             "#9c179e"
            ],
            [
             0.4444444444444444,
             "#bd3786"
            ],
            [
             0.5555555555555556,
             "#d8576b"
            ],
            [
             0.6666666666666666,
             "#ed7953"
            ],
            [
             0.7777777777777778,
             "#fb9f3a"
            ],
            [
             0.8888888888888888,
             "#fdca26"
            ],
            [
             1,
             "#f0f921"
            ]
           ]
          },
          "colorway": [
           "#636efa",
           "#EF553B",
           "#00cc96",
           "#ab63fa",
           "#FFA15A",
           "#19d3f3",
           "#FF6692",
           "#B6E880",
           "#FF97FF",
           "#FECB52"
          ],
          "font": {
           "color": "#2a3f5f"
          },
          "geo": {
           "bgcolor": "white",
           "lakecolor": "white",
           "landcolor": "#E5ECF6",
           "showlakes": true,
           "showland": true,
           "subunitcolor": "white"
          },
          "hoverlabel": {
           "align": "left"
          },
          "hovermode": "closest",
          "mapbox": {
           "style": "light"
          },
          "paper_bgcolor": "white",
          "plot_bgcolor": "#E5ECF6",
          "polar": {
           "angularaxis": {
            "gridcolor": "white",
            "linecolor": "white",
            "ticks": ""
           },
           "bgcolor": "#E5ECF6",
           "radialaxis": {
            "gridcolor": "white",
            "linecolor": "white",
            "ticks": ""
           }
          },
          "scene": {
           "xaxis": {
            "backgroundcolor": "#E5ECF6",
            "gridcolor": "white",
            "gridwidth": 2,
            "linecolor": "white",
            "showbackground": true,
            "ticks": "",
            "zerolinecolor": "white"
           },
           "yaxis": {
            "backgroundcolor": "#E5ECF6",
            "gridcolor": "white",
            "gridwidth": 2,
            "linecolor": "white",
            "showbackground": true,
            "ticks": "",
            "zerolinecolor": "white"
           },
           "zaxis": {
            "backgroundcolor": "#E5ECF6",
            "gridcolor": "white",
            "gridwidth": 2,
            "linecolor": "white",
            "showbackground": true,
            "ticks": "",
            "zerolinecolor": "white"
           }
          },
          "shapedefaults": {
           "line": {
            "color": "#2a3f5f"
           }
          },
          "ternary": {
           "aaxis": {
            "gridcolor": "white",
            "linecolor": "white",
            "ticks": ""
           },
           "baxis": {
            "gridcolor": "white",
            "linecolor": "white",
            "ticks": ""
           },
           "bgcolor": "#E5ECF6",
           "caxis": {
            "gridcolor": "white",
            "linecolor": "white",
            "ticks": ""
           }
          },
          "title": {
           "x": 0.05
          },
          "xaxis": {
           "automargin": true,
           "gridcolor": "white",
           "linecolor": "white",
           "ticks": "",
           "title": {
            "standoff": 15
           },
           "zerolinecolor": "white",
           "zerolinewidth": 2
          },
          "yaxis": {
           "automargin": true,
           "gridcolor": "white",
           "linecolor": "white",
           "ticks": "",
           "title": {
            "standoff": 15
           },
           "zerolinecolor": "white",
           "zerolinewidth": 2
          }
         }
        },
        "title": {
         "text": "Free Session Student Has Laptop or Not"
        },
        "xaxis": {
         "linecolor": "black",
         "linewidth": 2,
         "mirror": true,
         "showline": true,
         "showticklabels": true,
         "tickangle": 45,
         "tickfont": {
          "color": "red",
          "size": 10
         },
         "title": {
          "text": "Students Opinion"
         },
         "zeroline": true,
         "zerolinecolor": "grey",
         "zerolinewidth": 1
        },
        "yaxis": {
         "gridcolor": "lightgrey",
         "linecolor": "black",
         "linewidth": 2,
         "mirror": true,
         "showline": true,
         "title": {
          "text": "Total Students"
         },
         "zeroline": true,
         "zerolinecolor": "grey",
         "zerolinewidth": 1
        }
       }
      },
      "text/html": [
       "<div>                            <div id=\"30210280-e8ba-4e37-9b6c-19d3881526ae\" class=\"plotly-graph-div\" style=\"height:525px; width:100%;\"></div>            <script type=\"text/javascript\">                require([\"plotly\"], function(Plotly) {                    window.PLOTLYENV=window.PLOTLYENV || {};                                    if (document.getElementById(\"30210280-e8ba-4e37-9b6c-19d3881526ae\")) {                    Plotly.newPlot(                        \"30210280-e8ba-4e37-9b6c-19d3881526ae\",                        [{\"marker\": {\"color\": \"Blue\"}, \"text\": [\"Yes\", \"No\"], \"type\": \"bar\", \"x\": [\"Yes\", \"No\"], \"y\": [734, 205]}],                        {\"hovermode\": \"closest\", \"paper_bgcolor\": \"rgba(0, 0, 0, 0)\", \"plot_bgcolor\": \"rgba(0, 0, 0, 0)\", \"template\": {\"data\": {\"bar\": [{\"error_x\": {\"color\": \"#2a3f5f\"}, \"error_y\": {\"color\": \"#2a3f5f\"}, \"marker\": {\"line\": {\"color\": \"#E5ECF6\", \"width\": 0.5}}, \"type\": \"bar\"}], \"barpolar\": [{\"marker\": {\"line\": {\"color\": \"#E5ECF6\", \"width\": 0.5}}, \"type\": \"barpolar\"}], \"carpet\": [{\"aaxis\": {\"endlinecolor\": \"#2a3f5f\", \"gridcolor\": \"white\", \"linecolor\": \"white\", \"minorgridcolor\": \"white\", \"startlinecolor\": \"#2a3f5f\"}, \"baxis\": {\"endlinecolor\": \"#2a3f5f\", \"gridcolor\": \"white\", \"linecolor\": \"white\", \"minorgridcolor\": \"white\", \"startlinecolor\": \"#2a3f5f\"}, \"type\": \"carpet\"}], \"choropleth\": [{\"colorbar\": {\"outlinewidth\": 0, \"ticks\": \"\"}, \"type\": \"choropleth\"}], \"contour\": [{\"colorbar\": {\"outlinewidth\": 0, \"ticks\": \"\"}, \"colorscale\": [[0.0, \"#0d0887\"], [0.1111111111111111, \"#46039f\"], [0.2222222222222222, \"#7201a8\"], [0.3333333333333333, \"#9c179e\"], [0.4444444444444444, \"#bd3786\"], [0.5555555555555556, \"#d8576b\"], [0.6666666666666666, \"#ed7953\"], [0.7777777777777778, \"#fb9f3a\"], [0.8888888888888888, \"#fdca26\"], [1.0, \"#f0f921\"]], \"type\": \"contour\"}], \"contourcarpet\": [{\"colorbar\": {\"outlinewidth\": 0, \"ticks\": \"\"}, \"type\": \"contourcarpet\"}], \"heatmap\": [{\"colorbar\": {\"outlinewidth\": 0, \"ticks\": \"\"}, \"colorscale\": [[0.0, \"#0d0887\"], [0.1111111111111111, \"#46039f\"], [0.2222222222222222, \"#7201a8\"], [0.3333333333333333, \"#9c179e\"], [0.4444444444444444, \"#bd3786\"], [0.5555555555555556, \"#d8576b\"], [0.6666666666666666, \"#ed7953\"], [0.7777777777777778, \"#fb9f3a\"], [0.8888888888888888, \"#fdca26\"], [1.0, \"#f0f921\"]], \"type\": \"heatmap\"}], \"heatmapgl\": [{\"colorbar\": {\"outlinewidth\": 0, \"ticks\": \"\"}, \"colorscale\": [[0.0, \"#0d0887\"], [0.1111111111111111, \"#46039f\"], [0.2222222222222222, \"#7201a8\"], [0.3333333333333333, \"#9c179e\"], [0.4444444444444444, \"#bd3786\"], [0.5555555555555556, \"#d8576b\"], [0.6666666666666666, \"#ed7953\"], [0.7777777777777778, \"#fb9f3a\"], [0.8888888888888888, \"#fdca26\"], [1.0, \"#f0f921\"]], \"type\": \"heatmapgl\"}], \"histogram\": [{\"marker\": {\"colorbar\": {\"outlinewidth\": 0, \"ticks\": \"\"}}, \"type\": \"histogram\"}], \"histogram2d\": [{\"colorbar\": {\"outlinewidth\": 0, \"ticks\": \"\"}, \"colorscale\": [[0.0, \"#0d0887\"], [0.1111111111111111, \"#46039f\"], [0.2222222222222222, \"#7201a8\"], [0.3333333333333333, \"#9c179e\"], [0.4444444444444444, \"#bd3786\"], [0.5555555555555556, \"#d8576b\"], [0.6666666666666666, \"#ed7953\"], [0.7777777777777778, \"#fb9f3a\"], [0.8888888888888888, \"#fdca26\"], [1.0, \"#f0f921\"]], \"type\": \"histogram2d\"}], \"histogram2dcontour\": [{\"colorbar\": {\"outlinewidth\": 0, \"ticks\": \"\"}, \"colorscale\": [[0.0, \"#0d0887\"], [0.1111111111111111, \"#46039f\"], [0.2222222222222222, \"#7201a8\"], [0.3333333333333333, \"#9c179e\"], [0.4444444444444444, \"#bd3786\"], [0.5555555555555556, \"#d8576b\"], [0.6666666666666666, \"#ed7953\"], [0.7777777777777778, \"#fb9f3a\"], [0.8888888888888888, \"#fdca26\"], [1.0, \"#f0f921\"]], \"type\": \"histogram2dcontour\"}], \"mesh3d\": [{\"colorbar\": {\"outlinewidth\": 0, \"ticks\": \"\"}, \"type\": \"mesh3d\"}], \"parcoords\": [{\"line\": {\"colorbar\": {\"outlinewidth\": 0, \"ticks\": \"\"}}, \"type\": \"parcoords\"}], \"pie\": [{\"automargin\": true, \"type\": \"pie\"}], \"scatter\": [{\"marker\": {\"colorbar\": {\"outlinewidth\": 0, \"ticks\": \"\"}}, \"type\": \"scatter\"}], \"scatter3d\": [{\"line\": {\"colorbar\": {\"outlinewidth\": 0, \"ticks\": \"\"}}, \"marker\": {\"colorbar\": {\"outlinewidth\": 0, \"ticks\": \"\"}}, \"type\": \"scatter3d\"}], \"scattercarpet\": [{\"marker\": {\"colorbar\": {\"outlinewidth\": 0, \"ticks\": \"\"}}, \"type\": \"scattercarpet\"}], \"scattergeo\": [{\"marker\": {\"colorbar\": {\"outlinewidth\": 0, \"ticks\": \"\"}}, \"type\": \"scattergeo\"}], \"scattergl\": [{\"marker\": {\"colorbar\": {\"outlinewidth\": 0, \"ticks\": \"\"}}, \"type\": \"scattergl\"}], \"scattermapbox\": [{\"marker\": {\"colorbar\": {\"outlinewidth\": 0, \"ticks\": \"\"}}, \"type\": \"scattermapbox\"}], \"scatterpolar\": [{\"marker\": {\"colorbar\": {\"outlinewidth\": 0, \"ticks\": \"\"}}, \"type\": \"scatterpolar\"}], \"scatterpolargl\": [{\"marker\": {\"colorbar\": {\"outlinewidth\": 0, \"ticks\": \"\"}}, \"type\": \"scatterpolargl\"}], \"scatterternary\": [{\"marker\": {\"colorbar\": {\"outlinewidth\": 0, \"ticks\": \"\"}}, \"type\": \"scatterternary\"}], \"surface\": [{\"colorbar\": {\"outlinewidth\": 0, \"ticks\": \"\"}, \"colorscale\": [[0.0, \"#0d0887\"], [0.1111111111111111, \"#46039f\"], [0.2222222222222222, \"#7201a8\"], [0.3333333333333333, \"#9c179e\"], [0.4444444444444444, \"#bd3786\"], [0.5555555555555556, \"#d8576b\"], [0.6666666666666666, \"#ed7953\"], [0.7777777777777778, \"#fb9f3a\"], [0.8888888888888888, \"#fdca26\"], [1.0, \"#f0f921\"]], \"type\": \"surface\"}], \"table\": [{\"cells\": {\"fill\": {\"color\": \"#EBF0F8\"}, \"line\": {\"color\": \"white\"}}, \"header\": {\"fill\": {\"color\": \"#C8D4E3\"}, \"line\": {\"color\": \"white\"}}, \"type\": \"table\"}]}, \"layout\": {\"annotationdefaults\": {\"arrowcolor\": \"#2a3f5f\", \"arrowhead\": 0, \"arrowwidth\": 1}, \"autotypenumbers\": \"strict\", \"coloraxis\": {\"colorbar\": {\"outlinewidth\": 0, \"ticks\": \"\"}}, \"colorscale\": {\"diverging\": [[0, \"#8e0152\"], [0.1, \"#c51b7d\"], [0.2, \"#de77ae\"], [0.3, \"#f1b6da\"], [0.4, \"#fde0ef\"], [0.5, \"#f7f7f7\"], [0.6, \"#e6f5d0\"], [0.7, \"#b8e186\"], [0.8, \"#7fbc41\"], [0.9, \"#4d9221\"], [1, \"#276419\"]], \"sequential\": [[0.0, \"#0d0887\"], [0.1111111111111111, \"#46039f\"], [0.2222222222222222, \"#7201a8\"], [0.3333333333333333, \"#9c179e\"], [0.4444444444444444, \"#bd3786\"], [0.5555555555555556, \"#d8576b\"], [0.6666666666666666, \"#ed7953\"], [0.7777777777777778, \"#fb9f3a\"], [0.8888888888888888, \"#fdca26\"], [1.0, \"#f0f921\"]], \"sequentialminus\": [[0.0, \"#0d0887\"], [0.1111111111111111, \"#46039f\"], [0.2222222222222222, \"#7201a8\"], [0.3333333333333333, \"#9c179e\"], [0.4444444444444444, \"#bd3786\"], [0.5555555555555556, \"#d8576b\"], [0.6666666666666666, \"#ed7953\"], [0.7777777777777778, \"#fb9f3a\"], [0.8888888888888888, \"#fdca26\"], [1.0, \"#f0f921\"]]}, \"colorway\": [\"#636efa\", \"#EF553B\", \"#00cc96\", \"#ab63fa\", \"#FFA15A\", \"#19d3f3\", \"#FF6692\", \"#B6E880\", \"#FF97FF\", \"#FECB52\"], \"font\": {\"color\": \"#2a3f5f\"}, \"geo\": {\"bgcolor\": \"white\", \"lakecolor\": \"white\", \"landcolor\": \"#E5ECF6\", \"showlakes\": true, \"showland\": true, \"subunitcolor\": \"white\"}, \"hoverlabel\": {\"align\": \"left\"}, \"hovermode\": \"closest\", \"mapbox\": {\"style\": \"light\"}, \"paper_bgcolor\": \"white\", \"plot_bgcolor\": \"#E5ECF6\", \"polar\": {\"angularaxis\": {\"gridcolor\": \"white\", \"linecolor\": \"white\", \"ticks\": \"\"}, \"bgcolor\": \"#E5ECF6\", \"radialaxis\": {\"gridcolor\": \"white\", \"linecolor\": \"white\", \"ticks\": \"\"}}, \"scene\": {\"xaxis\": {\"backgroundcolor\": \"#E5ECF6\", \"gridcolor\": \"white\", \"gridwidth\": 2, \"linecolor\": \"white\", \"showbackground\": true, \"ticks\": \"\", \"zerolinecolor\": \"white\"}, \"yaxis\": {\"backgroundcolor\": \"#E5ECF6\", \"gridcolor\": \"white\", \"gridwidth\": 2, \"linecolor\": \"white\", \"showbackground\": true, \"ticks\": \"\", \"zerolinecolor\": \"white\"}, \"zaxis\": {\"backgroundcolor\": \"#E5ECF6\", \"gridcolor\": \"white\", \"gridwidth\": 2, \"linecolor\": \"white\", \"showbackground\": true, \"ticks\": \"\", \"zerolinecolor\": \"white\"}}, \"shapedefaults\": {\"line\": {\"color\": \"#2a3f5f\"}}, \"ternary\": {\"aaxis\": {\"gridcolor\": \"white\", \"linecolor\": \"white\", \"ticks\": \"\"}, \"baxis\": {\"gridcolor\": \"white\", \"linecolor\": \"white\", \"ticks\": \"\"}, \"bgcolor\": \"#E5ECF6\", \"caxis\": {\"gridcolor\": \"white\", \"linecolor\": \"white\", \"ticks\": \"\"}}, \"title\": {\"x\": 0.05}, \"xaxis\": {\"automargin\": true, \"gridcolor\": \"white\", \"linecolor\": \"white\", \"ticks\": \"\", \"title\": {\"standoff\": 15}, \"zerolinecolor\": \"white\", \"zerolinewidth\": 2}, \"yaxis\": {\"automargin\": true, \"gridcolor\": \"white\", \"linecolor\": \"white\", \"ticks\": \"\", \"title\": {\"standoff\": 15}, \"zerolinecolor\": \"white\", \"zerolinewidth\": 2}}}, \"title\": {\"text\": \"Free Session Student Has Laptop or Not\"}, \"xaxis\": {\"linecolor\": \"black\", \"linewidth\": 2, \"mirror\": true, \"showline\": true, \"showticklabels\": true, \"tickangle\": 45, \"tickfont\": {\"color\": \"red\", \"size\": 10}, \"title\": {\"text\": \"Students Opinion\"}, \"zeroline\": true, \"zerolinecolor\": \"grey\", \"zerolinewidth\": 1}, \"yaxis\": {\"gridcolor\": \"lightgrey\", \"linecolor\": \"black\", \"linewidth\": 2, \"mirror\": true, \"showline\": true, \"title\": {\"text\": \"Total Students\"}, \"zeroline\": true, \"zerolinecolor\": \"grey\", \"zerolinewidth\": 1}},                        {\"responsive\": true}                    ).then(function(){\n",
       "                            \n",
       "var gd = document.getElementById('30210280-e8ba-4e37-9b6c-19d3881526ae');\n",
       "var x = new MutationObserver(function (mutations, observer) {{\n",
       "        var display = window.getComputedStyle(gd).display;\n",
       "        if (!display || display === 'none') {{\n",
       "            console.log([gd, 'removed!']);\n",
       "            Plotly.purge(gd);\n",
       "            observer.disconnect();\n",
       "        }}\n",
       "}});\n",
       "\n",
       "// Listen for the removal of the full notebook cells\n",
       "var notebookContainer = gd.closest('#notebook-container');\n",
       "if (notebookContainer) {{\n",
       "    x.observe(notebookContainer, {childList: true});\n",
       "}}\n",
       "\n",
       "// Listen for the clearing of the current output cell\n",
       "var outputEl = gd.closest('.output');\n",
       "if (outputEl) {{\n",
       "    x.observe(outputEl, {childList: true});\n",
       "}}\n",
       "\n",
       "                        })                };                });            </script>        </div>"
      ]
     },
     "metadata": {},
     "output_type": "display_data"
    }
   ],
   "source": [
    "#making the trace bar\n",
    "draw_trace_bar(laptop1,'HasLaptop','laptopcount','Free Session Student Has Laptop or Not', 'Students Opinion','Total Students',\"Blue\")"
   ]
  },
  {
   "cell_type": "markdown",
   "metadata": {},
   "source": [
    "So we can see that from total students who give their feedback from them 734 students have their own laptop and 205 students have no laptop"
   ]
  },
  {
   "cell_type": "code",
   "execution_count": 52,
   "metadata": {},
   "outputs": [
    {
     "data": {
      "text/html": [
       "<div>\n",
       "<style scoped>\n",
       "    .dataframe tbody tr th:only-of-type {\n",
       "        vertical-align: middle;\n",
       "    }\n",
       "\n",
       "    .dataframe tbody tr th {\n",
       "        vertical-align: top;\n",
       "    }\n",
       "\n",
       "    .dataframe thead th {\n",
       "        text-align: right;\n",
       "    }\n",
       "</style>\n",
       "<table border=\"1\" class=\"dataframe\">\n",
       "  <thead>\n",
       "    <tr style=\"text-align: right;\">\n",
       "      <th></th>\n",
       "      <th>Timestamp</th>\n",
       "      <th>Name</th>\n",
       "      <th>Contact</th>\n",
       "      <th>Email</th>\n",
       "      <th>College</th>\n",
       "      <th>Department</th>\n",
       "      <th>HasLaptop</th>\n",
       "      <th>Source</th>\n",
       "      <th>Country</th>\n",
       "      <th>laptopcount</th>\n",
       "    </tr>\n",
       "  </thead>\n",
       "  <tbody>\n",
       "    <tr>\n",
       "      <th>0</th>\n",
       "      <td>8/24/2020 17:01:39</td>\n",
       "      <td>A.S.M. Raquibul Hasan</td>\n",
       "      <td>01722577922</td>\n",
       "      <td>raquibul.nsu@gmail.com</td>\n",
       "      <td>United International University</td>\n",
       "      <td>others</td>\n",
       "      <td>Yes</td>\n",
       "      <td>Facebook</td>\n",
       "      <td>Bangladesh</td>\n",
       "      <td>1.0</td>\n",
       "    </tr>\n",
       "    <tr>\n",
       "      <th>2</th>\n",
       "      <td>8/24/2020 9:20:28</td>\n",
       "      <td>Abdullah Bin Murad</td>\n",
       "      <td>01552443554</td>\n",
       "      <td>abmrifat54@gmail.com</td>\n",
       "      <td>Shahjalal University of Science and Technology</td>\n",
       "      <td>Engineering</td>\n",
       "      <td>Yes</td>\n",
       "      <td>NaN</td>\n",
       "      <td>Bangladesh</td>\n",
       "      <td>1.0</td>\n",
       "    </tr>\n",
       "    <tr>\n",
       "      <th>3</th>\n",
       "      <td>7/28/2020 12:16:30</td>\n",
       "      <td>Abhijoy Mukherjee</td>\n",
       "      <td>7003206060</td>\n",
       "      <td>abhijoymukherjee01@gmail.com</td>\n",
       "      <td>Asutosh College</td>\n",
       "      <td>Statistics</td>\n",
       "      <td>Yes</td>\n",
       "      <td>Friend</td>\n",
       "      <td>India</td>\n",
       "      <td>1.0</td>\n",
       "    </tr>\n",
       "    <tr>\n",
       "      <th>4</th>\n",
       "      <td>7/10/2020 13:56:14</td>\n",
       "      <td>Abhipreeti Acharjee</td>\n",
       "      <td>8274839744</td>\n",
       "      <td>deepamandal007@gmail.com</td>\n",
       "      <td>DEPARTMENT OF PURE MATHEMATICS, UNIVERSITY OF ...</td>\n",
       "      <td>PURE MATHEMATICS</td>\n",
       "      <td>Yes</td>\n",
       "      <td>NaN</td>\n",
       "      <td>India</td>\n",
       "      <td>1.0</td>\n",
       "    </tr>\n",
       "    <tr>\n",
       "      <th>5</th>\n",
       "      <td>7/28/2020 13:14:59</td>\n",
       "      <td>Abhiraj Bhattacharya</td>\n",
       "      <td>6289897311</td>\n",
       "      <td>abhattacharyya2001@gmail.com</td>\n",
       "      <td>Vivekananda College</td>\n",
       "      <td>B.Sc statistics</td>\n",
       "      <td>Yes</td>\n",
       "      <td>Friend</td>\n",
       "      <td>India</td>\n",
       "      <td>1.0</td>\n",
       "    </tr>\n",
       "    <tr>\n",
       "      <th>...</th>\n",
       "      <td>...</td>\n",
       "      <td>...</td>\n",
       "      <td>...</td>\n",
       "      <td>...</td>\n",
       "      <td>...</td>\n",
       "      <td>...</td>\n",
       "      <td>...</td>\n",
       "      <td>...</td>\n",
       "      <td>...</td>\n",
       "      <td>...</td>\n",
       "    </tr>\n",
       "    <tr>\n",
       "      <th>943</th>\n",
       "      <td>1/22/2021 22:06:24</td>\n",
       "      <td>Ramanish Banerjee</td>\n",
       "      <td>8017179702</td>\n",
       "      <td>banerjeeramanish@gmail.com</td>\n",
       "      <td>MAULANA AZAD COLLEGE</td>\n",
       "      <td>Honors (BSC/MSC)</td>\n",
       "      <td>Yes</td>\n",
       "      <td>NaN</td>\n",
       "      <td>NaN</td>\n",
       "      <td>1.0</td>\n",
       "    </tr>\n",
       "    <tr>\n",
       "      <th>944</th>\n",
       "      <td>1/22/2021 22:46:21</td>\n",
       "      <td>Jinia Banerjee</td>\n",
       "      <td>6289719175</td>\n",
       "      <td>jiniabanerjee9727@gmail.com</td>\n",
       "      <td>Maulona Azad College</td>\n",
       "      <td>Honors (BSC/MSC)</td>\n",
       "      <td>No</td>\n",
       "      <td>NaN</td>\n",
       "      <td>NaN</td>\n",
       "      <td>0.0</td>\n",
       "    </tr>\n",
       "    <tr>\n",
       "      <th>945</th>\n",
       "      <td>1/23/2021 10:57:08</td>\n",
       "      <td>Md Safiqul Islam</td>\n",
       "      <td>8250955315</td>\n",
       "      <td>safiqulislam6006@gmail.com</td>\n",
       "      <td>Maulana Azad College</td>\n",
       "      <td>Honors (BSC/MSC)</td>\n",
       "      <td>Yes</td>\n",
       "      <td>NaN</td>\n",
       "      <td>NaN</td>\n",
       "      <td>1.0</td>\n",
       "    </tr>\n",
       "    <tr>\n",
       "      <th>946</th>\n",
       "      <td>1/23/2021 12:27:32</td>\n",
       "      <td>Soumojit Chatterjee</td>\n",
       "      <td>8101726672</td>\n",
       "      <td>imsoumojit@yahoo.com</td>\n",
       "      <td>Maulana Azad College</td>\n",
       "      <td>Honors (BSC/MSC)</td>\n",
       "      <td>Yes</td>\n",
       "      <td>NaN</td>\n",
       "      <td>NaN</td>\n",
       "      <td>1.0</td>\n",
       "    </tr>\n",
       "    <tr>\n",
       "      <th>947</th>\n",
       "      <td>1/23/2021 17:37:35</td>\n",
       "      <td>Debanjan Bhattacharjee</td>\n",
       "      <td>6290909245</td>\n",
       "      <td>debanjanbhattacharjee2002@gmail.com</td>\n",
       "      <td>Maulana Azad College</td>\n",
       "      <td>Honors (BSC/MSC)</td>\n",
       "      <td>Yes</td>\n",
       "      <td>NaN</td>\n",
       "      <td>NaN</td>\n",
       "      <td>1.0</td>\n",
       "    </tr>\n",
       "  </tbody>\n",
       "</table>\n",
       "<p>940 rows × 10 columns</p>\n",
       "</div>"
      ],
      "text/plain": [
       "              Timestamp                    Name      Contact  \\\n",
       "0    8/24/2020 17:01:39  A.S.M. Raquibul Hasan   01722577922   \n",
       "2     8/24/2020 9:20:28    Abdullah Bin Murad    01552443554   \n",
       "3    7/28/2020 12:16:30       Abhijoy Mukherjee   7003206060   \n",
       "4    7/10/2020 13:56:14     Abhipreeti Acharjee   8274839744   \n",
       "5    7/28/2020 13:14:59    Abhiraj Bhattacharya   6289897311   \n",
       "..                  ...                     ...          ...   \n",
       "943  1/22/2021 22:06:24       Ramanish Banerjee   8017179702   \n",
       "944  1/22/2021 22:46:21          Jinia Banerjee   6289719175   \n",
       "945  1/23/2021 10:57:08        Md Safiqul Islam   8250955315   \n",
       "946  1/23/2021 12:27:32     Soumojit Chatterjee   8101726672   \n",
       "947  1/23/2021 17:37:35  Debanjan Bhattacharjee   6290909245   \n",
       "\n",
       "                                   Email  \\\n",
       "0                 raquibul.nsu@gmail.com   \n",
       "2                   abmrifat54@gmail.com   \n",
       "3           abhijoymukherjee01@gmail.com   \n",
       "4               deepamandal007@gmail.com   \n",
       "5           abhattacharyya2001@gmail.com   \n",
       "..                                   ...   \n",
       "943           banerjeeramanish@gmail.com   \n",
       "944          jiniabanerjee9727@gmail.com   \n",
       "945           safiqulislam6006@gmail.com   \n",
       "946                 imsoumojit@yahoo.com   \n",
       "947  debanjanbhattacharjee2002@gmail.com   \n",
       "\n",
       "                                               College        Department  \\\n",
       "0                     United International University             others   \n",
       "2       Shahjalal University of Science and Technology       Engineering   \n",
       "3                                      Asutosh College        Statistics   \n",
       "4    DEPARTMENT OF PURE MATHEMATICS, UNIVERSITY OF ...  PURE MATHEMATICS   \n",
       "5                                  Vivekananda College   B.Sc statistics   \n",
       "..                                                 ...               ...   \n",
       "943                               MAULANA AZAD COLLEGE  Honors (BSC/MSC)   \n",
       "944                               Maulona Azad College  Honors (BSC/MSC)   \n",
       "945                               Maulana Azad College  Honors (BSC/MSC)   \n",
       "946                               Maulana Azad College  Honors (BSC/MSC)   \n",
       "947                               Maulana Azad College  Honors (BSC/MSC)   \n",
       "\n",
       "    HasLaptop     Source     Country  laptopcount  \n",
       "0         Yes  Facebook   Bangladesh          1.0  \n",
       "2         Yes        NaN  Bangladesh          1.0  \n",
       "3         Yes     Friend       India          1.0  \n",
       "4         Yes        NaN       India          1.0  \n",
       "5         Yes     Friend       India          1.0  \n",
       "..        ...        ...         ...          ...  \n",
       "943       Yes        NaN         NaN          1.0  \n",
       "944        No        NaN         NaN          0.0  \n",
       "945       Yes        NaN         NaN          1.0  \n",
       "946       Yes        NaN         NaN          1.0  \n",
       "947       Yes        NaN         NaN          1.0  \n",
       "\n",
       "[940 rows x 10 columns]"
      ]
     },
     "execution_count": 52,
     "metadata": {},
     "output_type": "execute_result"
    }
   ],
   "source": [
    "df4"
   ]
  },
  {
   "cell_type": "code",
   "execution_count": 53,
   "metadata": {},
   "outputs": [
    {
     "data": {
      "text/html": [
       "<div>\n",
       "<style scoped>\n",
       "    .dataframe tbody tr th:only-of-type {\n",
       "        vertical-align: middle;\n",
       "    }\n",
       "\n",
       "    .dataframe tbody tr th {\n",
       "        vertical-align: top;\n",
       "    }\n",
       "\n",
       "    .dataframe thead th {\n",
       "        text-align: right;\n",
       "    }\n",
       "</style>\n",
       "<table border=\"1\" class=\"dataframe\">\n",
       "  <thead>\n",
       "    <tr style=\"text-align: right;\">\n",
       "      <th></th>\n",
       "      <th>Timestamp</th>\n",
       "      <th>Name</th>\n",
       "      <th>Contact</th>\n",
       "      <th>Email</th>\n",
       "      <th>College</th>\n",
       "      <th>Department</th>\n",
       "      <th>HasLaptop</th>\n",
       "      <th>Source</th>\n",
       "      <th>Country</th>\n",
       "      <th>laptopcount</th>\n",
       "    </tr>\n",
       "  </thead>\n",
       "  <tbody>\n",
       "    <tr>\n",
       "      <th>7</th>\n",
       "      <td>6/24/2020 15:06:51</td>\n",
       "      <td>Abhisek biswas</td>\n",
       "      <td>NaN</td>\n",
       "      <td>amitsrivastav445@gmail.com</td>\n",
       "      <td>J.K College</td>\n",
       "      <td>B.Com (H)</td>\n",
       "      <td>No</td>\n",
       "      <td>Rohan Rakshit</td>\n",
       "      <td>India</td>\n",
       "      <td>0.0</td>\n",
       "    </tr>\n",
       "    <tr>\n",
       "      <th>11</th>\n",
       "      <td>7/26/2020 17:51:34</td>\n",
       "      <td>Abhishek Singh</td>\n",
       "      <td>6260303830</td>\n",
       "      <td>as1973240@gmail.com</td>\n",
       "      <td>Global Nature Care Sangathan Group Of Institut...</td>\n",
       "      <td>Civil Engineering</td>\n",
       "      <td>No</td>\n",
       "      <td>Social media</td>\n",
       "      <td>India</td>\n",
       "      <td>0.0</td>\n",
       "    </tr>\n",
       "    <tr>\n",
       "      <th>15</th>\n",
       "      <td>6/24/2020 15:23:11</td>\n",
       "      <td>Adarsha Mukherjee</td>\n",
       "      <td>NaN</td>\n",
       "      <td>Subratadhibar002@gmail.com</td>\n",
       "      <td>Purulia zilla school</td>\n",
       "      <td>Atrs</td>\n",
       "      <td>No</td>\n",
       "      <td>Rohan</td>\n",
       "      <td>India</td>\n",
       "      <td>0.0</td>\n",
       "    </tr>\n",
       "    <tr>\n",
       "      <th>26</th>\n",
       "      <td>7/27/2020 16:47:11</td>\n",
       "      <td>Amit Pal</td>\n",
       "      <td>8240247637</td>\n",
       "      <td>amitpal9685@gmail.com</td>\n",
       "      <td>Ramakrishna Mission Shilpapitha</td>\n",
       "      <td>Electronics and telecommunication</td>\n",
       "      <td>No</td>\n",
       "      <td>From my friend Rupsa</td>\n",
       "      <td>India</td>\n",
       "      <td>0.0</td>\n",
       "    </tr>\n",
       "    <tr>\n",
       "      <th>29</th>\n",
       "      <td>6/24/2020 16:25:25</td>\n",
       "      <td>Amit Srivastav</td>\n",
       "      <td>7384285644</td>\n",
       "      <td>Shreyaduttaxxx@gmail.com</td>\n",
       "      <td>Viswass school &amp; college of nursing</td>\n",
       "      <td>B.sc nursing</td>\n",
       "      <td>No</td>\n",
       "      <td>NaN</td>\n",
       "      <td>India</td>\n",
       "      <td>0.0</td>\n",
       "    </tr>\n",
       "    <tr>\n",
       "      <th>...</th>\n",
       "      <td>...</td>\n",
       "      <td>...</td>\n",
       "      <td>...</td>\n",
       "      <td>...</td>\n",
       "      <td>...</td>\n",
       "      <td>...</td>\n",
       "      <td>...</td>\n",
       "      <td>...</td>\n",
       "      <td>...</td>\n",
       "      <td>...</td>\n",
       "    </tr>\n",
       "    <tr>\n",
       "      <th>931</th>\n",
       "      <td>1/22/2021 15:54:55</td>\n",
       "      <td>Koyel Basak</td>\n",
       "      <td>7478293697</td>\n",
       "      <td>Koyelbasak2002@gmail.com</td>\n",
       "      <td>Maulana azad college</td>\n",
       "      <td>Honors (BSC/MSC)</td>\n",
       "      <td>No</td>\n",
       "      <td>NaN</td>\n",
       "      <td>NaN</td>\n",
       "      <td>0.0</td>\n",
       "    </tr>\n",
       "    <tr>\n",
       "      <th>934</th>\n",
       "      <td>1/22/2021 16:42:36</td>\n",
       "      <td>Rayesha Paul</td>\n",
       "      <td>9123345331</td>\n",
       "      <td>rayeshapaul25@gmail.com</td>\n",
       "      <td>Maulana Azad College</td>\n",
       "      <td>Honors (BSC/MSC)</td>\n",
       "      <td>No</td>\n",
       "      <td>NaN</td>\n",
       "      <td>NaN</td>\n",
       "      <td>0.0</td>\n",
       "    </tr>\n",
       "    <tr>\n",
       "      <th>936</th>\n",
       "      <td>1/22/2021 17:31:18</td>\n",
       "      <td>Ankita Sinha</td>\n",
       "      <td>9123713683</td>\n",
       "      <td>ankitasinha06052002@gmail.com</td>\n",
       "      <td>Maulana Azad College</td>\n",
       "      <td>Honors (BSC/MSC)</td>\n",
       "      <td>No</td>\n",
       "      <td>NaN</td>\n",
       "      <td>NaN</td>\n",
       "      <td>0.0</td>\n",
       "    </tr>\n",
       "    <tr>\n",
       "      <th>937</th>\n",
       "      <td>1/22/2021 17:54:10</td>\n",
       "      <td>SOUGATA ROY</td>\n",
       "      <td>6291014794</td>\n",
       "      <td>sougataa12@gmail.com</td>\n",
       "      <td>Maulana Azad College</td>\n",
       "      <td>Honors (BSC/MSC)</td>\n",
       "      <td>No</td>\n",
       "      <td>NaN</td>\n",
       "      <td>NaN</td>\n",
       "      <td>0.0</td>\n",
       "    </tr>\n",
       "    <tr>\n",
       "      <th>944</th>\n",
       "      <td>1/22/2021 22:46:21</td>\n",
       "      <td>Jinia Banerjee</td>\n",
       "      <td>6289719175</td>\n",
       "      <td>jiniabanerjee9727@gmail.com</td>\n",
       "      <td>Maulona Azad College</td>\n",
       "      <td>Honors (BSC/MSC)</td>\n",
       "      <td>No</td>\n",
       "      <td>NaN</td>\n",
       "      <td>NaN</td>\n",
       "      <td>0.0</td>\n",
       "    </tr>\n",
       "  </tbody>\n",
       "</table>\n",
       "<p>205 rows × 10 columns</p>\n",
       "</div>"
      ],
      "text/plain": [
       "              Timestamp               Name     Contact  \\\n",
       "7    6/24/2020 15:06:51     Abhisek biswas         NaN   \n",
       "11   7/26/2020 17:51:34     Abhishek Singh  6260303830   \n",
       "15   6/24/2020 15:23:11  Adarsha Mukherjee         NaN   \n",
       "26   7/27/2020 16:47:11           Amit Pal  8240247637   \n",
       "29   6/24/2020 16:25:25     Amit Srivastav  7384285644   \n",
       "..                  ...                ...         ...   \n",
       "931  1/22/2021 15:54:55        Koyel Basak  7478293697   \n",
       "934  1/22/2021 16:42:36      Rayesha Paul   9123345331   \n",
       "936  1/22/2021 17:31:18      Ankita Sinha   9123713683   \n",
       "937  1/22/2021 17:54:10        SOUGATA ROY  6291014794   \n",
       "944  1/22/2021 22:46:21     Jinia Banerjee  6289719175   \n",
       "\n",
       "                             Email  \\\n",
       "7       amitsrivastav445@gmail.com   \n",
       "11             as1973240@gmail.com   \n",
       "15      Subratadhibar002@gmail.com   \n",
       "26           amitpal9685@gmail.com   \n",
       "29        Shreyaduttaxxx@gmail.com   \n",
       "..                             ...   \n",
       "931       Koyelbasak2002@gmail.com   \n",
       "934        rayeshapaul25@gmail.com   \n",
       "936  ankitasinha06052002@gmail.com   \n",
       "937           sougataa12@gmail.com   \n",
       "944    jiniabanerjee9727@gmail.com   \n",
       "\n",
       "                                               College  \\\n",
       "7                                          J.K College   \n",
       "11   Global Nature Care Sangathan Group Of Institut...   \n",
       "15                               Purulia zilla school    \n",
       "26                     Ramakrishna Mission Shilpapitha   \n",
       "29                 Viswass school & college of nursing   \n",
       "..                                                 ...   \n",
       "931                              Maulana azad college    \n",
       "934                              Maulana Azad College    \n",
       "936                               Maulana Azad College   \n",
       "937                               Maulana Azad College   \n",
       "944                               Maulona Azad College   \n",
       "\n",
       "                            Department HasLaptop                Source  \\\n",
       "7                            B.Com (H)        No         Rohan Rakshit   \n",
       "11                   Civil Engineering        No          Social media   \n",
       "15                                Atrs        No                 Rohan   \n",
       "26   Electronics and telecommunication        No  From my friend Rupsa   \n",
       "29                        B.sc nursing        No                   NaN   \n",
       "..                                 ...       ...                   ...   \n",
       "931                   Honors (BSC/MSC)        No                   NaN   \n",
       "934                   Honors (BSC/MSC)        No                   NaN   \n",
       "936                   Honors (BSC/MSC)        No                   NaN   \n",
       "937                   Honors (BSC/MSC)        No                   NaN   \n",
       "944                   Honors (BSC/MSC)        No                   NaN   \n",
       "\n",
       "    Country  laptopcount  \n",
       "7     India          0.0  \n",
       "11    India          0.0  \n",
       "15    India          0.0  \n",
       "26    India          0.0  \n",
       "29    India          0.0  \n",
       "..      ...          ...  \n",
       "931     NaN          0.0  \n",
       "934     NaN          0.0  \n",
       "936     NaN          0.0  \n",
       "937     NaN          0.0  \n",
       "944     NaN          0.0  \n",
       "\n",
       "[205 rows x 10 columns]"
      ]
     },
     "execution_count": 53,
     "metadata": {},
     "output_type": "execute_result"
    }
   ],
   "source": [
    "nolaptop = df4[df4.laptopcount == 0]\n",
    "nolaptop"
   ]
  },
  {
   "cell_type": "code",
   "execution_count": 54,
   "metadata": {},
   "outputs": [
    {
     "name": "stdout",
     "output_type": "stream",
     "text": [
      "j.k college\n",
      "global nature care sangathan group of institutions\n",
      "purulia zilla school\n",
      "ramakrishna mission shilpapitha\n",
      "viswass school & college of nursing\n",
      "maulana azad college\n",
      "insitiution of engineering and managment\n",
      "durgapur institute of advance technology and management\n",
      "asutosh college\n",
      "university of calcutta\n",
      "jagannath kishore college,purulia\n",
      "nsu\n",
      "narasinha dutt college\n",
      "narasinha dutt college, university of calcutta\n",
      "narasingha dutt college\n",
      "asutosh college\n",
      "rkmveri belur math\n",
      "guru nanak institute of pharmaceutical science and technology\n",
      "bethune college\n",
      "jk college\n",
      "vidyasagar college for women\n",
      "jadavpur university\n",
      "national power training institute nagpur\n",
      "kalyani mahavidyalay\n",
      "university of calcutta\n",
      "dr. b. c. roy engineering college\n",
      "asutosh college\n",
      "n.p.t.i(e.r.)\n",
      "uttarpara amarendra vidyapith\n",
      "durgapur institute of advanced and technology management\n",
      "asutosh college\n",
      "shahjalal university of science & technology\n",
      "narasinha dutta college\n",
      "vidyasagar university\n",
      "rcc institute of information technology\n",
      "durgapur institute of advance technology and managment\n",
      "calcutta university\n",
      "durgapur institute of advanced technology and managemant rajbandh\n",
      "jadavpur university\n",
      "durgapur institute of advanced technology and management\n",
      "academy of technology\n",
      "amta ramsaday college\n",
      "diatm, durgapur\n",
      "jadavpur university\n",
      "bethune college\n",
      "kalyani mahavidyalaya\n",
      "durgapur institute of advanced technology & management\n",
      "victoria institution\n",
      "narasinha dutt college\n",
      "national power training institute (e.r) durgapur\n",
      "jadavpur university\n",
      "lalbaba college\n",
      "aliah university\n",
      "maulana azad college, kolkata\n",
      "raja peary mohan college\n",
      "kalyani mahavidyalaya\n",
      "vidyasagar university, medinipur\n",
      "the new horizons institute of technology\n",
      "jogomaya devi college\n",
      "vivekananda college\n",
      "presidency university\n",
      "jadavpur university\n",
      "aot\n",
      "national power training institute\n",
      "rkmveri (belur campus)\n",
      "kalyani mahavidyalaya\n",
      "dr.b.c.roy engineering college\n",
      "vivekananda college,thakurpukur\n",
      "maulana azad college\n",
      "jadavpur university\n",
      "future institute of technology\n",
      "future institute of technology\n",
      "rkmveri, belur math\n",
      "vidyasagar university\n",
      "ramakrishna mission vivekananda educational and research institute\n",
      "jadavpur university\n",
      "jadavpuruniversity\n",
      "vivekananda college\n",
      "shibpur dinobundhoo institution\n",
      "jadavpur university\n",
      "vidyasagar university\n",
      "b p poddar institute of management & technology\n",
      "durgapur women's college\n",
      "duragpur women's college\n",
      "durgapur women's college\n",
      "durgapur women's college\n",
      "durgapur womens college\n",
      "durgapur women's college\n",
      "durgapur women's collage\n",
      "durgapur women's college kazi nazrul university\n",
      "durgapur women's college\n",
      "durgapur women's college\n",
      "durgapur women's college\n",
      "durgapur women's college\n",
      "durgapur women's college\n",
      "durgapur women's college\n",
      "college name - durgapur womens college\n",
      "raniganj girls' college\n",
      "durgapur women's college\n",
      "kaji najrul invercity\n",
      "durgapur women's college\n",
      "durgapur woman's college\n",
      "durgapur women's college\n",
      "durgapur women's college\n",
      "durgapur women's college\n",
      "durgapur women's college\n",
      "durgapur women's college\n",
      "durgapur women's college\n",
      "durgapur government college\n",
      "durgapur women's college\n",
      "durgapur government college\n",
      "women's collage\n",
      "durgapur women's college\n",
      "durgapur women's college\n",
      "regent education and research foundation\n",
      "regent education & research foundation barrackpore\n",
      "rerf\n",
      "rerf\n",
      "regent education and research foundation\n",
      "regent education and research foundation\n",
      "regent education and research foundation\n",
      "regent education and research foundation\n",
      "regent education and research foundation group of institutions\n",
      "regent education &research foundation\n",
      "regent education and research foundation\n",
      "regent education & research foundation\n",
      "regent education & research foundation\n",
      "rerf\n",
      "regent education and research foundation\n",
      "regent education and research foundation\n",
      "regent education & research foundation\n",
      "regent education and research foundation\n",
      "regent education and research foundation\n",
      "regent education and research foundation\n",
      "regent education and research foundation\n",
      "rrerf\n",
      "regent education and research foundation\n",
      "regent education and research foundation\n",
      "regent education and research foundation\n",
      "lady braboune college\n",
      "lady brabourne college\n",
      "lady brabourne college\n",
      "lady brabourne college\n",
      "lady brabourne college\n",
      "lady brabourne college\n",
      "lady brabourne college\n",
      "lady brabourne college\n",
      "lady brabourne college\n",
      "lady brabourne college\n",
      "lady brabourne college\n",
      "lady brabourne college\n",
      "lady brabourne college\n",
      "lady brabourne college\n",
      "lady brabourne college\n",
      "lady brabourne college\n",
      "lady brabourne college\n",
      "lady brabourne college\n",
      "lady brabourne college\n",
      "lady braboune collage\n",
      "maulana azad college\n",
      "maulana azad college\n",
      "maulana azad college\n",
      "moulana azad college\n",
      "maulana azad college\n",
      "maulana azad college\n",
      "maulana azad college\n",
      "moulana azad college\n",
      "maulana azad college\n",
      "maulana azad college\n",
      "maulana azad college\n",
      "maulana azad college\n",
      "maulana azad college\n",
      "maulana azad college\n",
      "maulana azad college\n",
      "maulana azad college\n",
      "maulana azad college\n",
      "maulana azad college\n",
      "maulana azad college\n",
      "maulana azad college\n",
      "maulana azad college\n",
      "maulana azad college\n",
      "maulana azad college\n",
      "maulana azad college, university of calcutta\n",
      "maulana azad college\n",
      "maulana azad college\n",
      "maulana azad college\n",
      "maulana azad college\n",
      "maulana azad college\n",
      "maulana azad college\n",
      "maulana azad college\n",
      "maulana azad college\n",
      "maulana azad college\n",
      "maulana azad college\n",
      "maulona azad college\n",
      "b.com (h)\n",
      "civil engineering\n",
      "atrs\n",
      "electronics and telecommunication\n",
      "b.sc nursing\n",
      "statistics (h)\n",
      "b. tech (cse)\n",
      "btech 4th year on ece department\n",
      "statistics honours student\n",
      "m.sc\n",
      "computer science\n",
      "honors (bsc/msc)\n",
      "master of science in applied mathematics\n",
      "m.sc. in applied mathematics\n",
      "msc mathematics\n",
      "statistics\n",
      "msc in mathematics\n",
      "microbiology\n",
      "honors (bsc/msc)\n",
      "computer science\n",
      "mathematics\n",
      "linear algebra in mathematics\n",
      "power\n",
      "statistics\n",
      "pure mathematics\n",
      "engineering\n",
      "bsc. statistics honours student(final year)\n",
      "engineering\n",
      "h.s passed\n",
      "byech\n",
      "statistics\n",
      "engineering\n",
      "applies mathematics\n",
      "mathematics (msc)\n",
      "electrical engineering\n",
      "b-tech in ece\n",
      "bsc(state )\n",
      "b-tech (ece 2'nd year)\n",
      "mathematics\n",
      "mechanical engineering\n",
      "mechanical engineering\n",
      "bsc. hons\n",
      "mechanical\n",
      "mathematics\n",
      "mathematics\n",
      "b.sc statistics honours\n",
      "b.tech (ece)\n",
      "bsc physics honours\n",
      "math (h)\n",
      "power engineering\n",
      "mathematics\n",
      "b.sc\n",
      "honors (bsc/msc)\n",
      "statistics\n",
      "did my graduation on mathematics\n",
      "statistics honours (b.sc.)\n",
      "msc in applied mathematics\n",
      "engineering\n",
      "mathematics honours\n",
      "honors (bsc/msc)\n",
      "statistics\n",
      "mathematics\n",
      "mca\n",
      "power plant engineering\n",
      "mathematics\n",
      "statistics\n",
      "engineering\n",
      "b.sc statistics honours\n",
      "b.sc in statistics\n",
      "msc\n",
      "electronics and communication engineering (b.tech)\n",
      "ece\n",
      "msc. mathematics\n",
      "m.sc in mathematics\n",
      "mathematics msc.\n",
      "studying m.sc in mathematics\n",
      "msc mathematics\n",
      "statistics\n",
      "honors (bsc/msc)\n",
      "m.sc mathematics\n",
      "mathematics\n",
      "others\n",
      "honors (bsc/msc)\n",
      "others\n",
      "honors (bsc/msc)\n",
      "others\n",
      "honors (bsc/msc)\n",
      "others\n",
      "others\n",
      "others\n",
      "honors (bsc/msc)\n",
      "others\n",
      "others\n",
      "honors (bsc/msc)\n",
      "honors (bsc/msc)\n",
      "others\n",
      "others\n",
      "honors (bsc/msc)\n",
      "others\n",
      "bca\n",
      "others\n",
      "others\n",
      "others\n",
      "honors (bsc/msc)\n",
      "others\n",
      "others\n",
      "honors (bsc/msc)\n",
      "others\n",
      "others\n",
      "others\n",
      "honors (bsc/msc)\n",
      "others\n",
      "honors (bsc/msc)\n",
      "others\n",
      "engineering\n",
      "engineering\n",
      "engineering\n",
      "engineering\n",
      "engineering\n",
      "engineering\n",
      "engineering\n",
      "engineering\n",
      "engineering\n",
      "engineering\n",
      "engineering\n",
      "engineering\n",
      "engineering\n",
      "engineering\n",
      "engineering\n",
      "engineering\n",
      "engineering\n",
      "engineering\n",
      "engineering\n",
      "engineering\n",
      "engineering\n",
      "engineering\n",
      "engineering\n",
      "engineering\n",
      "engineering\n",
      "honors (bsc/msc)\n",
      "honors (bsc/msc)\n",
      "honors (bsc/msc)\n",
      "honors (bsc/msc)\n",
      "honors (bsc/msc)\n",
      "honors (bsc/msc)\n",
      "honors (bsc/msc)\n",
      "honors (bsc/msc)\n",
      "honors (bsc/msc)\n",
      "honors (bsc/msc)\n",
      "honors (bsc/msc)\n",
      "others\n",
      "honors (bsc/msc)\n",
      "honors (bsc/msc)\n",
      "honors (bsc/msc)\n",
      "honors (bsc/msc)\n",
      "honors (bsc/msc)\n",
      "honors (bsc/msc)\n",
      "others\n",
      "honors (bsc/msc)\n",
      "honors (bsc/msc)\n",
      "honors (bsc/msc)\n",
      "honors (bsc/msc)\n",
      "honors (bsc/msc)\n",
      "honors (bsc/msc)\n",
      "honors (bsc/msc)\n",
      "honors (bsc/msc)\n",
      "honors (bsc/msc)\n",
      "honors (bsc/msc)\n",
      "honors (bsc/msc)\n",
      "honors (bsc/msc)\n",
      "honors (bsc/msc)\n",
      "honors (bsc/msc)\n",
      "honors (bsc/msc)\n",
      "honors (bsc/msc)\n",
      "honors (bsc/msc)\n",
      "honors (bsc/msc)\n",
      "honors (bsc/msc)\n",
      "honors (bsc/msc)\n",
      "honors (bsc/msc)\n",
      "honors (bsc/msc)\n",
      "honors (bsc/msc)\n",
      "honors (bsc/msc)\n",
      "honors (bsc/msc)\n",
      "honors (bsc/msc)\n",
      "honors (bsc/msc)\n",
      "honors (bsc/msc)\n",
      "honors (bsc/msc)\n",
      "honors (bsc/msc)\n",
      "honors (bsc/msc)\n",
      "honors (bsc/msc)\n",
      "honors (bsc/msc)\n",
      "honors (bsc/msc)\n",
      "honors (bsc/msc)\n",
      "honors (bsc/msc)\n"
     ]
    }
   ],
   "source": [
    "nolaptop = nolaptop.dropna(subset=['College'])\n",
    "nolaptop = nolaptop.dropna(subset=['Department'])\n",
    "nolaptop.College = nolaptop.College.astype(str)\n",
    "nolaptop.Department = nolaptop.Department.astype(str)\n",
    "nolaptop['College'] = nolaptop.apply(lambda row : lower_string(row['College']), axis = 1)\n",
    "nolaptop['Department'] = nolaptop.apply(lambda row : lower_string(row['Department']), axis = 1)"
   ]
  },
  {
   "cell_type": "code",
   "execution_count": 55,
   "metadata": {},
   "outputs": [
    {
     "name": "stdout",
     "output_type": "stream",
     "text": [
      " Students do not have laptop from these University Total: 86\n"
     ]
    },
    {
     "data": {
      "text/plain": [
       "array(['j.k college',\n",
       "       'global nature care sangathan group of institutions',\n",
       "       'purulia zilla school', 'ramakrishna mission shilpapitha',\n",
       "       'viswass school & college of nursing', 'maulana azad college',\n",
       "       'insitiution of engineering and managment',\n",
       "       'durgapur institute of advance technology and management',\n",
       "       'asutosh college', 'university of calcutta',\n",
       "       'jagannath kishore college,purulia', 'nsu',\n",
       "       'narasinha dutt college',\n",
       "       'narasinha dutt college, university of calcutta',\n",
       "       'narasingha dutt college', 'rkmveri belur math',\n",
       "       'guru nanak institute of pharmaceutical science and technology',\n",
       "       'bethune college', 'jk college', 'vidyasagar college for women',\n",
       "       'jadavpur university', 'national power training institute nagpur',\n",
       "       'kalyani mahavidyalay', 'dr. b. c. roy engineering college',\n",
       "       'n.p.t.i(e.r.)', 'uttarpara amarendra vidyapith',\n",
       "       'durgapur institute of advanced and technology management',\n",
       "       'shahjalal university of science & technology',\n",
       "       'narasinha dutta college', 'vidyasagar university',\n",
       "       'rcc institute of information technology',\n",
       "       'durgapur institute of advance technology and managment',\n",
       "       'calcutta university',\n",
       "       'durgapur institute of advanced technology and managemant rajbandh',\n",
       "       'durgapur institute of advanced technology and management',\n",
       "       'academy of technology', 'amta ramsaday college',\n",
       "       'diatm, durgapur', 'kalyani mahavidyalaya',\n",
       "       'durgapur institute of advanced technology & management',\n",
       "       'victoria institution',\n",
       "       'national power training institute (e.r) durgapur',\n",
       "       'lalbaba college', 'aliah university',\n",
       "       'maulana azad college, kolkata', 'raja peary mohan college',\n",
       "       'vidyasagar university, medinipur',\n",
       "       'the new horizons institute of technology',\n",
       "       'jogomaya devi college', 'vivekananda college',\n",
       "       'presidency university', 'aot',\n",
       "       'national power training institute', 'rkmveri (belur campus)',\n",
       "       'dr.b.c.roy engineering college',\n",
       "       'vivekananda college,thakurpukur',\n",
       "       'future institute of technology', 'rkmveri, belur math',\n",
       "       'ramakrishna mission vivekananda educational and research institute',\n",
       "       'jadavpuruniversity', 'shibpur dinobundhoo institution',\n",
       "       'b p poddar institute of management & technology',\n",
       "       \"durgapur women's college\", \"duragpur women's college\",\n",
       "       'durgapur womens college', \"durgapur women's collage\",\n",
       "       \"durgapur women's college kazi nazrul university\",\n",
       "       'college name - durgapur womens college',\n",
       "       \"raniganj girls' college\", 'kaji najrul invercity',\n",
       "       \"durgapur woman's college\", 'durgapur government college',\n",
       "       \"women's collage\", 'regent education and research foundation',\n",
       "       'regent education & research foundation barrackpore', 'rerf',\n",
       "       'regent education and research foundation group of institutions',\n",
       "       'regent education &research foundation',\n",
       "       'regent education & research foundation', 'rrerf',\n",
       "       'lady braboune college', 'lady brabourne college',\n",
       "       'lady braboune collage', 'moulana azad college',\n",
       "       'maulana azad college, university of calcutta',\n",
       "       'maulona azad college'], dtype=object)"
      ]
     },
     "execution_count": 55,
     "metadata": {},
     "output_type": "execute_result"
    }
   ],
   "source": [
    "#total participate university\n",
    "nolaptop_uni = nolaptop.College.unique()\n",
    "print(f\" Students do not have laptop from these University Total: {len(nolaptop_uni)}\")\n",
    "nolaptop_uni"
   ]
  },
  {
   "cell_type": "code",
   "execution_count": 56,
   "metadata": {},
   "outputs": [
    {
     "name": "stdout",
     "output_type": "stream",
     "text": [
      "University: j.k college: \n",
      "Department: ['b.com (h)']\n",
      "\n",
      "University: global nature care sangathan group of institutions: \n",
      "Department: ['civil engineering']\n",
      "\n",
      "University: purulia zilla school: \n",
      "Department: ['atrs']\n",
      "\n",
      "University: ramakrishna mission shilpapitha: \n",
      "Department: ['electronics and telecommunication']\n",
      "\n",
      "University: viswass school & college of nursing: \n",
      "Department: ['b.sc nursing']\n",
      "\n",
      "University: maulana azad college: \n",
      "Department: ['statistics (h)', 'b.sc in statistics', 'honors (bsc/msc)', 'honors (bsc/msc)', 'honors (bsc/msc)', 'honors (bsc/msc)', 'honors (bsc/msc)', 'honors (bsc/msc)', 'honors (bsc/msc)', 'honors (bsc/msc)', 'honors (bsc/msc)', 'honors (bsc/msc)', 'honors (bsc/msc)', 'honors (bsc/msc)', 'honors (bsc/msc)', 'honors (bsc/msc)', 'honors (bsc/msc)', 'honors (bsc/msc)', 'honors (bsc/msc)', 'honors (bsc/msc)', 'honors (bsc/msc)', 'honors (bsc/msc)', 'honors (bsc/msc)', 'honors (bsc/msc)', 'honors (bsc/msc)', 'honors (bsc/msc)', 'honors (bsc/msc)', 'honors (bsc/msc)', 'honors (bsc/msc)', 'honors (bsc/msc)', 'honors (bsc/msc)', 'honors (bsc/msc)', 'honors (bsc/msc)']\n",
      "\n",
      "University: insitiution of engineering and managment: \n",
      "Department: ['b. tech (cse)']\n",
      "\n",
      "University: durgapur institute of advance technology and management: \n",
      "Department: ['btech 4th year on ece department']\n",
      "\n",
      "University: asutosh college: \n",
      "Department: ['statistics honours student', 'statistics', 'bsc. statistics honours student(final year)', 'statistics']\n",
      "\n",
      "University: university of calcutta: \n",
      "Department: ['m.sc', 'pure mathematics']\n",
      "\n",
      "University: jagannath kishore college,purulia: \n",
      "Department: ['computer science']\n",
      "\n",
      "University: nsu: \n",
      "Department: ['honors (bsc/msc)']\n",
      "\n",
      "University: narasinha dutt college: \n",
      "Department: ['master of science in applied mathematics', 'math (h)']\n",
      "\n",
      "University: narasinha dutt college, university of calcutta: \n",
      "Department: ['m.sc. in applied mathematics']\n",
      "\n",
      "University: narasingha dutt college: \n",
      "Department: ['msc mathematics']\n",
      "\n",
      "University: rkmveri belur math: \n",
      "Department: ['msc in mathematics']\n",
      "\n",
      "University: guru nanak institute of pharmaceutical science and technology: \n",
      "Department: ['microbiology']\n",
      "\n",
      "University: bethune college: \n",
      "Department: ['honors (bsc/msc)', 'mathematics']\n",
      "\n",
      "University: jk college: \n",
      "Department: ['computer science']\n",
      "\n",
      "University: vidyasagar college for women: \n",
      "Department: ['mathematics']\n",
      "\n",
      "University: jadavpur university: \n",
      "Department: ['linear algebra in mathematics', 'mathematics', 'mathematics', 'mathematics', 'mathematics', 'msc', 'studying m.sc in mathematics', 'm.sc mathematics']\n",
      "\n",
      "University: national power training institute nagpur: \n",
      "Department: ['power']\n",
      "\n",
      "University: kalyani mahavidyalay: \n",
      "Department: ['statistics']\n",
      "\n",
      "University: dr. b. c. roy engineering college: \n",
      "Department: ['engineering']\n",
      "\n",
      "University: n.p.t.i(e.r.): \n",
      "Department: ['engineering']\n",
      "\n",
      "University: uttarpara amarendra vidyapith: \n",
      "Department: ['h.s passed']\n",
      "\n",
      "University: durgapur institute of advanced and technology management: \n",
      "Department: ['byech']\n",
      "\n",
      "University: shahjalal university of science & technology: \n",
      "Department: ['engineering']\n",
      "\n",
      "University: narasinha dutta college: \n",
      "Department: ['applies mathematics']\n",
      "\n",
      "University: vidyasagar university: \n",
      "Department: ['mathematics (msc)', 'm.sc in mathematics', 'mathematics']\n",
      "\n",
      "University: rcc institute of information technology: \n",
      "Department: ['electrical engineering']\n",
      "\n",
      "University: durgapur institute of advance technology and managment: \n",
      "Department: ['b-tech in ece']\n",
      "\n",
      "University: calcutta university: \n",
      "Department: ['bsc(state )']\n",
      "\n",
      "University: durgapur institute of advanced technology and managemant rajbandh: \n",
      "Department: [\"b-tech (ece 2'nd year)\"]\n",
      "\n",
      "University: durgapur institute of advanced technology and management: \n",
      "Department: ['mechanical engineering']\n",
      "\n",
      "University: academy of technology: \n",
      "Department: ['mechanical engineering']\n",
      "\n",
      "University: amta ramsaday college: \n",
      "Department: ['bsc. hons']\n",
      "\n",
      "University: diatm, durgapur: \n",
      "Department: ['mechanical']\n",
      "\n",
      "University: kalyani mahavidyalaya: \n",
      "Department: ['b.sc statistics honours', 'statistics honours (b.sc.)', 'statistics']\n",
      "\n",
      "University: durgapur institute of advanced technology & management: \n",
      "Department: ['b.tech (ece)']\n",
      "\n",
      "University: victoria institution: \n",
      "Department: ['bsc physics honours']\n",
      "\n",
      "University: national power training institute (e.r) durgapur: \n",
      "Department: ['power engineering']\n",
      "\n",
      "University: lalbaba college: \n",
      "Department: ['b.sc']\n",
      "\n",
      "University: aliah university: \n",
      "Department: ['honors (bsc/msc)']\n",
      "\n",
      "University: maulana azad college, kolkata: \n",
      "Department: ['statistics']\n",
      "\n",
      "University: raja peary mohan college: \n",
      "Department: ['did my graduation on mathematics']\n",
      "\n",
      "University: vidyasagar university, medinipur: \n",
      "Department: ['msc in applied mathematics']\n",
      "\n",
      "University: the new horizons institute of technology: \n",
      "Department: ['engineering']\n",
      "\n",
      "University: jogomaya devi college: \n",
      "Department: ['mathematics honours']\n",
      "\n",
      "University: vivekananda college: \n",
      "Department: ['honors (bsc/msc)', 'statistics']\n",
      "\n",
      "University: presidency university: \n",
      "Department: ['statistics']\n",
      "\n",
      "University: aot: \n",
      "Department: ['mca']\n",
      "\n",
      "University: national power training institute: \n",
      "Department: ['power plant engineering']\n",
      "\n",
      "University: rkmveri (belur campus): \n",
      "Department: ['mathematics']\n",
      "\n",
      "University: dr.b.c.roy engineering college: \n",
      "Department: ['engineering']\n",
      "\n",
      "University: vivekananda college,thakurpukur: \n",
      "Department: ['b.sc statistics honours']\n",
      "\n",
      "University: future institute of technology: \n",
      "Department: ['electronics and communication engineering (b.tech)', 'ece']\n",
      "\n",
      "University: rkmveri, belur math: \n",
      "Department: ['msc. mathematics']\n",
      "\n",
      "University: ramakrishna mission vivekananda educational and research institute: \n",
      "Department: ['mathematics msc.']\n",
      "\n",
      "University: jadavpuruniversity: \n",
      "Department: ['msc mathematics']\n",
      "\n",
      "University: shibpur dinobundhoo institution: \n",
      "Department: ['honors (bsc/msc)']\n",
      "\n",
      "University: b p poddar institute of management & technology: \n",
      "Department: ['others']\n",
      "\n",
      "University: durgapur women's college: \n",
      "Department: ['honors (bsc/msc)', 'honors (bsc/msc)', 'others', 'others', 'honors (bsc/msc)', 'others', 'others', 'honors (bsc/msc)', 'honors (bsc/msc)', 'others', 'others', 'others', 'others', 'honors (bsc/msc)', 'others', 'others', 'honors (bsc/msc)', 'others', 'others', 'honors (bsc/msc)', 'others']\n",
      "\n",
      "University: duragpur women's college: \n",
      "Department: ['others']\n",
      "\n",
      "University: durgapur womens college: \n",
      "Department: ['honors (bsc/msc)']\n",
      "\n",
      "University: durgapur women's collage: \n",
      "Department: ['others']\n",
      "\n",
      "University: durgapur women's college kazi nazrul university: \n",
      "Department: ['others']\n",
      "\n",
      "University: college name - durgapur womens college: \n",
      "Department: ['others']\n",
      "\n",
      "University: raniganj girls' college: \n",
      "Department: ['honors (bsc/msc)']\n",
      "\n",
      "University: kaji najrul invercity: \n",
      "Department: ['bca']\n",
      "\n",
      "University: durgapur woman's college: \n",
      "Department: ['others']\n",
      "\n",
      "University: durgapur government college: \n",
      "Department: ['others', 'honors (bsc/msc)']\n",
      "\n",
      "University: women's collage: \n",
      "Department: ['others']\n",
      "\n",
      "University: regent education and research foundation: \n",
      "Department: ['engineering', 'engineering', 'engineering', 'engineering', 'engineering', 'engineering', 'engineering', 'engineering', 'engineering', 'engineering', 'engineering', 'engineering', 'engineering', 'engineering', 'engineering']\n",
      "\n",
      "University: regent education & research foundation barrackpore: \n",
      "Department: ['engineering']\n",
      "\n",
      "University: rerf: \n",
      "Department: ['engineering', 'engineering', 'engineering']\n",
      "\n",
      "University: regent education and research foundation group of institutions: \n",
      "Department: ['engineering']\n",
      "\n",
      "University: regent education &research foundation: \n",
      "Department: ['engineering']\n",
      "\n",
      "University: regent education & research foundation: \n",
      "Department: ['engineering', 'engineering', 'engineering']\n",
      "\n",
      "University: rrerf: \n",
      "Department: ['engineering']\n",
      "\n",
      "University: lady braboune college: \n",
      "Department: ['honors (bsc/msc)']\n",
      "\n",
      "University: lady brabourne college: \n",
      "Department: ['honors (bsc/msc)', 'honors (bsc/msc)', 'honors (bsc/msc)', 'honors (bsc/msc)', 'honors (bsc/msc)', 'honors (bsc/msc)', 'honors (bsc/msc)', 'honors (bsc/msc)', 'honors (bsc/msc)', 'honors (bsc/msc)', 'others', 'honors (bsc/msc)', 'honors (bsc/msc)', 'honors (bsc/msc)', 'honors (bsc/msc)', 'honors (bsc/msc)', 'honors (bsc/msc)', 'others']\n",
      "\n",
      "University: lady braboune collage: \n",
      "Department: ['honors (bsc/msc)']\n",
      "\n",
      "University: moulana azad college: \n",
      "Department: ['honors (bsc/msc)', 'honors (bsc/msc)']\n",
      "\n",
      "University: maulana azad college, university of calcutta: \n",
      "Department: ['honors (bsc/msc)']\n",
      "\n",
      "University: maulona azad college: \n",
      "Department: ['honors (bsc/msc)']\n",
      "\n"
     ]
    }
   ],
   "source": [
    "#Total department under a university from students do not have laptop\n",
    "for v in nolaptop_uni:\n",
    "    departments = nolaptop.loc[nolaptop.College == v, 'Department'].values\n",
    "    print(f\"University: {v}: \\nDepartment: {list(departments)}\\n\")"
   ]
  },
  {
   "cell_type": "code",
   "execution_count": 57,
   "metadata": {},
   "outputs": [
    {
     "data": {
      "text/plain": [
       "array(['India', 'Bangladesh', nan], dtype=object)"
      ]
     },
     "execution_count": 57,
     "metadata": {},
     "output_type": "execute_result"
    }
   ],
   "source": [
    "#total participate university\n",
    "country = nolaptop.Country.unique()\n",
    "country"
   ]
  },
  {
   "cell_type": "code",
   "execution_count": 58,
   "metadata": {},
   "outputs": [
    {
     "data": {
      "text/html": [
       "<div>\n",
       "<style scoped>\n",
       "    .dataframe tbody tr th:only-of-type {\n",
       "        vertical-align: middle;\n",
       "    }\n",
       "\n",
       "    .dataframe tbody tr th {\n",
       "        vertical-align: top;\n",
       "    }\n",
       "\n",
       "    .dataframe thead th {\n",
       "        text-align: right;\n",
       "    }\n",
       "</style>\n",
       "<table border=\"1\" class=\"dataframe\">\n",
       "  <thead>\n",
       "    <tr style=\"text-align: right;\">\n",
       "      <th></th>\n",
       "      <th>College</th>\n",
       "    </tr>\n",
       "    <tr>\n",
       "      <th>College</th>\n",
       "      <th></th>\n",
       "    </tr>\n",
       "  </thead>\n",
       "  <tbody>\n",
       "    <tr>\n",
       "      <th>academy of technology</th>\n",
       "      <td>1</td>\n",
       "    </tr>\n",
       "    <tr>\n",
       "      <th>aliah university</th>\n",
       "      <td>1</td>\n",
       "    </tr>\n",
       "    <tr>\n",
       "      <th>amta ramsaday college</th>\n",
       "      <td>1</td>\n",
       "    </tr>\n",
       "    <tr>\n",
       "      <th>aot</th>\n",
       "      <td>1</td>\n",
       "    </tr>\n",
       "    <tr>\n",
       "      <th>asutosh college</th>\n",
       "      <td>4</td>\n",
       "    </tr>\n",
       "    <tr>\n",
       "      <th>...</th>\n",
       "      <td>...</td>\n",
       "    </tr>\n",
       "    <tr>\n",
       "      <th>vidyasagar university, medinipur</th>\n",
       "      <td>1</td>\n",
       "    </tr>\n",
       "    <tr>\n",
       "      <th>viswass school &amp; college of nursing</th>\n",
       "      <td>1</td>\n",
       "    </tr>\n",
       "    <tr>\n",
       "      <th>vivekananda college</th>\n",
       "      <td>2</td>\n",
       "    </tr>\n",
       "    <tr>\n",
       "      <th>vivekananda college,thakurpukur</th>\n",
       "      <td>1</td>\n",
       "    </tr>\n",
       "    <tr>\n",
       "      <th>women's collage</th>\n",
       "      <td>1</td>\n",
       "    </tr>\n",
       "  </tbody>\n",
       "</table>\n",
       "<p>86 rows × 1 columns</p>\n",
       "</div>"
      ],
      "text/plain": [
       "                                     College\n",
       "College                                     \n",
       "academy of technology                      1\n",
       "aliah university                           1\n",
       "amta ramsaday college                      1\n",
       "aot                                        1\n",
       "asutosh college                            4\n",
       "...                                      ...\n",
       "vidyasagar university, medinipur           1\n",
       "viswass school & college of nursing        1\n",
       "vivekananda college                        2\n",
       "vivekananda college,thakurpukur            1\n",
       "women's collage                            1\n",
       "\n",
       "[86 rows x 1 columns]"
      ]
     },
     "execution_count": 58,
     "metadata": {},
     "output_type": "execute_result"
    }
   ],
   "source": [
    "#collega data counting all college\n",
    "nolaptop1 = nolaptop.groupby('College')['College'].agg('count')\n",
    "college_no_laptop= pd.DataFrame(nolaptop1)\n",
    "college_no_laptop"
   ]
  },
  {
   "cell_type": "code",
   "execution_count": 59,
   "metadata": {},
   "outputs": [
    {
     "data": {
      "text/html": [
       "<div>\n",
       "<style scoped>\n",
       "    .dataframe tbody tr th:only-of-type {\n",
       "        vertical-align: middle;\n",
       "    }\n",
       "\n",
       "    .dataframe tbody tr th {\n",
       "        vertical-align: top;\n",
       "    }\n",
       "\n",
       "    .dataframe thead th {\n",
       "        text-align: right;\n",
       "    }\n",
       "</style>\n",
       "<table border=\"1\" class=\"dataframe\">\n",
       "  <thead>\n",
       "    <tr style=\"text-align: right;\">\n",
       "      <th></th>\n",
       "      <th>no_laptop_counts</th>\n",
       "    </tr>\n",
       "    <tr>\n",
       "      <th>College</th>\n",
       "      <th></th>\n",
       "    </tr>\n",
       "  </thead>\n",
       "  <tbody>\n",
       "    <tr>\n",
       "      <th>academy of technology</th>\n",
       "      <td>1</td>\n",
       "    </tr>\n",
       "    <tr>\n",
       "      <th>aliah university</th>\n",
       "      <td>1</td>\n",
       "    </tr>\n",
       "    <tr>\n",
       "      <th>amta ramsaday college</th>\n",
       "      <td>1</td>\n",
       "    </tr>\n",
       "    <tr>\n",
       "      <th>aot</th>\n",
       "      <td>1</td>\n",
       "    </tr>\n",
       "    <tr>\n",
       "      <th>asutosh college</th>\n",
       "      <td>4</td>\n",
       "    </tr>\n",
       "    <tr>\n",
       "      <th>...</th>\n",
       "      <td>...</td>\n",
       "    </tr>\n",
       "    <tr>\n",
       "      <th>vidyasagar university, medinipur</th>\n",
       "      <td>1</td>\n",
       "    </tr>\n",
       "    <tr>\n",
       "      <th>viswass school &amp; college of nursing</th>\n",
       "      <td>1</td>\n",
       "    </tr>\n",
       "    <tr>\n",
       "      <th>vivekananda college</th>\n",
       "      <td>2</td>\n",
       "    </tr>\n",
       "    <tr>\n",
       "      <th>vivekananda college,thakurpukur</th>\n",
       "      <td>1</td>\n",
       "    </tr>\n",
       "    <tr>\n",
       "      <th>women's collage</th>\n",
       "      <td>1</td>\n",
       "    </tr>\n",
       "  </tbody>\n",
       "</table>\n",
       "<p>86 rows × 1 columns</p>\n",
       "</div>"
      ],
      "text/plain": [
       "                                     no_laptop_counts\n",
       "College                                              \n",
       "academy of technology                               1\n",
       "aliah university                                    1\n",
       "amta ramsaday college                               1\n",
       "aot                                                 1\n",
       "asutosh college                                     4\n",
       "...                                               ...\n",
       "vidyasagar university, medinipur                    1\n",
       "viswass school & college of nursing                 1\n",
       "vivekananda college                                 2\n",
       "vivekananda college,thakurpukur                     1\n",
       "women's collage                                     1\n",
       "\n",
       "[86 rows x 1 columns]"
      ]
     },
     "execution_count": 59,
     "metadata": {},
     "output_type": "execute_result"
    }
   ],
   "source": [
    "#renameing to total_counts of department data\n",
    "college_no_laptop.rename(columns={\"College\": \"no_laptop_counts\"},inplace=True)\n",
    "college_no_laptop"
   ]
  },
  {
   "cell_type": "code",
   "execution_count": 60,
   "metadata": {},
   "outputs": [
    {
     "data": {
      "text/html": [
       "<div>\n",
       "<style scoped>\n",
       "    .dataframe tbody tr th:only-of-type {\n",
       "        vertical-align: middle;\n",
       "    }\n",
       "\n",
       "    .dataframe tbody tr th {\n",
       "        vertical-align: top;\n",
       "    }\n",
       "\n",
       "    .dataframe thead th {\n",
       "        text-align: right;\n",
       "    }\n",
       "</style>\n",
       "<table border=\"1\" class=\"dataframe\">\n",
       "  <thead>\n",
       "    <tr style=\"text-align: right;\">\n",
       "      <th></th>\n",
       "      <th>College</th>\n",
       "      <th>no_laptop_counts</th>\n",
       "    </tr>\n",
       "  </thead>\n",
       "  <tbody>\n",
       "    <tr>\n",
       "      <th>0</th>\n",
       "      <td>academy of technology</td>\n",
       "      <td>1</td>\n",
       "    </tr>\n",
       "    <tr>\n",
       "      <th>1</th>\n",
       "      <td>aliah university</td>\n",
       "      <td>1</td>\n",
       "    </tr>\n",
       "    <tr>\n",
       "      <th>2</th>\n",
       "      <td>amta ramsaday college</td>\n",
       "      <td>1</td>\n",
       "    </tr>\n",
       "    <tr>\n",
       "      <th>3</th>\n",
       "      <td>aot</td>\n",
       "      <td>1</td>\n",
       "    </tr>\n",
       "    <tr>\n",
       "      <th>4</th>\n",
       "      <td>asutosh college</td>\n",
       "      <td>4</td>\n",
       "    </tr>\n",
       "    <tr>\n",
       "      <th>...</th>\n",
       "      <td>...</td>\n",
       "      <td>...</td>\n",
       "    </tr>\n",
       "    <tr>\n",
       "      <th>81</th>\n",
       "      <td>vidyasagar university, medinipur</td>\n",
       "      <td>1</td>\n",
       "    </tr>\n",
       "    <tr>\n",
       "      <th>82</th>\n",
       "      <td>viswass school &amp; college of nursing</td>\n",
       "      <td>1</td>\n",
       "    </tr>\n",
       "    <tr>\n",
       "      <th>83</th>\n",
       "      <td>vivekananda college</td>\n",
       "      <td>2</td>\n",
       "    </tr>\n",
       "    <tr>\n",
       "      <th>84</th>\n",
       "      <td>vivekananda college,thakurpukur</td>\n",
       "      <td>1</td>\n",
       "    </tr>\n",
       "    <tr>\n",
       "      <th>85</th>\n",
       "      <td>women's collage</td>\n",
       "      <td>1</td>\n",
       "    </tr>\n",
       "  </tbody>\n",
       "</table>\n",
       "<p>86 rows × 2 columns</p>\n",
       "</div>"
      ],
      "text/plain": [
       "                                College  no_laptop_counts\n",
       "0                 academy of technology                 1\n",
       "1                      aliah university                 1\n",
       "2                 amta ramsaday college                 1\n",
       "3                                   aot                 1\n",
       "4                       asutosh college                 4\n",
       "..                                  ...               ...\n",
       "81     vidyasagar university, medinipur                 1\n",
       "82  viswass school & college of nursing                 1\n",
       "83                  vivekananda college                 2\n",
       "84      vivekananda college,thakurpukur                 1\n",
       "85                      women's collage                 1\n",
       "\n",
       "[86 rows x 2 columns]"
      ]
     },
     "execution_count": 60,
     "metadata": {},
     "output_type": "execute_result"
    }
   ],
   "source": [
    "college_no_laptop.reset_index(inplace=True)\n",
    "college_no_laptop"
   ]
  },
  {
   "cell_type": "code",
   "execution_count": 61,
   "metadata": {},
   "outputs": [
    {
     "data": {
      "text/html": [
       "<div>\n",
       "<style scoped>\n",
       "    .dataframe tbody tr th:only-of-type {\n",
       "        vertical-align: middle;\n",
       "    }\n",
       "\n",
       "    .dataframe tbody tr th {\n",
       "        vertical-align: top;\n",
       "    }\n",
       "\n",
       "    .dataframe thead th {\n",
       "        text-align: right;\n",
       "    }\n",
       "</style>\n",
       "<table border=\"1\" class=\"dataframe\">\n",
       "  <thead>\n",
       "    <tr style=\"text-align: right;\">\n",
       "      <th></th>\n",
       "      <th>College</th>\n",
       "      <th>no_laptop_counts</th>\n",
       "    </tr>\n",
       "  </thead>\n",
       "  <tbody>\n",
       "    <tr>\n",
       "      <th>42</th>\n",
       "      <td>maulana azad college</td>\n",
       "      <td>33</td>\n",
       "    </tr>\n",
       "    <tr>\n",
       "      <th>22</th>\n",
       "      <td>durgapur women's college</td>\n",
       "      <td>21</td>\n",
       "    </tr>\n",
       "    <tr>\n",
       "      <th>40</th>\n",
       "      <td>lady brabourne college</td>\n",
       "      <td>18</td>\n",
       "    </tr>\n",
       "    <tr>\n",
       "      <th>66</th>\n",
       "      <td>regent education and research foundation</td>\n",
       "      <td>15</td>\n",
       "    </tr>\n",
       "    <tr>\n",
       "      <th>30</th>\n",
       "      <td>jadavpur university</td>\n",
       "      <td>8</td>\n",
       "    </tr>\n",
       "    <tr>\n",
       "      <th>...</th>\n",
       "      <td>...</td>\n",
       "      <td>...</td>\n",
       "    </tr>\n",
       "    <tr>\n",
       "      <th>29</th>\n",
       "      <td>j.k college</td>\n",
       "      <td>1</td>\n",
       "    </tr>\n",
       "    <tr>\n",
       "      <th>28</th>\n",
       "      <td>insitiution of engineering and managment</td>\n",
       "      <td>1</td>\n",
       "    </tr>\n",
       "    <tr>\n",
       "      <th>27</th>\n",
       "      <td>guru nanak institute of pharmaceutical science...</td>\n",
       "      <td>1</td>\n",
       "    </tr>\n",
       "    <tr>\n",
       "      <th>26</th>\n",
       "      <td>global nature care sangathan group of institut...</td>\n",
       "      <td>1</td>\n",
       "    </tr>\n",
       "    <tr>\n",
       "      <th>85</th>\n",
       "      <td>women's collage</td>\n",
       "      <td>1</td>\n",
       "    </tr>\n",
       "  </tbody>\n",
       "</table>\n",
       "<p>86 rows × 2 columns</p>\n",
       "</div>"
      ],
      "text/plain": [
       "                                              College  no_laptop_counts\n",
       "42                               maulana azad college                33\n",
       "22                           durgapur women's college                21\n",
       "40                             lady brabourne college                18\n",
       "66           regent education and research foundation                15\n",
       "30                                jadavpur university                 8\n",
       "..                                                ...               ...\n",
       "29                                        j.k college                 1\n",
       "28           insitiution of engineering and managment                 1\n",
       "27  guru nanak institute of pharmaceutical science...                 1\n",
       "26  global nature care sangathan group of institut...                 1\n",
       "85                                    women's collage                 1\n",
       "\n",
       "[86 rows x 2 columns]"
      ]
     },
     "execution_count": 61,
     "metadata": {},
     "output_type": "execute_result"
    }
   ],
   "source": [
    "college_no_laptop.sort_values(\"no_laptop_counts\", ascending=False)"
   ]
  },
  {
   "cell_type": "code",
   "execution_count": 62,
   "metadata": {},
   "outputs": [
    {
     "data": {
      "application/vnd.plotly.v1+json": {
       "config": {
        "linkText": "Export to plot.ly",
        "plotlyServerURL": "https://plot.ly",
        "showLink": false
       },
       "data": [
        {
         "marker": {
          "color": "lightgreen"
         },
         "text": [
          "maulana azad college",
          "durgapur women's college",
          "lady brabourne college",
          "regent education and research foundation",
          "jadavpur university",
          "asutosh college",
          "kalyani mahavidyalaya",
          "vidyasagar university",
          "regent education & research foundation",
          "rerf",
          "durgapur government college",
          "moulana azad college",
          "future institute of technology",
          "narasinha dutt college",
          "bethune college",
          "vivekananda college",
          "university of calcutta",
          "the new horizons institute of technology",
          "national power training institute nagpur",
          "raja peary mohan college",
          "purulia zilla school",
          "presidency university",
          "nsu",
          "national power training institute (e.r) durgapur",
          "viswass school & college of nursing",
          "ramakrishna mission vivekananda educational and research institute",
          "national power training institute",
          "narasinha dutta college",
          "narasinha dutt college, university of calcutta",
          "vivekananda college,thakurpukur",
          "ramakrishna mission shilpapitha",
          "raniganj girls' college",
          "shibpur dinobundhoo institution",
          "vidyasagar university, medinipur",
          "rcc institute of information technology",
          "vidyasagar college for women",
          "regent education & research foundation barrackpore",
          "regent education &research foundation",
          "victoria institution",
          "narasingha dutt college",
          "regent education and research foundation group of institutions",
          "uttarpara amarendra vidyapith",
          "rkmveri (belur campus)",
          "rkmveri belur math",
          "rkmveri, belur math",
          "rrerf",
          "shahjalal university of science & technology",
          "academy of technology",
          "maulana azad college, kolkata",
          "n.p.t.i(e.r.)",
          "durgapur women's collage",
          "durgapur institute of advanced technology and management",
          "durgapur institute of advanced technology and managemant rajbandh",
          "durgapur institute of advanced technology & management",
          "durgapur institute of advanced and technology management",
          "durgapur institute of advance technology and managment",
          "durgapur institute of advance technology and management",
          "duragpur women's college",
          "dr.b.c.roy engineering college",
          "dr. b. c. roy engineering college",
          "diatm, durgapur",
          "college name - durgapur womens college",
          "calcutta university",
          "b p poddar institute of management & technology",
          "aot",
          "amta ramsaday college",
          "durgapur woman's college",
          "durgapur women's college kazi nazrul university",
          "maulona azad college",
          "durgapur womens college",
          "maulana azad college, university of calcutta",
          "aliah university",
          "lalbaba college",
          "lady braboune college",
          "lady braboune collage",
          "kalyani mahavidyalay",
          "kaji najrul invercity",
          "jogomaya devi college",
          "jk college",
          "jagannath kishore college,purulia",
          "jadavpuruniversity",
          "j.k college",
          "insitiution of engineering and managment",
          "guru nanak institute of pharmaceutical science and technology",
          "global nature care sangathan group of institutions",
          "women's collage"
         ],
         "type": "bar",
         "x": [
          "maulana azad college",
          "durgapur women's college",
          "lady brabourne college",
          "regent education and research foundation",
          "jadavpur university",
          "asutosh college",
          "kalyani mahavidyalaya",
          "vidyasagar university",
          "regent education & research foundation",
          "rerf",
          "durgapur government college",
          "moulana azad college",
          "future institute of technology",
          "narasinha dutt college",
          "bethune college",
          "vivekananda college",
          "university of calcutta",
          "the new horizons institute of technology",
          "national power training institute nagpur",
          "raja peary mohan college",
          "purulia zilla school",
          "presidency university",
          "nsu",
          "national power training institute (e.r) durgapur",
          "viswass school & college of nursing",
          "ramakrishna mission vivekananda educational and research institute",
          "national power training institute",
          "narasinha dutta college",
          "narasinha dutt college, university of calcutta",
          "vivekananda college,thakurpukur",
          "ramakrishna mission shilpapitha",
          "raniganj girls' college",
          "shibpur dinobundhoo institution",
          "vidyasagar university, medinipur",
          "rcc institute of information technology",
          "vidyasagar college for women",
          "regent education & research foundation barrackpore",
          "regent education &research foundation",
          "victoria institution",
          "narasingha dutt college",
          "regent education and research foundation group of institutions",
          "uttarpara amarendra vidyapith",
          "rkmveri (belur campus)",
          "rkmveri belur math",
          "rkmveri, belur math",
          "rrerf",
          "shahjalal university of science & technology",
          "academy of technology",
          "maulana azad college, kolkata",
          "n.p.t.i(e.r.)",
          "durgapur women's collage",
          "durgapur institute of advanced technology and management",
          "durgapur institute of advanced technology and managemant rajbandh",
          "durgapur institute of advanced technology & management",
          "durgapur institute of advanced and technology management",
          "durgapur institute of advance technology and managment",
          "durgapur institute of advance technology and management",
          "duragpur women's college",
          "dr.b.c.roy engineering college",
          "dr. b. c. roy engineering college",
          "diatm, durgapur",
          "college name - durgapur womens college",
          "calcutta university",
          "b p poddar institute of management & technology",
          "aot",
          "amta ramsaday college",
          "durgapur woman's college",
          "durgapur women's college kazi nazrul university",
          "maulona azad college",
          "durgapur womens college",
          "maulana azad college, university of calcutta",
          "aliah university",
          "lalbaba college",
          "lady braboune college",
          "lady braboune collage",
          "kalyani mahavidyalay",
          "kaji najrul invercity",
          "jogomaya devi college",
          "jk college",
          "jagannath kishore college,purulia",
          "jadavpuruniversity",
          "j.k college",
          "insitiution of engineering and managment",
          "guru nanak institute of pharmaceutical science and technology",
          "global nature care sangathan group of institutions",
          "women's collage"
         ],
         "y": [
          33,
          21,
          18,
          15,
          8,
          4,
          3,
          3,
          3,
          3,
          2,
          2,
          2,
          2,
          2,
          2,
          2,
          1,
          1,
          1,
          1,
          1,
          1,
          1,
          1,
          1,
          1,
          1,
          1,
          1,
          1,
          1,
          1,
          1,
          1,
          1,
          1,
          1,
          1,
          1,
          1,
          1,
          1,
          1,
          1,
          1,
          1,
          1,
          1,
          1,
          1,
          1,
          1,
          1,
          1,
          1,
          1,
          1,
          1,
          1,
          1,
          1,
          1,
          1,
          1,
          1,
          1,
          1,
          1,
          1,
          1,
          1,
          1,
          1,
          1,
          1,
          1,
          1,
          1,
          1,
          1,
          1,
          1,
          1,
          1,
          1
         ]
        }
       ],
       "layout": {
        "hovermode": "closest",
        "paper_bgcolor": "rgba(0, 0, 0, 0)",
        "plot_bgcolor": "rgba(0, 0, 0, 0)",
        "template": {
         "data": {
          "bar": [
           {
            "error_x": {
             "color": "#2a3f5f"
            },
            "error_y": {
             "color": "#2a3f5f"
            },
            "marker": {
             "line": {
              "color": "#E5ECF6",
              "width": 0.5
             }
            },
            "type": "bar"
           }
          ],
          "barpolar": [
           {
            "marker": {
             "line": {
              "color": "#E5ECF6",
              "width": 0.5
             }
            },
            "type": "barpolar"
           }
          ],
          "carpet": [
           {
            "aaxis": {
             "endlinecolor": "#2a3f5f",
             "gridcolor": "white",
             "linecolor": "white",
             "minorgridcolor": "white",
             "startlinecolor": "#2a3f5f"
            },
            "baxis": {
             "endlinecolor": "#2a3f5f",
             "gridcolor": "white",
             "linecolor": "white",
             "minorgridcolor": "white",
             "startlinecolor": "#2a3f5f"
            },
            "type": "carpet"
           }
          ],
          "choropleth": [
           {
            "colorbar": {
             "outlinewidth": 0,
             "ticks": ""
            },
            "type": "choropleth"
           }
          ],
          "contour": [
           {
            "colorbar": {
             "outlinewidth": 0,
             "ticks": ""
            },
            "colorscale": [
             [
              0,
              "#0d0887"
             ],
             [
              0.1111111111111111,
              "#46039f"
             ],
             [
              0.2222222222222222,
              "#7201a8"
             ],
             [
              0.3333333333333333,
              "#9c179e"
             ],
             [
              0.4444444444444444,
              "#bd3786"
             ],
             [
              0.5555555555555556,
              "#d8576b"
             ],
             [
              0.6666666666666666,
              "#ed7953"
             ],
             [
              0.7777777777777778,
              "#fb9f3a"
             ],
             [
              0.8888888888888888,
              "#fdca26"
             ],
             [
              1,
              "#f0f921"
             ]
            ],
            "type": "contour"
           }
          ],
          "contourcarpet": [
           {
            "colorbar": {
             "outlinewidth": 0,
             "ticks": ""
            },
            "type": "contourcarpet"
           }
          ],
          "heatmap": [
           {
            "colorbar": {
             "outlinewidth": 0,
             "ticks": ""
            },
            "colorscale": [
             [
              0,
              "#0d0887"
             ],
             [
              0.1111111111111111,
              "#46039f"
             ],
             [
              0.2222222222222222,
              "#7201a8"
             ],
             [
              0.3333333333333333,
              "#9c179e"
             ],
             [
              0.4444444444444444,
              "#bd3786"
             ],
             [
              0.5555555555555556,
              "#d8576b"
             ],
             [
              0.6666666666666666,
              "#ed7953"
             ],
             [
              0.7777777777777778,
              "#fb9f3a"
             ],
             [
              0.8888888888888888,
              "#fdca26"
             ],
             [
              1,
              "#f0f921"
             ]
            ],
            "type": "heatmap"
           }
          ],
          "heatmapgl": [
           {
            "colorbar": {
             "outlinewidth": 0,
             "ticks": ""
            },
            "colorscale": [
             [
              0,
              "#0d0887"
             ],
             [
              0.1111111111111111,
              "#46039f"
             ],
             [
              0.2222222222222222,
              "#7201a8"
             ],
             [
              0.3333333333333333,
              "#9c179e"
             ],
             [
              0.4444444444444444,
              "#bd3786"
             ],
             [
              0.5555555555555556,
              "#d8576b"
             ],
             [
              0.6666666666666666,
              "#ed7953"
             ],
             [
              0.7777777777777778,
              "#fb9f3a"
             ],
             [
              0.8888888888888888,
              "#fdca26"
             ],
             [
              1,
              "#f0f921"
             ]
            ],
            "type": "heatmapgl"
           }
          ],
          "histogram": [
           {
            "marker": {
             "colorbar": {
              "outlinewidth": 0,
              "ticks": ""
             }
            },
            "type": "histogram"
           }
          ],
          "histogram2d": [
           {
            "colorbar": {
             "outlinewidth": 0,
             "ticks": ""
            },
            "colorscale": [
             [
              0,
              "#0d0887"
             ],
             [
              0.1111111111111111,
              "#46039f"
             ],
             [
              0.2222222222222222,
              "#7201a8"
             ],
             [
              0.3333333333333333,
              "#9c179e"
             ],
             [
              0.4444444444444444,
              "#bd3786"
             ],
             [
              0.5555555555555556,
              "#d8576b"
             ],
             [
              0.6666666666666666,
              "#ed7953"
             ],
             [
              0.7777777777777778,
              "#fb9f3a"
             ],
             [
              0.8888888888888888,
              "#fdca26"
             ],
             [
              1,
              "#f0f921"
             ]
            ],
            "type": "histogram2d"
           }
          ],
          "histogram2dcontour": [
           {
            "colorbar": {
             "outlinewidth": 0,
             "ticks": ""
            },
            "colorscale": [
             [
              0,
              "#0d0887"
             ],
             [
              0.1111111111111111,
              "#46039f"
             ],
             [
              0.2222222222222222,
              "#7201a8"
             ],
             [
              0.3333333333333333,
              "#9c179e"
             ],
             [
              0.4444444444444444,
              "#bd3786"
             ],
             [
              0.5555555555555556,
              "#d8576b"
             ],
             [
              0.6666666666666666,
              "#ed7953"
             ],
             [
              0.7777777777777778,
              "#fb9f3a"
             ],
             [
              0.8888888888888888,
              "#fdca26"
             ],
             [
              1,
              "#f0f921"
             ]
            ],
            "type": "histogram2dcontour"
           }
          ],
          "mesh3d": [
           {
            "colorbar": {
             "outlinewidth": 0,
             "ticks": ""
            },
            "type": "mesh3d"
           }
          ],
          "parcoords": [
           {
            "line": {
             "colorbar": {
              "outlinewidth": 0,
              "ticks": ""
             }
            },
            "type": "parcoords"
           }
          ],
          "pie": [
           {
            "automargin": true,
            "type": "pie"
           }
          ],
          "scatter": [
           {
            "marker": {
             "colorbar": {
              "outlinewidth": 0,
              "ticks": ""
             }
            },
            "type": "scatter"
           }
          ],
          "scatter3d": [
           {
            "line": {
             "colorbar": {
              "outlinewidth": 0,
              "ticks": ""
             }
            },
            "marker": {
             "colorbar": {
              "outlinewidth": 0,
              "ticks": ""
             }
            },
            "type": "scatter3d"
           }
          ],
          "scattercarpet": [
           {
            "marker": {
             "colorbar": {
              "outlinewidth": 0,
              "ticks": ""
             }
            },
            "type": "scattercarpet"
           }
          ],
          "scattergeo": [
           {
            "marker": {
             "colorbar": {
              "outlinewidth": 0,
              "ticks": ""
             }
            },
            "type": "scattergeo"
           }
          ],
          "scattergl": [
           {
            "marker": {
             "colorbar": {
              "outlinewidth": 0,
              "ticks": ""
             }
            },
            "type": "scattergl"
           }
          ],
          "scattermapbox": [
           {
            "marker": {
             "colorbar": {
              "outlinewidth": 0,
              "ticks": ""
             }
            },
            "type": "scattermapbox"
           }
          ],
          "scatterpolar": [
           {
            "marker": {
             "colorbar": {
              "outlinewidth": 0,
              "ticks": ""
             }
            },
            "type": "scatterpolar"
           }
          ],
          "scatterpolargl": [
           {
            "marker": {
             "colorbar": {
              "outlinewidth": 0,
              "ticks": ""
             }
            },
            "type": "scatterpolargl"
           }
          ],
          "scatterternary": [
           {
            "marker": {
             "colorbar": {
              "outlinewidth": 0,
              "ticks": ""
             }
            },
            "type": "scatterternary"
           }
          ],
          "surface": [
           {
            "colorbar": {
             "outlinewidth": 0,
             "ticks": ""
            },
            "colorscale": [
             [
              0,
              "#0d0887"
             ],
             [
              0.1111111111111111,
              "#46039f"
             ],
             [
              0.2222222222222222,
              "#7201a8"
             ],
             [
              0.3333333333333333,
              "#9c179e"
             ],
             [
              0.4444444444444444,
              "#bd3786"
             ],
             [
              0.5555555555555556,
              "#d8576b"
             ],
             [
              0.6666666666666666,
              "#ed7953"
             ],
             [
              0.7777777777777778,
              "#fb9f3a"
             ],
             [
              0.8888888888888888,
              "#fdca26"
             ],
             [
              1,
              "#f0f921"
             ]
            ],
            "type": "surface"
           }
          ],
          "table": [
           {
            "cells": {
             "fill": {
              "color": "#EBF0F8"
             },
             "line": {
              "color": "white"
             }
            },
            "header": {
             "fill": {
              "color": "#C8D4E3"
             },
             "line": {
              "color": "white"
             }
            },
            "type": "table"
           }
          ]
         },
         "layout": {
          "annotationdefaults": {
           "arrowcolor": "#2a3f5f",
           "arrowhead": 0,
           "arrowwidth": 1
          },
          "autotypenumbers": "strict",
          "coloraxis": {
           "colorbar": {
            "outlinewidth": 0,
            "ticks": ""
           }
          },
          "colorscale": {
           "diverging": [
            [
             0,
             "#8e0152"
            ],
            [
             0.1,
             "#c51b7d"
            ],
            [
             0.2,
             "#de77ae"
            ],
            [
             0.3,
             "#f1b6da"
            ],
            [
             0.4,
             "#fde0ef"
            ],
            [
             0.5,
             "#f7f7f7"
            ],
            [
             0.6,
             "#e6f5d0"
            ],
            [
             0.7,
             "#b8e186"
            ],
            [
             0.8,
             "#7fbc41"
            ],
            [
             0.9,
             "#4d9221"
            ],
            [
             1,
             "#276419"
            ]
           ],
           "sequential": [
            [
             0,
             "#0d0887"
            ],
            [
             0.1111111111111111,
             "#46039f"
            ],
            [
             0.2222222222222222,
             "#7201a8"
            ],
            [
             0.3333333333333333,
             "#9c179e"
            ],
            [
             0.4444444444444444,
             "#bd3786"
            ],
            [
             0.5555555555555556,
             "#d8576b"
            ],
            [
             0.6666666666666666,
             "#ed7953"
            ],
            [
             0.7777777777777778,
             "#fb9f3a"
            ],
            [
             0.8888888888888888,
             "#fdca26"
            ],
            [
             1,
             "#f0f921"
            ]
           ],
           "sequentialminus": [
            [
             0,
             "#0d0887"
            ],
            [
             0.1111111111111111,
             "#46039f"
            ],
            [
             0.2222222222222222,
             "#7201a8"
            ],
            [
             0.3333333333333333,
             "#9c179e"
            ],
            [
             0.4444444444444444,
             "#bd3786"
            ],
            [
             0.5555555555555556,
             "#d8576b"
            ],
            [
             0.6666666666666666,
             "#ed7953"
            ],
            [
             0.7777777777777778,
             "#fb9f3a"
            ],
            [
             0.8888888888888888,
             "#fdca26"
            ],
            [
             1,
             "#f0f921"
            ]
           ]
          },
          "colorway": [
           "#636efa",
           "#EF553B",
           "#00cc96",
           "#ab63fa",
           "#FFA15A",
           "#19d3f3",
           "#FF6692",
           "#B6E880",
           "#FF97FF",
           "#FECB52"
          ],
          "font": {
           "color": "#2a3f5f"
          },
          "geo": {
           "bgcolor": "white",
           "lakecolor": "white",
           "landcolor": "#E5ECF6",
           "showlakes": true,
           "showland": true,
           "subunitcolor": "white"
          },
          "hoverlabel": {
           "align": "left"
          },
          "hovermode": "closest",
          "mapbox": {
           "style": "light"
          },
          "paper_bgcolor": "white",
          "plot_bgcolor": "#E5ECF6",
          "polar": {
           "angularaxis": {
            "gridcolor": "white",
            "linecolor": "white",
            "ticks": ""
           },
           "bgcolor": "#E5ECF6",
           "radialaxis": {
            "gridcolor": "white",
            "linecolor": "white",
            "ticks": ""
           }
          },
          "scene": {
           "xaxis": {
            "backgroundcolor": "#E5ECF6",
            "gridcolor": "white",
            "gridwidth": 2,
            "linecolor": "white",
            "showbackground": true,
            "ticks": "",
            "zerolinecolor": "white"
           },
           "yaxis": {
            "backgroundcolor": "#E5ECF6",
            "gridcolor": "white",
            "gridwidth": 2,
            "linecolor": "white",
            "showbackground": true,
            "ticks": "",
            "zerolinecolor": "white"
           },
           "zaxis": {
            "backgroundcolor": "#E5ECF6",
            "gridcolor": "white",
            "gridwidth": 2,
            "linecolor": "white",
            "showbackground": true,
            "ticks": "",
            "zerolinecolor": "white"
           }
          },
          "shapedefaults": {
           "line": {
            "color": "#2a3f5f"
           }
          },
          "ternary": {
           "aaxis": {
            "gridcolor": "white",
            "linecolor": "white",
            "ticks": ""
           },
           "baxis": {
            "gridcolor": "white",
            "linecolor": "white",
            "ticks": ""
           },
           "bgcolor": "#E5ECF6",
           "caxis": {
            "gridcolor": "white",
            "linecolor": "white",
            "ticks": ""
           }
          },
          "title": {
           "x": 0.05
          },
          "xaxis": {
           "automargin": true,
           "gridcolor": "white",
           "linecolor": "white",
           "ticks": "",
           "title": {
            "standoff": 15
           },
           "zerolinecolor": "white",
           "zerolinewidth": 2
          },
          "yaxis": {
           "automargin": true,
           "gridcolor": "white",
           "linecolor": "white",
           "ticks": "",
           "title": {
            "standoff": 15
           },
           "zerolinecolor": "white",
           "zerolinewidth": 2
          }
         }
        },
        "title": {
         "text": "Free Session total Student from University did not have laptop "
        },
        "xaxis": {
         "linecolor": "black",
         "linewidth": 2,
         "mirror": true,
         "showline": true,
         "showticklabels": true,
         "tickangle": 45,
         "tickfont": {
          "color": "red",
          "size": 10
         },
         "title": {
          "text": "University Name"
         },
         "zeroline": true,
         "zerolinecolor": "grey",
         "zerolinewidth": 1
        },
        "yaxis": {
         "gridcolor": "lightgrey",
         "linecolor": "black",
         "linewidth": 2,
         "mirror": true,
         "showline": true,
         "title": {
          "text": "Total Students"
         },
         "zeroline": true,
         "zerolinecolor": "grey",
         "zerolinewidth": 1
        }
       }
      },
      "text/html": [
       "<div>                            <div id=\"e170b2c6-24c4-4a8b-994a-d7f4628ad661\" class=\"plotly-graph-div\" style=\"height:525px; width:100%;\"></div>            <script type=\"text/javascript\">                require([\"plotly\"], function(Plotly) {                    window.PLOTLYENV=window.PLOTLYENV || {};                                    if (document.getElementById(\"e170b2c6-24c4-4a8b-994a-d7f4628ad661\")) {                    Plotly.newPlot(                        \"e170b2c6-24c4-4a8b-994a-d7f4628ad661\",                        [{\"marker\": {\"color\": \"lightgreen\"}, \"text\": [\"maulana azad college\", \"durgapur women's college\", \"lady brabourne college\", \"regent education and research foundation\", \"jadavpur university\", \"asutosh college\", \"kalyani mahavidyalaya\", \"vidyasagar university\", \"regent education & research foundation\", \"rerf\", \"durgapur government college\", \"moulana azad college\", \"future institute of technology\", \"narasinha dutt college\", \"bethune college\", \"vivekananda college\", \"university of calcutta\", \"the new horizons institute of technology\", \"national power training institute nagpur\", \"raja peary mohan college\", \"purulia zilla school\", \"presidency university\", \"nsu\", \"national power training institute (e.r) durgapur\", \"viswass school & college of nursing\", \"ramakrishna mission vivekananda educational and research institute\", \"national power training institute\", \"narasinha dutta college\", \"narasinha dutt college, university of calcutta\", \"vivekananda college,thakurpukur\", \"ramakrishna mission shilpapitha\", \"raniganj girls' college\", \"shibpur dinobundhoo institution\", \"vidyasagar university, medinipur\", \"rcc institute of information technology\", \"vidyasagar college for women\", \"regent education & research foundation barrackpore\", \"regent education &research foundation\", \"victoria institution\", \"narasingha dutt college\", \"regent education and research foundation group of institutions\", \"uttarpara amarendra vidyapith\", \"rkmveri (belur campus)\", \"rkmveri belur math\", \"rkmveri, belur math\", \"rrerf\", \"shahjalal university of science & technology\", \"academy of technology\", \"maulana azad college, kolkata\", \"n.p.t.i(e.r.)\", \"durgapur women's collage\", \"durgapur institute of advanced technology and management\", \"durgapur institute of advanced technology and managemant rajbandh\", \"durgapur institute of advanced technology & management\", \"durgapur institute of advanced and technology management\", \"durgapur institute of advance technology and managment\", \"durgapur institute of advance technology and management\", \"duragpur women's college\", \"dr.b.c.roy engineering college\", \"dr. b. c. roy engineering college\", \"diatm, durgapur\", \"college name - durgapur womens college\", \"calcutta university\", \"b p poddar institute of management & technology\", \"aot\", \"amta ramsaday college\", \"durgapur woman's college\", \"durgapur women's college kazi nazrul university\", \"maulona azad college\", \"durgapur womens college\", \"maulana azad college, university of calcutta\", \"aliah university\", \"lalbaba college\", \"lady braboune college\", \"lady braboune collage\", \"kalyani mahavidyalay\", \"kaji najrul invercity\", \"jogomaya devi college\", \"jk college\", \"jagannath kishore college,purulia\", \"jadavpuruniversity\", \"j.k college\", \"insitiution of engineering and managment\", \"guru nanak institute of pharmaceutical science and technology\", \"global nature care sangathan group of institutions\", \"women's collage\"], \"type\": \"bar\", \"x\": [\"maulana azad college\", \"durgapur women's college\", \"lady brabourne college\", \"regent education and research foundation\", \"jadavpur university\", \"asutosh college\", \"kalyani mahavidyalaya\", \"vidyasagar university\", \"regent education & research foundation\", \"rerf\", \"durgapur government college\", \"moulana azad college\", \"future institute of technology\", \"narasinha dutt college\", \"bethune college\", \"vivekananda college\", \"university of calcutta\", \"the new horizons institute of technology\", \"national power training institute nagpur\", \"raja peary mohan college\", \"purulia zilla school\", \"presidency university\", \"nsu\", \"national power training institute (e.r) durgapur\", \"viswass school & college of nursing\", \"ramakrishna mission vivekananda educational and research institute\", \"national power training institute\", \"narasinha dutta college\", \"narasinha dutt college, university of calcutta\", \"vivekananda college,thakurpukur\", \"ramakrishna mission shilpapitha\", \"raniganj girls' college\", \"shibpur dinobundhoo institution\", \"vidyasagar university, medinipur\", \"rcc institute of information technology\", \"vidyasagar college for women\", \"regent education & research foundation barrackpore\", \"regent education &research foundation\", \"victoria institution\", \"narasingha dutt college\", \"regent education and research foundation group of institutions\", \"uttarpara amarendra vidyapith\", \"rkmveri (belur campus)\", \"rkmveri belur math\", \"rkmveri, belur math\", \"rrerf\", \"shahjalal university of science & technology\", \"academy of technology\", \"maulana azad college, kolkata\", \"n.p.t.i(e.r.)\", \"durgapur women's collage\", \"durgapur institute of advanced technology and management\", \"durgapur institute of advanced technology and managemant rajbandh\", \"durgapur institute of advanced technology & management\", \"durgapur institute of advanced and technology management\", \"durgapur institute of advance technology and managment\", \"durgapur institute of advance technology and management\", \"duragpur women's college\", \"dr.b.c.roy engineering college\", \"dr. b. c. roy engineering college\", \"diatm, durgapur\", \"college name - durgapur womens college\", \"calcutta university\", \"b p poddar institute of management & technology\", \"aot\", \"amta ramsaday college\", \"durgapur woman's college\", \"durgapur women's college kazi nazrul university\", \"maulona azad college\", \"durgapur womens college\", \"maulana azad college, university of calcutta\", \"aliah university\", \"lalbaba college\", \"lady braboune college\", \"lady braboune collage\", \"kalyani mahavidyalay\", \"kaji najrul invercity\", \"jogomaya devi college\", \"jk college\", \"jagannath kishore college,purulia\", \"jadavpuruniversity\", \"j.k college\", \"insitiution of engineering and managment\", \"guru nanak institute of pharmaceutical science and technology\", \"global nature care sangathan group of institutions\", \"women's collage\"], \"y\": [33, 21, 18, 15, 8, 4, 3, 3, 3, 3, 2, 2, 2, 2, 2, 2, 2, 1, 1, 1, 1, 1, 1, 1, 1, 1, 1, 1, 1, 1, 1, 1, 1, 1, 1, 1, 1, 1, 1, 1, 1, 1, 1, 1, 1, 1, 1, 1, 1, 1, 1, 1, 1, 1, 1, 1, 1, 1, 1, 1, 1, 1, 1, 1, 1, 1, 1, 1, 1, 1, 1, 1, 1, 1, 1, 1, 1, 1, 1, 1, 1, 1, 1, 1, 1, 1]}],                        {\"hovermode\": \"closest\", \"paper_bgcolor\": \"rgba(0, 0, 0, 0)\", \"plot_bgcolor\": \"rgba(0, 0, 0, 0)\", \"template\": {\"data\": {\"bar\": [{\"error_x\": {\"color\": \"#2a3f5f\"}, \"error_y\": {\"color\": \"#2a3f5f\"}, \"marker\": {\"line\": {\"color\": \"#E5ECF6\", \"width\": 0.5}}, \"type\": \"bar\"}], \"barpolar\": [{\"marker\": {\"line\": {\"color\": \"#E5ECF6\", \"width\": 0.5}}, \"type\": \"barpolar\"}], \"carpet\": [{\"aaxis\": {\"endlinecolor\": \"#2a3f5f\", \"gridcolor\": \"white\", \"linecolor\": \"white\", \"minorgridcolor\": \"white\", \"startlinecolor\": \"#2a3f5f\"}, \"baxis\": {\"endlinecolor\": \"#2a3f5f\", \"gridcolor\": \"white\", \"linecolor\": \"white\", \"minorgridcolor\": \"white\", \"startlinecolor\": \"#2a3f5f\"}, \"type\": \"carpet\"}], \"choropleth\": [{\"colorbar\": {\"outlinewidth\": 0, \"ticks\": \"\"}, \"type\": \"choropleth\"}], \"contour\": [{\"colorbar\": {\"outlinewidth\": 0, \"ticks\": \"\"}, \"colorscale\": [[0.0, \"#0d0887\"], [0.1111111111111111, \"#46039f\"], [0.2222222222222222, \"#7201a8\"], [0.3333333333333333, \"#9c179e\"], [0.4444444444444444, \"#bd3786\"], [0.5555555555555556, \"#d8576b\"], [0.6666666666666666, \"#ed7953\"], [0.7777777777777778, \"#fb9f3a\"], [0.8888888888888888, \"#fdca26\"], [1.0, \"#f0f921\"]], \"type\": \"contour\"}], \"contourcarpet\": [{\"colorbar\": {\"outlinewidth\": 0, \"ticks\": \"\"}, \"type\": \"contourcarpet\"}], \"heatmap\": [{\"colorbar\": {\"outlinewidth\": 0, \"ticks\": \"\"}, \"colorscale\": [[0.0, \"#0d0887\"], [0.1111111111111111, \"#46039f\"], [0.2222222222222222, \"#7201a8\"], [0.3333333333333333, \"#9c179e\"], [0.4444444444444444, \"#bd3786\"], [0.5555555555555556, \"#d8576b\"], [0.6666666666666666, \"#ed7953\"], [0.7777777777777778, \"#fb9f3a\"], [0.8888888888888888, \"#fdca26\"], [1.0, \"#f0f921\"]], \"type\": \"heatmap\"}], \"heatmapgl\": [{\"colorbar\": {\"outlinewidth\": 0, \"ticks\": \"\"}, \"colorscale\": [[0.0, \"#0d0887\"], [0.1111111111111111, \"#46039f\"], [0.2222222222222222, \"#7201a8\"], [0.3333333333333333, \"#9c179e\"], [0.4444444444444444, \"#bd3786\"], [0.5555555555555556, \"#d8576b\"], [0.6666666666666666, \"#ed7953\"], [0.7777777777777778, \"#fb9f3a\"], [0.8888888888888888, \"#fdca26\"], [1.0, \"#f0f921\"]], \"type\": \"heatmapgl\"}], \"histogram\": [{\"marker\": {\"colorbar\": {\"outlinewidth\": 0, \"ticks\": \"\"}}, \"type\": \"histogram\"}], \"histogram2d\": [{\"colorbar\": {\"outlinewidth\": 0, \"ticks\": \"\"}, \"colorscale\": [[0.0, \"#0d0887\"], [0.1111111111111111, \"#46039f\"], [0.2222222222222222, \"#7201a8\"], [0.3333333333333333, \"#9c179e\"], [0.4444444444444444, \"#bd3786\"], [0.5555555555555556, \"#d8576b\"], [0.6666666666666666, \"#ed7953\"], [0.7777777777777778, \"#fb9f3a\"], [0.8888888888888888, \"#fdca26\"], [1.0, \"#f0f921\"]], \"type\": \"histogram2d\"}], \"histogram2dcontour\": [{\"colorbar\": {\"outlinewidth\": 0, \"ticks\": \"\"}, \"colorscale\": [[0.0, \"#0d0887\"], [0.1111111111111111, \"#46039f\"], [0.2222222222222222, \"#7201a8\"], [0.3333333333333333, \"#9c179e\"], [0.4444444444444444, \"#bd3786\"], [0.5555555555555556, \"#d8576b\"], [0.6666666666666666, \"#ed7953\"], [0.7777777777777778, \"#fb9f3a\"], [0.8888888888888888, \"#fdca26\"], [1.0, \"#f0f921\"]], \"type\": \"histogram2dcontour\"}], \"mesh3d\": [{\"colorbar\": {\"outlinewidth\": 0, \"ticks\": \"\"}, \"type\": \"mesh3d\"}], \"parcoords\": [{\"line\": {\"colorbar\": {\"outlinewidth\": 0, \"ticks\": \"\"}}, \"type\": \"parcoords\"}], \"pie\": [{\"automargin\": true, \"type\": \"pie\"}], \"scatter\": [{\"marker\": {\"colorbar\": {\"outlinewidth\": 0, \"ticks\": \"\"}}, \"type\": \"scatter\"}], \"scatter3d\": [{\"line\": {\"colorbar\": {\"outlinewidth\": 0, \"ticks\": \"\"}}, \"marker\": {\"colorbar\": {\"outlinewidth\": 0, \"ticks\": \"\"}}, \"type\": \"scatter3d\"}], \"scattercarpet\": [{\"marker\": {\"colorbar\": {\"outlinewidth\": 0, \"ticks\": \"\"}}, \"type\": \"scattercarpet\"}], \"scattergeo\": [{\"marker\": {\"colorbar\": {\"outlinewidth\": 0, \"ticks\": \"\"}}, \"type\": \"scattergeo\"}], \"scattergl\": [{\"marker\": {\"colorbar\": {\"outlinewidth\": 0, \"ticks\": \"\"}}, \"type\": \"scattergl\"}], \"scattermapbox\": [{\"marker\": {\"colorbar\": {\"outlinewidth\": 0, \"ticks\": \"\"}}, \"type\": \"scattermapbox\"}], \"scatterpolar\": [{\"marker\": {\"colorbar\": {\"outlinewidth\": 0, \"ticks\": \"\"}}, \"type\": \"scatterpolar\"}], \"scatterpolargl\": [{\"marker\": {\"colorbar\": {\"outlinewidth\": 0, \"ticks\": \"\"}}, \"type\": \"scatterpolargl\"}], \"scatterternary\": [{\"marker\": {\"colorbar\": {\"outlinewidth\": 0, \"ticks\": \"\"}}, \"type\": \"scatterternary\"}], \"surface\": [{\"colorbar\": {\"outlinewidth\": 0, \"ticks\": \"\"}, \"colorscale\": [[0.0, \"#0d0887\"], [0.1111111111111111, \"#46039f\"], [0.2222222222222222, \"#7201a8\"], [0.3333333333333333, \"#9c179e\"], [0.4444444444444444, \"#bd3786\"], [0.5555555555555556, \"#d8576b\"], [0.6666666666666666, \"#ed7953\"], [0.7777777777777778, \"#fb9f3a\"], [0.8888888888888888, \"#fdca26\"], [1.0, \"#f0f921\"]], \"type\": \"surface\"}], \"table\": [{\"cells\": {\"fill\": {\"color\": \"#EBF0F8\"}, \"line\": {\"color\": \"white\"}}, \"header\": {\"fill\": {\"color\": \"#C8D4E3\"}, \"line\": {\"color\": \"white\"}}, \"type\": \"table\"}]}, \"layout\": {\"annotationdefaults\": {\"arrowcolor\": \"#2a3f5f\", \"arrowhead\": 0, \"arrowwidth\": 1}, \"autotypenumbers\": \"strict\", \"coloraxis\": {\"colorbar\": {\"outlinewidth\": 0, \"ticks\": \"\"}}, \"colorscale\": {\"diverging\": [[0, \"#8e0152\"], [0.1, \"#c51b7d\"], [0.2, \"#de77ae\"], [0.3, \"#f1b6da\"], [0.4, \"#fde0ef\"], [0.5, \"#f7f7f7\"], [0.6, \"#e6f5d0\"], [0.7, \"#b8e186\"], [0.8, \"#7fbc41\"], [0.9, \"#4d9221\"], [1, \"#276419\"]], \"sequential\": [[0.0, \"#0d0887\"], [0.1111111111111111, \"#46039f\"], [0.2222222222222222, \"#7201a8\"], [0.3333333333333333, \"#9c179e\"], [0.4444444444444444, \"#bd3786\"], [0.5555555555555556, \"#d8576b\"], [0.6666666666666666, \"#ed7953\"], [0.7777777777777778, \"#fb9f3a\"], [0.8888888888888888, \"#fdca26\"], [1.0, \"#f0f921\"]], \"sequentialminus\": [[0.0, \"#0d0887\"], [0.1111111111111111, \"#46039f\"], [0.2222222222222222, \"#7201a8\"], [0.3333333333333333, \"#9c179e\"], [0.4444444444444444, \"#bd3786\"], [0.5555555555555556, \"#d8576b\"], [0.6666666666666666, \"#ed7953\"], [0.7777777777777778, \"#fb9f3a\"], [0.8888888888888888, \"#fdca26\"], [1.0, \"#f0f921\"]]}, \"colorway\": [\"#636efa\", \"#EF553B\", \"#00cc96\", \"#ab63fa\", \"#FFA15A\", \"#19d3f3\", \"#FF6692\", \"#B6E880\", \"#FF97FF\", \"#FECB52\"], \"font\": {\"color\": \"#2a3f5f\"}, \"geo\": {\"bgcolor\": \"white\", \"lakecolor\": \"white\", \"landcolor\": \"#E5ECF6\", \"showlakes\": true, \"showland\": true, \"subunitcolor\": \"white\"}, \"hoverlabel\": {\"align\": \"left\"}, \"hovermode\": \"closest\", \"mapbox\": {\"style\": \"light\"}, \"paper_bgcolor\": \"white\", \"plot_bgcolor\": \"#E5ECF6\", \"polar\": {\"angularaxis\": {\"gridcolor\": \"white\", \"linecolor\": \"white\", \"ticks\": \"\"}, \"bgcolor\": \"#E5ECF6\", \"radialaxis\": {\"gridcolor\": \"white\", \"linecolor\": \"white\", \"ticks\": \"\"}}, \"scene\": {\"xaxis\": {\"backgroundcolor\": \"#E5ECF6\", \"gridcolor\": \"white\", \"gridwidth\": 2, \"linecolor\": \"white\", \"showbackground\": true, \"ticks\": \"\", \"zerolinecolor\": \"white\"}, \"yaxis\": {\"backgroundcolor\": \"#E5ECF6\", \"gridcolor\": \"white\", \"gridwidth\": 2, \"linecolor\": \"white\", \"showbackground\": true, \"ticks\": \"\", \"zerolinecolor\": \"white\"}, \"zaxis\": {\"backgroundcolor\": \"#E5ECF6\", \"gridcolor\": \"white\", \"gridwidth\": 2, \"linecolor\": \"white\", \"showbackground\": true, \"ticks\": \"\", \"zerolinecolor\": \"white\"}}, \"shapedefaults\": {\"line\": {\"color\": \"#2a3f5f\"}}, \"ternary\": {\"aaxis\": {\"gridcolor\": \"white\", \"linecolor\": \"white\", \"ticks\": \"\"}, \"baxis\": {\"gridcolor\": \"white\", \"linecolor\": \"white\", \"ticks\": \"\"}, \"bgcolor\": \"#E5ECF6\", \"caxis\": {\"gridcolor\": \"white\", \"linecolor\": \"white\", \"ticks\": \"\"}}, \"title\": {\"x\": 0.05}, \"xaxis\": {\"automargin\": true, \"gridcolor\": \"white\", \"linecolor\": \"white\", \"ticks\": \"\", \"title\": {\"standoff\": 15}, \"zerolinecolor\": \"white\", \"zerolinewidth\": 2}, \"yaxis\": {\"automargin\": true, \"gridcolor\": \"white\", \"linecolor\": \"white\", \"ticks\": \"\", \"title\": {\"standoff\": 15}, \"zerolinecolor\": \"white\", \"zerolinewidth\": 2}}}, \"title\": {\"text\": \"Free Session total Student from University did not have laptop \"}, \"xaxis\": {\"linecolor\": \"black\", \"linewidth\": 2, \"mirror\": true, \"showline\": true, \"showticklabels\": true, \"tickangle\": 45, \"tickfont\": {\"color\": \"red\", \"size\": 10}, \"title\": {\"text\": \"University Name\"}, \"zeroline\": true, \"zerolinecolor\": \"grey\", \"zerolinewidth\": 1}, \"yaxis\": {\"gridcolor\": \"lightgrey\", \"linecolor\": \"black\", \"linewidth\": 2, \"mirror\": true, \"showline\": true, \"title\": {\"text\": \"Total Students\"}, \"zeroline\": true, \"zerolinecolor\": \"grey\", \"zerolinewidth\": 1}},                        {\"responsive\": true}                    ).then(function(){\n",
       "                            \n",
       "var gd = document.getElementById('e170b2c6-24c4-4a8b-994a-d7f4628ad661');\n",
       "var x = new MutationObserver(function (mutations, observer) {{\n",
       "        var display = window.getComputedStyle(gd).display;\n",
       "        if (!display || display === 'none') {{\n",
       "            console.log([gd, 'removed!']);\n",
       "            Plotly.purge(gd);\n",
       "            observer.disconnect();\n",
       "        }}\n",
       "}});\n",
       "\n",
       "// Listen for the removal of the full notebook cells\n",
       "var notebookContainer = gd.closest('#notebook-container');\n",
       "if (notebookContainer) {{\n",
       "    x.observe(notebookContainer, {childList: true});\n",
       "}}\n",
       "\n",
       "// Listen for the clearing of the current output cell\n",
       "var outputEl = gd.closest('.output');\n",
       "if (outputEl) {{\n",
       "    x.observe(outputEl, {childList: true});\n",
       "}}\n",
       "\n",
       "                        })                };                });            </script>        </div>"
      ]
     },
     "metadata": {},
     "output_type": "display_data"
    }
   ],
   "source": [
    "draw_trace_bar(college_no_laptop,'College','no_laptop_counts','Free Session total Student from University did not have laptop ', 'University Name','Total Students',\"lightgreen\")"
   ]
  },
  {
   "cell_type": "code",
   "execution_count": 63,
   "metadata": {},
   "outputs": [
    {
     "data": {
      "text/html": [
       "<div>\n",
       "<style scoped>\n",
       "    .dataframe tbody tr th:only-of-type {\n",
       "        vertical-align: middle;\n",
       "    }\n",
       "\n",
       "    .dataframe tbody tr th {\n",
       "        vertical-align: top;\n",
       "    }\n",
       "\n",
       "    .dataframe thead th {\n",
       "        text-align: right;\n",
       "    }\n",
       "</style>\n",
       "<table border=\"1\" class=\"dataframe\">\n",
       "  <thead>\n",
       "    <tr style=\"text-align: right;\">\n",
       "      <th></th>\n",
       "      <th>Department</th>\n",
       "    </tr>\n",
       "    <tr>\n",
       "      <th>Department</th>\n",
       "      <th></th>\n",
       "    </tr>\n",
       "  </thead>\n",
       "  <tbody>\n",
       "    <tr>\n",
       "      <th>applies mathematics</th>\n",
       "      <td>1</td>\n",
       "    </tr>\n",
       "    <tr>\n",
       "      <th>atrs</th>\n",
       "      <td>1</td>\n",
       "    </tr>\n",
       "    <tr>\n",
       "      <th>b-tech (ece 2'nd year)</th>\n",
       "      <td>1</td>\n",
       "    </tr>\n",
       "    <tr>\n",
       "      <th>b-tech in ece</th>\n",
       "      <td>1</td>\n",
       "    </tr>\n",
       "    <tr>\n",
       "      <th>b. tech (cse)</th>\n",
       "      <td>1</td>\n",
       "    </tr>\n",
       "    <tr>\n",
       "      <th>b.com (h)</th>\n",
       "      <td>1</td>\n",
       "    </tr>\n",
       "    <tr>\n",
       "      <th>b.sc</th>\n",
       "      <td>1</td>\n",
       "    </tr>\n",
       "    <tr>\n",
       "      <th>b.sc in statistics</th>\n",
       "      <td>1</td>\n",
       "    </tr>\n",
       "    <tr>\n",
       "      <th>b.sc nursing</th>\n",
       "      <td>1</td>\n",
       "    </tr>\n",
       "    <tr>\n",
       "      <th>b.sc statistics honours</th>\n",
       "      <td>2</td>\n",
       "    </tr>\n",
       "    <tr>\n",
       "      <th>b.tech (ece)</th>\n",
       "      <td>1</td>\n",
       "    </tr>\n",
       "    <tr>\n",
       "      <th>bca</th>\n",
       "      <td>1</td>\n",
       "    </tr>\n",
       "    <tr>\n",
       "      <th>bsc physics honours</th>\n",
       "      <td>1</td>\n",
       "    </tr>\n",
       "    <tr>\n",
       "      <th>bsc(state )</th>\n",
       "      <td>1</td>\n",
       "    </tr>\n",
       "    <tr>\n",
       "      <th>bsc. hons</th>\n",
       "      <td>1</td>\n",
       "    </tr>\n",
       "    <tr>\n",
       "      <th>bsc. statistics honours student(final year)</th>\n",
       "      <td>1</td>\n",
       "    </tr>\n",
       "    <tr>\n",
       "      <th>btech 4th year on ece department</th>\n",
       "      <td>1</td>\n",
       "    </tr>\n",
       "    <tr>\n",
       "      <th>byech</th>\n",
       "      <td>1</td>\n",
       "    </tr>\n",
       "    <tr>\n",
       "      <th>civil engineering</th>\n",
       "      <td>1</td>\n",
       "    </tr>\n",
       "    <tr>\n",
       "      <th>computer science</th>\n",
       "      <td>2</td>\n",
       "    </tr>\n",
       "    <tr>\n",
       "      <th>did my graduation on mathematics</th>\n",
       "      <td>1</td>\n",
       "    </tr>\n",
       "    <tr>\n",
       "      <th>ece</th>\n",
       "      <td>1</td>\n",
       "    </tr>\n",
       "    <tr>\n",
       "      <th>electrical engineering</th>\n",
       "      <td>1</td>\n",
       "    </tr>\n",
       "    <tr>\n",
       "      <th>electronics and communication engineering (b.tech)</th>\n",
       "      <td>1</td>\n",
       "    </tr>\n",
       "    <tr>\n",
       "      <th>electronics and telecommunication</th>\n",
       "      <td>1</td>\n",
       "    </tr>\n",
       "    <tr>\n",
       "      <th>engineering</th>\n",
       "      <td>30</td>\n",
       "    </tr>\n",
       "    <tr>\n",
       "      <th>h.s passed</th>\n",
       "      <td>1</td>\n",
       "    </tr>\n",
       "    <tr>\n",
       "      <th>honors (bsc/msc)</th>\n",
       "      <td>69</td>\n",
       "    </tr>\n",
       "    <tr>\n",
       "      <th>linear algebra in mathematics</th>\n",
       "      <td>1</td>\n",
       "    </tr>\n",
       "    <tr>\n",
       "      <th>m.sc</th>\n",
       "      <td>1</td>\n",
       "    </tr>\n",
       "    <tr>\n",
       "      <th>m.sc in mathematics</th>\n",
       "      <td>1</td>\n",
       "    </tr>\n",
       "    <tr>\n",
       "      <th>m.sc mathematics</th>\n",
       "      <td>1</td>\n",
       "    </tr>\n",
       "    <tr>\n",
       "      <th>m.sc. in applied mathematics</th>\n",
       "      <td>1</td>\n",
       "    </tr>\n",
       "    <tr>\n",
       "      <th>master of science in applied mathematics</th>\n",
       "      <td>1</td>\n",
       "    </tr>\n",
       "    <tr>\n",
       "      <th>math (h)</th>\n",
       "      <td>1</td>\n",
       "    </tr>\n",
       "    <tr>\n",
       "      <th>mathematics</th>\n",
       "      <td>8</td>\n",
       "    </tr>\n",
       "    <tr>\n",
       "      <th>mathematics (msc)</th>\n",
       "      <td>1</td>\n",
       "    </tr>\n",
       "    <tr>\n",
       "      <th>mathematics honours</th>\n",
       "      <td>1</td>\n",
       "    </tr>\n",
       "    <tr>\n",
       "      <th>mathematics msc.</th>\n",
       "      <td>1</td>\n",
       "    </tr>\n",
       "    <tr>\n",
       "      <th>mca</th>\n",
       "      <td>1</td>\n",
       "    </tr>\n",
       "    <tr>\n",
       "      <th>mechanical</th>\n",
       "      <td>1</td>\n",
       "    </tr>\n",
       "    <tr>\n",
       "      <th>mechanical engineering</th>\n",
       "      <td>2</td>\n",
       "    </tr>\n",
       "    <tr>\n",
       "      <th>microbiology</th>\n",
       "      <td>1</td>\n",
       "    </tr>\n",
       "    <tr>\n",
       "      <th>msc</th>\n",
       "      <td>1</td>\n",
       "    </tr>\n",
       "    <tr>\n",
       "      <th>msc in applied mathematics</th>\n",
       "      <td>1</td>\n",
       "    </tr>\n",
       "    <tr>\n",
       "      <th>msc in mathematics</th>\n",
       "      <td>1</td>\n",
       "    </tr>\n",
       "    <tr>\n",
       "      <th>msc mathematics</th>\n",
       "      <td>2</td>\n",
       "    </tr>\n",
       "    <tr>\n",
       "      <th>msc. mathematics</th>\n",
       "      <td>1</td>\n",
       "    </tr>\n",
       "    <tr>\n",
       "      <th>others</th>\n",
       "      <td>23</td>\n",
       "    </tr>\n",
       "    <tr>\n",
       "      <th>power</th>\n",
       "      <td>1</td>\n",
       "    </tr>\n",
       "    <tr>\n",
       "      <th>power engineering</th>\n",
       "      <td>1</td>\n",
       "    </tr>\n",
       "    <tr>\n",
       "      <th>power plant engineering</th>\n",
       "      <td>1</td>\n",
       "    </tr>\n",
       "    <tr>\n",
       "      <th>pure mathematics</th>\n",
       "      <td>1</td>\n",
       "    </tr>\n",
       "    <tr>\n",
       "      <th>statistics</th>\n",
       "      <td>7</td>\n",
       "    </tr>\n",
       "    <tr>\n",
       "      <th>statistics (h)</th>\n",
       "      <td>1</td>\n",
       "    </tr>\n",
       "    <tr>\n",
       "      <th>statistics honours (b.sc.)</th>\n",
       "      <td>1</td>\n",
       "    </tr>\n",
       "    <tr>\n",
       "      <th>statistics honours student</th>\n",
       "      <td>1</td>\n",
       "    </tr>\n",
       "    <tr>\n",
       "      <th>studying m.sc in mathematics</th>\n",
       "      <td>1</td>\n",
       "    </tr>\n",
       "  </tbody>\n",
       "</table>\n",
       "</div>"
      ],
      "text/plain": [
       "                                                    Department\n",
       "Department                                                    \n",
       "applies mathematics                                          1\n",
       "atrs                                                         1\n",
       "b-tech (ece 2'nd year)                                       1\n",
       "b-tech in ece                                                1\n",
       "b. tech (cse)                                                1\n",
       "b.com (h)                                                    1\n",
       "b.sc                                                         1\n",
       "b.sc in statistics                                           1\n",
       "b.sc nursing                                                 1\n",
       "b.sc statistics honours                                      2\n",
       "b.tech (ece)                                                 1\n",
       "bca                                                          1\n",
       "bsc physics honours                                          1\n",
       "bsc(state )                                                  1\n",
       "bsc. hons                                                    1\n",
       "bsc. statistics honours student(final year)                  1\n",
       "btech 4th year on ece department                             1\n",
       "byech                                                        1\n",
       "civil engineering                                            1\n",
       "computer science                                             2\n",
       "did my graduation on mathematics                             1\n",
       "ece                                                          1\n",
       "electrical engineering                                       1\n",
       "electronics and communication engineering (b.tech)           1\n",
       "electronics and telecommunication                            1\n",
       "engineering                                                 30\n",
       "h.s passed                                                   1\n",
       "honors (bsc/msc)                                            69\n",
       "linear algebra in mathematics                                1\n",
       "m.sc                                                         1\n",
       "m.sc in mathematics                                          1\n",
       "m.sc mathematics                                             1\n",
       "m.sc. in applied mathematics                                 1\n",
       "master of science in applied mathematics                     1\n",
       "math (h)                                                     1\n",
       "mathematics                                                  8\n",
       "mathematics (msc)                                            1\n",
       "mathematics honours                                          1\n",
       "mathematics msc.                                             1\n",
       "mca                                                          1\n",
       "mechanical                                                   1\n",
       "mechanical engineering                                       2\n",
       "microbiology                                                 1\n",
       "msc                                                          1\n",
       "msc in applied mathematics                                   1\n",
       "msc in mathematics                                           1\n",
       "msc mathematics                                              2\n",
       "msc. mathematics                                             1\n",
       "others                                                      23\n",
       "power                                                        1\n",
       "power engineering                                            1\n",
       "power plant engineering                                      1\n",
       "pure mathematics                                             1\n",
       "statistics                                                   7\n",
       "statistics (h)                                               1\n",
       "statistics honours (b.sc.)                                   1\n",
       "statistics honours student                                   1\n",
       "studying m.sc in mathematics                                 1"
      ]
     },
     "execution_count": 63,
     "metadata": {},
     "output_type": "execute_result"
    }
   ],
   "source": [
    "#collega data counting all college\n",
    "nolaptop2 = nolaptop.groupby('Department')['Department'].agg('count')\n",
    "dep_no_laptop= pd.DataFrame(nolaptop2)\n",
    "dep_no_laptop"
   ]
  },
  {
   "cell_type": "code",
   "execution_count": 64,
   "metadata": {},
   "outputs": [
    {
     "data": {
      "text/html": [
       "<div>\n",
       "<style scoped>\n",
       "    .dataframe tbody tr th:only-of-type {\n",
       "        vertical-align: middle;\n",
       "    }\n",
       "\n",
       "    .dataframe tbody tr th {\n",
       "        vertical-align: top;\n",
       "    }\n",
       "\n",
       "    .dataframe thead th {\n",
       "        text-align: right;\n",
       "    }\n",
       "</style>\n",
       "<table border=\"1\" class=\"dataframe\">\n",
       "  <thead>\n",
       "    <tr style=\"text-align: right;\">\n",
       "      <th></th>\n",
       "      <th>no_laptop_counts</th>\n",
       "    </tr>\n",
       "    <tr>\n",
       "      <th>Department</th>\n",
       "      <th></th>\n",
       "    </tr>\n",
       "  </thead>\n",
       "  <tbody>\n",
       "    <tr>\n",
       "      <th>applies mathematics</th>\n",
       "      <td>1</td>\n",
       "    </tr>\n",
       "    <tr>\n",
       "      <th>atrs</th>\n",
       "      <td>1</td>\n",
       "    </tr>\n",
       "    <tr>\n",
       "      <th>b-tech (ece 2'nd year)</th>\n",
       "      <td>1</td>\n",
       "    </tr>\n",
       "    <tr>\n",
       "      <th>b-tech in ece</th>\n",
       "      <td>1</td>\n",
       "    </tr>\n",
       "    <tr>\n",
       "      <th>b. tech (cse)</th>\n",
       "      <td>1</td>\n",
       "    </tr>\n",
       "    <tr>\n",
       "      <th>b.com (h)</th>\n",
       "      <td>1</td>\n",
       "    </tr>\n",
       "    <tr>\n",
       "      <th>b.sc</th>\n",
       "      <td>1</td>\n",
       "    </tr>\n",
       "    <tr>\n",
       "      <th>b.sc in statistics</th>\n",
       "      <td>1</td>\n",
       "    </tr>\n",
       "    <tr>\n",
       "      <th>b.sc nursing</th>\n",
       "      <td>1</td>\n",
       "    </tr>\n",
       "    <tr>\n",
       "      <th>b.sc statistics honours</th>\n",
       "      <td>2</td>\n",
       "    </tr>\n",
       "    <tr>\n",
       "      <th>b.tech (ece)</th>\n",
       "      <td>1</td>\n",
       "    </tr>\n",
       "    <tr>\n",
       "      <th>bca</th>\n",
       "      <td>1</td>\n",
       "    </tr>\n",
       "    <tr>\n",
       "      <th>bsc physics honours</th>\n",
       "      <td>1</td>\n",
       "    </tr>\n",
       "    <tr>\n",
       "      <th>bsc(state )</th>\n",
       "      <td>1</td>\n",
       "    </tr>\n",
       "    <tr>\n",
       "      <th>bsc. hons</th>\n",
       "      <td>1</td>\n",
       "    </tr>\n",
       "    <tr>\n",
       "      <th>bsc. statistics honours student(final year)</th>\n",
       "      <td>1</td>\n",
       "    </tr>\n",
       "    <tr>\n",
       "      <th>btech 4th year on ece department</th>\n",
       "      <td>1</td>\n",
       "    </tr>\n",
       "    <tr>\n",
       "      <th>byech</th>\n",
       "      <td>1</td>\n",
       "    </tr>\n",
       "    <tr>\n",
       "      <th>civil engineering</th>\n",
       "      <td>1</td>\n",
       "    </tr>\n",
       "    <tr>\n",
       "      <th>computer science</th>\n",
       "      <td>2</td>\n",
       "    </tr>\n",
       "    <tr>\n",
       "      <th>did my graduation on mathematics</th>\n",
       "      <td>1</td>\n",
       "    </tr>\n",
       "    <tr>\n",
       "      <th>ece</th>\n",
       "      <td>1</td>\n",
       "    </tr>\n",
       "    <tr>\n",
       "      <th>electrical engineering</th>\n",
       "      <td>1</td>\n",
       "    </tr>\n",
       "    <tr>\n",
       "      <th>electronics and communication engineering (b.tech)</th>\n",
       "      <td>1</td>\n",
       "    </tr>\n",
       "    <tr>\n",
       "      <th>electronics and telecommunication</th>\n",
       "      <td>1</td>\n",
       "    </tr>\n",
       "    <tr>\n",
       "      <th>engineering</th>\n",
       "      <td>30</td>\n",
       "    </tr>\n",
       "    <tr>\n",
       "      <th>h.s passed</th>\n",
       "      <td>1</td>\n",
       "    </tr>\n",
       "    <tr>\n",
       "      <th>honors (bsc/msc)</th>\n",
       "      <td>69</td>\n",
       "    </tr>\n",
       "    <tr>\n",
       "      <th>linear algebra in mathematics</th>\n",
       "      <td>1</td>\n",
       "    </tr>\n",
       "    <tr>\n",
       "      <th>m.sc</th>\n",
       "      <td>1</td>\n",
       "    </tr>\n",
       "    <tr>\n",
       "      <th>m.sc in mathematics</th>\n",
       "      <td>1</td>\n",
       "    </tr>\n",
       "    <tr>\n",
       "      <th>m.sc mathematics</th>\n",
       "      <td>1</td>\n",
       "    </tr>\n",
       "    <tr>\n",
       "      <th>m.sc. in applied mathematics</th>\n",
       "      <td>1</td>\n",
       "    </tr>\n",
       "    <tr>\n",
       "      <th>master of science in applied mathematics</th>\n",
       "      <td>1</td>\n",
       "    </tr>\n",
       "    <tr>\n",
       "      <th>math (h)</th>\n",
       "      <td>1</td>\n",
       "    </tr>\n",
       "    <tr>\n",
       "      <th>mathematics</th>\n",
       "      <td>8</td>\n",
       "    </tr>\n",
       "    <tr>\n",
       "      <th>mathematics (msc)</th>\n",
       "      <td>1</td>\n",
       "    </tr>\n",
       "    <tr>\n",
       "      <th>mathematics honours</th>\n",
       "      <td>1</td>\n",
       "    </tr>\n",
       "    <tr>\n",
       "      <th>mathematics msc.</th>\n",
       "      <td>1</td>\n",
       "    </tr>\n",
       "    <tr>\n",
       "      <th>mca</th>\n",
       "      <td>1</td>\n",
       "    </tr>\n",
       "    <tr>\n",
       "      <th>mechanical</th>\n",
       "      <td>1</td>\n",
       "    </tr>\n",
       "    <tr>\n",
       "      <th>mechanical engineering</th>\n",
       "      <td>2</td>\n",
       "    </tr>\n",
       "    <tr>\n",
       "      <th>microbiology</th>\n",
       "      <td>1</td>\n",
       "    </tr>\n",
       "    <tr>\n",
       "      <th>msc</th>\n",
       "      <td>1</td>\n",
       "    </tr>\n",
       "    <tr>\n",
       "      <th>msc in applied mathematics</th>\n",
       "      <td>1</td>\n",
       "    </tr>\n",
       "    <tr>\n",
       "      <th>msc in mathematics</th>\n",
       "      <td>1</td>\n",
       "    </tr>\n",
       "    <tr>\n",
       "      <th>msc mathematics</th>\n",
       "      <td>2</td>\n",
       "    </tr>\n",
       "    <tr>\n",
       "      <th>msc. mathematics</th>\n",
       "      <td>1</td>\n",
       "    </tr>\n",
       "    <tr>\n",
       "      <th>others</th>\n",
       "      <td>23</td>\n",
       "    </tr>\n",
       "    <tr>\n",
       "      <th>power</th>\n",
       "      <td>1</td>\n",
       "    </tr>\n",
       "    <tr>\n",
       "      <th>power engineering</th>\n",
       "      <td>1</td>\n",
       "    </tr>\n",
       "    <tr>\n",
       "      <th>power plant engineering</th>\n",
       "      <td>1</td>\n",
       "    </tr>\n",
       "    <tr>\n",
       "      <th>pure mathematics</th>\n",
       "      <td>1</td>\n",
       "    </tr>\n",
       "    <tr>\n",
       "      <th>statistics</th>\n",
       "      <td>7</td>\n",
       "    </tr>\n",
       "    <tr>\n",
       "      <th>statistics (h)</th>\n",
       "      <td>1</td>\n",
       "    </tr>\n",
       "    <tr>\n",
       "      <th>statistics honours (b.sc.)</th>\n",
       "      <td>1</td>\n",
       "    </tr>\n",
       "    <tr>\n",
       "      <th>statistics honours student</th>\n",
       "      <td>1</td>\n",
       "    </tr>\n",
       "    <tr>\n",
       "      <th>studying m.sc in mathematics</th>\n",
       "      <td>1</td>\n",
       "    </tr>\n",
       "  </tbody>\n",
       "</table>\n",
       "</div>"
      ],
      "text/plain": [
       "                                                    no_laptop_counts\n",
       "Department                                                          \n",
       "applies mathematics                                                1\n",
       "atrs                                                               1\n",
       "b-tech (ece 2'nd year)                                             1\n",
       "b-tech in ece                                                      1\n",
       "b. tech (cse)                                                      1\n",
       "b.com (h)                                                          1\n",
       "b.sc                                                               1\n",
       "b.sc in statistics                                                 1\n",
       "b.sc nursing                                                       1\n",
       "b.sc statistics honours                                            2\n",
       "b.tech (ece)                                                       1\n",
       "bca                                                                1\n",
       "bsc physics honours                                                1\n",
       "bsc(state )                                                        1\n",
       "bsc. hons                                                          1\n",
       "bsc. statistics honours student(final year)                        1\n",
       "btech 4th year on ece department                                   1\n",
       "byech                                                              1\n",
       "civil engineering                                                  1\n",
       "computer science                                                   2\n",
       "did my graduation on mathematics                                   1\n",
       "ece                                                                1\n",
       "electrical engineering                                             1\n",
       "electronics and communication engineering (b.tech)                 1\n",
       "electronics and telecommunication                                  1\n",
       "engineering                                                       30\n",
       "h.s passed                                                         1\n",
       "honors (bsc/msc)                                                  69\n",
       "linear algebra in mathematics                                      1\n",
       "m.sc                                                               1\n",
       "m.sc in mathematics                                                1\n",
       "m.sc mathematics                                                   1\n",
       "m.sc. in applied mathematics                                       1\n",
       "master of science in applied mathematics                           1\n",
       "math (h)                                                           1\n",
       "mathematics                                                        8\n",
       "mathematics (msc)                                                  1\n",
       "mathematics honours                                                1\n",
       "mathematics msc.                                                   1\n",
       "mca                                                                1\n",
       "mechanical                                                         1\n",
       "mechanical engineering                                             2\n",
       "microbiology                                                       1\n",
       "msc                                                                1\n",
       "msc in applied mathematics                                         1\n",
       "msc in mathematics                                                 1\n",
       "msc mathematics                                                    2\n",
       "msc. mathematics                                                   1\n",
       "others                                                            23\n",
       "power                                                              1\n",
       "power engineering                                                  1\n",
       "power plant engineering                                            1\n",
       "pure mathematics                                                   1\n",
       "statistics                                                         7\n",
       "statistics (h)                                                     1\n",
       "statistics honours (b.sc.)                                         1\n",
       "statistics honours student                                         1\n",
       "studying m.sc in mathematics                                       1"
      ]
     },
     "execution_count": 64,
     "metadata": {},
     "output_type": "execute_result"
    }
   ],
   "source": [
    "#renameing to total_counts of department data\n",
    "dep_no_laptop.rename(columns={\"Department\": \"no_laptop_counts\"},inplace=True)\n",
    "dep_no_laptop"
   ]
  },
  {
   "cell_type": "code",
   "execution_count": 65,
   "metadata": {},
   "outputs": [
    {
     "data": {
      "text/html": [
       "<div>\n",
       "<style scoped>\n",
       "    .dataframe tbody tr th:only-of-type {\n",
       "        vertical-align: middle;\n",
       "    }\n",
       "\n",
       "    .dataframe tbody tr th {\n",
       "        vertical-align: top;\n",
       "    }\n",
       "\n",
       "    .dataframe thead th {\n",
       "        text-align: right;\n",
       "    }\n",
       "</style>\n",
       "<table border=\"1\" class=\"dataframe\">\n",
       "  <thead>\n",
       "    <tr style=\"text-align: right;\">\n",
       "      <th></th>\n",
       "      <th>Department</th>\n",
       "      <th>no_laptop_counts</th>\n",
       "    </tr>\n",
       "  </thead>\n",
       "  <tbody>\n",
       "    <tr>\n",
       "      <th>0</th>\n",
       "      <td>applies mathematics</td>\n",
       "      <td>1</td>\n",
       "    </tr>\n",
       "    <tr>\n",
       "      <th>1</th>\n",
       "      <td>atrs</td>\n",
       "      <td>1</td>\n",
       "    </tr>\n",
       "    <tr>\n",
       "      <th>2</th>\n",
       "      <td>b-tech (ece 2'nd year)</td>\n",
       "      <td>1</td>\n",
       "    </tr>\n",
       "    <tr>\n",
       "      <th>3</th>\n",
       "      <td>b-tech in ece</td>\n",
       "      <td>1</td>\n",
       "    </tr>\n",
       "    <tr>\n",
       "      <th>4</th>\n",
       "      <td>b. tech (cse)</td>\n",
       "      <td>1</td>\n",
       "    </tr>\n",
       "    <tr>\n",
       "      <th>5</th>\n",
       "      <td>b.com (h)</td>\n",
       "      <td>1</td>\n",
       "    </tr>\n",
       "    <tr>\n",
       "      <th>6</th>\n",
       "      <td>b.sc</td>\n",
       "      <td>1</td>\n",
       "    </tr>\n",
       "    <tr>\n",
       "      <th>7</th>\n",
       "      <td>b.sc in statistics</td>\n",
       "      <td>1</td>\n",
       "    </tr>\n",
       "    <tr>\n",
       "      <th>8</th>\n",
       "      <td>b.sc nursing</td>\n",
       "      <td>1</td>\n",
       "    </tr>\n",
       "    <tr>\n",
       "      <th>9</th>\n",
       "      <td>b.sc statistics honours</td>\n",
       "      <td>2</td>\n",
       "    </tr>\n",
       "    <tr>\n",
       "      <th>10</th>\n",
       "      <td>b.tech (ece)</td>\n",
       "      <td>1</td>\n",
       "    </tr>\n",
       "    <tr>\n",
       "      <th>11</th>\n",
       "      <td>bca</td>\n",
       "      <td>1</td>\n",
       "    </tr>\n",
       "    <tr>\n",
       "      <th>12</th>\n",
       "      <td>bsc physics honours</td>\n",
       "      <td>1</td>\n",
       "    </tr>\n",
       "    <tr>\n",
       "      <th>13</th>\n",
       "      <td>bsc(state )</td>\n",
       "      <td>1</td>\n",
       "    </tr>\n",
       "    <tr>\n",
       "      <th>14</th>\n",
       "      <td>bsc. hons</td>\n",
       "      <td>1</td>\n",
       "    </tr>\n",
       "    <tr>\n",
       "      <th>15</th>\n",
       "      <td>bsc. statistics honours student(final year)</td>\n",
       "      <td>1</td>\n",
       "    </tr>\n",
       "    <tr>\n",
       "      <th>16</th>\n",
       "      <td>btech 4th year on ece department</td>\n",
       "      <td>1</td>\n",
       "    </tr>\n",
       "    <tr>\n",
       "      <th>17</th>\n",
       "      <td>byech</td>\n",
       "      <td>1</td>\n",
       "    </tr>\n",
       "    <tr>\n",
       "      <th>18</th>\n",
       "      <td>civil engineering</td>\n",
       "      <td>1</td>\n",
       "    </tr>\n",
       "    <tr>\n",
       "      <th>19</th>\n",
       "      <td>computer science</td>\n",
       "      <td>2</td>\n",
       "    </tr>\n",
       "    <tr>\n",
       "      <th>20</th>\n",
       "      <td>did my graduation on mathematics</td>\n",
       "      <td>1</td>\n",
       "    </tr>\n",
       "    <tr>\n",
       "      <th>21</th>\n",
       "      <td>ece</td>\n",
       "      <td>1</td>\n",
       "    </tr>\n",
       "    <tr>\n",
       "      <th>22</th>\n",
       "      <td>electrical engineering</td>\n",
       "      <td>1</td>\n",
       "    </tr>\n",
       "    <tr>\n",
       "      <th>23</th>\n",
       "      <td>electronics and communication engineering (b.t...</td>\n",
       "      <td>1</td>\n",
       "    </tr>\n",
       "    <tr>\n",
       "      <th>24</th>\n",
       "      <td>electronics and telecommunication</td>\n",
       "      <td>1</td>\n",
       "    </tr>\n",
       "    <tr>\n",
       "      <th>25</th>\n",
       "      <td>engineering</td>\n",
       "      <td>30</td>\n",
       "    </tr>\n",
       "    <tr>\n",
       "      <th>26</th>\n",
       "      <td>h.s passed</td>\n",
       "      <td>1</td>\n",
       "    </tr>\n",
       "    <tr>\n",
       "      <th>27</th>\n",
       "      <td>honors (bsc/msc)</td>\n",
       "      <td>69</td>\n",
       "    </tr>\n",
       "    <tr>\n",
       "      <th>28</th>\n",
       "      <td>linear algebra in mathematics</td>\n",
       "      <td>1</td>\n",
       "    </tr>\n",
       "    <tr>\n",
       "      <th>29</th>\n",
       "      <td>m.sc</td>\n",
       "      <td>1</td>\n",
       "    </tr>\n",
       "    <tr>\n",
       "      <th>30</th>\n",
       "      <td>m.sc in mathematics</td>\n",
       "      <td>1</td>\n",
       "    </tr>\n",
       "    <tr>\n",
       "      <th>31</th>\n",
       "      <td>m.sc mathematics</td>\n",
       "      <td>1</td>\n",
       "    </tr>\n",
       "    <tr>\n",
       "      <th>32</th>\n",
       "      <td>m.sc. in applied mathematics</td>\n",
       "      <td>1</td>\n",
       "    </tr>\n",
       "    <tr>\n",
       "      <th>33</th>\n",
       "      <td>master of science in applied mathematics</td>\n",
       "      <td>1</td>\n",
       "    </tr>\n",
       "    <tr>\n",
       "      <th>34</th>\n",
       "      <td>math (h)</td>\n",
       "      <td>1</td>\n",
       "    </tr>\n",
       "    <tr>\n",
       "      <th>35</th>\n",
       "      <td>mathematics</td>\n",
       "      <td>8</td>\n",
       "    </tr>\n",
       "    <tr>\n",
       "      <th>36</th>\n",
       "      <td>mathematics (msc)</td>\n",
       "      <td>1</td>\n",
       "    </tr>\n",
       "    <tr>\n",
       "      <th>37</th>\n",
       "      <td>mathematics honours</td>\n",
       "      <td>1</td>\n",
       "    </tr>\n",
       "    <tr>\n",
       "      <th>38</th>\n",
       "      <td>mathematics msc.</td>\n",
       "      <td>1</td>\n",
       "    </tr>\n",
       "    <tr>\n",
       "      <th>39</th>\n",
       "      <td>mca</td>\n",
       "      <td>1</td>\n",
       "    </tr>\n",
       "    <tr>\n",
       "      <th>40</th>\n",
       "      <td>mechanical</td>\n",
       "      <td>1</td>\n",
       "    </tr>\n",
       "    <tr>\n",
       "      <th>41</th>\n",
       "      <td>mechanical engineering</td>\n",
       "      <td>2</td>\n",
       "    </tr>\n",
       "    <tr>\n",
       "      <th>42</th>\n",
       "      <td>microbiology</td>\n",
       "      <td>1</td>\n",
       "    </tr>\n",
       "    <tr>\n",
       "      <th>43</th>\n",
       "      <td>msc</td>\n",
       "      <td>1</td>\n",
       "    </tr>\n",
       "    <tr>\n",
       "      <th>44</th>\n",
       "      <td>msc in applied mathematics</td>\n",
       "      <td>1</td>\n",
       "    </tr>\n",
       "    <tr>\n",
       "      <th>45</th>\n",
       "      <td>msc in mathematics</td>\n",
       "      <td>1</td>\n",
       "    </tr>\n",
       "    <tr>\n",
       "      <th>46</th>\n",
       "      <td>msc mathematics</td>\n",
       "      <td>2</td>\n",
       "    </tr>\n",
       "    <tr>\n",
       "      <th>47</th>\n",
       "      <td>msc. mathematics</td>\n",
       "      <td>1</td>\n",
       "    </tr>\n",
       "    <tr>\n",
       "      <th>48</th>\n",
       "      <td>others</td>\n",
       "      <td>23</td>\n",
       "    </tr>\n",
       "    <tr>\n",
       "      <th>49</th>\n",
       "      <td>power</td>\n",
       "      <td>1</td>\n",
       "    </tr>\n",
       "    <tr>\n",
       "      <th>50</th>\n",
       "      <td>power engineering</td>\n",
       "      <td>1</td>\n",
       "    </tr>\n",
       "    <tr>\n",
       "      <th>51</th>\n",
       "      <td>power plant engineering</td>\n",
       "      <td>1</td>\n",
       "    </tr>\n",
       "    <tr>\n",
       "      <th>52</th>\n",
       "      <td>pure mathematics</td>\n",
       "      <td>1</td>\n",
       "    </tr>\n",
       "    <tr>\n",
       "      <th>53</th>\n",
       "      <td>statistics</td>\n",
       "      <td>7</td>\n",
       "    </tr>\n",
       "    <tr>\n",
       "      <th>54</th>\n",
       "      <td>statistics (h)</td>\n",
       "      <td>1</td>\n",
       "    </tr>\n",
       "    <tr>\n",
       "      <th>55</th>\n",
       "      <td>statistics honours (b.sc.)</td>\n",
       "      <td>1</td>\n",
       "    </tr>\n",
       "    <tr>\n",
       "      <th>56</th>\n",
       "      <td>statistics honours student</td>\n",
       "      <td>1</td>\n",
       "    </tr>\n",
       "    <tr>\n",
       "      <th>57</th>\n",
       "      <td>studying m.sc in mathematics</td>\n",
       "      <td>1</td>\n",
       "    </tr>\n",
       "  </tbody>\n",
       "</table>\n",
       "</div>"
      ],
      "text/plain": [
       "                                           Department  no_laptop_counts\n",
       "0                                 applies mathematics                 1\n",
       "1                                                atrs                 1\n",
       "2                              b-tech (ece 2'nd year)                 1\n",
       "3                                       b-tech in ece                 1\n",
       "4                                       b. tech (cse)                 1\n",
       "5                                           b.com (h)                 1\n",
       "6                                                b.sc                 1\n",
       "7                                  b.sc in statistics                 1\n",
       "8                                        b.sc nursing                 1\n",
       "9                             b.sc statistics honours                 2\n",
       "10                                       b.tech (ece)                 1\n",
       "11                                                bca                 1\n",
       "12                                bsc physics honours                 1\n",
       "13                                        bsc(state )                 1\n",
       "14                                          bsc. hons                 1\n",
       "15        bsc. statistics honours student(final year)                 1\n",
       "16                   btech 4th year on ece department                 1\n",
       "17                                              byech                 1\n",
       "18                                  civil engineering                 1\n",
       "19                                   computer science                 2\n",
       "20                   did my graduation on mathematics                 1\n",
       "21                                                ece                 1\n",
       "22                             electrical engineering                 1\n",
       "23  electronics and communication engineering (b.t...                 1\n",
       "24                  electronics and telecommunication                 1\n",
       "25                                        engineering                30\n",
       "26                                         h.s passed                 1\n",
       "27                                   honors (bsc/msc)                69\n",
       "28                      linear algebra in mathematics                 1\n",
       "29                                               m.sc                 1\n",
       "30                                m.sc in mathematics                 1\n",
       "31                                   m.sc mathematics                 1\n",
       "32                       m.sc. in applied mathematics                 1\n",
       "33           master of science in applied mathematics                 1\n",
       "34                                           math (h)                 1\n",
       "35                                        mathematics                 8\n",
       "36                                  mathematics (msc)                 1\n",
       "37                                mathematics honours                 1\n",
       "38                                   mathematics msc.                 1\n",
       "39                                                mca                 1\n",
       "40                                         mechanical                 1\n",
       "41                             mechanical engineering                 2\n",
       "42                                       microbiology                 1\n",
       "43                                                msc                 1\n",
       "44                         msc in applied mathematics                 1\n",
       "45                                 msc in mathematics                 1\n",
       "46                                    msc mathematics                 2\n",
       "47                                   msc. mathematics                 1\n",
       "48                                             others                23\n",
       "49                                              power                 1\n",
       "50                                  power engineering                 1\n",
       "51                            power plant engineering                 1\n",
       "52                                   pure mathematics                 1\n",
       "53                                         statistics                 7\n",
       "54                                     statistics (h)                 1\n",
       "55                         statistics honours (b.sc.)                 1\n",
       "56                         statistics honours student                 1\n",
       "57                       studying m.sc in mathematics                 1"
      ]
     },
     "execution_count": 65,
     "metadata": {},
     "output_type": "execute_result"
    }
   ],
   "source": [
    "dep_no_laptop.reset_index(inplace=True)\n",
    "dep_no_laptop"
   ]
  },
  {
   "cell_type": "code",
   "execution_count": 66,
   "metadata": {},
   "outputs": [
    {
     "data": {
      "text/html": [
       "<div>\n",
       "<style scoped>\n",
       "    .dataframe tbody tr th:only-of-type {\n",
       "        vertical-align: middle;\n",
       "    }\n",
       "\n",
       "    .dataframe tbody tr th {\n",
       "        vertical-align: top;\n",
       "    }\n",
       "\n",
       "    .dataframe thead th {\n",
       "        text-align: right;\n",
       "    }\n",
       "</style>\n",
       "<table border=\"1\" class=\"dataframe\">\n",
       "  <thead>\n",
       "    <tr style=\"text-align: right;\">\n",
       "      <th></th>\n",
       "      <th>Department</th>\n",
       "      <th>no_laptop_counts</th>\n",
       "    </tr>\n",
       "  </thead>\n",
       "  <tbody>\n",
       "    <tr>\n",
       "      <th>27</th>\n",
       "      <td>honors (bsc/msc)</td>\n",
       "      <td>69</td>\n",
       "    </tr>\n",
       "    <tr>\n",
       "      <th>25</th>\n",
       "      <td>engineering</td>\n",
       "      <td>30</td>\n",
       "    </tr>\n",
       "    <tr>\n",
       "      <th>48</th>\n",
       "      <td>others</td>\n",
       "      <td>23</td>\n",
       "    </tr>\n",
       "    <tr>\n",
       "      <th>35</th>\n",
       "      <td>mathematics</td>\n",
       "      <td>8</td>\n",
       "    </tr>\n",
       "    <tr>\n",
       "      <th>53</th>\n",
       "      <td>statistics</td>\n",
       "      <td>7</td>\n",
       "    </tr>\n",
       "    <tr>\n",
       "      <th>19</th>\n",
       "      <td>computer science</td>\n",
       "      <td>2</td>\n",
       "    </tr>\n",
       "    <tr>\n",
       "      <th>41</th>\n",
       "      <td>mechanical engineering</td>\n",
       "      <td>2</td>\n",
       "    </tr>\n",
       "    <tr>\n",
       "      <th>9</th>\n",
       "      <td>b.sc statistics honours</td>\n",
       "      <td>2</td>\n",
       "    </tr>\n",
       "    <tr>\n",
       "      <th>46</th>\n",
       "      <td>msc mathematics</td>\n",
       "      <td>2</td>\n",
       "    </tr>\n",
       "    <tr>\n",
       "      <th>38</th>\n",
       "      <td>mathematics msc.</td>\n",
       "      <td>1</td>\n",
       "    </tr>\n",
       "    <tr>\n",
       "      <th>40</th>\n",
       "      <td>mechanical</td>\n",
       "      <td>1</td>\n",
       "    </tr>\n",
       "    <tr>\n",
       "      <th>39</th>\n",
       "      <td>mca</td>\n",
       "      <td>1</td>\n",
       "    </tr>\n",
       "    <tr>\n",
       "      <th>0</th>\n",
       "      <td>applies mathematics</td>\n",
       "      <td>1</td>\n",
       "    </tr>\n",
       "    <tr>\n",
       "      <th>37</th>\n",
       "      <td>mathematics honours</td>\n",
       "      <td>1</td>\n",
       "    </tr>\n",
       "    <tr>\n",
       "      <th>34</th>\n",
       "      <td>math (h)</td>\n",
       "      <td>1</td>\n",
       "    </tr>\n",
       "    <tr>\n",
       "      <th>33</th>\n",
       "      <td>master of science in applied mathematics</td>\n",
       "      <td>1</td>\n",
       "    </tr>\n",
       "    <tr>\n",
       "      <th>36</th>\n",
       "      <td>mathematics (msc)</td>\n",
       "      <td>1</td>\n",
       "    </tr>\n",
       "    <tr>\n",
       "      <th>44</th>\n",
       "      <td>msc in applied mathematics</td>\n",
       "      <td>1</td>\n",
       "    </tr>\n",
       "    <tr>\n",
       "      <th>42</th>\n",
       "      <td>microbiology</td>\n",
       "      <td>1</td>\n",
       "    </tr>\n",
       "    <tr>\n",
       "      <th>43</th>\n",
       "      <td>msc</td>\n",
       "      <td>1</td>\n",
       "    </tr>\n",
       "    <tr>\n",
       "      <th>31</th>\n",
       "      <td>m.sc mathematics</td>\n",
       "      <td>1</td>\n",
       "    </tr>\n",
       "    <tr>\n",
       "      <th>45</th>\n",
       "      <td>msc in mathematics</td>\n",
       "      <td>1</td>\n",
       "    </tr>\n",
       "    <tr>\n",
       "      <th>47</th>\n",
       "      <td>msc. mathematics</td>\n",
       "      <td>1</td>\n",
       "    </tr>\n",
       "    <tr>\n",
       "      <th>49</th>\n",
       "      <td>power</td>\n",
       "      <td>1</td>\n",
       "    </tr>\n",
       "    <tr>\n",
       "      <th>50</th>\n",
       "      <td>power engineering</td>\n",
       "      <td>1</td>\n",
       "    </tr>\n",
       "    <tr>\n",
       "      <th>51</th>\n",
       "      <td>power plant engineering</td>\n",
       "      <td>1</td>\n",
       "    </tr>\n",
       "    <tr>\n",
       "      <th>52</th>\n",
       "      <td>pure mathematics</td>\n",
       "      <td>1</td>\n",
       "    </tr>\n",
       "    <tr>\n",
       "      <th>54</th>\n",
       "      <td>statistics (h)</td>\n",
       "      <td>1</td>\n",
       "    </tr>\n",
       "    <tr>\n",
       "      <th>55</th>\n",
       "      <td>statistics honours (b.sc.)</td>\n",
       "      <td>1</td>\n",
       "    </tr>\n",
       "    <tr>\n",
       "      <th>56</th>\n",
       "      <td>statistics honours student</td>\n",
       "      <td>1</td>\n",
       "    </tr>\n",
       "    <tr>\n",
       "      <th>32</th>\n",
       "      <td>m.sc. in applied mathematics</td>\n",
       "      <td>1</td>\n",
       "    </tr>\n",
       "    <tr>\n",
       "      <th>29</th>\n",
       "      <td>m.sc</td>\n",
       "      <td>1</td>\n",
       "    </tr>\n",
       "    <tr>\n",
       "      <th>30</th>\n",
       "      <td>m.sc in mathematics</td>\n",
       "      <td>1</td>\n",
       "    </tr>\n",
       "    <tr>\n",
       "      <th>1</th>\n",
       "      <td>atrs</td>\n",
       "      <td>1</td>\n",
       "    </tr>\n",
       "    <tr>\n",
       "      <th>2</th>\n",
       "      <td>b-tech (ece 2'nd year)</td>\n",
       "      <td>1</td>\n",
       "    </tr>\n",
       "    <tr>\n",
       "      <th>3</th>\n",
       "      <td>b-tech in ece</td>\n",
       "      <td>1</td>\n",
       "    </tr>\n",
       "    <tr>\n",
       "      <th>4</th>\n",
       "      <td>b. tech (cse)</td>\n",
       "      <td>1</td>\n",
       "    </tr>\n",
       "    <tr>\n",
       "      <th>5</th>\n",
       "      <td>b.com (h)</td>\n",
       "      <td>1</td>\n",
       "    </tr>\n",
       "    <tr>\n",
       "      <th>6</th>\n",
       "      <td>b.sc</td>\n",
       "      <td>1</td>\n",
       "    </tr>\n",
       "    <tr>\n",
       "      <th>7</th>\n",
       "      <td>b.sc in statistics</td>\n",
       "      <td>1</td>\n",
       "    </tr>\n",
       "    <tr>\n",
       "      <th>8</th>\n",
       "      <td>b.sc nursing</td>\n",
       "      <td>1</td>\n",
       "    </tr>\n",
       "    <tr>\n",
       "      <th>10</th>\n",
       "      <td>b.tech (ece)</td>\n",
       "      <td>1</td>\n",
       "    </tr>\n",
       "    <tr>\n",
       "      <th>11</th>\n",
       "      <td>bca</td>\n",
       "      <td>1</td>\n",
       "    </tr>\n",
       "    <tr>\n",
       "      <th>12</th>\n",
       "      <td>bsc physics honours</td>\n",
       "      <td>1</td>\n",
       "    </tr>\n",
       "    <tr>\n",
       "      <th>13</th>\n",
       "      <td>bsc(state )</td>\n",
       "      <td>1</td>\n",
       "    </tr>\n",
       "    <tr>\n",
       "      <th>14</th>\n",
       "      <td>bsc. hons</td>\n",
       "      <td>1</td>\n",
       "    </tr>\n",
       "    <tr>\n",
       "      <th>15</th>\n",
       "      <td>bsc. statistics honours student(final year)</td>\n",
       "      <td>1</td>\n",
       "    </tr>\n",
       "    <tr>\n",
       "      <th>16</th>\n",
       "      <td>btech 4th year on ece department</td>\n",
       "      <td>1</td>\n",
       "    </tr>\n",
       "    <tr>\n",
       "      <th>17</th>\n",
       "      <td>byech</td>\n",
       "      <td>1</td>\n",
       "    </tr>\n",
       "    <tr>\n",
       "      <th>18</th>\n",
       "      <td>civil engineering</td>\n",
       "      <td>1</td>\n",
       "    </tr>\n",
       "    <tr>\n",
       "      <th>20</th>\n",
       "      <td>did my graduation on mathematics</td>\n",
       "      <td>1</td>\n",
       "    </tr>\n",
       "    <tr>\n",
       "      <th>21</th>\n",
       "      <td>ece</td>\n",
       "      <td>1</td>\n",
       "    </tr>\n",
       "    <tr>\n",
       "      <th>22</th>\n",
       "      <td>electrical engineering</td>\n",
       "      <td>1</td>\n",
       "    </tr>\n",
       "    <tr>\n",
       "      <th>23</th>\n",
       "      <td>electronics and communication engineering (b.t...</td>\n",
       "      <td>1</td>\n",
       "    </tr>\n",
       "    <tr>\n",
       "      <th>24</th>\n",
       "      <td>electronics and telecommunication</td>\n",
       "      <td>1</td>\n",
       "    </tr>\n",
       "    <tr>\n",
       "      <th>26</th>\n",
       "      <td>h.s passed</td>\n",
       "      <td>1</td>\n",
       "    </tr>\n",
       "    <tr>\n",
       "      <th>28</th>\n",
       "      <td>linear algebra in mathematics</td>\n",
       "      <td>1</td>\n",
       "    </tr>\n",
       "    <tr>\n",
       "      <th>57</th>\n",
       "      <td>studying m.sc in mathematics</td>\n",
       "      <td>1</td>\n",
       "    </tr>\n",
       "  </tbody>\n",
       "</table>\n",
       "</div>"
      ],
      "text/plain": [
       "                                           Department  no_laptop_counts\n",
       "27                                   honors (bsc/msc)                69\n",
       "25                                        engineering                30\n",
       "48                                             others                23\n",
       "35                                        mathematics                 8\n",
       "53                                         statistics                 7\n",
       "19                                   computer science                 2\n",
       "41                             mechanical engineering                 2\n",
       "9                             b.sc statistics honours                 2\n",
       "46                                    msc mathematics                 2\n",
       "38                                   mathematics msc.                 1\n",
       "40                                         mechanical                 1\n",
       "39                                                mca                 1\n",
       "0                                 applies mathematics                 1\n",
       "37                                mathematics honours                 1\n",
       "34                                           math (h)                 1\n",
       "33           master of science in applied mathematics                 1\n",
       "36                                  mathematics (msc)                 1\n",
       "44                         msc in applied mathematics                 1\n",
       "42                                       microbiology                 1\n",
       "43                                                msc                 1\n",
       "31                                   m.sc mathematics                 1\n",
       "45                                 msc in mathematics                 1\n",
       "47                                   msc. mathematics                 1\n",
       "49                                              power                 1\n",
       "50                                  power engineering                 1\n",
       "51                            power plant engineering                 1\n",
       "52                                   pure mathematics                 1\n",
       "54                                     statistics (h)                 1\n",
       "55                         statistics honours (b.sc.)                 1\n",
       "56                         statistics honours student                 1\n",
       "32                       m.sc. in applied mathematics                 1\n",
       "29                                               m.sc                 1\n",
       "30                                m.sc in mathematics                 1\n",
       "1                                                atrs                 1\n",
       "2                              b-tech (ece 2'nd year)                 1\n",
       "3                                       b-tech in ece                 1\n",
       "4                                       b. tech (cse)                 1\n",
       "5                                           b.com (h)                 1\n",
       "6                                                b.sc                 1\n",
       "7                                  b.sc in statistics                 1\n",
       "8                                        b.sc nursing                 1\n",
       "10                                       b.tech (ece)                 1\n",
       "11                                                bca                 1\n",
       "12                                bsc physics honours                 1\n",
       "13                                        bsc(state )                 1\n",
       "14                                          bsc. hons                 1\n",
       "15        bsc. statistics honours student(final year)                 1\n",
       "16                   btech 4th year on ece department                 1\n",
       "17                                              byech                 1\n",
       "18                                  civil engineering                 1\n",
       "20                   did my graduation on mathematics                 1\n",
       "21                                                ece                 1\n",
       "22                             electrical engineering                 1\n",
       "23  electronics and communication engineering (b.t...                 1\n",
       "24                  electronics and telecommunication                 1\n",
       "26                                         h.s passed                 1\n",
       "28                      linear algebra in mathematics                 1\n",
       "57                       studying m.sc in mathematics                 1"
      ]
     },
     "execution_count": 66,
     "metadata": {},
     "output_type": "execute_result"
    }
   ],
   "source": [
    "dep_no_laptop.sort_values(\"no_laptop_counts\", ascending=False)"
   ]
  },
  {
   "cell_type": "code",
   "execution_count": 67,
   "metadata": {},
   "outputs": [
    {
     "data": {
      "application/vnd.plotly.v1+json": {
       "config": {
        "linkText": "Export to plot.ly",
        "plotlyServerURL": "https://plot.ly",
        "showLink": false
       },
       "data": [
        {
         "marker": {
          "color": "lightgreen"
         },
         "text": [
          "honors (bsc/msc)",
          "engineering",
          "others",
          "mathematics",
          "statistics",
          "computer science",
          "mechanical engineering",
          "b.sc statistics honours",
          "msc mathematics",
          "mathematics msc.",
          "mechanical",
          "mca",
          "applies mathematics",
          "mathematics honours",
          "math (h)",
          "master of science in applied mathematics",
          "mathematics (msc)",
          "msc in applied mathematics",
          "microbiology",
          "msc",
          "m.sc mathematics",
          "msc in mathematics",
          "msc. mathematics",
          "power",
          "power engineering",
          "power plant engineering",
          "pure mathematics",
          "statistics (h)",
          "statistics honours (b.sc.)",
          "statistics honours student",
          "m.sc. in applied mathematics",
          "m.sc",
          "m.sc in mathematics",
          "atrs",
          "b-tech (ece 2'nd year)",
          "b-tech in ece",
          "b. tech (cse)",
          "b.com (h)",
          "b.sc",
          "b.sc in statistics",
          "b.sc nursing",
          "b.tech (ece)",
          "bca",
          "bsc physics honours",
          "bsc(state )",
          "bsc. hons",
          "bsc. statistics honours student(final year)",
          "btech 4th year on ece department",
          "byech",
          "civil engineering",
          "did my graduation on mathematics",
          "ece",
          "electrical engineering",
          "electronics and communication engineering (b.tech)",
          "electronics and telecommunication",
          "h.s passed",
          "linear algebra in mathematics",
          "studying m.sc in mathematics"
         ],
         "type": "bar",
         "x": [
          "honors (bsc/msc)",
          "engineering",
          "others",
          "mathematics",
          "statistics",
          "computer science",
          "mechanical engineering",
          "b.sc statistics honours",
          "msc mathematics",
          "mathematics msc.",
          "mechanical",
          "mca",
          "applies mathematics",
          "mathematics honours",
          "math (h)",
          "master of science in applied mathematics",
          "mathematics (msc)",
          "msc in applied mathematics",
          "microbiology",
          "msc",
          "m.sc mathematics",
          "msc in mathematics",
          "msc. mathematics",
          "power",
          "power engineering",
          "power plant engineering",
          "pure mathematics",
          "statistics (h)",
          "statistics honours (b.sc.)",
          "statistics honours student",
          "m.sc. in applied mathematics",
          "m.sc",
          "m.sc in mathematics",
          "atrs",
          "b-tech (ece 2'nd year)",
          "b-tech in ece",
          "b. tech (cse)",
          "b.com (h)",
          "b.sc",
          "b.sc in statistics",
          "b.sc nursing",
          "b.tech (ece)",
          "bca",
          "bsc physics honours",
          "bsc(state )",
          "bsc. hons",
          "bsc. statistics honours student(final year)",
          "btech 4th year on ece department",
          "byech",
          "civil engineering",
          "did my graduation on mathematics",
          "ece",
          "electrical engineering",
          "electronics and communication engineering (b.tech)",
          "electronics and telecommunication",
          "h.s passed",
          "linear algebra in mathematics",
          "studying m.sc in mathematics"
         ],
         "y": [
          69,
          30,
          23,
          8,
          7,
          2,
          2,
          2,
          2,
          1,
          1,
          1,
          1,
          1,
          1,
          1,
          1,
          1,
          1,
          1,
          1,
          1,
          1,
          1,
          1,
          1,
          1,
          1,
          1,
          1,
          1,
          1,
          1,
          1,
          1,
          1,
          1,
          1,
          1,
          1,
          1,
          1,
          1,
          1,
          1,
          1,
          1,
          1,
          1,
          1,
          1,
          1,
          1,
          1,
          1,
          1,
          1,
          1
         ]
        }
       ],
       "layout": {
        "hovermode": "closest",
        "paper_bgcolor": "rgba(0, 0, 0, 0)",
        "plot_bgcolor": "rgba(0, 0, 0, 0)",
        "template": {
         "data": {
          "bar": [
           {
            "error_x": {
             "color": "#2a3f5f"
            },
            "error_y": {
             "color": "#2a3f5f"
            },
            "marker": {
             "line": {
              "color": "#E5ECF6",
              "width": 0.5
             }
            },
            "type": "bar"
           }
          ],
          "barpolar": [
           {
            "marker": {
             "line": {
              "color": "#E5ECF6",
              "width": 0.5
             }
            },
            "type": "barpolar"
           }
          ],
          "carpet": [
           {
            "aaxis": {
             "endlinecolor": "#2a3f5f",
             "gridcolor": "white",
             "linecolor": "white",
             "minorgridcolor": "white",
             "startlinecolor": "#2a3f5f"
            },
            "baxis": {
             "endlinecolor": "#2a3f5f",
             "gridcolor": "white",
             "linecolor": "white",
             "minorgridcolor": "white",
             "startlinecolor": "#2a3f5f"
            },
            "type": "carpet"
           }
          ],
          "choropleth": [
           {
            "colorbar": {
             "outlinewidth": 0,
             "ticks": ""
            },
            "type": "choropleth"
           }
          ],
          "contour": [
           {
            "colorbar": {
             "outlinewidth": 0,
             "ticks": ""
            },
            "colorscale": [
             [
              0,
              "#0d0887"
             ],
             [
              0.1111111111111111,
              "#46039f"
             ],
             [
              0.2222222222222222,
              "#7201a8"
             ],
             [
              0.3333333333333333,
              "#9c179e"
             ],
             [
              0.4444444444444444,
              "#bd3786"
             ],
             [
              0.5555555555555556,
              "#d8576b"
             ],
             [
              0.6666666666666666,
              "#ed7953"
             ],
             [
              0.7777777777777778,
              "#fb9f3a"
             ],
             [
              0.8888888888888888,
              "#fdca26"
             ],
             [
              1,
              "#f0f921"
             ]
            ],
            "type": "contour"
           }
          ],
          "contourcarpet": [
           {
            "colorbar": {
             "outlinewidth": 0,
             "ticks": ""
            },
            "type": "contourcarpet"
           }
          ],
          "heatmap": [
           {
            "colorbar": {
             "outlinewidth": 0,
             "ticks": ""
            },
            "colorscale": [
             [
              0,
              "#0d0887"
             ],
             [
              0.1111111111111111,
              "#46039f"
             ],
             [
              0.2222222222222222,
              "#7201a8"
             ],
             [
              0.3333333333333333,
              "#9c179e"
             ],
             [
              0.4444444444444444,
              "#bd3786"
             ],
             [
              0.5555555555555556,
              "#d8576b"
             ],
             [
              0.6666666666666666,
              "#ed7953"
             ],
             [
              0.7777777777777778,
              "#fb9f3a"
             ],
             [
              0.8888888888888888,
              "#fdca26"
             ],
             [
              1,
              "#f0f921"
             ]
            ],
            "type": "heatmap"
           }
          ],
          "heatmapgl": [
           {
            "colorbar": {
             "outlinewidth": 0,
             "ticks": ""
            },
            "colorscale": [
             [
              0,
              "#0d0887"
             ],
             [
              0.1111111111111111,
              "#46039f"
             ],
             [
              0.2222222222222222,
              "#7201a8"
             ],
             [
              0.3333333333333333,
              "#9c179e"
             ],
             [
              0.4444444444444444,
              "#bd3786"
             ],
             [
              0.5555555555555556,
              "#d8576b"
             ],
             [
              0.6666666666666666,
              "#ed7953"
             ],
             [
              0.7777777777777778,
              "#fb9f3a"
             ],
             [
              0.8888888888888888,
              "#fdca26"
             ],
             [
              1,
              "#f0f921"
             ]
            ],
            "type": "heatmapgl"
           }
          ],
          "histogram": [
           {
            "marker": {
             "colorbar": {
              "outlinewidth": 0,
              "ticks": ""
             }
            },
            "type": "histogram"
           }
          ],
          "histogram2d": [
           {
            "colorbar": {
             "outlinewidth": 0,
             "ticks": ""
            },
            "colorscale": [
             [
              0,
              "#0d0887"
             ],
             [
              0.1111111111111111,
              "#46039f"
             ],
             [
              0.2222222222222222,
              "#7201a8"
             ],
             [
              0.3333333333333333,
              "#9c179e"
             ],
             [
              0.4444444444444444,
              "#bd3786"
             ],
             [
              0.5555555555555556,
              "#d8576b"
             ],
             [
              0.6666666666666666,
              "#ed7953"
             ],
             [
              0.7777777777777778,
              "#fb9f3a"
             ],
             [
              0.8888888888888888,
              "#fdca26"
             ],
             [
              1,
              "#f0f921"
             ]
            ],
            "type": "histogram2d"
           }
          ],
          "histogram2dcontour": [
           {
            "colorbar": {
             "outlinewidth": 0,
             "ticks": ""
            },
            "colorscale": [
             [
              0,
              "#0d0887"
             ],
             [
              0.1111111111111111,
              "#46039f"
             ],
             [
              0.2222222222222222,
              "#7201a8"
             ],
             [
              0.3333333333333333,
              "#9c179e"
             ],
             [
              0.4444444444444444,
              "#bd3786"
             ],
             [
              0.5555555555555556,
              "#d8576b"
             ],
             [
              0.6666666666666666,
              "#ed7953"
             ],
             [
              0.7777777777777778,
              "#fb9f3a"
             ],
             [
              0.8888888888888888,
              "#fdca26"
             ],
             [
              1,
              "#f0f921"
             ]
            ],
            "type": "histogram2dcontour"
           }
          ],
          "mesh3d": [
           {
            "colorbar": {
             "outlinewidth": 0,
             "ticks": ""
            },
            "type": "mesh3d"
           }
          ],
          "parcoords": [
           {
            "line": {
             "colorbar": {
              "outlinewidth": 0,
              "ticks": ""
             }
            },
            "type": "parcoords"
           }
          ],
          "pie": [
           {
            "automargin": true,
            "type": "pie"
           }
          ],
          "scatter": [
           {
            "marker": {
             "colorbar": {
              "outlinewidth": 0,
              "ticks": ""
             }
            },
            "type": "scatter"
           }
          ],
          "scatter3d": [
           {
            "line": {
             "colorbar": {
              "outlinewidth": 0,
              "ticks": ""
             }
            },
            "marker": {
             "colorbar": {
              "outlinewidth": 0,
              "ticks": ""
             }
            },
            "type": "scatter3d"
           }
          ],
          "scattercarpet": [
           {
            "marker": {
             "colorbar": {
              "outlinewidth": 0,
              "ticks": ""
             }
            },
            "type": "scattercarpet"
           }
          ],
          "scattergeo": [
           {
            "marker": {
             "colorbar": {
              "outlinewidth": 0,
              "ticks": ""
             }
            },
            "type": "scattergeo"
           }
          ],
          "scattergl": [
           {
            "marker": {
             "colorbar": {
              "outlinewidth": 0,
              "ticks": ""
             }
            },
            "type": "scattergl"
           }
          ],
          "scattermapbox": [
           {
            "marker": {
             "colorbar": {
              "outlinewidth": 0,
              "ticks": ""
             }
            },
            "type": "scattermapbox"
           }
          ],
          "scatterpolar": [
           {
            "marker": {
             "colorbar": {
              "outlinewidth": 0,
              "ticks": ""
             }
            },
            "type": "scatterpolar"
           }
          ],
          "scatterpolargl": [
           {
            "marker": {
             "colorbar": {
              "outlinewidth": 0,
              "ticks": ""
             }
            },
            "type": "scatterpolargl"
           }
          ],
          "scatterternary": [
           {
            "marker": {
             "colorbar": {
              "outlinewidth": 0,
              "ticks": ""
             }
            },
            "type": "scatterternary"
           }
          ],
          "surface": [
           {
            "colorbar": {
             "outlinewidth": 0,
             "ticks": ""
            },
            "colorscale": [
             [
              0,
              "#0d0887"
             ],
             [
              0.1111111111111111,
              "#46039f"
             ],
             [
              0.2222222222222222,
              "#7201a8"
             ],
             [
              0.3333333333333333,
              "#9c179e"
             ],
             [
              0.4444444444444444,
              "#bd3786"
             ],
             [
              0.5555555555555556,
              "#d8576b"
             ],
             [
              0.6666666666666666,
              "#ed7953"
             ],
             [
              0.7777777777777778,
              "#fb9f3a"
             ],
             [
              0.8888888888888888,
              "#fdca26"
             ],
             [
              1,
              "#f0f921"
             ]
            ],
            "type": "surface"
           }
          ],
          "table": [
           {
            "cells": {
             "fill": {
              "color": "#EBF0F8"
             },
             "line": {
              "color": "white"
             }
            },
            "header": {
             "fill": {
              "color": "#C8D4E3"
             },
             "line": {
              "color": "white"
             }
            },
            "type": "table"
           }
          ]
         },
         "layout": {
          "annotationdefaults": {
           "arrowcolor": "#2a3f5f",
           "arrowhead": 0,
           "arrowwidth": 1
          },
          "autotypenumbers": "strict",
          "coloraxis": {
           "colorbar": {
            "outlinewidth": 0,
            "ticks": ""
           }
          },
          "colorscale": {
           "diverging": [
            [
             0,
             "#8e0152"
            ],
            [
             0.1,
             "#c51b7d"
            ],
            [
             0.2,
             "#de77ae"
            ],
            [
             0.3,
             "#f1b6da"
            ],
            [
             0.4,
             "#fde0ef"
            ],
            [
             0.5,
             "#f7f7f7"
            ],
            [
             0.6,
             "#e6f5d0"
            ],
            [
             0.7,
             "#b8e186"
            ],
            [
             0.8,
             "#7fbc41"
            ],
            [
             0.9,
             "#4d9221"
            ],
            [
             1,
             "#276419"
            ]
           ],
           "sequential": [
            [
             0,
             "#0d0887"
            ],
            [
             0.1111111111111111,
             "#46039f"
            ],
            [
             0.2222222222222222,
             "#7201a8"
            ],
            [
             0.3333333333333333,
             "#9c179e"
            ],
            [
             0.4444444444444444,
             "#bd3786"
            ],
            [
             0.5555555555555556,
             "#d8576b"
            ],
            [
             0.6666666666666666,
             "#ed7953"
            ],
            [
             0.7777777777777778,
             "#fb9f3a"
            ],
            [
             0.8888888888888888,
             "#fdca26"
            ],
            [
             1,
             "#f0f921"
            ]
           ],
           "sequentialminus": [
            [
             0,
             "#0d0887"
            ],
            [
             0.1111111111111111,
             "#46039f"
            ],
            [
             0.2222222222222222,
             "#7201a8"
            ],
            [
             0.3333333333333333,
             "#9c179e"
            ],
            [
             0.4444444444444444,
             "#bd3786"
            ],
            [
             0.5555555555555556,
             "#d8576b"
            ],
            [
             0.6666666666666666,
             "#ed7953"
            ],
            [
             0.7777777777777778,
             "#fb9f3a"
            ],
            [
             0.8888888888888888,
             "#fdca26"
            ],
            [
             1,
             "#f0f921"
            ]
           ]
          },
          "colorway": [
           "#636efa",
           "#EF553B",
           "#00cc96",
           "#ab63fa",
           "#FFA15A",
           "#19d3f3",
           "#FF6692",
           "#B6E880",
           "#FF97FF",
           "#FECB52"
          ],
          "font": {
           "color": "#2a3f5f"
          },
          "geo": {
           "bgcolor": "white",
           "lakecolor": "white",
           "landcolor": "#E5ECF6",
           "showlakes": true,
           "showland": true,
           "subunitcolor": "white"
          },
          "hoverlabel": {
           "align": "left"
          },
          "hovermode": "closest",
          "mapbox": {
           "style": "light"
          },
          "paper_bgcolor": "white",
          "plot_bgcolor": "#E5ECF6",
          "polar": {
           "angularaxis": {
            "gridcolor": "white",
            "linecolor": "white",
            "ticks": ""
           },
           "bgcolor": "#E5ECF6",
           "radialaxis": {
            "gridcolor": "white",
            "linecolor": "white",
            "ticks": ""
           }
          },
          "scene": {
           "xaxis": {
            "backgroundcolor": "#E5ECF6",
            "gridcolor": "white",
            "gridwidth": 2,
            "linecolor": "white",
            "showbackground": true,
            "ticks": "",
            "zerolinecolor": "white"
           },
           "yaxis": {
            "backgroundcolor": "#E5ECF6",
            "gridcolor": "white",
            "gridwidth": 2,
            "linecolor": "white",
            "showbackground": true,
            "ticks": "",
            "zerolinecolor": "white"
           },
           "zaxis": {
            "backgroundcolor": "#E5ECF6",
            "gridcolor": "white",
            "gridwidth": 2,
            "linecolor": "white",
            "showbackground": true,
            "ticks": "",
            "zerolinecolor": "white"
           }
          },
          "shapedefaults": {
           "line": {
            "color": "#2a3f5f"
           }
          },
          "ternary": {
           "aaxis": {
            "gridcolor": "white",
            "linecolor": "white",
            "ticks": ""
           },
           "baxis": {
            "gridcolor": "white",
            "linecolor": "white",
            "ticks": ""
           },
           "bgcolor": "#E5ECF6",
           "caxis": {
            "gridcolor": "white",
            "linecolor": "white",
            "ticks": ""
           }
          },
          "title": {
           "x": 0.05
          },
          "xaxis": {
           "automargin": true,
           "gridcolor": "white",
           "linecolor": "white",
           "ticks": "",
           "title": {
            "standoff": 15
           },
           "zerolinecolor": "white",
           "zerolinewidth": 2
          },
          "yaxis": {
           "automargin": true,
           "gridcolor": "white",
           "linecolor": "white",
           "ticks": "",
           "title": {
            "standoff": 15
           },
           "zerolinecolor": "white",
           "zerolinewidth": 2
          }
         }
        },
        "title": {
         "text": "Free Session total Student from Department did not have laptop "
        },
        "xaxis": {
         "linecolor": "black",
         "linewidth": 2,
         "mirror": true,
         "showline": true,
         "showticklabels": true,
         "tickangle": 45,
         "tickfont": {
          "color": "red",
          "size": 10
         },
         "title": {
          "text": "Department Name"
         },
         "zeroline": true,
         "zerolinecolor": "grey",
         "zerolinewidth": 1
        },
        "yaxis": {
         "gridcolor": "lightgrey",
         "linecolor": "black",
         "linewidth": 2,
         "mirror": true,
         "showline": true,
         "title": {
          "text": "Total Students"
         },
         "zeroline": true,
         "zerolinecolor": "grey",
         "zerolinewidth": 1
        }
       }
      },
      "text/html": [
       "<div>                            <div id=\"b1a0b0aa-4e93-4cfa-9109-f5d000e4a2df\" class=\"plotly-graph-div\" style=\"height:525px; width:100%;\"></div>            <script type=\"text/javascript\">                require([\"plotly\"], function(Plotly) {                    window.PLOTLYENV=window.PLOTLYENV || {};                                    if (document.getElementById(\"b1a0b0aa-4e93-4cfa-9109-f5d000e4a2df\")) {                    Plotly.newPlot(                        \"b1a0b0aa-4e93-4cfa-9109-f5d000e4a2df\",                        [{\"marker\": {\"color\": \"lightgreen\"}, \"text\": [\"honors (bsc/msc)\", \"engineering\", \"others\", \"mathematics\", \"statistics\", \"computer science\", \"mechanical engineering\", \"b.sc statistics honours\", \"msc mathematics\", \"mathematics msc.\", \"mechanical\", \"mca\", \"applies mathematics\", \"mathematics honours\", \"math (h)\", \"master of science in applied mathematics\", \"mathematics (msc)\", \"msc in applied mathematics\", \"microbiology\", \"msc\", \"m.sc mathematics\", \"msc in mathematics\", \"msc. mathematics\", \"power\", \"power engineering\", \"power plant engineering\", \"pure mathematics\", \"statistics (h)\", \"statistics honours (b.sc.)\", \"statistics honours student\", \"m.sc. in applied mathematics\", \"m.sc\", \"m.sc in mathematics\", \"atrs\", \"b-tech (ece 2'nd year)\", \"b-tech in ece\", \"b. tech (cse)\", \"b.com (h)\", \"b.sc\", \"b.sc in statistics\", \"b.sc nursing\", \"b.tech (ece)\", \"bca\", \"bsc physics honours\", \"bsc(state )\", \"bsc. hons\", \"bsc. statistics honours student(final year)\", \"btech 4th year on ece department\", \"byech\", \"civil engineering\", \"did my graduation on mathematics\", \"ece\", \"electrical engineering\", \"electronics and communication engineering (b.tech)\", \"electronics and telecommunication\", \"h.s passed\", \"linear algebra in mathematics\", \"studying m.sc in mathematics\"], \"type\": \"bar\", \"x\": [\"honors (bsc/msc)\", \"engineering\", \"others\", \"mathematics\", \"statistics\", \"computer science\", \"mechanical engineering\", \"b.sc statistics honours\", \"msc mathematics\", \"mathematics msc.\", \"mechanical\", \"mca\", \"applies mathematics\", \"mathematics honours\", \"math (h)\", \"master of science in applied mathematics\", \"mathematics (msc)\", \"msc in applied mathematics\", \"microbiology\", \"msc\", \"m.sc mathematics\", \"msc in mathematics\", \"msc. mathematics\", \"power\", \"power engineering\", \"power plant engineering\", \"pure mathematics\", \"statistics (h)\", \"statistics honours (b.sc.)\", \"statistics honours student\", \"m.sc. in applied mathematics\", \"m.sc\", \"m.sc in mathematics\", \"atrs\", \"b-tech (ece 2'nd year)\", \"b-tech in ece\", \"b. tech (cse)\", \"b.com (h)\", \"b.sc\", \"b.sc in statistics\", \"b.sc nursing\", \"b.tech (ece)\", \"bca\", \"bsc physics honours\", \"bsc(state )\", \"bsc. hons\", \"bsc. statistics honours student(final year)\", \"btech 4th year on ece department\", \"byech\", \"civil engineering\", \"did my graduation on mathematics\", \"ece\", \"electrical engineering\", \"electronics and communication engineering (b.tech)\", \"electronics and telecommunication\", \"h.s passed\", \"linear algebra in mathematics\", \"studying m.sc in mathematics\"], \"y\": [69, 30, 23, 8, 7, 2, 2, 2, 2, 1, 1, 1, 1, 1, 1, 1, 1, 1, 1, 1, 1, 1, 1, 1, 1, 1, 1, 1, 1, 1, 1, 1, 1, 1, 1, 1, 1, 1, 1, 1, 1, 1, 1, 1, 1, 1, 1, 1, 1, 1, 1, 1, 1, 1, 1, 1, 1, 1]}],                        {\"hovermode\": \"closest\", \"paper_bgcolor\": \"rgba(0, 0, 0, 0)\", \"plot_bgcolor\": \"rgba(0, 0, 0, 0)\", \"template\": {\"data\": {\"bar\": [{\"error_x\": {\"color\": \"#2a3f5f\"}, \"error_y\": {\"color\": \"#2a3f5f\"}, \"marker\": {\"line\": {\"color\": \"#E5ECF6\", \"width\": 0.5}}, \"type\": \"bar\"}], \"barpolar\": [{\"marker\": {\"line\": {\"color\": \"#E5ECF6\", \"width\": 0.5}}, \"type\": \"barpolar\"}], \"carpet\": [{\"aaxis\": {\"endlinecolor\": \"#2a3f5f\", \"gridcolor\": \"white\", \"linecolor\": \"white\", \"minorgridcolor\": \"white\", \"startlinecolor\": \"#2a3f5f\"}, \"baxis\": {\"endlinecolor\": \"#2a3f5f\", \"gridcolor\": \"white\", \"linecolor\": \"white\", \"minorgridcolor\": \"white\", \"startlinecolor\": \"#2a3f5f\"}, \"type\": \"carpet\"}], \"choropleth\": [{\"colorbar\": {\"outlinewidth\": 0, \"ticks\": \"\"}, \"type\": \"choropleth\"}], \"contour\": [{\"colorbar\": {\"outlinewidth\": 0, \"ticks\": \"\"}, \"colorscale\": [[0.0, \"#0d0887\"], [0.1111111111111111, \"#46039f\"], [0.2222222222222222, \"#7201a8\"], [0.3333333333333333, \"#9c179e\"], [0.4444444444444444, \"#bd3786\"], [0.5555555555555556, \"#d8576b\"], [0.6666666666666666, \"#ed7953\"], [0.7777777777777778, \"#fb9f3a\"], [0.8888888888888888, \"#fdca26\"], [1.0, \"#f0f921\"]], \"type\": \"contour\"}], \"contourcarpet\": [{\"colorbar\": {\"outlinewidth\": 0, \"ticks\": \"\"}, \"type\": \"contourcarpet\"}], \"heatmap\": [{\"colorbar\": {\"outlinewidth\": 0, \"ticks\": \"\"}, \"colorscale\": [[0.0, \"#0d0887\"], [0.1111111111111111, \"#46039f\"], [0.2222222222222222, \"#7201a8\"], [0.3333333333333333, \"#9c179e\"], [0.4444444444444444, \"#bd3786\"], [0.5555555555555556, \"#d8576b\"], [0.6666666666666666, \"#ed7953\"], [0.7777777777777778, \"#fb9f3a\"], [0.8888888888888888, \"#fdca26\"], [1.0, \"#f0f921\"]], \"type\": \"heatmap\"}], \"heatmapgl\": [{\"colorbar\": {\"outlinewidth\": 0, \"ticks\": \"\"}, \"colorscale\": [[0.0, \"#0d0887\"], [0.1111111111111111, \"#46039f\"], [0.2222222222222222, \"#7201a8\"], [0.3333333333333333, \"#9c179e\"], [0.4444444444444444, \"#bd3786\"], [0.5555555555555556, \"#d8576b\"], [0.6666666666666666, \"#ed7953\"], [0.7777777777777778, \"#fb9f3a\"], [0.8888888888888888, \"#fdca26\"], [1.0, \"#f0f921\"]], \"type\": \"heatmapgl\"}], \"histogram\": [{\"marker\": {\"colorbar\": {\"outlinewidth\": 0, \"ticks\": \"\"}}, \"type\": \"histogram\"}], \"histogram2d\": [{\"colorbar\": {\"outlinewidth\": 0, \"ticks\": \"\"}, \"colorscale\": [[0.0, \"#0d0887\"], [0.1111111111111111, \"#46039f\"], [0.2222222222222222, \"#7201a8\"], [0.3333333333333333, \"#9c179e\"], [0.4444444444444444, \"#bd3786\"], [0.5555555555555556, \"#d8576b\"], [0.6666666666666666, \"#ed7953\"], [0.7777777777777778, \"#fb9f3a\"], [0.8888888888888888, \"#fdca26\"], [1.0, \"#f0f921\"]], \"type\": \"histogram2d\"}], \"histogram2dcontour\": [{\"colorbar\": {\"outlinewidth\": 0, \"ticks\": \"\"}, \"colorscale\": [[0.0, \"#0d0887\"], [0.1111111111111111, \"#46039f\"], [0.2222222222222222, \"#7201a8\"], [0.3333333333333333, \"#9c179e\"], [0.4444444444444444, \"#bd3786\"], [0.5555555555555556, \"#d8576b\"], [0.6666666666666666, \"#ed7953\"], [0.7777777777777778, \"#fb9f3a\"], [0.8888888888888888, \"#fdca26\"], [1.0, \"#f0f921\"]], \"type\": \"histogram2dcontour\"}], \"mesh3d\": [{\"colorbar\": {\"outlinewidth\": 0, \"ticks\": \"\"}, \"type\": \"mesh3d\"}], \"parcoords\": [{\"line\": {\"colorbar\": {\"outlinewidth\": 0, \"ticks\": \"\"}}, \"type\": \"parcoords\"}], \"pie\": [{\"automargin\": true, \"type\": \"pie\"}], \"scatter\": [{\"marker\": {\"colorbar\": {\"outlinewidth\": 0, \"ticks\": \"\"}}, \"type\": \"scatter\"}], \"scatter3d\": [{\"line\": {\"colorbar\": {\"outlinewidth\": 0, \"ticks\": \"\"}}, \"marker\": {\"colorbar\": {\"outlinewidth\": 0, \"ticks\": \"\"}}, \"type\": \"scatter3d\"}], \"scattercarpet\": [{\"marker\": {\"colorbar\": {\"outlinewidth\": 0, \"ticks\": \"\"}}, \"type\": \"scattercarpet\"}], \"scattergeo\": [{\"marker\": {\"colorbar\": {\"outlinewidth\": 0, \"ticks\": \"\"}}, \"type\": \"scattergeo\"}], \"scattergl\": [{\"marker\": {\"colorbar\": {\"outlinewidth\": 0, \"ticks\": \"\"}}, \"type\": \"scattergl\"}], \"scattermapbox\": [{\"marker\": {\"colorbar\": {\"outlinewidth\": 0, \"ticks\": \"\"}}, \"type\": \"scattermapbox\"}], \"scatterpolar\": [{\"marker\": {\"colorbar\": {\"outlinewidth\": 0, \"ticks\": \"\"}}, \"type\": \"scatterpolar\"}], \"scatterpolargl\": [{\"marker\": {\"colorbar\": {\"outlinewidth\": 0, \"ticks\": \"\"}}, \"type\": \"scatterpolargl\"}], \"scatterternary\": [{\"marker\": {\"colorbar\": {\"outlinewidth\": 0, \"ticks\": \"\"}}, \"type\": \"scatterternary\"}], \"surface\": [{\"colorbar\": {\"outlinewidth\": 0, \"ticks\": \"\"}, \"colorscale\": [[0.0, \"#0d0887\"], [0.1111111111111111, \"#46039f\"], [0.2222222222222222, \"#7201a8\"], [0.3333333333333333, \"#9c179e\"], [0.4444444444444444, \"#bd3786\"], [0.5555555555555556, \"#d8576b\"], [0.6666666666666666, \"#ed7953\"], [0.7777777777777778, \"#fb9f3a\"], [0.8888888888888888, \"#fdca26\"], [1.0, \"#f0f921\"]], \"type\": \"surface\"}], \"table\": [{\"cells\": {\"fill\": {\"color\": \"#EBF0F8\"}, \"line\": {\"color\": \"white\"}}, \"header\": {\"fill\": {\"color\": \"#C8D4E3\"}, \"line\": {\"color\": \"white\"}}, \"type\": \"table\"}]}, \"layout\": {\"annotationdefaults\": {\"arrowcolor\": \"#2a3f5f\", \"arrowhead\": 0, \"arrowwidth\": 1}, \"autotypenumbers\": \"strict\", \"coloraxis\": {\"colorbar\": {\"outlinewidth\": 0, \"ticks\": \"\"}}, \"colorscale\": {\"diverging\": [[0, \"#8e0152\"], [0.1, \"#c51b7d\"], [0.2, \"#de77ae\"], [0.3, \"#f1b6da\"], [0.4, \"#fde0ef\"], [0.5, \"#f7f7f7\"], [0.6, \"#e6f5d0\"], [0.7, \"#b8e186\"], [0.8, \"#7fbc41\"], [0.9, \"#4d9221\"], [1, \"#276419\"]], \"sequential\": [[0.0, \"#0d0887\"], [0.1111111111111111, \"#46039f\"], [0.2222222222222222, \"#7201a8\"], [0.3333333333333333, \"#9c179e\"], [0.4444444444444444, \"#bd3786\"], [0.5555555555555556, \"#d8576b\"], [0.6666666666666666, \"#ed7953\"], [0.7777777777777778, \"#fb9f3a\"], [0.8888888888888888, \"#fdca26\"], [1.0, \"#f0f921\"]], \"sequentialminus\": [[0.0, \"#0d0887\"], [0.1111111111111111, \"#46039f\"], [0.2222222222222222, \"#7201a8\"], [0.3333333333333333, \"#9c179e\"], [0.4444444444444444, \"#bd3786\"], [0.5555555555555556, \"#d8576b\"], [0.6666666666666666, \"#ed7953\"], [0.7777777777777778, \"#fb9f3a\"], [0.8888888888888888, \"#fdca26\"], [1.0, \"#f0f921\"]]}, \"colorway\": [\"#636efa\", \"#EF553B\", \"#00cc96\", \"#ab63fa\", \"#FFA15A\", \"#19d3f3\", \"#FF6692\", \"#B6E880\", \"#FF97FF\", \"#FECB52\"], \"font\": {\"color\": \"#2a3f5f\"}, \"geo\": {\"bgcolor\": \"white\", \"lakecolor\": \"white\", \"landcolor\": \"#E5ECF6\", \"showlakes\": true, \"showland\": true, \"subunitcolor\": \"white\"}, \"hoverlabel\": {\"align\": \"left\"}, \"hovermode\": \"closest\", \"mapbox\": {\"style\": \"light\"}, \"paper_bgcolor\": \"white\", \"plot_bgcolor\": \"#E5ECF6\", \"polar\": {\"angularaxis\": {\"gridcolor\": \"white\", \"linecolor\": \"white\", \"ticks\": \"\"}, \"bgcolor\": \"#E5ECF6\", \"radialaxis\": {\"gridcolor\": \"white\", \"linecolor\": \"white\", \"ticks\": \"\"}}, \"scene\": {\"xaxis\": {\"backgroundcolor\": \"#E5ECF6\", \"gridcolor\": \"white\", \"gridwidth\": 2, \"linecolor\": \"white\", \"showbackground\": true, \"ticks\": \"\", \"zerolinecolor\": \"white\"}, \"yaxis\": {\"backgroundcolor\": \"#E5ECF6\", \"gridcolor\": \"white\", \"gridwidth\": 2, \"linecolor\": \"white\", \"showbackground\": true, \"ticks\": \"\", \"zerolinecolor\": \"white\"}, \"zaxis\": {\"backgroundcolor\": \"#E5ECF6\", \"gridcolor\": \"white\", \"gridwidth\": 2, \"linecolor\": \"white\", \"showbackground\": true, \"ticks\": \"\", \"zerolinecolor\": \"white\"}}, \"shapedefaults\": {\"line\": {\"color\": \"#2a3f5f\"}}, \"ternary\": {\"aaxis\": {\"gridcolor\": \"white\", \"linecolor\": \"white\", \"ticks\": \"\"}, \"baxis\": {\"gridcolor\": \"white\", \"linecolor\": \"white\", \"ticks\": \"\"}, \"bgcolor\": \"#E5ECF6\", \"caxis\": {\"gridcolor\": \"white\", \"linecolor\": \"white\", \"ticks\": \"\"}}, \"title\": {\"x\": 0.05}, \"xaxis\": {\"automargin\": true, \"gridcolor\": \"white\", \"linecolor\": \"white\", \"ticks\": \"\", \"title\": {\"standoff\": 15}, \"zerolinecolor\": \"white\", \"zerolinewidth\": 2}, \"yaxis\": {\"automargin\": true, \"gridcolor\": \"white\", \"linecolor\": \"white\", \"ticks\": \"\", \"title\": {\"standoff\": 15}, \"zerolinecolor\": \"white\", \"zerolinewidth\": 2}}}, \"title\": {\"text\": \"Free Session total Student from Department did not have laptop \"}, \"xaxis\": {\"linecolor\": \"black\", \"linewidth\": 2, \"mirror\": true, \"showline\": true, \"showticklabels\": true, \"tickangle\": 45, \"tickfont\": {\"color\": \"red\", \"size\": 10}, \"title\": {\"text\": \"Department Name\"}, \"zeroline\": true, \"zerolinecolor\": \"grey\", \"zerolinewidth\": 1}, \"yaxis\": {\"gridcolor\": \"lightgrey\", \"linecolor\": \"black\", \"linewidth\": 2, \"mirror\": true, \"showline\": true, \"title\": {\"text\": \"Total Students\"}, \"zeroline\": true, \"zerolinecolor\": \"grey\", \"zerolinewidth\": 1}},                        {\"responsive\": true}                    ).then(function(){\n",
       "                            \n",
       "var gd = document.getElementById('b1a0b0aa-4e93-4cfa-9109-f5d000e4a2df');\n",
       "var x = new MutationObserver(function (mutations, observer) {{\n",
       "        var display = window.getComputedStyle(gd).display;\n",
       "        if (!display || display === 'none') {{\n",
       "            console.log([gd, 'removed!']);\n",
       "            Plotly.purge(gd);\n",
       "            observer.disconnect();\n",
       "        }}\n",
       "}});\n",
       "\n",
       "// Listen for the removal of the full notebook cells\n",
       "var notebookContainer = gd.closest('#notebook-container');\n",
       "if (notebookContainer) {{\n",
       "    x.observe(notebookContainer, {childList: true});\n",
       "}}\n",
       "\n",
       "// Listen for the clearing of the current output cell\n",
       "var outputEl = gd.closest('.output');\n",
       "if (outputEl) {{\n",
       "    x.observe(outputEl, {childList: true});\n",
       "}}\n",
       "\n",
       "                        })                };                });            </script>        </div>"
      ]
     },
     "metadata": {},
     "output_type": "display_data"
    }
   ],
   "source": [
    "draw_trace_bar(dep_no_laptop,'Department','no_laptop_counts','Free Session total Student from Department did not have laptop ', 'Department Name','Total Students',\"lightgreen\")"
   ]
  },
  {
   "cell_type": "code",
   "execution_count": 68,
   "metadata": {},
   "outputs": [
    {
     "data": {
      "text/html": [
       "<div>\n",
       "<style scoped>\n",
       "    .dataframe tbody tr th:only-of-type {\n",
       "        vertical-align: middle;\n",
       "    }\n",
       "\n",
       "    .dataframe tbody tr th {\n",
       "        vertical-align: top;\n",
       "    }\n",
       "\n",
       "    .dataframe thead th {\n",
       "        text-align: right;\n",
       "    }\n",
       "</style>\n",
       "<table border=\"1\" class=\"dataframe\">\n",
       "  <thead>\n",
       "    <tr style=\"text-align: right;\">\n",
       "      <th></th>\n",
       "      <th>Country</th>\n",
       "    </tr>\n",
       "    <tr>\n",
       "      <th>Country</th>\n",
       "      <th></th>\n",
       "    </tr>\n",
       "  </thead>\n",
       "  <tbody>\n",
       "    <tr>\n",
       "      <th>Bangladesh</th>\n",
       "      <td>2</td>\n",
       "    </tr>\n",
       "    <tr>\n",
       "      <th>India</th>\n",
       "      <td>79</td>\n",
       "    </tr>\n",
       "  </tbody>\n",
       "</table>\n",
       "</div>"
      ],
      "text/plain": [
       "            Country\n",
       "Country            \n",
       "Bangladesh        2\n",
       "India            79"
      ]
     },
     "execution_count": 68,
     "metadata": {},
     "output_type": "execute_result"
    }
   ],
   "source": [
    "#collega data counting all college\n",
    "nolaptop3 = nolaptop.groupby('Country')['Country'].agg('count')\n",
    "no_laptop_country= pd.DataFrame(nolaptop3)\n",
    "no_laptop_country"
   ]
  },
  {
   "cell_type": "code",
   "execution_count": 69,
   "metadata": {},
   "outputs": [
    {
     "data": {
      "text/html": [
       "<div>\n",
       "<style scoped>\n",
       "    .dataframe tbody tr th:only-of-type {\n",
       "        vertical-align: middle;\n",
       "    }\n",
       "\n",
       "    .dataframe tbody tr th {\n",
       "        vertical-align: top;\n",
       "    }\n",
       "\n",
       "    .dataframe thead th {\n",
       "        text-align: right;\n",
       "    }\n",
       "</style>\n",
       "<table border=\"1\" class=\"dataframe\">\n",
       "  <thead>\n",
       "    <tr style=\"text-align: right;\">\n",
       "      <th></th>\n",
       "      <th>no_laptop_counts</th>\n",
       "    </tr>\n",
       "    <tr>\n",
       "      <th>Country</th>\n",
       "      <th></th>\n",
       "    </tr>\n",
       "  </thead>\n",
       "  <tbody>\n",
       "    <tr>\n",
       "      <th>Bangladesh</th>\n",
       "      <td>2</td>\n",
       "    </tr>\n",
       "    <tr>\n",
       "      <th>India</th>\n",
       "      <td>79</td>\n",
       "    </tr>\n",
       "  </tbody>\n",
       "</table>\n",
       "</div>"
      ],
      "text/plain": [
       "            no_laptop_counts\n",
       "Country                     \n",
       "Bangladesh                 2\n",
       "India                     79"
      ]
     },
     "execution_count": 69,
     "metadata": {},
     "output_type": "execute_result"
    }
   ],
   "source": [
    "#renameing to total_counts of department data\n",
    "no_laptop_country.rename(columns={\"Country\": \"no_laptop_counts\"},inplace=True)\n",
    "no_laptop_country"
   ]
  },
  {
   "cell_type": "code",
   "execution_count": 70,
   "metadata": {},
   "outputs": [
    {
     "data": {
      "text/html": [
       "<div>\n",
       "<style scoped>\n",
       "    .dataframe tbody tr th:only-of-type {\n",
       "        vertical-align: middle;\n",
       "    }\n",
       "\n",
       "    .dataframe tbody tr th {\n",
       "        vertical-align: top;\n",
       "    }\n",
       "\n",
       "    .dataframe thead th {\n",
       "        text-align: right;\n",
       "    }\n",
       "</style>\n",
       "<table border=\"1\" class=\"dataframe\">\n",
       "  <thead>\n",
       "    <tr style=\"text-align: right;\">\n",
       "      <th></th>\n",
       "      <th>Country</th>\n",
       "      <th>no_laptop_counts</th>\n",
       "    </tr>\n",
       "  </thead>\n",
       "  <tbody>\n",
       "    <tr>\n",
       "      <th>0</th>\n",
       "      <td>Bangladesh</td>\n",
       "      <td>2</td>\n",
       "    </tr>\n",
       "    <tr>\n",
       "      <th>1</th>\n",
       "      <td>India</td>\n",
       "      <td>79</td>\n",
       "    </tr>\n",
       "  </tbody>\n",
       "</table>\n",
       "</div>"
      ],
      "text/plain": [
       "      Country  no_laptop_counts\n",
       "0  Bangladesh                 2\n",
       "1       India                79"
      ]
     },
     "execution_count": 70,
     "metadata": {},
     "output_type": "execute_result"
    }
   ],
   "source": [
    "no_laptop_country.reset_index(inplace=True)\n",
    "no_laptop_country"
   ]
  },
  {
   "cell_type": "code",
   "execution_count": 71,
   "metadata": {},
   "outputs": [
    {
     "data": {
      "application/vnd.plotly.v1+json": {
       "config": {
        "linkText": "Export to plot.ly",
        "plotlyServerURL": "https://plot.ly",
        "showLink": false
       },
       "data": [
        {
         "marker": {
          "color": "lightgreen"
         },
         "text": [
          "India",
          "Bangladesh"
         ],
         "type": "bar",
         "x": [
          "India",
          "Bangladesh"
         ],
         "y": [
          79,
          2
         ]
        }
       ],
       "layout": {
        "hovermode": "closest",
        "paper_bgcolor": "rgba(0, 0, 0, 0)",
        "plot_bgcolor": "rgba(0, 0, 0, 0)",
        "template": {
         "data": {
          "bar": [
           {
            "error_x": {
             "color": "#2a3f5f"
            },
            "error_y": {
             "color": "#2a3f5f"
            },
            "marker": {
             "line": {
              "color": "#E5ECF6",
              "width": 0.5
             }
            },
            "type": "bar"
           }
          ],
          "barpolar": [
           {
            "marker": {
             "line": {
              "color": "#E5ECF6",
              "width": 0.5
             }
            },
            "type": "barpolar"
           }
          ],
          "carpet": [
           {
            "aaxis": {
             "endlinecolor": "#2a3f5f",
             "gridcolor": "white",
             "linecolor": "white",
             "minorgridcolor": "white",
             "startlinecolor": "#2a3f5f"
            },
            "baxis": {
             "endlinecolor": "#2a3f5f",
             "gridcolor": "white",
             "linecolor": "white",
             "minorgridcolor": "white",
             "startlinecolor": "#2a3f5f"
            },
            "type": "carpet"
           }
          ],
          "choropleth": [
           {
            "colorbar": {
             "outlinewidth": 0,
             "ticks": ""
            },
            "type": "choropleth"
           }
          ],
          "contour": [
           {
            "colorbar": {
             "outlinewidth": 0,
             "ticks": ""
            },
            "colorscale": [
             [
              0,
              "#0d0887"
             ],
             [
              0.1111111111111111,
              "#46039f"
             ],
             [
              0.2222222222222222,
              "#7201a8"
             ],
             [
              0.3333333333333333,
              "#9c179e"
             ],
             [
              0.4444444444444444,
              "#bd3786"
             ],
             [
              0.5555555555555556,
              "#d8576b"
             ],
             [
              0.6666666666666666,
              "#ed7953"
             ],
             [
              0.7777777777777778,
              "#fb9f3a"
             ],
             [
              0.8888888888888888,
              "#fdca26"
             ],
             [
              1,
              "#f0f921"
             ]
            ],
            "type": "contour"
           }
          ],
          "contourcarpet": [
           {
            "colorbar": {
             "outlinewidth": 0,
             "ticks": ""
            },
            "type": "contourcarpet"
           }
          ],
          "heatmap": [
           {
            "colorbar": {
             "outlinewidth": 0,
             "ticks": ""
            },
            "colorscale": [
             [
              0,
              "#0d0887"
             ],
             [
              0.1111111111111111,
              "#46039f"
             ],
             [
              0.2222222222222222,
              "#7201a8"
             ],
             [
              0.3333333333333333,
              "#9c179e"
             ],
             [
              0.4444444444444444,
              "#bd3786"
             ],
             [
              0.5555555555555556,
              "#d8576b"
             ],
             [
              0.6666666666666666,
              "#ed7953"
             ],
             [
              0.7777777777777778,
              "#fb9f3a"
             ],
             [
              0.8888888888888888,
              "#fdca26"
             ],
             [
              1,
              "#f0f921"
             ]
            ],
            "type": "heatmap"
           }
          ],
          "heatmapgl": [
           {
            "colorbar": {
             "outlinewidth": 0,
             "ticks": ""
            },
            "colorscale": [
             [
              0,
              "#0d0887"
             ],
             [
              0.1111111111111111,
              "#46039f"
             ],
             [
              0.2222222222222222,
              "#7201a8"
             ],
             [
              0.3333333333333333,
              "#9c179e"
             ],
             [
              0.4444444444444444,
              "#bd3786"
             ],
             [
              0.5555555555555556,
              "#d8576b"
             ],
             [
              0.6666666666666666,
              "#ed7953"
             ],
             [
              0.7777777777777778,
              "#fb9f3a"
             ],
             [
              0.8888888888888888,
              "#fdca26"
             ],
             [
              1,
              "#f0f921"
             ]
            ],
            "type": "heatmapgl"
           }
          ],
          "histogram": [
           {
            "marker": {
             "colorbar": {
              "outlinewidth": 0,
              "ticks": ""
             }
            },
            "type": "histogram"
           }
          ],
          "histogram2d": [
           {
            "colorbar": {
             "outlinewidth": 0,
             "ticks": ""
            },
            "colorscale": [
             [
              0,
              "#0d0887"
             ],
             [
              0.1111111111111111,
              "#46039f"
             ],
             [
              0.2222222222222222,
              "#7201a8"
             ],
             [
              0.3333333333333333,
              "#9c179e"
             ],
             [
              0.4444444444444444,
              "#bd3786"
             ],
             [
              0.5555555555555556,
              "#d8576b"
             ],
             [
              0.6666666666666666,
              "#ed7953"
             ],
             [
              0.7777777777777778,
              "#fb9f3a"
             ],
             [
              0.8888888888888888,
              "#fdca26"
             ],
             [
              1,
              "#f0f921"
             ]
            ],
            "type": "histogram2d"
           }
          ],
          "histogram2dcontour": [
           {
            "colorbar": {
             "outlinewidth": 0,
             "ticks": ""
            },
            "colorscale": [
             [
              0,
              "#0d0887"
             ],
             [
              0.1111111111111111,
              "#46039f"
             ],
             [
              0.2222222222222222,
              "#7201a8"
             ],
             [
              0.3333333333333333,
              "#9c179e"
             ],
             [
              0.4444444444444444,
              "#bd3786"
             ],
             [
              0.5555555555555556,
              "#d8576b"
             ],
             [
              0.6666666666666666,
              "#ed7953"
             ],
             [
              0.7777777777777778,
              "#fb9f3a"
             ],
             [
              0.8888888888888888,
              "#fdca26"
             ],
             [
              1,
              "#f0f921"
             ]
            ],
            "type": "histogram2dcontour"
           }
          ],
          "mesh3d": [
           {
            "colorbar": {
             "outlinewidth": 0,
             "ticks": ""
            },
            "type": "mesh3d"
           }
          ],
          "parcoords": [
           {
            "line": {
             "colorbar": {
              "outlinewidth": 0,
              "ticks": ""
             }
            },
            "type": "parcoords"
           }
          ],
          "pie": [
           {
            "automargin": true,
            "type": "pie"
           }
          ],
          "scatter": [
           {
            "marker": {
             "colorbar": {
              "outlinewidth": 0,
              "ticks": ""
             }
            },
            "type": "scatter"
           }
          ],
          "scatter3d": [
           {
            "line": {
             "colorbar": {
              "outlinewidth": 0,
              "ticks": ""
             }
            },
            "marker": {
             "colorbar": {
              "outlinewidth": 0,
              "ticks": ""
             }
            },
            "type": "scatter3d"
           }
          ],
          "scattercarpet": [
           {
            "marker": {
             "colorbar": {
              "outlinewidth": 0,
              "ticks": ""
             }
            },
            "type": "scattercarpet"
           }
          ],
          "scattergeo": [
           {
            "marker": {
             "colorbar": {
              "outlinewidth": 0,
              "ticks": ""
             }
            },
            "type": "scattergeo"
           }
          ],
          "scattergl": [
           {
            "marker": {
             "colorbar": {
              "outlinewidth": 0,
              "ticks": ""
             }
            },
            "type": "scattergl"
           }
          ],
          "scattermapbox": [
           {
            "marker": {
             "colorbar": {
              "outlinewidth": 0,
              "ticks": ""
             }
            },
            "type": "scattermapbox"
           }
          ],
          "scatterpolar": [
           {
            "marker": {
             "colorbar": {
              "outlinewidth": 0,
              "ticks": ""
             }
            },
            "type": "scatterpolar"
           }
          ],
          "scatterpolargl": [
           {
            "marker": {
             "colorbar": {
              "outlinewidth": 0,
              "ticks": ""
             }
            },
            "type": "scatterpolargl"
           }
          ],
          "scatterternary": [
           {
            "marker": {
             "colorbar": {
              "outlinewidth": 0,
              "ticks": ""
             }
            },
            "type": "scatterternary"
           }
          ],
          "surface": [
           {
            "colorbar": {
             "outlinewidth": 0,
             "ticks": ""
            },
            "colorscale": [
             [
              0,
              "#0d0887"
             ],
             [
              0.1111111111111111,
              "#46039f"
             ],
             [
              0.2222222222222222,
              "#7201a8"
             ],
             [
              0.3333333333333333,
              "#9c179e"
             ],
             [
              0.4444444444444444,
              "#bd3786"
             ],
             [
              0.5555555555555556,
              "#d8576b"
             ],
             [
              0.6666666666666666,
              "#ed7953"
             ],
             [
              0.7777777777777778,
              "#fb9f3a"
             ],
             [
              0.8888888888888888,
              "#fdca26"
             ],
             [
              1,
              "#f0f921"
             ]
            ],
            "type": "surface"
           }
          ],
          "table": [
           {
            "cells": {
             "fill": {
              "color": "#EBF0F8"
             },
             "line": {
              "color": "white"
             }
            },
            "header": {
             "fill": {
              "color": "#C8D4E3"
             },
             "line": {
              "color": "white"
             }
            },
            "type": "table"
           }
          ]
         },
         "layout": {
          "annotationdefaults": {
           "arrowcolor": "#2a3f5f",
           "arrowhead": 0,
           "arrowwidth": 1
          },
          "autotypenumbers": "strict",
          "coloraxis": {
           "colorbar": {
            "outlinewidth": 0,
            "ticks": ""
           }
          },
          "colorscale": {
           "diverging": [
            [
             0,
             "#8e0152"
            ],
            [
             0.1,
             "#c51b7d"
            ],
            [
             0.2,
             "#de77ae"
            ],
            [
             0.3,
             "#f1b6da"
            ],
            [
             0.4,
             "#fde0ef"
            ],
            [
             0.5,
             "#f7f7f7"
            ],
            [
             0.6,
             "#e6f5d0"
            ],
            [
             0.7,
             "#b8e186"
            ],
            [
             0.8,
             "#7fbc41"
            ],
            [
             0.9,
             "#4d9221"
            ],
            [
             1,
             "#276419"
            ]
           ],
           "sequential": [
            [
             0,
             "#0d0887"
            ],
            [
             0.1111111111111111,
             "#46039f"
            ],
            [
             0.2222222222222222,
             "#7201a8"
            ],
            [
             0.3333333333333333,
             "#9c179e"
            ],
            [
             0.4444444444444444,
             "#bd3786"
            ],
            [
             0.5555555555555556,
             "#d8576b"
            ],
            [
             0.6666666666666666,
             "#ed7953"
            ],
            [
             0.7777777777777778,
             "#fb9f3a"
            ],
            [
             0.8888888888888888,
             "#fdca26"
            ],
            [
             1,
             "#f0f921"
            ]
           ],
           "sequentialminus": [
            [
             0,
             "#0d0887"
            ],
            [
             0.1111111111111111,
             "#46039f"
            ],
            [
             0.2222222222222222,
             "#7201a8"
            ],
            [
             0.3333333333333333,
             "#9c179e"
            ],
            [
             0.4444444444444444,
             "#bd3786"
            ],
            [
             0.5555555555555556,
             "#d8576b"
            ],
            [
             0.6666666666666666,
             "#ed7953"
            ],
            [
             0.7777777777777778,
             "#fb9f3a"
            ],
            [
             0.8888888888888888,
             "#fdca26"
            ],
            [
             1,
             "#f0f921"
            ]
           ]
          },
          "colorway": [
           "#636efa",
           "#EF553B",
           "#00cc96",
           "#ab63fa",
           "#FFA15A",
           "#19d3f3",
           "#FF6692",
           "#B6E880",
           "#FF97FF",
           "#FECB52"
          ],
          "font": {
           "color": "#2a3f5f"
          },
          "geo": {
           "bgcolor": "white",
           "lakecolor": "white",
           "landcolor": "#E5ECF6",
           "showlakes": true,
           "showland": true,
           "subunitcolor": "white"
          },
          "hoverlabel": {
           "align": "left"
          },
          "hovermode": "closest",
          "mapbox": {
           "style": "light"
          },
          "paper_bgcolor": "white",
          "plot_bgcolor": "#E5ECF6",
          "polar": {
           "angularaxis": {
            "gridcolor": "white",
            "linecolor": "white",
            "ticks": ""
           },
           "bgcolor": "#E5ECF6",
           "radialaxis": {
            "gridcolor": "white",
            "linecolor": "white",
            "ticks": ""
           }
          },
          "scene": {
           "xaxis": {
            "backgroundcolor": "#E5ECF6",
            "gridcolor": "white",
            "gridwidth": 2,
            "linecolor": "white",
            "showbackground": true,
            "ticks": "",
            "zerolinecolor": "white"
           },
           "yaxis": {
            "backgroundcolor": "#E5ECF6",
            "gridcolor": "white",
            "gridwidth": 2,
            "linecolor": "white",
            "showbackground": true,
            "ticks": "",
            "zerolinecolor": "white"
           },
           "zaxis": {
            "backgroundcolor": "#E5ECF6",
            "gridcolor": "white",
            "gridwidth": 2,
            "linecolor": "white",
            "showbackground": true,
            "ticks": "",
            "zerolinecolor": "white"
           }
          },
          "shapedefaults": {
           "line": {
            "color": "#2a3f5f"
           }
          },
          "ternary": {
           "aaxis": {
            "gridcolor": "white",
            "linecolor": "white",
            "ticks": ""
           },
           "baxis": {
            "gridcolor": "white",
            "linecolor": "white",
            "ticks": ""
           },
           "bgcolor": "#E5ECF6",
           "caxis": {
            "gridcolor": "white",
            "linecolor": "white",
            "ticks": ""
           }
          },
          "title": {
           "x": 0.05
          },
          "xaxis": {
           "automargin": true,
           "gridcolor": "white",
           "linecolor": "white",
           "ticks": "",
           "title": {
            "standoff": 15
           },
           "zerolinecolor": "white",
           "zerolinewidth": 2
          },
          "yaxis": {
           "automargin": true,
           "gridcolor": "white",
           "linecolor": "white",
           "ticks": "",
           "title": {
            "standoff": 15
           },
           "zerolinecolor": "white",
           "zerolinewidth": 2
          }
         }
        },
        "title": {
         "text": "Free Session total Student from Country did not have laptop "
        },
        "xaxis": {
         "linecolor": "black",
         "linewidth": 2,
         "mirror": true,
         "showline": true,
         "showticklabels": true,
         "tickangle": 45,
         "tickfont": {
          "color": "red",
          "size": 10
         },
         "title": {
          "text": "Country Name"
         },
         "zeroline": true,
         "zerolinecolor": "grey",
         "zerolinewidth": 1
        },
        "yaxis": {
         "gridcolor": "lightgrey",
         "linecolor": "black",
         "linewidth": 2,
         "mirror": true,
         "showline": true,
         "title": {
          "text": "Total Students"
         },
         "zeroline": true,
         "zerolinecolor": "grey",
         "zerolinewidth": 1
        }
       }
      },
      "text/html": [
       "<div>                            <div id=\"32218053-a084-472a-bc6c-b9f5c91df052\" class=\"plotly-graph-div\" style=\"height:525px; width:100%;\"></div>            <script type=\"text/javascript\">                require([\"plotly\"], function(Plotly) {                    window.PLOTLYENV=window.PLOTLYENV || {};                                    if (document.getElementById(\"32218053-a084-472a-bc6c-b9f5c91df052\")) {                    Plotly.newPlot(                        \"32218053-a084-472a-bc6c-b9f5c91df052\",                        [{\"marker\": {\"color\": \"lightgreen\"}, \"text\": [\"India\", \"Bangladesh\"], \"type\": \"bar\", \"x\": [\"India\", \"Bangladesh\"], \"y\": [79, 2]}],                        {\"hovermode\": \"closest\", \"paper_bgcolor\": \"rgba(0, 0, 0, 0)\", \"plot_bgcolor\": \"rgba(0, 0, 0, 0)\", \"template\": {\"data\": {\"bar\": [{\"error_x\": {\"color\": \"#2a3f5f\"}, \"error_y\": {\"color\": \"#2a3f5f\"}, \"marker\": {\"line\": {\"color\": \"#E5ECF6\", \"width\": 0.5}}, \"type\": \"bar\"}], \"barpolar\": [{\"marker\": {\"line\": {\"color\": \"#E5ECF6\", \"width\": 0.5}}, \"type\": \"barpolar\"}], \"carpet\": [{\"aaxis\": {\"endlinecolor\": \"#2a3f5f\", \"gridcolor\": \"white\", \"linecolor\": \"white\", \"minorgridcolor\": \"white\", \"startlinecolor\": \"#2a3f5f\"}, \"baxis\": {\"endlinecolor\": \"#2a3f5f\", \"gridcolor\": \"white\", \"linecolor\": \"white\", \"minorgridcolor\": \"white\", \"startlinecolor\": \"#2a3f5f\"}, \"type\": \"carpet\"}], \"choropleth\": [{\"colorbar\": {\"outlinewidth\": 0, \"ticks\": \"\"}, \"type\": \"choropleth\"}], \"contour\": [{\"colorbar\": {\"outlinewidth\": 0, \"ticks\": \"\"}, \"colorscale\": [[0.0, \"#0d0887\"], [0.1111111111111111, \"#46039f\"], [0.2222222222222222, \"#7201a8\"], [0.3333333333333333, \"#9c179e\"], [0.4444444444444444, \"#bd3786\"], [0.5555555555555556, \"#d8576b\"], [0.6666666666666666, \"#ed7953\"], [0.7777777777777778, \"#fb9f3a\"], [0.8888888888888888, \"#fdca26\"], [1.0, \"#f0f921\"]], \"type\": \"contour\"}], \"contourcarpet\": [{\"colorbar\": {\"outlinewidth\": 0, \"ticks\": \"\"}, \"type\": \"contourcarpet\"}], \"heatmap\": [{\"colorbar\": {\"outlinewidth\": 0, \"ticks\": \"\"}, \"colorscale\": [[0.0, \"#0d0887\"], [0.1111111111111111, \"#46039f\"], [0.2222222222222222, \"#7201a8\"], [0.3333333333333333, \"#9c179e\"], [0.4444444444444444, \"#bd3786\"], [0.5555555555555556, \"#d8576b\"], [0.6666666666666666, \"#ed7953\"], [0.7777777777777778, \"#fb9f3a\"], [0.8888888888888888, \"#fdca26\"], [1.0, \"#f0f921\"]], \"type\": \"heatmap\"}], \"heatmapgl\": [{\"colorbar\": {\"outlinewidth\": 0, \"ticks\": \"\"}, \"colorscale\": [[0.0, \"#0d0887\"], [0.1111111111111111, \"#46039f\"], [0.2222222222222222, \"#7201a8\"], [0.3333333333333333, \"#9c179e\"], [0.4444444444444444, \"#bd3786\"], [0.5555555555555556, \"#d8576b\"], [0.6666666666666666, \"#ed7953\"], [0.7777777777777778, \"#fb9f3a\"], [0.8888888888888888, \"#fdca26\"], [1.0, \"#f0f921\"]], \"type\": \"heatmapgl\"}], \"histogram\": [{\"marker\": {\"colorbar\": {\"outlinewidth\": 0, \"ticks\": \"\"}}, \"type\": \"histogram\"}], \"histogram2d\": [{\"colorbar\": {\"outlinewidth\": 0, \"ticks\": \"\"}, \"colorscale\": [[0.0, \"#0d0887\"], [0.1111111111111111, \"#46039f\"], [0.2222222222222222, \"#7201a8\"], [0.3333333333333333, \"#9c179e\"], [0.4444444444444444, \"#bd3786\"], [0.5555555555555556, \"#d8576b\"], [0.6666666666666666, \"#ed7953\"], [0.7777777777777778, \"#fb9f3a\"], [0.8888888888888888, \"#fdca26\"], [1.0, \"#f0f921\"]], \"type\": \"histogram2d\"}], \"histogram2dcontour\": [{\"colorbar\": {\"outlinewidth\": 0, \"ticks\": \"\"}, \"colorscale\": [[0.0, \"#0d0887\"], [0.1111111111111111, \"#46039f\"], [0.2222222222222222, \"#7201a8\"], [0.3333333333333333, \"#9c179e\"], [0.4444444444444444, \"#bd3786\"], [0.5555555555555556, \"#d8576b\"], [0.6666666666666666, \"#ed7953\"], [0.7777777777777778, \"#fb9f3a\"], [0.8888888888888888, \"#fdca26\"], [1.0, \"#f0f921\"]], \"type\": \"histogram2dcontour\"}], \"mesh3d\": [{\"colorbar\": {\"outlinewidth\": 0, \"ticks\": \"\"}, \"type\": \"mesh3d\"}], \"parcoords\": [{\"line\": {\"colorbar\": {\"outlinewidth\": 0, \"ticks\": \"\"}}, \"type\": \"parcoords\"}], \"pie\": [{\"automargin\": true, \"type\": \"pie\"}], \"scatter\": [{\"marker\": {\"colorbar\": {\"outlinewidth\": 0, \"ticks\": \"\"}}, \"type\": \"scatter\"}], \"scatter3d\": [{\"line\": {\"colorbar\": {\"outlinewidth\": 0, \"ticks\": \"\"}}, \"marker\": {\"colorbar\": {\"outlinewidth\": 0, \"ticks\": \"\"}}, \"type\": \"scatter3d\"}], \"scattercarpet\": [{\"marker\": {\"colorbar\": {\"outlinewidth\": 0, \"ticks\": \"\"}}, \"type\": \"scattercarpet\"}], \"scattergeo\": [{\"marker\": {\"colorbar\": {\"outlinewidth\": 0, \"ticks\": \"\"}}, \"type\": \"scattergeo\"}], \"scattergl\": [{\"marker\": {\"colorbar\": {\"outlinewidth\": 0, \"ticks\": \"\"}}, \"type\": \"scattergl\"}], \"scattermapbox\": [{\"marker\": {\"colorbar\": {\"outlinewidth\": 0, \"ticks\": \"\"}}, \"type\": \"scattermapbox\"}], \"scatterpolar\": [{\"marker\": {\"colorbar\": {\"outlinewidth\": 0, \"ticks\": \"\"}}, \"type\": \"scatterpolar\"}], \"scatterpolargl\": [{\"marker\": {\"colorbar\": {\"outlinewidth\": 0, \"ticks\": \"\"}}, \"type\": \"scatterpolargl\"}], \"scatterternary\": [{\"marker\": {\"colorbar\": {\"outlinewidth\": 0, \"ticks\": \"\"}}, \"type\": \"scatterternary\"}], \"surface\": [{\"colorbar\": {\"outlinewidth\": 0, \"ticks\": \"\"}, \"colorscale\": [[0.0, \"#0d0887\"], [0.1111111111111111, \"#46039f\"], [0.2222222222222222, \"#7201a8\"], [0.3333333333333333, \"#9c179e\"], [0.4444444444444444, \"#bd3786\"], [0.5555555555555556, \"#d8576b\"], [0.6666666666666666, \"#ed7953\"], [0.7777777777777778, \"#fb9f3a\"], [0.8888888888888888, \"#fdca26\"], [1.0, \"#f0f921\"]], \"type\": \"surface\"}], \"table\": [{\"cells\": {\"fill\": {\"color\": \"#EBF0F8\"}, \"line\": {\"color\": \"white\"}}, \"header\": {\"fill\": {\"color\": \"#C8D4E3\"}, \"line\": {\"color\": \"white\"}}, \"type\": \"table\"}]}, \"layout\": {\"annotationdefaults\": {\"arrowcolor\": \"#2a3f5f\", \"arrowhead\": 0, \"arrowwidth\": 1}, \"autotypenumbers\": \"strict\", \"coloraxis\": {\"colorbar\": {\"outlinewidth\": 0, \"ticks\": \"\"}}, \"colorscale\": {\"diverging\": [[0, \"#8e0152\"], [0.1, \"#c51b7d\"], [0.2, \"#de77ae\"], [0.3, \"#f1b6da\"], [0.4, \"#fde0ef\"], [0.5, \"#f7f7f7\"], [0.6, \"#e6f5d0\"], [0.7, \"#b8e186\"], [0.8, \"#7fbc41\"], [0.9, \"#4d9221\"], [1, \"#276419\"]], \"sequential\": [[0.0, \"#0d0887\"], [0.1111111111111111, \"#46039f\"], [0.2222222222222222, \"#7201a8\"], [0.3333333333333333, \"#9c179e\"], [0.4444444444444444, \"#bd3786\"], [0.5555555555555556, \"#d8576b\"], [0.6666666666666666, \"#ed7953\"], [0.7777777777777778, \"#fb9f3a\"], [0.8888888888888888, \"#fdca26\"], [1.0, \"#f0f921\"]], \"sequentialminus\": [[0.0, \"#0d0887\"], [0.1111111111111111, \"#46039f\"], [0.2222222222222222, \"#7201a8\"], [0.3333333333333333, \"#9c179e\"], [0.4444444444444444, \"#bd3786\"], [0.5555555555555556, \"#d8576b\"], [0.6666666666666666, \"#ed7953\"], [0.7777777777777778, \"#fb9f3a\"], [0.8888888888888888, \"#fdca26\"], [1.0, \"#f0f921\"]]}, \"colorway\": [\"#636efa\", \"#EF553B\", \"#00cc96\", \"#ab63fa\", \"#FFA15A\", \"#19d3f3\", \"#FF6692\", \"#B6E880\", \"#FF97FF\", \"#FECB52\"], \"font\": {\"color\": \"#2a3f5f\"}, \"geo\": {\"bgcolor\": \"white\", \"lakecolor\": \"white\", \"landcolor\": \"#E5ECF6\", \"showlakes\": true, \"showland\": true, \"subunitcolor\": \"white\"}, \"hoverlabel\": {\"align\": \"left\"}, \"hovermode\": \"closest\", \"mapbox\": {\"style\": \"light\"}, \"paper_bgcolor\": \"white\", \"plot_bgcolor\": \"#E5ECF6\", \"polar\": {\"angularaxis\": {\"gridcolor\": \"white\", \"linecolor\": \"white\", \"ticks\": \"\"}, \"bgcolor\": \"#E5ECF6\", \"radialaxis\": {\"gridcolor\": \"white\", \"linecolor\": \"white\", \"ticks\": \"\"}}, \"scene\": {\"xaxis\": {\"backgroundcolor\": \"#E5ECF6\", \"gridcolor\": \"white\", \"gridwidth\": 2, \"linecolor\": \"white\", \"showbackground\": true, \"ticks\": \"\", \"zerolinecolor\": \"white\"}, \"yaxis\": {\"backgroundcolor\": \"#E5ECF6\", \"gridcolor\": \"white\", \"gridwidth\": 2, \"linecolor\": \"white\", \"showbackground\": true, \"ticks\": \"\", \"zerolinecolor\": \"white\"}, \"zaxis\": {\"backgroundcolor\": \"#E5ECF6\", \"gridcolor\": \"white\", \"gridwidth\": 2, \"linecolor\": \"white\", \"showbackground\": true, \"ticks\": \"\", \"zerolinecolor\": \"white\"}}, \"shapedefaults\": {\"line\": {\"color\": \"#2a3f5f\"}}, \"ternary\": {\"aaxis\": {\"gridcolor\": \"white\", \"linecolor\": \"white\", \"ticks\": \"\"}, \"baxis\": {\"gridcolor\": \"white\", \"linecolor\": \"white\", \"ticks\": \"\"}, \"bgcolor\": \"#E5ECF6\", \"caxis\": {\"gridcolor\": \"white\", \"linecolor\": \"white\", \"ticks\": \"\"}}, \"title\": {\"x\": 0.05}, \"xaxis\": {\"automargin\": true, \"gridcolor\": \"white\", \"linecolor\": \"white\", \"ticks\": \"\", \"title\": {\"standoff\": 15}, \"zerolinecolor\": \"white\", \"zerolinewidth\": 2}, \"yaxis\": {\"automargin\": true, \"gridcolor\": \"white\", \"linecolor\": \"white\", \"ticks\": \"\", \"title\": {\"standoff\": 15}, \"zerolinecolor\": \"white\", \"zerolinewidth\": 2}}}, \"title\": {\"text\": \"Free Session total Student from Country did not have laptop \"}, \"xaxis\": {\"linecolor\": \"black\", \"linewidth\": 2, \"mirror\": true, \"showline\": true, \"showticklabels\": true, \"tickangle\": 45, \"tickfont\": {\"color\": \"red\", \"size\": 10}, \"title\": {\"text\": \"Country Name\"}, \"zeroline\": true, \"zerolinecolor\": \"grey\", \"zerolinewidth\": 1}, \"yaxis\": {\"gridcolor\": \"lightgrey\", \"linecolor\": \"black\", \"linewidth\": 2, \"mirror\": true, \"showline\": true, \"title\": {\"text\": \"Total Students\"}, \"zeroline\": true, \"zerolinecolor\": \"grey\", \"zerolinewidth\": 1}},                        {\"responsive\": true}                    ).then(function(){\n",
       "                            \n",
       "var gd = document.getElementById('32218053-a084-472a-bc6c-b9f5c91df052');\n",
       "var x = new MutationObserver(function (mutations, observer) {{\n",
       "        var display = window.getComputedStyle(gd).display;\n",
       "        if (!display || display === 'none') {{\n",
       "            console.log([gd, 'removed!']);\n",
       "            Plotly.purge(gd);\n",
       "            observer.disconnect();\n",
       "        }}\n",
       "}});\n",
       "\n",
       "// Listen for the removal of the full notebook cells\n",
       "var notebookContainer = gd.closest('#notebook-container');\n",
       "if (notebookContainer) {{\n",
       "    x.observe(notebookContainer, {childList: true});\n",
       "}}\n",
       "\n",
       "// Listen for the clearing of the current output cell\n",
       "var outputEl = gd.closest('.output');\n",
       "if (outputEl) {{\n",
       "    x.observe(outputEl, {childList: true});\n",
       "}}\n",
       "\n",
       "                        })                };                });            </script>        </div>"
      ]
     },
     "metadata": {},
     "output_type": "display_data"
    }
   ],
   "source": [
    "draw_trace_bar(no_laptop_country,'Country','no_laptop_counts','Free Session total Student from Country did not have laptop ', 'Country Name','Total Students',\"lightgreen\")"
   ]
  },
  {
   "cell_type": "code",
   "execution_count": null,
   "metadata": {},
   "outputs": [],
   "source": []
  },
  {
   "cell_type": "markdown",
   "metadata": {},
   "source": [
    "# Find out all types of source of communication. Show which type is the winner. (visualize them) (from free session dataset)"
   ]
  },
  {
   "cell_type": "code",
   "execution_count": 72,
   "metadata": {},
   "outputs": [
    {
     "data": {
      "text/html": [
       "<div>\n",
       "<style scoped>\n",
       "    .dataframe tbody tr th:only-of-type {\n",
       "        vertical-align: middle;\n",
       "    }\n",
       "\n",
       "    .dataframe tbody tr th {\n",
       "        vertical-align: top;\n",
       "    }\n",
       "\n",
       "    .dataframe thead th {\n",
       "        text-align: right;\n",
       "    }\n",
       "</style>\n",
       "<table border=\"1\" class=\"dataframe\">\n",
       "  <thead>\n",
       "    <tr style=\"text-align: right;\">\n",
       "      <th></th>\n",
       "      <th>Timestamp</th>\n",
       "      <th>Name</th>\n",
       "      <th>Contact</th>\n",
       "      <th>Email</th>\n",
       "      <th>College</th>\n",
       "      <th>Department</th>\n",
       "      <th>HasLaptop</th>\n",
       "      <th>Source</th>\n",
       "      <th>Country</th>\n",
       "    </tr>\n",
       "  </thead>\n",
       "  <tbody>\n",
       "    <tr>\n",
       "      <th>0</th>\n",
       "      <td>8/24/2020 17:01:39</td>\n",
       "      <td>A.S.M. Raquibul Hasan</td>\n",
       "      <td>01722577922</td>\n",
       "      <td>raquibul.nsu@gmail.com</td>\n",
       "      <td>United International University</td>\n",
       "      <td>others</td>\n",
       "      <td>Yes</td>\n",
       "      <td>Facebook</td>\n",
       "      <td>Bangladesh</td>\n",
       "    </tr>\n",
       "    <tr>\n",
       "      <th>1</th>\n",
       "      <td>8/24/2020 10:08:54</td>\n",
       "      <td>Abdullah</td>\n",
       "      <td>NaN</td>\n",
       "      <td>sharif3abdullah@gmail.com</td>\n",
       "      <td>IIT</td>\n",
       "      <td>Engineering</td>\n",
       "      <td>NaN</td>\n",
       "      <td>NaN</td>\n",
       "      <td>Bangladesh</td>\n",
       "    </tr>\n",
       "    <tr>\n",
       "      <th>2</th>\n",
       "      <td>8/24/2020 9:20:28</td>\n",
       "      <td>Abdullah Bin Murad</td>\n",
       "      <td>01552443554</td>\n",
       "      <td>abmrifat54@gmail.com</td>\n",
       "      <td>Shahjalal University of Science and Technology</td>\n",
       "      <td>Engineering</td>\n",
       "      <td>Yes</td>\n",
       "      <td>NaN</td>\n",
       "      <td>Bangladesh</td>\n",
       "    </tr>\n",
       "    <tr>\n",
       "      <th>3</th>\n",
       "      <td>7/28/2020 12:16:30</td>\n",
       "      <td>Abhijoy Mukherjee</td>\n",
       "      <td>7003206060</td>\n",
       "      <td>abhijoymukherjee01@gmail.com</td>\n",
       "      <td>Asutosh College</td>\n",
       "      <td>Statistics</td>\n",
       "      <td>Yes</td>\n",
       "      <td>Friend</td>\n",
       "      <td>India</td>\n",
       "    </tr>\n",
       "    <tr>\n",
       "      <th>4</th>\n",
       "      <td>7/10/2020 13:56:14</td>\n",
       "      <td>Abhipreeti Acharjee</td>\n",
       "      <td>8274839744</td>\n",
       "      <td>deepamandal007@gmail.com</td>\n",
       "      <td>DEPARTMENT OF PURE MATHEMATICS, UNIVERSITY OF ...</td>\n",
       "      <td>PURE MATHEMATICS</td>\n",
       "      <td>Yes</td>\n",
       "      <td>NaN</td>\n",
       "      <td>India</td>\n",
       "    </tr>\n",
       "    <tr>\n",
       "      <th>...</th>\n",
       "      <td>...</td>\n",
       "      <td>...</td>\n",
       "      <td>...</td>\n",
       "      <td>...</td>\n",
       "      <td>...</td>\n",
       "      <td>...</td>\n",
       "      <td>...</td>\n",
       "      <td>...</td>\n",
       "      <td>...</td>\n",
       "    </tr>\n",
       "    <tr>\n",
       "      <th>943</th>\n",
       "      <td>1/22/2021 22:06:24</td>\n",
       "      <td>Ramanish Banerjee</td>\n",
       "      <td>8017179702</td>\n",
       "      <td>banerjeeramanish@gmail.com</td>\n",
       "      <td>MAULANA AZAD COLLEGE</td>\n",
       "      <td>Honors (BSC/MSC)</td>\n",
       "      <td>Yes</td>\n",
       "      <td>NaN</td>\n",
       "      <td>NaN</td>\n",
       "    </tr>\n",
       "    <tr>\n",
       "      <th>944</th>\n",
       "      <td>1/22/2021 22:46:21</td>\n",
       "      <td>Jinia Banerjee</td>\n",
       "      <td>6289719175</td>\n",
       "      <td>jiniabanerjee9727@gmail.com</td>\n",
       "      <td>Maulona Azad College</td>\n",
       "      <td>Honors (BSC/MSC)</td>\n",
       "      <td>No</td>\n",
       "      <td>NaN</td>\n",
       "      <td>NaN</td>\n",
       "    </tr>\n",
       "    <tr>\n",
       "      <th>945</th>\n",
       "      <td>1/23/2021 10:57:08</td>\n",
       "      <td>Md Safiqul Islam</td>\n",
       "      <td>8250955315</td>\n",
       "      <td>safiqulislam6006@gmail.com</td>\n",
       "      <td>Maulana Azad College</td>\n",
       "      <td>Honors (BSC/MSC)</td>\n",
       "      <td>Yes</td>\n",
       "      <td>NaN</td>\n",
       "      <td>NaN</td>\n",
       "    </tr>\n",
       "    <tr>\n",
       "      <th>946</th>\n",
       "      <td>1/23/2021 12:27:32</td>\n",
       "      <td>Soumojit Chatterjee</td>\n",
       "      <td>8101726672</td>\n",
       "      <td>imsoumojit@yahoo.com</td>\n",
       "      <td>Maulana Azad College</td>\n",
       "      <td>Honors (BSC/MSC)</td>\n",
       "      <td>Yes</td>\n",
       "      <td>NaN</td>\n",
       "      <td>NaN</td>\n",
       "    </tr>\n",
       "    <tr>\n",
       "      <th>947</th>\n",
       "      <td>1/23/2021 17:37:35</td>\n",
       "      <td>Debanjan Bhattacharjee</td>\n",
       "      <td>6290909245</td>\n",
       "      <td>debanjanbhattacharjee2002@gmail.com</td>\n",
       "      <td>Maulana Azad College</td>\n",
       "      <td>Honors (BSC/MSC)</td>\n",
       "      <td>Yes</td>\n",
       "      <td>NaN</td>\n",
       "      <td>NaN</td>\n",
       "    </tr>\n",
       "  </tbody>\n",
       "</table>\n",
       "<p>947 rows × 9 columns</p>\n",
       "</div>"
      ],
      "text/plain": [
       "              Timestamp                    Name      Contact  \\\n",
       "0    8/24/2020 17:01:39  A.S.M. Raquibul Hasan   01722577922   \n",
       "1    8/24/2020 10:08:54                Abdullah          NaN   \n",
       "2     8/24/2020 9:20:28    Abdullah Bin Murad    01552443554   \n",
       "3    7/28/2020 12:16:30       Abhijoy Mukherjee   7003206060   \n",
       "4    7/10/2020 13:56:14     Abhipreeti Acharjee   8274839744   \n",
       "..                  ...                     ...          ...   \n",
       "943  1/22/2021 22:06:24       Ramanish Banerjee   8017179702   \n",
       "944  1/22/2021 22:46:21          Jinia Banerjee   6289719175   \n",
       "945  1/23/2021 10:57:08        Md Safiqul Islam   8250955315   \n",
       "946  1/23/2021 12:27:32     Soumojit Chatterjee   8101726672   \n",
       "947  1/23/2021 17:37:35  Debanjan Bhattacharjee   6290909245   \n",
       "\n",
       "                                   Email  \\\n",
       "0                 raquibul.nsu@gmail.com   \n",
       "1              sharif3abdullah@gmail.com   \n",
       "2                   abmrifat54@gmail.com   \n",
       "3           abhijoymukherjee01@gmail.com   \n",
       "4               deepamandal007@gmail.com   \n",
       "..                                   ...   \n",
       "943           banerjeeramanish@gmail.com   \n",
       "944          jiniabanerjee9727@gmail.com   \n",
       "945           safiqulislam6006@gmail.com   \n",
       "946                 imsoumojit@yahoo.com   \n",
       "947  debanjanbhattacharjee2002@gmail.com   \n",
       "\n",
       "                                               College        Department  \\\n",
       "0                     United International University             others   \n",
       "1                                                  IIT       Engineering   \n",
       "2       Shahjalal University of Science and Technology       Engineering   \n",
       "3                                      Asutosh College        Statistics   \n",
       "4    DEPARTMENT OF PURE MATHEMATICS, UNIVERSITY OF ...  PURE MATHEMATICS   \n",
       "..                                                 ...               ...   \n",
       "943                               MAULANA AZAD COLLEGE  Honors (BSC/MSC)   \n",
       "944                               Maulona Azad College  Honors (BSC/MSC)   \n",
       "945                               Maulana Azad College  Honors (BSC/MSC)   \n",
       "946                               Maulana Azad College  Honors (BSC/MSC)   \n",
       "947                               Maulana Azad College  Honors (BSC/MSC)   \n",
       "\n",
       "    HasLaptop     Source     Country  \n",
       "0         Yes  Facebook   Bangladesh  \n",
       "1         NaN        NaN  Bangladesh  \n",
       "2         Yes        NaN  Bangladesh  \n",
       "3         Yes     Friend       India  \n",
       "4         Yes        NaN       India  \n",
       "..        ...        ...         ...  \n",
       "943       Yes        NaN         NaN  \n",
       "944        No        NaN         NaN  \n",
       "945       Yes        NaN         NaN  \n",
       "946       Yes        NaN         NaN  \n",
       "947       Yes        NaN         NaN  \n",
       "\n",
       "[947 rows x 9 columns]"
      ]
     },
     "execution_count": 72,
     "metadata": {},
     "output_type": "execute_result"
    }
   ],
   "source": [
    "df3"
   ]
  },
  {
   "cell_type": "code",
   "execution_count": 73,
   "metadata": {},
   "outputs": [
    {
     "data": {
      "text/html": [
       "<div>\n",
       "<style scoped>\n",
       "    .dataframe tbody tr th:only-of-type {\n",
       "        vertical-align: middle;\n",
       "    }\n",
       "\n",
       "    .dataframe tbody tr th {\n",
       "        vertical-align: top;\n",
       "    }\n",
       "\n",
       "    .dataframe thead th {\n",
       "        text-align: right;\n",
       "    }\n",
       "</style>\n",
       "<table border=\"1\" class=\"dataframe\">\n",
       "  <thead>\n",
       "    <tr style=\"text-align: right;\">\n",
       "      <th></th>\n",
       "      <th>Timestamp</th>\n",
       "      <th>Name</th>\n",
       "      <th>Contact</th>\n",
       "      <th>Email</th>\n",
       "      <th>College</th>\n",
       "      <th>Department</th>\n",
       "      <th>HasLaptop</th>\n",
       "      <th>Source</th>\n",
       "      <th>Country</th>\n",
       "    </tr>\n",
       "  </thead>\n",
       "  <tbody>\n",
       "    <tr>\n",
       "      <th>1</th>\n",
       "      <td>8/24/2020 10:08:54</td>\n",
       "      <td>Abdullah</td>\n",
       "      <td>NaN</td>\n",
       "      <td>sharif3abdullah@gmail.com</td>\n",
       "      <td>IIT</td>\n",
       "      <td>Engineering</td>\n",
       "      <td>NaN</td>\n",
       "      <td>NaN</td>\n",
       "      <td>Bangladesh</td>\n",
       "    </tr>\n",
       "    <tr>\n",
       "      <th>2</th>\n",
       "      <td>8/24/2020 9:20:28</td>\n",
       "      <td>Abdullah Bin Murad</td>\n",
       "      <td>01552443554</td>\n",
       "      <td>abmrifat54@gmail.com</td>\n",
       "      <td>Shahjalal University of Science and Technology</td>\n",
       "      <td>Engineering</td>\n",
       "      <td>Yes</td>\n",
       "      <td>NaN</td>\n",
       "      <td>Bangladesh</td>\n",
       "    </tr>\n",
       "    <tr>\n",
       "      <th>4</th>\n",
       "      <td>7/10/2020 13:56:14</td>\n",
       "      <td>Abhipreeti Acharjee</td>\n",
       "      <td>8274839744</td>\n",
       "      <td>deepamandal007@gmail.com</td>\n",
       "      <td>DEPARTMENT OF PURE MATHEMATICS, UNIVERSITY OF ...</td>\n",
       "      <td>PURE MATHEMATICS</td>\n",
       "      <td>Yes</td>\n",
       "      <td>NaN</td>\n",
       "      <td>India</td>\n",
       "    </tr>\n",
       "    <tr>\n",
       "      <th>13</th>\n",
       "      <td>8/24/2020 18:28:59</td>\n",
       "      <td>Abu Nadif</td>\n",
       "      <td>01730011811</td>\n",
       "      <td>abunadif141414@gmail.com</td>\n",
       "      <td>AIUB</td>\n",
       "      <td>Engineering</td>\n",
       "      <td>Yes</td>\n",
       "      <td>NaN</td>\n",
       "      <td>Bangladesh</td>\n",
       "    </tr>\n",
       "    <tr>\n",
       "      <th>21</th>\n",
       "      <td>7/26/2020 20:25:34</td>\n",
       "      <td>Ajay Kumar Srivastva</td>\n",
       "      <td>7365842980</td>\n",
       "      <td>subhamsrivastava804@gmail.com</td>\n",
       "      <td>DIATM</td>\n",
       "      <td>CSE</td>\n",
       "      <td>Yes</td>\n",
       "      <td>NaN</td>\n",
       "      <td>India</td>\n",
       "    </tr>\n",
       "    <tr>\n",
       "      <th>...</th>\n",
       "      <td>...</td>\n",
       "      <td>...</td>\n",
       "      <td>...</td>\n",
       "      <td>...</td>\n",
       "      <td>...</td>\n",
       "      <td>...</td>\n",
       "      <td>...</td>\n",
       "      <td>...</td>\n",
       "      <td>...</td>\n",
       "    </tr>\n",
       "    <tr>\n",
       "      <th>943</th>\n",
       "      <td>1/22/2021 22:06:24</td>\n",
       "      <td>Ramanish Banerjee</td>\n",
       "      <td>8017179702</td>\n",
       "      <td>banerjeeramanish@gmail.com</td>\n",
       "      <td>MAULANA AZAD COLLEGE</td>\n",
       "      <td>Honors (BSC/MSC)</td>\n",
       "      <td>Yes</td>\n",
       "      <td>NaN</td>\n",
       "      <td>NaN</td>\n",
       "    </tr>\n",
       "    <tr>\n",
       "      <th>944</th>\n",
       "      <td>1/22/2021 22:46:21</td>\n",
       "      <td>Jinia Banerjee</td>\n",
       "      <td>6289719175</td>\n",
       "      <td>jiniabanerjee9727@gmail.com</td>\n",
       "      <td>Maulona Azad College</td>\n",
       "      <td>Honors (BSC/MSC)</td>\n",
       "      <td>No</td>\n",
       "      <td>NaN</td>\n",
       "      <td>NaN</td>\n",
       "    </tr>\n",
       "    <tr>\n",
       "      <th>945</th>\n",
       "      <td>1/23/2021 10:57:08</td>\n",
       "      <td>Md Safiqul Islam</td>\n",
       "      <td>8250955315</td>\n",
       "      <td>safiqulislam6006@gmail.com</td>\n",
       "      <td>Maulana Azad College</td>\n",
       "      <td>Honors (BSC/MSC)</td>\n",
       "      <td>Yes</td>\n",
       "      <td>NaN</td>\n",
       "      <td>NaN</td>\n",
       "    </tr>\n",
       "    <tr>\n",
       "      <th>946</th>\n",
       "      <td>1/23/2021 12:27:32</td>\n",
       "      <td>Soumojit Chatterjee</td>\n",
       "      <td>8101726672</td>\n",
       "      <td>imsoumojit@yahoo.com</td>\n",
       "      <td>Maulana Azad College</td>\n",
       "      <td>Honors (BSC/MSC)</td>\n",
       "      <td>Yes</td>\n",
       "      <td>NaN</td>\n",
       "      <td>NaN</td>\n",
       "    </tr>\n",
       "    <tr>\n",
       "      <th>947</th>\n",
       "      <td>1/23/2021 17:37:35</td>\n",
       "      <td>Debanjan Bhattacharjee</td>\n",
       "      <td>6290909245</td>\n",
       "      <td>debanjanbhattacharjee2002@gmail.com</td>\n",
       "      <td>Maulana Azad College</td>\n",
       "      <td>Honors (BSC/MSC)</td>\n",
       "      <td>Yes</td>\n",
       "      <td>NaN</td>\n",
       "      <td>NaN</td>\n",
       "    </tr>\n",
       "  </tbody>\n",
       "</table>\n",
       "<p>515 rows × 9 columns</p>\n",
       "</div>"
      ],
      "text/plain": [
       "              Timestamp                    Name      Contact  \\\n",
       "1    8/24/2020 10:08:54                Abdullah          NaN   \n",
       "2     8/24/2020 9:20:28    Abdullah Bin Murad    01552443554   \n",
       "4    7/10/2020 13:56:14     Abhipreeti Acharjee   8274839744   \n",
       "13   8/24/2020 18:28:59               Abu Nadif  01730011811   \n",
       "21   7/26/2020 20:25:34    Ajay Kumar Srivastva   7365842980   \n",
       "..                  ...                     ...          ...   \n",
       "943  1/22/2021 22:06:24       Ramanish Banerjee   8017179702   \n",
       "944  1/22/2021 22:46:21          Jinia Banerjee   6289719175   \n",
       "945  1/23/2021 10:57:08        Md Safiqul Islam   8250955315   \n",
       "946  1/23/2021 12:27:32     Soumojit Chatterjee   8101726672   \n",
       "947  1/23/2021 17:37:35  Debanjan Bhattacharjee   6290909245   \n",
       "\n",
       "                                   Email  \\\n",
       "1              sharif3abdullah@gmail.com   \n",
       "2                   abmrifat54@gmail.com   \n",
       "4               deepamandal007@gmail.com   \n",
       "13              abunadif141414@gmail.com   \n",
       "21         subhamsrivastava804@gmail.com   \n",
       "..                                   ...   \n",
       "943           banerjeeramanish@gmail.com   \n",
       "944          jiniabanerjee9727@gmail.com   \n",
       "945           safiqulislam6006@gmail.com   \n",
       "946                 imsoumojit@yahoo.com   \n",
       "947  debanjanbhattacharjee2002@gmail.com   \n",
       "\n",
       "                                               College        Department  \\\n",
       "1                                                  IIT       Engineering   \n",
       "2       Shahjalal University of Science and Technology       Engineering   \n",
       "4    DEPARTMENT OF PURE MATHEMATICS, UNIVERSITY OF ...  PURE MATHEMATICS   \n",
       "13                                                AIUB       Engineering   \n",
       "21                                               DIATM               CSE   \n",
       "..                                                 ...               ...   \n",
       "943                               MAULANA AZAD COLLEGE  Honors (BSC/MSC)   \n",
       "944                               Maulona Azad College  Honors (BSC/MSC)   \n",
       "945                               Maulana Azad College  Honors (BSC/MSC)   \n",
       "946                               Maulana Azad College  Honors (BSC/MSC)   \n",
       "947                               Maulana Azad College  Honors (BSC/MSC)   \n",
       "\n",
       "    HasLaptop Source     Country  \n",
       "1         NaN    NaN  Bangladesh  \n",
       "2         Yes    NaN  Bangladesh  \n",
       "4         Yes    NaN       India  \n",
       "13        Yes    NaN  Bangladesh  \n",
       "21        Yes    NaN       India  \n",
       "..        ...    ...         ...  \n",
       "943       Yes    NaN         NaN  \n",
       "944        No    NaN         NaN  \n",
       "945       Yes    NaN         NaN  \n",
       "946       Yes    NaN         NaN  \n",
       "947       Yes    NaN         NaN  \n",
       "\n",
       "[515 rows x 9 columns]"
      ]
     },
     "execution_count": 73,
     "metadata": {},
     "output_type": "execute_result"
    }
   ],
   "source": [
    "df3[df3['Source'].isnull()]"
   ]
  },
  {
   "cell_type": "code",
   "execution_count": 74,
   "metadata": {},
   "outputs": [],
   "source": [
    "#removing this specifc rows\n",
    "source = df3.dropna(subset=['Source'])"
   ]
  },
  {
   "cell_type": "code",
   "execution_count": 75,
   "metadata": {},
   "outputs": [
    {
     "data": {
      "text/html": [
       "<div>\n",
       "<style scoped>\n",
       "    .dataframe tbody tr th:only-of-type {\n",
       "        vertical-align: middle;\n",
       "    }\n",
       "\n",
       "    .dataframe tbody tr th {\n",
       "        vertical-align: top;\n",
       "    }\n",
       "\n",
       "    .dataframe thead th {\n",
       "        text-align: right;\n",
       "    }\n",
       "</style>\n",
       "<table border=\"1\" class=\"dataframe\">\n",
       "  <thead>\n",
       "    <tr style=\"text-align: right;\">\n",
       "      <th></th>\n",
       "      <th>Timestamp</th>\n",
       "      <th>Name</th>\n",
       "      <th>Contact</th>\n",
       "      <th>Email</th>\n",
       "      <th>College</th>\n",
       "      <th>Department</th>\n",
       "      <th>HasLaptop</th>\n",
       "      <th>Source</th>\n",
       "      <th>Country</th>\n",
       "    </tr>\n",
       "  </thead>\n",
       "  <tbody>\n",
       "  </tbody>\n",
       "</table>\n",
       "</div>"
      ],
      "text/plain": [
       "Empty DataFrame\n",
       "Columns: [Timestamp, Name, Contact, Email, College, Department, HasLaptop, Source, Country]\n",
       "Index: []"
      ]
     },
     "execution_count": 75,
     "metadata": {},
     "output_type": "execute_result"
    }
   ],
   "source": [
    "source[source['Source'].isnull()]"
   ]
  },
  {
   "cell_type": "code",
   "execution_count": 76,
   "metadata": {},
   "outputs": [
    {
     "name": "stdout",
     "output_type": "stream",
     "text": [
      "facebook\n",
      "friend\n",
      "friend\n",
      "friend\n",
      "rohan rakshit\n",
      "rajeswari pal\n",
      "freind\n",
      "via whatsapp message of one of my friend\n",
      "social media\n",
      "facebook\n",
      "friends\n",
      "rohan\n",
      "a friend\n",
      "facebook\n",
      "friend\n",
      "friend\n",
      "whatsapp group\n",
      "rohan\n",
      "rajeswari pal\n",
      "tm sir group\n",
      "sanghamitra majumdar\n",
      "from my friend rupsa\n",
      "social media\n",
      "social media\n",
      "online\n",
      "college, hod\n",
      "whatsapp\n",
      "email\n",
      "whatsapp\n",
      "tuition batch\n",
      "friend\n",
      "from friends circle\n",
      "tulshi sir\n",
      "subhra roy\n",
      "college\n",
      "whatsapp\n",
      "from my statistics teacher.\n",
      "professor\n",
      "linkedin\n",
      "tuition teacher\n",
      "professor\n",
      "a whatsapp group\n",
      "whatsapp\n",
      "whatsapp group\n",
      "from a friend\n",
      "friends\n",
      "a friend\n",
      "rohan rakshit\n",
      "friends\n",
      "nairanjana sarkar\n",
      "facebook event\n",
      "from a friend\n",
      "sister\n",
      "friend\n",
      "college\n",
      "sudip nandi\n",
      "social media\n",
      "my friend told me\n",
      "tuition group\n",
      "naser abdullah alam\n",
      "ankita ghosh\n",
      "newspaper\n",
      "teacher\n",
      "rajeswari pal\n",
      "college\n",
      "rajeshwari pal\n",
      "via friend\n",
      "college friend\n",
      "sanghamitra majumder\n",
      "sanghamitra majumder\n",
      "edc, diatm\n",
      "a friend\n",
      "a status was posted by a senior of my dept.seeing this i would like to\n",
      "through a friend\n",
      "tulsidas mukherjee\n",
      "my friend\n",
      "from tuition\n",
      "professor\n",
      "sanghamitra majumder\n",
      "my college friend\n",
      "friend\n",
      "facebook\n",
      "sanghamitra majumder\n",
      "from classmate\n",
      "hod of our college's statistics department, pp sir\n",
      "sanghamitra majumder\n",
      "friend\n",
      "facebook\n",
      "jobs for nsuers\n",
      "jobs for nsuers\n",
      "facebook post\n",
      "friend\n",
      "college senior\n",
      "teacher\n",
      "nairanjana sarkar\n",
      "fb\n",
      "facebook group\n",
      "debarchan mukherjee\n",
      "friend circle\n",
      "facebook\n",
      "friend\n",
      "my niece\n",
      "friend\n",
      "friend\n",
      "university friend\n",
      "comilla university\n",
      "whatsapp group\n",
      "friend\n",
      "facebook\n",
      "fried\n",
      "teachers\n",
      "softanbees free boot camp program\n",
      "by a friend\n",
      "subham sah/manish kumar\n",
      "facebook\n",
      "facebook groups\n",
      "my friend\n",
      "friend\n",
      "college whatsapp group\n",
      "teacher\n",
      "krisnomita banerjee\n",
      "from my friend\n",
      "from my friend\n",
      "friend\n",
      "whatsapp group\n",
      "friend\n",
      "professor\n",
      "friend\n",
      "friends\n",
      "whatsapp group\n",
      "my friend\n",
      "friend\n",
      "friends\n",
      "my friend\n",
      "cse/eee group bangladesh\n",
      "friends\n",
      "whatsapp group\n",
      "krishnamita banerjee\n",
      "by college\n",
      "friend\n",
      "friend\n",
      "get notified through friends\n",
      "friend\n",
      "my friend\n",
      "fb\n",
      "friend\n",
      "facebook\n",
      "i find this program via facebook event.\n",
      "facebook\n",
      "facebook\n",
      "facebook post from a classmate\n",
      "facebook\n",
      "friend\n",
      "facebook event\n",
      "facebook\n",
      "friend\n",
      "fb\n",
      "fb\n",
      "friend\n",
      "friend\n",
      "from my friend\n",
      "facebook\n",
      "md. rezwan hosaain naeem\n",
      "facebook job group page\n",
      "friend\n",
      "friends\n",
      "friend\n",
      "friends\n",
      "friend\n",
      "friend circle\n",
      "pritama roy\n",
      "dont know\n",
      "facebook\n",
      "one of my teacher told me about this\n",
      "friends\n",
      "friends\n",
      "friend\n",
      "friend\n",
      "friend\n",
      "whatsapp\n",
      "snehashis debnath\n",
      "whatsapp group\n",
      "friends\n",
      "source of reference\n",
      "from friends\n",
      "facebook ads\n",
      "facebook ads\n",
      "from a friend\n",
      "friend\n",
      "through a friend\n",
      "diatm collage\n",
      "college\n",
      "tulsidas sir\n",
      "whatsapp link\n",
      "friend\n",
      "friend\n",
      "college friends\n",
      "through college\n",
      "friend\n",
      "facebook\n",
      "friends\n",
      "friend\n",
      "friend\n",
      "i came to know about this from my friend\n",
      "mail id\n",
      "friend\n",
      "nairanjana sarkar\n",
      "facebook\n",
      "friend\n",
      "friends\n",
      "college friends\n",
      "friends\n",
      "instagram\n",
      "friend's suggestions\n",
      "surjo ghosh\n",
      "friends\n",
      "friend\n",
      "nil\n",
      "friend\n",
      "yes\n",
      "friend\n",
      "no\n",
      "friends\n",
      "friend\n",
      "facebook\n",
      "facebook\n",
      "ankita ghosh\n",
      "email\n",
      "tution teacher prof tulsidas mukherjee\n",
      "facebook\n",
      "from one of my friends who have joined this program\n",
      "friends\n",
      "whatsapp\n",
      "group invite link\n",
      "friends\n",
      "professor\n",
      "soumya dutta\n",
      "tutor\n",
      "college\n",
      "mail\n",
      "whatsapp\n",
      "whatsapp group\n",
      "friend\n",
      "facebook\n",
      "friend\n",
      "friend\n",
      "mr. tulshi das mukherjee\n",
      "frined\n",
      "whatsapp chat\n",
      "softanbees free boot camp program .\n",
      "friends\n",
      "entrepreneurship development cell, diatm\n",
      "whatsapp\n",
      "friend\n",
      "friend\n",
      "college\n",
      "facebook post\n",
      "friend\n",
      "friend\n",
      "rittick npti\n",
      "friend\n",
      "whatsapp\n",
      "whatsapp group\n",
      "college group\n",
      "friend\n",
      "freinds\n",
      "friend\n",
      "friend\n",
      "college\n",
      "one of my friends\n",
      "friend\n",
      "via friend\n",
      "lisha ghosh\n",
      "watsapp\n",
      "manish\n",
      "friend\n",
      "friend\n",
      "tulshidas mukhopadhyay,kolkata\n",
      "tulshidas mukhopadhyay, kolkata\n",
      "whatsapp group\n",
      "student of our institution\n",
      "college whatsapp group\n",
      "friend.\n",
      "from a friend\n",
      "rohan\n",
      "social media\n",
      "friend\n",
      "facebook\n",
      "tution sir\n",
      "linkedin\n",
      "friend\n",
      "soumya brata mahapatra\n",
      "facebook\n",
      "facebook event ad\n",
      "krishnamita banerjee\n",
      "whatsapp\n",
      "friend\n",
      "from a friend\n",
      "my friend\n",
      "friends\n",
      "friend\n",
      "whatapp group\n",
      "my friend\n",
      "college group\n",
      "friend\n",
      "one of my friend\n",
      "link from a friend\n",
      "friend\n",
      "friend\n",
      "tdm sir\n",
      "from the college\n",
      "monojit saha\n",
      "friends' suggestion\n",
      "friend\n",
      "social media\n",
      "krishnamita banerjee\n",
      "friend(ankita ghosh)\n",
      "friends\n",
      "friend\n",
      "internet\n",
      "friends\n",
      "friends\n",
      "whatsapp\n",
      "internet\n",
      "friends\n",
      "friends\n",
      "ftiend\n",
      "my friend\n",
      "other students\n",
      "whatsapp group\n",
      "by a friend\n",
      "college teacher informed us\n",
      "from the whatsapp group\n",
      "friend\n",
      "friend\n",
      "whatsapp\n",
      "krishnamita banerjee\n",
      "from whatsapp group\n",
      "whatsapp\n",
      "friends\n",
      "statistics tuition sir\n",
      "statistics tuition sir (tulsidas mukherjee)\n",
      "friends\n",
      "friend\n",
      "one of my friends\n",
      "friends\n",
      "friend\n",
      "from whatsapp group\n",
      "whatsapp\n",
      "friend\n",
      "ritick sarkar\n",
      "tuition sir\n",
      "friends\n",
      "friends\n",
      "facebook\n",
      "friend\n",
      "friend\n",
      "friend\n",
      "facebook\n",
      "facebook event\n",
      "friends\n",
      "facebook\n",
      "e-leader\n",
      "tuition teacher\n",
      "from teachers\n",
      "whats app group\n",
      "tulsi das mukherjee\n",
      "from a friend\n",
      "what's app reference\n",
      "friend\n",
      "aiub course solution\n",
      "whatsapp group\n",
      "one of my friend informed me about this\n",
      "my friend\n",
      "friend\n",
      "facebook\n",
      "facebook\n",
      "university faculty\n",
      "from varsity group\n",
      "friend\n",
      "my friend...\n",
      "deepa mondal\n",
      "facebook\n",
      "ijaz mahamud fuad\n",
      "friend\n",
      "friend\n",
      "social media\n",
      "frnd\n",
      "friend\n",
      "whatsapp\n",
      "internet\n",
      "college faculties\n",
      "tution sir\n",
      "link from friend\n",
      "webminar\n",
      "facebook\n",
      "facebook event\n",
      "college campus\n",
      "college\n",
      "college\n",
      "college\n",
      "college\n",
      "from teachers of our mca department.\n",
      "college\n",
      "college\n",
      "college\n",
      "college\n",
      "college\n",
      "college\n",
      "facebook page\n",
      "college\n",
      "college\n",
      "college\n",
      "by college\n",
      "college\n",
      "college\n",
      "college facility\n",
      "college\n",
      "college\n",
      "college\n",
      "college\n",
      "college\n",
      "college faculty\n",
      "college whatsapp group\n",
      "college\n",
      "college teacher\n",
      "college\n",
      "college\n",
      "friends\n",
      "college\n",
      "department\n",
      "i got to know about this from my college's ma'am.\n"
     ]
    }
   ],
   "source": [
    "source.Source = source.Source.astype(str)\n",
    "source['Source'] = source.apply(lambda row : lower_string(row['Source']), axis = 1)"
   ]
  },
  {
   "cell_type": "code",
   "execution_count": 77,
   "metadata": {},
   "outputs": [
    {
     "data": {
      "text/html": [
       "<div>\n",
       "<style scoped>\n",
       "    .dataframe tbody tr th:only-of-type {\n",
       "        vertical-align: middle;\n",
       "    }\n",
       "\n",
       "    .dataframe tbody tr th {\n",
       "        vertical-align: top;\n",
       "    }\n",
       "\n",
       "    .dataframe thead th {\n",
       "        text-align: right;\n",
       "    }\n",
       "</style>\n",
       "<table border=\"1\" class=\"dataframe\">\n",
       "  <thead>\n",
       "    <tr style=\"text-align: right;\">\n",
       "      <th></th>\n",
       "      <th>Source</th>\n",
       "    </tr>\n",
       "    <tr>\n",
       "      <th>Source</th>\n",
       "      <th></th>\n",
       "    </tr>\n",
       "  </thead>\n",
       "  <tbody>\n",
       "    <tr>\n",
       "      <th>a friend</th>\n",
       "      <td>3</td>\n",
       "    </tr>\n",
       "    <tr>\n",
       "      <th>a status was posted by a senior of my dept.seeing this i would like to</th>\n",
       "      <td>1</td>\n",
       "    </tr>\n",
       "    <tr>\n",
       "      <th>a whatsapp group</th>\n",
       "      <td>1</td>\n",
       "    </tr>\n",
       "    <tr>\n",
       "      <th>aiub course solution</th>\n",
       "      <td>1</td>\n",
       "    </tr>\n",
       "    <tr>\n",
       "      <th>ankita ghosh</th>\n",
       "      <td>2</td>\n",
       "    </tr>\n",
       "    <tr>\n",
       "      <th>...</th>\n",
       "      <td>...</td>\n",
       "    </tr>\n",
       "    <tr>\n",
       "      <th>whatsapp</th>\n",
       "      <td>15</td>\n",
       "    </tr>\n",
       "    <tr>\n",
       "      <th>whatsapp chat</th>\n",
       "      <td>1</td>\n",
       "    </tr>\n",
       "    <tr>\n",
       "      <th>whatsapp group</th>\n",
       "      <td>12</td>\n",
       "    </tr>\n",
       "    <tr>\n",
       "      <th>whatsapp link</th>\n",
       "      <td>1</td>\n",
       "    </tr>\n",
       "    <tr>\n",
       "      <th>yes</th>\n",
       "      <td>1</td>\n",
       "    </tr>\n",
       "  </tbody>\n",
       "</table>\n",
       "<p>166 rows × 1 columns</p>\n",
       "</div>"
      ],
      "text/plain": [
       "                                                    Source\n",
       "Source                                                    \n",
       "a friend                                                 3\n",
       "a status was posted by a senior of my dept.seei...       1\n",
       "a whatsapp group                                         1\n",
       "aiub course solution                                     1\n",
       "ankita ghosh                                             2\n",
       "...                                                    ...\n",
       "whatsapp                                                15\n",
       "whatsapp chat                                            1\n",
       "whatsapp group                                          12\n",
       "whatsapp link                                            1\n",
       "yes                                                      1\n",
       "\n",
       "[166 rows x 1 columns]"
      ]
     },
     "execution_count": 77,
     "metadata": {},
     "output_type": "execute_result"
    }
   ],
   "source": [
    "source1 = source.groupby('Source')['Source'].agg('count')\n",
    "source2= pd.DataFrame(source1)\n",
    "source2"
   ]
  },
  {
   "cell_type": "code",
   "execution_count": 78,
   "metadata": {},
   "outputs": [
    {
     "data": {
      "text/html": [
       "<div>\n",
       "<style scoped>\n",
       "    .dataframe tbody tr th:only-of-type {\n",
       "        vertical-align: middle;\n",
       "    }\n",
       "\n",
       "    .dataframe tbody tr th {\n",
       "        vertical-align: top;\n",
       "    }\n",
       "\n",
       "    .dataframe thead th {\n",
       "        text-align: right;\n",
       "    }\n",
       "</style>\n",
       "<table border=\"1\" class=\"dataframe\">\n",
       "  <thead>\n",
       "    <tr style=\"text-align: right;\">\n",
       "      <th></th>\n",
       "      <th>counts</th>\n",
       "    </tr>\n",
       "    <tr>\n",
       "      <th>Source</th>\n",
       "      <th></th>\n",
       "    </tr>\n",
       "  </thead>\n",
       "  <tbody>\n",
       "    <tr>\n",
       "      <th>a friend</th>\n",
       "      <td>3</td>\n",
       "    </tr>\n",
       "    <tr>\n",
       "      <th>a status was posted by a senior of my dept.seeing this i would like to</th>\n",
       "      <td>1</td>\n",
       "    </tr>\n",
       "    <tr>\n",
       "      <th>a whatsapp group</th>\n",
       "      <td>1</td>\n",
       "    </tr>\n",
       "    <tr>\n",
       "      <th>aiub course solution</th>\n",
       "      <td>1</td>\n",
       "    </tr>\n",
       "    <tr>\n",
       "      <th>ankita ghosh</th>\n",
       "      <td>2</td>\n",
       "    </tr>\n",
       "    <tr>\n",
       "      <th>...</th>\n",
       "      <td>...</td>\n",
       "    </tr>\n",
       "    <tr>\n",
       "      <th>whatsapp</th>\n",
       "      <td>15</td>\n",
       "    </tr>\n",
       "    <tr>\n",
       "      <th>whatsapp chat</th>\n",
       "      <td>1</td>\n",
       "    </tr>\n",
       "    <tr>\n",
       "      <th>whatsapp group</th>\n",
       "      <td>12</td>\n",
       "    </tr>\n",
       "    <tr>\n",
       "      <th>whatsapp link</th>\n",
       "      <td>1</td>\n",
       "    </tr>\n",
       "    <tr>\n",
       "      <th>yes</th>\n",
       "      <td>1</td>\n",
       "    </tr>\n",
       "  </tbody>\n",
       "</table>\n",
       "<p>166 rows × 1 columns</p>\n",
       "</div>"
      ],
      "text/plain": [
       "                                                    counts\n",
       "Source                                                    \n",
       "a friend                                                 3\n",
       "a status was posted by a senior of my dept.seei...       1\n",
       "a whatsapp group                                         1\n",
       "aiub course solution                                     1\n",
       "ankita ghosh                                             2\n",
       "...                                                    ...\n",
       "whatsapp                                                15\n",
       "whatsapp chat                                            1\n",
       "whatsapp group                                          12\n",
       "whatsapp link                                            1\n",
       "yes                                                      1\n",
       "\n",
       "[166 rows x 1 columns]"
      ]
     },
     "execution_count": 78,
     "metadata": {},
     "output_type": "execute_result"
    }
   ],
   "source": [
    "#renameing to total_counts of department data\n",
    "source2.rename(columns={\"Source\": \"counts\"},inplace=True)\n",
    "source2"
   ]
  },
  {
   "cell_type": "code",
   "execution_count": 79,
   "metadata": {},
   "outputs": [],
   "source": [
    "source2.reset_index(inplace=True)"
   ]
  },
  {
   "cell_type": "code",
   "execution_count": 80,
   "metadata": {},
   "outputs": [
    {
     "data": {
      "text/html": [
       "<div>\n",
       "<style scoped>\n",
       "    .dataframe tbody tr th:only-of-type {\n",
       "        vertical-align: middle;\n",
       "    }\n",
       "\n",
       "    .dataframe tbody tr th {\n",
       "        vertical-align: top;\n",
       "    }\n",
       "\n",
       "    .dataframe thead th {\n",
       "        text-align: right;\n",
       "    }\n",
       "</style>\n",
       "<table border=\"1\" class=\"dataframe\">\n",
       "  <thead>\n",
       "    <tr style=\"text-align: right;\">\n",
       "      <th></th>\n",
       "      <th>Source</th>\n",
       "      <th>counts</th>\n",
       "    </tr>\n",
       "  </thead>\n",
       "  <tbody>\n",
       "    <tr>\n",
       "      <th>0</th>\n",
       "      <td>a friend</td>\n",
       "      <td>3</td>\n",
       "    </tr>\n",
       "    <tr>\n",
       "      <th>1</th>\n",
       "      <td>a status was posted by a senior of my dept.see...</td>\n",
       "      <td>1</td>\n",
       "    </tr>\n",
       "    <tr>\n",
       "      <th>2</th>\n",
       "      <td>a whatsapp group</td>\n",
       "      <td>1</td>\n",
       "    </tr>\n",
       "    <tr>\n",
       "      <th>3</th>\n",
       "      <td>aiub course solution</td>\n",
       "      <td>1</td>\n",
       "    </tr>\n",
       "    <tr>\n",
       "      <th>4</th>\n",
       "      <td>ankita ghosh</td>\n",
       "      <td>2</td>\n",
       "    </tr>\n",
       "    <tr>\n",
       "      <th>...</th>\n",
       "      <td>...</td>\n",
       "      <td>...</td>\n",
       "    </tr>\n",
       "    <tr>\n",
       "      <th>161</th>\n",
       "      <td>whatsapp</td>\n",
       "      <td>15</td>\n",
       "    </tr>\n",
       "    <tr>\n",
       "      <th>162</th>\n",
       "      <td>whatsapp chat</td>\n",
       "      <td>1</td>\n",
       "    </tr>\n",
       "    <tr>\n",
       "      <th>163</th>\n",
       "      <td>whatsapp group</td>\n",
       "      <td>12</td>\n",
       "    </tr>\n",
       "    <tr>\n",
       "      <th>164</th>\n",
       "      <td>whatsapp link</td>\n",
       "      <td>1</td>\n",
       "    </tr>\n",
       "    <tr>\n",
       "      <th>165</th>\n",
       "      <td>yes</td>\n",
       "      <td>1</td>\n",
       "    </tr>\n",
       "  </tbody>\n",
       "</table>\n",
       "<p>166 rows × 2 columns</p>\n",
       "</div>"
      ],
      "text/plain": [
       "                                                Source  counts\n",
       "0                                             a friend       3\n",
       "1    a status was posted by a senior of my dept.see...       1\n",
       "2                                     a whatsapp group       1\n",
       "3                                 aiub course solution       1\n",
       "4                                         ankita ghosh       2\n",
       "..                                                 ...     ...\n",
       "161                                           whatsapp      15\n",
       "162                                      whatsapp chat       1\n",
       "163                                     whatsapp group      12\n",
       "164                                      whatsapp link       1\n",
       "165                                                yes       1\n",
       "\n",
       "[166 rows x 2 columns]"
      ]
     },
     "execution_count": 80,
     "metadata": {},
     "output_type": "execute_result"
    }
   ],
   "source": [
    "source2"
   ]
  },
  {
   "cell_type": "code",
   "execution_count": 81,
   "metadata": {},
   "outputs": [
    {
     "data": {
      "text/html": [
       "<div>\n",
       "<style scoped>\n",
       "    .dataframe tbody tr th:only-of-type {\n",
       "        vertical-align: middle;\n",
       "    }\n",
       "\n",
       "    .dataframe tbody tr th {\n",
       "        vertical-align: top;\n",
       "    }\n",
       "\n",
       "    .dataframe thead th {\n",
       "        text-align: right;\n",
       "    }\n",
       "</style>\n",
       "<table border=\"1\" class=\"dataframe\">\n",
       "  <thead>\n",
       "    <tr style=\"text-align: right;\">\n",
       "      <th></th>\n",
       "      <th>Source</th>\n",
       "      <th>counts</th>\n",
       "    </tr>\n",
       "  </thead>\n",
       "  <tbody>\n",
       "    <tr>\n",
       "      <th>45</th>\n",
       "      <td>friend</td>\n",
       "      <td>82</td>\n",
       "    </tr>\n",
       "    <tr>\n",
       "      <th>50</th>\n",
       "      <td>friends</td>\n",
       "      <td>32</td>\n",
       "    </tr>\n",
       "    <tr>\n",
       "      <th>7</th>\n",
       "      <td>college</td>\n",
       "      <td>31</td>\n",
       "    </tr>\n",
       "    <tr>\n",
       "      <th>31</th>\n",
       "      <td>facebook</td>\n",
       "      <td>30</td>\n",
       "    </tr>\n",
       "    <tr>\n",
       "      <th>161</th>\n",
       "      <td>whatsapp</td>\n",
       "      <td>15</td>\n",
       "    </tr>\n",
       "    <tr>\n",
       "      <th>...</th>\n",
       "      <td>...</td>\n",
       "      <td>...</td>\n",
       "    </tr>\n",
       "    <tr>\n",
       "      <th>59</th>\n",
       "      <td>from my friend rupsa</td>\n",
       "      <td>1</td>\n",
       "    </tr>\n",
       "    <tr>\n",
       "      <th>57</th>\n",
       "      <td>from friends circle</td>\n",
       "      <td>1</td>\n",
       "    </tr>\n",
       "    <tr>\n",
       "      <th>56</th>\n",
       "      <td>from friends</td>\n",
       "      <td>1</td>\n",
       "    </tr>\n",
       "    <tr>\n",
       "      <th>55</th>\n",
       "      <td>from classmate</td>\n",
       "      <td>1</td>\n",
       "    </tr>\n",
       "    <tr>\n",
       "      <th>165</th>\n",
       "      <td>yes</td>\n",
       "      <td>1</td>\n",
       "    </tr>\n",
       "  </tbody>\n",
       "</table>\n",
       "<p>166 rows × 2 columns</p>\n",
       "</div>"
      ],
      "text/plain": [
       "                   Source  counts\n",
       "45                 friend      82\n",
       "50                friends      32\n",
       "7                 college      31\n",
       "31               facebook      30\n",
       "161              whatsapp      15\n",
       "..                    ...     ...\n",
       "59   from my friend rupsa       1\n",
       "57    from friends circle       1\n",
       "56           from friends       1\n",
       "55         from classmate       1\n",
       "165                   yes       1\n",
       "\n",
       "[166 rows x 2 columns]"
      ]
     },
     "execution_count": 81,
     "metadata": {},
     "output_type": "execute_result"
    }
   ],
   "source": [
    "source2.sort_values(\"counts\", ascending=False)"
   ]
  },
  {
   "cell_type": "code",
   "execution_count": 82,
   "metadata": {},
   "outputs": [
    {
     "data": {
      "text/html": [
       "<div>\n",
       "<style scoped>\n",
       "    .dataframe tbody tr th:only-of-type {\n",
       "        vertical-align: middle;\n",
       "    }\n",
       "\n",
       "    .dataframe tbody tr th {\n",
       "        vertical-align: top;\n",
       "    }\n",
       "\n",
       "    .dataframe thead th {\n",
       "        text-align: right;\n",
       "    }\n",
       "</style>\n",
       "<table border=\"1\" class=\"dataframe\">\n",
       "  <thead>\n",
       "    <tr style=\"text-align: right;\">\n",
       "      <th></th>\n",
       "      <th>Source</th>\n",
       "      <th>counts</th>\n",
       "    </tr>\n",
       "  </thead>\n",
       "  <tbody>\n",
       "    <tr>\n",
       "      <th>0</th>\n",
       "      <td>a friend</td>\n",
       "      <td>3</td>\n",
       "    </tr>\n",
       "    <tr>\n",
       "      <th>7</th>\n",
       "      <td>college</td>\n",
       "      <td>31</td>\n",
       "    </tr>\n",
       "    <tr>\n",
       "      <th>18</th>\n",
       "      <td>college whatsapp group</td>\n",
       "      <td>3</td>\n",
       "    </tr>\n",
       "    <tr>\n",
       "      <th>31</th>\n",
       "      <td>facebook</td>\n",
       "      <td>30</td>\n",
       "    </tr>\n",
       "    <tr>\n",
       "      <th>33</th>\n",
       "      <td>facebook event</td>\n",
       "      <td>4</td>\n",
       "    </tr>\n",
       "  </tbody>\n",
       "</table>\n",
       "</div>"
      ],
      "text/plain": [
       "                    Source  counts\n",
       "0                 a friend       3\n",
       "7                  college      31\n",
       "18  college whatsapp group       3\n",
       "31                facebook      30\n",
       "33          facebook event       4"
      ]
     },
     "execution_count": 82,
     "metadata": {},
     "output_type": "execute_result"
    }
   ],
   "source": [
    "source_top = source2[source2['counts'] > 2]\n",
    "source_top.head()"
   ]
  },
  {
   "cell_type": "code",
   "execution_count": 83,
   "metadata": {},
   "outputs": [
    {
     "data": {
      "application/vnd.plotly.v1+json": {
       "config": {
        "linkText": "Export to plot.ly",
        "plotlyServerURL": "https://plot.ly",
        "showLink": false
       },
       "data": [
        {
         "marker": {
          "color": "lightgreen"
         },
         "text": [
          "friend",
          "friends",
          "college",
          "facebook",
          "whatsapp",
          "whatsapp group",
          "my friend",
          "social media",
          "from a friend",
          "sanghamitra majumder",
          "professor",
          "krishnamita banerjee",
          "fb",
          "facebook event",
          "internet",
          "nairanjana sarkar",
          "from my friend",
          "rajeswari pal",
          "rohan",
          "teacher",
          "college whatsapp group",
          "a friend"
         ],
         "type": "bar",
         "x": [
          "friend",
          "friends",
          "college",
          "facebook",
          "whatsapp",
          "whatsapp group",
          "my friend",
          "social media",
          "from a friend",
          "sanghamitra majumder",
          "professor",
          "krishnamita banerjee",
          "fb",
          "facebook event",
          "internet",
          "nairanjana sarkar",
          "from my friend",
          "rajeswari pal",
          "rohan",
          "teacher",
          "college whatsapp group",
          "a friend"
         ],
         "y": [
          82,
          32,
          31,
          30,
          15,
          12,
          9,
          7,
          6,
          5,
          5,
          4,
          4,
          4,
          3,
          3,
          3,
          3,
          3,
          3,
          3,
          3
         ]
        }
       ],
       "layout": {
        "hovermode": "closest",
        "paper_bgcolor": "rgba(0, 0, 0, 0)",
        "plot_bgcolor": "rgba(0, 0, 0, 0)",
        "template": {
         "data": {
          "bar": [
           {
            "error_x": {
             "color": "#2a3f5f"
            },
            "error_y": {
             "color": "#2a3f5f"
            },
            "marker": {
             "line": {
              "color": "#E5ECF6",
              "width": 0.5
             }
            },
            "type": "bar"
           }
          ],
          "barpolar": [
           {
            "marker": {
             "line": {
              "color": "#E5ECF6",
              "width": 0.5
             }
            },
            "type": "barpolar"
           }
          ],
          "carpet": [
           {
            "aaxis": {
             "endlinecolor": "#2a3f5f",
             "gridcolor": "white",
             "linecolor": "white",
             "minorgridcolor": "white",
             "startlinecolor": "#2a3f5f"
            },
            "baxis": {
             "endlinecolor": "#2a3f5f",
             "gridcolor": "white",
             "linecolor": "white",
             "minorgridcolor": "white",
             "startlinecolor": "#2a3f5f"
            },
            "type": "carpet"
           }
          ],
          "choropleth": [
           {
            "colorbar": {
             "outlinewidth": 0,
             "ticks": ""
            },
            "type": "choropleth"
           }
          ],
          "contour": [
           {
            "colorbar": {
             "outlinewidth": 0,
             "ticks": ""
            },
            "colorscale": [
             [
              0,
              "#0d0887"
             ],
             [
              0.1111111111111111,
              "#46039f"
             ],
             [
              0.2222222222222222,
              "#7201a8"
             ],
             [
              0.3333333333333333,
              "#9c179e"
             ],
             [
              0.4444444444444444,
              "#bd3786"
             ],
             [
              0.5555555555555556,
              "#d8576b"
             ],
             [
              0.6666666666666666,
              "#ed7953"
             ],
             [
              0.7777777777777778,
              "#fb9f3a"
             ],
             [
              0.8888888888888888,
              "#fdca26"
             ],
             [
              1,
              "#f0f921"
             ]
            ],
            "type": "contour"
           }
          ],
          "contourcarpet": [
           {
            "colorbar": {
             "outlinewidth": 0,
             "ticks": ""
            },
            "type": "contourcarpet"
           }
          ],
          "heatmap": [
           {
            "colorbar": {
             "outlinewidth": 0,
             "ticks": ""
            },
            "colorscale": [
             [
              0,
              "#0d0887"
             ],
             [
              0.1111111111111111,
              "#46039f"
             ],
             [
              0.2222222222222222,
              "#7201a8"
             ],
             [
              0.3333333333333333,
              "#9c179e"
             ],
             [
              0.4444444444444444,
              "#bd3786"
             ],
             [
              0.5555555555555556,
              "#d8576b"
             ],
             [
              0.6666666666666666,
              "#ed7953"
             ],
             [
              0.7777777777777778,
              "#fb9f3a"
             ],
             [
              0.8888888888888888,
              "#fdca26"
             ],
             [
              1,
              "#f0f921"
             ]
            ],
            "type": "heatmap"
           }
          ],
          "heatmapgl": [
           {
            "colorbar": {
             "outlinewidth": 0,
             "ticks": ""
            },
            "colorscale": [
             [
              0,
              "#0d0887"
             ],
             [
              0.1111111111111111,
              "#46039f"
             ],
             [
              0.2222222222222222,
              "#7201a8"
             ],
             [
              0.3333333333333333,
              "#9c179e"
             ],
             [
              0.4444444444444444,
              "#bd3786"
             ],
             [
              0.5555555555555556,
              "#d8576b"
             ],
             [
              0.6666666666666666,
              "#ed7953"
             ],
             [
              0.7777777777777778,
              "#fb9f3a"
             ],
             [
              0.8888888888888888,
              "#fdca26"
             ],
             [
              1,
              "#f0f921"
             ]
            ],
            "type": "heatmapgl"
           }
          ],
          "histogram": [
           {
            "marker": {
             "colorbar": {
              "outlinewidth": 0,
              "ticks": ""
             }
            },
            "type": "histogram"
           }
          ],
          "histogram2d": [
           {
            "colorbar": {
             "outlinewidth": 0,
             "ticks": ""
            },
            "colorscale": [
             [
              0,
              "#0d0887"
             ],
             [
              0.1111111111111111,
              "#46039f"
             ],
             [
              0.2222222222222222,
              "#7201a8"
             ],
             [
              0.3333333333333333,
              "#9c179e"
             ],
             [
              0.4444444444444444,
              "#bd3786"
             ],
             [
              0.5555555555555556,
              "#d8576b"
             ],
             [
              0.6666666666666666,
              "#ed7953"
             ],
             [
              0.7777777777777778,
              "#fb9f3a"
             ],
             [
              0.8888888888888888,
              "#fdca26"
             ],
             [
              1,
              "#f0f921"
             ]
            ],
            "type": "histogram2d"
           }
          ],
          "histogram2dcontour": [
           {
            "colorbar": {
             "outlinewidth": 0,
             "ticks": ""
            },
            "colorscale": [
             [
              0,
              "#0d0887"
             ],
             [
              0.1111111111111111,
              "#46039f"
             ],
             [
              0.2222222222222222,
              "#7201a8"
             ],
             [
              0.3333333333333333,
              "#9c179e"
             ],
             [
              0.4444444444444444,
              "#bd3786"
             ],
             [
              0.5555555555555556,
              "#d8576b"
             ],
             [
              0.6666666666666666,
              "#ed7953"
             ],
             [
              0.7777777777777778,
              "#fb9f3a"
             ],
             [
              0.8888888888888888,
              "#fdca26"
             ],
             [
              1,
              "#f0f921"
             ]
            ],
            "type": "histogram2dcontour"
           }
          ],
          "mesh3d": [
           {
            "colorbar": {
             "outlinewidth": 0,
             "ticks": ""
            },
            "type": "mesh3d"
           }
          ],
          "parcoords": [
           {
            "line": {
             "colorbar": {
              "outlinewidth": 0,
              "ticks": ""
             }
            },
            "type": "parcoords"
           }
          ],
          "pie": [
           {
            "automargin": true,
            "type": "pie"
           }
          ],
          "scatter": [
           {
            "marker": {
             "colorbar": {
              "outlinewidth": 0,
              "ticks": ""
             }
            },
            "type": "scatter"
           }
          ],
          "scatter3d": [
           {
            "line": {
             "colorbar": {
              "outlinewidth": 0,
              "ticks": ""
             }
            },
            "marker": {
             "colorbar": {
              "outlinewidth": 0,
              "ticks": ""
             }
            },
            "type": "scatter3d"
           }
          ],
          "scattercarpet": [
           {
            "marker": {
             "colorbar": {
              "outlinewidth": 0,
              "ticks": ""
             }
            },
            "type": "scattercarpet"
           }
          ],
          "scattergeo": [
           {
            "marker": {
             "colorbar": {
              "outlinewidth": 0,
              "ticks": ""
             }
            },
            "type": "scattergeo"
           }
          ],
          "scattergl": [
           {
            "marker": {
             "colorbar": {
              "outlinewidth": 0,
              "ticks": ""
             }
            },
            "type": "scattergl"
           }
          ],
          "scattermapbox": [
           {
            "marker": {
             "colorbar": {
              "outlinewidth": 0,
              "ticks": ""
             }
            },
            "type": "scattermapbox"
           }
          ],
          "scatterpolar": [
           {
            "marker": {
             "colorbar": {
              "outlinewidth": 0,
              "ticks": ""
             }
            },
            "type": "scatterpolar"
           }
          ],
          "scatterpolargl": [
           {
            "marker": {
             "colorbar": {
              "outlinewidth": 0,
              "ticks": ""
             }
            },
            "type": "scatterpolargl"
           }
          ],
          "scatterternary": [
           {
            "marker": {
             "colorbar": {
              "outlinewidth": 0,
              "ticks": ""
             }
            },
            "type": "scatterternary"
           }
          ],
          "surface": [
           {
            "colorbar": {
             "outlinewidth": 0,
             "ticks": ""
            },
            "colorscale": [
             [
              0,
              "#0d0887"
             ],
             [
              0.1111111111111111,
              "#46039f"
             ],
             [
              0.2222222222222222,
              "#7201a8"
             ],
             [
              0.3333333333333333,
              "#9c179e"
             ],
             [
              0.4444444444444444,
              "#bd3786"
             ],
             [
              0.5555555555555556,
              "#d8576b"
             ],
             [
              0.6666666666666666,
              "#ed7953"
             ],
             [
              0.7777777777777778,
              "#fb9f3a"
             ],
             [
              0.8888888888888888,
              "#fdca26"
             ],
             [
              1,
              "#f0f921"
             ]
            ],
            "type": "surface"
           }
          ],
          "table": [
           {
            "cells": {
             "fill": {
              "color": "#EBF0F8"
             },
             "line": {
              "color": "white"
             }
            },
            "header": {
             "fill": {
              "color": "#C8D4E3"
             },
             "line": {
              "color": "white"
             }
            },
            "type": "table"
           }
          ]
         },
         "layout": {
          "annotationdefaults": {
           "arrowcolor": "#2a3f5f",
           "arrowhead": 0,
           "arrowwidth": 1
          },
          "autotypenumbers": "strict",
          "coloraxis": {
           "colorbar": {
            "outlinewidth": 0,
            "ticks": ""
           }
          },
          "colorscale": {
           "diverging": [
            [
             0,
             "#8e0152"
            ],
            [
             0.1,
             "#c51b7d"
            ],
            [
             0.2,
             "#de77ae"
            ],
            [
             0.3,
             "#f1b6da"
            ],
            [
             0.4,
             "#fde0ef"
            ],
            [
             0.5,
             "#f7f7f7"
            ],
            [
             0.6,
             "#e6f5d0"
            ],
            [
             0.7,
             "#b8e186"
            ],
            [
             0.8,
             "#7fbc41"
            ],
            [
             0.9,
             "#4d9221"
            ],
            [
             1,
             "#276419"
            ]
           ],
           "sequential": [
            [
             0,
             "#0d0887"
            ],
            [
             0.1111111111111111,
             "#46039f"
            ],
            [
             0.2222222222222222,
             "#7201a8"
            ],
            [
             0.3333333333333333,
             "#9c179e"
            ],
            [
             0.4444444444444444,
             "#bd3786"
            ],
            [
             0.5555555555555556,
             "#d8576b"
            ],
            [
             0.6666666666666666,
             "#ed7953"
            ],
            [
             0.7777777777777778,
             "#fb9f3a"
            ],
            [
             0.8888888888888888,
             "#fdca26"
            ],
            [
             1,
             "#f0f921"
            ]
           ],
           "sequentialminus": [
            [
             0,
             "#0d0887"
            ],
            [
             0.1111111111111111,
             "#46039f"
            ],
            [
             0.2222222222222222,
             "#7201a8"
            ],
            [
             0.3333333333333333,
             "#9c179e"
            ],
            [
             0.4444444444444444,
             "#bd3786"
            ],
            [
             0.5555555555555556,
             "#d8576b"
            ],
            [
             0.6666666666666666,
             "#ed7953"
            ],
            [
             0.7777777777777778,
             "#fb9f3a"
            ],
            [
             0.8888888888888888,
             "#fdca26"
            ],
            [
             1,
             "#f0f921"
            ]
           ]
          },
          "colorway": [
           "#636efa",
           "#EF553B",
           "#00cc96",
           "#ab63fa",
           "#FFA15A",
           "#19d3f3",
           "#FF6692",
           "#B6E880",
           "#FF97FF",
           "#FECB52"
          ],
          "font": {
           "color": "#2a3f5f"
          },
          "geo": {
           "bgcolor": "white",
           "lakecolor": "white",
           "landcolor": "#E5ECF6",
           "showlakes": true,
           "showland": true,
           "subunitcolor": "white"
          },
          "hoverlabel": {
           "align": "left"
          },
          "hovermode": "closest",
          "mapbox": {
           "style": "light"
          },
          "paper_bgcolor": "white",
          "plot_bgcolor": "#E5ECF6",
          "polar": {
           "angularaxis": {
            "gridcolor": "white",
            "linecolor": "white",
            "ticks": ""
           },
           "bgcolor": "#E5ECF6",
           "radialaxis": {
            "gridcolor": "white",
            "linecolor": "white",
            "ticks": ""
           }
          },
          "scene": {
           "xaxis": {
            "backgroundcolor": "#E5ECF6",
            "gridcolor": "white",
            "gridwidth": 2,
            "linecolor": "white",
            "showbackground": true,
            "ticks": "",
            "zerolinecolor": "white"
           },
           "yaxis": {
            "backgroundcolor": "#E5ECF6",
            "gridcolor": "white",
            "gridwidth": 2,
            "linecolor": "white",
            "showbackground": true,
            "ticks": "",
            "zerolinecolor": "white"
           },
           "zaxis": {
            "backgroundcolor": "#E5ECF6",
            "gridcolor": "white",
            "gridwidth": 2,
            "linecolor": "white",
            "showbackground": true,
            "ticks": "",
            "zerolinecolor": "white"
           }
          },
          "shapedefaults": {
           "line": {
            "color": "#2a3f5f"
           }
          },
          "ternary": {
           "aaxis": {
            "gridcolor": "white",
            "linecolor": "white",
            "ticks": ""
           },
           "baxis": {
            "gridcolor": "white",
            "linecolor": "white",
            "ticks": ""
           },
           "bgcolor": "#E5ECF6",
           "caxis": {
            "gridcolor": "white",
            "linecolor": "white",
            "ticks": ""
           }
          },
          "title": {
           "x": 0.05
          },
          "xaxis": {
           "automargin": true,
           "gridcolor": "white",
           "linecolor": "white",
           "ticks": "",
           "title": {
            "standoff": 15
           },
           "zerolinecolor": "white",
           "zerolinewidth": 2
          },
          "yaxis": {
           "automargin": true,
           "gridcolor": "white",
           "linecolor": "white",
           "ticks": "",
           "title": {
            "standoff": 15
           },
           "zerolinecolor": "white",
           "zerolinewidth": 2
          }
         }
        },
        "title": {
         "text": "how did you know about us from free session student"
        },
        "xaxis": {
         "linecolor": "black",
         "linewidth": 2,
         "mirror": true,
         "showline": true,
         "showticklabels": true,
         "tickangle": 45,
         "tickfont": {
          "color": "red",
          "size": 10
         },
         "title": {
          "text": "Name of the Source"
         },
         "zeroline": true,
         "zerolinecolor": "grey",
         "zerolinewidth": 1
        },
        "yaxis": {
         "gridcolor": "lightgrey",
         "linecolor": "black",
         "linewidth": 2,
         "mirror": true,
         "showline": true,
         "title": {
          "text": "Total Students"
         },
         "zeroline": true,
         "zerolinecolor": "grey",
         "zerolinewidth": 1
        }
       }
      },
      "text/html": [
       "<div>                            <div id=\"f56f1ad8-8435-4b9b-bab4-bfac719ed9c5\" class=\"plotly-graph-div\" style=\"height:525px; width:100%;\"></div>            <script type=\"text/javascript\">                require([\"plotly\"], function(Plotly) {                    window.PLOTLYENV=window.PLOTLYENV || {};                                    if (document.getElementById(\"f56f1ad8-8435-4b9b-bab4-bfac719ed9c5\")) {                    Plotly.newPlot(                        \"f56f1ad8-8435-4b9b-bab4-bfac719ed9c5\",                        [{\"marker\": {\"color\": \"lightgreen\"}, \"text\": [\"friend\", \"friends\", \"college\", \"facebook\", \"whatsapp\", \"whatsapp group\", \"my friend\", \"social media\", \"from a friend\", \"sanghamitra majumder\", \"professor\", \"krishnamita banerjee\", \"fb\", \"facebook event\", \"internet\", \"nairanjana sarkar\", \"from my friend\", \"rajeswari pal\", \"rohan\", \"teacher\", \"college whatsapp group\", \"a friend\"], \"type\": \"bar\", \"x\": [\"friend\", \"friends\", \"college\", \"facebook\", \"whatsapp\", \"whatsapp group\", \"my friend\", \"social media\", \"from a friend\", \"sanghamitra majumder\", \"professor\", \"krishnamita banerjee\", \"fb\", \"facebook event\", \"internet\", \"nairanjana sarkar\", \"from my friend\", \"rajeswari pal\", \"rohan\", \"teacher\", \"college whatsapp group\", \"a friend\"], \"y\": [82, 32, 31, 30, 15, 12, 9, 7, 6, 5, 5, 4, 4, 4, 3, 3, 3, 3, 3, 3, 3, 3]}],                        {\"hovermode\": \"closest\", \"paper_bgcolor\": \"rgba(0, 0, 0, 0)\", \"plot_bgcolor\": \"rgba(0, 0, 0, 0)\", \"template\": {\"data\": {\"bar\": [{\"error_x\": {\"color\": \"#2a3f5f\"}, \"error_y\": {\"color\": \"#2a3f5f\"}, \"marker\": {\"line\": {\"color\": \"#E5ECF6\", \"width\": 0.5}}, \"type\": \"bar\"}], \"barpolar\": [{\"marker\": {\"line\": {\"color\": \"#E5ECF6\", \"width\": 0.5}}, \"type\": \"barpolar\"}], \"carpet\": [{\"aaxis\": {\"endlinecolor\": \"#2a3f5f\", \"gridcolor\": \"white\", \"linecolor\": \"white\", \"minorgridcolor\": \"white\", \"startlinecolor\": \"#2a3f5f\"}, \"baxis\": {\"endlinecolor\": \"#2a3f5f\", \"gridcolor\": \"white\", \"linecolor\": \"white\", \"minorgridcolor\": \"white\", \"startlinecolor\": \"#2a3f5f\"}, \"type\": \"carpet\"}], \"choropleth\": [{\"colorbar\": {\"outlinewidth\": 0, \"ticks\": \"\"}, \"type\": \"choropleth\"}], \"contour\": [{\"colorbar\": {\"outlinewidth\": 0, \"ticks\": \"\"}, \"colorscale\": [[0.0, \"#0d0887\"], [0.1111111111111111, \"#46039f\"], [0.2222222222222222, \"#7201a8\"], [0.3333333333333333, \"#9c179e\"], [0.4444444444444444, \"#bd3786\"], [0.5555555555555556, \"#d8576b\"], [0.6666666666666666, \"#ed7953\"], [0.7777777777777778, \"#fb9f3a\"], [0.8888888888888888, \"#fdca26\"], [1.0, \"#f0f921\"]], \"type\": \"contour\"}], \"contourcarpet\": [{\"colorbar\": {\"outlinewidth\": 0, \"ticks\": \"\"}, \"type\": \"contourcarpet\"}], \"heatmap\": [{\"colorbar\": {\"outlinewidth\": 0, \"ticks\": \"\"}, \"colorscale\": [[0.0, \"#0d0887\"], [0.1111111111111111, \"#46039f\"], [0.2222222222222222, \"#7201a8\"], [0.3333333333333333, \"#9c179e\"], [0.4444444444444444, \"#bd3786\"], [0.5555555555555556, \"#d8576b\"], [0.6666666666666666, \"#ed7953\"], [0.7777777777777778, \"#fb9f3a\"], [0.8888888888888888, \"#fdca26\"], [1.0, \"#f0f921\"]], \"type\": \"heatmap\"}], \"heatmapgl\": [{\"colorbar\": {\"outlinewidth\": 0, \"ticks\": \"\"}, \"colorscale\": [[0.0, \"#0d0887\"], [0.1111111111111111, \"#46039f\"], [0.2222222222222222, \"#7201a8\"], [0.3333333333333333, \"#9c179e\"], [0.4444444444444444, \"#bd3786\"], [0.5555555555555556, \"#d8576b\"], [0.6666666666666666, \"#ed7953\"], [0.7777777777777778, \"#fb9f3a\"], [0.8888888888888888, \"#fdca26\"], [1.0, \"#f0f921\"]], \"type\": \"heatmapgl\"}], \"histogram\": [{\"marker\": {\"colorbar\": {\"outlinewidth\": 0, \"ticks\": \"\"}}, \"type\": \"histogram\"}], \"histogram2d\": [{\"colorbar\": {\"outlinewidth\": 0, \"ticks\": \"\"}, \"colorscale\": [[0.0, \"#0d0887\"], [0.1111111111111111, \"#46039f\"], [0.2222222222222222, \"#7201a8\"], [0.3333333333333333, \"#9c179e\"], [0.4444444444444444, \"#bd3786\"], [0.5555555555555556, \"#d8576b\"], [0.6666666666666666, \"#ed7953\"], [0.7777777777777778, \"#fb9f3a\"], [0.8888888888888888, \"#fdca26\"], [1.0, \"#f0f921\"]], \"type\": \"histogram2d\"}], \"histogram2dcontour\": [{\"colorbar\": {\"outlinewidth\": 0, \"ticks\": \"\"}, \"colorscale\": [[0.0, \"#0d0887\"], [0.1111111111111111, \"#46039f\"], [0.2222222222222222, \"#7201a8\"], [0.3333333333333333, \"#9c179e\"], [0.4444444444444444, \"#bd3786\"], [0.5555555555555556, \"#d8576b\"], [0.6666666666666666, \"#ed7953\"], [0.7777777777777778, \"#fb9f3a\"], [0.8888888888888888, \"#fdca26\"], [1.0, \"#f0f921\"]], \"type\": \"histogram2dcontour\"}], \"mesh3d\": [{\"colorbar\": {\"outlinewidth\": 0, \"ticks\": \"\"}, \"type\": \"mesh3d\"}], \"parcoords\": [{\"line\": {\"colorbar\": {\"outlinewidth\": 0, \"ticks\": \"\"}}, \"type\": \"parcoords\"}], \"pie\": [{\"automargin\": true, \"type\": \"pie\"}], \"scatter\": [{\"marker\": {\"colorbar\": {\"outlinewidth\": 0, \"ticks\": \"\"}}, \"type\": \"scatter\"}], \"scatter3d\": [{\"line\": {\"colorbar\": {\"outlinewidth\": 0, \"ticks\": \"\"}}, \"marker\": {\"colorbar\": {\"outlinewidth\": 0, \"ticks\": \"\"}}, \"type\": \"scatter3d\"}], \"scattercarpet\": [{\"marker\": {\"colorbar\": {\"outlinewidth\": 0, \"ticks\": \"\"}}, \"type\": \"scattercarpet\"}], \"scattergeo\": [{\"marker\": {\"colorbar\": {\"outlinewidth\": 0, \"ticks\": \"\"}}, \"type\": \"scattergeo\"}], \"scattergl\": [{\"marker\": {\"colorbar\": {\"outlinewidth\": 0, \"ticks\": \"\"}}, \"type\": \"scattergl\"}], \"scattermapbox\": [{\"marker\": {\"colorbar\": {\"outlinewidth\": 0, \"ticks\": \"\"}}, \"type\": \"scattermapbox\"}], \"scatterpolar\": [{\"marker\": {\"colorbar\": {\"outlinewidth\": 0, \"ticks\": \"\"}}, \"type\": \"scatterpolar\"}], \"scatterpolargl\": [{\"marker\": {\"colorbar\": {\"outlinewidth\": 0, \"ticks\": \"\"}}, \"type\": \"scatterpolargl\"}], \"scatterternary\": [{\"marker\": {\"colorbar\": {\"outlinewidth\": 0, \"ticks\": \"\"}}, \"type\": \"scatterternary\"}], \"surface\": [{\"colorbar\": {\"outlinewidth\": 0, \"ticks\": \"\"}, \"colorscale\": [[0.0, \"#0d0887\"], [0.1111111111111111, \"#46039f\"], [0.2222222222222222, \"#7201a8\"], [0.3333333333333333, \"#9c179e\"], [0.4444444444444444, \"#bd3786\"], [0.5555555555555556, \"#d8576b\"], [0.6666666666666666, \"#ed7953\"], [0.7777777777777778, \"#fb9f3a\"], [0.8888888888888888, \"#fdca26\"], [1.0, \"#f0f921\"]], \"type\": \"surface\"}], \"table\": [{\"cells\": {\"fill\": {\"color\": \"#EBF0F8\"}, \"line\": {\"color\": \"white\"}}, \"header\": {\"fill\": {\"color\": \"#C8D4E3\"}, \"line\": {\"color\": \"white\"}}, \"type\": \"table\"}]}, \"layout\": {\"annotationdefaults\": {\"arrowcolor\": \"#2a3f5f\", \"arrowhead\": 0, \"arrowwidth\": 1}, \"autotypenumbers\": \"strict\", \"coloraxis\": {\"colorbar\": {\"outlinewidth\": 0, \"ticks\": \"\"}}, \"colorscale\": {\"diverging\": [[0, \"#8e0152\"], [0.1, \"#c51b7d\"], [0.2, \"#de77ae\"], [0.3, \"#f1b6da\"], [0.4, \"#fde0ef\"], [0.5, \"#f7f7f7\"], [0.6, \"#e6f5d0\"], [0.7, \"#b8e186\"], [0.8, \"#7fbc41\"], [0.9, \"#4d9221\"], [1, \"#276419\"]], \"sequential\": [[0.0, \"#0d0887\"], [0.1111111111111111, \"#46039f\"], [0.2222222222222222, \"#7201a8\"], [0.3333333333333333, \"#9c179e\"], [0.4444444444444444, \"#bd3786\"], [0.5555555555555556, \"#d8576b\"], [0.6666666666666666, \"#ed7953\"], [0.7777777777777778, \"#fb9f3a\"], [0.8888888888888888, \"#fdca26\"], [1.0, \"#f0f921\"]], \"sequentialminus\": [[0.0, \"#0d0887\"], [0.1111111111111111, \"#46039f\"], [0.2222222222222222, \"#7201a8\"], [0.3333333333333333, \"#9c179e\"], [0.4444444444444444, \"#bd3786\"], [0.5555555555555556, \"#d8576b\"], [0.6666666666666666, \"#ed7953\"], [0.7777777777777778, \"#fb9f3a\"], [0.8888888888888888, \"#fdca26\"], [1.0, \"#f0f921\"]]}, \"colorway\": [\"#636efa\", \"#EF553B\", \"#00cc96\", \"#ab63fa\", \"#FFA15A\", \"#19d3f3\", \"#FF6692\", \"#B6E880\", \"#FF97FF\", \"#FECB52\"], \"font\": {\"color\": \"#2a3f5f\"}, \"geo\": {\"bgcolor\": \"white\", \"lakecolor\": \"white\", \"landcolor\": \"#E5ECF6\", \"showlakes\": true, \"showland\": true, \"subunitcolor\": \"white\"}, \"hoverlabel\": {\"align\": \"left\"}, \"hovermode\": \"closest\", \"mapbox\": {\"style\": \"light\"}, \"paper_bgcolor\": \"white\", \"plot_bgcolor\": \"#E5ECF6\", \"polar\": {\"angularaxis\": {\"gridcolor\": \"white\", \"linecolor\": \"white\", \"ticks\": \"\"}, \"bgcolor\": \"#E5ECF6\", \"radialaxis\": {\"gridcolor\": \"white\", \"linecolor\": \"white\", \"ticks\": \"\"}}, \"scene\": {\"xaxis\": {\"backgroundcolor\": \"#E5ECF6\", \"gridcolor\": \"white\", \"gridwidth\": 2, \"linecolor\": \"white\", \"showbackground\": true, \"ticks\": \"\", \"zerolinecolor\": \"white\"}, \"yaxis\": {\"backgroundcolor\": \"#E5ECF6\", \"gridcolor\": \"white\", \"gridwidth\": 2, \"linecolor\": \"white\", \"showbackground\": true, \"ticks\": \"\", \"zerolinecolor\": \"white\"}, \"zaxis\": {\"backgroundcolor\": \"#E5ECF6\", \"gridcolor\": \"white\", \"gridwidth\": 2, \"linecolor\": \"white\", \"showbackground\": true, \"ticks\": \"\", \"zerolinecolor\": \"white\"}}, \"shapedefaults\": {\"line\": {\"color\": \"#2a3f5f\"}}, \"ternary\": {\"aaxis\": {\"gridcolor\": \"white\", \"linecolor\": \"white\", \"ticks\": \"\"}, \"baxis\": {\"gridcolor\": \"white\", \"linecolor\": \"white\", \"ticks\": \"\"}, \"bgcolor\": \"#E5ECF6\", \"caxis\": {\"gridcolor\": \"white\", \"linecolor\": \"white\", \"ticks\": \"\"}}, \"title\": {\"x\": 0.05}, \"xaxis\": {\"automargin\": true, \"gridcolor\": \"white\", \"linecolor\": \"white\", \"ticks\": \"\", \"title\": {\"standoff\": 15}, \"zerolinecolor\": \"white\", \"zerolinewidth\": 2}, \"yaxis\": {\"automargin\": true, \"gridcolor\": \"white\", \"linecolor\": \"white\", \"ticks\": \"\", \"title\": {\"standoff\": 15}, \"zerolinecolor\": \"white\", \"zerolinewidth\": 2}}}, \"title\": {\"text\": \"how did you know about us from free session student\"}, \"xaxis\": {\"linecolor\": \"black\", \"linewidth\": 2, \"mirror\": true, \"showline\": true, \"showticklabels\": true, \"tickangle\": 45, \"tickfont\": {\"color\": \"red\", \"size\": 10}, \"title\": {\"text\": \"Name of the Source\"}, \"zeroline\": true, \"zerolinecolor\": \"grey\", \"zerolinewidth\": 1}, \"yaxis\": {\"gridcolor\": \"lightgrey\", \"linecolor\": \"black\", \"linewidth\": 2, \"mirror\": true, \"showline\": true, \"title\": {\"text\": \"Total Students\"}, \"zeroline\": true, \"zerolinecolor\": \"grey\", \"zerolinewidth\": 1}},                        {\"responsive\": true}                    ).then(function(){\n",
       "                            \n",
       "var gd = document.getElementById('f56f1ad8-8435-4b9b-bab4-bfac719ed9c5');\n",
       "var x = new MutationObserver(function (mutations, observer) {{\n",
       "        var display = window.getComputedStyle(gd).display;\n",
       "        if (!display || display === 'none') {{\n",
       "            console.log([gd, 'removed!']);\n",
       "            Plotly.purge(gd);\n",
       "            observer.disconnect();\n",
       "        }}\n",
       "}});\n",
       "\n",
       "// Listen for the removal of the full notebook cells\n",
       "var notebookContainer = gd.closest('#notebook-container');\n",
       "if (notebookContainer) {{\n",
       "    x.observe(notebookContainer, {childList: true});\n",
       "}}\n",
       "\n",
       "// Listen for the clearing of the current output cell\n",
       "var outputEl = gd.closest('.output');\n",
       "if (outputEl) {{\n",
       "    x.observe(outputEl, {childList: true});\n",
       "}}\n",
       "\n",
       "                        })                };                });            </script>        </div>"
      ]
     },
     "metadata": {},
     "output_type": "display_data"
    }
   ],
   "source": [
    "draw_trace_bar(source_top,'Source','counts','how did you know about us from free session student', 'Name of the Source','Total Students',\"lightgreen\")"
   ]
  }
 ],
 "metadata": {
  "kernelspec": {
   "display_name": "Python 3",
   "language": "python",
   "name": "python3"
  },
  "language_info": {
   "codemirror_mode": {
    "name": "ipython",
    "version": 3
   },
   "file_extension": ".py",
   "mimetype": "text/x-python",
   "name": "python",
   "nbconvert_exporter": "python",
   "pygments_lexer": "ipython3",
   "version": "3.8.3"
  }
 },
 "nbformat": 4,
 "nbformat_minor": 4
}
